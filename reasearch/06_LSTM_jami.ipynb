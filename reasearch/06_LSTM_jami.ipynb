{
 "cells": [
  {
   "cell_type": "code",
   "execution_count": 171,
   "metadata": {},
   "outputs": [],
   "source": [
    "import numpy as np\n",
    "import pandas as pd\n",
    "import tensorflow as tf\n",
    "from tensorflow.keras.models import Sequential\n",
    "from sklearn.preprocessing import MinMaxScaler\n",
    "import xarray as xr\n",
    "import plotly.express as px\n",
    "import statsmodels.formula.api as smf\n",
    "from tqdm import tqdm\n",
    "from datetime import datetime\n",
    "from tensorflow.keras.layers import LSTM, Dropout, Dense, BatchNormalization, Input\n",
    "from tensorflow.keras.callbacks import EarlyStopping\n",
    "from keras.layers import Input\n",
    "import os\n",
    "from itertools import product\n",
    "from sklearn.decomposition import PCA\n",
    "from sklearn.preprocessing import StandardScaler\n",
    "from sklearn.pipeline import Pipeline\n"
   ]
  },
  {
   "cell_type": "markdown",
   "metadata": {},
   "source": [
    "# Remit"
   ]
  },
  {
   "cell_type": "code",
   "execution_count": 172,
   "metadata": {},
   "outputs": [],
   "source": [
    "# Ordnerpfad zu den CSV-Dateien\n",
    "csv_folder = 'data/Json_Dateien'\n",
    "\n",
    "# Leere Liste zum Speichern der DataFrames\n",
    "dataframes = []\n",
    "\n",
    "# Alle CSV-Dateien im Ordner einlesen\n",
    "for filename in os.listdir(csv_folder):\n",
    "    if filename.endswith('.csv'):\n",
    "        csv_file = os.path.join(csv_folder, filename)  # Vollständiger Pfad zur CSV-Datei\n",
    "        df = pd.read_csv(csv_file)  # Einlesen der CSV-Datei\n",
    "        dataframes.append(df)  # Hinzufügen des DataFrames zur Liste\n",
    "\n",
    "# Alle DataFrames zu einem einzigen DataFrame zusammenführen\n",
    "df = pd.concat(dataframes, ignore_index=True)"
   ]
  },
  {
   "cell_type": "code",
   "execution_count": 173,
   "metadata": {},
   "outputs": [
    {
     "name": "stderr",
     "output_type": "stream",
     "text": [
      "C:\\Users\\Michael Jäckle\\AppData\\Local\\Temp\\ipykernel_14304\\717224300.py:5: UserWarning: Could not infer format, so each element will be parsed individually, falling back to `dateutil`. To ensure parsing is consistent and as-expected, please specify a format.\n",
      "  df['eventStatus'] = pd.to_datetime(df['eventStatus'], errors='coerce')\n"
     ]
    }
   ],
   "source": [
    "df['publishTime'] = pd.to_datetime(df['publishTime'])\n",
    "df['createdTime'] = pd.to_datetime(df['createdTime'])\n",
    "df['eventStatus'] = pd.to_datetime(df['eventStatus'], errors='coerce')\n",
    "df['eventStartTime'] = pd.to_datetime(df['eventStartTime'], errors='coerce')\n",
    "df['eventEndTime'] = pd.to_datetime(df['eventEndTime'], errors='coerce')\n",
    "df['eventTime'] = df['eventEndTime'] - df['eventStartTime']"
   ]
  },
  {
   "cell_type": "markdown",
   "metadata": {},
   "source": [
    "#### Filtern der erforderlichen Daten "
   ]
  },
  {
   "cell_type": "code",
   "execution_count": 174,
   "metadata": {},
   "outputs": [
    {
     "data": {
      "text/html": [
       "<div>\n",
       "<style scoped>\n",
       "    .dataframe tbody tr th:only-of-type {\n",
       "        vertical-align: middle;\n",
       "    }\n",
       "\n",
       "    .dataframe tbody tr th {\n",
       "        vertical-align: top;\n",
       "    }\n",
       "\n",
       "    .dataframe thead th {\n",
       "        text-align: right;\n",
       "    }\n",
       "</style>\n",
       "<table border=\"1\" class=\"dataframe\">\n",
       "  <thead>\n",
       "    <tr style=\"text-align: right;\">\n",
       "      <th></th>\n",
       "      <th>publishTime</th>\n",
       "      <th>assetId</th>\n",
       "      <th>cause</th>\n",
       "      <th>eventTime</th>\n",
       "    </tr>\n",
       "  </thead>\n",
       "  <tbody>\n",
       "    <tr>\n",
       "      <th>0</th>\n",
       "      <td>2020-11-26 13:54:00+00:00</td>\n",
       "      <td>T_HOWAO-2</td>\n",
       "      <td>Planned Outage</td>\n",
       "      <td>0 days 09:00:00</td>\n",
       "    </tr>\n",
       "    <tr>\n",
       "      <th>1</th>\n",
       "      <td>2020-12-10 16:12:00+00:00</td>\n",
       "      <td>T_HOWAO-2</td>\n",
       "      <td>Planned Outage</td>\n",
       "      <td>0 days 10:00:00</td>\n",
       "    </tr>\n",
       "    <tr>\n",
       "      <th>2</th>\n",
       "      <td>2020-12-13 19:13:00+00:00</td>\n",
       "      <td>T_HOWAO-2</td>\n",
       "      <td>Planned Outage</td>\n",
       "      <td>0 days 02:00:00</td>\n",
       "    </tr>\n",
       "    <tr>\n",
       "      <th>3</th>\n",
       "      <td>2020-12-07 21:19:00+00:00</td>\n",
       "      <td>T_HOWAO-2</td>\n",
       "      <td>Planned Outage</td>\n",
       "      <td>0 days 10:00:00</td>\n",
       "    </tr>\n",
       "    <tr>\n",
       "      <th>4</th>\n",
       "      <td>2020-12-14 09:29:00+00:00</td>\n",
       "      <td>T_HOWAO-2</td>\n",
       "      <td>Planned Outage</td>\n",
       "      <td>0 days 03:00:00</td>\n",
       "    </tr>\n",
       "    <tr>\n",
       "      <th>...</th>\n",
       "      <td>...</td>\n",
       "      <td>...</td>\n",
       "      <td>...</td>\n",
       "      <td>...</td>\n",
       "    </tr>\n",
       "    <tr>\n",
       "      <th>431</th>\n",
       "      <td>2024-09-19 08:33:30+00:00</td>\n",
       "      <td>T_HOWAO-1</td>\n",
       "      <td>Under Investigation</td>\n",
       "      <td>1 days 23:46:00</td>\n",
       "    </tr>\n",
       "    <tr>\n",
       "      <th>432</th>\n",
       "      <td>2024-09-20 11:51:24+00:00</td>\n",
       "      <td>T_HOWAO-1</td>\n",
       "      <td>Under Investigation</td>\n",
       "      <td>1 days 21:46:00</td>\n",
       "    </tr>\n",
       "    <tr>\n",
       "      <th>433</th>\n",
       "      <td>2024-09-26 09:57:50+00:00</td>\n",
       "      <td>T_HOWAO-1</td>\n",
       "      <td>Planned Outage</td>\n",
       "      <td>6 days 04:00:00</td>\n",
       "    </tr>\n",
       "    <tr>\n",
       "      <th>434</th>\n",
       "      <td>2024-09-29 16:45:46+00:00</td>\n",
       "      <td>T_HOWAO-1</td>\n",
       "      <td>Under Investigation</td>\n",
       "      <td>1 days 00:00:00</td>\n",
       "    </tr>\n",
       "    <tr>\n",
       "      <th>435</th>\n",
       "      <td>2024-09-29 19:03:50+00:00</td>\n",
       "      <td>T_HOWAO-1</td>\n",
       "      <td>Under Investigation</td>\n",
       "      <td>0 days 04:30:00</td>\n",
       "    </tr>\n",
       "  </tbody>\n",
       "</table>\n",
       "<p>436 rows × 4 columns</p>\n",
       "</div>"
      ],
      "text/plain": [
       "                  publishTime    assetId                cause       eventTime\n",
       "0   2020-11-26 13:54:00+00:00  T_HOWAO-2       Planned Outage 0 days 09:00:00\n",
       "1   2020-12-10 16:12:00+00:00  T_HOWAO-2       Planned Outage 0 days 10:00:00\n",
       "2   2020-12-13 19:13:00+00:00  T_HOWAO-2       Planned Outage 0 days 02:00:00\n",
       "3   2020-12-07 21:19:00+00:00  T_HOWAO-2       Planned Outage 0 days 10:00:00\n",
       "4   2020-12-14 09:29:00+00:00  T_HOWAO-2       Planned Outage 0 days 03:00:00\n",
       "..                        ...        ...                  ...             ...\n",
       "431 2024-09-19 08:33:30+00:00  T_HOWAO-1  Under Investigation 1 days 23:46:00\n",
       "432 2024-09-20 11:51:24+00:00  T_HOWAO-1  Under Investigation 1 days 21:46:00\n",
       "433 2024-09-26 09:57:50+00:00  T_HOWAO-1       Planned Outage 6 days 04:00:00\n",
       "434 2024-09-29 16:45:46+00:00  T_HOWAO-1  Under Investigation 1 days 00:00:00\n",
       "435 2024-09-29 19:03:50+00:00  T_HOWAO-1  Under Investigation 0 days 04:30:00\n",
       "\n",
       "[436 rows x 4 columns]"
      ]
     },
     "execution_count": 174,
     "metadata": {},
     "output_type": "execute_result"
    }
   ],
   "source": [
    "df_ff = df.filter(['publishTime','assetId','cause','eventTime'])\n",
    "df_ff"
   ]
  },
  {
   "cell_type": "markdown",
   "metadata": {},
   "source": [
    "##### Runden der Stunden"
   ]
  },
  {
   "cell_type": "code",
   "execution_count": 175,
   "metadata": {},
   "outputs": [],
   "source": [
    "# Funktion zum Runden auf das nächste 30-Minuten-Intervall\n",
    "def round_to_nearest_half_hour(dt):\n",
    "    if dt.minute < 15:\n",
    "        return dt.replace(minute=0, second=0)\n",
    "    elif dt.minute < 45:\n",
    "        return dt.replace(minute=30, second=0)\n",
    "    else:\n",
    "        return dt.replace(minute=0, second=0) + pd.Timedelta(hours=1)\n",
    "\n",
    "# Funktion zum Runden auf die nächste volle Stunde\n",
    "def round_to_nearest_hour(dt):\n",
    "    if dt.minute < 30:\n",
    "        return dt.replace(minute=0, second=0)\n",
    "    else:\n",
    "        return dt.replace(minute=0, second=0) + pd.Timedelta(hours=1)\n",
    "\n",
    "# Anwendung der Rundungsfunktionen auf df_tt\n",
    "df_ff['rounded_half_hour'] = df_ff['publishTime'].apply(round_to_nearest_half_hour)\n",
    "\n",
    "df_ff = df_ff.filter(['assetId','cause'\t,'eventTime',\t'rounded_half_hour'\t])"
   ]
  },
  {
   "cell_type": "markdown",
   "metadata": {},
   "source": [
    "##### Dummies erstellen"
   ]
  },
  {
   "cell_type": "code",
   "execution_count": 176,
   "metadata": {},
   "outputs": [
    {
     "data": {
      "text/html": [
       "<div>\n",
       "<style scoped>\n",
       "    .dataframe tbody tr th:only-of-type {\n",
       "        vertical-align: middle;\n",
       "    }\n",
       "\n",
       "    .dataframe tbody tr th {\n",
       "        vertical-align: top;\n",
       "    }\n",
       "\n",
       "    .dataframe thead th {\n",
       "        text-align: right;\n",
       "    }\n",
       "</style>\n",
       "<table border=\"1\" class=\"dataframe\">\n",
       "  <thead>\n",
       "    <tr style=\"text-align: right;\">\n",
       "      <th></th>\n",
       "      <th>eventTime</th>\n",
       "      <th>rounded_half_hour</th>\n",
       "      <th>Category_T_HOWAO-1</th>\n",
       "      <th>Category_T_HOWAO-2</th>\n",
       "      <th>Category_T_HOWAO-3</th>\n",
       "      <th>Category_Forced Outage</th>\n",
       "      <th>Category_NonOperator Alert</th>\n",
       "      <th>Category_Planned Outage</th>\n",
       "      <th>Category_Turbine</th>\n",
       "      <th>Category_Under Investigation</th>\n",
       "    </tr>\n",
       "  </thead>\n",
       "  <tbody>\n",
       "    <tr>\n",
       "      <th>0</th>\n",
       "      <td>0 days 09:00:00</td>\n",
       "      <td>2020-11-26 14:00:00+00:00</td>\n",
       "      <td>False</td>\n",
       "      <td>True</td>\n",
       "      <td>False</td>\n",
       "      <td>False</td>\n",
       "      <td>False</td>\n",
       "      <td>True</td>\n",
       "      <td>False</td>\n",
       "      <td>False</td>\n",
       "    </tr>\n",
       "    <tr>\n",
       "      <th>1</th>\n",
       "      <td>0 days 10:00:00</td>\n",
       "      <td>2020-12-10 16:00:00+00:00</td>\n",
       "      <td>False</td>\n",
       "      <td>True</td>\n",
       "      <td>False</td>\n",
       "      <td>False</td>\n",
       "      <td>False</td>\n",
       "      <td>True</td>\n",
       "      <td>False</td>\n",
       "      <td>False</td>\n",
       "    </tr>\n",
       "    <tr>\n",
       "      <th>2</th>\n",
       "      <td>0 days 02:00:00</td>\n",
       "      <td>2020-12-13 19:00:00+00:00</td>\n",
       "      <td>False</td>\n",
       "      <td>True</td>\n",
       "      <td>False</td>\n",
       "      <td>False</td>\n",
       "      <td>False</td>\n",
       "      <td>True</td>\n",
       "      <td>False</td>\n",
       "      <td>False</td>\n",
       "    </tr>\n",
       "    <tr>\n",
       "      <th>3</th>\n",
       "      <td>0 days 10:00:00</td>\n",
       "      <td>2020-12-07 21:30:00+00:00</td>\n",
       "      <td>False</td>\n",
       "      <td>True</td>\n",
       "      <td>False</td>\n",
       "      <td>False</td>\n",
       "      <td>False</td>\n",
       "      <td>True</td>\n",
       "      <td>False</td>\n",
       "      <td>False</td>\n",
       "    </tr>\n",
       "    <tr>\n",
       "      <th>4</th>\n",
       "      <td>0 days 03:00:00</td>\n",
       "      <td>2020-12-14 09:30:00+00:00</td>\n",
       "      <td>False</td>\n",
       "      <td>True</td>\n",
       "      <td>False</td>\n",
       "      <td>False</td>\n",
       "      <td>False</td>\n",
       "      <td>True</td>\n",
       "      <td>False</td>\n",
       "      <td>False</td>\n",
       "    </tr>\n",
       "  </tbody>\n",
       "</table>\n",
       "</div>"
      ],
      "text/plain": [
       "        eventTime         rounded_half_hour  Category_T_HOWAO-1  \\\n",
       "0 0 days 09:00:00 2020-11-26 14:00:00+00:00               False   \n",
       "1 0 days 10:00:00 2020-12-10 16:00:00+00:00               False   \n",
       "2 0 days 02:00:00 2020-12-13 19:00:00+00:00               False   \n",
       "3 0 days 10:00:00 2020-12-07 21:30:00+00:00               False   \n",
       "4 0 days 03:00:00 2020-12-14 09:30:00+00:00               False   \n",
       "\n",
       "   Category_T_HOWAO-2  Category_T_HOWAO-3  Category_Forced Outage  \\\n",
       "0                True               False                   False   \n",
       "1                True               False                   False   \n",
       "2                True               False                   False   \n",
       "3                True               False                   False   \n",
       "4                True               False                   False   \n",
       "\n",
       "   Category_NonOperator Alert  Category_Planned Outage  Category_Turbine  \\\n",
       "0                       False                     True             False   \n",
       "1                       False                     True             False   \n",
       "2                       False                     True             False   \n",
       "3                       False                     True             False   \n",
       "4                       False                     True             False   \n",
       "\n",
       "   Category_Under Investigation  \n",
       "0                         False  \n",
       "1                         False  \n",
       "2                         False  \n",
       "3                         False  \n",
       "4                         False  "
      ]
     },
     "execution_count": 176,
     "metadata": {},
     "output_type": "execute_result"
    }
   ],
   "source": [
    "df_ff = pd.get_dummies(df_ff, columns=['assetId','cause'], prefix='Category')\n",
    "df_ff.head()"
   ]
  },
  {
   "cell_type": "markdown",
   "metadata": {},
   "source": [
    "#### Einlesen und vorerarbeitung der Daten"
   ]
  },
  {
   "cell_type": "code",
   "execution_count": 190,
   "metadata": {},
   "outputs": [],
   "source": [
    "def pre_csv(df):\n",
    "    df.dtm = pd.to_datetime(df.dtm)  \n",
    "    return df\n",
    "\n",
    "def pre_dwd(df):\n",
    "    df = df.to_dataframe().reset_index().rename(columns={\"ref_datetime\": \"reference_time\", \"valid_datetime\": \"valid_time\"})\n",
    "    df.reference_time = df.reference_time.dt.tz_localize(\"UTC\")  \n",
    "    df.valid_time = df.reference_time + df.valid_time * pd.Timedelta(1, \"h\")  \n",
    "    return df\n",
    "\n",
    "def pre_ncep(df):\n",
    "    return df\n",
    "\n",
    "\n",
    "df_pes_0 = pre_dwd(xr.open_dataset(\"data/dwd_icon_eu_pes10_20200920_20231027.nc\"))\n",
    "df_pes_1 = pre_dwd(xr.open_dataset(\"data/dwd_icon_eu_pes10_20231027_20240108.nc\"))\n",
    "df_pes_2 = pre_dwd(xr.open_dataset(\"data/dwd_icon_eu_pes10_20240108_20240129.nc\"))\n",
    "df_pes_3 = pre_dwd(xr.open_dataset(\"data/dwd_icon_eu_pes10_20240129_20240519.nc\"))\n",
    "\n",
    "df_pes = pd.concat([df_pes_0, df_pes_1, df_pes_2, df_pes_3]).sort_values([\"reference_time\", \"valid_time\"]).reset_index(drop=True)\n",
    "del df_pes_0, df_pes_1, df_pes_2, df_pes_3\n",
    "\n",
    "df_pes = df_pes.groupby([\"reference_time\", \"valid_time\"]).mean().reset_index().drop(columns=[\"point\", \"longitude\", \"latitude\"])\n",
    "\n",
    "\n",
    "df_pes = df_pes.set_index(\"valid_time\").groupby([\"reference_time\"]).resample(\"30min\").interpolate(\"linear\").drop(columns=\"reference_time\").reset_index()\n",
    "\n",
    "df_hornsea_0 = pre_dwd(xr.open_dataset(\"data/dwd_icon_eu_hornsea_1_20200920_20231027.nc\"))\n",
    "df_hornsea_1 = pre_dwd(xr.open_dataset(\"data/dwd_icon_eu_hornsea_1_20231027_20240108.nc\"))\n",
    "df_hornsea_2 = pre_dwd(xr.open_dataset(\"data/dwd_icon_eu_hornsea_1_20240108_20240129.nc\"))\n",
    "df_hornsea_3 = pre_dwd(xr.open_dataset(\"data/dwd_icon_eu_hornsea_1_20240129_20240519.nc\"))\n",
    "\n",
    "df_hornsea = pd.concat([df_hornsea_0, df_hornsea_1, df_hornsea_2, df_hornsea_3]).sort_values([\"reference_time\", \"valid_time\"]).reset_index(drop=True)\n",
    "del df_hornsea_0, df_hornsea_1, df_hornsea_2, df_hornsea_3\n",
    "\n",
    "df_hornsea = df_hornsea.groupby([\"reference_time\", \"valid_time\"]).mean().reset_index().drop(columns=[\"longitude\", \"latitude\"])\n",
    "\n",
    "df_hornsea = df_hornsea.set_index(\"valid_time\").groupby([\"reference_time\"]).resample(\"30min\").interpolate(\"linear\").drop(columns=\"reference_time\").reset_index()\n",
    "\n",
    "df_0 = pre_csv(pd.read_csv(\"data/Energy_Data_20200920_20240118.csv\"))\n",
    "df_1 = pre_csv(pd.read_csv(\"data/Energy_Data_20240119_20240519.csv\"))\n",
    "\n",
    "df = pd.concat([df_0, df_1]).sort_values([\"dtm\"]).reset_index(drop=True)\n",
    "del df_0, df_1\n",
    "\n",
    "df[\"Wind_MWh_credit\"] = 0.5 * df[\"Wind_MW\"] - df[\"boa_MWh\"]\n",
    "df[\"Solar_MWh_credit\"] = 0.5 * df[\"Solar_MW\"]\n",
    "\n",
    "df_full = pd.merge(df_pes, df_hornsea, on=[\"reference_time\", \"valid_time\"])\n",
    "\n",
    "df_full = df_full.merge(df[[\"dtm\", \"Wind_MWh_credit\", \"Solar_MWh_credit\"]], left_on=\"valid_time\", right_on=\"dtm\", how=\"left\")\n",
    "\n",
    "df_full[\"forcast_hours\"] = (df_full.valid_time - df_full.reference_time) / pd.Timedelta(1, \"h\")\n",
    "df_full[\"year\"] = df_full.valid_time.dt.year\n",
    "df_full[\"month\"] = df_full.valid_time.dt.month\n",
    "df_full[\"day\"] = df_full.valid_time.dt.day\n",
    "df_full[\"hour\"] = df_full.valid_time.dt.hour\n",
    "\n",
    "df_full[\"total_generation_MWh\"] = df_full[\"Wind_MWh_credit\"] + df_full[\"Solar_MWh_credit\"]\n",
    "\n",
    "df_train = df_full.loc[df_full.reference_time < \"2023-09-01\"]\n",
    "df_test = df_full.loc[df_full.reference_time >= \"2023-09-01\"]\n"
   ]
  },
  {
   "cell_type": "code",
   "execution_count": 191,
   "metadata": {},
   "outputs": [],
   "source": [
    "df_train = pd.merge(df_train, df_ff, left_on=\"valid_time\", right_on= 'rounded_half_hour', how ='left')\n",
    "df_test = pd.merge(df_test, df_ff, left_on=\"valid_time\", right_on= 'rounded_half_hour', how ='left')"
   ]
  },
  {
   "cell_type": "code",
   "execution_count": 192,
   "metadata": {},
   "outputs": [
    {
     "data": {
      "text/plain": [
       "Index(['reference_time', 'valid_time', 'CloudCover', 'SolarDownwardRadiation',\n",
       "       'Temperature_x', 'RelativeHumidity', 'Temperature_y', 'WindDirection',\n",
       "       'WindDirection:100', 'WindSpeed', 'WindSpeed:100', 'dtm',\n",
       "       'Wind_MWh_credit', 'Solar_MWh_credit', 'forcast_hours', 'year', 'month',\n",
       "       'day', 'hour', 'total_generation_MWh', 'eventTime', 'rounded_half_hour',\n",
       "       'Category_T_HOWAO-1', 'Category_T_HOWAO-2', 'Category_T_HOWAO-3',\n",
       "       'Category_Forced Outage', 'Category_NonOperator Alert',\n",
       "       'Category_Planned Outage', 'Category_Turbine',\n",
       "       'Category_Under Investigation'],\n",
       "      dtype='object')"
      ]
     },
     "execution_count": 192,
     "metadata": {},
     "output_type": "execute_result"
    }
   ],
   "source": [
    "df_train.columns"
   ]
  },
  {
   "cell_type": "code",
   "execution_count": 202,
   "metadata": {},
   "outputs": [],
   "source": [
    "df_train = pd.read_parquet(\"df_train.parquet\")\n",
    "df_test = pd.read_parquet(\"df_test.parquet\")\n",
    "\n",
    "windspeed_train_pca = df_train[[\"WindSpeed\", \"WindSpeed:100\"]].to_numpy()\n",
    "windspeed_test_pca = df_test[[\"WindSpeed\", \"WindSpeed:100\"]].to_numpy()\n",
    "\n",
    "scale_pca_pipe = Pipeline([\n",
    "    (\"scaling\", StandardScaler()),\n",
    "    (\"pca\", PCA(n_components=1))\n",
    "])\n",
    "\n",
    "windspeed_train_pca = scale_pca_pipe.fit_transform(windspeed_train_pca)\n",
    "windspeed_test_pca = scale_pca_pipe.transform(windspeed_test_pca)\n",
    "\n",
    "df_train[\"WindSpeedPCA\"] = windspeed_train_pca\n",
    "df_test[\"WindSpeedPCA\"] = windspeed_test_pca\n",
    "\n",
    "winddirection_train_pca = df_train[[\"WindDirection\", \"WindDirection:100\"]].to_numpy()\n",
    "winddirection_test_pca = df_test[[\"WindDirection\", \"WindDirection:100\"]].to_numpy()\n",
    "\n",
    "winddirection_train_pca = scale_pca_pipe.fit_transform(winddirection_train_pca)\n",
    "winddirection_test_pca = scale_pca_pipe.transform(winddirection_test_pca)\n",
    "\n",
    "df_train[\"WindDirectionPCA\"] = winddirection_train_pca\n",
    "df_test[\"WindDirectionPCA\"] = winddirection_test_pca\n",
    "df_train[\"total_generation_MWh\"] = df_train['Wind_MWh_credit'] + df_train['Solar_MWh_credit']\n",
    "df_test[\"total_generation_MWh\"] = df_test['Wind_MWh_credit'] + df_test['Solar_MWh_credit']"
   ]
  },
  {
   "cell_type": "code",
   "execution_count": 181,
   "metadata": {},
   "outputs": [
    {
     "data": {
      "text/plain": [
       "Index(['reference_time', 'valid_time', 'CloudCover', 'SolarDownwardRadiation',\n",
       "       'Temperature_x', 'RelativeHumidity', 'Temperature_y', 'WindDirection',\n",
       "       'WindDirection:100', 'WindSpeed', 'WindSpeed:100', 'dtm',\n",
       "       'Wind_MWh_credit', 'Solar_MWh_credit', 'forcast_hours', 'year', 'month',\n",
       "       'day', 'hour', 'total_generation_MWh', 'eventTime', 'rounded_half_hour',\n",
       "       'Category_T_HOWAO-1', 'Category_T_HOWAO-2', 'Category_T_HOWAO-3',\n",
       "       'Category_Forced Outage', 'Category_NonOperator Alert',\n",
       "       'Category_Planned Outage', 'Category_Turbine',\n",
       "       'Category_Under Investigation', 'WindSpeedPCA', 'WindDirectionPCA'],\n",
       "      dtype='object')"
      ]
     },
     "execution_count": 181,
     "metadata": {},
     "output_type": "execute_result"
    }
   ],
   "source": [
    "df_test.columns"
   ]
  },
  {
   "cell_type": "code",
   "execution_count": 183,
   "metadata": {},
   "outputs": [
    {
     "data": {
      "text/plain": [
       "Index(['reference_time', 'valid_time', 'CloudCover', 'SolarDownwardRadiation',\n",
       "       'Temperature_x', 'RelativeHumidity', 'Temperature_y', 'WindDirection',\n",
       "       'WindDirection:100', 'WindSpeed', 'WindSpeed:100', 'dtm',\n",
       "       'Wind_MWh_credit', 'Solar_MWh_credit', 'forcast_hours', 'year', 'month',\n",
       "       'day', 'hour', 'total_generation_MWh', 'eventTime', 'rounded_half_hour',\n",
       "       'Category_T_HOWAO-1', 'Category_T_HOWAO-2', 'Category_T_HOWAO-3',\n",
       "       'Category_Forced Outage', 'Category_NonOperator Alert',\n",
       "       'Category_Planned Outage', 'Category_Turbine',\n",
       "       'Category_Under Investigation', 'WindSpeedPCA', 'WindDirectionPCA'],\n",
       "      dtype='object')"
      ]
     },
     "execution_count": 183,
     "metadata": {},
     "output_type": "execute_result"
    }
   ],
   "source": [
    "df_train.columns"
   ]
  },
  {
   "cell_type": "code",
   "execution_count": 184,
   "metadata": {},
   "outputs": [
    {
     "data": {
      "text/plain": [
       "Index(['reference_time', 'valid_time', 'CloudCover', 'SolarDownwardRadiation',\n",
       "       'Temperature_x', 'RelativeHumidity', 'Temperature_y', 'WindDirection',\n",
       "       'WindDirection:100', 'WindSpeed', 'WindSpeed:100', 'dtm',\n",
       "       'Wind_MWh_credit', 'Solar_MWh_credit', 'forcast_hours', 'year', 'month',\n",
       "       'day', 'hour', 'total_generation_MWh', 'eventTime', 'rounded_half_hour',\n",
       "       'Category_T_HOWAO-1', 'Category_T_HOWAO-2', 'Category_T_HOWAO-3',\n",
       "       'Category_Forced Outage', 'Category_NonOperator Alert',\n",
       "       'Category_Planned Outage', 'Category_Turbine',\n",
       "       'Category_Under Investigation', 'WindSpeedPCA', 'WindDirectionPCA'],\n",
       "      dtype='object')"
      ]
     },
     "execution_count": 184,
     "metadata": {},
     "output_type": "execute_result"
    }
   ],
   "source": [
    "df_train.columns"
   ]
  },
  {
   "cell_type": "markdown",
   "metadata": {},
   "source": [
    "#### Umbennung der Spalten"
   ]
  },
  {
   "cell_type": "code",
   "execution_count": 197,
   "metadata": {},
   "outputs": [],
   "source": [
    "def rename_columns(df_train, df_test, rename_dict):\n",
    "    df_train.rename(columns=rename_dict, inplace=True)\n",
    "    df_test.rename(columns=rename_dict, inplace=True)\n",
    "\n",
    "# Wörterbuch für die umzubenennenden Spalten\n",
    "rename_dict = {\n",
    "    'Category_T_HOWAO-1': 'Category_T_HOWAO_1',\n",
    "    'Category_T_HOWAO-2': 'Category_T_HOWAO_2',\n",
    "    'Category_T_HOWAO-3': 'Category_T_HOWAO_3',  \n",
    "    'Category_Forced Outage' : 'Category_Forced_Outage',\n",
    "    'Category_NonOperator Alert': 'Category_NonOperator_Alert', \n",
    "    'Category_Planned Outage':'Category_Planned_Outage', \n",
    "    'Category_Under Investigation' : 'Category_Under_Investigation',\n",
    "}\n",
    "\n",
    "# Aufrufen der Funktion\n",
    "rename_columns(df_train, df_test, rename_dict)\n"
   ]
  },
  {
   "cell_type": "code",
   "execution_count": 198,
   "metadata": {},
   "outputs": [
    {
     "data": {
      "text/plain": [
       "Index(['reference_time', 'valid_time', 'CloudCover', 'SolarDownwardRadiation',\n",
       "       'Temperature_x', 'RelativeHumidity', 'Temperature_y', 'WindDirection',\n",
       "       'WindDirection:100', 'WindSpeed', 'WindSpeed:100', 'dtm',\n",
       "       'Wind_MWh_credit', 'Solar_MWh_credit', 'forcast_hours', 'year', 'month',\n",
       "       'day', 'hour', 'total_generation_MWh', 'eventTime', 'rounded_half_hour',\n",
       "       'Category_T_HOWAO_1', 'Category_T_HOWAO_2', 'Category_T_HOWAO_3',\n",
       "       'Category_Forced_Outage', 'Category_NonOperator_Alert',\n",
       "       'Category_Planned_Outage', 'Category_Turbine',\n",
       "       'Category_Under_Investigation', 'WindSpeedPCA'],\n",
       "      dtype='object')"
      ]
     },
     "execution_count": 198,
     "metadata": {},
     "output_type": "execute_result"
    }
   ],
   "source": [
    "df_train.columns"
   ]
  },
  {
   "cell_type": "markdown",
   "metadata": {},
   "source": [
    "#### Null Werte mit 0 oder 1 Füllen"
   ]
  },
  {
   "cell_type": "code",
   "execution_count": 199,
   "metadata": {},
   "outputs": [],
   "source": [
    "def process_categories(df_train, df_test, columns):\n",
    "    for column in columns:\n",
    "        df_train[column] = df_train[column].fillna(False)\n",
    "        df_test[column] = df_test[column].fillna(False)\n",
    "        df_train[column] = df_train[column].replace({True: 1, False: 0})\n",
    "        df_test[column] = df_test[column].replace({True: 1, False: 0})\n",
    "\n",
    "# Liste der zu verarbeitenden Spalten\n",
    "columns_to_process = ['Category_T_HOWAO_1', 'Category_T_HOWAO_2', 'Category_T_HOWAO_3','Category_Forced_Outage',\n",
    "       'Category_NonOperator_Alert', 'Category_Planned_Outage', 'Category_Turbine', 'Category_Under_Investigation',]  \n",
    "\n",
    "# Aufrufen der Funktion\n",
    "process_categories(df_train, df_test, columns_to_process)"
   ]
  },
  {
   "cell_type": "markdown",
   "metadata": {},
   "source": [
    "### Modell training Wind"
   ]
  },
  {
   "cell_type": "code",
   "execution_count": 200,
   "metadata": {},
   "outputs": [
    {
     "ename": "KeyError",
     "evalue": "\"['WindDirectionPCA'] not in index\"",
     "output_type": "error",
     "traceback": [
      "\u001b[1;31m---------------------------------------------------------------------------\u001b[0m",
      "\u001b[1;31mKeyError\u001b[0m                                  Traceback (most recent call last)",
      "Cell \u001b[1;32mIn[200], line 52\u001b[0m\n\u001b[0;32m     49\u001b[0m target \u001b[38;5;241m=\u001b[39m \u001b[38;5;124m'\u001b[39m\u001b[38;5;124mWind_MWh_credit\u001b[39m\u001b[38;5;124m'\u001b[39m\n\u001b[0;32m     51\u001b[0m scaler \u001b[38;5;241m=\u001b[39m MinMaxScaler()\n\u001b[1;32m---> 52\u001b[0m scaled_train_data \u001b[38;5;241m=\u001b[39m scaler\u001b[38;5;241m.\u001b[39mfit_transform(\u001b[43mdf_train_subset\u001b[49m\u001b[43m[\u001b[49m\u001b[43mfeatures\u001b[49m\u001b[43m \u001b[49m\u001b[38;5;241;43m+\u001b[39;49m\u001b[43m \u001b[49m\u001b[43m[\u001b[49m\u001b[43mtarget\u001b[49m\u001b[43m]\u001b[49m\u001b[43m]\u001b[49m)\n\u001b[0;32m     54\u001b[0m \u001b[38;5;66;03m# Sequenzen für Trainingsdaten erstellen\u001b[39;00m\n\u001b[0;32m     55\u001b[0m X_train, y_train \u001b[38;5;241m=\u001b[39m [], []\n",
      "File \u001b[1;32mc:\\Users\\Michael Jäckle\\Desktop\\Domainenprojekt_2\\.venv\\Lib\\site-packages\\pandas\\core\\frame.py:4108\u001b[0m, in \u001b[0;36mDataFrame.__getitem__\u001b[1;34m(self, key)\u001b[0m\n\u001b[0;32m   4106\u001b[0m     \u001b[38;5;28;01mif\u001b[39;00m is_iterator(key):\n\u001b[0;32m   4107\u001b[0m         key \u001b[38;5;241m=\u001b[39m \u001b[38;5;28mlist\u001b[39m(key)\n\u001b[1;32m-> 4108\u001b[0m     indexer \u001b[38;5;241m=\u001b[39m \u001b[38;5;28;43mself\u001b[39;49m\u001b[38;5;241;43m.\u001b[39;49m\u001b[43mcolumns\u001b[49m\u001b[38;5;241;43m.\u001b[39;49m\u001b[43m_get_indexer_strict\u001b[49m\u001b[43m(\u001b[49m\u001b[43mkey\u001b[49m\u001b[43m,\u001b[49m\u001b[43m \u001b[49m\u001b[38;5;124;43m\"\u001b[39;49m\u001b[38;5;124;43mcolumns\u001b[39;49m\u001b[38;5;124;43m\"\u001b[39;49m\u001b[43m)\u001b[49m[\u001b[38;5;241m1\u001b[39m]\n\u001b[0;32m   4110\u001b[0m \u001b[38;5;66;03m# take() does not accept boolean indexers\u001b[39;00m\n\u001b[0;32m   4111\u001b[0m \u001b[38;5;28;01mif\u001b[39;00m \u001b[38;5;28mgetattr\u001b[39m(indexer, \u001b[38;5;124m\"\u001b[39m\u001b[38;5;124mdtype\u001b[39m\u001b[38;5;124m\"\u001b[39m, \u001b[38;5;28;01mNone\u001b[39;00m) \u001b[38;5;241m==\u001b[39m \u001b[38;5;28mbool\u001b[39m:\n",
      "File \u001b[1;32mc:\\Users\\Michael Jäckle\\Desktop\\Domainenprojekt_2\\.venv\\Lib\\site-packages\\pandas\\core\\indexes\\base.py:6200\u001b[0m, in \u001b[0;36mIndex._get_indexer_strict\u001b[1;34m(self, key, axis_name)\u001b[0m\n\u001b[0;32m   6197\u001b[0m \u001b[38;5;28;01melse\u001b[39;00m:\n\u001b[0;32m   6198\u001b[0m     keyarr, indexer, new_indexer \u001b[38;5;241m=\u001b[39m \u001b[38;5;28mself\u001b[39m\u001b[38;5;241m.\u001b[39m_reindex_non_unique(keyarr)\n\u001b[1;32m-> 6200\u001b[0m \u001b[38;5;28;43mself\u001b[39;49m\u001b[38;5;241;43m.\u001b[39;49m\u001b[43m_raise_if_missing\u001b[49m\u001b[43m(\u001b[49m\u001b[43mkeyarr\u001b[49m\u001b[43m,\u001b[49m\u001b[43m \u001b[49m\u001b[43mindexer\u001b[49m\u001b[43m,\u001b[49m\u001b[43m \u001b[49m\u001b[43maxis_name\u001b[49m\u001b[43m)\u001b[49m\n\u001b[0;32m   6202\u001b[0m keyarr \u001b[38;5;241m=\u001b[39m \u001b[38;5;28mself\u001b[39m\u001b[38;5;241m.\u001b[39mtake(indexer)\n\u001b[0;32m   6203\u001b[0m \u001b[38;5;28;01mif\u001b[39;00m \u001b[38;5;28misinstance\u001b[39m(key, Index):\n\u001b[0;32m   6204\u001b[0m     \u001b[38;5;66;03m# GH 42790 - Preserve name from an Index\u001b[39;00m\n",
      "File \u001b[1;32mc:\\Users\\Michael Jäckle\\Desktop\\Domainenprojekt_2\\.venv\\Lib\\site-packages\\pandas\\core\\indexes\\base.py:6252\u001b[0m, in \u001b[0;36mIndex._raise_if_missing\u001b[1;34m(self, key, indexer, axis_name)\u001b[0m\n\u001b[0;32m   6249\u001b[0m     \u001b[38;5;28;01mraise\u001b[39;00m \u001b[38;5;167;01mKeyError\u001b[39;00m(\u001b[38;5;124mf\u001b[39m\u001b[38;5;124m\"\u001b[39m\u001b[38;5;124mNone of [\u001b[39m\u001b[38;5;132;01m{\u001b[39;00mkey\u001b[38;5;132;01m}\u001b[39;00m\u001b[38;5;124m] are in the [\u001b[39m\u001b[38;5;132;01m{\u001b[39;00maxis_name\u001b[38;5;132;01m}\u001b[39;00m\u001b[38;5;124m]\u001b[39m\u001b[38;5;124m\"\u001b[39m)\n\u001b[0;32m   6251\u001b[0m not_found \u001b[38;5;241m=\u001b[39m \u001b[38;5;28mlist\u001b[39m(ensure_index(key)[missing_mask\u001b[38;5;241m.\u001b[39mnonzero()[\u001b[38;5;241m0\u001b[39m]]\u001b[38;5;241m.\u001b[39munique())\n\u001b[1;32m-> 6252\u001b[0m \u001b[38;5;28;01mraise\u001b[39;00m \u001b[38;5;167;01mKeyError\u001b[39;00m(\u001b[38;5;124mf\u001b[39m\u001b[38;5;124m\"\u001b[39m\u001b[38;5;132;01m{\u001b[39;00mnot_found\u001b[38;5;132;01m}\u001b[39;00m\u001b[38;5;124m not in index\u001b[39m\u001b[38;5;124m\"\u001b[39m)\n",
      "\u001b[1;31mKeyError\u001b[0m: \"['WindDirectionPCA'] not in index\""
     ]
    }
   ],
   "source": [
    "def pinball(y, q, alpha):\n",
    "    return (y - q) * (alpha - (y < q))\n",
    "\n",
    "def pinball_score(df, model_idx):\n",
    "    score = []\n",
    "    for qu in range(10, 100, 10):\n",
    "        y_true = df['Wind_MWh_credit']\n",
    "        y_pred = df[f'Model_{model_idx}_q{qu}']\n",
    "        score.append(pinball(y_true, y_pred, qu / 100).mean())\n",
    "    return score\n",
    "\n",
    "data_sizes = [300000]\n",
    "regularizers_faktor = [0.4, 0.2, 0.1, ]\n",
    "dropout_rates_1 = [0.9,0.7,0.3, 0.1]\n",
    "dropout_rates_2 = [0.1, 0.3,0.7,0.9]\n",
    "epochs_options = [20,50 ]\n",
    "batch_sizes = [1024]  \n",
    "sequence_lengths = [12]\n",
    "lstm_units_1 = [64]  \n",
    "lstm_units_2 = [32] \n",
    "\n",
    "results_file_name = f\"data/LSTM_wind.csv\"\n",
    "\n",
    "\n",
    "os.makedirs(os.path.dirname(results_file_name), exist_ok=True)\n",
    "\n",
    "with open(results_file_name, 'w') as f:\n",
    "    f.write('Epochs,Batch_Size,Sequence_Length,Dropout_Rate_1,Dropout_Rate_2,Regularizers_Faktor,LSTM_Units_1,LSTM_Units_2,Data_Size,Pinball_Score_Train,Pinball_Score_Test\\n')\n",
    "\n",
    "for data_size in data_sizes:\n",
    "    df_train_subset = df_train.iloc[1:300001]\n",
    "    df_test_subset = df_test.head(data_size)\n",
    "\n",
    "\n",
    "    features = ['RelativeHumidity', \n",
    "       'WindDirection', 'WindDirection:100', 'WindSpeed', 'WindSpeed:100',\n",
    "        'CloudCover', 'SolarDownwardRadiation', 'month', 'day', 'hour',\n",
    "       'WindSpeedPCA', 'WindDirectionPCA',\n",
    "       'Category_T_HOWAO_1', 'Category_T_HOWAO_2', 'Category_T_HOWAO_3',\n",
    "       'Category_Forced_Outage', 'Category_NonOperator_Alert',\n",
    "       'Category_Planned_Outage', 'Category_Turbine',\n",
    "       'Category_Under_Investigation' \n",
    "       ]\n",
    "    target = 'Wind_MWh_credit'\n",
    "\n",
    "    scaler = MinMaxScaler()\n",
    "    scaled_train_data = scaler.fit_transform(df_train_subset[features + [target]])\n",
    "\n",
    "    # Sequenzen für Trainingsdaten erstellen\n",
    "    X_train, y_train = [], []\n",
    "    for i in range(sequence_lengths[0], len(scaled_train_data)):\n",
    "        X_train.append(scaled_train_data[i-sequence_lengths[0]:i, :-1])\n",
    "        y_train.append(scaled_train_data[i, -1])\n",
    "    X_train, y_train = np.array(X_train), np.array(y_train)\n",
    "\n",
    "    scaled_test_data = scaler.transform(df_test_subset[features + [target]])\n",
    "\n",
    "\n",
    "    X_test, y_test = [], []\n",
    "    for i in range(sequence_lengths[0], len(scaled_test_data)):\n",
    "        X_test.append(scaled_test_data[i-sequence_lengths[0]:i, :-1])\n",
    "        y_test.append(scaled_test_data[i, -1])\n",
    "    X_test, y_test = np.array(X_test), np.array(y_test)\n",
    "\n",
    "\n",
    "    \n",
    "    param_combinations = list(product(\n",
    "        epochs_options,\n",
    "        batch_sizes,\n",
    "        dropout_rates_1,\n",
    "        dropout_rates_2,\n",
    "        regularizers_faktor,\n",
    "        lstm_units_1,\n",
    "        lstm_units_2  \n",
    "    ))\n",
    "\n",
    "    for epochs, batch_size, dropout_rate_1, dropout_rate_2, reg_factor, lstm_units_1, lstm_units_2 in param_combinations:\n",
    "        print(f\"Trainiere Modell mit {lstm_units_1} {lstm_units_2} LSTM-Einheiten, Epochs: {epochs}, Batch Size: {batch_size}, \"\n",
    "            f\"regularizers_faktor: {reg_factor}, Dropout Rate 1: {dropout_rate_1}, Dropout Rate 2: {dropout_rate_2}\")\n",
    "\n",
    "        model = Sequential()\n",
    "        # Hier fügen wir den Input-Layer hinzu\n",
    "        model.add(Input(shape=(X_train.shape[1], X_train.shape[2])))\n",
    "        \n",
    "        model.add(LSTM(lstm_units_1, return_sequences=True,\n",
    "                    kernel_regularizer=tf.keras.regularizers.l2(reg_factor)))\n",
    "        model.add(BatchNormalization())\n",
    "        model.add(Dropout(dropout_rate_1))\n",
    "        model.add(LSTM(lstm_units_2, return_sequences=False, kernel_regularizer=tf.keras.regularizers.l2(reg_factor)))\n",
    "        model.add(BatchNormalization())\n",
    "        model.add(Dropout(dropout_rate_2))\n",
    "        model.add(Dense(1))\n",
    "\n",
    "        if tf.config.list_physical_devices('GPU'):\n",
    "            print(\"GPU gefunden. Das Modell wird auf der GPU trainiert.\")\n",
    "        else:\n",
    "            print(\"Keine GPU gefunden. Das Modell wird auf der CPU trainiert.\")\n",
    "\n",
    "        model.compile(optimizer='adam', loss='mean_squared_error')\n",
    "        early_stopping = EarlyStopping(monitor='val_loss', patience=5, restore_best_weights=True)\n",
    "\n",
    "        model.fit(X_train, y_train, epochs=epochs, batch_size=batch_size, validation_split=0.2,\n",
    "                  callbacks=[early_stopping], verbose=0)\n",
    "\n",
    "        df_train_subset.loc[:, 'Model_1_q50'] = np.nan\n",
    "\n",
    "        # Vorhersagen für das Training\n",
    "        train_predictions = model.predict(X_train)\n",
    "        df_train_subset.loc[df_train_subset.index[-len(train_predictions):], 'Model_1_q50'] = train_predictions.flatten()\n",
    "\n",
    "        # Berechne quantilbasierte Modelle\n",
    "        for qu in range(10, 100, 10):\n",
    "            df_train_subset.loc[:, f\"Model_1_q{qu}\"] = df_train_subset['Model_1_q50'] * (qu / 100)\n",
    "\n",
    "        # Berechne den Pinball-Score für das Training\n",
    "        train_score = pinball_score(df_train_subset, 1)\n",
    "        overall_pinball_score_train = sum(train_score) / len(train_score)\n",
    "\n",
    "        # Setze Model_1_q50 auf NaN für das Test-Subset\n",
    "        df_test_subset.loc[:, 'Model_1_q50'] = np.nan\n",
    "\n",
    "        # Vorhersagen für das Testen\n",
    "        test_predictions = model.predict(X_test)\n",
    "        df_test_subset.loc[df_test_subset.index[-len(test_predictions):], 'Model_1_q50'] = test_predictions.flatten()\n",
    "\n",
    "        # Berechne quantilbasierte Modelle für das Test-Subset\n",
    "        for qu in range(10, 100, 10):\n",
    "            df_test_subset.loc[:, f\"Model_1_q{qu}\"] = df_test_subset['Model_1_q50'] * (qu / 100)\n",
    "\n",
    "        # Berechne den Pinball-Score für das Testen\n",
    "        test_score = pinball_score(df_test_subset, 1)\n",
    "        overall_pinball_score_test = sum(test_score) / len(test_score)\n",
    "\n",
    "        # Ergebnisse in die CSV schreiben, einschließlich der LSTM-Einheiten\n",
    "        with open(results_file_name, 'a') as f:\n",
    "            f.write(f\"{epochs},{batch_size},{sequence_lengths[0]},{dropout_rate_1},{dropout_rate_2},{reg_factor},{lstm_units_1},{lstm_units_2},{data_size},{overall_pinball_score_train},{overall_pinball_score_test}\\n\")\n",
    "\n",
    "        results_df = pd.read_csv(results_file_name)\n",
    "        best_result = results_df.loc[results_df['Pinball_Score_Test'].idxmin()]\n",
    "        print(f\"Beste Kombination: Epochs: {best_result['Epochs']}, Batch Size: {best_result['Batch_Size']}, \"\n",
    "              f\"regularizers_faktor: {best_result['Regularizers_Faktor']}, LSTM Units 1: {best_result['LSTM_Units_1']},LSTM Units 2: {best_result['LSTM_Units_2']}, \"\n",
    "              f\"Dropout Rate 1: {best_result['Dropout_Rate_1']}, Dropout Rate 2: {best_result['Dropout_Rate_2']}, \"\n",
    "              f\"Pinball Score Test: {best_result['Pinball_Score_Test']}\")\n"
   ]
  },
  {
   "cell_type": "code",
   "execution_count": 162,
   "metadata": {},
   "outputs": [
    {
     "ename": "ModuleNotFoundError",
     "evalue": "No module named 'keras.wrappers'",
     "output_type": "error",
     "traceback": [
      "\u001b[1;31m---------------------------------------------------------------------------\u001b[0m",
      "\u001b[1;31mModuleNotFoundError\u001b[0m                       Traceback (most recent call last)",
      "Cell \u001b[1;32mIn[162], line 6\u001b[0m\n\u001b[0;32m      4\u001b[0m \u001b[38;5;28;01mfrom\u001b[39;00m \u001b[38;5;21;01mkeras\u001b[39;00m\u001b[38;5;21;01m.\u001b[39;00m\u001b[38;5;21;01mmodels\u001b[39;00m \u001b[38;5;28;01mimport\u001b[39;00m Sequential\n\u001b[0;32m      5\u001b[0m \u001b[38;5;28;01mfrom\u001b[39;00m \u001b[38;5;21;01mkeras\u001b[39;00m\u001b[38;5;21;01m.\u001b[39;00m\u001b[38;5;21;01mlayers\u001b[39;00m \u001b[38;5;28;01mimport\u001b[39;00m LSTM, Dense, Dropout\n\u001b[1;32m----> 6\u001b[0m \u001b[38;5;28;01mfrom\u001b[39;00m \u001b[38;5;21;01mkeras\u001b[39;00m\u001b[38;5;21;01m.\u001b[39;00m\u001b[38;5;21;01mwrappers\u001b[39;00m\u001b[38;5;21;01m.\u001b[39;00m\u001b[38;5;21;01mscikit_learn\u001b[39;00m \u001b[38;5;28;01mimport\u001b[39;00m KerasRegressor\n\u001b[0;32m      8\u001b[0m \u001b[38;5;66;03m# Beispiel-Daten (Stelle sicher, dass du deine eigenen Daten verwendest)\u001b[39;00m\n\u001b[0;32m      9\u001b[0m \u001b[38;5;66;03m# Hier wird angenommen, dass X_train und y_train bereits vorbereitet sind.\u001b[39;00m\n\u001b[0;32m     10\u001b[0m \u001b[38;5;66;03m# Beispiel für die Form: X_train = np.random.rand(1000, 10, 1) für 1000 Proben\u001b[39;00m\n\u001b[1;32m   (...)\u001b[0m\n\u001b[0;32m     14\u001b[0m \n\u001b[0;32m     15\u001b[0m \u001b[38;5;66;03m# Definiere die Funktion für das LSTM-Modell\u001b[39;00m\n\u001b[0;32m     16\u001b[0m \u001b[38;5;28;01mdef\u001b[39;00m \u001b[38;5;21mcreate_model\u001b[39m(units\u001b[38;5;241m=\u001b[39m\u001b[38;5;241m50\u001b[39m, dropout_rate\u001b[38;5;241m=\u001b[39m\u001b[38;5;241m0.2\u001b[39m):\n",
      "\u001b[1;31mModuleNotFoundError\u001b[0m: No module named 'keras.wrappers'"
     ]
    }
   ],
   "source": [
    "# Definiere die Funktion für das LSTM-Modell\n",
    "def create_model(=50, dropout_rate=0.2):\n",
    "    model = Sequential()\n",
    "    model.add(LSTM(units=units, return_sequences=True, input_shape=(X_train.shape[1], X_train.shape[2])))\n",
    "    model.add(Dropout(dropout_rate))\n",
    "    model.add(LSTM(units=units))\n",
    "    model.add(Dropout(dropout_rate))\n",
    "    model.add(Dense(1))  # Ausgabe ist ein einzelner Wert\n",
    "    model.compile(optimizer='adam', loss='mean_squared_error')\n",
    "    return model\n",
    "\n",
    "# Erstelle den KerasRegressor\n",
    "model = KerasRegressor(build_fn=create_model, verbose=0)\n",
    "\n",
    "# Definiere die Parameter für die Grid Search\n",
    "param_grid = {\n",
    "    'units': [50, 100],\n",
    "    'dropout_rate': [0.1, 0.2],\n",
    "    'batch_size': [16, 32],\n",
    "    'epochs': [50, 100]\n",
    "}\n",
    "\n",
    "# Führe die Grid Search durch\n",
    "grid = GridSearchCV(estimator=model, param_grid=param_grid, n_jobs=-1, cv=3)\n",
    "grid_result = grid.fit(X_train, y_train)\n",
    "\n",
    "# Ergebnisse anzeigen\n",
    "print(f\"Beste Parameter: {grid_result.best_params_}\")\n",
    "print(f\"Bestes Ergebnis: {grid_result.best_score_}\")\n"
   ]
  },
  {
   "cell_type": "code",
   "execution_count": 32,
   "metadata": {},
   "outputs": [
    {
     "name": "stdout",
     "output_type": "stream",
     "text": [
      "Korrelation mit dem Zielwert:\n",
      "total_generation_MWh           1.000000\n",
      "Wind_MWh_credit                0.697678\n",
      "Wind_MW                        0.693906\n",
      "Solar_MWh_credit               0.608405\n",
      "Solar_MW                       0.608405\n",
      "SolarDownwardRadiation         0.502808\n",
      "adjusted_solar_radiation       0.502731\n",
      "WindSpeed:100                  0.493034\n",
      "WindSpeedPCA                   0.487504\n",
      "humidity_wind_interaction      0.475112\n",
      "WindSpeed                      0.474981\n",
      "temp_y_solar_interaction       0.449042\n",
      "temp_x_solar_interaction       0.440999\n",
      "wind_gradient                  0.439809\n",
      "temp_solar                     0.187486\n",
      "WindDirectionPCA               0.089220\n",
      "WindDirection                  0.088963\n",
      "WindDirection:100              0.088901\n",
      "CloudCover                     0.044710\n",
      "CloudCover_lag_1h              0.043996\n",
      "hour                           0.007100\n",
      "month                          0.006474\n",
      "cloud_cover_change             0.004426\n",
      "valid_time                     0.002092\n",
      "dtm                            0.002092\n",
      "reference_time                 0.002086\n",
      "hours_after                    0.001476\n",
      "wind_interaction               0.000647\n",
      "year                           0.000309\n",
      "wind_interaction_100          -0.000807\n",
      "day                           -0.003553\n",
      "temp_hornsea                  -0.009456\n",
      "Solar_installedcapacity_mwp   -0.012044\n",
      "Solar_capacity_mwp            -0.013897\n",
      "RelativeHumidity              -0.022548\n",
      "boa_MWh                       -0.055463\n",
      "SS_Price                      -0.106088\n",
      "DA_Price                      -0.109539\n",
      "MIP                           -0.126533\n",
      "Name: total_generation_MWh, dtype: float64\n"
     ]
    }
   ],
   "source": [
    "correlation_matrix = df_train.corr()\n",
    "target_correlation = correlation_matrix['total_generation_MWh'].sort_values(ascending=False)\n",
    "\n",
    "print(\"Korrelation mit dem Zielwert:\")\n",
    "print(target_correlation)\n"
   ]
  },
  {
   "cell_type": "markdown",
   "metadata": {},
   "source": [
    "## Modelltraining Solar "
   ]
  },
  {
   "cell_type": "code",
   "execution_count": 209,
   "metadata": {},
   "outputs": [
    {
     "name": "stdout",
     "output_type": "stream",
     "text": [
      "Trainiere Modell mit Epochs: 100, Batch Size: 1024, regularizers_faktor: 0.4, Dropout Rate 1: 0.9, Dropout Rate 2: 0.1\n"
     ]
    },
    {
     "name": "stderr",
     "output_type": "stream",
     "text": [
      "C:\\Users\\Michael Jäckle\\AppData\\Local\\Temp\\ipykernel_14304\\512680382.py:102: SettingWithCopyWarning: \n",
      "A value is trying to be set on a copy of a slice from a DataFrame.\n",
      "Try using .loc[row_indexer,col_indexer] = value instead\n",
      "\n",
      "See the caveats in the documentation: https://pandas.pydata.org/pandas-docs/stable/user_guide/indexing.html#returning-a-view-versus-a-copy\n",
      "  df_train_subset['Model_1_q50'] = np.nan\n"
     ]
    },
    {
     "name": "stdout",
     "output_type": "stream",
     "text": [
      "\u001b[1m9375/9375\u001b[0m \u001b[32m━━━━━━━━━━━━━━━━━━━━\u001b[0m\u001b[37m\u001b[0m \u001b[1m63s\u001b[0m 7ms/step\n",
      "\u001b[1m   1/7852\u001b[0m \u001b[37m━━━━━━━━━━━━━━━━━━━━\u001b[0m \u001b[1m3:31\u001b[0m 27ms/step"
     ]
    },
    {
     "name": "stderr",
     "output_type": "stream",
     "text": [
      "C:\\Users\\Michael Jäckle\\AppData\\Local\\Temp\\ipykernel_14304\\512680382.py:106: SettingWithCopyWarning: \n",
      "A value is trying to be set on a copy of a slice from a DataFrame.\n",
      "Try using .loc[row_indexer,col_indexer] = value instead\n",
      "\n",
      "See the caveats in the documentation: https://pandas.pydata.org/pandas-docs/stable/user_guide/indexing.html#returning-a-view-versus-a-copy\n",
      "  df_train_subset[f\"Model_1_q{qu}\"] = df_train_subset['Model_1_q50'] * (qu / 100)\n",
      "C:\\Users\\Michael Jäckle\\AppData\\Local\\Temp\\ipykernel_14304\\512680382.py:106: SettingWithCopyWarning: \n",
      "A value is trying to be set on a copy of a slice from a DataFrame.\n",
      "Try using .loc[row_indexer,col_indexer] = value instead\n",
      "\n",
      "See the caveats in the documentation: https://pandas.pydata.org/pandas-docs/stable/user_guide/indexing.html#returning-a-view-versus-a-copy\n",
      "  df_train_subset[f\"Model_1_q{qu}\"] = df_train_subset['Model_1_q50'] * (qu / 100)\n",
      "C:\\Users\\Michael Jäckle\\AppData\\Local\\Temp\\ipykernel_14304\\512680382.py:106: SettingWithCopyWarning: \n",
      "A value is trying to be set on a copy of a slice from a DataFrame.\n",
      "Try using .loc[row_indexer,col_indexer] = value instead\n",
      "\n",
      "See the caveats in the documentation: https://pandas.pydata.org/pandas-docs/stable/user_guide/indexing.html#returning-a-view-versus-a-copy\n",
      "  df_train_subset[f\"Model_1_q{qu}\"] = df_train_subset['Model_1_q50'] * (qu / 100)\n",
      "C:\\Users\\Michael Jäckle\\AppData\\Local\\Temp\\ipykernel_14304\\512680382.py:106: SettingWithCopyWarning: \n",
      "A value is trying to be set on a copy of a slice from a DataFrame.\n",
      "Try using .loc[row_indexer,col_indexer] = value instead\n",
      "\n",
      "See the caveats in the documentation: https://pandas.pydata.org/pandas-docs/stable/user_guide/indexing.html#returning-a-view-versus-a-copy\n",
      "  df_train_subset[f\"Model_1_q{qu}\"] = df_train_subset['Model_1_q50'] * (qu / 100)\n",
      "C:\\Users\\Michael Jäckle\\AppData\\Local\\Temp\\ipykernel_14304\\512680382.py:106: SettingWithCopyWarning: \n",
      "A value is trying to be set on a copy of a slice from a DataFrame.\n",
      "Try using .loc[row_indexer,col_indexer] = value instead\n",
      "\n",
      "See the caveats in the documentation: https://pandas.pydata.org/pandas-docs/stable/user_guide/indexing.html#returning-a-view-versus-a-copy\n",
      "  df_train_subset[f\"Model_1_q{qu}\"] = df_train_subset['Model_1_q50'] * (qu / 100)\n",
      "C:\\Users\\Michael Jäckle\\AppData\\Local\\Temp\\ipykernel_14304\\512680382.py:106: SettingWithCopyWarning: \n",
      "A value is trying to be set on a copy of a slice from a DataFrame.\n",
      "Try using .loc[row_indexer,col_indexer] = value instead\n",
      "\n",
      "See the caveats in the documentation: https://pandas.pydata.org/pandas-docs/stable/user_guide/indexing.html#returning-a-view-versus-a-copy\n",
      "  df_train_subset[f\"Model_1_q{qu}\"] = df_train_subset['Model_1_q50'] * (qu / 100)\n",
      "C:\\Users\\Michael Jäckle\\AppData\\Local\\Temp\\ipykernel_14304\\512680382.py:106: SettingWithCopyWarning: \n",
      "A value is trying to be set on a copy of a slice from a DataFrame.\n",
      "Try using .loc[row_indexer,col_indexer] = value instead\n",
      "\n",
      "See the caveats in the documentation: https://pandas.pydata.org/pandas-docs/stable/user_guide/indexing.html#returning-a-view-versus-a-copy\n",
      "  df_train_subset[f\"Model_1_q{qu}\"] = df_train_subset['Model_1_q50'] * (qu / 100)\n",
      "C:\\Users\\Michael Jäckle\\AppData\\Local\\Temp\\ipykernel_14304\\512680382.py:106: SettingWithCopyWarning: \n",
      "A value is trying to be set on a copy of a slice from a DataFrame.\n",
      "Try using .loc[row_indexer,col_indexer] = value instead\n",
      "\n",
      "See the caveats in the documentation: https://pandas.pydata.org/pandas-docs/stable/user_guide/indexing.html#returning-a-view-versus-a-copy\n",
      "  df_train_subset[f\"Model_1_q{qu}\"] = df_train_subset['Model_1_q50'] * (qu / 100)\n",
      "C:\\Users\\Michael Jäckle\\AppData\\Local\\Temp\\ipykernel_14304\\512680382.py:111: SettingWithCopyWarning: \n",
      "A value is trying to be set on a copy of a slice from a DataFrame.\n",
      "Try using .loc[row_indexer,col_indexer] = value instead\n",
      "\n",
      "See the caveats in the documentation: https://pandas.pydata.org/pandas-docs/stable/user_guide/indexing.html#returning-a-view-versus-a-copy\n",
      "  df_test_subset['Model_1_q50'] = np.nan\n"
     ]
    },
    {
     "name": "stdout",
     "output_type": "stream",
     "text": [
      "\u001b[1m7852/7852\u001b[0m \u001b[32m━━━━━━━━━━━━━━━━━━━━\u001b[0m\u001b[37m\u001b[0m \u001b[1m45s\u001b[0m 6ms/step\n"
     ]
    },
    {
     "name": "stderr",
     "output_type": "stream",
     "text": [
      "C:\\Users\\Michael Jäckle\\AppData\\Local\\Temp\\ipykernel_14304\\512680382.py:115: SettingWithCopyWarning: \n",
      "A value is trying to be set on a copy of a slice from a DataFrame.\n",
      "Try using .loc[row_indexer,col_indexer] = value instead\n",
      "\n",
      "See the caveats in the documentation: https://pandas.pydata.org/pandas-docs/stable/user_guide/indexing.html#returning-a-view-versus-a-copy\n",
      "  df_test_subset[f\"Model_1_q{qu}\"] = df_test_subset['Model_1_q50'] * (qu / 100)\n",
      "C:\\Users\\Michael Jäckle\\AppData\\Local\\Temp\\ipykernel_14304\\512680382.py:115: SettingWithCopyWarning: \n",
      "A value is trying to be set on a copy of a slice from a DataFrame.\n",
      "Try using .loc[row_indexer,col_indexer] = value instead\n",
      "\n",
      "See the caveats in the documentation: https://pandas.pydata.org/pandas-docs/stable/user_guide/indexing.html#returning-a-view-versus-a-copy\n",
      "  df_test_subset[f\"Model_1_q{qu}\"] = df_test_subset['Model_1_q50'] * (qu / 100)\n",
      "C:\\Users\\Michael Jäckle\\AppData\\Local\\Temp\\ipykernel_14304\\512680382.py:115: SettingWithCopyWarning: \n",
      "A value is trying to be set on a copy of a slice from a DataFrame.\n",
      "Try using .loc[row_indexer,col_indexer] = value instead\n",
      "\n",
      "See the caveats in the documentation: https://pandas.pydata.org/pandas-docs/stable/user_guide/indexing.html#returning-a-view-versus-a-copy\n",
      "  df_test_subset[f\"Model_1_q{qu}\"] = df_test_subset['Model_1_q50'] * (qu / 100)\n",
      "C:\\Users\\Michael Jäckle\\AppData\\Local\\Temp\\ipykernel_14304\\512680382.py:115: SettingWithCopyWarning: \n",
      "A value is trying to be set on a copy of a slice from a DataFrame.\n",
      "Try using .loc[row_indexer,col_indexer] = value instead\n",
      "\n",
      "See the caveats in the documentation: https://pandas.pydata.org/pandas-docs/stable/user_guide/indexing.html#returning-a-view-versus-a-copy\n",
      "  df_test_subset[f\"Model_1_q{qu}\"] = df_test_subset['Model_1_q50'] * (qu / 100)\n",
      "C:\\Users\\Michael Jäckle\\AppData\\Local\\Temp\\ipykernel_14304\\512680382.py:115: SettingWithCopyWarning: \n",
      "A value is trying to be set on a copy of a slice from a DataFrame.\n",
      "Try using .loc[row_indexer,col_indexer] = value instead\n",
      "\n",
      "See the caveats in the documentation: https://pandas.pydata.org/pandas-docs/stable/user_guide/indexing.html#returning-a-view-versus-a-copy\n",
      "  df_test_subset[f\"Model_1_q{qu}\"] = df_test_subset['Model_1_q50'] * (qu / 100)\n",
      "C:\\Users\\Michael Jäckle\\AppData\\Local\\Temp\\ipykernel_14304\\512680382.py:115: SettingWithCopyWarning: \n",
      "A value is trying to be set on a copy of a slice from a DataFrame.\n",
      "Try using .loc[row_indexer,col_indexer] = value instead\n",
      "\n",
      "See the caveats in the documentation: https://pandas.pydata.org/pandas-docs/stable/user_guide/indexing.html#returning-a-view-versus-a-copy\n",
      "  df_test_subset[f\"Model_1_q{qu}\"] = df_test_subset['Model_1_q50'] * (qu / 100)\n",
      "C:\\Users\\Michael Jäckle\\AppData\\Local\\Temp\\ipykernel_14304\\512680382.py:115: SettingWithCopyWarning: \n",
      "A value is trying to be set on a copy of a slice from a DataFrame.\n",
      "Try using .loc[row_indexer,col_indexer] = value instead\n",
      "\n",
      "See the caveats in the documentation: https://pandas.pydata.org/pandas-docs/stable/user_guide/indexing.html#returning-a-view-versus-a-copy\n",
      "  df_test_subset[f\"Model_1_q{qu}\"] = df_test_subset['Model_1_q50'] * (qu / 100)\n",
      "C:\\Users\\Michael Jäckle\\AppData\\Local\\Temp\\ipykernel_14304\\512680382.py:115: SettingWithCopyWarning: \n",
      "A value is trying to be set on a copy of a slice from a DataFrame.\n",
      "Try using .loc[row_indexer,col_indexer] = value instead\n",
      "\n",
      "See the caveats in the documentation: https://pandas.pydata.org/pandas-docs/stable/user_guide/indexing.html#returning-a-view-versus-a-copy\n",
      "  df_test_subset[f\"Model_1_q{qu}\"] = df_test_subset['Model_1_q50'] * (qu / 100)\n"
     ]
    },
    {
     "name": "stdout",
     "output_type": "stream",
     "text": [
      "Beste Kombination: Epochs: 100.0, Batch Size: 1024.0, regularizers_faktor: 0.4, LSTM Units 1: 64.0,LSTM Units 2: 64.0, Dropout Rate 1: 0.9, Dropout Rate 2: 0.1, Pinball Score Test: 139.7094456996774\n",
      "Trainiere Modell mit Epochs: 100, Batch Size: 1024, regularizers_faktor: 0.2, Dropout Rate 1: 0.9, Dropout Rate 2: 0.1\n"
     ]
    },
    {
     "name": "stderr",
     "output_type": "stream",
     "text": [
      "C:\\Users\\Michael Jäckle\\AppData\\Local\\Temp\\ipykernel_14304\\512680382.py:102: SettingWithCopyWarning: \n",
      "A value is trying to be set on a copy of a slice from a DataFrame.\n",
      "Try using .loc[row_indexer,col_indexer] = value instead\n",
      "\n",
      "See the caveats in the documentation: https://pandas.pydata.org/pandas-docs/stable/user_guide/indexing.html#returning-a-view-versus-a-copy\n",
      "  df_train_subset['Model_1_q50'] = np.nan\n"
     ]
    },
    {
     "name": "stdout",
     "output_type": "stream",
     "text": [
      "\u001b[1m9375/9375\u001b[0m \u001b[32m━━━━━━━━━━━━━━━━━━━━\u001b[0m\u001b[37m\u001b[0m \u001b[1m48s\u001b[0m 5ms/step\n",
      "\u001b[1m   1/7852\u001b[0m \u001b[37m━━━━━━━━━━━━━━━━━━━━\u001b[0m \u001b[1m3:16\u001b[0m 25ms/step"
     ]
    },
    {
     "name": "stderr",
     "output_type": "stream",
     "text": [
      "C:\\Users\\Michael Jäckle\\AppData\\Local\\Temp\\ipykernel_14304\\512680382.py:106: SettingWithCopyWarning: \n",
      "A value is trying to be set on a copy of a slice from a DataFrame.\n",
      "Try using .loc[row_indexer,col_indexer] = value instead\n",
      "\n",
      "See the caveats in the documentation: https://pandas.pydata.org/pandas-docs/stable/user_guide/indexing.html#returning-a-view-versus-a-copy\n",
      "  df_train_subset[f\"Model_1_q{qu}\"] = df_train_subset['Model_1_q50'] * (qu / 100)\n",
      "C:\\Users\\Michael Jäckle\\AppData\\Local\\Temp\\ipykernel_14304\\512680382.py:111: SettingWithCopyWarning: \n",
      "A value is trying to be set on a copy of a slice from a DataFrame.\n",
      "Try using .loc[row_indexer,col_indexer] = value instead\n",
      "\n",
      "See the caveats in the documentation: https://pandas.pydata.org/pandas-docs/stable/user_guide/indexing.html#returning-a-view-versus-a-copy\n",
      "  df_test_subset['Model_1_q50'] = np.nan\n"
     ]
    },
    {
     "name": "stdout",
     "output_type": "stream",
     "text": [
      "\u001b[1m7852/7852\u001b[0m \u001b[32m━━━━━━━━━━━━━━━━━━━━\u001b[0m\u001b[37m\u001b[0m \u001b[1m41s\u001b[0m 5ms/step\n"
     ]
    },
    {
     "name": "stderr",
     "output_type": "stream",
     "text": [
      "C:\\Users\\Michael Jäckle\\AppData\\Local\\Temp\\ipykernel_14304\\512680382.py:115: SettingWithCopyWarning: \n",
      "A value is trying to be set on a copy of a slice from a DataFrame.\n",
      "Try using .loc[row_indexer,col_indexer] = value instead\n",
      "\n",
      "See the caveats in the documentation: https://pandas.pydata.org/pandas-docs/stable/user_guide/indexing.html#returning-a-view-versus-a-copy\n",
      "  df_test_subset[f\"Model_1_q{qu}\"] = df_test_subset['Model_1_q50'] * (qu / 100)\n"
     ]
    },
    {
     "name": "stdout",
     "output_type": "stream",
     "text": [
      "Beste Kombination: Epochs: 100.0, Batch Size: 1024.0, regularizers_faktor: 0.4, LSTM Units 1: 64.0,LSTM Units 2: 64.0, Dropout Rate 1: 0.9, Dropout Rate 2: 0.1, Pinball Score Test: 139.7094456996774\n",
      "Trainiere Modell mit Epochs: 100, Batch Size: 1024, regularizers_faktor: 0.1, Dropout Rate 1: 0.9, Dropout Rate 2: 0.1\n"
     ]
    },
    {
     "name": "stderr",
     "output_type": "stream",
     "text": [
      "C:\\Users\\Michael Jäckle\\AppData\\Local\\Temp\\ipykernel_14304\\512680382.py:102: SettingWithCopyWarning: \n",
      "A value is trying to be set on a copy of a slice from a DataFrame.\n",
      "Try using .loc[row_indexer,col_indexer] = value instead\n",
      "\n",
      "See the caveats in the documentation: https://pandas.pydata.org/pandas-docs/stable/user_guide/indexing.html#returning-a-view-versus-a-copy\n",
      "  df_train_subset['Model_1_q50'] = np.nan\n"
     ]
    },
    {
     "name": "stdout",
     "output_type": "stream",
     "text": [
      "\u001b[1m9375/9375\u001b[0m \u001b[32m━━━━━━━━━━━━━━━━━━━━\u001b[0m\u001b[37m\u001b[0m \u001b[1m54s\u001b[0m 6ms/step\n",
      "\u001b[1m   1/7852\u001b[0m \u001b[37m━━━━━━━━━━━━━━━━━━━━\u001b[0m \u001b[1m3:15\u001b[0m 25ms/step"
     ]
    },
    {
     "name": "stderr",
     "output_type": "stream",
     "text": [
      "C:\\Users\\Michael Jäckle\\AppData\\Local\\Temp\\ipykernel_14304\\512680382.py:106: SettingWithCopyWarning: \n",
      "A value is trying to be set on a copy of a slice from a DataFrame.\n",
      "Try using .loc[row_indexer,col_indexer] = value instead\n",
      "\n",
      "See the caveats in the documentation: https://pandas.pydata.org/pandas-docs/stable/user_guide/indexing.html#returning-a-view-versus-a-copy\n",
      "  df_train_subset[f\"Model_1_q{qu}\"] = df_train_subset['Model_1_q50'] * (qu / 100)\n",
      "C:\\Users\\Michael Jäckle\\AppData\\Local\\Temp\\ipykernel_14304\\512680382.py:111: SettingWithCopyWarning: \n",
      "A value is trying to be set on a copy of a slice from a DataFrame.\n",
      "Try using .loc[row_indexer,col_indexer] = value instead\n",
      "\n",
      "See the caveats in the documentation: https://pandas.pydata.org/pandas-docs/stable/user_guide/indexing.html#returning-a-view-versus-a-copy\n",
      "  df_test_subset['Model_1_q50'] = np.nan\n"
     ]
    },
    {
     "name": "stdout",
     "output_type": "stream",
     "text": [
      "\u001b[1m7852/7852\u001b[0m \u001b[32m━━━━━━━━━━━━━━━━━━━━\u001b[0m\u001b[37m\u001b[0m \u001b[1m45s\u001b[0m 6ms/step\n"
     ]
    },
    {
     "name": "stderr",
     "output_type": "stream",
     "text": [
      "C:\\Users\\Michael Jäckle\\AppData\\Local\\Temp\\ipykernel_14304\\512680382.py:115: SettingWithCopyWarning: \n",
      "A value is trying to be set on a copy of a slice from a DataFrame.\n",
      "Try using .loc[row_indexer,col_indexer] = value instead\n",
      "\n",
      "See the caveats in the documentation: https://pandas.pydata.org/pandas-docs/stable/user_guide/indexing.html#returning-a-view-versus-a-copy\n",
      "  df_test_subset[f\"Model_1_q{qu}\"] = df_test_subset['Model_1_q50'] * (qu / 100)\n"
     ]
    },
    {
     "name": "stdout",
     "output_type": "stream",
     "text": [
      "Beste Kombination: Epochs: 100.0, Batch Size: 1024.0, regularizers_faktor: 0.4, LSTM Units 1: 64.0,LSTM Units 2: 64.0, Dropout Rate 1: 0.9, Dropout Rate 2: 0.1, Pinball Score Test: 139.7094456996774\n",
      "Trainiere Modell mit Epochs: 100, Batch Size: 1024, regularizers_faktor: 0.4, Dropout Rate 1: 0.9, Dropout Rate 2: 0.3\n"
     ]
    },
    {
     "name": "stderr",
     "output_type": "stream",
     "text": [
      "C:\\Users\\Michael Jäckle\\AppData\\Local\\Temp\\ipykernel_14304\\512680382.py:102: SettingWithCopyWarning: \n",
      "A value is trying to be set on a copy of a slice from a DataFrame.\n",
      "Try using .loc[row_indexer,col_indexer] = value instead\n",
      "\n",
      "See the caveats in the documentation: https://pandas.pydata.org/pandas-docs/stable/user_guide/indexing.html#returning-a-view-versus-a-copy\n",
      "  df_train_subset['Model_1_q50'] = np.nan\n"
     ]
    },
    {
     "name": "stdout",
     "output_type": "stream",
     "text": [
      "\u001b[1m9375/9375\u001b[0m \u001b[32m━━━━━━━━━━━━━━━━━━━━\u001b[0m\u001b[37m\u001b[0m \u001b[1m54s\u001b[0m 6ms/step\n",
      "\u001b[1m   1/7852\u001b[0m \u001b[37m━━━━━━━━━━━━━━━━━━━━\u001b[0m \u001b[1m3:31\u001b[0m 27ms/step"
     ]
    },
    {
     "name": "stderr",
     "output_type": "stream",
     "text": [
      "C:\\Users\\Michael Jäckle\\AppData\\Local\\Temp\\ipykernel_14304\\512680382.py:106: SettingWithCopyWarning: \n",
      "A value is trying to be set on a copy of a slice from a DataFrame.\n",
      "Try using .loc[row_indexer,col_indexer] = value instead\n",
      "\n",
      "See the caveats in the documentation: https://pandas.pydata.org/pandas-docs/stable/user_guide/indexing.html#returning-a-view-versus-a-copy\n",
      "  df_train_subset[f\"Model_1_q{qu}\"] = df_train_subset['Model_1_q50'] * (qu / 100)\n",
      "C:\\Users\\Michael Jäckle\\AppData\\Local\\Temp\\ipykernel_14304\\512680382.py:111: SettingWithCopyWarning: \n",
      "A value is trying to be set on a copy of a slice from a DataFrame.\n",
      "Try using .loc[row_indexer,col_indexer] = value instead\n",
      "\n",
      "See the caveats in the documentation: https://pandas.pydata.org/pandas-docs/stable/user_guide/indexing.html#returning-a-view-versus-a-copy\n",
      "  df_test_subset['Model_1_q50'] = np.nan\n"
     ]
    },
    {
     "name": "stdout",
     "output_type": "stream",
     "text": [
      "\u001b[1m7852/7852\u001b[0m \u001b[32m━━━━━━━━━━━━━━━━━━━━\u001b[0m\u001b[37m\u001b[0m \u001b[1m45s\u001b[0m 6ms/step\n"
     ]
    },
    {
     "name": "stderr",
     "output_type": "stream",
     "text": [
      "C:\\Users\\Michael Jäckle\\AppData\\Local\\Temp\\ipykernel_14304\\512680382.py:115: SettingWithCopyWarning: \n",
      "A value is trying to be set on a copy of a slice from a DataFrame.\n",
      "Try using .loc[row_indexer,col_indexer] = value instead\n",
      "\n",
      "See the caveats in the documentation: https://pandas.pydata.org/pandas-docs/stable/user_guide/indexing.html#returning-a-view-versus-a-copy\n",
      "  df_test_subset[f\"Model_1_q{qu}\"] = df_test_subset['Model_1_q50'] * (qu / 100)\n"
     ]
    },
    {
     "name": "stdout",
     "output_type": "stream",
     "text": [
      "Beste Kombination: Epochs: 100.0, Batch Size: 1024.0, regularizers_faktor: 0.4, LSTM Units 1: 64.0,LSTM Units 2: 64.0, Dropout Rate 1: 0.9, Dropout Rate 2: 0.1, Pinball Score Test: 139.7094456996774\n",
      "Trainiere Modell mit Epochs: 100, Batch Size: 1024, regularizers_faktor: 0.2, Dropout Rate 1: 0.9, Dropout Rate 2: 0.3\n"
     ]
    },
    {
     "name": "stderr",
     "output_type": "stream",
     "text": [
      "C:\\Users\\Michael Jäckle\\AppData\\Local\\Temp\\ipykernel_14304\\512680382.py:102: SettingWithCopyWarning: \n",
      "A value is trying to be set on a copy of a slice from a DataFrame.\n",
      "Try using .loc[row_indexer,col_indexer] = value instead\n",
      "\n",
      "See the caveats in the documentation: https://pandas.pydata.org/pandas-docs/stable/user_guide/indexing.html#returning-a-view-versus-a-copy\n",
      "  df_train_subset['Model_1_q50'] = np.nan\n"
     ]
    },
    {
     "name": "stdout",
     "output_type": "stream",
     "text": [
      "\u001b[1m9375/9375\u001b[0m \u001b[32m━━━━━━━━━━━━━━━━━━━━\u001b[0m\u001b[37m\u001b[0m \u001b[1m53s\u001b[0m 6ms/step\n",
      "\u001b[1m   1/7852\u001b[0m \u001b[37m━━━━━━━━━━━━━━━━━━━━\u001b[0m \u001b[1m3:31\u001b[0m 27ms/step"
     ]
    },
    {
     "name": "stderr",
     "output_type": "stream",
     "text": [
      "C:\\Users\\Michael Jäckle\\AppData\\Local\\Temp\\ipykernel_14304\\512680382.py:106: SettingWithCopyWarning: \n",
      "A value is trying to be set on a copy of a slice from a DataFrame.\n",
      "Try using .loc[row_indexer,col_indexer] = value instead\n",
      "\n",
      "See the caveats in the documentation: https://pandas.pydata.org/pandas-docs/stable/user_guide/indexing.html#returning-a-view-versus-a-copy\n",
      "  df_train_subset[f\"Model_1_q{qu}\"] = df_train_subset['Model_1_q50'] * (qu / 100)\n",
      "C:\\Users\\Michael Jäckle\\AppData\\Local\\Temp\\ipykernel_14304\\512680382.py:111: SettingWithCopyWarning: \n",
      "A value is trying to be set on a copy of a slice from a DataFrame.\n",
      "Try using .loc[row_indexer,col_indexer] = value instead\n",
      "\n",
      "See the caveats in the documentation: https://pandas.pydata.org/pandas-docs/stable/user_guide/indexing.html#returning-a-view-versus-a-copy\n",
      "  df_test_subset['Model_1_q50'] = np.nan\n"
     ]
    },
    {
     "name": "stdout",
     "output_type": "stream",
     "text": [
      "\u001b[1m7852/7852\u001b[0m \u001b[32m━━━━━━━━━━━━━━━━━━━━\u001b[0m\u001b[37m\u001b[0m \u001b[1m49s\u001b[0m 6ms/step\n"
     ]
    },
    {
     "name": "stderr",
     "output_type": "stream",
     "text": [
      "C:\\Users\\Michael Jäckle\\AppData\\Local\\Temp\\ipykernel_14304\\512680382.py:115: SettingWithCopyWarning: \n",
      "A value is trying to be set on a copy of a slice from a DataFrame.\n",
      "Try using .loc[row_indexer,col_indexer] = value instead\n",
      "\n",
      "See the caveats in the documentation: https://pandas.pydata.org/pandas-docs/stable/user_guide/indexing.html#returning-a-view-versus-a-copy\n",
      "  df_test_subset[f\"Model_1_q{qu}\"] = df_test_subset['Model_1_q50'] * (qu / 100)\n"
     ]
    },
    {
     "name": "stdout",
     "output_type": "stream",
     "text": [
      "Beste Kombination: Epochs: 100.0, Batch Size: 1024.0, regularizers_faktor: 0.4, LSTM Units 1: 64.0,LSTM Units 2: 64.0, Dropout Rate 1: 0.9, Dropout Rate 2: 0.1, Pinball Score Test: 139.7094456996774\n",
      "Trainiere Modell mit Epochs: 100, Batch Size: 1024, regularizers_faktor: 0.1, Dropout Rate 1: 0.9, Dropout Rate 2: 0.3\n"
     ]
    },
    {
     "name": "stderr",
     "output_type": "stream",
     "text": [
      "C:\\Users\\Michael Jäckle\\AppData\\Local\\Temp\\ipykernel_14304\\512680382.py:102: SettingWithCopyWarning: \n",
      "A value is trying to be set on a copy of a slice from a DataFrame.\n",
      "Try using .loc[row_indexer,col_indexer] = value instead\n",
      "\n",
      "See the caveats in the documentation: https://pandas.pydata.org/pandas-docs/stable/user_guide/indexing.html#returning-a-view-versus-a-copy\n",
      "  df_train_subset['Model_1_q50'] = np.nan\n"
     ]
    },
    {
     "name": "stdout",
     "output_type": "stream",
     "text": [
      "\u001b[1m9375/9375\u001b[0m \u001b[32m━━━━━━━━━━━━━━━━━━━━\u001b[0m\u001b[37m\u001b[0m \u001b[1m75s\u001b[0m 8ms/step\n"
     ]
    },
    {
     "name": "stderr",
     "output_type": "stream",
     "text": [
      "C:\\Users\\Michael Jäckle\\AppData\\Local\\Temp\\ipykernel_14304\\512680382.py:106: SettingWithCopyWarning: \n",
      "A value is trying to be set on a copy of a slice from a DataFrame.\n",
      "Try using .loc[row_indexer,col_indexer] = value instead\n",
      "\n",
      "See the caveats in the documentation: https://pandas.pydata.org/pandas-docs/stable/user_guide/indexing.html#returning-a-view-versus-a-copy\n",
      "  df_train_subset[f\"Model_1_q{qu}\"] = df_train_subset['Model_1_q50'] * (qu / 100)\n",
      "C:\\Users\\Michael Jäckle\\AppData\\Local\\Temp\\ipykernel_14304\\512680382.py:111: SettingWithCopyWarning: \n",
      "A value is trying to be set on a copy of a slice from a DataFrame.\n",
      "Try using .loc[row_indexer,col_indexer] = value instead\n",
      "\n",
      "See the caveats in the documentation: https://pandas.pydata.org/pandas-docs/stable/user_guide/indexing.html#returning-a-view-versus-a-copy\n",
      "  df_test_subset['Model_1_q50'] = np.nan\n"
     ]
    },
    {
     "name": "stdout",
     "output_type": "stream",
     "text": [
      "\u001b[1m7852/7852\u001b[0m \u001b[32m━━━━━━━━━━━━━━━━━━━━\u001b[0m\u001b[37m\u001b[0m \u001b[1m45s\u001b[0m 6ms/step\n"
     ]
    },
    {
     "name": "stderr",
     "output_type": "stream",
     "text": [
      "C:\\Users\\Michael Jäckle\\AppData\\Local\\Temp\\ipykernel_14304\\512680382.py:115: SettingWithCopyWarning: \n",
      "A value is trying to be set on a copy of a slice from a DataFrame.\n",
      "Try using .loc[row_indexer,col_indexer] = value instead\n",
      "\n",
      "See the caveats in the documentation: https://pandas.pydata.org/pandas-docs/stable/user_guide/indexing.html#returning-a-view-versus-a-copy\n",
      "  df_test_subset[f\"Model_1_q{qu}\"] = df_test_subset['Model_1_q50'] * (qu / 100)\n"
     ]
    },
    {
     "name": "stdout",
     "output_type": "stream",
     "text": [
      "Beste Kombination: Epochs: 100.0, Batch Size: 1024.0, regularizers_faktor: 0.4, LSTM Units 1: 64.0,LSTM Units 2: 64.0, Dropout Rate 1: 0.9, Dropout Rate 2: 0.1, Pinball Score Test: 139.7094456996774\n",
      "Trainiere Modell mit Epochs: 100, Batch Size: 1024, regularizers_faktor: 0.4, Dropout Rate 1: 0.9, Dropout Rate 2: 0.7\n"
     ]
    },
    {
     "name": "stderr",
     "output_type": "stream",
     "text": [
      "C:\\Users\\Michael Jäckle\\AppData\\Local\\Temp\\ipykernel_14304\\512680382.py:102: SettingWithCopyWarning: \n",
      "A value is trying to be set on a copy of a slice from a DataFrame.\n",
      "Try using .loc[row_indexer,col_indexer] = value instead\n",
      "\n",
      "See the caveats in the documentation: https://pandas.pydata.org/pandas-docs/stable/user_guide/indexing.html#returning-a-view-versus-a-copy\n",
      "  df_train_subset['Model_1_q50'] = np.nan\n"
     ]
    },
    {
     "name": "stdout",
     "output_type": "stream",
     "text": [
      "\u001b[1m9375/9375\u001b[0m \u001b[32m━━━━━━━━━━━━━━━━━━━━\u001b[0m\u001b[37m\u001b[0m \u001b[1m54s\u001b[0m 6ms/step\n",
      "\u001b[1m   1/7852\u001b[0m \u001b[37m━━━━━━━━━━━━━━━━━━━━\u001b[0m \u001b[1m3:16\u001b[0m 25ms/step"
     ]
    },
    {
     "name": "stderr",
     "output_type": "stream",
     "text": [
      "C:\\Users\\Michael Jäckle\\AppData\\Local\\Temp\\ipykernel_14304\\512680382.py:106: SettingWithCopyWarning: \n",
      "A value is trying to be set on a copy of a slice from a DataFrame.\n",
      "Try using .loc[row_indexer,col_indexer] = value instead\n",
      "\n",
      "See the caveats in the documentation: https://pandas.pydata.org/pandas-docs/stable/user_guide/indexing.html#returning-a-view-versus-a-copy\n",
      "  df_train_subset[f\"Model_1_q{qu}\"] = df_train_subset['Model_1_q50'] * (qu / 100)\n",
      "C:\\Users\\Michael Jäckle\\AppData\\Local\\Temp\\ipykernel_14304\\512680382.py:111: SettingWithCopyWarning: \n",
      "A value is trying to be set on a copy of a slice from a DataFrame.\n",
      "Try using .loc[row_indexer,col_indexer] = value instead\n",
      "\n",
      "See the caveats in the documentation: https://pandas.pydata.org/pandas-docs/stable/user_guide/indexing.html#returning-a-view-versus-a-copy\n",
      "  df_test_subset['Model_1_q50'] = np.nan\n"
     ]
    },
    {
     "name": "stdout",
     "output_type": "stream",
     "text": [
      "\u001b[1m7852/7852\u001b[0m \u001b[32m━━━━━━━━━━━━━━━━━━━━\u001b[0m\u001b[37m\u001b[0m \u001b[1m51s\u001b[0m 7ms/step\n"
     ]
    },
    {
     "name": "stderr",
     "output_type": "stream",
     "text": [
      "C:\\Users\\Michael Jäckle\\AppData\\Local\\Temp\\ipykernel_14304\\512680382.py:115: SettingWithCopyWarning: \n",
      "A value is trying to be set on a copy of a slice from a DataFrame.\n",
      "Try using .loc[row_indexer,col_indexer] = value instead\n",
      "\n",
      "See the caveats in the documentation: https://pandas.pydata.org/pandas-docs/stable/user_guide/indexing.html#returning-a-view-versus-a-copy\n",
      "  df_test_subset[f\"Model_1_q{qu}\"] = df_test_subset['Model_1_q50'] * (qu / 100)\n"
     ]
    },
    {
     "name": "stdout",
     "output_type": "stream",
     "text": [
      "Beste Kombination: Epochs: 100.0, Batch Size: 1024.0, regularizers_faktor: 0.4, LSTM Units 1: 64.0,LSTM Units 2: 64.0, Dropout Rate 1: 0.9, Dropout Rate 2: 0.1, Pinball Score Test: 139.7094456996774\n",
      "Trainiere Modell mit Epochs: 100, Batch Size: 1024, regularizers_faktor: 0.2, Dropout Rate 1: 0.9, Dropout Rate 2: 0.7\n"
     ]
    },
    {
     "name": "stderr",
     "output_type": "stream",
     "text": [
      "C:\\Users\\Michael Jäckle\\AppData\\Local\\Temp\\ipykernel_14304\\512680382.py:102: SettingWithCopyWarning: \n",
      "A value is trying to be set on a copy of a slice from a DataFrame.\n",
      "Try using .loc[row_indexer,col_indexer] = value instead\n",
      "\n",
      "See the caveats in the documentation: https://pandas.pydata.org/pandas-docs/stable/user_guide/indexing.html#returning-a-view-versus-a-copy\n",
      "  df_train_subset['Model_1_q50'] = np.nan\n"
     ]
    },
    {
     "name": "stdout",
     "output_type": "stream",
     "text": [
      "\u001b[1m9375/9375\u001b[0m \u001b[32m━━━━━━━━━━━━━━━━━━━━\u001b[0m\u001b[37m\u001b[0m \u001b[1m60s\u001b[0m 6ms/step\n",
      "\u001b[1m   1/7852\u001b[0m \u001b[37m━━━━━━━━━━━━━━━━━━━━\u001b[0m \u001b[1m3:16\u001b[0m 25ms/step"
     ]
    },
    {
     "name": "stderr",
     "output_type": "stream",
     "text": [
      "C:\\Users\\Michael Jäckle\\AppData\\Local\\Temp\\ipykernel_14304\\512680382.py:106: SettingWithCopyWarning: \n",
      "A value is trying to be set on a copy of a slice from a DataFrame.\n",
      "Try using .loc[row_indexer,col_indexer] = value instead\n",
      "\n",
      "See the caveats in the documentation: https://pandas.pydata.org/pandas-docs/stable/user_guide/indexing.html#returning-a-view-versus-a-copy\n",
      "  df_train_subset[f\"Model_1_q{qu}\"] = df_train_subset['Model_1_q50'] * (qu / 100)\n",
      "C:\\Users\\Michael Jäckle\\AppData\\Local\\Temp\\ipykernel_14304\\512680382.py:111: SettingWithCopyWarning: \n",
      "A value is trying to be set on a copy of a slice from a DataFrame.\n",
      "Try using .loc[row_indexer,col_indexer] = value instead\n",
      "\n",
      "See the caveats in the documentation: https://pandas.pydata.org/pandas-docs/stable/user_guide/indexing.html#returning-a-view-versus-a-copy\n",
      "  df_test_subset['Model_1_q50'] = np.nan\n"
     ]
    },
    {
     "name": "stdout",
     "output_type": "stream",
     "text": [
      "\u001b[1m7852/7852\u001b[0m \u001b[32m━━━━━━━━━━━━━━━━━━━━\u001b[0m\u001b[37m\u001b[0m \u001b[1m51s\u001b[0m 6ms/step\n"
     ]
    },
    {
     "name": "stderr",
     "output_type": "stream",
     "text": [
      "C:\\Users\\Michael Jäckle\\AppData\\Local\\Temp\\ipykernel_14304\\512680382.py:115: SettingWithCopyWarning: \n",
      "A value is trying to be set on a copy of a slice from a DataFrame.\n",
      "Try using .loc[row_indexer,col_indexer] = value instead\n",
      "\n",
      "See the caveats in the documentation: https://pandas.pydata.org/pandas-docs/stable/user_guide/indexing.html#returning-a-view-versus-a-copy\n",
      "  df_test_subset[f\"Model_1_q{qu}\"] = df_test_subset['Model_1_q50'] * (qu / 100)\n"
     ]
    },
    {
     "name": "stdout",
     "output_type": "stream",
     "text": [
      "Beste Kombination: Epochs: 100.0, Batch Size: 1024.0, regularizers_faktor: 0.4, LSTM Units 1: 64.0,LSTM Units 2: 64.0, Dropout Rate 1: 0.9, Dropout Rate 2: 0.1, Pinball Score Test: 139.7094456996774\n",
      "Trainiere Modell mit Epochs: 100, Batch Size: 1024, regularizers_faktor: 0.1, Dropout Rate 1: 0.9, Dropout Rate 2: 0.7\n"
     ]
    },
    {
     "name": "stderr",
     "output_type": "stream",
     "text": [
      "C:\\Users\\Michael Jäckle\\AppData\\Local\\Temp\\ipykernel_14304\\512680382.py:102: SettingWithCopyWarning: \n",
      "A value is trying to be set on a copy of a slice from a DataFrame.\n",
      "Try using .loc[row_indexer,col_indexer] = value instead\n",
      "\n",
      "See the caveats in the documentation: https://pandas.pydata.org/pandas-docs/stable/user_guide/indexing.html#returning-a-view-versus-a-copy\n",
      "  df_train_subset['Model_1_q50'] = np.nan\n"
     ]
    },
    {
     "name": "stdout",
     "output_type": "stream",
     "text": [
      "\u001b[1m9375/9375\u001b[0m \u001b[32m━━━━━━━━━━━━━━━━━━━━\u001b[0m\u001b[37m\u001b[0m \u001b[1m60s\u001b[0m 6ms/step\n",
      "\u001b[1m   1/7852\u001b[0m \u001b[37m━━━━━━━━━━━━━━━━━━━━\u001b[0m \u001b[1m3:24\u001b[0m 26ms/step"
     ]
    },
    {
     "name": "stderr",
     "output_type": "stream",
     "text": [
      "C:\\Users\\Michael Jäckle\\AppData\\Local\\Temp\\ipykernel_14304\\512680382.py:106: SettingWithCopyWarning: \n",
      "A value is trying to be set on a copy of a slice from a DataFrame.\n",
      "Try using .loc[row_indexer,col_indexer] = value instead\n",
      "\n",
      "See the caveats in the documentation: https://pandas.pydata.org/pandas-docs/stable/user_guide/indexing.html#returning-a-view-versus-a-copy\n",
      "  df_train_subset[f\"Model_1_q{qu}\"] = df_train_subset['Model_1_q50'] * (qu / 100)\n",
      "C:\\Users\\Michael Jäckle\\AppData\\Local\\Temp\\ipykernel_14304\\512680382.py:111: SettingWithCopyWarning: \n",
      "A value is trying to be set on a copy of a slice from a DataFrame.\n",
      "Try using .loc[row_indexer,col_indexer] = value instead\n",
      "\n",
      "See the caveats in the documentation: https://pandas.pydata.org/pandas-docs/stable/user_guide/indexing.html#returning-a-view-versus-a-copy\n",
      "  df_test_subset['Model_1_q50'] = np.nan\n"
     ]
    },
    {
     "name": "stdout",
     "output_type": "stream",
     "text": [
      "\u001b[1m7852/7852\u001b[0m \u001b[32m━━━━━━━━━━━━━━━━━━━━\u001b[0m\u001b[37m\u001b[0m \u001b[1m49s\u001b[0m 6ms/step\n"
     ]
    },
    {
     "name": "stderr",
     "output_type": "stream",
     "text": [
      "C:\\Users\\Michael Jäckle\\AppData\\Local\\Temp\\ipykernel_14304\\512680382.py:115: SettingWithCopyWarning: \n",
      "A value is trying to be set on a copy of a slice from a DataFrame.\n",
      "Try using .loc[row_indexer,col_indexer] = value instead\n",
      "\n",
      "See the caveats in the documentation: https://pandas.pydata.org/pandas-docs/stable/user_guide/indexing.html#returning-a-view-versus-a-copy\n",
      "  df_test_subset[f\"Model_1_q{qu}\"] = df_test_subset['Model_1_q50'] * (qu / 100)\n"
     ]
    },
    {
     "name": "stdout",
     "output_type": "stream",
     "text": [
      "Beste Kombination: Epochs: 100.0, Batch Size: 1024.0, regularizers_faktor: 0.4, LSTM Units 1: 64.0,LSTM Units 2: 64.0, Dropout Rate 1: 0.9, Dropout Rate 2: 0.1, Pinball Score Test: 139.7094456996774\n",
      "Trainiere Modell mit Epochs: 100, Batch Size: 1024, regularizers_faktor: 0.4, Dropout Rate 1: 0.9, Dropout Rate 2: 0.9\n"
     ]
    },
    {
     "name": "stderr",
     "output_type": "stream",
     "text": [
      "C:\\Users\\Michael Jäckle\\AppData\\Local\\Temp\\ipykernel_14304\\512680382.py:102: SettingWithCopyWarning: \n",
      "A value is trying to be set on a copy of a slice from a DataFrame.\n",
      "Try using .loc[row_indexer,col_indexer] = value instead\n",
      "\n",
      "See the caveats in the documentation: https://pandas.pydata.org/pandas-docs/stable/user_guide/indexing.html#returning-a-view-versus-a-copy\n",
      "  df_train_subset['Model_1_q50'] = np.nan\n"
     ]
    },
    {
     "name": "stdout",
     "output_type": "stream",
     "text": [
      "\u001b[1m9375/9375\u001b[0m \u001b[32m━━━━━━━━━━━━━━━━━━━━\u001b[0m\u001b[37m\u001b[0m \u001b[1m64s\u001b[0m 7ms/step\n",
      "\u001b[1m   1/7852\u001b[0m \u001b[37m━━━━━━━━━━━━━━━━━━━━\u001b[0m \u001b[1m3:47\u001b[0m 29ms/step"
     ]
    },
    {
     "name": "stderr",
     "output_type": "stream",
     "text": [
      "C:\\Users\\Michael Jäckle\\AppData\\Local\\Temp\\ipykernel_14304\\512680382.py:106: SettingWithCopyWarning: \n",
      "A value is trying to be set on a copy of a slice from a DataFrame.\n",
      "Try using .loc[row_indexer,col_indexer] = value instead\n",
      "\n",
      "See the caveats in the documentation: https://pandas.pydata.org/pandas-docs/stable/user_guide/indexing.html#returning-a-view-versus-a-copy\n",
      "  df_train_subset[f\"Model_1_q{qu}\"] = df_train_subset['Model_1_q50'] * (qu / 100)\n",
      "C:\\Users\\Michael Jäckle\\AppData\\Local\\Temp\\ipykernel_14304\\512680382.py:111: SettingWithCopyWarning: \n",
      "A value is trying to be set on a copy of a slice from a DataFrame.\n",
      "Try using .loc[row_indexer,col_indexer] = value instead\n",
      "\n",
      "See the caveats in the documentation: https://pandas.pydata.org/pandas-docs/stable/user_guide/indexing.html#returning-a-view-versus-a-copy\n",
      "  df_test_subset['Model_1_q50'] = np.nan\n"
     ]
    },
    {
     "name": "stdout",
     "output_type": "stream",
     "text": [
      "\u001b[1m7852/7852\u001b[0m \u001b[32m━━━━━━━━━━━━━━━━━━━━\u001b[0m\u001b[37m\u001b[0m \u001b[1m49s\u001b[0m 6ms/step\n"
     ]
    },
    {
     "name": "stderr",
     "output_type": "stream",
     "text": [
      "C:\\Users\\Michael Jäckle\\AppData\\Local\\Temp\\ipykernel_14304\\512680382.py:115: SettingWithCopyWarning: \n",
      "A value is trying to be set on a copy of a slice from a DataFrame.\n",
      "Try using .loc[row_indexer,col_indexer] = value instead\n",
      "\n",
      "See the caveats in the documentation: https://pandas.pydata.org/pandas-docs/stable/user_guide/indexing.html#returning-a-view-versus-a-copy\n",
      "  df_test_subset[f\"Model_1_q{qu}\"] = df_test_subset['Model_1_q50'] * (qu / 100)\n"
     ]
    },
    {
     "name": "stdout",
     "output_type": "stream",
     "text": [
      "Beste Kombination: Epochs: 100.0, Batch Size: 1024.0, regularizers_faktor: 0.4, LSTM Units 1: 64.0,LSTM Units 2: 64.0, Dropout Rate 1: 0.9, Dropout Rate 2: 0.1, Pinball Score Test: 139.7094456996774\n",
      "Trainiere Modell mit Epochs: 100, Batch Size: 1024, regularizers_faktor: 0.2, Dropout Rate 1: 0.9, Dropout Rate 2: 0.9\n"
     ]
    },
    {
     "name": "stderr",
     "output_type": "stream",
     "text": [
      "C:\\Users\\Michael Jäckle\\AppData\\Local\\Temp\\ipykernel_14304\\512680382.py:102: SettingWithCopyWarning: \n",
      "A value is trying to be set on a copy of a slice from a DataFrame.\n",
      "Try using .loc[row_indexer,col_indexer] = value instead\n",
      "\n",
      "See the caveats in the documentation: https://pandas.pydata.org/pandas-docs/stable/user_guide/indexing.html#returning-a-view-versus-a-copy\n",
      "  df_train_subset['Model_1_q50'] = np.nan\n"
     ]
    },
    {
     "name": "stdout",
     "output_type": "stream",
     "text": [
      "\u001b[1m9375/9375\u001b[0m \u001b[32m━━━━━━━━━━━━━━━━━━━━\u001b[0m\u001b[37m\u001b[0m \u001b[1m58s\u001b[0m 6ms/step\n",
      "\u001b[1m   1/7852\u001b[0m \u001b[37m━━━━━━━━━━━━━━━━━━━━\u001b[0m \u001b[1m3:24\u001b[0m 26ms/step"
     ]
    },
    {
     "name": "stderr",
     "output_type": "stream",
     "text": [
      "C:\\Users\\Michael Jäckle\\AppData\\Local\\Temp\\ipykernel_14304\\512680382.py:106: SettingWithCopyWarning: \n",
      "A value is trying to be set on a copy of a slice from a DataFrame.\n",
      "Try using .loc[row_indexer,col_indexer] = value instead\n",
      "\n",
      "See the caveats in the documentation: https://pandas.pydata.org/pandas-docs/stable/user_guide/indexing.html#returning-a-view-versus-a-copy\n",
      "  df_train_subset[f\"Model_1_q{qu}\"] = df_train_subset['Model_1_q50'] * (qu / 100)\n",
      "C:\\Users\\Michael Jäckle\\AppData\\Local\\Temp\\ipykernel_14304\\512680382.py:111: SettingWithCopyWarning: \n",
      "A value is trying to be set on a copy of a slice from a DataFrame.\n",
      "Try using .loc[row_indexer,col_indexer] = value instead\n",
      "\n",
      "See the caveats in the documentation: https://pandas.pydata.org/pandas-docs/stable/user_guide/indexing.html#returning-a-view-versus-a-copy\n",
      "  df_test_subset['Model_1_q50'] = np.nan\n"
     ]
    },
    {
     "name": "stdout",
     "output_type": "stream",
     "text": [
      "\u001b[1m7852/7852\u001b[0m \u001b[32m━━━━━━━━━━━━━━━━━━━━\u001b[0m\u001b[37m\u001b[0m \u001b[1m48s\u001b[0m 6ms/step\n"
     ]
    },
    {
     "name": "stderr",
     "output_type": "stream",
     "text": [
      "C:\\Users\\Michael Jäckle\\AppData\\Local\\Temp\\ipykernel_14304\\512680382.py:115: SettingWithCopyWarning: \n",
      "A value is trying to be set on a copy of a slice from a DataFrame.\n",
      "Try using .loc[row_indexer,col_indexer] = value instead\n",
      "\n",
      "See the caveats in the documentation: https://pandas.pydata.org/pandas-docs/stable/user_guide/indexing.html#returning-a-view-versus-a-copy\n",
      "  df_test_subset[f\"Model_1_q{qu}\"] = df_test_subset['Model_1_q50'] * (qu / 100)\n"
     ]
    },
    {
     "name": "stdout",
     "output_type": "stream",
     "text": [
      "Beste Kombination: Epochs: 100.0, Batch Size: 1024.0, regularizers_faktor: 0.4, LSTM Units 1: 64.0,LSTM Units 2: 64.0, Dropout Rate 1: 0.9, Dropout Rate 2: 0.1, Pinball Score Test: 139.7094456996774\n",
      "Trainiere Modell mit Epochs: 100, Batch Size: 1024, regularizers_faktor: 0.1, Dropout Rate 1: 0.9, Dropout Rate 2: 0.9\n"
     ]
    },
    {
     "name": "stderr",
     "output_type": "stream",
     "text": [
      "C:\\Users\\Michael Jäckle\\AppData\\Local\\Temp\\ipykernel_14304\\512680382.py:102: SettingWithCopyWarning: \n",
      "A value is trying to be set on a copy of a slice from a DataFrame.\n",
      "Try using .loc[row_indexer,col_indexer] = value instead\n",
      "\n",
      "See the caveats in the documentation: https://pandas.pydata.org/pandas-docs/stable/user_guide/indexing.html#returning-a-view-versus-a-copy\n",
      "  df_train_subset['Model_1_q50'] = np.nan\n"
     ]
    },
    {
     "name": "stdout",
     "output_type": "stream",
     "text": [
      "\u001b[1m9375/9375\u001b[0m \u001b[32m━━━━━━━━━━━━━━━━━━━━\u001b[0m\u001b[37m\u001b[0m \u001b[1m65s\u001b[0m 7ms/step\n",
      "\u001b[1m   1/7852\u001b[0m \u001b[37m━━━━━━━━━━━━━━━━━━━━\u001b[0m \u001b[1m3:24\u001b[0m 26ms/step"
     ]
    },
    {
     "name": "stderr",
     "output_type": "stream",
     "text": [
      "C:\\Users\\Michael Jäckle\\AppData\\Local\\Temp\\ipykernel_14304\\512680382.py:106: SettingWithCopyWarning: \n",
      "A value is trying to be set on a copy of a slice from a DataFrame.\n",
      "Try using .loc[row_indexer,col_indexer] = value instead\n",
      "\n",
      "See the caveats in the documentation: https://pandas.pydata.org/pandas-docs/stable/user_guide/indexing.html#returning-a-view-versus-a-copy\n",
      "  df_train_subset[f\"Model_1_q{qu}\"] = df_train_subset['Model_1_q50'] * (qu / 100)\n",
      "C:\\Users\\Michael Jäckle\\AppData\\Local\\Temp\\ipykernel_14304\\512680382.py:111: SettingWithCopyWarning: \n",
      "A value is trying to be set on a copy of a slice from a DataFrame.\n",
      "Try using .loc[row_indexer,col_indexer] = value instead\n",
      "\n",
      "See the caveats in the documentation: https://pandas.pydata.org/pandas-docs/stable/user_guide/indexing.html#returning-a-view-versus-a-copy\n",
      "  df_test_subset['Model_1_q50'] = np.nan\n"
     ]
    },
    {
     "name": "stdout",
     "output_type": "stream",
     "text": [
      "\u001b[1m7852/7852\u001b[0m \u001b[32m━━━━━━━━━━━━━━━━━━━━\u001b[0m\u001b[37m\u001b[0m \u001b[1m48s\u001b[0m 6ms/step\n"
     ]
    },
    {
     "name": "stderr",
     "output_type": "stream",
     "text": [
      "C:\\Users\\Michael Jäckle\\AppData\\Local\\Temp\\ipykernel_14304\\512680382.py:115: SettingWithCopyWarning: \n",
      "A value is trying to be set on a copy of a slice from a DataFrame.\n",
      "Try using .loc[row_indexer,col_indexer] = value instead\n",
      "\n",
      "See the caveats in the documentation: https://pandas.pydata.org/pandas-docs/stable/user_guide/indexing.html#returning-a-view-versus-a-copy\n",
      "  df_test_subset[f\"Model_1_q{qu}\"] = df_test_subset['Model_1_q50'] * (qu / 100)\n"
     ]
    },
    {
     "name": "stdout",
     "output_type": "stream",
     "text": [
      "Beste Kombination: Epochs: 100.0, Batch Size: 1024.0, regularizers_faktor: 0.1, LSTM Units 1: 64.0,LSTM Units 2: 64.0, Dropout Rate 1: 0.9, Dropout Rate 2: 0.9, Pinball Score Test: 139.70941166518514\n",
      "Trainiere Modell mit Epochs: 100, Batch Size: 1024, regularizers_faktor: 0.4, Dropout Rate 1: 0.7, Dropout Rate 2: 0.1\n"
     ]
    },
    {
     "name": "stderr",
     "output_type": "stream",
     "text": [
      "C:\\Users\\Michael Jäckle\\AppData\\Local\\Temp\\ipykernel_14304\\512680382.py:102: SettingWithCopyWarning: \n",
      "A value is trying to be set on a copy of a slice from a DataFrame.\n",
      "Try using .loc[row_indexer,col_indexer] = value instead\n",
      "\n",
      "See the caveats in the documentation: https://pandas.pydata.org/pandas-docs/stable/user_guide/indexing.html#returning-a-view-versus-a-copy\n",
      "  df_train_subset['Model_1_q50'] = np.nan\n"
     ]
    },
    {
     "name": "stdout",
     "output_type": "stream",
     "text": [
      "\u001b[1m9375/9375\u001b[0m \u001b[32m━━━━━━━━━━━━━━━━━━━━\u001b[0m\u001b[37m\u001b[0m \u001b[1m64s\u001b[0m 7ms/step\n",
      "\u001b[1m   1/7852\u001b[0m \u001b[37m━━━━━━━━━━━━━━━━━━━━\u001b[0m \u001b[1m3:39\u001b[0m 28ms/step"
     ]
    },
    {
     "name": "stderr",
     "output_type": "stream",
     "text": [
      "C:\\Users\\Michael Jäckle\\AppData\\Local\\Temp\\ipykernel_14304\\512680382.py:106: SettingWithCopyWarning: \n",
      "A value is trying to be set on a copy of a slice from a DataFrame.\n",
      "Try using .loc[row_indexer,col_indexer] = value instead\n",
      "\n",
      "See the caveats in the documentation: https://pandas.pydata.org/pandas-docs/stable/user_guide/indexing.html#returning-a-view-versus-a-copy\n",
      "  df_train_subset[f\"Model_1_q{qu}\"] = df_train_subset['Model_1_q50'] * (qu / 100)\n",
      "C:\\Users\\Michael Jäckle\\AppData\\Local\\Temp\\ipykernel_14304\\512680382.py:111: SettingWithCopyWarning: \n",
      "A value is trying to be set on a copy of a slice from a DataFrame.\n",
      "Try using .loc[row_indexer,col_indexer] = value instead\n",
      "\n",
      "See the caveats in the documentation: https://pandas.pydata.org/pandas-docs/stable/user_guide/indexing.html#returning-a-view-versus-a-copy\n",
      "  df_test_subset['Model_1_q50'] = np.nan\n"
     ]
    },
    {
     "name": "stdout",
     "output_type": "stream",
     "text": [
      "\u001b[1m7852/7852\u001b[0m \u001b[32m━━━━━━━━━━━━━━━━━━━━\u001b[0m\u001b[37m\u001b[0m \u001b[1m49s\u001b[0m 6ms/step\n"
     ]
    },
    {
     "name": "stderr",
     "output_type": "stream",
     "text": [
      "C:\\Users\\Michael Jäckle\\AppData\\Local\\Temp\\ipykernel_14304\\512680382.py:115: SettingWithCopyWarning: \n",
      "A value is trying to be set on a copy of a slice from a DataFrame.\n",
      "Try using .loc[row_indexer,col_indexer] = value instead\n",
      "\n",
      "See the caveats in the documentation: https://pandas.pydata.org/pandas-docs/stable/user_guide/indexing.html#returning-a-view-versus-a-copy\n",
      "  df_test_subset[f\"Model_1_q{qu}\"] = df_test_subset['Model_1_q50'] * (qu / 100)\n"
     ]
    },
    {
     "name": "stdout",
     "output_type": "stream",
     "text": [
      "Beste Kombination: Epochs: 100.0, Batch Size: 1024.0, regularizers_faktor: 0.4, LSTM Units 1: 64.0,LSTM Units 2: 64.0, Dropout Rate 1: 0.7, Dropout Rate 2: 0.1, Pinball Score Test: 139.70853411863402\n",
      "Trainiere Modell mit Epochs: 100, Batch Size: 1024, regularizers_faktor: 0.2, Dropout Rate 1: 0.7, Dropout Rate 2: 0.1\n"
     ]
    },
    {
     "name": "stderr",
     "output_type": "stream",
     "text": [
      "C:\\Users\\Michael Jäckle\\AppData\\Local\\Temp\\ipykernel_14304\\512680382.py:102: SettingWithCopyWarning: \n",
      "A value is trying to be set on a copy of a slice from a DataFrame.\n",
      "Try using .loc[row_indexer,col_indexer] = value instead\n",
      "\n",
      "See the caveats in the documentation: https://pandas.pydata.org/pandas-docs/stable/user_guide/indexing.html#returning-a-view-versus-a-copy\n",
      "  df_train_subset['Model_1_q50'] = np.nan\n"
     ]
    },
    {
     "name": "stdout",
     "output_type": "stream",
     "text": [
      "\u001b[1m9375/9375\u001b[0m \u001b[32m━━━━━━━━━━━━━━━━━━━━\u001b[0m\u001b[37m\u001b[0m \u001b[1m69s\u001b[0m 7ms/step\n",
      "\u001b[1m   1/7852\u001b[0m \u001b[37m━━━━━━━━━━━━━━━━━━━━\u001b[0m \u001b[1m4:03\u001b[0m 31ms/step"
     ]
    },
    {
     "name": "stderr",
     "output_type": "stream",
     "text": [
      "C:\\Users\\Michael Jäckle\\AppData\\Local\\Temp\\ipykernel_14304\\512680382.py:106: SettingWithCopyWarning: \n",
      "A value is trying to be set on a copy of a slice from a DataFrame.\n",
      "Try using .loc[row_indexer,col_indexer] = value instead\n",
      "\n",
      "See the caveats in the documentation: https://pandas.pydata.org/pandas-docs/stable/user_guide/indexing.html#returning-a-view-versus-a-copy\n",
      "  df_train_subset[f\"Model_1_q{qu}\"] = df_train_subset['Model_1_q50'] * (qu / 100)\n",
      "C:\\Users\\Michael Jäckle\\AppData\\Local\\Temp\\ipykernel_14304\\512680382.py:111: SettingWithCopyWarning: \n",
      "A value is trying to be set on a copy of a slice from a DataFrame.\n",
      "Try using .loc[row_indexer,col_indexer] = value instead\n",
      "\n",
      "See the caveats in the documentation: https://pandas.pydata.org/pandas-docs/stable/user_guide/indexing.html#returning-a-view-versus-a-copy\n",
      "  df_test_subset['Model_1_q50'] = np.nan\n"
     ]
    },
    {
     "name": "stdout",
     "output_type": "stream",
     "text": [
      "\u001b[1m7852/7852\u001b[0m \u001b[32m━━━━━━━━━━━━━━━━━━━━\u001b[0m\u001b[37m\u001b[0m \u001b[1m57s\u001b[0m 7ms/step\n"
     ]
    },
    {
     "name": "stderr",
     "output_type": "stream",
     "text": [
      "C:\\Users\\Michael Jäckle\\AppData\\Local\\Temp\\ipykernel_14304\\512680382.py:115: SettingWithCopyWarning: \n",
      "A value is trying to be set on a copy of a slice from a DataFrame.\n",
      "Try using .loc[row_indexer,col_indexer] = value instead\n",
      "\n",
      "See the caveats in the documentation: https://pandas.pydata.org/pandas-docs/stable/user_guide/indexing.html#returning-a-view-versus-a-copy\n",
      "  df_test_subset[f\"Model_1_q{qu}\"] = df_test_subset['Model_1_q50'] * (qu / 100)\n"
     ]
    },
    {
     "name": "stdout",
     "output_type": "stream",
     "text": [
      "Beste Kombination: Epochs: 100.0, Batch Size: 1024.0, regularizers_faktor: 0.4, LSTM Units 1: 64.0,LSTM Units 2: 64.0, Dropout Rate 1: 0.7, Dropout Rate 2: 0.1, Pinball Score Test: 139.70853411863402\n",
      "Trainiere Modell mit Epochs: 100, Batch Size: 1024, regularizers_faktor: 0.1, Dropout Rate 1: 0.7, Dropout Rate 2: 0.1\n"
     ]
    },
    {
     "name": "stderr",
     "output_type": "stream",
     "text": [
      "C:\\Users\\Michael Jäckle\\AppData\\Local\\Temp\\ipykernel_14304\\512680382.py:102: SettingWithCopyWarning: \n",
      "A value is trying to be set on a copy of a slice from a DataFrame.\n",
      "Try using .loc[row_indexer,col_indexer] = value instead\n",
      "\n",
      "See the caveats in the documentation: https://pandas.pydata.org/pandas-docs/stable/user_guide/indexing.html#returning-a-view-versus-a-copy\n",
      "  df_train_subset['Model_1_q50'] = np.nan\n"
     ]
    },
    {
     "name": "stdout",
     "output_type": "stream",
     "text": [
      "\u001b[1m9375/9375\u001b[0m \u001b[32m━━━━━━━━━━━━━━━━━━━━\u001b[0m\u001b[37m\u001b[0m \u001b[1m67s\u001b[0m 7ms/step\n"
     ]
    },
    {
     "name": "stderr",
     "output_type": "stream",
     "text": [
      "C:\\Users\\Michael Jäckle\\AppData\\Local\\Temp\\ipykernel_14304\\512680382.py:106: SettingWithCopyWarning: \n",
      "A value is trying to be set on a copy of a slice from a DataFrame.\n",
      "Try using .loc[row_indexer,col_indexer] = value instead\n",
      "\n",
      "See the caveats in the documentation: https://pandas.pydata.org/pandas-docs/stable/user_guide/indexing.html#returning-a-view-versus-a-copy\n",
      "  df_train_subset[f\"Model_1_q{qu}\"] = df_train_subset['Model_1_q50'] * (qu / 100)\n",
      "C:\\Users\\Michael Jäckle\\AppData\\Local\\Temp\\ipykernel_14304\\512680382.py:111: SettingWithCopyWarning: \n",
      "A value is trying to be set on a copy of a slice from a DataFrame.\n",
      "Try using .loc[row_indexer,col_indexer] = value instead\n",
      "\n",
      "See the caveats in the documentation: https://pandas.pydata.org/pandas-docs/stable/user_guide/indexing.html#returning-a-view-versus-a-copy\n",
      "  df_test_subset['Model_1_q50'] = np.nan\n"
     ]
    },
    {
     "name": "stdout",
     "output_type": "stream",
     "text": [
      "\u001b[1m7852/7852\u001b[0m \u001b[32m━━━━━━━━━━━━━━━━━━━━\u001b[0m\u001b[37m\u001b[0m \u001b[1m55s\u001b[0m 7ms/step\n"
     ]
    },
    {
     "name": "stderr",
     "output_type": "stream",
     "text": [
      "C:\\Users\\Michael Jäckle\\AppData\\Local\\Temp\\ipykernel_14304\\512680382.py:115: SettingWithCopyWarning: \n",
      "A value is trying to be set on a copy of a slice from a DataFrame.\n",
      "Try using .loc[row_indexer,col_indexer] = value instead\n",
      "\n",
      "See the caveats in the documentation: https://pandas.pydata.org/pandas-docs/stable/user_guide/indexing.html#returning-a-view-versus-a-copy\n",
      "  df_test_subset[f\"Model_1_q{qu}\"] = df_test_subset['Model_1_q50'] * (qu / 100)\n"
     ]
    },
    {
     "name": "stdout",
     "output_type": "stream",
     "text": [
      "Beste Kombination: Epochs: 100.0, Batch Size: 1024.0, regularizers_faktor: 0.1, LSTM Units 1: 64.0,LSTM Units 2: 64.0, Dropout Rate 1: 0.7, Dropout Rate 2: 0.1, Pinball Score Test: 139.7083289696964\n",
      "Trainiere Modell mit Epochs: 100, Batch Size: 1024, regularizers_faktor: 0.4, Dropout Rate 1: 0.7, Dropout Rate 2: 0.3\n"
     ]
    },
    {
     "name": "stderr",
     "output_type": "stream",
     "text": [
      "C:\\Users\\Michael Jäckle\\AppData\\Local\\Temp\\ipykernel_14304\\512680382.py:102: SettingWithCopyWarning: \n",
      "A value is trying to be set on a copy of a slice from a DataFrame.\n",
      "Try using .loc[row_indexer,col_indexer] = value instead\n",
      "\n",
      "See the caveats in the documentation: https://pandas.pydata.org/pandas-docs/stable/user_guide/indexing.html#returning-a-view-versus-a-copy\n",
      "  df_train_subset['Model_1_q50'] = np.nan\n"
     ]
    },
    {
     "name": "stdout",
     "output_type": "stream",
     "text": [
      "\u001b[1m9375/9375\u001b[0m \u001b[32m━━━━━━━━━━━━━━━━━━━━\u001b[0m\u001b[37m\u001b[0m \u001b[1m67s\u001b[0m 7ms/step\n",
      "\u001b[1m   1/7852\u001b[0m \u001b[37m━━━━━━━━━━━━━━━━━━━━\u001b[0m \u001b[1m3:31\u001b[0m 27ms/step"
     ]
    },
    {
     "name": "stderr",
     "output_type": "stream",
     "text": [
      "C:\\Users\\Michael Jäckle\\AppData\\Local\\Temp\\ipykernel_14304\\512680382.py:106: SettingWithCopyWarning: \n",
      "A value is trying to be set on a copy of a slice from a DataFrame.\n",
      "Try using .loc[row_indexer,col_indexer] = value instead\n",
      "\n",
      "See the caveats in the documentation: https://pandas.pydata.org/pandas-docs/stable/user_guide/indexing.html#returning-a-view-versus-a-copy\n",
      "  df_train_subset[f\"Model_1_q{qu}\"] = df_train_subset['Model_1_q50'] * (qu / 100)\n",
      "C:\\Users\\Michael Jäckle\\AppData\\Local\\Temp\\ipykernel_14304\\512680382.py:111: SettingWithCopyWarning: \n",
      "A value is trying to be set on a copy of a slice from a DataFrame.\n",
      "Try using .loc[row_indexer,col_indexer] = value instead\n",
      "\n",
      "See the caveats in the documentation: https://pandas.pydata.org/pandas-docs/stable/user_guide/indexing.html#returning-a-view-versus-a-copy\n",
      "  df_test_subset['Model_1_q50'] = np.nan\n"
     ]
    },
    {
     "name": "stdout",
     "output_type": "stream",
     "text": [
      "\u001b[1m7852/7852\u001b[0m \u001b[32m━━━━━━━━━━━━━━━━━━━━\u001b[0m\u001b[37m\u001b[0m \u001b[1m61s\u001b[0m 8ms/step\n"
     ]
    },
    {
     "name": "stderr",
     "output_type": "stream",
     "text": [
      "C:\\Users\\Michael Jäckle\\AppData\\Local\\Temp\\ipykernel_14304\\512680382.py:115: SettingWithCopyWarning: \n",
      "A value is trying to be set on a copy of a slice from a DataFrame.\n",
      "Try using .loc[row_indexer,col_indexer] = value instead\n",
      "\n",
      "See the caveats in the documentation: https://pandas.pydata.org/pandas-docs/stable/user_guide/indexing.html#returning-a-view-versus-a-copy\n",
      "  df_test_subset[f\"Model_1_q{qu}\"] = df_test_subset['Model_1_q50'] * (qu / 100)\n"
     ]
    },
    {
     "name": "stdout",
     "output_type": "stream",
     "text": [
      "Beste Kombination: Epochs: 100.0, Batch Size: 1024.0, regularizers_faktor: 0.1, LSTM Units 1: 64.0,LSTM Units 2: 64.0, Dropout Rate 1: 0.7, Dropout Rate 2: 0.1, Pinball Score Test: 139.7083289696964\n",
      "Trainiere Modell mit Epochs: 100, Batch Size: 1024, regularizers_faktor: 0.2, Dropout Rate 1: 0.7, Dropout Rate 2: 0.3\n"
     ]
    },
    {
     "name": "stderr",
     "output_type": "stream",
     "text": [
      "C:\\Users\\Michael Jäckle\\AppData\\Local\\Temp\\ipykernel_14304\\512680382.py:102: SettingWithCopyWarning: \n",
      "A value is trying to be set on a copy of a slice from a DataFrame.\n",
      "Try using .loc[row_indexer,col_indexer] = value instead\n",
      "\n",
      "See the caveats in the documentation: https://pandas.pydata.org/pandas-docs/stable/user_guide/indexing.html#returning-a-view-versus-a-copy\n",
      "  df_train_subset['Model_1_q50'] = np.nan\n"
     ]
    },
    {
     "name": "stdout",
     "output_type": "stream",
     "text": [
      "\u001b[1m9375/9375\u001b[0m \u001b[32m━━━━━━━━━━━━━━━━━━━━\u001b[0m\u001b[37m\u001b[0m \u001b[1m66s\u001b[0m 7ms/step\n",
      "\u001b[1m   1/7852\u001b[0m \u001b[37m━━━━━━━━━━━━━━━━━━━━\u001b[0m \u001b[1m3:55\u001b[0m 30ms/step"
     ]
    },
    {
     "name": "stderr",
     "output_type": "stream",
     "text": [
      "C:\\Users\\Michael Jäckle\\AppData\\Local\\Temp\\ipykernel_14304\\512680382.py:106: SettingWithCopyWarning: \n",
      "A value is trying to be set on a copy of a slice from a DataFrame.\n",
      "Try using .loc[row_indexer,col_indexer] = value instead\n",
      "\n",
      "See the caveats in the documentation: https://pandas.pydata.org/pandas-docs/stable/user_guide/indexing.html#returning-a-view-versus-a-copy\n",
      "  df_train_subset[f\"Model_1_q{qu}\"] = df_train_subset['Model_1_q50'] * (qu / 100)\n",
      "C:\\Users\\Michael Jäckle\\AppData\\Local\\Temp\\ipykernel_14304\\512680382.py:111: SettingWithCopyWarning: \n",
      "A value is trying to be set on a copy of a slice from a DataFrame.\n",
      "Try using .loc[row_indexer,col_indexer] = value instead\n",
      "\n",
      "See the caveats in the documentation: https://pandas.pydata.org/pandas-docs/stable/user_guide/indexing.html#returning-a-view-versus-a-copy\n",
      "  df_test_subset['Model_1_q50'] = np.nan\n"
     ]
    },
    {
     "name": "stdout",
     "output_type": "stream",
     "text": [
      "\u001b[1m7852/7852\u001b[0m \u001b[32m━━━━━━━━━━━━━━━━━━━━\u001b[0m\u001b[37m\u001b[0m \u001b[1m54s\u001b[0m 7ms/step\n"
     ]
    },
    {
     "name": "stderr",
     "output_type": "stream",
     "text": [
      "C:\\Users\\Michael Jäckle\\AppData\\Local\\Temp\\ipykernel_14304\\512680382.py:115: SettingWithCopyWarning: \n",
      "A value is trying to be set on a copy of a slice from a DataFrame.\n",
      "Try using .loc[row_indexer,col_indexer] = value instead\n",
      "\n",
      "See the caveats in the documentation: https://pandas.pydata.org/pandas-docs/stable/user_guide/indexing.html#returning-a-view-versus-a-copy\n",
      "  df_test_subset[f\"Model_1_q{qu}\"] = df_test_subset['Model_1_q50'] * (qu / 100)\n"
     ]
    },
    {
     "name": "stdout",
     "output_type": "stream",
     "text": [
      "Beste Kombination: Epochs: 100.0, Batch Size: 1024.0, regularizers_faktor: 0.1, LSTM Units 1: 64.0,LSTM Units 2: 64.0, Dropout Rate 1: 0.7, Dropout Rate 2: 0.1, Pinball Score Test: 139.7083289696964\n",
      "Trainiere Modell mit Epochs: 100, Batch Size: 1024, regularizers_faktor: 0.1, Dropout Rate 1: 0.7, Dropout Rate 2: 0.3\n"
     ]
    },
    {
     "name": "stderr",
     "output_type": "stream",
     "text": [
      "C:\\Users\\Michael Jäckle\\AppData\\Local\\Temp\\ipykernel_14304\\512680382.py:102: SettingWithCopyWarning: \n",
      "A value is trying to be set on a copy of a slice from a DataFrame.\n",
      "Try using .loc[row_indexer,col_indexer] = value instead\n",
      "\n",
      "See the caveats in the documentation: https://pandas.pydata.org/pandas-docs/stable/user_guide/indexing.html#returning-a-view-versus-a-copy\n",
      "  df_train_subset['Model_1_q50'] = np.nan\n"
     ]
    },
    {
     "name": "stdout",
     "output_type": "stream",
     "text": [
      "\u001b[1m9375/9375\u001b[0m \u001b[32m━━━━━━━━━━━━━━━━━━━━\u001b[0m\u001b[37m\u001b[0m \u001b[1m68s\u001b[0m 7ms/step\n",
      "\u001b[1m   1/7852\u001b[0m \u001b[37m━━━━━━━━━━━━━━━━━━━━\u001b[0m \u001b[1m3:31\u001b[0m 27ms/step"
     ]
    },
    {
     "name": "stderr",
     "output_type": "stream",
     "text": [
      "C:\\Users\\Michael Jäckle\\AppData\\Local\\Temp\\ipykernel_14304\\512680382.py:106: SettingWithCopyWarning: \n",
      "A value is trying to be set on a copy of a slice from a DataFrame.\n",
      "Try using .loc[row_indexer,col_indexer] = value instead\n",
      "\n",
      "See the caveats in the documentation: https://pandas.pydata.org/pandas-docs/stable/user_guide/indexing.html#returning-a-view-versus-a-copy\n",
      "  df_train_subset[f\"Model_1_q{qu}\"] = df_train_subset['Model_1_q50'] * (qu / 100)\n",
      "C:\\Users\\Michael Jäckle\\AppData\\Local\\Temp\\ipykernel_14304\\512680382.py:111: SettingWithCopyWarning: \n",
      "A value is trying to be set on a copy of a slice from a DataFrame.\n",
      "Try using .loc[row_indexer,col_indexer] = value instead\n",
      "\n",
      "See the caveats in the documentation: https://pandas.pydata.org/pandas-docs/stable/user_guide/indexing.html#returning-a-view-versus-a-copy\n",
      "  df_test_subset['Model_1_q50'] = np.nan\n"
     ]
    },
    {
     "name": "stdout",
     "output_type": "stream",
     "text": [
      "\u001b[1m7852/7852\u001b[0m \u001b[32m━━━━━━━━━━━━━━━━━━━━\u001b[0m\u001b[37m\u001b[0m \u001b[1m60s\u001b[0m 8ms/step\n"
     ]
    },
    {
     "name": "stderr",
     "output_type": "stream",
     "text": [
      "C:\\Users\\Michael Jäckle\\AppData\\Local\\Temp\\ipykernel_14304\\512680382.py:115: SettingWithCopyWarning: \n",
      "A value is trying to be set on a copy of a slice from a DataFrame.\n",
      "Try using .loc[row_indexer,col_indexer] = value instead\n",
      "\n",
      "See the caveats in the documentation: https://pandas.pydata.org/pandas-docs/stable/user_guide/indexing.html#returning-a-view-versus-a-copy\n",
      "  df_test_subset[f\"Model_1_q{qu}\"] = df_test_subset['Model_1_q50'] * (qu / 100)\n"
     ]
    },
    {
     "name": "stdout",
     "output_type": "stream",
     "text": [
      "Beste Kombination: Epochs: 100.0, Batch Size: 1024.0, regularizers_faktor: 0.1, LSTM Units 1: 64.0,LSTM Units 2: 64.0, Dropout Rate 1: 0.7, Dropout Rate 2: 0.1, Pinball Score Test: 139.7083289696964\n",
      "Trainiere Modell mit Epochs: 100, Batch Size: 1024, regularizers_faktor: 0.4, Dropout Rate 1: 0.7, Dropout Rate 2: 0.7\n"
     ]
    },
    {
     "name": "stderr",
     "output_type": "stream",
     "text": [
      "C:\\Users\\Michael Jäckle\\AppData\\Local\\Temp\\ipykernel_14304\\512680382.py:102: SettingWithCopyWarning: \n",
      "A value is trying to be set on a copy of a slice from a DataFrame.\n",
      "Try using .loc[row_indexer,col_indexer] = value instead\n",
      "\n",
      "See the caveats in the documentation: https://pandas.pydata.org/pandas-docs/stable/user_guide/indexing.html#returning-a-view-versus-a-copy\n",
      "  df_train_subset['Model_1_q50'] = np.nan\n"
     ]
    },
    {
     "name": "stdout",
     "output_type": "stream",
     "text": [
      "\u001b[1m9375/9375\u001b[0m \u001b[32m━━━━━━━━━━━━━━━━━━━━\u001b[0m\u001b[37m\u001b[0m \u001b[1m64s\u001b[0m 7ms/step\n",
      "\u001b[1m   1/7852\u001b[0m \u001b[37m━━━━━━━━━━━━━━━━━━━━\u001b[0m \u001b[1m3:22\u001b[0m 26ms/step"
     ]
    },
    {
     "name": "stderr",
     "output_type": "stream",
     "text": [
      "C:\\Users\\Michael Jäckle\\AppData\\Local\\Temp\\ipykernel_14304\\512680382.py:106: SettingWithCopyWarning: \n",
      "A value is trying to be set on a copy of a slice from a DataFrame.\n",
      "Try using .loc[row_indexer,col_indexer] = value instead\n",
      "\n",
      "See the caveats in the documentation: https://pandas.pydata.org/pandas-docs/stable/user_guide/indexing.html#returning-a-view-versus-a-copy\n",
      "  df_train_subset[f\"Model_1_q{qu}\"] = df_train_subset['Model_1_q50'] * (qu / 100)\n",
      "C:\\Users\\Michael Jäckle\\AppData\\Local\\Temp\\ipykernel_14304\\512680382.py:111: SettingWithCopyWarning: \n",
      "A value is trying to be set on a copy of a slice from a DataFrame.\n",
      "Try using .loc[row_indexer,col_indexer] = value instead\n",
      "\n",
      "See the caveats in the documentation: https://pandas.pydata.org/pandas-docs/stable/user_guide/indexing.html#returning-a-view-versus-a-copy\n",
      "  df_test_subset['Model_1_q50'] = np.nan\n"
     ]
    },
    {
     "name": "stdout",
     "output_type": "stream",
     "text": [
      "\u001b[1m7852/7852\u001b[0m \u001b[32m━━━━━━━━━━━━━━━━━━━━\u001b[0m\u001b[37m\u001b[0m \u001b[1m56s\u001b[0m 7ms/step\n"
     ]
    },
    {
     "name": "stderr",
     "output_type": "stream",
     "text": [
      "C:\\Users\\Michael Jäckle\\AppData\\Local\\Temp\\ipykernel_14304\\512680382.py:115: SettingWithCopyWarning: \n",
      "A value is trying to be set on a copy of a slice from a DataFrame.\n",
      "Try using .loc[row_indexer,col_indexer] = value instead\n",
      "\n",
      "See the caveats in the documentation: https://pandas.pydata.org/pandas-docs/stable/user_guide/indexing.html#returning-a-view-versus-a-copy\n",
      "  df_test_subset[f\"Model_1_q{qu}\"] = df_test_subset['Model_1_q50'] * (qu / 100)\n"
     ]
    },
    {
     "name": "stdout",
     "output_type": "stream",
     "text": [
      "Beste Kombination: Epochs: 100.0, Batch Size: 1024.0, regularizers_faktor: 0.1, LSTM Units 1: 64.0,LSTM Units 2: 64.0, Dropout Rate 1: 0.7, Dropout Rate 2: 0.1, Pinball Score Test: 139.7083289696964\n",
      "Trainiere Modell mit Epochs: 100, Batch Size: 1024, regularizers_faktor: 0.2, Dropout Rate 1: 0.7, Dropout Rate 2: 0.7\n"
     ]
    },
    {
     "name": "stderr",
     "output_type": "stream",
     "text": [
      "C:\\Users\\Michael Jäckle\\AppData\\Local\\Temp\\ipykernel_14304\\512680382.py:102: SettingWithCopyWarning: \n",
      "A value is trying to be set on a copy of a slice from a DataFrame.\n",
      "Try using .loc[row_indexer,col_indexer] = value instead\n",
      "\n",
      "See the caveats in the documentation: https://pandas.pydata.org/pandas-docs/stable/user_guide/indexing.html#returning-a-view-versus-a-copy\n",
      "  df_train_subset['Model_1_q50'] = np.nan\n"
     ]
    },
    {
     "name": "stdout",
     "output_type": "stream",
     "text": [
      "\u001b[1m9375/9375\u001b[0m \u001b[32m━━━━━━━━━━━━━━━━━━━━\u001b[0m\u001b[37m\u001b[0m \u001b[1m62s\u001b[0m 7ms/step\n",
      "\u001b[1m   1/7852\u001b[0m \u001b[37m━━━━━━━━━━━━━━━━━━━━\u001b[0m \u001b[1m3:23\u001b[0m 26ms/step"
     ]
    },
    {
     "name": "stderr",
     "output_type": "stream",
     "text": [
      "C:\\Users\\Michael Jäckle\\AppData\\Local\\Temp\\ipykernel_14304\\512680382.py:106: SettingWithCopyWarning: \n",
      "A value is trying to be set on a copy of a slice from a DataFrame.\n",
      "Try using .loc[row_indexer,col_indexer] = value instead\n",
      "\n",
      "See the caveats in the documentation: https://pandas.pydata.org/pandas-docs/stable/user_guide/indexing.html#returning-a-view-versus-a-copy\n",
      "  df_train_subset[f\"Model_1_q{qu}\"] = df_train_subset['Model_1_q50'] * (qu / 100)\n",
      "C:\\Users\\Michael Jäckle\\AppData\\Local\\Temp\\ipykernel_14304\\512680382.py:111: SettingWithCopyWarning: \n",
      "A value is trying to be set on a copy of a slice from a DataFrame.\n",
      "Try using .loc[row_indexer,col_indexer] = value instead\n",
      "\n",
      "See the caveats in the documentation: https://pandas.pydata.org/pandas-docs/stable/user_guide/indexing.html#returning-a-view-versus-a-copy\n",
      "  df_test_subset['Model_1_q50'] = np.nan\n"
     ]
    },
    {
     "name": "stdout",
     "output_type": "stream",
     "text": [
      "\u001b[1m7852/7852\u001b[0m \u001b[32m━━━━━━━━━━━━━━━━━━━━\u001b[0m\u001b[37m\u001b[0m \u001b[1m51s\u001b[0m 6ms/step\n"
     ]
    },
    {
     "name": "stderr",
     "output_type": "stream",
     "text": [
      "C:\\Users\\Michael Jäckle\\AppData\\Local\\Temp\\ipykernel_14304\\512680382.py:115: SettingWithCopyWarning: \n",
      "A value is trying to be set on a copy of a slice from a DataFrame.\n",
      "Try using .loc[row_indexer,col_indexer] = value instead\n",
      "\n",
      "See the caveats in the documentation: https://pandas.pydata.org/pandas-docs/stable/user_guide/indexing.html#returning-a-view-versus-a-copy\n",
      "  df_test_subset[f\"Model_1_q{qu}\"] = df_test_subset['Model_1_q50'] * (qu / 100)\n"
     ]
    },
    {
     "name": "stdout",
     "output_type": "stream",
     "text": [
      "Beste Kombination: Epochs: 100.0, Batch Size: 1024.0, regularizers_faktor: 0.1, LSTM Units 1: 64.0,LSTM Units 2: 64.0, Dropout Rate 1: 0.7, Dropout Rate 2: 0.1, Pinball Score Test: 139.7083289696964\n",
      "Trainiere Modell mit Epochs: 100, Batch Size: 1024, regularizers_faktor: 0.1, Dropout Rate 1: 0.7, Dropout Rate 2: 0.7\n"
     ]
    },
    {
     "name": "stderr",
     "output_type": "stream",
     "text": [
      "C:\\Users\\Michael Jäckle\\AppData\\Local\\Temp\\ipykernel_14304\\512680382.py:102: SettingWithCopyWarning: \n",
      "A value is trying to be set on a copy of a slice from a DataFrame.\n",
      "Try using .loc[row_indexer,col_indexer] = value instead\n",
      "\n",
      "See the caveats in the documentation: https://pandas.pydata.org/pandas-docs/stable/user_guide/indexing.html#returning-a-view-versus-a-copy\n",
      "  df_train_subset['Model_1_q50'] = np.nan\n"
     ]
    },
    {
     "name": "stdout",
     "output_type": "stream",
     "text": [
      "\u001b[1m9375/9375\u001b[0m \u001b[32m━━━━━━━━━━━━━━━━━━━━\u001b[0m\u001b[37m\u001b[0m \u001b[1m64s\u001b[0m 7ms/step\n"
     ]
    },
    {
     "name": "stderr",
     "output_type": "stream",
     "text": [
      "C:\\Users\\Michael Jäckle\\AppData\\Local\\Temp\\ipykernel_14304\\512680382.py:106: SettingWithCopyWarning: \n",
      "A value is trying to be set on a copy of a slice from a DataFrame.\n",
      "Try using .loc[row_indexer,col_indexer] = value instead\n",
      "\n",
      "See the caveats in the documentation: https://pandas.pydata.org/pandas-docs/stable/user_guide/indexing.html#returning-a-view-versus-a-copy\n",
      "  df_train_subset[f\"Model_1_q{qu}\"] = df_train_subset['Model_1_q50'] * (qu / 100)\n",
      "C:\\Users\\Michael Jäckle\\AppData\\Local\\Temp\\ipykernel_14304\\512680382.py:111: SettingWithCopyWarning: \n",
      "A value is trying to be set on a copy of a slice from a DataFrame.\n",
      "Try using .loc[row_indexer,col_indexer] = value instead\n",
      "\n",
      "See the caveats in the documentation: https://pandas.pydata.org/pandas-docs/stable/user_guide/indexing.html#returning-a-view-versus-a-copy\n",
      "  df_test_subset['Model_1_q50'] = np.nan\n"
     ]
    },
    {
     "name": "stdout",
     "output_type": "stream",
     "text": [
      "\u001b[1m7852/7852\u001b[0m \u001b[32m━━━━━━━━━━━━━━━━━━━━\u001b[0m\u001b[37m\u001b[0m \u001b[1m55s\u001b[0m 7ms/step\n"
     ]
    },
    {
     "name": "stderr",
     "output_type": "stream",
     "text": [
      "C:\\Users\\Michael Jäckle\\AppData\\Local\\Temp\\ipykernel_14304\\512680382.py:115: SettingWithCopyWarning: \n",
      "A value is trying to be set on a copy of a slice from a DataFrame.\n",
      "Try using .loc[row_indexer,col_indexer] = value instead\n",
      "\n",
      "See the caveats in the documentation: https://pandas.pydata.org/pandas-docs/stable/user_guide/indexing.html#returning-a-view-versus-a-copy\n",
      "  df_test_subset[f\"Model_1_q{qu}\"] = df_test_subset['Model_1_q50'] * (qu / 100)\n"
     ]
    },
    {
     "name": "stdout",
     "output_type": "stream",
     "text": [
      "Beste Kombination: Epochs: 100.0, Batch Size: 1024.0, regularizers_faktor: 0.1, LSTM Units 1: 64.0,LSTM Units 2: 64.0, Dropout Rate 1: 0.7, Dropout Rate 2: 0.1, Pinball Score Test: 139.7083289696964\n",
      "Trainiere Modell mit Epochs: 100, Batch Size: 1024, regularizers_faktor: 0.4, Dropout Rate 1: 0.7, Dropout Rate 2: 0.9\n"
     ]
    },
    {
     "name": "stderr",
     "output_type": "stream",
     "text": [
      "C:\\Users\\Michael Jäckle\\AppData\\Local\\Temp\\ipykernel_14304\\512680382.py:102: SettingWithCopyWarning: \n",
      "A value is trying to be set on a copy of a slice from a DataFrame.\n",
      "Try using .loc[row_indexer,col_indexer] = value instead\n",
      "\n",
      "See the caveats in the documentation: https://pandas.pydata.org/pandas-docs/stable/user_guide/indexing.html#returning-a-view-versus-a-copy\n",
      "  df_train_subset['Model_1_q50'] = np.nan\n"
     ]
    },
    {
     "name": "stdout",
     "output_type": "stream",
     "text": [
      "\u001b[1m9375/9375\u001b[0m \u001b[32m━━━━━━━━━━━━━━━━━━━━\u001b[0m\u001b[37m\u001b[0m \u001b[1m66s\u001b[0m 7ms/step\n"
     ]
    },
    {
     "name": "stderr",
     "output_type": "stream",
     "text": [
      "C:\\Users\\Michael Jäckle\\AppData\\Local\\Temp\\ipykernel_14304\\512680382.py:106: SettingWithCopyWarning: \n",
      "A value is trying to be set on a copy of a slice from a DataFrame.\n",
      "Try using .loc[row_indexer,col_indexer] = value instead\n",
      "\n",
      "See the caveats in the documentation: https://pandas.pydata.org/pandas-docs/stable/user_guide/indexing.html#returning-a-view-versus-a-copy\n",
      "  df_train_subset[f\"Model_1_q{qu}\"] = df_train_subset['Model_1_q50'] * (qu / 100)\n",
      "C:\\Users\\Michael Jäckle\\AppData\\Local\\Temp\\ipykernel_14304\\512680382.py:111: SettingWithCopyWarning: \n",
      "A value is trying to be set on a copy of a slice from a DataFrame.\n",
      "Try using .loc[row_indexer,col_indexer] = value instead\n",
      "\n",
      "See the caveats in the documentation: https://pandas.pydata.org/pandas-docs/stable/user_guide/indexing.html#returning-a-view-versus-a-copy\n",
      "  df_test_subset['Model_1_q50'] = np.nan\n"
     ]
    },
    {
     "name": "stdout",
     "output_type": "stream",
     "text": [
      "\u001b[1m7852/7852\u001b[0m \u001b[32m━━━━━━━━━━━━━━━━━━━━\u001b[0m\u001b[37m\u001b[0m \u001b[1m55s\u001b[0m 7ms/step\n"
     ]
    },
    {
     "name": "stderr",
     "output_type": "stream",
     "text": [
      "C:\\Users\\Michael Jäckle\\AppData\\Local\\Temp\\ipykernel_14304\\512680382.py:115: SettingWithCopyWarning: \n",
      "A value is trying to be set on a copy of a slice from a DataFrame.\n",
      "Try using .loc[row_indexer,col_indexer] = value instead\n",
      "\n",
      "See the caveats in the documentation: https://pandas.pydata.org/pandas-docs/stable/user_guide/indexing.html#returning-a-view-versus-a-copy\n",
      "  df_test_subset[f\"Model_1_q{qu}\"] = df_test_subset['Model_1_q50'] * (qu / 100)\n"
     ]
    },
    {
     "name": "stdout",
     "output_type": "stream",
     "text": [
      "Beste Kombination: Epochs: 100.0, Batch Size: 1024.0, regularizers_faktor: 0.1, LSTM Units 1: 64.0,LSTM Units 2: 64.0, Dropout Rate 1: 0.7, Dropout Rate 2: 0.1, Pinball Score Test: 139.7083289696964\n",
      "Trainiere Modell mit Epochs: 100, Batch Size: 1024, regularizers_faktor: 0.2, Dropout Rate 1: 0.7, Dropout Rate 2: 0.9\n"
     ]
    },
    {
     "name": "stderr",
     "output_type": "stream",
     "text": [
      "C:\\Users\\Michael Jäckle\\AppData\\Local\\Temp\\ipykernel_14304\\512680382.py:102: SettingWithCopyWarning: \n",
      "A value is trying to be set on a copy of a slice from a DataFrame.\n",
      "Try using .loc[row_indexer,col_indexer] = value instead\n",
      "\n",
      "See the caveats in the documentation: https://pandas.pydata.org/pandas-docs/stable/user_guide/indexing.html#returning-a-view-versus-a-copy\n",
      "  df_train_subset['Model_1_q50'] = np.nan\n"
     ]
    },
    {
     "name": "stdout",
     "output_type": "stream",
     "text": [
      "\u001b[1m9375/9375\u001b[0m \u001b[32m━━━━━━━━━━━━━━━━━━━━\u001b[0m\u001b[37m\u001b[0m \u001b[1m65s\u001b[0m 7ms/step\n",
      "\u001b[1m   1/7852\u001b[0m \u001b[37m━━━━━━━━━━━━━━━━━━━━\u001b[0m \u001b[1m3:31\u001b[0m 27ms/step"
     ]
    },
    {
     "name": "stderr",
     "output_type": "stream",
     "text": [
      "C:\\Users\\Michael Jäckle\\AppData\\Local\\Temp\\ipykernel_14304\\512680382.py:106: SettingWithCopyWarning: \n",
      "A value is trying to be set on a copy of a slice from a DataFrame.\n",
      "Try using .loc[row_indexer,col_indexer] = value instead\n",
      "\n",
      "See the caveats in the documentation: https://pandas.pydata.org/pandas-docs/stable/user_guide/indexing.html#returning-a-view-versus-a-copy\n",
      "  df_train_subset[f\"Model_1_q{qu}\"] = df_train_subset['Model_1_q50'] * (qu / 100)\n",
      "C:\\Users\\Michael Jäckle\\AppData\\Local\\Temp\\ipykernel_14304\\512680382.py:111: SettingWithCopyWarning: \n",
      "A value is trying to be set on a copy of a slice from a DataFrame.\n",
      "Try using .loc[row_indexer,col_indexer] = value instead\n",
      "\n",
      "See the caveats in the documentation: https://pandas.pydata.org/pandas-docs/stable/user_guide/indexing.html#returning-a-view-versus-a-copy\n",
      "  df_test_subset['Model_1_q50'] = np.nan\n"
     ]
    },
    {
     "name": "stdout",
     "output_type": "stream",
     "text": [
      "\u001b[1m7852/7852\u001b[0m \u001b[32m━━━━━━━━━━━━━━━━━━━━\u001b[0m\u001b[37m\u001b[0m \u001b[1m57s\u001b[0m 7ms/step\n"
     ]
    },
    {
     "name": "stderr",
     "output_type": "stream",
     "text": [
      "C:\\Users\\Michael Jäckle\\AppData\\Local\\Temp\\ipykernel_14304\\512680382.py:115: SettingWithCopyWarning: \n",
      "A value is trying to be set on a copy of a slice from a DataFrame.\n",
      "Try using .loc[row_indexer,col_indexer] = value instead\n",
      "\n",
      "See the caveats in the documentation: https://pandas.pydata.org/pandas-docs/stable/user_guide/indexing.html#returning-a-view-versus-a-copy\n",
      "  df_test_subset[f\"Model_1_q{qu}\"] = df_test_subset['Model_1_q50'] * (qu / 100)\n"
     ]
    },
    {
     "name": "stdout",
     "output_type": "stream",
     "text": [
      "Beste Kombination: Epochs: 100.0, Batch Size: 1024.0, regularizers_faktor: 0.1, LSTM Units 1: 64.0,LSTM Units 2: 64.0, Dropout Rate 1: 0.7, Dropout Rate 2: 0.1, Pinball Score Test: 139.7083289696964\n",
      "Trainiere Modell mit Epochs: 100, Batch Size: 1024, regularizers_faktor: 0.1, Dropout Rate 1: 0.7, Dropout Rate 2: 0.9\n"
     ]
    },
    {
     "name": "stderr",
     "output_type": "stream",
     "text": [
      "C:\\Users\\Michael Jäckle\\AppData\\Local\\Temp\\ipykernel_14304\\512680382.py:102: SettingWithCopyWarning: \n",
      "A value is trying to be set on a copy of a slice from a DataFrame.\n",
      "Try using .loc[row_indexer,col_indexer] = value instead\n",
      "\n",
      "See the caveats in the documentation: https://pandas.pydata.org/pandas-docs/stable/user_guide/indexing.html#returning-a-view-versus-a-copy\n",
      "  df_train_subset['Model_1_q50'] = np.nan\n"
     ]
    },
    {
     "name": "stdout",
     "output_type": "stream",
     "text": [
      "\u001b[1m9375/9375\u001b[0m \u001b[32m━━━━━━━━━━━━━━━━━━━━\u001b[0m\u001b[37m\u001b[0m \u001b[1m68s\u001b[0m 7ms/step\n",
      "\u001b[1m   1/7852\u001b[0m \u001b[37m━━━━━━━━━━━━━━━━━━━━\u001b[0m \u001b[1m3:47\u001b[0m 29ms/step"
     ]
    },
    {
     "name": "stderr",
     "output_type": "stream",
     "text": [
      "C:\\Users\\Michael Jäckle\\AppData\\Local\\Temp\\ipykernel_14304\\512680382.py:106: SettingWithCopyWarning: \n",
      "A value is trying to be set on a copy of a slice from a DataFrame.\n",
      "Try using .loc[row_indexer,col_indexer] = value instead\n",
      "\n",
      "See the caveats in the documentation: https://pandas.pydata.org/pandas-docs/stable/user_guide/indexing.html#returning-a-view-versus-a-copy\n",
      "  df_train_subset[f\"Model_1_q{qu}\"] = df_train_subset['Model_1_q50'] * (qu / 100)\n",
      "C:\\Users\\Michael Jäckle\\AppData\\Local\\Temp\\ipykernel_14304\\512680382.py:111: SettingWithCopyWarning: \n",
      "A value is trying to be set on a copy of a slice from a DataFrame.\n",
      "Try using .loc[row_indexer,col_indexer] = value instead\n",
      "\n",
      "See the caveats in the documentation: https://pandas.pydata.org/pandas-docs/stable/user_guide/indexing.html#returning-a-view-versus-a-copy\n",
      "  df_test_subset['Model_1_q50'] = np.nan\n"
     ]
    },
    {
     "name": "stdout",
     "output_type": "stream",
     "text": [
      "\u001b[1m7852/7852\u001b[0m \u001b[32m━━━━━━━━━━━━━━━━━━━━\u001b[0m\u001b[37m\u001b[0m \u001b[1m55s\u001b[0m 7ms/step\n"
     ]
    },
    {
     "name": "stderr",
     "output_type": "stream",
     "text": [
      "C:\\Users\\Michael Jäckle\\AppData\\Local\\Temp\\ipykernel_14304\\512680382.py:115: SettingWithCopyWarning: \n",
      "A value is trying to be set on a copy of a slice from a DataFrame.\n",
      "Try using .loc[row_indexer,col_indexer] = value instead\n",
      "\n",
      "See the caveats in the documentation: https://pandas.pydata.org/pandas-docs/stable/user_guide/indexing.html#returning-a-view-versus-a-copy\n",
      "  df_test_subset[f\"Model_1_q{qu}\"] = df_test_subset['Model_1_q50'] * (qu / 100)\n"
     ]
    },
    {
     "name": "stdout",
     "output_type": "stream",
     "text": [
      "Beste Kombination: Epochs: 100.0, Batch Size: 1024.0, regularizers_faktor: 0.1, LSTM Units 1: 64.0,LSTM Units 2: 64.0, Dropout Rate 1: 0.7, Dropout Rate 2: 0.1, Pinball Score Test: 139.7083289696964\n",
      "Trainiere Modell mit Epochs: 100, Batch Size: 1024, regularizers_faktor: 0.4, Dropout Rate 1: 0.3, Dropout Rate 2: 0.1\n"
     ]
    },
    {
     "name": "stderr",
     "output_type": "stream",
     "text": [
      "C:\\Users\\Michael Jäckle\\AppData\\Local\\Temp\\ipykernel_14304\\512680382.py:102: SettingWithCopyWarning: \n",
      "A value is trying to be set on a copy of a slice from a DataFrame.\n",
      "Try using .loc[row_indexer,col_indexer] = value instead\n",
      "\n",
      "See the caveats in the documentation: https://pandas.pydata.org/pandas-docs/stable/user_guide/indexing.html#returning-a-view-versus-a-copy\n",
      "  df_train_subset['Model_1_q50'] = np.nan\n"
     ]
    },
    {
     "name": "stdout",
     "output_type": "stream",
     "text": [
      "\u001b[1m9375/9375\u001b[0m \u001b[32m━━━━━━━━━━━━━━━━━━━━\u001b[0m\u001b[37m\u001b[0m \u001b[1m64s\u001b[0m 7ms/step\n",
      "\u001b[1m   1/7852\u001b[0m \u001b[37m━━━━━━━━━━━━━━━━━━━━\u001b[0m \u001b[1m3:47\u001b[0m 29ms/step"
     ]
    },
    {
     "name": "stderr",
     "output_type": "stream",
     "text": [
      "C:\\Users\\Michael Jäckle\\AppData\\Local\\Temp\\ipykernel_14304\\512680382.py:106: SettingWithCopyWarning: \n",
      "A value is trying to be set on a copy of a slice from a DataFrame.\n",
      "Try using .loc[row_indexer,col_indexer] = value instead\n",
      "\n",
      "See the caveats in the documentation: https://pandas.pydata.org/pandas-docs/stable/user_guide/indexing.html#returning-a-view-versus-a-copy\n",
      "  df_train_subset[f\"Model_1_q{qu}\"] = df_train_subset['Model_1_q50'] * (qu / 100)\n",
      "C:\\Users\\Michael Jäckle\\AppData\\Local\\Temp\\ipykernel_14304\\512680382.py:111: SettingWithCopyWarning: \n",
      "A value is trying to be set on a copy of a slice from a DataFrame.\n",
      "Try using .loc[row_indexer,col_indexer] = value instead\n",
      "\n",
      "See the caveats in the documentation: https://pandas.pydata.org/pandas-docs/stable/user_guide/indexing.html#returning-a-view-versus-a-copy\n",
      "  df_test_subset['Model_1_q50'] = np.nan\n"
     ]
    },
    {
     "name": "stdout",
     "output_type": "stream",
     "text": [
      "\u001b[1m7852/7852\u001b[0m \u001b[32m━━━━━━━━━━━━━━━━━━━━\u001b[0m\u001b[37m\u001b[0m \u001b[1m54s\u001b[0m 7ms/step\n"
     ]
    },
    {
     "name": "stderr",
     "output_type": "stream",
     "text": [
      "C:\\Users\\Michael Jäckle\\AppData\\Local\\Temp\\ipykernel_14304\\512680382.py:115: SettingWithCopyWarning: \n",
      "A value is trying to be set on a copy of a slice from a DataFrame.\n",
      "Try using .loc[row_indexer,col_indexer] = value instead\n",
      "\n",
      "See the caveats in the documentation: https://pandas.pydata.org/pandas-docs/stable/user_guide/indexing.html#returning-a-view-versus-a-copy\n",
      "  df_test_subset[f\"Model_1_q{qu}\"] = df_test_subset['Model_1_q50'] * (qu / 100)\n"
     ]
    },
    {
     "name": "stdout",
     "output_type": "stream",
     "text": [
      "Beste Kombination: Epochs: 100.0, Batch Size: 1024.0, regularizers_faktor: 0.4, LSTM Units 1: 64.0,LSTM Units 2: 64.0, Dropout Rate 1: 0.3, Dropout Rate 2: 0.1, Pinball Score Test: 139.70632424398954\n",
      "Trainiere Modell mit Epochs: 100, Batch Size: 1024, regularizers_faktor: 0.2, Dropout Rate 1: 0.3, Dropout Rate 2: 0.1\n"
     ]
    },
    {
     "name": "stderr",
     "output_type": "stream",
     "text": [
      "C:\\Users\\Michael Jäckle\\AppData\\Local\\Temp\\ipykernel_14304\\512680382.py:102: SettingWithCopyWarning: \n",
      "A value is trying to be set on a copy of a slice from a DataFrame.\n",
      "Try using .loc[row_indexer,col_indexer] = value instead\n",
      "\n",
      "See the caveats in the documentation: https://pandas.pydata.org/pandas-docs/stable/user_guide/indexing.html#returning-a-view-versus-a-copy\n",
      "  df_train_subset['Model_1_q50'] = np.nan\n"
     ]
    },
    {
     "name": "stdout",
     "output_type": "stream",
     "text": [
      "\u001b[1m9375/9375\u001b[0m \u001b[32m━━━━━━━━━━━━━━━━━━━━\u001b[0m\u001b[37m\u001b[0m \u001b[1m66s\u001b[0m 7ms/step\n",
      "\u001b[1m   1/7852\u001b[0m \u001b[37m━━━━━━━━━━━━━━━━━━━━\u001b[0m \u001b[1m3:39\u001b[0m 28ms/step"
     ]
    },
    {
     "name": "stderr",
     "output_type": "stream",
     "text": [
      "C:\\Users\\Michael Jäckle\\AppData\\Local\\Temp\\ipykernel_14304\\512680382.py:106: SettingWithCopyWarning: \n",
      "A value is trying to be set on a copy of a slice from a DataFrame.\n",
      "Try using .loc[row_indexer,col_indexer] = value instead\n",
      "\n",
      "See the caveats in the documentation: https://pandas.pydata.org/pandas-docs/stable/user_guide/indexing.html#returning-a-view-versus-a-copy\n",
      "  df_train_subset[f\"Model_1_q{qu}\"] = df_train_subset['Model_1_q50'] * (qu / 100)\n",
      "C:\\Users\\Michael Jäckle\\AppData\\Local\\Temp\\ipykernel_14304\\512680382.py:111: SettingWithCopyWarning: \n",
      "A value is trying to be set on a copy of a slice from a DataFrame.\n",
      "Try using .loc[row_indexer,col_indexer] = value instead\n",
      "\n",
      "See the caveats in the documentation: https://pandas.pydata.org/pandas-docs/stable/user_guide/indexing.html#returning-a-view-versus-a-copy\n",
      "  df_test_subset['Model_1_q50'] = np.nan\n"
     ]
    },
    {
     "name": "stdout",
     "output_type": "stream",
     "text": [
      "\u001b[1m7852/7852\u001b[0m \u001b[32m━━━━━━━━━━━━━━━━━━━━\u001b[0m\u001b[37m\u001b[0m \u001b[1m56s\u001b[0m 7ms/step\n"
     ]
    },
    {
     "name": "stderr",
     "output_type": "stream",
     "text": [
      "C:\\Users\\Michael Jäckle\\AppData\\Local\\Temp\\ipykernel_14304\\512680382.py:115: SettingWithCopyWarning: \n",
      "A value is trying to be set on a copy of a slice from a DataFrame.\n",
      "Try using .loc[row_indexer,col_indexer] = value instead\n",
      "\n",
      "See the caveats in the documentation: https://pandas.pydata.org/pandas-docs/stable/user_guide/indexing.html#returning-a-view-versus-a-copy\n",
      "  df_test_subset[f\"Model_1_q{qu}\"] = df_test_subset['Model_1_q50'] * (qu / 100)\n"
     ]
    },
    {
     "name": "stdout",
     "output_type": "stream",
     "text": [
      "Beste Kombination: Epochs: 100.0, Batch Size: 1024.0, regularizers_faktor: 0.4, LSTM Units 1: 64.0,LSTM Units 2: 64.0, Dropout Rate 1: 0.3, Dropout Rate 2: 0.1, Pinball Score Test: 139.70632424398954\n",
      "Trainiere Modell mit Epochs: 100, Batch Size: 1024, regularizers_faktor: 0.1, Dropout Rate 1: 0.3, Dropout Rate 2: 0.1\n"
     ]
    },
    {
     "name": "stderr",
     "output_type": "stream",
     "text": [
      "C:\\Users\\Michael Jäckle\\AppData\\Local\\Temp\\ipykernel_14304\\512680382.py:102: SettingWithCopyWarning: \n",
      "A value is trying to be set on a copy of a slice from a DataFrame.\n",
      "Try using .loc[row_indexer,col_indexer] = value instead\n",
      "\n",
      "See the caveats in the documentation: https://pandas.pydata.org/pandas-docs/stable/user_guide/indexing.html#returning-a-view-versus-a-copy\n",
      "  df_train_subset['Model_1_q50'] = np.nan\n"
     ]
    },
    {
     "name": "stdout",
     "output_type": "stream",
     "text": [
      "\u001b[1m9375/9375\u001b[0m \u001b[32m━━━━━━━━━━━━━━━━━━━━\u001b[0m\u001b[37m\u001b[0m \u001b[1m70s\u001b[0m 7ms/step\n",
      "\u001b[1m   1/7852\u001b[0m \u001b[37m━━━━━━━━━━━━━━━━━━━━\u001b[0m \u001b[1m3:31\u001b[0m 27ms/step"
     ]
    },
    {
     "name": "stderr",
     "output_type": "stream",
     "text": [
      "C:\\Users\\Michael Jäckle\\AppData\\Local\\Temp\\ipykernel_14304\\512680382.py:106: SettingWithCopyWarning: \n",
      "A value is trying to be set on a copy of a slice from a DataFrame.\n",
      "Try using .loc[row_indexer,col_indexer] = value instead\n",
      "\n",
      "See the caveats in the documentation: https://pandas.pydata.org/pandas-docs/stable/user_guide/indexing.html#returning-a-view-versus-a-copy\n",
      "  df_train_subset[f\"Model_1_q{qu}\"] = df_train_subset['Model_1_q50'] * (qu / 100)\n",
      "C:\\Users\\Michael Jäckle\\AppData\\Local\\Temp\\ipykernel_14304\\512680382.py:111: SettingWithCopyWarning: \n",
      "A value is trying to be set on a copy of a slice from a DataFrame.\n",
      "Try using .loc[row_indexer,col_indexer] = value instead\n",
      "\n",
      "See the caveats in the documentation: https://pandas.pydata.org/pandas-docs/stable/user_guide/indexing.html#returning-a-view-versus-a-copy\n",
      "  df_test_subset['Model_1_q50'] = np.nan\n"
     ]
    },
    {
     "name": "stdout",
     "output_type": "stream",
     "text": [
      "\u001b[1m7852/7852\u001b[0m \u001b[32m━━━━━━━━━━━━━━━━━━━━\u001b[0m\u001b[37m\u001b[0m \u001b[1m59s\u001b[0m 8ms/step\n"
     ]
    },
    {
     "name": "stderr",
     "output_type": "stream",
     "text": [
      "C:\\Users\\Michael Jäckle\\AppData\\Local\\Temp\\ipykernel_14304\\512680382.py:115: SettingWithCopyWarning: \n",
      "A value is trying to be set on a copy of a slice from a DataFrame.\n",
      "Try using .loc[row_indexer,col_indexer] = value instead\n",
      "\n",
      "See the caveats in the documentation: https://pandas.pydata.org/pandas-docs/stable/user_guide/indexing.html#returning-a-view-versus-a-copy\n",
      "  df_test_subset[f\"Model_1_q{qu}\"] = df_test_subset['Model_1_q50'] * (qu / 100)\n"
     ]
    },
    {
     "name": "stdout",
     "output_type": "stream",
     "text": [
      "Beste Kombination: Epochs: 100.0, Batch Size: 1024.0, regularizers_faktor: 0.4, LSTM Units 1: 64.0,LSTM Units 2: 64.0, Dropout Rate 1: 0.3, Dropout Rate 2: 0.1, Pinball Score Test: 139.70632424398954\n",
      "Trainiere Modell mit Epochs: 100, Batch Size: 1024, regularizers_faktor: 0.4, Dropout Rate 1: 0.3, Dropout Rate 2: 0.3\n"
     ]
    },
    {
     "name": "stderr",
     "output_type": "stream",
     "text": [
      "C:\\Users\\Michael Jäckle\\AppData\\Local\\Temp\\ipykernel_14304\\512680382.py:102: SettingWithCopyWarning: \n",
      "A value is trying to be set on a copy of a slice from a DataFrame.\n",
      "Try using .loc[row_indexer,col_indexer] = value instead\n",
      "\n",
      "See the caveats in the documentation: https://pandas.pydata.org/pandas-docs/stable/user_guide/indexing.html#returning-a-view-versus-a-copy\n",
      "  df_train_subset['Model_1_q50'] = np.nan\n"
     ]
    },
    {
     "name": "stdout",
     "output_type": "stream",
     "text": [
      "\u001b[1m9375/9375\u001b[0m \u001b[32m━━━━━━━━━━━━━━━━━━━━\u001b[0m\u001b[37m\u001b[0m \u001b[1m65s\u001b[0m 7ms/step\n",
      "\u001b[1m   1/7852\u001b[0m \u001b[37m━━━━━━━━━━━━━━━━━━━━\u001b[0m \u001b[1m3:47\u001b[0m 29ms/step"
     ]
    },
    {
     "name": "stderr",
     "output_type": "stream",
     "text": [
      "C:\\Users\\Michael Jäckle\\AppData\\Local\\Temp\\ipykernel_14304\\512680382.py:106: SettingWithCopyWarning: \n",
      "A value is trying to be set on a copy of a slice from a DataFrame.\n",
      "Try using .loc[row_indexer,col_indexer] = value instead\n",
      "\n",
      "See the caveats in the documentation: https://pandas.pydata.org/pandas-docs/stable/user_guide/indexing.html#returning-a-view-versus-a-copy\n",
      "  df_train_subset[f\"Model_1_q{qu}\"] = df_train_subset['Model_1_q50'] * (qu / 100)\n",
      "C:\\Users\\Michael Jäckle\\AppData\\Local\\Temp\\ipykernel_14304\\512680382.py:111: SettingWithCopyWarning: \n",
      "A value is trying to be set on a copy of a slice from a DataFrame.\n",
      "Try using .loc[row_indexer,col_indexer] = value instead\n",
      "\n",
      "See the caveats in the documentation: https://pandas.pydata.org/pandas-docs/stable/user_guide/indexing.html#returning-a-view-versus-a-copy\n",
      "  df_test_subset['Model_1_q50'] = np.nan\n"
     ]
    },
    {
     "name": "stdout",
     "output_type": "stream",
     "text": [
      "\u001b[1m7852/7852\u001b[0m \u001b[32m━━━━━━━━━━━━━━━━━━━━\u001b[0m\u001b[37m\u001b[0m \u001b[1m57s\u001b[0m 7ms/step\n"
     ]
    },
    {
     "name": "stderr",
     "output_type": "stream",
     "text": [
      "C:\\Users\\Michael Jäckle\\AppData\\Local\\Temp\\ipykernel_14304\\512680382.py:115: SettingWithCopyWarning: \n",
      "A value is trying to be set on a copy of a slice from a DataFrame.\n",
      "Try using .loc[row_indexer,col_indexer] = value instead\n",
      "\n",
      "See the caveats in the documentation: https://pandas.pydata.org/pandas-docs/stable/user_guide/indexing.html#returning-a-view-versus-a-copy\n",
      "  df_test_subset[f\"Model_1_q{qu}\"] = df_test_subset['Model_1_q50'] * (qu / 100)\n"
     ]
    },
    {
     "name": "stdout",
     "output_type": "stream",
     "text": [
      "Beste Kombination: Epochs: 100.0, Batch Size: 1024.0, regularizers_faktor: 0.4, LSTM Units 1: 64.0,LSTM Units 2: 64.0, Dropout Rate 1: 0.3, Dropout Rate 2: 0.1, Pinball Score Test: 139.70632424398954\n",
      "Trainiere Modell mit Epochs: 100, Batch Size: 1024, regularizers_faktor: 0.2, Dropout Rate 1: 0.3, Dropout Rate 2: 0.3\n"
     ]
    },
    {
     "name": "stderr",
     "output_type": "stream",
     "text": [
      "C:\\Users\\Michael Jäckle\\AppData\\Local\\Temp\\ipykernel_14304\\512680382.py:102: SettingWithCopyWarning: \n",
      "A value is trying to be set on a copy of a slice from a DataFrame.\n",
      "Try using .loc[row_indexer,col_indexer] = value instead\n",
      "\n",
      "See the caveats in the documentation: https://pandas.pydata.org/pandas-docs/stable/user_guide/indexing.html#returning-a-view-versus-a-copy\n",
      "  df_train_subset['Model_1_q50'] = np.nan\n"
     ]
    },
    {
     "name": "stdout",
     "output_type": "stream",
     "text": [
      "\u001b[1m9375/9375\u001b[0m \u001b[32m━━━━━━━━━━━━━━━━━━━━\u001b[0m\u001b[37m\u001b[0m \u001b[1m65s\u001b[0m 7ms/step\n",
      "\u001b[1m   1/7852\u001b[0m \u001b[37m━━━━━━━━━━━━━━━━━━━━\u001b[0m \u001b[1m3:31\u001b[0m 27ms/step"
     ]
    },
    {
     "name": "stderr",
     "output_type": "stream",
     "text": [
      "C:\\Users\\Michael Jäckle\\AppData\\Local\\Temp\\ipykernel_14304\\512680382.py:106: SettingWithCopyWarning: \n",
      "A value is trying to be set on a copy of a slice from a DataFrame.\n",
      "Try using .loc[row_indexer,col_indexer] = value instead\n",
      "\n",
      "See the caveats in the documentation: https://pandas.pydata.org/pandas-docs/stable/user_guide/indexing.html#returning-a-view-versus-a-copy\n",
      "  df_train_subset[f\"Model_1_q{qu}\"] = df_train_subset['Model_1_q50'] * (qu / 100)\n",
      "C:\\Users\\Michael Jäckle\\AppData\\Local\\Temp\\ipykernel_14304\\512680382.py:111: SettingWithCopyWarning: \n",
      "A value is trying to be set on a copy of a slice from a DataFrame.\n",
      "Try using .loc[row_indexer,col_indexer] = value instead\n",
      "\n",
      "See the caveats in the documentation: https://pandas.pydata.org/pandas-docs/stable/user_guide/indexing.html#returning-a-view-versus-a-copy\n",
      "  df_test_subset['Model_1_q50'] = np.nan\n"
     ]
    },
    {
     "name": "stdout",
     "output_type": "stream",
     "text": [
      "\u001b[1m7852/7852\u001b[0m \u001b[32m━━━━━━━━━━━━━━━━━━━━\u001b[0m\u001b[37m\u001b[0m \u001b[1m59s\u001b[0m 8ms/step\n"
     ]
    },
    {
     "name": "stderr",
     "output_type": "stream",
     "text": [
      "C:\\Users\\Michael Jäckle\\AppData\\Local\\Temp\\ipykernel_14304\\512680382.py:115: SettingWithCopyWarning: \n",
      "A value is trying to be set on a copy of a slice from a DataFrame.\n",
      "Try using .loc[row_indexer,col_indexer] = value instead\n",
      "\n",
      "See the caveats in the documentation: https://pandas.pydata.org/pandas-docs/stable/user_guide/indexing.html#returning-a-view-versus-a-copy\n",
      "  df_test_subset[f\"Model_1_q{qu}\"] = df_test_subset['Model_1_q50'] * (qu / 100)\n"
     ]
    },
    {
     "name": "stdout",
     "output_type": "stream",
     "text": [
      "Beste Kombination: Epochs: 100.0, Batch Size: 1024.0, regularizers_faktor: 0.4, LSTM Units 1: 64.0,LSTM Units 2: 64.0, Dropout Rate 1: 0.3, Dropout Rate 2: 0.1, Pinball Score Test: 139.70632424398954\n",
      "Trainiere Modell mit Epochs: 100, Batch Size: 1024, regularizers_faktor: 0.1, Dropout Rate 1: 0.3, Dropout Rate 2: 0.3\n"
     ]
    },
    {
     "name": "stderr",
     "output_type": "stream",
     "text": [
      "C:\\Users\\Michael Jäckle\\AppData\\Local\\Temp\\ipykernel_14304\\512680382.py:102: SettingWithCopyWarning: \n",
      "A value is trying to be set on a copy of a slice from a DataFrame.\n",
      "Try using .loc[row_indexer,col_indexer] = value instead\n",
      "\n",
      "See the caveats in the documentation: https://pandas.pydata.org/pandas-docs/stable/user_guide/indexing.html#returning-a-view-versus-a-copy\n",
      "  df_train_subset['Model_1_q50'] = np.nan\n"
     ]
    },
    {
     "name": "stdout",
     "output_type": "stream",
     "text": [
      "\u001b[1m9375/9375\u001b[0m \u001b[32m━━━━━━━━━━━━━━━━━━━━\u001b[0m\u001b[37m\u001b[0m \u001b[1m86s\u001b[0m 9ms/step\n"
     ]
    },
    {
     "name": "stderr",
     "output_type": "stream",
     "text": [
      "C:\\Users\\Michael Jäckle\\AppData\\Local\\Temp\\ipykernel_14304\\512680382.py:106: SettingWithCopyWarning: \n",
      "A value is trying to be set on a copy of a slice from a DataFrame.\n",
      "Try using .loc[row_indexer,col_indexer] = value instead\n",
      "\n",
      "See the caveats in the documentation: https://pandas.pydata.org/pandas-docs/stable/user_guide/indexing.html#returning-a-view-versus-a-copy\n",
      "  df_train_subset[f\"Model_1_q{qu}\"] = df_train_subset['Model_1_q50'] * (qu / 100)\n",
      "C:\\Users\\Michael Jäckle\\AppData\\Local\\Temp\\ipykernel_14304\\512680382.py:111: SettingWithCopyWarning: \n",
      "A value is trying to be set on a copy of a slice from a DataFrame.\n",
      "Try using .loc[row_indexer,col_indexer] = value instead\n",
      "\n",
      "See the caveats in the documentation: https://pandas.pydata.org/pandas-docs/stable/user_guide/indexing.html#returning-a-view-versus-a-copy\n",
      "  df_test_subset['Model_1_q50'] = np.nan\n"
     ]
    },
    {
     "name": "stdout",
     "output_type": "stream",
     "text": [
      "\u001b[1m7852/7852\u001b[0m \u001b[32m━━━━━━━━━━━━━━━━━━━━\u001b[0m\u001b[37m\u001b[0m \u001b[1m63s\u001b[0m 8ms/step\n"
     ]
    },
    {
     "name": "stderr",
     "output_type": "stream",
     "text": [
      "C:\\Users\\Michael Jäckle\\AppData\\Local\\Temp\\ipykernel_14304\\512680382.py:115: SettingWithCopyWarning: \n",
      "A value is trying to be set on a copy of a slice from a DataFrame.\n",
      "Try using .loc[row_indexer,col_indexer] = value instead\n",
      "\n",
      "See the caveats in the documentation: https://pandas.pydata.org/pandas-docs/stable/user_guide/indexing.html#returning-a-view-versus-a-copy\n",
      "  df_test_subset[f\"Model_1_q{qu}\"] = df_test_subset['Model_1_q50'] * (qu / 100)\n"
     ]
    },
    {
     "name": "stdout",
     "output_type": "stream",
     "text": [
      "Beste Kombination: Epochs: 100.0, Batch Size: 1024.0, regularizers_faktor: 0.4, LSTM Units 1: 64.0,LSTM Units 2: 64.0, Dropout Rate 1: 0.3, Dropout Rate 2: 0.1, Pinball Score Test: 139.70632424398954\n",
      "Trainiere Modell mit Epochs: 100, Batch Size: 1024, regularizers_faktor: 0.4, Dropout Rate 1: 0.3, Dropout Rate 2: 0.7\n"
     ]
    },
    {
     "name": "stderr",
     "output_type": "stream",
     "text": [
      "C:\\Users\\Michael Jäckle\\AppData\\Local\\Temp\\ipykernel_14304\\512680382.py:102: SettingWithCopyWarning: \n",
      "A value is trying to be set on a copy of a slice from a DataFrame.\n",
      "Try using .loc[row_indexer,col_indexer] = value instead\n",
      "\n",
      "See the caveats in the documentation: https://pandas.pydata.org/pandas-docs/stable/user_guide/indexing.html#returning-a-view-versus-a-copy\n",
      "  df_train_subset['Model_1_q50'] = np.nan\n"
     ]
    },
    {
     "name": "stdout",
     "output_type": "stream",
     "text": [
      "\u001b[1m9375/9375\u001b[0m \u001b[32m━━━━━━━━━━━━━━━━━━━━\u001b[0m\u001b[37m\u001b[0m \u001b[1m79s\u001b[0m 8ms/step\n"
     ]
    },
    {
     "name": "stderr",
     "output_type": "stream",
     "text": [
      "C:\\Users\\Michael Jäckle\\AppData\\Local\\Temp\\ipykernel_14304\\512680382.py:106: SettingWithCopyWarning: \n",
      "A value is trying to be set on a copy of a slice from a DataFrame.\n",
      "Try using .loc[row_indexer,col_indexer] = value instead\n",
      "\n",
      "See the caveats in the documentation: https://pandas.pydata.org/pandas-docs/stable/user_guide/indexing.html#returning-a-view-versus-a-copy\n",
      "  df_train_subset[f\"Model_1_q{qu}\"] = df_train_subset['Model_1_q50'] * (qu / 100)\n",
      "C:\\Users\\Michael Jäckle\\AppData\\Local\\Temp\\ipykernel_14304\\512680382.py:111: SettingWithCopyWarning: \n",
      "A value is trying to be set on a copy of a slice from a DataFrame.\n",
      "Try using .loc[row_indexer,col_indexer] = value instead\n",
      "\n",
      "See the caveats in the documentation: https://pandas.pydata.org/pandas-docs/stable/user_guide/indexing.html#returning-a-view-versus-a-copy\n",
      "  df_test_subset['Model_1_q50'] = np.nan\n"
     ]
    },
    {
     "name": "stdout",
     "output_type": "stream",
     "text": [
      "\u001b[1m7852/7852\u001b[0m \u001b[32m━━━━━━━━━━━━━━━━━━━━\u001b[0m\u001b[37m\u001b[0m \u001b[1m64s\u001b[0m 8ms/step\n"
     ]
    },
    {
     "name": "stderr",
     "output_type": "stream",
     "text": [
      "C:\\Users\\Michael Jäckle\\AppData\\Local\\Temp\\ipykernel_14304\\512680382.py:115: SettingWithCopyWarning: \n",
      "A value is trying to be set on a copy of a slice from a DataFrame.\n",
      "Try using .loc[row_indexer,col_indexer] = value instead\n",
      "\n",
      "See the caveats in the documentation: https://pandas.pydata.org/pandas-docs/stable/user_guide/indexing.html#returning-a-view-versus-a-copy\n",
      "  df_test_subset[f\"Model_1_q{qu}\"] = df_test_subset['Model_1_q50'] * (qu / 100)\n"
     ]
    },
    {
     "name": "stdout",
     "output_type": "stream",
     "text": [
      "Beste Kombination: Epochs: 100.0, Batch Size: 1024.0, regularizers_faktor: 0.4, LSTM Units 1: 64.0,LSTM Units 2: 64.0, Dropout Rate 1: 0.3, Dropout Rate 2: 0.1, Pinball Score Test: 139.70632424398954\n",
      "Trainiere Modell mit Epochs: 100, Batch Size: 1024, regularizers_faktor: 0.2, Dropout Rate 1: 0.3, Dropout Rate 2: 0.7\n"
     ]
    },
    {
     "name": "stderr",
     "output_type": "stream",
     "text": [
      "C:\\Users\\Michael Jäckle\\AppData\\Local\\Temp\\ipykernel_14304\\512680382.py:102: SettingWithCopyWarning: \n",
      "A value is trying to be set on a copy of a slice from a DataFrame.\n",
      "Try using .loc[row_indexer,col_indexer] = value instead\n",
      "\n",
      "See the caveats in the documentation: https://pandas.pydata.org/pandas-docs/stable/user_guide/indexing.html#returning-a-view-versus-a-copy\n",
      "  df_train_subset['Model_1_q50'] = np.nan\n"
     ]
    },
    {
     "name": "stdout",
     "output_type": "stream",
     "text": [
      "\u001b[1m9375/9375\u001b[0m \u001b[32m━━━━━━━━━━━━━━━━━━━━\u001b[0m\u001b[37m\u001b[0m \u001b[1m81s\u001b[0m 9ms/step\n"
     ]
    },
    {
     "name": "stderr",
     "output_type": "stream",
     "text": [
      "C:\\Users\\Michael Jäckle\\AppData\\Local\\Temp\\ipykernel_14304\\512680382.py:106: SettingWithCopyWarning: \n",
      "A value is trying to be set on a copy of a slice from a DataFrame.\n",
      "Try using .loc[row_indexer,col_indexer] = value instead\n",
      "\n",
      "See the caveats in the documentation: https://pandas.pydata.org/pandas-docs/stable/user_guide/indexing.html#returning-a-view-versus-a-copy\n",
      "  df_train_subset[f\"Model_1_q{qu}\"] = df_train_subset['Model_1_q50'] * (qu / 100)\n",
      "C:\\Users\\Michael Jäckle\\AppData\\Local\\Temp\\ipykernel_14304\\512680382.py:111: SettingWithCopyWarning: \n",
      "A value is trying to be set on a copy of a slice from a DataFrame.\n",
      "Try using .loc[row_indexer,col_indexer] = value instead\n",
      "\n",
      "See the caveats in the documentation: https://pandas.pydata.org/pandas-docs/stable/user_guide/indexing.html#returning-a-view-versus-a-copy\n",
      "  df_test_subset['Model_1_q50'] = np.nan\n"
     ]
    },
    {
     "name": "stdout",
     "output_type": "stream",
     "text": [
      "\u001b[1m7852/7852\u001b[0m \u001b[32m━━━━━━━━━━━━━━━━━━━━\u001b[0m\u001b[37m\u001b[0m \u001b[1m63s\u001b[0m 8ms/step\n"
     ]
    },
    {
     "name": "stderr",
     "output_type": "stream",
     "text": [
      "C:\\Users\\Michael Jäckle\\AppData\\Local\\Temp\\ipykernel_14304\\512680382.py:115: SettingWithCopyWarning: \n",
      "A value is trying to be set on a copy of a slice from a DataFrame.\n",
      "Try using .loc[row_indexer,col_indexer] = value instead\n",
      "\n",
      "See the caveats in the documentation: https://pandas.pydata.org/pandas-docs/stable/user_guide/indexing.html#returning-a-view-versus-a-copy\n",
      "  df_test_subset[f\"Model_1_q{qu}\"] = df_test_subset['Model_1_q50'] * (qu / 100)\n"
     ]
    },
    {
     "name": "stdout",
     "output_type": "stream",
     "text": [
      "Beste Kombination: Epochs: 100.0, Batch Size: 1024.0, regularizers_faktor: 0.4, LSTM Units 1: 64.0,LSTM Units 2: 64.0, Dropout Rate 1: 0.3, Dropout Rate 2: 0.1, Pinball Score Test: 139.70632424398954\n",
      "Trainiere Modell mit Epochs: 100, Batch Size: 1024, regularizers_faktor: 0.1, Dropout Rate 1: 0.3, Dropout Rate 2: 0.7\n"
     ]
    },
    {
     "name": "stderr",
     "output_type": "stream",
     "text": [
      "C:\\Users\\Michael Jäckle\\AppData\\Local\\Temp\\ipykernel_14304\\512680382.py:102: SettingWithCopyWarning: \n",
      "A value is trying to be set on a copy of a slice from a DataFrame.\n",
      "Try using .loc[row_indexer,col_indexer] = value instead\n",
      "\n",
      "See the caveats in the documentation: https://pandas.pydata.org/pandas-docs/stable/user_guide/indexing.html#returning-a-view-versus-a-copy\n",
      "  df_train_subset['Model_1_q50'] = np.nan\n"
     ]
    },
    {
     "name": "stdout",
     "output_type": "stream",
     "text": [
      "\u001b[1m9375/9375\u001b[0m \u001b[32m━━━━━━━━━━━━━━━━━━━━\u001b[0m\u001b[37m\u001b[0m \u001b[1m72s\u001b[0m 8ms/step\n",
      "\u001b[1m   1/7852\u001b[0m \u001b[37m━━━━━━━━━━━━━━━━━━━━\u001b[0m \u001b[1m3:31\u001b[0m 27ms/step"
     ]
    },
    {
     "name": "stderr",
     "output_type": "stream",
     "text": [
      "C:\\Users\\Michael Jäckle\\AppData\\Local\\Temp\\ipykernel_14304\\512680382.py:106: SettingWithCopyWarning: \n",
      "A value is trying to be set on a copy of a slice from a DataFrame.\n",
      "Try using .loc[row_indexer,col_indexer] = value instead\n",
      "\n",
      "See the caveats in the documentation: https://pandas.pydata.org/pandas-docs/stable/user_guide/indexing.html#returning-a-view-versus-a-copy\n",
      "  df_train_subset[f\"Model_1_q{qu}\"] = df_train_subset['Model_1_q50'] * (qu / 100)\n",
      "C:\\Users\\Michael Jäckle\\AppData\\Local\\Temp\\ipykernel_14304\\512680382.py:111: SettingWithCopyWarning: \n",
      "A value is trying to be set on a copy of a slice from a DataFrame.\n",
      "Try using .loc[row_indexer,col_indexer] = value instead\n",
      "\n",
      "See the caveats in the documentation: https://pandas.pydata.org/pandas-docs/stable/user_guide/indexing.html#returning-a-view-versus-a-copy\n",
      "  df_test_subset['Model_1_q50'] = np.nan\n"
     ]
    },
    {
     "name": "stdout",
     "output_type": "stream",
     "text": [
      "\u001b[1m7852/7852\u001b[0m \u001b[32m━━━━━━━━━━━━━━━━━━━━\u001b[0m\u001b[37m\u001b[0m \u001b[1m61s\u001b[0m 8ms/step\n"
     ]
    },
    {
     "name": "stderr",
     "output_type": "stream",
     "text": [
      "C:\\Users\\Michael Jäckle\\AppData\\Local\\Temp\\ipykernel_14304\\512680382.py:115: SettingWithCopyWarning: \n",
      "A value is trying to be set on a copy of a slice from a DataFrame.\n",
      "Try using .loc[row_indexer,col_indexer] = value instead\n",
      "\n",
      "See the caveats in the documentation: https://pandas.pydata.org/pandas-docs/stable/user_guide/indexing.html#returning-a-view-versus-a-copy\n",
      "  df_test_subset[f\"Model_1_q{qu}\"] = df_test_subset['Model_1_q50'] * (qu / 100)\n"
     ]
    },
    {
     "name": "stdout",
     "output_type": "stream",
     "text": [
      "Beste Kombination: Epochs: 100.0, Batch Size: 1024.0, regularizers_faktor: 0.4, LSTM Units 1: 64.0,LSTM Units 2: 64.0, Dropout Rate 1: 0.3, Dropout Rate 2: 0.1, Pinball Score Test: 139.70632424398954\n",
      "Trainiere Modell mit Epochs: 100, Batch Size: 1024, regularizers_faktor: 0.4, Dropout Rate 1: 0.3, Dropout Rate 2: 0.9\n"
     ]
    },
    {
     "name": "stderr",
     "output_type": "stream",
     "text": [
      "C:\\Users\\Michael Jäckle\\AppData\\Local\\Temp\\ipykernel_14304\\512680382.py:102: SettingWithCopyWarning: \n",
      "A value is trying to be set on a copy of a slice from a DataFrame.\n",
      "Try using .loc[row_indexer,col_indexer] = value instead\n",
      "\n",
      "See the caveats in the documentation: https://pandas.pydata.org/pandas-docs/stable/user_guide/indexing.html#returning-a-view-versus-a-copy\n",
      "  df_train_subset['Model_1_q50'] = np.nan\n"
     ]
    },
    {
     "name": "stdout",
     "output_type": "stream",
     "text": [
      "\u001b[1m9375/9375\u001b[0m \u001b[32m━━━━━━━━━━━━━━━━━━━━\u001b[0m\u001b[37m\u001b[0m \u001b[1m69s\u001b[0m 7ms/step\n",
      "\u001b[1m   1/7852\u001b[0m \u001b[37m━━━━━━━━━━━━━━━━━━━━\u001b[0m \u001b[1m3:39\u001b[0m 28ms/step"
     ]
    },
    {
     "name": "stderr",
     "output_type": "stream",
     "text": [
      "C:\\Users\\Michael Jäckle\\AppData\\Local\\Temp\\ipykernel_14304\\512680382.py:106: SettingWithCopyWarning: \n",
      "A value is trying to be set on a copy of a slice from a DataFrame.\n",
      "Try using .loc[row_indexer,col_indexer] = value instead\n",
      "\n",
      "See the caveats in the documentation: https://pandas.pydata.org/pandas-docs/stable/user_guide/indexing.html#returning-a-view-versus-a-copy\n",
      "  df_train_subset[f\"Model_1_q{qu}\"] = df_train_subset['Model_1_q50'] * (qu / 100)\n",
      "C:\\Users\\Michael Jäckle\\AppData\\Local\\Temp\\ipykernel_14304\\512680382.py:111: SettingWithCopyWarning: \n",
      "A value is trying to be set on a copy of a slice from a DataFrame.\n",
      "Try using .loc[row_indexer,col_indexer] = value instead\n",
      "\n",
      "See the caveats in the documentation: https://pandas.pydata.org/pandas-docs/stable/user_guide/indexing.html#returning-a-view-versus-a-copy\n",
      "  df_test_subset['Model_1_q50'] = np.nan\n"
     ]
    },
    {
     "name": "stdout",
     "output_type": "stream",
     "text": [
      "\u001b[1m7852/7852\u001b[0m \u001b[32m━━━━━━━━━━━━━━━━━━━━\u001b[0m\u001b[37m\u001b[0m \u001b[1m59s\u001b[0m 8ms/step\n"
     ]
    },
    {
     "name": "stderr",
     "output_type": "stream",
     "text": [
      "C:\\Users\\Michael Jäckle\\AppData\\Local\\Temp\\ipykernel_14304\\512680382.py:115: SettingWithCopyWarning: \n",
      "A value is trying to be set on a copy of a slice from a DataFrame.\n",
      "Try using .loc[row_indexer,col_indexer] = value instead\n",
      "\n",
      "See the caveats in the documentation: https://pandas.pydata.org/pandas-docs/stable/user_guide/indexing.html#returning-a-view-versus-a-copy\n",
      "  df_test_subset[f\"Model_1_q{qu}\"] = df_test_subset['Model_1_q50'] * (qu / 100)\n"
     ]
    },
    {
     "name": "stdout",
     "output_type": "stream",
     "text": [
      "Beste Kombination: Epochs: 100.0, Batch Size: 1024.0, regularizers_faktor: 0.4, LSTM Units 1: 64.0,LSTM Units 2: 64.0, Dropout Rate 1: 0.3, Dropout Rate 2: 0.1, Pinball Score Test: 139.70632424398954\n",
      "Trainiere Modell mit Epochs: 100, Batch Size: 1024, regularizers_faktor: 0.2, Dropout Rate 1: 0.3, Dropout Rate 2: 0.9\n"
     ]
    },
    {
     "name": "stderr",
     "output_type": "stream",
     "text": [
      "C:\\Users\\Michael Jäckle\\AppData\\Local\\Temp\\ipykernel_14304\\512680382.py:102: SettingWithCopyWarning: \n",
      "A value is trying to be set on a copy of a slice from a DataFrame.\n",
      "Try using .loc[row_indexer,col_indexer] = value instead\n",
      "\n",
      "See the caveats in the documentation: https://pandas.pydata.org/pandas-docs/stable/user_guide/indexing.html#returning-a-view-versus-a-copy\n",
      "  df_train_subset['Model_1_q50'] = np.nan\n"
     ]
    },
    {
     "name": "stdout",
     "output_type": "stream",
     "text": [
      "\u001b[1m9375/9375\u001b[0m \u001b[32m━━━━━━━━━━━━━━━━━━━━\u001b[0m\u001b[37m\u001b[0m \u001b[1m73s\u001b[0m 8ms/step\n",
      "\u001b[1m   1/7852\u001b[0m \u001b[37m━━━━━━━━━━━━━━━━━━━━\u001b[0m \u001b[1m3:24\u001b[0m 26ms/step"
     ]
    },
    {
     "name": "stderr",
     "output_type": "stream",
     "text": [
      "C:\\Users\\Michael Jäckle\\AppData\\Local\\Temp\\ipykernel_14304\\512680382.py:106: SettingWithCopyWarning: \n",
      "A value is trying to be set on a copy of a slice from a DataFrame.\n",
      "Try using .loc[row_indexer,col_indexer] = value instead\n",
      "\n",
      "See the caveats in the documentation: https://pandas.pydata.org/pandas-docs/stable/user_guide/indexing.html#returning-a-view-versus-a-copy\n",
      "  df_train_subset[f\"Model_1_q{qu}\"] = df_train_subset['Model_1_q50'] * (qu / 100)\n",
      "C:\\Users\\Michael Jäckle\\AppData\\Local\\Temp\\ipykernel_14304\\512680382.py:111: SettingWithCopyWarning: \n",
      "A value is trying to be set on a copy of a slice from a DataFrame.\n",
      "Try using .loc[row_indexer,col_indexer] = value instead\n",
      "\n",
      "See the caveats in the documentation: https://pandas.pydata.org/pandas-docs/stable/user_guide/indexing.html#returning-a-view-versus-a-copy\n",
      "  df_test_subset['Model_1_q50'] = np.nan\n"
     ]
    },
    {
     "name": "stdout",
     "output_type": "stream",
     "text": [
      "\u001b[1m7852/7852\u001b[0m \u001b[32m━━━━━━━━━━━━━━━━━━━━\u001b[0m\u001b[37m\u001b[0m \u001b[1m58s\u001b[0m 7ms/step\n"
     ]
    },
    {
     "name": "stderr",
     "output_type": "stream",
     "text": [
      "C:\\Users\\Michael Jäckle\\AppData\\Local\\Temp\\ipykernel_14304\\512680382.py:115: SettingWithCopyWarning: \n",
      "A value is trying to be set on a copy of a slice from a DataFrame.\n",
      "Try using .loc[row_indexer,col_indexer] = value instead\n",
      "\n",
      "See the caveats in the documentation: https://pandas.pydata.org/pandas-docs/stable/user_guide/indexing.html#returning-a-view-versus-a-copy\n",
      "  df_test_subset[f\"Model_1_q{qu}\"] = df_test_subset['Model_1_q50'] * (qu / 100)\n"
     ]
    },
    {
     "name": "stdout",
     "output_type": "stream",
     "text": [
      "Beste Kombination: Epochs: 100.0, Batch Size: 1024.0, regularizers_faktor: 0.4, LSTM Units 1: 64.0,LSTM Units 2: 64.0, Dropout Rate 1: 0.3, Dropout Rate 2: 0.1, Pinball Score Test: 139.70632424398954\n",
      "Trainiere Modell mit Epochs: 100, Batch Size: 1024, regularizers_faktor: 0.1, Dropout Rate 1: 0.3, Dropout Rate 2: 0.9\n"
     ]
    },
    {
     "name": "stderr",
     "output_type": "stream",
     "text": [
      "C:\\Users\\Michael Jäckle\\AppData\\Local\\Temp\\ipykernel_14304\\512680382.py:102: SettingWithCopyWarning: \n",
      "A value is trying to be set on a copy of a slice from a DataFrame.\n",
      "Try using .loc[row_indexer,col_indexer] = value instead\n",
      "\n",
      "See the caveats in the documentation: https://pandas.pydata.org/pandas-docs/stable/user_guide/indexing.html#returning-a-view-versus-a-copy\n",
      "  df_train_subset['Model_1_q50'] = np.nan\n"
     ]
    },
    {
     "name": "stdout",
     "output_type": "stream",
     "text": [
      "\u001b[1m9375/9375\u001b[0m \u001b[32m━━━━━━━━━━━━━━━━━━━━\u001b[0m\u001b[37m\u001b[0m \u001b[1m69s\u001b[0m 7ms/step\n"
     ]
    },
    {
     "name": "stderr",
     "output_type": "stream",
     "text": [
      "C:\\Users\\Michael Jäckle\\AppData\\Local\\Temp\\ipykernel_14304\\512680382.py:106: SettingWithCopyWarning: \n",
      "A value is trying to be set on a copy of a slice from a DataFrame.\n",
      "Try using .loc[row_indexer,col_indexer] = value instead\n",
      "\n",
      "See the caveats in the documentation: https://pandas.pydata.org/pandas-docs/stable/user_guide/indexing.html#returning-a-view-versus-a-copy\n",
      "  df_train_subset[f\"Model_1_q{qu}\"] = df_train_subset['Model_1_q50'] * (qu / 100)\n",
      "C:\\Users\\Michael Jäckle\\AppData\\Local\\Temp\\ipykernel_14304\\512680382.py:111: SettingWithCopyWarning: \n",
      "A value is trying to be set on a copy of a slice from a DataFrame.\n",
      "Try using .loc[row_indexer,col_indexer] = value instead\n",
      "\n",
      "See the caveats in the documentation: https://pandas.pydata.org/pandas-docs/stable/user_guide/indexing.html#returning-a-view-versus-a-copy\n",
      "  df_test_subset['Model_1_q50'] = np.nan\n"
     ]
    },
    {
     "name": "stdout",
     "output_type": "stream",
     "text": [
      "\u001b[1m7852/7852\u001b[0m \u001b[32m━━━━━━━━━━━━━━━━━━━━\u001b[0m\u001b[37m\u001b[0m \u001b[1m61s\u001b[0m 8ms/step\n"
     ]
    },
    {
     "name": "stderr",
     "output_type": "stream",
     "text": [
      "C:\\Users\\Michael Jäckle\\AppData\\Local\\Temp\\ipykernel_14304\\512680382.py:115: SettingWithCopyWarning: \n",
      "A value is trying to be set on a copy of a slice from a DataFrame.\n",
      "Try using .loc[row_indexer,col_indexer] = value instead\n",
      "\n",
      "See the caveats in the documentation: https://pandas.pydata.org/pandas-docs/stable/user_guide/indexing.html#returning-a-view-versus-a-copy\n",
      "  df_test_subset[f\"Model_1_q{qu}\"] = df_test_subset['Model_1_q50'] * (qu / 100)\n"
     ]
    },
    {
     "name": "stdout",
     "output_type": "stream",
     "text": [
      "Beste Kombination: Epochs: 100.0, Batch Size: 1024.0, regularizers_faktor: 0.4, LSTM Units 1: 64.0,LSTM Units 2: 64.0, Dropout Rate 1: 0.3, Dropout Rate 2: 0.1, Pinball Score Test: 139.70632424398954\n",
      "Trainiere Modell mit Epochs: 100, Batch Size: 1024, regularizers_faktor: 0.4, Dropout Rate 1: 0.1, Dropout Rate 2: 0.1\n"
     ]
    },
    {
     "name": "stderr",
     "output_type": "stream",
     "text": [
      "C:\\Users\\Michael Jäckle\\AppData\\Local\\Temp\\ipykernel_14304\\512680382.py:102: SettingWithCopyWarning: \n",
      "A value is trying to be set on a copy of a slice from a DataFrame.\n",
      "Try using .loc[row_indexer,col_indexer] = value instead\n",
      "\n",
      "See the caveats in the documentation: https://pandas.pydata.org/pandas-docs/stable/user_guide/indexing.html#returning-a-view-versus-a-copy\n",
      "  df_train_subset['Model_1_q50'] = np.nan\n"
     ]
    },
    {
     "name": "stdout",
     "output_type": "stream",
     "text": [
      "\u001b[1m9375/9375\u001b[0m \u001b[32m━━━━━━━━━━━━━━━━━━━━\u001b[0m\u001b[37m\u001b[0m \u001b[1m76s\u001b[0m 8ms/step\n",
      "\u001b[1m   1/7852\u001b[0m \u001b[37m━━━━━━━━━━━━━━━━━━━━\u001b[0m \u001b[1m3:39\u001b[0m 28ms/step"
     ]
    },
    {
     "name": "stderr",
     "output_type": "stream",
     "text": [
      "C:\\Users\\Michael Jäckle\\AppData\\Local\\Temp\\ipykernel_14304\\512680382.py:106: SettingWithCopyWarning: \n",
      "A value is trying to be set on a copy of a slice from a DataFrame.\n",
      "Try using .loc[row_indexer,col_indexer] = value instead\n",
      "\n",
      "See the caveats in the documentation: https://pandas.pydata.org/pandas-docs/stable/user_guide/indexing.html#returning-a-view-versus-a-copy\n",
      "  df_train_subset[f\"Model_1_q{qu}\"] = df_train_subset['Model_1_q50'] * (qu / 100)\n",
      "C:\\Users\\Michael Jäckle\\AppData\\Local\\Temp\\ipykernel_14304\\512680382.py:111: SettingWithCopyWarning: \n",
      "A value is trying to be set on a copy of a slice from a DataFrame.\n",
      "Try using .loc[row_indexer,col_indexer] = value instead\n",
      "\n",
      "See the caveats in the documentation: https://pandas.pydata.org/pandas-docs/stable/user_guide/indexing.html#returning-a-view-versus-a-copy\n",
      "  df_test_subset['Model_1_q50'] = np.nan\n"
     ]
    },
    {
     "name": "stdout",
     "output_type": "stream",
     "text": [
      "\u001b[1m7852/7852\u001b[0m \u001b[32m━━━━━━━━━━━━━━━━━━━━\u001b[0m\u001b[37m\u001b[0m \u001b[1m62s\u001b[0m 8ms/step\n"
     ]
    },
    {
     "name": "stderr",
     "output_type": "stream",
     "text": [
      "C:\\Users\\Michael Jäckle\\AppData\\Local\\Temp\\ipykernel_14304\\512680382.py:115: SettingWithCopyWarning: \n",
      "A value is trying to be set on a copy of a slice from a DataFrame.\n",
      "Try using .loc[row_indexer,col_indexer] = value instead\n",
      "\n",
      "See the caveats in the documentation: https://pandas.pydata.org/pandas-docs/stable/user_guide/indexing.html#returning-a-view-versus-a-copy\n",
      "  df_test_subset[f\"Model_1_q{qu}\"] = df_test_subset['Model_1_q50'] * (qu / 100)\n"
     ]
    },
    {
     "name": "stdout",
     "output_type": "stream",
     "text": [
      "Beste Kombination: Epochs: 100.0, Batch Size: 1024.0, regularizers_faktor: 0.4, LSTM Units 1: 64.0,LSTM Units 2: 64.0, Dropout Rate 1: 0.3, Dropout Rate 2: 0.1, Pinball Score Test: 139.70632424398954\n",
      "Trainiere Modell mit Epochs: 100, Batch Size: 1024, regularizers_faktor: 0.2, Dropout Rate 1: 0.1, Dropout Rate 2: 0.1\n"
     ]
    },
    {
     "name": "stderr",
     "output_type": "stream",
     "text": [
      "C:\\Users\\Michael Jäckle\\AppData\\Local\\Temp\\ipykernel_14304\\512680382.py:102: SettingWithCopyWarning: \n",
      "A value is trying to be set on a copy of a slice from a DataFrame.\n",
      "Try using .loc[row_indexer,col_indexer] = value instead\n",
      "\n",
      "See the caveats in the documentation: https://pandas.pydata.org/pandas-docs/stable/user_guide/indexing.html#returning-a-view-versus-a-copy\n",
      "  df_train_subset['Model_1_q50'] = np.nan\n"
     ]
    },
    {
     "name": "stdout",
     "output_type": "stream",
     "text": [
      "\u001b[1m9375/9375\u001b[0m \u001b[32m━━━━━━━━━━━━━━━━━━━━\u001b[0m\u001b[37m\u001b[0m \u001b[1m75s\u001b[0m 8ms/step\n",
      "\u001b[1m   1/7852\u001b[0m \u001b[37m━━━━━━━━━━━━━━━━━━━━\u001b[0m \u001b[1m3:47\u001b[0m 29ms/step"
     ]
    },
    {
     "name": "stderr",
     "output_type": "stream",
     "text": [
      "C:\\Users\\Michael Jäckle\\AppData\\Local\\Temp\\ipykernel_14304\\512680382.py:106: SettingWithCopyWarning: \n",
      "A value is trying to be set on a copy of a slice from a DataFrame.\n",
      "Try using .loc[row_indexer,col_indexer] = value instead\n",
      "\n",
      "See the caveats in the documentation: https://pandas.pydata.org/pandas-docs/stable/user_guide/indexing.html#returning-a-view-versus-a-copy\n",
      "  df_train_subset[f\"Model_1_q{qu}\"] = df_train_subset['Model_1_q50'] * (qu / 100)\n",
      "C:\\Users\\Michael Jäckle\\AppData\\Local\\Temp\\ipykernel_14304\\512680382.py:111: SettingWithCopyWarning: \n",
      "A value is trying to be set on a copy of a slice from a DataFrame.\n",
      "Try using .loc[row_indexer,col_indexer] = value instead\n",
      "\n",
      "See the caveats in the documentation: https://pandas.pydata.org/pandas-docs/stable/user_guide/indexing.html#returning-a-view-versus-a-copy\n",
      "  df_test_subset['Model_1_q50'] = np.nan\n"
     ]
    },
    {
     "name": "stdout",
     "output_type": "stream",
     "text": [
      "\u001b[1m7852/7852\u001b[0m \u001b[32m━━━━━━━━━━━━━━━━━━━━\u001b[0m\u001b[37m\u001b[0m \u001b[1m63s\u001b[0m 8ms/step\n"
     ]
    },
    {
     "name": "stderr",
     "output_type": "stream",
     "text": [
      "C:\\Users\\Michael Jäckle\\AppData\\Local\\Temp\\ipykernel_14304\\512680382.py:115: SettingWithCopyWarning: \n",
      "A value is trying to be set on a copy of a slice from a DataFrame.\n",
      "Try using .loc[row_indexer,col_indexer] = value instead\n",
      "\n",
      "See the caveats in the documentation: https://pandas.pydata.org/pandas-docs/stable/user_guide/indexing.html#returning-a-view-versus-a-copy\n",
      "  df_test_subset[f\"Model_1_q{qu}\"] = df_test_subset['Model_1_q50'] * (qu / 100)\n"
     ]
    },
    {
     "name": "stdout",
     "output_type": "stream",
     "text": [
      "Beste Kombination: Epochs: 100.0, Batch Size: 1024.0, regularizers_faktor: 0.2, LSTM Units 1: 64.0,LSTM Units 2: 64.0, Dropout Rate 1: 0.1, Dropout Rate 2: 0.1, Pinball Score Test: 139.70263170669753\n",
      "Trainiere Modell mit Epochs: 100, Batch Size: 1024, regularizers_faktor: 0.1, Dropout Rate 1: 0.1, Dropout Rate 2: 0.1\n"
     ]
    },
    {
     "name": "stderr",
     "output_type": "stream",
     "text": [
      "C:\\Users\\Michael Jäckle\\AppData\\Local\\Temp\\ipykernel_14304\\512680382.py:102: SettingWithCopyWarning: \n",
      "A value is trying to be set on a copy of a slice from a DataFrame.\n",
      "Try using .loc[row_indexer,col_indexer] = value instead\n",
      "\n",
      "See the caveats in the documentation: https://pandas.pydata.org/pandas-docs/stable/user_guide/indexing.html#returning-a-view-versus-a-copy\n",
      "  df_train_subset['Model_1_q50'] = np.nan\n"
     ]
    },
    {
     "name": "stdout",
     "output_type": "stream",
     "text": [
      "\u001b[1m9375/9375\u001b[0m \u001b[32m━━━━━━━━━━━━━━━━━━━━\u001b[0m\u001b[37m\u001b[0m \u001b[1m77s\u001b[0m 8ms/step\n"
     ]
    },
    {
     "name": "stderr",
     "output_type": "stream",
     "text": [
      "C:\\Users\\Michael Jäckle\\AppData\\Local\\Temp\\ipykernel_14304\\512680382.py:106: SettingWithCopyWarning: \n",
      "A value is trying to be set on a copy of a slice from a DataFrame.\n",
      "Try using .loc[row_indexer,col_indexer] = value instead\n",
      "\n",
      "See the caveats in the documentation: https://pandas.pydata.org/pandas-docs/stable/user_guide/indexing.html#returning-a-view-versus-a-copy\n",
      "  df_train_subset[f\"Model_1_q{qu}\"] = df_train_subset['Model_1_q50'] * (qu / 100)\n",
      "C:\\Users\\Michael Jäckle\\AppData\\Local\\Temp\\ipykernel_14304\\512680382.py:111: SettingWithCopyWarning: \n",
      "A value is trying to be set on a copy of a slice from a DataFrame.\n",
      "Try using .loc[row_indexer,col_indexer] = value instead\n",
      "\n",
      "See the caveats in the documentation: https://pandas.pydata.org/pandas-docs/stable/user_guide/indexing.html#returning-a-view-versus-a-copy\n",
      "  df_test_subset['Model_1_q50'] = np.nan\n"
     ]
    },
    {
     "name": "stdout",
     "output_type": "stream",
     "text": [
      "\u001b[1m7852/7852\u001b[0m \u001b[32m━━━━━━━━━━━━━━━━━━━━\u001b[0m\u001b[37m\u001b[0m \u001b[1m84s\u001b[0m 11ms/step\n"
     ]
    },
    {
     "name": "stderr",
     "output_type": "stream",
     "text": [
      "C:\\Users\\Michael Jäckle\\AppData\\Local\\Temp\\ipykernel_14304\\512680382.py:115: SettingWithCopyWarning: \n",
      "A value is trying to be set on a copy of a slice from a DataFrame.\n",
      "Try using .loc[row_indexer,col_indexer] = value instead\n",
      "\n",
      "See the caveats in the documentation: https://pandas.pydata.org/pandas-docs/stable/user_guide/indexing.html#returning-a-view-versus-a-copy\n",
      "  df_test_subset[f\"Model_1_q{qu}\"] = df_test_subset['Model_1_q50'] * (qu / 100)\n"
     ]
    },
    {
     "name": "stdout",
     "output_type": "stream",
     "text": [
      "Beste Kombination: Epochs: 100.0, Batch Size: 1024.0, regularizers_faktor: 0.2, LSTM Units 1: 64.0,LSTM Units 2: 64.0, Dropout Rate 1: 0.1, Dropout Rate 2: 0.1, Pinball Score Test: 139.70263170669753\n",
      "Trainiere Modell mit Epochs: 100, Batch Size: 1024, regularizers_faktor: 0.4, Dropout Rate 1: 0.1, Dropout Rate 2: 0.3\n"
     ]
    },
    {
     "name": "stderr",
     "output_type": "stream",
     "text": [
      "C:\\Users\\Michael Jäckle\\AppData\\Local\\Temp\\ipykernel_14304\\512680382.py:102: SettingWithCopyWarning: \n",
      "A value is trying to be set on a copy of a slice from a DataFrame.\n",
      "Try using .loc[row_indexer,col_indexer] = value instead\n",
      "\n",
      "See the caveats in the documentation: https://pandas.pydata.org/pandas-docs/stable/user_guide/indexing.html#returning-a-view-versus-a-copy\n",
      "  df_train_subset['Model_1_q50'] = np.nan\n"
     ]
    },
    {
     "name": "stdout",
     "output_type": "stream",
     "text": [
      "\u001b[1m9375/9375\u001b[0m \u001b[32m━━━━━━━━━━━━━━━━━━━━\u001b[0m\u001b[37m\u001b[0m \u001b[1m101s\u001b[0m 11ms/step\n"
     ]
    },
    {
     "name": "stderr",
     "output_type": "stream",
     "text": [
      "C:\\Users\\Michael Jäckle\\AppData\\Local\\Temp\\ipykernel_14304\\512680382.py:106: SettingWithCopyWarning: \n",
      "A value is trying to be set on a copy of a slice from a DataFrame.\n",
      "Try using .loc[row_indexer,col_indexer] = value instead\n",
      "\n",
      "See the caveats in the documentation: https://pandas.pydata.org/pandas-docs/stable/user_guide/indexing.html#returning-a-view-versus-a-copy\n",
      "  df_train_subset[f\"Model_1_q{qu}\"] = df_train_subset['Model_1_q50'] * (qu / 100)\n",
      "C:\\Users\\Michael Jäckle\\AppData\\Local\\Temp\\ipykernel_14304\\512680382.py:111: SettingWithCopyWarning: \n",
      "A value is trying to be set on a copy of a slice from a DataFrame.\n",
      "Try using .loc[row_indexer,col_indexer] = value instead\n",
      "\n",
      "See the caveats in the documentation: https://pandas.pydata.org/pandas-docs/stable/user_guide/indexing.html#returning-a-view-versus-a-copy\n",
      "  df_test_subset['Model_1_q50'] = np.nan\n"
     ]
    },
    {
     "name": "stdout",
     "output_type": "stream",
     "text": [
      "\u001b[1m2341/7852\u001b[0m \u001b[32m━━━━━\u001b[0m\u001b[37m━━━━━━━━━━━━━━━\u001b[0m \u001b[1m1:04\u001b[0m 12ms/step"
     ]
    },
    {
     "ename": "KeyboardInterrupt",
     "evalue": "",
     "output_type": "error",
     "traceback": [
      "\u001b[1;31m---------------------------------------------------------------------------\u001b[0m",
      "\u001b[1;31mKeyboardInterrupt\u001b[0m                         Traceback (most recent call last)",
      "Cell \u001b[1;32mIn[209], line 112\u001b[0m\n\u001b[0;32m    109\u001b[0m overall_pinball_score_train \u001b[38;5;241m=\u001b[39m np\u001b[38;5;241m.\u001b[39mmean(train_score)\n\u001b[0;32m    111\u001b[0m df_test_subset[\u001b[38;5;124m'\u001b[39m\u001b[38;5;124mModel_1_q50\u001b[39m\u001b[38;5;124m'\u001b[39m] \u001b[38;5;241m=\u001b[39m np\u001b[38;5;241m.\u001b[39mnan\n\u001b[1;32m--> 112\u001b[0m df_test_subset\u001b[38;5;241m.\u001b[39mloc[df_test_subset\u001b[38;5;241m.\u001b[39mindex[\u001b[38;5;241m-\u001b[39m\u001b[38;5;28mlen\u001b[39m(y_test):], \u001b[38;5;124m'\u001b[39m\u001b[38;5;124mModel_1_q50\u001b[39m\u001b[38;5;124m'\u001b[39m] \u001b[38;5;241m=\u001b[39m \u001b[43mmodel\u001b[49m\u001b[38;5;241;43m.\u001b[39;49m\u001b[43mpredict\u001b[49m\u001b[43m(\u001b[49m\u001b[43mX_test\u001b[49m\u001b[43m)\u001b[49m\u001b[38;5;241m.\u001b[39mflatten()\n\u001b[0;32m    114\u001b[0m \u001b[38;5;28;01mfor\u001b[39;00m qu \u001b[38;5;129;01min\u001b[39;00m \u001b[38;5;28mrange\u001b[39m(\u001b[38;5;241m10\u001b[39m, \u001b[38;5;241m100\u001b[39m, \u001b[38;5;241m10\u001b[39m):\n\u001b[0;32m    115\u001b[0m     df_test_subset[\u001b[38;5;124mf\u001b[39m\u001b[38;5;124m\"\u001b[39m\u001b[38;5;124mModel_1_q\u001b[39m\u001b[38;5;132;01m{\u001b[39;00mqu\u001b[38;5;132;01m}\u001b[39;00m\u001b[38;5;124m\"\u001b[39m] \u001b[38;5;241m=\u001b[39m df_test_subset[\u001b[38;5;124m'\u001b[39m\u001b[38;5;124mModel_1_q50\u001b[39m\u001b[38;5;124m'\u001b[39m] \u001b[38;5;241m*\u001b[39m (qu \u001b[38;5;241m/\u001b[39m \u001b[38;5;241m100\u001b[39m)\n",
      "File \u001b[1;32mc:\\Users\\Michael Jäckle\\Desktop\\Domainenprojekt_2\\.venv\\Lib\\site-packages\\keras\\src\\utils\\traceback_utils.py:117\u001b[0m, in \u001b[0;36mfilter_traceback.<locals>.error_handler\u001b[1;34m(*args, **kwargs)\u001b[0m\n\u001b[0;32m    115\u001b[0m filtered_tb \u001b[38;5;241m=\u001b[39m \u001b[38;5;28;01mNone\u001b[39;00m\n\u001b[0;32m    116\u001b[0m \u001b[38;5;28;01mtry\u001b[39;00m:\n\u001b[1;32m--> 117\u001b[0m     \u001b[38;5;28;01mreturn\u001b[39;00m \u001b[43mfn\u001b[49m\u001b[43m(\u001b[49m\u001b[38;5;241;43m*\u001b[39;49m\u001b[43margs\u001b[49m\u001b[43m,\u001b[49m\u001b[43m \u001b[49m\u001b[38;5;241;43m*\u001b[39;49m\u001b[38;5;241;43m*\u001b[39;49m\u001b[43mkwargs\u001b[49m\u001b[43m)\u001b[49m\n\u001b[0;32m    118\u001b[0m \u001b[38;5;28;01mexcept\u001b[39;00m \u001b[38;5;167;01mException\u001b[39;00m \u001b[38;5;28;01mas\u001b[39;00m e:\n\u001b[0;32m    119\u001b[0m     filtered_tb \u001b[38;5;241m=\u001b[39m _process_traceback_frames(e\u001b[38;5;241m.\u001b[39m__traceback__)\n",
      "File \u001b[1;32mc:\\Users\\Michael Jäckle\\Desktop\\Domainenprojekt_2\\.venv\\Lib\\site-packages\\keras\\src\\backend\\tensorflow\\trainer.py:510\u001b[0m, in \u001b[0;36mTensorFlowTrainer.predict\u001b[1;34m(self, x, batch_size, verbose, steps, callbacks)\u001b[0m\n\u001b[0;32m    508\u001b[0m callbacks\u001b[38;5;241m.\u001b[39mon_predict_batch_begin(step)\n\u001b[0;32m    509\u001b[0m data \u001b[38;5;241m=\u001b[39m get_data(iterator)\n\u001b[1;32m--> 510\u001b[0m batch_outputs \u001b[38;5;241m=\u001b[39m \u001b[38;5;28;43mself\u001b[39;49m\u001b[38;5;241;43m.\u001b[39;49m\u001b[43mpredict_function\u001b[49m\u001b[43m(\u001b[49m\u001b[43mdata\u001b[49m\u001b[43m)\u001b[49m\n\u001b[0;32m    511\u001b[0m outputs \u001b[38;5;241m=\u001b[39m append_to_outputs(batch_outputs, outputs)\n\u001b[0;32m    512\u001b[0m callbacks\u001b[38;5;241m.\u001b[39mon_predict_batch_end(step, {\u001b[38;5;124m\"\u001b[39m\u001b[38;5;124moutputs\u001b[39m\u001b[38;5;124m\"\u001b[39m: batch_outputs})\n",
      "File \u001b[1;32mc:\\Users\\Michael Jäckle\\Desktop\\Domainenprojekt_2\\.venv\\Lib\\site-packages\\tensorflow\\python\\util\\traceback_utils.py:150\u001b[0m, in \u001b[0;36mfilter_traceback.<locals>.error_handler\u001b[1;34m(*args, **kwargs)\u001b[0m\n\u001b[0;32m    148\u001b[0m filtered_tb \u001b[38;5;241m=\u001b[39m \u001b[38;5;28;01mNone\u001b[39;00m\n\u001b[0;32m    149\u001b[0m \u001b[38;5;28;01mtry\u001b[39;00m:\n\u001b[1;32m--> 150\u001b[0m   \u001b[38;5;28;01mreturn\u001b[39;00m \u001b[43mfn\u001b[49m\u001b[43m(\u001b[49m\u001b[38;5;241;43m*\u001b[39;49m\u001b[43margs\u001b[49m\u001b[43m,\u001b[49m\u001b[43m \u001b[49m\u001b[38;5;241;43m*\u001b[39;49m\u001b[38;5;241;43m*\u001b[39;49m\u001b[43mkwargs\u001b[49m\u001b[43m)\u001b[49m\n\u001b[0;32m    151\u001b[0m \u001b[38;5;28;01mexcept\u001b[39;00m \u001b[38;5;167;01mException\u001b[39;00m \u001b[38;5;28;01mas\u001b[39;00m e:\n\u001b[0;32m    152\u001b[0m   filtered_tb \u001b[38;5;241m=\u001b[39m _process_traceback_frames(e\u001b[38;5;241m.\u001b[39m__traceback__)\n",
      "File \u001b[1;32mc:\\Users\\Michael Jäckle\\Desktop\\Domainenprojekt_2\\.venv\\Lib\\site-packages\\tensorflow\\python\\eager\\polymorphic_function\\polymorphic_function.py:833\u001b[0m, in \u001b[0;36mFunction.__call__\u001b[1;34m(self, *args, **kwds)\u001b[0m\n\u001b[0;32m    830\u001b[0m compiler \u001b[38;5;241m=\u001b[39m \u001b[38;5;124m\"\u001b[39m\u001b[38;5;124mxla\u001b[39m\u001b[38;5;124m\"\u001b[39m \u001b[38;5;28;01mif\u001b[39;00m \u001b[38;5;28mself\u001b[39m\u001b[38;5;241m.\u001b[39m_jit_compile \u001b[38;5;28;01melse\u001b[39;00m \u001b[38;5;124m\"\u001b[39m\u001b[38;5;124mnonXla\u001b[39m\u001b[38;5;124m\"\u001b[39m\n\u001b[0;32m    832\u001b[0m \u001b[38;5;28;01mwith\u001b[39;00m OptionalXlaContext(\u001b[38;5;28mself\u001b[39m\u001b[38;5;241m.\u001b[39m_jit_compile):\n\u001b[1;32m--> 833\u001b[0m   result \u001b[38;5;241m=\u001b[39m \u001b[38;5;28;43mself\u001b[39;49m\u001b[38;5;241;43m.\u001b[39;49m\u001b[43m_call\u001b[49m\u001b[43m(\u001b[49m\u001b[38;5;241;43m*\u001b[39;49m\u001b[43margs\u001b[49m\u001b[43m,\u001b[49m\u001b[43m \u001b[49m\u001b[38;5;241;43m*\u001b[39;49m\u001b[38;5;241;43m*\u001b[39;49m\u001b[43mkwds\u001b[49m\u001b[43m)\u001b[49m\n\u001b[0;32m    835\u001b[0m new_tracing_count \u001b[38;5;241m=\u001b[39m \u001b[38;5;28mself\u001b[39m\u001b[38;5;241m.\u001b[39mexperimental_get_tracing_count()\n\u001b[0;32m    836\u001b[0m without_tracing \u001b[38;5;241m=\u001b[39m (tracing_count \u001b[38;5;241m==\u001b[39m new_tracing_count)\n",
      "File \u001b[1;32mc:\\Users\\Michael Jäckle\\Desktop\\Domainenprojekt_2\\.venv\\Lib\\site-packages\\tensorflow\\python\\eager\\polymorphic_function\\polymorphic_function.py:878\u001b[0m, in \u001b[0;36mFunction._call\u001b[1;34m(self, *args, **kwds)\u001b[0m\n\u001b[0;32m    875\u001b[0m \u001b[38;5;28mself\u001b[39m\u001b[38;5;241m.\u001b[39m_lock\u001b[38;5;241m.\u001b[39mrelease()\n\u001b[0;32m    876\u001b[0m \u001b[38;5;66;03m# In this case we have not created variables on the first call. So we can\u001b[39;00m\n\u001b[0;32m    877\u001b[0m \u001b[38;5;66;03m# run the first trace but we should fail if variables are created.\u001b[39;00m\n\u001b[1;32m--> 878\u001b[0m results \u001b[38;5;241m=\u001b[39m \u001b[43mtracing_compilation\u001b[49m\u001b[38;5;241;43m.\u001b[39;49m\u001b[43mcall_function\u001b[49m\u001b[43m(\u001b[49m\n\u001b[0;32m    879\u001b[0m \u001b[43m    \u001b[49m\u001b[43margs\u001b[49m\u001b[43m,\u001b[49m\u001b[43m \u001b[49m\u001b[43mkwds\u001b[49m\u001b[43m,\u001b[49m\u001b[43m \u001b[49m\u001b[38;5;28;43mself\u001b[39;49m\u001b[38;5;241;43m.\u001b[39;49m\u001b[43m_variable_creation_config\u001b[49m\n\u001b[0;32m    880\u001b[0m \u001b[43m\u001b[49m\u001b[43m)\u001b[49m\n\u001b[0;32m    881\u001b[0m \u001b[38;5;28;01mif\u001b[39;00m \u001b[38;5;28mself\u001b[39m\u001b[38;5;241m.\u001b[39m_created_variables:\n\u001b[0;32m    882\u001b[0m   \u001b[38;5;28;01mraise\u001b[39;00m \u001b[38;5;167;01mValueError\u001b[39;00m(\u001b[38;5;124m\"\u001b[39m\u001b[38;5;124mCreating variables on a non-first call to a function\u001b[39m\u001b[38;5;124m\"\u001b[39m\n\u001b[0;32m    883\u001b[0m                    \u001b[38;5;124m\"\u001b[39m\u001b[38;5;124m decorated with tf.function.\u001b[39m\u001b[38;5;124m\"\u001b[39m)\n",
      "File \u001b[1;32mc:\\Users\\Michael Jäckle\\Desktop\\Domainenprojekt_2\\.venv\\Lib\\site-packages\\tensorflow\\python\\eager\\polymorphic_function\\tracing_compilation.py:139\u001b[0m, in \u001b[0;36mcall_function\u001b[1;34m(args, kwargs, tracing_options)\u001b[0m\n\u001b[0;32m    137\u001b[0m bound_args \u001b[38;5;241m=\u001b[39m function\u001b[38;5;241m.\u001b[39mfunction_type\u001b[38;5;241m.\u001b[39mbind(\u001b[38;5;241m*\u001b[39margs, \u001b[38;5;241m*\u001b[39m\u001b[38;5;241m*\u001b[39mkwargs)\n\u001b[0;32m    138\u001b[0m flat_inputs \u001b[38;5;241m=\u001b[39m function\u001b[38;5;241m.\u001b[39mfunction_type\u001b[38;5;241m.\u001b[39munpack_inputs(bound_args)\n\u001b[1;32m--> 139\u001b[0m \u001b[38;5;28;01mreturn\u001b[39;00m \u001b[43mfunction\u001b[49m\u001b[38;5;241;43m.\u001b[39;49m\u001b[43m_call_flat\u001b[49m\u001b[43m(\u001b[49m\u001b[43m  \u001b[49m\u001b[38;5;66;43;03m# pylint: disable=protected-access\u001b[39;49;00m\n\u001b[0;32m    140\u001b[0m \u001b[43m    \u001b[49m\u001b[43mflat_inputs\u001b[49m\u001b[43m,\u001b[49m\u001b[43m \u001b[49m\u001b[43mcaptured_inputs\u001b[49m\u001b[38;5;241;43m=\u001b[39;49m\u001b[43mfunction\u001b[49m\u001b[38;5;241;43m.\u001b[39;49m\u001b[43mcaptured_inputs\u001b[49m\n\u001b[0;32m    141\u001b[0m \u001b[43m\u001b[49m\u001b[43m)\u001b[49m\n",
      "File \u001b[1;32mc:\\Users\\Michael Jäckle\\Desktop\\Domainenprojekt_2\\.venv\\Lib\\site-packages\\tensorflow\\python\\eager\\polymorphic_function\\concrete_function.py:1322\u001b[0m, in \u001b[0;36mConcreteFunction._call_flat\u001b[1;34m(self, tensor_inputs, captured_inputs)\u001b[0m\n\u001b[0;32m   1318\u001b[0m possible_gradient_type \u001b[38;5;241m=\u001b[39m gradients_util\u001b[38;5;241m.\u001b[39mPossibleTapeGradientTypes(args)\n\u001b[0;32m   1319\u001b[0m \u001b[38;5;28;01mif\u001b[39;00m (possible_gradient_type \u001b[38;5;241m==\u001b[39m gradients_util\u001b[38;5;241m.\u001b[39mPOSSIBLE_GRADIENT_TYPES_NONE\n\u001b[0;32m   1320\u001b[0m     \u001b[38;5;129;01mand\u001b[39;00m executing_eagerly):\n\u001b[0;32m   1321\u001b[0m   \u001b[38;5;66;03m# No tape is watching; skip to running the function.\u001b[39;00m\n\u001b[1;32m-> 1322\u001b[0m   \u001b[38;5;28;01mreturn\u001b[39;00m \u001b[38;5;28;43mself\u001b[39;49m\u001b[38;5;241;43m.\u001b[39;49m\u001b[43m_inference_function\u001b[49m\u001b[38;5;241;43m.\u001b[39;49m\u001b[43mcall_preflattened\u001b[49m\u001b[43m(\u001b[49m\u001b[43margs\u001b[49m\u001b[43m)\u001b[49m\n\u001b[0;32m   1323\u001b[0m forward_backward \u001b[38;5;241m=\u001b[39m \u001b[38;5;28mself\u001b[39m\u001b[38;5;241m.\u001b[39m_select_forward_and_backward_functions(\n\u001b[0;32m   1324\u001b[0m     args,\n\u001b[0;32m   1325\u001b[0m     possible_gradient_type,\n\u001b[0;32m   1326\u001b[0m     executing_eagerly)\n\u001b[0;32m   1327\u001b[0m forward_function, args_with_tangents \u001b[38;5;241m=\u001b[39m forward_backward\u001b[38;5;241m.\u001b[39mforward()\n",
      "File \u001b[1;32mc:\\Users\\Michael Jäckle\\Desktop\\Domainenprojekt_2\\.venv\\Lib\\site-packages\\tensorflow\\python\\eager\\polymorphic_function\\atomic_function.py:216\u001b[0m, in \u001b[0;36mAtomicFunction.call_preflattened\u001b[1;34m(self, args)\u001b[0m\n\u001b[0;32m    214\u001b[0m \u001b[38;5;28;01mdef\u001b[39;00m \u001b[38;5;21mcall_preflattened\u001b[39m(\u001b[38;5;28mself\u001b[39m, args: Sequence[core\u001b[38;5;241m.\u001b[39mTensor]) \u001b[38;5;241m-\u001b[39m\u001b[38;5;241m>\u001b[39m Any:\n\u001b[0;32m    215\u001b[0m \u001b[38;5;250m  \u001b[39m\u001b[38;5;124;03m\"\"\"Calls with flattened tensor inputs and returns the structured output.\"\"\"\u001b[39;00m\n\u001b[1;32m--> 216\u001b[0m   flat_outputs \u001b[38;5;241m=\u001b[39m \u001b[38;5;28;43mself\u001b[39;49m\u001b[38;5;241;43m.\u001b[39;49m\u001b[43mcall_flat\u001b[49m\u001b[43m(\u001b[49m\u001b[38;5;241;43m*\u001b[39;49m\u001b[43margs\u001b[49m\u001b[43m)\u001b[49m\n\u001b[0;32m    217\u001b[0m   \u001b[38;5;28;01mreturn\u001b[39;00m \u001b[38;5;28mself\u001b[39m\u001b[38;5;241m.\u001b[39mfunction_type\u001b[38;5;241m.\u001b[39mpack_output(flat_outputs)\n",
      "File \u001b[1;32mc:\\Users\\Michael Jäckle\\Desktop\\Domainenprojekt_2\\.venv\\Lib\\site-packages\\tensorflow\\python\\eager\\polymorphic_function\\atomic_function.py:251\u001b[0m, in \u001b[0;36mAtomicFunction.call_flat\u001b[1;34m(self, *args)\u001b[0m\n\u001b[0;32m    249\u001b[0m \u001b[38;5;28;01mwith\u001b[39;00m record\u001b[38;5;241m.\u001b[39mstop_recording():\n\u001b[0;32m    250\u001b[0m   \u001b[38;5;28;01mif\u001b[39;00m \u001b[38;5;28mself\u001b[39m\u001b[38;5;241m.\u001b[39m_bound_context\u001b[38;5;241m.\u001b[39mexecuting_eagerly():\n\u001b[1;32m--> 251\u001b[0m     outputs \u001b[38;5;241m=\u001b[39m \u001b[38;5;28;43mself\u001b[39;49m\u001b[38;5;241;43m.\u001b[39;49m\u001b[43m_bound_context\u001b[49m\u001b[38;5;241;43m.\u001b[39;49m\u001b[43mcall_function\u001b[49m\u001b[43m(\u001b[49m\n\u001b[0;32m    252\u001b[0m \u001b[43m        \u001b[49m\u001b[38;5;28;43mself\u001b[39;49m\u001b[38;5;241;43m.\u001b[39;49m\u001b[43mname\u001b[49m\u001b[43m,\u001b[49m\n\u001b[0;32m    253\u001b[0m \u001b[43m        \u001b[49m\u001b[38;5;28;43mlist\u001b[39;49m\u001b[43m(\u001b[49m\u001b[43margs\u001b[49m\u001b[43m)\u001b[49m\u001b[43m,\u001b[49m\n\u001b[0;32m    254\u001b[0m \u001b[43m        \u001b[49m\u001b[38;5;28;43mlen\u001b[39;49m\u001b[43m(\u001b[49m\u001b[38;5;28;43mself\u001b[39;49m\u001b[38;5;241;43m.\u001b[39;49m\u001b[43mfunction_type\u001b[49m\u001b[38;5;241;43m.\u001b[39;49m\u001b[43mflat_outputs\u001b[49m\u001b[43m)\u001b[49m\u001b[43m,\u001b[49m\n\u001b[0;32m    255\u001b[0m \u001b[43m    \u001b[49m\u001b[43m)\u001b[49m\n\u001b[0;32m    256\u001b[0m   \u001b[38;5;28;01melse\u001b[39;00m:\n\u001b[0;32m    257\u001b[0m     outputs \u001b[38;5;241m=\u001b[39m make_call_op_in_graph(\n\u001b[0;32m    258\u001b[0m         \u001b[38;5;28mself\u001b[39m,\n\u001b[0;32m    259\u001b[0m         \u001b[38;5;28mlist\u001b[39m(args),\n\u001b[0;32m    260\u001b[0m         \u001b[38;5;28mself\u001b[39m\u001b[38;5;241m.\u001b[39m_bound_context\u001b[38;5;241m.\u001b[39mfunction_call_options\u001b[38;5;241m.\u001b[39mas_attrs(),\n\u001b[0;32m    261\u001b[0m     )\n",
      "File \u001b[1;32mc:\\Users\\Michael Jäckle\\Desktop\\Domainenprojekt_2\\.venv\\Lib\\site-packages\\tensorflow\\python\\eager\\context.py:1552\u001b[0m, in \u001b[0;36mContext.call_function\u001b[1;34m(self, name, tensor_inputs, num_outputs)\u001b[0m\n\u001b[0;32m   1550\u001b[0m cancellation_context \u001b[38;5;241m=\u001b[39m cancellation\u001b[38;5;241m.\u001b[39mcontext()\n\u001b[0;32m   1551\u001b[0m \u001b[38;5;28;01mif\u001b[39;00m cancellation_context \u001b[38;5;129;01mis\u001b[39;00m \u001b[38;5;28;01mNone\u001b[39;00m:\n\u001b[1;32m-> 1552\u001b[0m   outputs \u001b[38;5;241m=\u001b[39m \u001b[43mexecute\u001b[49m\u001b[38;5;241;43m.\u001b[39;49m\u001b[43mexecute\u001b[49m\u001b[43m(\u001b[49m\n\u001b[0;32m   1553\u001b[0m \u001b[43m      \u001b[49m\u001b[43mname\u001b[49m\u001b[38;5;241;43m.\u001b[39;49m\u001b[43mdecode\u001b[49m\u001b[43m(\u001b[49m\u001b[38;5;124;43m\"\u001b[39;49m\u001b[38;5;124;43mutf-8\u001b[39;49m\u001b[38;5;124;43m\"\u001b[39;49m\u001b[43m)\u001b[49m\u001b[43m,\u001b[49m\n\u001b[0;32m   1554\u001b[0m \u001b[43m      \u001b[49m\u001b[43mnum_outputs\u001b[49m\u001b[38;5;241;43m=\u001b[39;49m\u001b[43mnum_outputs\u001b[49m\u001b[43m,\u001b[49m\n\u001b[0;32m   1555\u001b[0m \u001b[43m      \u001b[49m\u001b[43minputs\u001b[49m\u001b[38;5;241;43m=\u001b[39;49m\u001b[43mtensor_inputs\u001b[49m\u001b[43m,\u001b[49m\n\u001b[0;32m   1556\u001b[0m \u001b[43m      \u001b[49m\u001b[43mattrs\u001b[49m\u001b[38;5;241;43m=\u001b[39;49m\u001b[43mattrs\u001b[49m\u001b[43m,\u001b[49m\n\u001b[0;32m   1557\u001b[0m \u001b[43m      \u001b[49m\u001b[43mctx\u001b[49m\u001b[38;5;241;43m=\u001b[39;49m\u001b[38;5;28;43mself\u001b[39;49m\u001b[43m,\u001b[49m\n\u001b[0;32m   1558\u001b[0m \u001b[43m  \u001b[49m\u001b[43m)\u001b[49m\n\u001b[0;32m   1559\u001b[0m \u001b[38;5;28;01melse\u001b[39;00m:\n\u001b[0;32m   1560\u001b[0m   outputs \u001b[38;5;241m=\u001b[39m execute\u001b[38;5;241m.\u001b[39mexecute_with_cancellation(\n\u001b[0;32m   1561\u001b[0m       name\u001b[38;5;241m.\u001b[39mdecode(\u001b[38;5;124m\"\u001b[39m\u001b[38;5;124mutf-8\u001b[39m\u001b[38;5;124m\"\u001b[39m),\n\u001b[0;32m   1562\u001b[0m       num_outputs\u001b[38;5;241m=\u001b[39mnum_outputs,\n\u001b[1;32m   (...)\u001b[0m\n\u001b[0;32m   1566\u001b[0m       cancellation_manager\u001b[38;5;241m=\u001b[39mcancellation_context,\n\u001b[0;32m   1567\u001b[0m   )\n",
      "File \u001b[1;32mc:\\Users\\Michael Jäckle\\Desktop\\Domainenprojekt_2\\.venv\\Lib\\site-packages\\tensorflow\\python\\eager\\execute.py:53\u001b[0m, in \u001b[0;36mquick_execute\u001b[1;34m(op_name, num_outputs, inputs, attrs, ctx, name)\u001b[0m\n\u001b[0;32m     51\u001b[0m \u001b[38;5;28;01mtry\u001b[39;00m:\n\u001b[0;32m     52\u001b[0m   ctx\u001b[38;5;241m.\u001b[39mensure_initialized()\n\u001b[1;32m---> 53\u001b[0m   tensors \u001b[38;5;241m=\u001b[39m \u001b[43mpywrap_tfe\u001b[49m\u001b[38;5;241;43m.\u001b[39;49m\u001b[43mTFE_Py_Execute\u001b[49m\u001b[43m(\u001b[49m\u001b[43mctx\u001b[49m\u001b[38;5;241;43m.\u001b[39;49m\u001b[43m_handle\u001b[49m\u001b[43m,\u001b[49m\u001b[43m \u001b[49m\u001b[43mdevice_name\u001b[49m\u001b[43m,\u001b[49m\u001b[43m \u001b[49m\u001b[43mop_name\u001b[49m\u001b[43m,\u001b[49m\n\u001b[0;32m     54\u001b[0m \u001b[43m                                      \u001b[49m\u001b[43minputs\u001b[49m\u001b[43m,\u001b[49m\u001b[43m \u001b[49m\u001b[43mattrs\u001b[49m\u001b[43m,\u001b[49m\u001b[43m \u001b[49m\u001b[43mnum_outputs\u001b[49m\u001b[43m)\u001b[49m\n\u001b[0;32m     55\u001b[0m \u001b[38;5;28;01mexcept\u001b[39;00m core\u001b[38;5;241m.\u001b[39m_NotOkStatusException \u001b[38;5;28;01mas\u001b[39;00m e:\n\u001b[0;32m     56\u001b[0m   \u001b[38;5;28;01mif\u001b[39;00m name \u001b[38;5;129;01mis\u001b[39;00m \u001b[38;5;129;01mnot\u001b[39;00m \u001b[38;5;28;01mNone\u001b[39;00m:\n",
      "\u001b[1;31mKeyboardInterrupt\u001b[0m: "
     ]
    }
   ],
   "source": [
    "def pinball(y, q, alpha):\n",
    "    return (y - q) * (alpha - (y < q))\n",
    "\n",
    "def pinball_score(df, model_idx):\n",
    "    score = []\n",
    "    for qu in range(10, 100, 10):\n",
    "        y_true = df['Wind_MWh_credit']\n",
    "        y_pred = df[f'Model_{model_idx}_q{qu}']\n",
    "        score.append(pinball(y_true, y_pred, qu / 100).mean())\n",
    "    return score\n",
    "\n",
    "# Beispielwerte\n",
    "data_sizes = [300000] \n",
    "regularizers_faktor = [0.4, 0.2, 0.1]\n",
    "dropout_rates_1 = [0.9, 0.7, 0.3, 0.1]\n",
    "dropout_rates_2 = [0.1, 0.3, 0.7, 0.9]\n",
    "epochs_options = [200, 150, 100, 50]\n",
    "batch_sizes = [1024]\n",
    "sequence_lengths = [12]\n",
    "lstm_units_1 = [64]\n",
    "lstm_units_2 = [64]\n",
    "\n",
    "results_file_name = f\"data/results_solar.csv\"\n",
    "os.makedirs(os.path.dirname(results_file_name), exist_ok=True)\n",
    "\n",
    "with open(results_file_name, 'w') as f:\n",
    "    f.write('Epochs,Batch_Size,Sequence_Length,Dropout_Rate_1,Dropout_Rate_2,Regularizers_Faktor,LSTM_Units_1,LSTM_Units_2,Data_Size,Pinball_Score_Train,Pinball_Score_Test\\n')\n",
    "\n",
    "for data_size in data_sizes:\n",
    "    df_train_subset = df_train.iloc[:data_size]\n",
    "    df_test_subset = df_test.head(data_size)\n",
    "\n",
    "    # Feature-Liste definieren\n",
    "    features = [\n",
    "        'RelativeHumidity', 'CloudCover', 'SolarDownwardRadiation', 'month', 'day', 'hour', 'CloudCover',   'SolarDownwardRadiation',\n",
    "      \n",
    "    ]\n",
    "    target = 'Solar_MWh_credit'\n",
    "\n",
    "    # Überprüfe auf fehlende Spalten\n",
    "    missing_columns = [col for col in (features + [target]) if col not in df_train_subset.columns]\n",
    "    if missing_columns:\n",
    "        print(\"Fehlende Spalten:\", missing_columns)\n",
    "        continue  # Überspringe diese Iteration, falls Spalten fehlen\n",
    "\n",
    "    scaler = MinMaxScaler()\n",
    "    scaled_train_data = scaler.fit_transform(df_train_subset[features + [target]])\n",
    "\n",
    "    # Trainingssequenzen erstellen\n",
    "    X_train, y_train = [], []\n",
    "    for i in range(sequence_lengths[0], len(scaled_train_data)):\n",
    "        X_train.append(scaled_train_data[i-sequence_lengths[0]:i, :-1])\n",
    "        y_train.append(scaled_train_data[i, -1])\n",
    "    X_train, y_train = np.array(X_train), np.array(y_train)\n",
    "\n",
    "    scaled_test_data = scaler.transform(df_test_subset[features + [target]])\n",
    "\n",
    "    # Testsequenzen erstellen\n",
    "    X_test, y_test = [], []\n",
    "    for i in range(sequence_lengths[0], len(scaled_test_data)):\n",
    "        X_test.append(scaled_test_data[i-sequence_lengths[0]:i, :-1])\n",
    "        y_test.append(scaled_test_data[i, -1])\n",
    "    X_test, y_test = np.array(X_test), np.array(y_test)\n",
    "\n",
    "    param_combinations = list(product(\n",
    "        epochs_options, batch_sizes, dropout_rates_1, dropout_rates_2,\n",
    "        regularizers_faktor, lstm_units_1, lstm_units_2\n",
    "    ))\n",
    "\n",
    "    for epochs, batch_size, dropout_rate_1, dropout_rate_2, reg_factor, lstm_units_1, lstm_units_2 in param_combinations:\n",
    "        print(f\"Trainiere Modell mit Epochs: {epochs}, Batch Size: {batch_size}, \"\n",
    "              f\"regularizers_faktor: {reg_factor}, Dropout Rate 1: {dropout_rate_1}, Dropout Rate 2: {dropout_rate_2}\")\n",
    "\n",
    "        model = Sequential([\n",
    "            Input(shape=(X_train.shape[1], X_train.shape[2])),\n",
    "            LSTM(lstm_units_1, return_sequences=True, kernel_regularizer=tf.keras.regularizers.l2(reg_factor)),\n",
    "            BatchNormalization(),\n",
    "            Dropout(dropout_rate_1),\n",
    "            LSTM(lstm_units_2, return_sequences=False, kernel_regularizer=tf.keras.regularizers.l2(reg_factor)),\n",
    "            BatchNormalization(),\n",
    "            Dropout(dropout_rate_2),\n",
    "            Dense(1)\n",
    "        ])\n",
    "\n",
    "        model.compile(optimizer='adam', loss='mean_squared_error')\n",
    "        early_stopping = EarlyStopping(monitor='val_loss', patience=5, restore_best_weights=True)\n",
    "\n",
    "        model.fit(X_train, y_train, epochs=epochs, batch_size=batch_size, validation_split=0.2,\n",
    "                  callbacks=[early_stopping], verbose=0)\n",
    "\n",
    "        # Vorhersagen für Trainings- und Testdaten durchführen und Pinball-Score berechnen\n",
    "        df_train_subset['Model_1_q50'] = np.nan\n",
    "        df_train_subset.loc[df_train_subset.index[-len(y_train):], 'Model_1_q50'] = model.predict(X_train).flatten()\n",
    "        \n",
    "        for qu in range(10, 100, 10):\n",
    "            df_train_subset[f\"Model_1_q{qu}\"] = df_train_subset['Model_1_q50'] * (qu / 100)\n",
    "        \n",
    "        train_score = pinball_score(df_train_subset, 1)\n",
    "        overall_pinball_score_train = np.mean(train_score)\n",
    "\n",
    "        df_test_subset['Model_1_q50'] = np.nan\n",
    "        df_test_subset.loc[df_test_subset.index[-len(y_test):], 'Model_1_q50'] = model.predict(X_test).flatten()\n",
    "\n",
    "        for qu in range(10, 100, 10):\n",
    "            df_test_subset[f\"Model_1_q{qu}\"] = df_test_subset['Model_1_q50'] * (qu / 100)\n",
    "\n",
    "        test_score = pinball_score(df_test_subset, 1)\n",
    "        overall_pinball_score_test = np.mean(test_score)\n",
    "\n",
    "        # Ergebnisse in die CSV schreiben\n",
    "        with open(results_file_name, 'a') as f:\n",
    "            f.write(f\"{epochs},{batch_size},{sequence_lengths[0]},{dropout_rate_1},{dropout_rate_2},{reg_factor},{units_1},{units_2},{data_size},{overall_pinball_score_train},{overall_pinball_score_test}\\n\")\n",
    "\n",
    "        # Ausgabe der besten Kombination\n",
    "        results_df = pd.read_csv(results_file_name)\n",
    "        best_result = results_df.loc[results_df['Pinball_Score_Test'].idxmin()]\n",
    "        print(f\"Beste Kombination: Epochs: {best_result['Epochs']}, Batch Size: {best_result['Batch_Size']}, \"\n",
    "              f\"regularizers_faktor: {best_result['Regularizers_Faktor']}, LSTM Units 1: {best_result['LSTM_Units_1']},LSTM Units 2: {best_result['LSTM_Units_2']}, \"\n",
    "              f\"Dropout Rate 1: {best_result['Dropout_Rate_1']}, Dropout Rate 2: {best_result['Dropout_Rate_2']}, \"\n",
    "              f\"Pinball Score Test: {best_result['Pinball_Score_Test']}\")\n"
   ]
  },
  {
   "cell_type": "markdown",
   "metadata": {},
   "source": [
    "## Modelltraining gesamt"
   ]
  },
  {
   "cell_type": "code",
   "execution_count": null,
   "metadata": {},
   "outputs": [],
   "source": [
    "def pinball(y, q, alpha):\n",
    "    return (y - q) * (alpha - (y < q))\n",
    "\n",
    "def pinball_score(df, model_idx):\n",
    "    score = []\n",
    "    for qu in range(10, 100, 10):\n",
    "        y_true = df['Wind_MWh_credit']\n",
    "        y_pred = df[f'Model_{model_idx}_q{qu}']\n",
    "        score.append(pinball(y_true, y_pred, qu / 100).mean())\n",
    "    return score\n",
    "\n",
    "\n",
    "data_sizes = [300000] \n",
    "regularizers_faktor = [0.4, 0.2, 0.1]\n",
    "dropout_rates_1 = [0.9, 0.7, 0.3, 0.1]\n",
    "dropout_rates_2 = [0.1, 0.3, 0.7, 0.9]\n",
    "epochs_options = [200, 150, 100, 50]\n",
    "batch_sizes = [1024]\n",
    "sequence_lengths = [12]\n",
    "lstm_units_1 = [64]\n",
    "lstm_units_2 = [64]\n",
    "\n",
    "results_file_name = f\"data/results_gesamt.csv\"\n",
    "os.makedirs(os.path.dirname(results_file_name), exist_ok=True)\n",
    "\n",
    "with open(results_file_name, 'w') as f:\n",
    "    f.write('Epochs,Batch_Size,Sequence_Length,Dropout_Rate_1,Dropout_Rate_2,Regularizers_Faktor,LSTM_Units_1,LSTM_Units_2,Data_Size,Pinball_Score_Train,Pinball_Score_Test\\n')\n",
    "\n",
    "for data_size in data_sizes:\n",
    "    df_train_subset = df_train.iloc[:data_size]\n",
    "    df_test_subset = df_test.head(data_size)\n",
    "\n",
    "    # Feature-Liste definieren\n",
    "    features = [\n",
    "        'RelativeHumidity', 'CloudCover', 'SolarDownwardRadiation', 'month', 'day', 'hour', 'CloudCover', 'SolarDownwardRadiation',\n",
    "        'WindDirection', 'WindDirection:100', 'WindSpeed', 'WindSpeed:100',\n",
    "        'CloudCover', 'SolarDownwardRadiation', 'month', 'day', 'hour',\n",
    "       'WindSpeedPCA', 'WindDirectionPCA',\n",
    "       'Category_T_HOWAO_1', 'Category_T_HOWAO_2', 'Category_T_HOWAO_3',\n",
    "       'Category_Forced_Outage', 'Category_NonOperator_Alert',\n",
    "       'Category_Planned_Outage', 'Category_Turbine',\n",
    "       'Category_Under_Investigation'\n",
    "      \n",
    "    ]\n",
    "    target = 'total_generation_MWh'\n",
    "\n",
    "    # Überprüfe auf fehlende Spalten\n",
    "    missing_columns = [col for col in (features + [target]) if col not in df_train_subset.columns]\n",
    "    if missing_columns:\n",
    "        print(\"Fehlende Spalten:\", missing_columns)\n",
    "        continue  # Überspringe diese Iteration, falls Spalten fehlen\n",
    "\n",
    "    scaler = MinMaxScaler()\n",
    "    scaled_train_data = scaler.fit_transform(df_train_subset[features + [target]])\n",
    "\n",
    "    # Trainingssequenzen erstellen\n",
    "    X_train, y_train = [], []\n",
    "    for i in range(sequence_lengths[0], len(scaled_train_data)):\n",
    "        X_train.append(scaled_train_data[i-sequence_lengths[0]:i, :-1])\n",
    "        y_train.append(scaled_train_data[i, -1])\n",
    "    X_train, y_train = np.array(X_train), np.array(y_train)\n",
    "\n",
    "    scaled_test_data = scaler.transform(df_test_subset[features + [target]])\n",
    "\n",
    "    # Testsequenzen erstellen\n",
    "    X_test, y_test = [], []\n",
    "    for i in range(sequence_lengths[0], len(scaled_test_data)):\n",
    "        X_test.append(scaled_test_data[i-sequence_lengths[0]:i, :-1])\n",
    "        y_test.append(scaled_test_data[i, -1])\n",
    "    X_test, y_test = np.array(X_test), np.array(y_test)\n",
    "\n",
    "    param_combinations = list(product(\n",
    "        epochs_options, batch_sizes, dropout_rates_1, dropout_rates_2,\n",
    "        regularizers_faktor, lstm_units_1, lstm_units_2\n",
    "    ))\n",
    "\n",
    "    for epochs, batch_size, dropout_rate_1, dropout_rate_2, reg_factor, lstm_units_1, lstm_units_2 in param_combinations:\n",
    "        print(f\"Trainiere Modell mit Epochs: {epochs}, Batch Size: {batch_size}, \"\n",
    "              f\"regularizers_faktor: {reg_factor}, Dropout Rate 1: {dropout_rate_1}, Dropout Rate 2: {dropout_rate_2}\")\n",
    "\n",
    "        model = Sequential([\n",
    "            Input(shape=(X_train.shape[1], X_train.shape[2])),\n",
    "            LSTM(lstm_units_1, return_sequences=True, kernel_regularizer=tf.keras.regularizers.l2(reg_factor)),\n",
    "            BatchNormalization(),\n",
    "            Dropout(dropout_rate_1),\n",
    "            LSTM(lstm_units_2, return_sequences=False, kernel_regularizer=tf.keras.regularizers.l2(reg_factor)),\n",
    "            BatchNormalization(),\n",
    "            Dropout(dropout_rate_2),\n",
    "            Dense(1)\n",
    "        ])\n",
    "\n",
    "        model.compile(optimizer='adam', loss='mean_squared_error')\n",
    "        early_stopping = EarlyStopping(monitor='val_loss', patience=5, restore_best_weights=True)\n",
    "\n",
    "        model.fit(X_train, y_train, epochs=epochs, batch_size=batch_size, validation_split=0.2,\n",
    "                  callbacks=[early_stopping], verbose=0)\n",
    "\n",
    "        # Vorhersagen für Trainings- und Testdaten durchführen und Pinball-Score berechnen\n",
    "        df_train_subset['Model_1_q50'] = np.nan\n",
    "        df_train_subset.loc[df_train_subset.index[-len(y_train):], 'Model_1_q50'] = model.predict(X_train).flatten()\n",
    "        \n",
    "        for qu in range(10, 100, 10):\n",
    "            df_train_subset[f\"Model_1_q{qu}\"] = df_train_subset['Model_1_q50'] * (qu / 100)\n",
    "        \n",
    "        train_score = pinball_score(df_train_subset, 1)\n",
    "        overall_pinball_score_train = np.mean(train_score)\n",
    "\n",
    "        df_test_subset['Model_1_q50'] = np.nan\n",
    "        df_test_subset.loc[df_test_subset.index[-len(y_test):], 'Model_1_q50'] = model.predict(X_test).flatten()\n",
    "\n",
    "        for qu in range(10, 100, 10):\n",
    "            df_test_subset[f\"Model_1_q{qu}\"] = df_test_subset['Model_1_q50'] * (qu / 100)\n",
    "\n",
    "        test_score = pinball_score(df_test_subset, 1)\n",
    "        overall_pinball_score_test = np.mean(test_score)\n",
    "\n",
    "        # Ergebnisse in die CSV schreiben\n",
    "        with open(results_file_name, 'a') as f:\n",
    "            f.write(f\"{epochs},{batch_size},{sequence_lengths[0]},{dropout_rate_1},{dropout_rate_2},{reg_factor},{units_1},{units_2},{data_size},{overall_pinball_score_train},{overall_pinball_score_test}\\n\")\n",
    "\n",
    "        # Ausgabe der besten Kombination\n",
    "        results_df = pd.read_csv(results_file_name)\n",
    "        best_result = results_df.loc[results_df['Pinball_Score_Test'].idxmin()]\n",
    "        print(f\"Beste Kombination: Epochs: {best_result['Epochs']}, Batch Size: {best_result['Batch_Size']}, \"\n",
    "              f\"regularizers_faktor: {best_result['Regularizers_Faktor']}, LSTM Units 1: {best_result['LSTM_Units_1']},LSTM Units 2: {best_result['LSTM_Units_2']}, \"\n",
    "              f\"Dropout Rate 1: {best_result['Dropout_Rate_1']}, Dropout Rate 2: {best_result['Dropout_Rate_2']}, \"\n",
    "              f\"Pinball Score Test: {best_result['Pinball_Score_Test']}\")\n"
   ]
  }
 ],
 "metadata": {
  "kernelspec": {
   "display_name": ".venv",
   "language": "python",
   "name": "python3"
  },
  "language_info": {
   "codemirror_mode": {
    "name": "ipython",
    "version": 3
   },
   "file_extension": ".py",
   "mimetype": "text/x-python",
   "name": "python",
   "nbconvert_exporter": "python",
   "pygments_lexer": "ipython3",
   "version": "3.12.6"
  }
 },
 "nbformat": 4,
 "nbformat_minor": 2
}

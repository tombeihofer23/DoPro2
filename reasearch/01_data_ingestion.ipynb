{
 "cells": [
  {
   "cell_type": "markdown",
   "metadata": {},
   "source": [
    "## Test data ingestion in NB before building the components"
   ]
  },
  {
   "cell_type": "code",
   "execution_count": 1,
   "metadata": {},
   "outputs": [],
   "source": [
    "import os"
   ]
  },
  {
   "cell_type": "code",
   "execution_count": 3,
   "metadata": {},
   "outputs": [],
   "source": [
    "os.chdir(\"../\")"
   ]
  },
  {
   "cell_type": "code",
   "execution_count": 4,
   "metadata": {},
   "outputs": [
    {
     "data": {
      "text/plain": [
       "'c:\\\\Tom\\\\HKA\\\\7_Semester\\\\Domänenprojekt_2\\\\DoPro'"
      ]
     },
     "execution_count": 4,
     "metadata": {},
     "output_type": "execute_result"
    }
   ],
   "source": [
    "%pwd"
   ]
  },
  {
   "cell_type": "markdown",
   "metadata": {},
   "source": [
    "### Data Ingestion Config Class (entity)"
   ]
  },
  {
   "cell_type": "code",
   "execution_count": 5,
   "metadata": {},
   "outputs": [],
   "source": [
    "from dataclasses import dataclass\n",
    "from pathlib import Path\n",
    "\n",
    "\n",
    "@dataclass(frozen=True)\n",
    "class DataIngestionConfig:\n",
    "    \"\"\"Entity-Class for data ingestion config params.\"\"\"\n",
    "\n",
    "    root_dir: Path\n",
    "    \"\"\"Directory into which data will be loaded.\"\"\"\n",
    "\n",
    "    source_url: str\n",
    "    \"\"\"URL where the data is located.\"\"\""
   ]
  },
  {
   "cell_type": "code",
   "execution_count": 6,
   "metadata": {},
   "outputs": [],
   "source": [
    "from src.dopro2_HEFTcom_challenge.constants import PARAMS_FILE_PATH, CONFIG_FILE_PATH\n",
    "import yaml\n",
    "from loguru import logger"
   ]
  },
  {
   "cell_type": "code",
   "execution_count": 7,
   "metadata": {},
   "outputs": [],
   "source": [
    "class ConfigurationManager:\n",
    "    \"\"\"Class to manage all configurations.\"\"\"\n",
    "\n",
    "    def __init__(\n",
    "        self,\n",
    "        config_filepath: Path = CONFIG_FILE_PATH,\n",
    "        params_filepath: Path = PARAMS_FILE_PATH\n",
    "    ) -> None:\n",
    "        \"\"\"\n",
    "        Constructor for ConfigurationManager Class.\n",
    "        Creates artifacts folder.\n",
    "\n",
    "        :param config_filepath: Path to config.yaml file\n",
    "        :param params_filepath: Path to params.yaml file\n",
    "\n",
    "        \"\"\"\n",
    "        with config_filepath.open(\"r\") as f:\n",
    "            self.config: dict = yaml.safe_load(f)\n",
    "\n",
    "        # with params_filepath.open(\"r\") as f:\n",
    "        #     self.params: dict = yaml.safe_load(f)\n",
    "\n",
    "        os.makedirs(self.config[\"artifacts_root\"], exist_ok=True)\n",
    "        logger.info(\"created directory at: {}\", self.config[\"artifacts_root\"])\n",
    "\n",
    "    def get_data_ingestion_config(self) -> DataIngestionConfig:\n",
    "        \"\"\"\n",
    "        Get all config params and create folder in artifacts dir.\n",
    "        \n",
    "        :return: values from config.yaml\n",
    "        :rtype: DataIngestionConfig\n",
    "        \"\"\"\n",
    "        config = self.config[\"data_ingestion\"]\n",
    "\n",
    "        os.makedirs(config[\"root_dir\"], exist_ok=True)\n",
    "        logger.info(\"created directory at: {}\", config[\"root_dir\"])\n",
    "\n",
    "        data_ingestion_config = DataIngestionConfig(\n",
    "            root_dir=config[\"root_dir\"],\n",
    "            source_url=config[\"source_url\"]\n",
    "        )\n",
    "\n",
    "        return data_ingestion_config"
   ]
  },
  {
   "cell_type": "code",
   "execution_count": 8,
   "metadata": {},
   "outputs": [],
   "source": [
    "import gdown"
   ]
  },
  {
   "cell_type": "code",
   "execution_count": 12,
   "metadata": {},
   "outputs": [],
   "source": [
    "class DataIngestion:\n",
    "    \"\"\"Class to performe data ingestion.\"\"\"\n",
    "\n",
    "    def __init__(self, config: DataIngestionConfig) -> None:\n",
    "        \"\"\"\n",
    "        Constructor for DataIngestion class.\n",
    "\n",
    "        :param config: config values from config.yaml\n",
    "        \"\"\"\n",
    "\n",
    "        self.config = config\n",
    "\n",
    "    def download_files(self) -> None:\n",
    "        \"\"\"Fetch data from source url\"\"\"\n",
    "\n",
    "        try:\n",
    "            data_url: str = self.config.source_url\n",
    "            download_dir: str = self.config.root_dir\n",
    "            logger.info(\"Downloading data from {} into folder {}\", data_url, download_dir)\n",
    "\n",
    "            gdown.download_folder(data_url, output=download_dir)\n",
    "            logger.info(\"Downloaded data from {} into folder {}\", data_url, download_dir)\n",
    "        except Exception as e:\n",
    "            raise e    "
   ]
  },
  {
   "cell_type": "code",
   "execution_count": 13,
   "metadata": {},
   "outputs": [
    {
     "name": "stderr",
     "output_type": "stream",
     "text": [
      "\u001b[32m2024-10-07 20:13:43.809\u001b[0m | \u001b[1mINFO    \u001b[0m | \u001b[36m__main__\u001b[0m:\u001b[36m__init__\u001b[0m:\u001b[36m24\u001b[0m - \u001b[1mcreated directory at: artifacts\u001b[0m\n",
      "\u001b[32m2024-10-07 20:13:43.811\u001b[0m | \u001b[1mINFO    \u001b[0m | \u001b[36m__main__\u001b[0m:\u001b[36mget_data_ingestion_config\u001b[0m:\u001b[36m36\u001b[0m - \u001b[1mcreated directory at: artifacts/data_ingestion\u001b[0m\n",
      "\u001b[32m2024-10-07 20:13:43.812\u001b[0m | \u001b[1mINFO    \u001b[0m | \u001b[36m__main__\u001b[0m:\u001b[36mdownload_files\u001b[0m:\u001b[36m19\u001b[0m - \u001b[1mDownloading data from https://drive.google.com/drive/folders/1bNRBY0G1ylOUsJEK5DirXKsBBZkNmmRP?usp=sharing into folder artifacts/data_ingestion\u001b[0m\n",
      "Retrieving folder contents\n"
     ]
    },
    {
     "name": "stdout",
     "output_type": "stream",
     "text": [
      "Processing file 1ZaSlslhGaj0aSWkUMhvSmHhY1y_2qzS4 dwd_icon_eu_hornsea_1_20200920_20231027_ws.parquet\n",
      "Processing file 1V8Ta3H6DcSK0O7o7w6vxJZbGAxK35nD9 dwd_icon_eu_pes10_20200920_20231027_sdr.parquet\n",
      "Processing file 1Y8ryBYnb3CewCUJjUpseyju2xW3WusSU Energy_Data_20200920_20231027.csv\n",
      "Processing file 1cpi-co6y6tL7E_8t98pBXUKRrumjHn_S Energy_Data_20200920_20240118.csv\n",
      "Processing file 1SF1GU4LT2CPdNDiWWyAS5NgscVisKiz5 Energy_Data_20240119_20240519.csv\n"
     ]
    },
    {
     "name": "stderr",
     "output_type": "stream",
     "text": [
      "Retrieving folder contents completed\n",
      "Building directory structure\n",
      "Building directory structure completed\n",
      "Downloading...\n",
      "From: https://drive.google.com/uc?id=1ZaSlslhGaj0aSWkUMhvSmHhY1y_2qzS4\n",
      "To: c:\\Tom\\HKA\\7_Semester\\Domänenprojekt_2\\DoPro\\artifacts\\data_ingestion\\dwd_icon_eu_hornsea_1_20200920_20231027_ws.parquet\n",
      "100%|██████████| 3.18M/3.18M [00:00<00:00, 4.48MB/s]\n",
      "Downloading...\n",
      "From: https://drive.google.com/uc?id=1V8Ta3H6DcSK0O7o7w6vxJZbGAxK35nD9\n",
      "To: c:\\Tom\\HKA\\7_Semester\\Domänenprojekt_2\\DoPro\\artifacts\\data_ingestion\\dwd_icon_eu_pes10_20200920_20231027_sdr.parquet\n",
      "100%|██████████| 3.53M/3.53M [00:00<00:00, 4.38MB/s]\n",
      "Downloading...\n",
      "From: https://drive.google.com/uc?id=1Y8ryBYnb3CewCUJjUpseyju2xW3WusSU\n",
      "To: c:\\Tom\\HKA\\7_Semester\\Domänenprojekt_2\\DoPro\\artifacts\\data_ingestion\\Energy_Data_20200920_20231027.csv\n",
      "100%|██████████| 4.45M/4.45M [00:00<00:00, 4.81MB/s]\n",
      "Downloading...\n",
      "From: https://drive.google.com/uc?id=1cpi-co6y6tL7E_8t98pBXUKRrumjHn_S\n",
      "To: c:\\Tom\\HKA\\7_Semester\\Domänenprojekt_2\\DoPro\\artifacts\\data_ingestion\\Energy_Data_20200920_20240118.csv\n",
      "100%|██████████| 4.77M/4.77M [00:01<00:00, 4.22MB/s]\n",
      "Downloading...\n",
      "From: https://drive.google.com/uc?id=1SF1GU4LT2CPdNDiWWyAS5NgscVisKiz5\n",
      "To: c:\\Tom\\HKA\\7_Semester\\Domänenprojekt_2\\DoPro\\artifacts\\data_ingestion\\Energy_Data_20240119_20240519.csv\n",
      "100%|██████████| 502k/502k [00:00<00:00, 2.70MB/s]\n",
      "Download completed\n",
      "\u001b[32m2024-10-07 20:14:08.333\u001b[0m | \u001b[1mINFO    \u001b[0m | \u001b[36m__main__\u001b[0m:\u001b[36mdownload_files\u001b[0m:\u001b[36m22\u001b[0m - \u001b[1mDownloaded data from https://drive.google.com/drive/folders/1bNRBY0G1ylOUsJEK5DirXKsBBZkNmmRP?usp=sharing into folder artifacts/data_ingestion\u001b[0m\n"
     ]
    }
   ],
   "source": [
    "try:\n",
    "    config = ConfigurationManager()\n",
    "    data_ingestion_config = config.get_data_ingestion_config()\n",
    "    data_ingestion = DataIngestion(config=data_ingestion_config)\n",
    "    data_ingestion.download_files()\n",
    "except Exception as e:\n",
    "    raise e"
   ]
  },
  {
   "cell_type": "code",
   "execution_count": null,
   "metadata": {},
   "outputs": [],
   "source": []
  }
 ],
 "metadata": {
  "kernelspec": {
   "display_name": ".env",
   "language": "python",
   "name": "python3"
  },
  "language_info": {
   "codemirror_mode": {
    "name": "ipython",
    "version": 3
   },
   "file_extension": ".py",
   "mimetype": "text/x-python",
   "name": "python",
   "nbconvert_exporter": "python",
   "pygments_lexer": "ipython3",
   "version": "3.12.6"
  }
 },
 "nbformat": 4,
 "nbformat_minor": 2
}

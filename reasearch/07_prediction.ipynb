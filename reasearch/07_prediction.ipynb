{
 "cells": [
  {
   "cell_type": "code",
   "execution_count": 1,
   "metadata": {},
   "outputs": [],
   "source": [
    "import os"
   ]
  },
  {
   "cell_type": "code",
   "execution_count": 2,
   "metadata": {},
   "outputs": [
    {
     "data": {
      "text/plain": [
       "'c:\\\\Tom\\\\HKA\\\\7_Semester\\\\Domänenprojekt_2\\\\DoPro'"
      ]
     },
     "execution_count": 2,
     "metadata": {},
     "output_type": "execute_result"
    }
   ],
   "source": [
    "%pwd"
   ]
  },
  {
   "cell_type": "markdown",
   "metadata": {},
   "source": [
    "## Test predictions"
   ]
  },
  {
   "cell_type": "markdown",
   "metadata": {},
   "source": [
    "### Predicition config entity"
   ]
  },
  {
   "cell_type": "code",
   "execution_count": 3,
   "metadata": {},
   "outputs": [],
   "source": [
    "from dataclasses import dataclass\n",
    "from pathlib import Path\n",
    "\n",
    "@dataclass(frozen=True)\n",
    "class PredictionConfig:\n",
    "    \"\"\"Entity-Class for prediction config params.\"\"\"\n",
    "\n",
    "    wind_model_dir: Path\n",
    "    \"\"\"Directory where the wind model is stored.\"\"\"\n",
    "\n",
    "    solar_model_dir: Path\n",
    "    \"\"\"Directory where the solar model is stored.\"\"\"\n",
    "\n",
    "    components_dir: Path\n",
    "    \"\"\"Directory where preprocessing components are stored.\"\"\""
   ]
  },
  {
   "cell_type": "code",
   "execution_count": 4,
   "metadata": {},
   "outputs": [],
   "source": [
    "from src.dopro2_HEFTcom_challenge.constants import PARAMS_FILE_PATH, CONFIG_FILE_PATH\n",
    "import yaml\n",
    "from loguru import logger"
   ]
  },
  {
   "cell_type": "code",
   "execution_count": 5,
   "metadata": {},
   "outputs": [],
   "source": [
    "class ConfigurationManager:\n",
    "    \"\"\"Class to manage all configurations.\"\"\"\n",
    "\n",
    "    def __init__(\n",
    "        self,\n",
    "        config_filepath: Path = CONFIG_FILE_PATH,\n",
    "        params_filepath: Path = PARAMS_FILE_PATH\n",
    "    ) -> None:\n",
    "        \"\"\"\n",
    "        Constructor for ConfigurationManager Class.\n",
    "        Creates artifacts folder.\n",
    "\n",
    "        :param config_filepath: Path to config.yaml file\n",
    "        :param params_filepath: Path to params.yaml file\n",
    "\n",
    "        \"\"\"\n",
    "        with config_filepath.open(\"r\", encoding=\"utf-8\") as f:\n",
    "            self.config: dict = yaml.safe_load(f)\n",
    "\n",
    "        with params_filepath.open(\"r\", encoding=\"utf-8\") as f:\n",
    "            self.params: dict = yaml.safe_load(f)\n",
    "\n",
    "        os.makedirs(self.config[\"artifacts_root\"], exist_ok=True)\n",
    "        logger.info(\"created directory at: {}\", self.config[\"artifacts_root\"])\n",
    "\n",
    "    def get_prediction_config(self) -> PredictionConfig:\n",
    "        \"\"\"\n",
    "        Get all config params.\n",
    "\n",
    "        :return: values from config.yaml\n",
    "        :rtype: PredictionConfig\n",
    "        \"\"\"\n",
    "\n",
    "        config = self.config[\"prediction\"]\n",
    "\n",
    "        prediction_config = PredictionConfig(\n",
    "            wind_model_dir=config[\"wind_model_dir\"],\n",
    "            solar_model_dir=config[\"solar_model_dir\"],\n",
    "            components_dir=config[\"components_dir\"]\n",
    "        )\n",
    "\n",
    "        return prediction_config"
   ]
  },
  {
   "cell_type": "markdown",
   "metadata": {},
   "source": [
    "### create prediction component"
   ]
  },
  {
   "cell_type": "code",
   "execution_count": 6,
   "metadata": {},
   "outputs": [],
   "source": [
    "from xgboost import XGBRegressor\n",
    "import pandas as pd\n",
    "import numpy as np\n",
    "import joblib\n",
    "from dopro2_HEFTcom_challenge.utils import prep_submission_in_json_format, get_season, categorize_wind_dir\n",
    "from dopro2_HEFTcom_challenge.entity import RebaseAPI"
   ]
  },
  {
   "cell_type": "code",
   "execution_count": 7,
   "metadata": {},
   "outputs": [],
   "source": [
    "class Prediction:\n",
    "    \"\"\"Class to predict on new data from the Rebase API.\"\"\"\n",
    "\n",
    "    def __init__(self, config: PredictionConfig) -> None:\n",
    "        \"\"\"\n",
    "        Constructor for Prediction class.\n",
    "\n",
    "        :param config: config values from config.yaml\n",
    "        \"\"\"\n",
    "\n",
    "        self.config = config\n",
    "        self.api = RebaseAPI()\n",
    "\n",
    "    @staticmethod\n",
    "    def load_models(\n",
    "        wind_path, \n",
    "        solar_path\n",
    "    ) -> tuple[XGBRegressor, XGBRegressor]:\n",
    "        logger.info(\"Load solar and wind model\")\n",
    "\n",
    "        wind_model_path = list(Path(wind_path)\n",
    "                                .glob(\"*.json\"))[0]\n",
    "        wind_model = XGBRegressor()\n",
    "        wind_model.load_model(wind_model_path)\n",
    "\n",
    "        solar_model_path = list(Path(solar_path)\n",
    "                                .glob(\"*.json\"))[0]\n",
    "        solar_model = XGBRegressor()\n",
    "        solar_model.load_model(solar_model_path)\n",
    "        return wind_model, solar_model\n",
    "    \n",
    "    def prepare_data(self) -> tuple[np.ndarray, np.ndarray, pd.DataFrame]:\n",
    "\n",
    "        logger.info(\"Prepare data for the prediction\")\n",
    "\n",
    "        latest_data = self.api.get_latest_forecast_data()\n",
    "\n",
    "        prediction_data = latest_data.assign(\n",
    "            season=latest_data[\"valid_time\"].dt.month.apply(get_season),\n",
    "            wind_dir_cat=latest_data[\"WindDirection:100\"].apply(categorize_wind_dir),\n",
    "            month=latest_data[\"valid_time\"].dt.month,\n",
    "            day=latest_data[\"valid_time\"].dt.day,\n",
    "            hour=latest_data[\"valid_time\"].dt.hour\n",
    "        )\n",
    "\n",
    "        season_categories = prediction_data[[\"season\"]]\n",
    "        season_encoder_path = Path(self.config.components_dir) / \"season_encoder\"\n",
    "        season_encoder = joblib.load(season_encoder_path)\n",
    "        season_encoded = season_encoder.transform(season_categories)\n",
    "        season_encoded_df = pd.DataFrame(\n",
    "            season_encoded.toarray(),\n",
    "            columns=season_encoder.get_feature_names_out()\n",
    "        )\n",
    "\n",
    "        windDir_categories = prediction_data[[\"wind_dir_cat\"]]\n",
    "        windDir_encoder_path = Path(self.config.components_dir) / \"windDir_encoder\"\n",
    "        windDir_encoder = joblib.load(windDir_encoder_path)\n",
    "        windDir_encoded = windDir_encoder.transform(windDir_categories)\n",
    "        windDir_encoded_df = pd.DataFrame(\n",
    "            windDir_encoded.toarray(),\n",
    "            columns=windDir_encoder.get_feature_names_out()\n",
    "        )\n",
    "\n",
    "        prediction_data = pd.concat([prediction_data, season_encoded_df, windDir_encoded_df],\n",
    "                                    axis=1)\n",
    "        \n",
    "        windspeed_pca = prediction_data[[\"WindSpeed\", \"WindSpeed:100\"]]\n",
    "        scale_pca_pipe_path = Path(self.config.components_dir) / \"scale_pca_pipe_windspeed\"\n",
    "        scale_pca_pipe = joblib.load(scale_pca_pipe_path)\n",
    "        windspeed_pca = scale_pca_pipe.transform(windspeed_pca)\n",
    "\n",
    "        prediction_data[\"WindSpeedPCA\"] = windspeed_pca\n",
    "\n",
    "        wind_features = [\"WindSpeedPCA\", \"hours_after\", \"season_autumn\", \"season_spring\", \n",
    "                         \"season_summer\", \"season_winter\", \"wind_dir_cat_E\", \"wind_dir_cat_N\", \n",
    "                         \"wind_dir_cat_NE\", \"wind_dir_cat_NW\", \"wind_dir_cat_S\", \n",
    "                         \"wind_dir_cat_SE\", \"wind_dir_cat_SW\", \"wind_dir_cat_W\"]\n",
    "        solar_features = [\"temp_solar\", \"CloudCover\", \"SolarDownwardRadiation\", \n",
    "                          \"RelativeHumidity\", \"hours_after\", \"month\", \"day\", \"hour\"]\n",
    "        \n",
    "        wind_data = prediction_data[wind_features].to_numpy()\n",
    "        solar_data = prediction_data[solar_features].to_numpy()\n",
    "        time_df = prediction_data[[\"valid_time\"]]\n",
    "        \n",
    "        return wind_data, solar_data, time_df\n",
    "\n",
    "    def predict(\n",
    "            self,\n",
    "            wind_data: np.ndarray,\n",
    "            solar_data: np.ndarray,\n",
    "            time_df: pd.DataFrame\n",
    "    ) -> None:\n",
    "        \"\"\"Load model and latest forecasts to make the prediction.\"\"\"\n",
    "\n",
    "        wind_model, solar_model = self.load_models(self.config.wind_model_dir,\n",
    "                                                   self.config.solar_model_dir)\n",
    "        \n",
    "        wind_predictions = wind_model.predict(wind_data)\n",
    "        solar_predictions = solar_model.predict(solar_data)\n",
    "        predictions_all = wind_predictions + solar_predictions\n",
    "        predictions_all.sort(axis=1)\n",
    "\n",
    "        quantil_cols = [\"q10\", \"q20\", \"q30\", \"q40\", \"q50\",\n",
    "                        \"q60\", \"q70\", \"q80\", \"q90\"]\n",
    "        prediction_df = pd.DataFrame(predictions_all, columns=quantil_cols)\n",
    "\n",
    "        submission_data = time_df.join(prediction_df)\n",
    "        submission_data[\"market_bid\"] = submission_data[\"q50\"]\n",
    "\n",
    "        submission_data_json = prep_submission_in_json_format(submission_data)\n",
    "        print(submission_data_json)\n",
    "\n",
    "        # self.api.submit(submission_data_json)\n",
    "        \n"
   ]
  },
  {
   "cell_type": "code",
   "execution_count": 8,
   "metadata": {},
   "outputs": [
    {
     "name": "stderr",
     "output_type": "stream",
     "text": [
      "\u001b[32m2024-10-25 00:20:16.479\u001b[0m | \u001b[1mINFO    \u001b[0m | \u001b[36m__main__\u001b[0m:\u001b[36m__init__\u001b[0m:\u001b[36m24\u001b[0m - \u001b[1mcreated directory at: artifacts\u001b[0m\n",
      "\u001b[32m2024-10-25 00:20:16.490\u001b[0m | \u001b[1mINFO    \u001b[0m | \u001b[36m__main__\u001b[0m:\u001b[36mprepare_data\u001b[0m:\u001b[36m34\u001b[0m - \u001b[1mPrepare data for the prediction\u001b[0m\n",
      "\u001b[32m2024-10-25 00:20:16.492\u001b[0m | \u001b[34m\u001b[1mDEBUG   \u001b[0m | \u001b[36mdopro2_HEFTcom_challenge.entity.rebase_api\u001b[0m:\u001b[36mquery_weather_latest\u001b[0m:\u001b[36m142\u001b[0m - \u001b[34m\u001b[1mPOST from https://api.rebase.energy/weather/v2/query, model=DWD_ICON-EU, lat=[53.77, 53.84, 53.9, 53.97, 54.03, 54.1], long=[1.702, 1.767, 1.832, 1.897, 1.962, 2.027], variables=WindSpeed, WindSpeed:100, WindDirection, WindDirection:100, Temperature, RelativeHumidity, type=grid\u001b[0m\n",
      "\u001b[32m2024-10-25 00:20:17.618\u001b[0m | \u001b[34m\u001b[1mDEBUG   \u001b[0m | \u001b[36mdopro2_HEFTcom_challenge.entity.rebase_api\u001b[0m:\u001b[36mquery_weather_latest\u001b[0m:\u001b[36m148\u001b[0m - \u001b[34m\u001b[1mstatuscode=200\u001b[0m\n",
      "\u001b[32m2024-10-25 00:20:18.002\u001b[0m | \u001b[34m\u001b[1mDEBUG   \u001b[0m | \u001b[36mdopro2_HEFTcom_challenge.entity.rebase_api\u001b[0m:\u001b[36mquery_weather_latest\u001b[0m:\u001b[36m142\u001b[0m - \u001b[34m\u001b[1mPOST from https://api.rebase.energy/weather/v2/query, model=DWD_ICON-EU, lat=[52.4872562, 52.8776682, 52.1354277, 52.4880497, 51.9563696, 52.2499177, 52.6416477, 52.2700912, 52.1960768, 52.7082618, 52.4043468, 52.0679429, 52.024023, 52.7681276, 51.8750506, 52.5582373, 52.4478922, 52.5214863, 52.8776682, 52.0780721], long=[0.4012455, 0.7906532, -0.2640343, -0.1267052, 0.6588173, 1.3894081, 1.3509559, 0.7082557, 0.1534462, 0.7302284, 1.0762977, 1.1751747, 0.2962684, 0.1699257, 0.9115028, 0.7137489, 0.1204872, 1.5706825, 1.1916542, -0.0113488], variables=SolarDownwardRadiation, CloudCover, Temperature, type=points\u001b[0m\n",
      "\u001b[32m2024-10-25 00:20:18.921\u001b[0m | \u001b[34m\u001b[1mDEBUG   \u001b[0m | \u001b[36mdopro2_HEFTcom_challenge.entity.rebase_api\u001b[0m:\u001b[36mquery_weather_latest\u001b[0m:\u001b[36m148\u001b[0m - \u001b[34m\u001b[1mstatuscode=200\u001b[0m\n",
      "c:\\Tom\\HKA\\7_Semester\\Domänenprojekt_2\\DoPro\\.env\\Lib\\site-packages\\sklearn\\base.py:486: UserWarning: X has feature names, but StandardScaler was fitted without feature names\n",
      "  warnings.warn(\n",
      "\u001b[32m2024-10-25 00:20:19.333\u001b[0m | \u001b[1mINFO    \u001b[0m | \u001b[36m__main__\u001b[0m:\u001b[36mload_models\u001b[0m:\u001b[36m19\u001b[0m - \u001b[1mLoad solar and wind model\u001b[0m\n"
     ]
    },
    {
     "name": "stdout",
     "output_type": "stream",
     "text": [
      "{'market_day': '2024-10-26', 'submission': [{'timestamp': '2024-10-25T22:00:00+00:00', 'market_bid': 92.39033508300781, 'probabilistic_forecast': {10: 22.474990844726562, 20: 46.40397262573242, 30: 63.56928253173828, 40: 81.61800384521484, 50: 92.39033508300781, 60: 111.19820404052734, 70: 137.33860778808594, 80: 170.01596069335938, 90: 228.94200134277344}}, {'timestamp': '2024-10-25T22:30:00+00:00', 'market_bid': 95.40059661865234, 'probabilistic_forecast': {10: 24.31940460205078, 20: 46.209896087646484, 30: 66.27447509765625, 40: 84.19629669189453, 50: 95.40059661865234, 60: 115.49651336669922, 70: 141.55950927734375, 80: 173.27207946777344, 90: 228.14830017089844}}, {'timestamp': '2024-10-25T23:00:00+00:00', 'market_bid': 98.6006851196289, 'probabilistic_forecast': {10: 24.773834228515625, 20: 47.714576721191406, 30: 65.04557800292969, 40: 83.4084243774414, 50: 98.6006851196289, 60: 118.00802612304688, 70: 147.7049102783203, 80: 185.79974365234375, 90: 232.1263427734375}}, {'timestamp': '2024-10-25T23:30:00+00:00', 'market_bid': 95.38399505615234, 'probabilistic_forecast': {10: 24.041595458984375, 20: 45.48517608642578, 30: 65.9692153930664, 40: 84.14518737792969, 50: 95.38399505615234, 60: 115.49375915527344, 70: 142.6453399658203, 80: 175.68386840820312, 90: 232.17884826660156}}, {'timestamp': '2024-10-26T00:00:00+00:00', 'market_bid': 95.37615966796875, 'probabilistic_forecast': {10: 24.319652557373047, 20: 45.89193344116211, 30: 66.28207397460938, 40: 84.12384033203125, 50: 95.37615966796875, 60: 115.50404357910156, 70: 142.7496337890625, 80: 176.9356231689453, 90: 237.33001708984375}}, {'timestamp': '2024-10-26T00:30:00+00:00', 'market_bid': 81.83820343017578, 'probabilistic_forecast': {10: 18.91241455078125, 20: 37.608192443847656, 30: 55.039085388183594, 40: 69.51905059814453, 50: 81.83820343017578, 60: 104.18754577636719, 70: 129.58265686035156, 80: 158.59588623046875, 90: 225.41038513183594}}, {'timestamp': '2024-10-26T01:00:00+00:00', 'market_bid': 69.68209075927734, 'probabilistic_forecast': {10: 10.418923377990723, 20: 28.977943420410156, 30: 44.188446044921875, 40: 57.08390808105469, 50: 69.68209075927734, 60: 87.63505554199219, 70: 109.11366271972656, 80: 146.27093505859375, 90: 209.24945068359375}}, {'timestamp': '2024-10-26T01:30:00+00:00', 'market_bid': 75.43230438232422, 'probabilistic_forecast': {10: 13.127522468566895, 20: 35.057777404785156, 30: 50.35942459106445, 40: 64.31321716308594, 50: 75.43230438232422, 60: 94.65277099609375, 70: 115.52375030517578, 80: 148.7020721435547, 90: 217.04324340820312}}, {'timestamp': '2024-10-26T02:00:00+00:00', 'market_bid': 79.10706329345703, 'probabilistic_forecast': {10: 18.050708770751953, 20: 37.608192443847656, 30: 52.340877532958984, 40: 69.85795593261719, 50: 79.10706329345703, 60: 104.74656677246094, 70: 130.315673828125, 80: 159.05642700195312, 90: 232.21913146972656}}, {'timestamp': '2024-10-26T02:30:00+00:00', 'market_bid': 66.5355453491211, 'probabilistic_forecast': {10: 8.71929931640625, 20: 25.601970672607422, 30: 41.64168930053711, 40: 55.802001953125, 50: 66.5355453491211, 60: 82.65467071533203, 70: 108.58174896240234, 80: 143.11634826660156, 90: 209.18421936035156}}, {'timestamp': '2024-10-26T03:00:00+00:00', 'market_bid': 48.193603515625, 'probabilistic_forecast': {10: 3.7785592079162598, 20: 14.618172645568848, 30: 24.510738372802734, 40: 37.465850830078125, 50: 48.193603515625, 60: 62.198158264160156, 70: 79.31148529052734, 80: 112.95834350585938, 90: 184.70443725585938}}, {'timestamp': '2024-10-26T03:30:00+00:00', 'market_bid': 44.617401123046875, 'probabilistic_forecast': {10: 0.5134381055831909, 20: 11.188992500305176, 30: 18.951454162597656, 40: 29.737171173095703, 50: 44.617401123046875, 60: 55.87442398071289, 70: 71.48900604248047, 80: 106.61814880371094, 90: 171.03536987304688}}, {'timestamp': '2024-10-26T04:00:00+00:00', 'market_bid': 37.428035736083984, 'probabilistic_forecast': {10: -0.3153107166290283, 20: 7.185293197631836, 30: 15.97010326385498, 40: 25.0198917388916, 50: 37.428035736083984, 60: 49.7607536315918, 70: 66.47725677490234, 80: 99.10202026367188, 90: 153.19337463378906}}, {'timestamp': '2024-10-26T04:30:00+00:00', 'market_bid': 22.095855712890625, 'probabilistic_forecast': {10: 1.8299425840377808, 20: 5.749068260192871, 30: 6.811560153961182, 40: 12.612781524658203, 50: 22.095855712890625, 60: 32.221275329589844, 70: 43.023094177246094, 80: 64.5819320678711, 90: 91.23546600341797}}, {'timestamp': '2024-10-26T05:00:00+00:00', 'market_bid': 18.171566009521484, 'probabilistic_forecast': {10: 1.718870705491593e-12, 20: 1.5597822666168213, 30: 4.733993053436279, 40: 8.931903839111328, 50: 18.171566009521484, 60: 30.192108154296875, 70: 38.66373062133789, 80: 58.100372314453125, 90: 82.35514068603516}}, {'timestamp': '2024-10-26T05:30:00+00:00', 'market_bid': 22.033586502075195, 'probabilistic_forecast': {10: 1.3948239088058472, 20: 6.634671211242676, 30: 7.100858211517334, 40: 12.405844688415527, 50: 22.033586502075195, 60: 33.56525802612305, 70: 43.4706916809082, 80: 63.7147331237793, 90: 99.44922637939453}}, {'timestamp': '2024-10-26T06:00:00+00:00', 'market_bid': 22.156465530395508, 'probabilistic_forecast': {10: 1.3139835596084595, 20: 6.832217216491699, 30: 6.903303623199463, 40: 11.87525749206543, 50: 22.156465530395508, 60: 33.78624725341797, 70: 43.223228454589844, 80: 64.73761749267578, 90: 99.4739990234375}}, {'timestamp': '2024-10-26T06:30:00+00:00', 'market_bid': 23.034465789794922, 'probabilistic_forecast': {10: -3.3675713539123535, 20: 4.7279815673828125, 30: 6.52341365814209, 40: 11.186345100402832, 50: 23.034465789794922, 60: 34.38262939453125, 70: 42.81687545776367, 80: 62.42580032348633, 90: 99.30770111083984}}, {'timestamp': '2024-10-26T07:00:00+00:00', 'market_bid': 24.501087188720703, 'probabilistic_forecast': {10: -1.523240327835083, 20: 4.054627418518066, 30: 4.8089094161987305, 40: 11.377739906311035, 50: 24.501087188720703, 60: 39.266204833984375, 70: 50.012237548828125, 80: 66.42674255371094, 90: 115.11542510986328}}, {'timestamp': '2024-10-26T07:30:00+00:00', 'market_bid': 43.43367004394531, 'probabilistic_forecast': {10: 9.868316650390625, 20: 10.566649436950684, 30: 16.832332611083984, 40: 25.69618034362793, 50: 43.43367004394531, 60: 60.56849670410156, 70: 68.84061431884766, 80: 91.59117126464844, 90: 147.6924591064453}}, {'timestamp': '2024-10-26T08:00:00+00:00', 'market_bid': 68.50390625, 'probabilistic_forecast': {10: 15.478056907653809, 20: 31.63331413269043, 30: 42.53504180908203, 40: 50.9633903503418, 50: 68.50390625, 60: 82.83253479003906, 70: 103.1956787109375, 80: 146.02281188964844, 90: 214.12142944335938}}, {'timestamp': '2024-10-26T08:30:00+00:00', 'market_bid': 90.59333038330078, 'probabilistic_forecast': {10: 40.1522216796875, 20: 46.724891662597656, 30: 61.193145751953125, 40: 73.59099578857422, 50: 90.59333038330078, 60: 114.19308471679688, 70: 131.5352783203125, 80: 179.51400756835938, 90: 255.5292205810547}}, {'timestamp': '2024-10-26T09:00:00+00:00', 'market_bid': 145.21304321289062, 'probabilistic_forecast': {10: 66.61236572265625, 20: 85.94589233398438, 30: 99.96070861816406, 40: 124.21434020996094, 50: 145.21304321289062, 60: 175.0217742919922, 70: 204.71539306640625, 80: 257.143310546875, 90: 346.9143371582031}}, {'timestamp': '2024-10-26T09:30:00+00:00', 'market_bid': 147.12490844726562, 'probabilistic_forecast': {10: 68.4881820678711, 20: 84.7730941772461, 30: 101.53846740722656, 40: 121.5989990234375, 50: 147.12490844726562, 60: 172.4513397216797, 70: 204.378662109375, 80: 259.23748779296875, 90: 328.2649230957031}}, {'timestamp': '2024-10-26T10:00:00+00:00', 'market_bid': 169.95445251464844, 'probabilistic_forecast': {10: 79.78572845458984, 20: 102.90177154541016, 30: 125.19866180419922, 40: 142.88226318359375, 50: 169.95445251464844, 60: 205.48660278320312, 70: 240.9713897705078, 80: 295.99163818359375, 90: 372.200927734375}}, {'timestamp': '2024-10-26T10:30:00+00:00', 'market_bid': 160.8832244873047, 'probabilistic_forecast': {10: 76.14219665527344, 20: 100.70474243164062, 30: 118.91679382324219, 40: 136.46963500976562, 50: 160.8832244873047, 60: 189.9981689453125, 70: 225.3080596923828, 80: 274.310302734375, 90: 353.7589416503906}}, {'timestamp': '2024-10-26T11:00:00+00:00', 'market_bid': 151.4662628173828, 'probabilistic_forecast': {10: 75.28679656982422, 20: 95.89500427246094, 30: 113.70059204101562, 40: 131.80723571777344, 50: 151.4662628173828, 60: 179.46376037597656, 70: 208.42181396484375, 80: 254.0284881591797, 90: 342.9827575683594}}, {'timestamp': '2024-10-26T11:30:00+00:00', 'market_bid': 154.2790069580078, 'probabilistic_forecast': {10: 75.40892791748047, 20: 93.80496215820312, 30: 114.12649536132812, 40: 133.08042907714844, 50: 154.2790069580078, 60: 183.677734375, 70: 215.44728088378906, 80: 266.26068115234375, 90: 354.6055603027344}}, {'timestamp': '2024-10-26T12:00:00+00:00', 'market_bid': 155.72024536132812, 'probabilistic_forecast': {10: 71.72451782226562, 20: 91.50477600097656, 30: 110.61680603027344, 40: 131.2905731201172, 50: 155.72024536132812, 60: 183.90625, 70: 212.00144958496094, 80: 266.5007019042969, 90: 352.9419250488281}}, {'timestamp': '2024-10-26T12:30:00+00:00', 'market_bid': 130.0552215576172, 'probabilistic_forecast': {10: 60.28495407104492, 20: 77.50397491455078, 30: 91.58557891845703, 40: 110.88565826416016, 50: 130.0552215576172, 60: 158.4695587158203, 70: 182.01451110839844, 80: 231.50888061523438, 90: 311.95440673828125}}, {'timestamp': '2024-10-26T13:00:00+00:00', 'market_bid': 112.73130798339844, 'probabilistic_forecast': {10: 52.515899658203125, 20: 70.30587005615234, 30: 76.38089752197266, 40: 95.16645050048828, 50: 112.73130798339844, 60: 135.27630615234375, 70: 152.7157745361328, 80: 192.10000610351562, 90: 268.6722412109375}}, {'timestamp': '2024-10-26T13:30:00+00:00', 'market_bid': 101.04609680175781, 'probabilistic_forecast': {10: 47.93546676635742, 20: 60.08888626098633, 30: 71.47618865966797, 40: 82.70028686523438, 50: 101.04609680175781, 60: 124.27050018310547, 70: 143.49130249023438, 80: 182.71151733398438, 90: 260.48516845703125}}, {'timestamp': '2024-10-26T14:00:00+00:00', 'market_bid': 83.83961486816406, 'probabilistic_forecast': {10: 40.152896881103516, 20: 50.56580352783203, 30: 58.22948455810547, 40: 66.38310241699219, 50: 83.83961486816406, 60: 102.0367660522461, 70: 121.22106170654297, 80: 160.210205078125, 90: 232.06210327148438}}, {'timestamp': '2024-10-26T14:30:00+00:00', 'market_bid': 76.08636474609375, 'probabilistic_forecast': {10: 37.009742736816406, 20: 46.61122512817383, 30: 52.90473937988281, 40: 60.55225372314453, 50: 76.08636474609375, 60: 94.22129821777344, 70: 111.35326385498047, 80: 148.47116088867188, 90: 212.08460998535156}}, {'timestamp': '2024-10-26T15:00:00+00:00', 'market_bid': 51.449806213378906, 'probabilistic_forecast': {10: 27.172529220581055, 20: 32.810325622558594, 30: 34.72616195678711, 40: 39.7662239074707, 50: 51.449806213378906, 60: 66.68633270263672, 70: 79.73798370361328, 80: 104.85368347167969, 90: 169.63125610351562}}, {'timestamp': '2024-10-26T15:30:00+00:00', 'market_bid': 39.347145080566406, 'probabilistic_forecast': {10: 12.135499000549316, 20: 20.610729217529297, 30: 20.764698028564453, 40: 23.877182006835938, 50: 39.347145080566406, 60: 48.67155456542969, 70: 62.652687072753906, 80: 77.75298309326172, 90: 164.50238037109375}}, {'timestamp': '2024-10-26T16:00:00+00:00', 'market_bid': 34.55746841430664, 'probabilistic_forecast': {10: 0.7375068664550781, 20: 2.4578990936279297, 30: 10.221968650817871, 40: 21.09537124633789, 50: 34.55746841430664, 60: 44.326072692871094, 70: 63.83742141723633, 80: 84.82942962646484, 90: 133.31332397460938}}, {'timestamp': '2024-10-26T16:30:00+00:00', 'market_bid': 37.76188278198242, 'probabilistic_forecast': {10: -1.010339379310608, 20: 2.151252031326294, 30: 11.875106811523438, 40: 20.64651107788086, 50: 37.76188278198242, 60: 49.15939712524414, 70: 68.22550201416016, 80: 98.63652038574219, 90: 145.42886352539062}}, {'timestamp': '2024-10-26T17:00:00+00:00', 'market_bid': 45.125118255615234, 'probabilistic_forecast': {10: -0.9155721664428711, 20: 10.588521003723145, 30: 19.102581024169922, 40: 30.433828353881836, 50: 45.125118255615234, 60: 60.40870666503906, 70: 83.63185119628906, 80: 115.64315032958984, 90: 196.45191955566406}}, {'timestamp': '2024-10-26T17:30:00+00:00', 'market_bid': 51.1429328918457, 'probabilistic_forecast': {10: 9.608844757080078, 20: 14.42563247680664, 30: 25.93431282043457, 40: 36.08122634887695, 50: 51.1429328918457, 60: 66.22753143310547, 70: 92.17642974853516, 80: 134.1825714111328, 90: 201.14889526367188}}, {'timestamp': '2024-10-26T18:00:00+00:00', 'market_bid': 80.8863754272461, 'probabilistic_forecast': {10: 15.163734436035156, 20: 30.510406494140625, 30: 47.75782775878906, 40: 61.86468505859375, 50: 80.8863754272461, 60: 100.117919921875, 70: 135.34124755859375, 80: 179.04087829589844, 90: 243.99435424804688}}, {'timestamp': '2024-10-26T18:30:00+00:00', 'market_bid': 99.96709442138672, 'probabilistic_forecast': {10: 22.71910285949707, 20: 37.263397216796875, 30: 59.95414352416992, 40: 78.18775177001953, 50: 99.96709442138672, 60: 123.83019256591797, 70: 160.38307189941406, 80: 206.75392150878906, 90: 270.2004089355469}}, {'timestamp': '2024-10-26T19:00:00+00:00', 'market_bid': 126.77777862548828, 'probabilistic_forecast': {10: 30.962345123291016, 20: 53.898441314697266, 30: 79.1966552734375, 40: 100.91372680664062, 50: 126.77777862548828, 60: 146.7823486328125, 70: 188.33995056152344, 80: 228.92149353027344, 90: 299.1959228515625}}, {'timestamp': '2024-10-26T19:30:00+00:00', 'market_bid': 155.46951293945312, 'probabilistic_forecast': {10: 45.16458511352539, 20: 79.36083984375, 30: 107.63219451904297, 40: 130.40586853027344, 50: 155.46951293945312, 60: 175.18194580078125, 70: 220.83685302734375, 80: 271.2314453125, 90: 352.7742004394531}}, {'timestamp': '2024-10-26T20:00:00+00:00', 'market_bid': 201.28497314453125, 'probabilistic_forecast': {10: 67.63610076904297, 20: 108.99378204345703, 30: 146.5730743408203, 40: 178.35333251953125, 50: 201.28497314453125, 60: 232.577392578125, 70: 261.4722900390625, 80: 325.174560546875, 90: 415.48028564453125}}, {'timestamp': '2024-10-26T20:30:00+00:00', 'market_bid': 206.272216796875, 'probabilistic_forecast': {10: 67.61549377441406, 20: 109.18879699707031, 30: 146.58714294433594, 40: 178.43289184570312, 50: 206.272216796875, 60: 234.2061004638672, 70: 263.6285095214844, 80: 325.1341552734375, 90: 416.2514953613281}}, {'timestamp': '2024-10-26T21:00:00+00:00', 'market_bid': 205.72470092773438, 'probabilistic_forecast': {10: 67.73551940917969, 20: 109.5750961303711, 30: 145.6609649658203, 40: 178.51246643066406, 50: 205.72470092773438, 60: 234.80072021484375, 70: 265.2416076660156, 80: 323.9222717285156, 90: 417.6410217285156}}, {'timestamp': '2024-10-26T21:30:00+00:00', 'market_bid': 196.04954528808594, 'probabilistic_forecast': {10: 62.062564849853516, 20: 104.6148681640625, 30: 139.11090087890625, 40: 169.25732421875, 50: 196.04954528808594, 60: 224.6785888671875, 70: 260.5993347167969, 80: 314.12408447265625, 90: 408.42218017578125}}]}\n"
     ]
    }
   ],
   "source": [
    "try:\n",
    "    config = ConfigurationManager()\n",
    "    prediction_config = config.get_prediction_config()\n",
    "    prediction = Prediction(config=prediction_config)\n",
    "    wind_data, solar_data, time_df = prediction.prepare_data()\n",
    "    prediction.predict(wind_data, solar_data, time_df)\n",
    "except Exception as e:\n",
    "    raise e"
   ]
  }
 ],
 "metadata": {
  "kernelspec": {
   "display_name": ".env",
   "language": "python",
   "name": "python3"
  },
  "language_info": {
   "codemirror_mode": {
    "name": "ipython",
    "version": 3
   },
   "file_extension": ".py",
   "mimetype": "text/x-python",
   "name": "python",
   "nbconvert_exporter": "python",
   "pygments_lexer": "ipython3",
   "version": "3.12.6"
  }
 },
 "nbformat": 4,
 "nbformat_minor": 2
}

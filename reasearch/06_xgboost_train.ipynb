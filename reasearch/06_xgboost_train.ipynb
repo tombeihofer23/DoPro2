{
 "cells": [
  {
   "cell_type": "code",
   "execution_count": 1,
   "metadata": {},
   "outputs": [],
   "source": [
    "import numpy as np\n",
    "import pandas as pd\n",
    "import xarray as xr\n",
    "import plotly.express as px"
   ]
  },
  {
   "cell_type": "code",
   "execution_count": 2,
   "metadata": {},
   "outputs": [],
   "source": [
    "def pre_csv(df):\n",
    "    df.dtm = pd.to_datetime(df.dtm)\n",
    "    return df\n",
    "\n",
    "def pre_dwd(df):\n",
    "    df = df.to_dataframe().reset_index().rename(columns={\"ref_datetime\":\"reference_time\", \"valid_datetime\":\"valid_time\"})\n",
    "    df.reference_time = df.reference_time.dt.tz_localize(\"UTC\")\n",
    "    df.valid_time = df.reference_time + df.valid_time * pd.Timedelta(1, \"h\")\n",
    "    return df\n",
    "\n",
    "def pre_ncep(df):\n",
    "    return df\n",
    "\n",
    "def pinball_score(y, q, alpha):\n",
    "    return (y-q)*alpha*(y>=q) + (q-y)*(1-alpha)*(y<q)"
   ]
  },
  {
   "cell_type": "markdown",
   "metadata": {},
   "source": [
    "Daten einlesen"
   ]
  },
  {
   "cell_type": "code",
   "execution_count": 3,
   "metadata": {},
   "outputs": [],
   "source": [
    "df_pes_0 = pre_dwd(xr.open_dataset(\"data/dwd_icon_eu_pes10_20200920_20231027.nc\"))\n",
    "df_pes_1 = pre_dwd(xr.open_dataset(\"data/dwd_icon_eu_pes10_20231027_20240108.nc\"))\n",
    "df_pes_2 = pre_dwd(xr.open_dataset(\"data/dwd_icon_eu_pes10_20240108_20240129.nc\"))\n",
    "df_pes_3 = pre_dwd(xr.open_dataset(\"data/dwd_icon_eu_pes10_20240129_20240519.nc\"))\n",
    "# 9831960 rows\n",
    "df_pes = pd.concat([df_pes_0, df_pes_1, df_pes_2, df_pes_3]).sort_values([\"reference_time\", \"valid_time\"]).reset_index(drop=True)\n",
    "del df_pes_0, df_pes_1, df_pes_2, df_pes_3\n",
    "# 491319 rows\n",
    "df_pes = df_pes.groupby([\"reference_time\", \"valid_time\"]).mean().reset_index().drop(columns=[\"point\", \"longitude\", \"latitude\"])\n",
    "# 1273203 rows\n",
    "df_pes = df_pes.set_index(\"valid_time\").groupby([\"reference_time\"]).resample(\"30min\").interpolate(\"linear\").drop(columns=\"reference_time\").reset_index()\n",
    "\n",
    "\n",
    "df_hornsea_0 = pre_dwd(xr.open_dataset(\"data/dwd_icon_eu_hornsea_1_20200920_20231027.nc\"))\n",
    "df_hornsea_1 = pre_dwd(xr.open_dataset(\"data/dwd_icon_eu_hornsea_1_20231027_20240108.nc\"))\n",
    "df_hornsea_2 = pre_dwd(xr.open_dataset(\"data/dwd_icon_eu_hornsea_1_20240108_20240129.nc\"))\n",
    "df_hornsea_3 = pre_dwd(xr.open_dataset(\"data/dwd_icon_eu_hornsea_1_20240129_20240519.nc\"))\n",
    "# 17697528 rows\n",
    "df_hornsea = pd.concat([df_hornsea_0, df_hornsea_1, df_hornsea_2, df_hornsea_3]).sort_values([\"reference_time\", \"valid_time\"]).reset_index(drop=True)\n",
    "del df_hornsea_0, df_hornsea_1, df_hornsea_2, df_hornsea_3\n",
    "# 491319 rows\n",
    "df_hornsea = df_hornsea.groupby([\"reference_time\", \"valid_time\"]).mean().reset_index().drop(columns=[\"longitude\", \"latitude\"])\n",
    "# 1273203 rows\n",
    "df_hornsea = df_hornsea.set_index(\"valid_time\").groupby([\"reference_time\"]).resample(\"30min\").interpolate(\"linear\").drop(columns=\"reference_time\").reset_index()\n",
    "\n",
    "\n",
    "df_0 = pre_csv(pd.read_csv(\"data/Energy_Data_20200920_20240118.csv\"))\n",
    "df_1 = pre_csv(pd.read_csv(\"data/Energy_Data_20240119_20240519.csv\"))\n",
    "# 64224 rows\n",
    "df = pd.concat([df_0, df_1]).sort_values([\"dtm\"]).reset_index(drop=True)\n",
    "del df_0, df_1\n",
    "\n",
    "df[\"Wind_MWh_credit\"] = 0.5*df[\"Wind_MW\"] - df[\"boa_MWh\"] # Umrechnen in MWh und Abzug von BOA (BOA ist die Drosselung, die schon in MW miteingerechnet ist. Es wird aber mehr Strom produziert und vergütet, dashalb muss BOA wieder draufgerechnet werde, BOA ist immer negativ)\n",
    "df[\"Solar_MWh_credit\"] = 0.5*df[\"Solar_MW\"]\n",
    "df[\"Total_MWh_credit\"] = df.Wind_MWh_credit + df.Solar_MWh_credit\n",
    "# Sicherstellen, dass es immer 30min Schritte sind?"
   ]
  },
  {
   "cell_type": "markdown",
   "metadata": {},
   "source": [
    "Daten zusammenführen"
   ]
  },
  {
   "cell_type": "code",
   "execution_count": 4,
   "metadata": {},
   "outputs": [],
   "source": [
    "# Prüfen ob hierbei etwas verloren geht!!\n",
    "# 1273203 rows\n",
    "df_full = pd.merge(df_pes, df_hornsea, on=[\"reference_time\", \"valid_time\"])\n",
    "# 1273203 rows\n",
    "df_full = df_full.merge(df[[\"dtm\", \"Wind_MWh_credit\", \"Solar_MWh_credit\", \"Total_MWh_credit\"]], left_on=\"valid_time\", right_on=\"dtm\", how=\"left\")"
   ]
  },
  {
   "cell_type": "markdown",
   "metadata": {},
   "source": [
    "Feature Engineering"
   ]
  },
  {
   "cell_type": "code",
   "execution_count": 5,
   "metadata": {},
   "outputs": [],
   "source": [
    "df_full[\"forcast_hours\"] = (df_full.valid_time - df_full.reference_time) / pd.Timedelta(1, \"h\")\n",
    "df_full[\"year\"] = df_full.valid_time.dt.year\n",
    "df_full[\"month\"] = df_full.valid_time.dt.month\n",
    "df_full[\"day\"] = df_full.valid_time.dt.day\n",
    "df_full[\"hour\"] = df_full.valid_time.dt.hour"
   ]
  },
  {
   "cell_type": "code",
   "execution_count": 6,
   "metadata": {},
   "outputs": [
    {
     "data": {
      "text/html": [
       "<div>\n",
       "<style scoped>\n",
       "    .dataframe tbody tr th:only-of-type {\n",
       "        vertical-align: middle;\n",
       "    }\n",
       "\n",
       "    .dataframe tbody tr th {\n",
       "        vertical-align: top;\n",
       "    }\n",
       "\n",
       "    .dataframe thead th {\n",
       "        text-align: right;\n",
       "    }\n",
       "</style>\n",
       "<table border=\"1\" class=\"dataframe\">\n",
       "  <thead>\n",
       "    <tr style=\"text-align: right;\">\n",
       "      <th></th>\n",
       "      <th>reference_time</th>\n",
       "      <th>valid_time</th>\n",
       "      <th>CloudCover</th>\n",
       "      <th>SolarDownwardRadiation</th>\n",
       "      <th>Temperature_x</th>\n",
       "      <th>RelativeHumidity</th>\n",
       "      <th>Temperature_y</th>\n",
       "      <th>WindDirection</th>\n",
       "      <th>WindDirection:100</th>\n",
       "      <th>WindSpeed</th>\n",
       "      <th>WindSpeed:100</th>\n",
       "      <th>dtm</th>\n",
       "      <th>Wind_MWh_credit</th>\n",
       "      <th>Solar_MWh_credit</th>\n",
       "      <th>Total_MWh_credit</th>\n",
       "      <th>forcast_hours</th>\n",
       "      <th>year</th>\n",
       "      <th>month</th>\n",
       "      <th>day</th>\n",
       "      <th>hour</th>\n",
       "    </tr>\n",
       "  </thead>\n",
       "  <tbody>\n",
       "    <tr>\n",
       "      <th>0</th>\n",
       "      <td>2020-09-20 00:00:00+00:00</td>\n",
       "      <td>2020-09-20 00:00:00+00:00</td>\n",
       "      <td>0.450405</td>\n",
       "      <td>0.0</td>\n",
       "      <td>13.646173</td>\n",
       "      <td>85.213745</td>\n",
       "      <td>15.416670</td>\n",
       "      <td>61.588081</td>\n",
       "      <td>62.085178</td>\n",
       "      <td>10.043627</td>\n",
       "      <td>11.802604</td>\n",
       "      <td>2020-09-20 00:00:00+00:00</td>\n",
       "      <td>498.142</td>\n",
       "      <td>0.0</td>\n",
       "      <td>498.142</td>\n",
       "      <td>0.0</td>\n",
       "      <td>2020</td>\n",
       "      <td>9</td>\n",
       "      <td>20</td>\n",
       "      <td>0</td>\n",
       "    </tr>\n",
       "    <tr>\n",
       "      <th>1</th>\n",
       "      <td>2020-09-20 00:00:00+00:00</td>\n",
       "      <td>2020-09-20 00:30:00+00:00</td>\n",
       "      <td>0.472211</td>\n",
       "      <td>0.0</td>\n",
       "      <td>13.658508</td>\n",
       "      <td>85.012253</td>\n",
       "      <td>15.412510</td>\n",
       "      <td>61.203667</td>\n",
       "      <td>61.726974</td>\n",
       "      <td>9.905537</td>\n",
       "      <td>11.648819</td>\n",
       "      <td>2020-09-20 00:30:00+00:00</td>\n",
       "      <td>478.788</td>\n",
       "      <td>0.0</td>\n",
       "      <td>478.788</td>\n",
       "      <td>0.5</td>\n",
       "      <td>2020</td>\n",
       "      <td>9</td>\n",
       "      <td>20</td>\n",
       "      <td>0</td>\n",
       "    </tr>\n",
       "    <tr>\n",
       "      <th>2</th>\n",
       "      <td>2020-09-20 00:00:00+00:00</td>\n",
       "      <td>2020-09-20 01:00:00+00:00</td>\n",
       "      <td>0.494018</td>\n",
       "      <td>0.0</td>\n",
       "      <td>13.670843</td>\n",
       "      <td>84.810768</td>\n",
       "      <td>15.408349</td>\n",
       "      <td>60.819256</td>\n",
       "      <td>61.368774</td>\n",
       "      <td>9.767447</td>\n",
       "      <td>11.495033</td>\n",
       "      <td>2020-09-20 01:00:00+00:00</td>\n",
       "      <td>470.522</td>\n",
       "      <td>0.0</td>\n",
       "      <td>470.522</td>\n",
       "      <td>1.0</td>\n",
       "      <td>2020</td>\n",
       "      <td>9</td>\n",
       "      <td>20</td>\n",
       "      <td>1</td>\n",
       "    </tr>\n",
       "    <tr>\n",
       "      <th>3</th>\n",
       "      <td>2020-09-20 00:00:00+00:00</td>\n",
       "      <td>2020-09-20 01:30:00+00:00</td>\n",
       "      <td>0.520214</td>\n",
       "      <td>0.0</td>\n",
       "      <td>13.732101</td>\n",
       "      <td>84.357880</td>\n",
       "      <td>15.451218</td>\n",
       "      <td>60.511028</td>\n",
       "      <td>61.111038</td>\n",
       "      <td>9.631039</td>\n",
       "      <td>11.354128</td>\n",
       "      <td>2020-09-20 01:30:00+00:00</td>\n",
       "      <td>482.183</td>\n",
       "      <td>0.0</td>\n",
       "      <td>482.183</td>\n",
       "      <td>1.5</td>\n",
       "      <td>2020</td>\n",
       "      <td>9</td>\n",
       "      <td>20</td>\n",
       "      <td>1</td>\n",
       "    </tr>\n",
       "    <tr>\n",
       "      <th>4</th>\n",
       "      <td>2020-09-20 00:00:00+00:00</td>\n",
       "      <td>2020-09-20 02:00:00+00:00</td>\n",
       "      <td>0.546410</td>\n",
       "      <td>0.0</td>\n",
       "      <td>13.793360</td>\n",
       "      <td>83.904999</td>\n",
       "      <td>15.494086</td>\n",
       "      <td>60.202801</td>\n",
       "      <td>60.853306</td>\n",
       "      <td>9.494630</td>\n",
       "      <td>11.213223</td>\n",
       "      <td>2020-09-20 02:00:00+00:00</td>\n",
       "      <td>459.216</td>\n",
       "      <td>0.0</td>\n",
       "      <td>459.216</td>\n",
       "      <td>2.0</td>\n",
       "      <td>2020</td>\n",
       "      <td>9</td>\n",
       "      <td>20</td>\n",
       "      <td>2</td>\n",
       "    </tr>\n",
       "  </tbody>\n",
       "</table>\n",
       "</div>"
      ],
      "text/plain": [
       "             reference_time                valid_time  CloudCover  \\\n",
       "0 2020-09-20 00:00:00+00:00 2020-09-20 00:00:00+00:00    0.450405   \n",
       "1 2020-09-20 00:00:00+00:00 2020-09-20 00:30:00+00:00    0.472211   \n",
       "2 2020-09-20 00:00:00+00:00 2020-09-20 01:00:00+00:00    0.494018   \n",
       "3 2020-09-20 00:00:00+00:00 2020-09-20 01:30:00+00:00    0.520214   \n",
       "4 2020-09-20 00:00:00+00:00 2020-09-20 02:00:00+00:00    0.546410   \n",
       "\n",
       "   SolarDownwardRadiation  Temperature_x  RelativeHumidity  Temperature_y  \\\n",
       "0                     0.0      13.646173         85.213745      15.416670   \n",
       "1                     0.0      13.658508         85.012253      15.412510   \n",
       "2                     0.0      13.670843         84.810768      15.408349   \n",
       "3                     0.0      13.732101         84.357880      15.451218   \n",
       "4                     0.0      13.793360         83.904999      15.494086   \n",
       "\n",
       "   WindDirection  WindDirection:100  WindSpeed  WindSpeed:100  \\\n",
       "0      61.588081          62.085178  10.043627      11.802604   \n",
       "1      61.203667          61.726974   9.905537      11.648819   \n",
       "2      60.819256          61.368774   9.767447      11.495033   \n",
       "3      60.511028          61.111038   9.631039      11.354128   \n",
       "4      60.202801          60.853306   9.494630      11.213223   \n",
       "\n",
       "                        dtm  Wind_MWh_credit  Solar_MWh_credit  \\\n",
       "0 2020-09-20 00:00:00+00:00          498.142               0.0   \n",
       "1 2020-09-20 00:30:00+00:00          478.788               0.0   \n",
       "2 2020-09-20 01:00:00+00:00          470.522               0.0   \n",
       "3 2020-09-20 01:30:00+00:00          482.183               0.0   \n",
       "4 2020-09-20 02:00:00+00:00          459.216               0.0   \n",
       "\n",
       "   Total_MWh_credit  forcast_hours  year  month  day  hour  \n",
       "0           498.142            0.0  2020      9   20     0  \n",
       "1           478.788            0.5  2020      9   20     0  \n",
       "2           470.522            1.0  2020      9   20     1  \n",
       "3           482.183            1.5  2020      9   20     1  \n",
       "4           459.216            2.0  2020      9   20     2  "
      ]
     },
     "execution_count": 6,
     "metadata": {},
     "output_type": "execute_result"
    }
   ],
   "source": [
    "df_full.head()"
   ]
  },
  {
   "cell_type": "markdown",
   "metadata": {},
   "source": [
    "Vorverarbeitung"
   ]
  },
  {
   "cell_type": "code",
   "execution_count": 7,
   "metadata": {},
   "outputs": [],
   "source": [
    "# Hier könnte man die Daten beispielsweise skalieren oder ähnliches...\n",
    "# Man kann die downtimes auf die labels draufrechenn, das könnte eine verbesserung sein"
   ]
  },
  {
   "cell_type": "markdown",
   "metadata": {},
   "source": [
    "Testdaten abspalten"
   ]
  },
  {
   "cell_type": "code",
   "execution_count": 8,
   "metadata": {},
   "outputs": [],
   "source": [
    "df_train = df_full.loc[df_full.reference_time < \"2023-05-20\"]\n",
    "df_test = df_full.loc[df_full.reference_time >= \"2023-05-20\"]\n",
    "del df_full"
   ]
  },
  {
   "cell_type": "markdown",
   "metadata": {},
   "source": [
    "Trainingsset erstellen"
   ]
  },
  {
   "cell_type": "code",
   "execution_count": 11,
   "metadata": {},
   "outputs": [],
   "source": [
    "label = \"Wind_MWh_credit\"\n",
    "# label = \"Solar_MWh_credit\"\n",
    "# label = \"to_MWh_credit\"\n",
    "columns = [\"forcast_hours\", \"year\", \"month\", \"day\", \"hour\", 'CloudCover', 'SolarDownwardRadiation', 'Temperature_x', 'RelativeHumidity', 'Temperature_y', 'WindDirection', 'WindDirection:100', 'WindSpeed', 'WindSpeed:100']\n",
    "\n",
    "index = df_train[df_train[label].isna()].index\n",
    "x = df_train.drop(index)[columns].to_numpy()\n",
    "y = df_train.drop(index)[label].to_numpy()\n",
    "\n",
    "index_test = df_test[df_test[label].isna()].index\n",
    "x_test = df_test.drop(index_test)[columns].to_numpy()\n",
    "y_test = df_test.drop(index_test)[label].to_numpy()"
   ]
  },
  {
   "cell_type": "markdown",
   "metadata": {},
   "source": [
    "Modell"
   ]
  },
  {
   "cell_type": "code",
   "execution_count": 10,
   "metadata": {},
   "outputs": [],
   "source": [
    "from xgboost import XGBRegressor"
   ]
  },
  {
   "cell_type": "code",
   "execution_count": null,
   "metadata": {},
   "outputs": [],
   "source": [
    "model = XGBRegressor(device=\"cuda\", max_depth=2, n_estimators=1000, objective=\"reg:quantileerror\", quantile_alpha=[0.1, 0.2, 0.3, 0.4, 0.5, 0.6, 0.7, 0.8, 0.9])\n",
    "model.fit(x, y)"
   ]
  },
  {
   "cell_type": "code",
   "execution_count": 21,
   "metadata": {},
   "outputs": [
    {
     "name": "stderr",
     "output_type": "stream",
     "text": [
      "c:\\Daten\\Studieren\\HKA\\venv\\DoPro2\\Lib\\site-packages\\xgboost\\core.py:158: UserWarning: [10:13:11] WARNING: C:\\buildkite-agent\\builds\\buildkite-windows-cpu-autoscaling-group-i-0015a694724fa8361-1\\xgboost\\xgboost-ci-windows\\src\\common\\error_msg.cc:58: Falling back to prediction using DMatrix due to mismatched devices. This might lead to higher memory usage and slower performance. XGBoost is running on: cuda:0, while the input data is on: cpu.\n",
      "Potential solutions:\n",
      "- Use a data structure that matches the device ordinal in the booster.\n",
      "- Set the device for booster before call to inplace_predict.\n",
      "\n",
      "This warning will only be shown once.\n",
      "\n",
      "  warnings.warn(smsg, UserWarning)\n"
     ]
    },
    {
     "name": "stdout",
     "output_type": "stream",
     "text": [
      "Pinballscore train = 26.463347585572514\n",
      "Pinballscore test = 48.67356901954439\n"
     ]
    }
   ],
   "source": [
    "preds_train = model.predict(x)\n",
    "preds = model.predict(x_test)\n",
    "\n",
    "print(f\"Pinballscore train = {np.array([pinball_score(y, pred, (i+1)/10).mean() for i, pred in enumerate(preds_train.T)]).mean()}\")\n",
    "print(f\"Pinballscore test = {np.array([pinball_score(y_test, pred, (i+1)/10).mean() for i, pred in enumerate(preds.T)]).mean()}\")"
   ]
  },
  {
   "cell_type": "code",
   "execution_count": 39,
   "metadata": {},
   "outputs": [],
   "source": [
    "# model.save_model(\"model_quantiles.json\")\n",
    "# model = XGBRegressor()\n",
    "# model.load_model(\"model_quantiles.json\")"
   ]
  },
  {
   "cell_type": "code",
   "execution_count": 41,
   "metadata": {},
   "outputs": [],
   "source": [
    "# for i, pred in enumerate(preds.T):\n",
    "#     print(f\"Pinball-Score {10*(i+1)}%-Quantil: {pinball_score(y_test, pred, (i+1)/10).mean()}\")\n",
    "\n",
    "# model.get_booster().get_score()\n"
   ]
  },
  {
   "cell_type": "code",
   "execution_count": 42,
   "metadata": {},
   "outputs": [],
   "source": [
    "# model = XGBRegressor(max_depth=6, n_estimators=500)#, objective=\"reg:quantileerror\"\n",
    "# grid = {\n",
    "#     \"max_depth\": [4, 6, 8],\n",
    "#     \"n_estimators\": [100, 300, 500],\n",
    "#     \"learning_rate\": [0.1]\n",
    "# }\n",
    "# search = GridSearchCV(model, grid, cv=4).fit(x_train, y_train)\n",
    "# search.best_params_"
   ]
  }
 ],
 "metadata": {
  "kernelspec": {
   "display_name": "DoPro2",
   "language": "python",
   "name": "python3"
  },
  "language_info": {
   "codemirror_mode": {
    "name": "ipython",
    "version": 3
   },
   "file_extension": ".py",
   "mimetype": "text/x-python",
   "name": "python",
   "nbconvert_exporter": "python",
   "pygments_lexer": "ipython3",
   "version": "3.12.6"
  }
 },
 "nbformat": 4,
 "nbformat_minor": 2
}

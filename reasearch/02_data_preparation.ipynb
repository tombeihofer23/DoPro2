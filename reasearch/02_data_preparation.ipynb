{
 "cells": [
  {
   "cell_type": "markdown",
   "metadata": {},
   "source": [
    "## Test data preparation"
   ]
  },
  {
   "cell_type": "code",
   "execution_count": 9,
   "metadata": {},
   "outputs": [],
   "source": [
    "import os"
   ]
  },
  {
   "cell_type": "code",
   "execution_count": 2,
   "metadata": {},
   "outputs": [
    {
     "data": {
      "text/plain": [
       "'c:\\\\Tom\\\\HKA\\\\7_Semester\\\\Domänenprojekt_2\\\\DoPro'"
      ]
     },
     "execution_count": 2,
     "metadata": {},
     "output_type": "execute_result"
    }
   ],
   "source": [
    "%pwd"
   ]
  },
  {
   "cell_type": "code",
   "execution_count": 3,
   "metadata": {},
   "outputs": [],
   "source": [
    "os.chdir(\"../\")"
   ]
  },
  {
   "cell_type": "code",
   "execution_count": 3,
   "metadata": {},
   "outputs": [
    {
     "data": {
      "text/plain": [
       "'c:\\\\Tom\\\\HKA\\\\7_Semester\\\\Domänenprojekt_2\\\\DoPro'"
      ]
     },
     "execution_count": 3,
     "metadata": {},
     "output_type": "execute_result"
    }
   ],
   "source": [
    "%pwd"
   ]
  },
  {
   "cell_type": "markdown",
   "metadata": {},
   "source": [
    "### Data Preparation config class (entity)"
   ]
  },
  {
   "cell_type": "code",
   "execution_count": 1,
   "metadata": {},
   "outputs": [],
   "source": [
    "from dataclasses import dataclass\n",
    "from pathlib import Path\n",
    "\n",
    "@dataclass(frozen=True)\n",
    "class DataPreparationConfig:\n",
    "    \"\"\"Entity-Class for data preparation config params.\"\"\"\n",
    "\n",
    "    root_dir: Path\n",
    "    \"\"\"Directory into which data will be loaded.\"\"\"\n",
    "\n",
    "    weather_data_path: Path\n",
    "    \"\"\"Directory where raw weather data is stored.\"\"\"\n",
    "\n",
    "    energy_data_path: Path\n",
    "    \"\"\"Directory where raw energy data is stored.\"\"\"\n",
    "\n",
    "    training_data_path: Path\n",
    "    \"\"\"Directory into which training data will be loaded.\"\"\"\n",
    "\n",
    "    test_data_path: Path\n",
    "    \"\"\"Directory into which test data will be loaded.\"\"\""
   ]
  },
  {
   "cell_type": "markdown",
   "metadata": {},
   "source": [
    "### update config manager class"
   ]
  },
  {
   "cell_type": "code",
   "execution_count": 3,
   "metadata": {},
   "outputs": [],
   "source": [
    "from src.dopro2_HEFTcom_challenge.constants import PARAMS_FILE_PATH, CONFIG_FILE_PATH\n",
    "import yaml\n",
    "from loguru import logger"
   ]
  },
  {
   "cell_type": "code",
   "execution_count": 4,
   "metadata": {},
   "outputs": [],
   "source": [
    "class ConfigurationManager:\n",
    "    \"\"\"Class to manage all configurations.\"\"\"\n",
    "\n",
    "    def __init__(\n",
    "        self,\n",
    "        config_filepath: Path = CONFIG_FILE_PATH,\n",
    "        params_filepath: Path = PARAMS_FILE_PATH\n",
    "    ) -> None:\n",
    "        \"\"\"\n",
    "        Constructor for ConfigurationManager Class.\n",
    "        Creates artifacts folder.\n",
    "\n",
    "        :param config_filepath: Path to config.yaml file\n",
    "        :param params_filepath: Path to params.yaml file\n",
    "\n",
    "        \"\"\"\n",
    "        with config_filepath.open(\"r\") as f:\n",
    "            self.config: dict = yaml.safe_load(f)\n",
    "\n",
    "        # with params_filepath.open(\"r\") as f:\n",
    "        #     self.params: dict = yaml.safe_load(f)\n",
    "\n",
    "        os.makedirs(self.config[\"artifacts_root\"], exist_ok=True)\n",
    "        logger.info(\"created directory at: {}\", self.config[\"artifacts_root\"])\n",
    "\n",
    "    def get_data_preparation_config(self) -> DataPreparationConfig:\n",
    "        \"\"\"\n",
    "        Get all config params and create folder in artifacts dir.\n",
    "        \n",
    "        :return: values from config.yaml\n",
    "        :rtype: DataPreparationConfig\n",
    "        \"\"\"\n",
    "        config = self.config[\"data_preparation\"]\n",
    "\n",
    "        os.makedirs(config[\"root_dir\"], exist_ok=True)\n",
    "        logger.info(\"created directory at: {}\", config[\"root_dir\"])\n",
    "\n",
    "        data_preparation_config = DataPreparationConfig(\n",
    "            root_dir=config[\"root_dir\"],\n",
    "            weather_data_path=config[\"weather_data_path\"],\n",
    "            energy_data_path=config[\"energy_data_path\"],\n",
    "            training_data_path=config[\"training_data_path\"],\n",
    "            test_data_path=config[\"test_data_path\"]\n",
    "        )\n",
    "\n",
    "        return data_preparation_config"
   ]
  },
  {
   "cell_type": "markdown",
   "metadata": {},
   "source": [
    "### create data preparation component"
   ]
  },
  {
   "cell_type": "code",
   "execution_count": 5,
   "metadata": {},
   "outputs": [],
   "source": [
    "import pandas as pd\n",
    "import xarray as xr"
   ]
  },
  {
   "cell_type": "code",
   "execution_count": 19,
   "metadata": {},
   "outputs": [],
   "source": [
    "class DataPreparation:\n",
    "    \"\"\"Class to performe data preparation.\"\"\"\n",
    "\n",
    "    def __init__(self, config: DataPreparationConfig) -> None:\n",
    "        \"\"\"\n",
    "        Constructor for DataPreparation class.\n",
    "\n",
    "        :param config: config values from config.yaml\n",
    "        \"\"\"\n",
    "\n",
    "        self.config = config\n",
    "\n",
    "    def cleaning_energy_data(self) -> None:\n",
    "        # TODO: handling missing values, outliers, inconsistencies\n",
    "        logger.info(\"Start cleaning energy data\")\n",
    "        energy_files = Path(self.config.energy_data_path).glob(\"*.csv\")\n",
    "        df_raw = pd.concat(\n",
    "            (pd.read_csv(f) for _, f in enumerate(energy_files)), \n",
    "            ignore_index=True\n",
    "        )\n",
    "        df = (df_raw\n",
    "            .assign(dtm=pd.to_datetime(df_raw[\"dtm\"]),\n",
    "                    Wind_MWh_credit=0.5*df_raw[\"Wind_MW\"] - df_raw[\"boa_MWh\"],\n",
    "                    Solar_MWh_credit=0.5*df_raw[\"Solar_MW\"]\n",
    "                    )\n",
    "        )\n",
    "        # TODO: Split into wind and solar df\n",
    "        df.to_parquet(f\"{self.config.root_dir}/energy_processed.parquet\")\n",
    "        logger.info(\"Cleaned energy data: file safed under {}\", self.config.root_dir)\n",
    "\n",
    "\n",
    "\n",
    "    def transform_data(self):\n",
    "        ...\n",
    "        # TODO: feature scaling, encoding, ...\n",
    "\n",
    "    # def reduce_data(self):\n",
    "\n",
    "    def splitting_data(self):\n",
    "        ...\n",
    "        # TODO: training, validation, test sets"
   ]
  },
  {
   "cell_type": "code",
   "execution_count": 20,
   "metadata": {},
   "outputs": [
    {
     "name": "stderr",
     "output_type": "stream",
     "text": [
      "\u001b[32m2024-10-08 23:19:07.177\u001b[0m | \u001b[1mINFO    \u001b[0m | \u001b[36m__main__\u001b[0m:\u001b[36m__init__\u001b[0m:\u001b[36m24\u001b[0m - \u001b[1mcreated directory at: artifacts\u001b[0m\n",
      "\u001b[32m2024-10-08 23:19:07.179\u001b[0m | \u001b[1mINFO    \u001b[0m | \u001b[36m__main__\u001b[0m:\u001b[36mget_data_preparation_config\u001b[0m:\u001b[36m36\u001b[0m - \u001b[1mcreated directory at: artifacts/prepared_data\u001b[0m\n",
      "\u001b[32m2024-10-08 23:19:07.180\u001b[0m | \u001b[1mINFO    \u001b[0m | \u001b[36m__main__\u001b[0m:\u001b[36mcleaning_energy_data\u001b[0m:\u001b[36m15\u001b[0m - \u001b[1mStart cleaning energy data\u001b[0m\n",
      "\u001b[32m2024-10-08 23:19:07.708\u001b[0m | \u001b[1mINFO    \u001b[0m | \u001b[36m__main__\u001b[0m:\u001b[36mcleaning_energy_data\u001b[0m:\u001b[36m28\u001b[0m - \u001b[1mCleaned energy data: file safed under artifacts/prepared_data\u001b[0m\n"
     ]
    }
   ],
   "source": [
    "try:\n",
    "    config = ConfigurationManager()\n",
    "    data_preparation_config = config.get_data_preparation_config()\n",
    "    data_preparation = DataPreparation(config=data_preparation_config)\n",
    "    data_preparation.cleaning_energy_data()\n",
    "except Exception as e:\n",
    "    raise e"
   ]
  }
 ],
 "metadata": {
  "kernelspec": {
   "display_name": ".env",
   "language": "python",
   "name": "python3"
  },
  "language_info": {
   "codemirror_mode": {
    "name": "ipython",
    "version": 3
   },
   "file_extension": ".py",
   "mimetype": "text/x-python",
   "name": "python",
   "nbconvert_exporter": "python",
   "pygments_lexer": "ipython3",
   "version": "3.12.6"
  }
 },
 "nbformat": 4,
 "nbformat_minor": 2
}

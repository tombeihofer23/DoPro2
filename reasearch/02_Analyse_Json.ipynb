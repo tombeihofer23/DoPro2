{
 "cells": [
  {
   "cell_type": "code",
   "execution_count": 76,
   "metadata": {},
   "outputs": [],
   "source": [
    "import pandas as pd\n",
    "import os\n",
    "import re\n",
    "import plotly.graph_objects as go\n",
    "import plotly.express as px"
   ]
  },
  {
   "cell_type": "markdown",
   "metadata": {},
   "source": [
    "## Quellen\n",
    "- [Link zum Download der Remit Dateien](https://bmrs.elexon.co.uk/remit?timeRangeType=Custom&timeRangeLength=Custom&assetID=T_HOWAO-1&endpoint=published&revisionHistory=include-history&from=2024-01-01T07%3A30%3A00.000Z&to=2025-01-01T07%3A30%3A00.000Z&messageType=Unavailabilities+of+Electricity+Facilities%2COther+Market+Information&unavailabilityType=Planned%2CUnplanned&eventType=Production+Unavailability%2CTransmission+Unavailability%2CConsumption+Unavailability%2COther+Unavailability)\n",
    "\n",
    "- [Dokumenation BMRS API and Data Push User Guide](https://assets.elexon.co.uk/wp-content/uploads/2018/09/28160411/BMRS-API-Data-Push-User-Guide.pdf)"
   ]
  },
  {
   "cell_type": "code",
   "execution_count": 77,
   "metadata": {},
   "outputs": [],
   "source": [
    "#  # Liest alle JSON-Dateien aus einem angegebenen Ordner ein und wandelt sie in CSV-Dateien um\n",
    "#  # Ordnerpfad zu den JSON-Dateien\n",
    "# json_folder = 'data/Json_Dateien/'\n",
    "\n",
    "# # Alle JSON-Dateien im Ordner einlesen und in CSV umwandeln\n",
    "# for filename in os.listdir(json_folder):\n",
    "#     if filename.endswith('.json'):\n",
    "#         json_file = os.path.join(json_folder, filename)  # Vollständiger Pfad zur JSON-Datei\n",
    "#         data = pd.read_json(json_file)\n",
    "\n",
    "#         # CSV-Dateiname erstellen\n",
    "#         csv_file = os.path.join(json_folder, filename.replace('.json', '.csv'))  # Pfad zur gewünschten CSV-Datei\n",
    "#         data.to_csv(csv_file, index=False)\n",
    "\n",
    "#         print(f'Die JSON-Datei {filename} wurde erfolgreich in {csv_file} umgewandelt.')"
   ]
  },
  {
   "cell_type": "code",
   "execution_count": 78,
   "metadata": {},
   "outputs": [],
   "source": [
    "# Ordnerpfad zu den CSV-Dateien\n",
    "csv_folder = 'data/Json_Dateien'\n",
    "\n",
    "# Leere Liste zum Speichern der DataFrames\n",
    "dataframes = []\n",
    "\n",
    "# Alle CSV-Dateien im Ordner einlesen\n",
    "for filename in os.listdir(csv_folder):\n",
    "    if filename.endswith('.csv'):\n",
    "        csv_file = os.path.join(csv_folder, filename)  # Vollständiger Pfad zur CSV-Datei\n",
    "        df = pd.read_csv(csv_file)  # Einlesen der CSV-Datei\n",
    "        dataframes.append(df)  # Hinzufügen des DataFrames zur Liste\n",
    "\n",
    "# Alle DataFrames zu einem einzigen DataFrame zusammenführen\n",
    "df = pd.concat(dataframes, ignore_index=True)"
   ]
  },
  {
   "cell_type": "code",
   "execution_count": 79,
   "metadata": {},
   "outputs": [
    {
     "data": {
      "text/html": [
       "<div>\n",
       "<style scoped>\n",
       "    .dataframe tbody tr th:only-of-type {\n",
       "        vertical-align: middle;\n",
       "    }\n",
       "\n",
       "    .dataframe tbody tr th {\n",
       "        vertical-align: top;\n",
       "    }\n",
       "\n",
       "    .dataframe thead th {\n",
       "        text-align: right;\n",
       "    }\n",
       "</style>\n",
       "<table border=\"1\" class=\"dataframe\">\n",
       "  <thead>\n",
       "    <tr style=\"text-align: right;\">\n",
       "      <th></th>\n",
       "      <th>id</th>\n",
       "      <th>dataset</th>\n",
       "      <th>mrid</th>\n",
       "      <th>revisionNumber</th>\n",
       "      <th>publishTime</th>\n",
       "      <th>createdTime</th>\n",
       "      <th>messageType</th>\n",
       "      <th>messageHeading</th>\n",
       "      <th>eventType</th>\n",
       "      <th>unavailabilityType</th>\n",
       "      <th>...</th>\n",
       "      <th>fuelType</th>\n",
       "      <th>normalCapacity</th>\n",
       "      <th>availableCapacity</th>\n",
       "      <th>unavailableCapacity</th>\n",
       "      <th>eventStatus</th>\n",
       "      <th>eventStartTime</th>\n",
       "      <th>eventEndTime</th>\n",
       "      <th>cause</th>\n",
       "      <th>relatedInformation</th>\n",
       "      <th>outageProfile</th>\n",
       "    </tr>\n",
       "  </thead>\n",
       "  <tbody>\n",
       "    <tr>\n",
       "      <th>0</th>\n",
       "      <td>60924</td>\n",
       "      <td>REMIT</td>\n",
       "      <td>11XDONG-PT-----2-NGET-RMT-00001020</td>\n",
       "      <td>2</td>\n",
       "      <td>2020-11-26T13:54:00Z</td>\n",
       "      <td>2020-11-26T13:54:00Z</td>\n",
       "      <td>UnavailabilitiesOfElectricityFacilities</td>\n",
       "      <td>REMIT Information</td>\n",
       "      <td>Production unavailability</td>\n",
       "      <td>Planned</td>\n",
       "      <td>...</td>\n",
       "      <td>Wind Offshore</td>\n",
       "      <td>400</td>\n",
       "      <td>0</td>\n",
       "      <td>400</td>\n",
       "      <td>Active</td>\n",
       "      <td>2020-11-26T09:00:00Z</td>\n",
       "      <td>2020-11-26T18:00:00Z</td>\n",
       "      <td>Planned Outage</td>\n",
       "      <td>HOW01 Z12 Dry run interlink test</td>\n",
       "      <td>[{'startTime': '2020-11-26T09:00:00Z', 'endTim...</td>\n",
       "    </tr>\n",
       "    <tr>\n",
       "      <th>1</th>\n",
       "      <td>185054</td>\n",
       "      <td>REMIT</td>\n",
       "      <td>11XDONG-PT-----2-NGET-RMT-00001024</td>\n",
       "      <td>2</td>\n",
       "      <td>2020-12-10T16:12:00Z</td>\n",
       "      <td>2020-12-10T16:12:00Z</td>\n",
       "      <td>UnavailabilitiesOfElectricityFacilities</td>\n",
       "      <td>REMIT Information</td>\n",
       "      <td>Production unavailability</td>\n",
       "      <td>Planned</td>\n",
       "      <td>...</td>\n",
       "      <td>Wind Offshore</td>\n",
       "      <td>400</td>\n",
       "      <td>0</td>\n",
       "      <td>400</td>\n",
       "      <td>Active</td>\n",
       "      <td>2020-12-11T06:00:00Z</td>\n",
       "      <td>2020-12-11T16:00:00Z</td>\n",
       "      <td>Planned Outage</td>\n",
       "      <td>HOW01 BMU 2 will be undergoing frequency respo...</td>\n",
       "      <td>[{'startTime': '2020-12-11T06:00:00Z', 'endTim...</td>\n",
       "    </tr>\n",
       "  </tbody>\n",
       "</table>\n",
       "<p>2 rows × 28 columns</p>\n",
       "</div>"
      ],
      "text/plain": [
       "       id dataset                                mrid  revisionNumber  \\\n",
       "0   60924   REMIT  11XDONG-PT-----2-NGET-RMT-00001020               2   \n",
       "1  185054   REMIT  11XDONG-PT-----2-NGET-RMT-00001024               2   \n",
       "\n",
       "            publishTime           createdTime  \\\n",
       "0  2020-11-26T13:54:00Z  2020-11-26T13:54:00Z   \n",
       "1  2020-12-10T16:12:00Z  2020-12-10T16:12:00Z   \n",
       "\n",
       "                               messageType     messageHeading  \\\n",
       "0  UnavailabilitiesOfElectricityFacilities  REMIT Information   \n",
       "1  UnavailabilitiesOfElectricityFacilities  REMIT Information   \n",
       "\n",
       "                   eventType unavailabilityType  ...       fuelType  \\\n",
       "0  Production unavailability            Planned  ...  Wind Offshore   \n",
       "1  Production unavailability            Planned  ...  Wind Offshore   \n",
       "\n",
       "  normalCapacity availableCapacity unavailableCapacity eventStatus  \\\n",
       "0            400                 0                 400      Active   \n",
       "1            400                 0                 400      Active   \n",
       "\n",
       "         eventStartTime          eventEndTime           cause  \\\n",
       "0  2020-11-26T09:00:00Z  2020-11-26T18:00:00Z  Planned Outage   \n",
       "1  2020-12-11T06:00:00Z  2020-12-11T16:00:00Z  Planned Outage   \n",
       "\n",
       "                                  relatedInformation  \\\n",
       "0                   HOW01 Z12 Dry run interlink test   \n",
       "1  HOW01 BMU 2 will be undergoing frequency respo...   \n",
       "\n",
       "                                       outageProfile  \n",
       "0  [{'startTime': '2020-11-26T09:00:00Z', 'endTim...  \n",
       "1  [{'startTime': '2020-12-11T06:00:00Z', 'endTim...  \n",
       "\n",
       "[2 rows x 28 columns]"
      ]
     },
     "execution_count": 79,
     "metadata": {},
     "output_type": "execute_result"
    }
   ],
   "source": [
    "df.head(2)"
   ]
  },
  {
   "cell_type": "code",
   "execution_count": 80,
   "metadata": {},
   "outputs": [
    {
     "data": {
      "text/plain": [
       "Index(['id', 'dataset', 'mrid', 'revisionNumber', 'publishTime', 'createdTime',\n",
       "       'messageType', 'messageHeading', 'eventType', 'unavailabilityType',\n",
       "       'participantId', 'registrationCode', 'assetId', 'assetType',\n",
       "       'affectedUnit', 'affectedUnitEIC', 'affectedArea', 'biddingZone',\n",
       "       'fuelType', 'normalCapacity', 'availableCapacity',\n",
       "       'unavailableCapacity', 'eventStatus', 'eventStartTime', 'eventEndTime',\n",
       "       'cause', 'relatedInformation', 'outageProfile'],\n",
       "      dtype='object')"
      ]
     },
     "execution_count": 80,
     "metadata": {},
     "output_type": "execute_result"
    }
   ],
   "source": [
    "df.columns"
   ]
  },
  {
   "cell_type": "code",
   "execution_count": 81,
   "metadata": {},
   "outputs": [
    {
     "name": "stderr",
     "output_type": "stream",
     "text": [
      "C:\\Users\\Michael Jäckle\\AppData\\Local\\Temp\\ipykernel_31700\\4078416652.py:6: UserWarning:\n",
      "\n",
      "Could not infer format, so each element will be parsed individually, falling back to `dateutil`. To ensure parsing is consistent and as-expected, please specify a format.\n",
      "\n"
     ]
    }
   ],
   "source": [
    "# Konvertiere die Spalten 'publishTime' und 'createdTime' in Datetime-Objekte\n",
    "df['publishTime'] = pd.to_datetime(df['publishTime'])\n",
    "df['createdTime'] = pd.to_datetime(df['createdTime'])\n",
    "\n",
    "# Versuche, 'eventStatus' und 'eventStartTime' in Datetime-Objekte zu konvertieren; ungültige Werte werden in NaT umgewandelt\n",
    "df['eventStatus'] = pd.to_datetime(df['eventStatus'], errors='coerce')\n",
    "df['eventStartTime'] = pd.to_datetime(df['eventStartTime'], errors='coerce')"
   ]
  },
  {
   "cell_type": "code",
   "execution_count": 82,
   "metadata": {},
   "outputs": [
    {
     "data": {
      "text/plain": [
       "id                                   int64\n",
       "dataset                             object\n",
       "mrid                                object\n",
       "revisionNumber                       int64\n",
       "publishTime            datetime64[ns, UTC]\n",
       "createdTime            datetime64[ns, UTC]\n",
       "messageType                         object\n",
       "messageHeading                      object\n",
       "eventType                           object\n",
       "unavailabilityType                  object\n",
       "participantId                       object\n",
       "registrationCode                    object\n",
       "assetId                             object\n",
       "assetType                           object\n",
       "affectedUnit                        object\n",
       "affectedUnitEIC                     object\n",
       "affectedArea                        object\n",
       "biddingZone                         object\n",
       "fuelType                            object\n",
       "normalCapacity                       int64\n",
       "availableCapacity                    int64\n",
       "unavailableCapacity                  int64\n",
       "eventStatus                 datetime64[ns]\n",
       "eventStartTime         datetime64[ns, UTC]\n",
       "eventEndTime                        object\n",
       "cause                               object\n",
       "relatedInformation                  object\n",
       "outageProfile                       object\n",
       "dtype: object"
      ]
     },
     "execution_count": 82,
     "metadata": {},
     "output_type": "execute_result"
    }
   ],
   "source": [
    "df.dtypes"
   ]
  },
  {
   "cell_type": "code",
   "execution_count": 83,
   "metadata": {},
   "outputs": [
    {
     "data": {
      "text/html": [
       "<div>\n",
       "<style scoped>\n",
       "    .dataframe tbody tr th:only-of-type {\n",
       "        vertical-align: middle;\n",
       "    }\n",
       "\n",
       "    .dataframe tbody tr th {\n",
       "        vertical-align: top;\n",
       "    }\n",
       "\n",
       "    .dataframe thead th {\n",
       "        text-align: right;\n",
       "    }\n",
       "</style>\n",
       "<table border=\"1\" class=\"dataframe\">\n",
       "  <thead>\n",
       "    <tr style=\"text-align: right;\">\n",
       "      <th></th>\n",
       "      <th>id</th>\n",
       "      <th>dataset</th>\n",
       "      <th>mrid</th>\n",
       "      <th>revisionNumber</th>\n",
       "      <th>publishTime</th>\n",
       "      <th>createdTime</th>\n",
       "      <th>messageType</th>\n",
       "      <th>messageHeading</th>\n",
       "      <th>eventType</th>\n",
       "      <th>unavailabilityType</th>\n",
       "      <th>...</th>\n",
       "      <th>fuelType</th>\n",
       "      <th>normalCapacity</th>\n",
       "      <th>availableCapacity</th>\n",
       "      <th>unavailableCapacity</th>\n",
       "      <th>eventStatus</th>\n",
       "      <th>eventStartTime</th>\n",
       "      <th>eventEndTime</th>\n",
       "      <th>cause</th>\n",
       "      <th>relatedInformation</th>\n",
       "      <th>outageProfile</th>\n",
       "    </tr>\n",
       "  </thead>\n",
       "  <tbody>\n",
       "    <tr>\n",
       "      <th>0</th>\n",
       "      <td>60924</td>\n",
       "      <td>REMIT</td>\n",
       "      <td>11XDONG-PT-----2-NGET-RMT-00001020</td>\n",
       "      <td>2</td>\n",
       "      <td>2020-11-26 13:54:00+00:00</td>\n",
       "      <td>2020-11-26 13:54:00+00:00</td>\n",
       "      <td>UnavailabilitiesOfElectricityFacilities</td>\n",
       "      <td>REMIT Information</td>\n",
       "      <td>Production unavailability</td>\n",
       "      <td>Planned</td>\n",
       "      <td>...</td>\n",
       "      <td>Wind Offshore</td>\n",
       "      <td>400</td>\n",
       "      <td>0</td>\n",
       "      <td>400</td>\n",
       "      <td>NaT</td>\n",
       "      <td>2020-11-26 09:00:00+00:00</td>\n",
       "      <td>2020-11-26T18:00:00Z</td>\n",
       "      <td>Planned Outage</td>\n",
       "      <td>HOW01 Z12 Dry run interlink test</td>\n",
       "      <td>[{'startTime': '2020-11-26T09:00:00Z', 'endTim...</td>\n",
       "    </tr>\n",
       "    <tr>\n",
       "      <th>1</th>\n",
       "      <td>185054</td>\n",
       "      <td>REMIT</td>\n",
       "      <td>11XDONG-PT-----2-NGET-RMT-00001024</td>\n",
       "      <td>2</td>\n",
       "      <td>2020-12-10 16:12:00+00:00</td>\n",
       "      <td>2020-12-10 16:12:00+00:00</td>\n",
       "      <td>UnavailabilitiesOfElectricityFacilities</td>\n",
       "      <td>REMIT Information</td>\n",
       "      <td>Production unavailability</td>\n",
       "      <td>Planned</td>\n",
       "      <td>...</td>\n",
       "      <td>Wind Offshore</td>\n",
       "      <td>400</td>\n",
       "      <td>0</td>\n",
       "      <td>400</td>\n",
       "      <td>NaT</td>\n",
       "      <td>2020-12-11 06:00:00+00:00</td>\n",
       "      <td>2020-12-11T16:00:00Z</td>\n",
       "      <td>Planned Outage</td>\n",
       "      <td>HOW01 BMU 2 will be undergoing frequency respo...</td>\n",
       "      <td>[{'startTime': '2020-12-11T06:00:00Z', 'endTim...</td>\n",
       "    </tr>\n",
       "  </tbody>\n",
       "</table>\n",
       "<p>2 rows × 28 columns</p>\n",
       "</div>"
      ],
      "text/plain": [
       "       id dataset                                mrid  revisionNumber  \\\n",
       "0   60924   REMIT  11XDONG-PT-----2-NGET-RMT-00001020               2   \n",
       "1  185054   REMIT  11XDONG-PT-----2-NGET-RMT-00001024               2   \n",
       "\n",
       "                publishTime               createdTime  \\\n",
       "0 2020-11-26 13:54:00+00:00 2020-11-26 13:54:00+00:00   \n",
       "1 2020-12-10 16:12:00+00:00 2020-12-10 16:12:00+00:00   \n",
       "\n",
       "                               messageType     messageHeading  \\\n",
       "0  UnavailabilitiesOfElectricityFacilities  REMIT Information   \n",
       "1  UnavailabilitiesOfElectricityFacilities  REMIT Information   \n",
       "\n",
       "                   eventType unavailabilityType  ...       fuelType  \\\n",
       "0  Production unavailability            Planned  ...  Wind Offshore   \n",
       "1  Production unavailability            Planned  ...  Wind Offshore   \n",
       "\n",
       "  normalCapacity availableCapacity unavailableCapacity eventStatus  \\\n",
       "0            400                 0                 400         NaT   \n",
       "1            400                 0                 400         NaT   \n",
       "\n",
       "             eventStartTime          eventEndTime           cause  \\\n",
       "0 2020-11-26 09:00:00+00:00  2020-11-26T18:00:00Z  Planned Outage   \n",
       "1 2020-12-11 06:00:00+00:00  2020-12-11T16:00:00Z  Planned Outage   \n",
       "\n",
       "                                  relatedInformation  \\\n",
       "0                   HOW01 Z12 Dry run interlink test   \n",
       "1  HOW01 BMU 2 will be undergoing frequency respo...   \n",
       "\n",
       "                                       outageProfile  \n",
       "0  [{'startTime': '2020-11-26T09:00:00Z', 'endTim...  \n",
       "1  [{'startTime': '2020-12-11T06:00:00Z', 'endTim...  \n",
       "\n",
       "[2 rows x 28 columns]"
      ]
     },
     "execution_count": 83,
     "metadata": {},
     "output_type": "execute_result"
    }
   ],
   "source": [
    "df.head(2)"
   ]
  },
  {
   "cell_type": "code",
   "execution_count": 84,
   "metadata": {},
   "outputs": [
    {
     "data": {
      "text/html": [
       "<div>\n",
       "<style scoped>\n",
       "    .dataframe tbody tr th:only-of-type {\n",
       "        vertical-align: middle;\n",
       "    }\n",
       "\n",
       "    .dataframe tbody tr th {\n",
       "        vertical-align: top;\n",
       "    }\n",
       "\n",
       "    .dataframe thead th {\n",
       "        text-align: right;\n",
       "    }\n",
       "</style>\n",
       "<table border=\"1\" class=\"dataframe\">\n",
       "  <thead>\n",
       "    <tr style=\"text-align: right;\">\n",
       "      <th></th>\n",
       "      <th>startTime_1</th>\n",
       "      <th>endTime_1</th>\n",
       "      <th>capacity_1</th>\n",
       "      <th>startTime_2</th>\n",
       "      <th>endTime_2</th>\n",
       "      <th>capacity_2</th>\n",
       "      <th>startTime_3</th>\n",
       "      <th>endTime_3</th>\n",
       "      <th>capacity_3</th>\n",
       "      <th>startTime_4</th>\n",
       "      <th>...</th>\n",
       "      <th>capacity_9</th>\n",
       "      <th>startTime_10</th>\n",
       "      <th>endTime_10</th>\n",
       "      <th>capacity_10</th>\n",
       "      <th>startTime_11</th>\n",
       "      <th>endTime_11</th>\n",
       "      <th>capacity_11</th>\n",
       "      <th>startTime_12</th>\n",
       "      <th>endTime_12</th>\n",
       "      <th>capacity_12</th>\n",
       "    </tr>\n",
       "  </thead>\n",
       "  <tbody>\n",
       "    <tr>\n",
       "      <th>0</th>\n",
       "      <td>2020-11-26 09:00:00+00:00</td>\n",
       "      <td>2020-11-26 18:00:00+00:00</td>\n",
       "      <td>0.0</td>\n",
       "      <td>NaT</td>\n",
       "      <td>NaT</td>\n",
       "      <td>NaN</td>\n",
       "      <td>NaT</td>\n",
       "      <td>NaT</td>\n",
       "      <td>NaN</td>\n",
       "      <td>NaT</td>\n",
       "      <td>...</td>\n",
       "      <td>NaN</td>\n",
       "      <td>NaT</td>\n",
       "      <td>NaT</td>\n",
       "      <td>NaN</td>\n",
       "      <td>NaT</td>\n",
       "      <td>NaT</td>\n",
       "      <td>NaN</td>\n",
       "      <td>NaT</td>\n",
       "      <td>NaT</td>\n",
       "      <td>NaN</td>\n",
       "    </tr>\n",
       "    <tr>\n",
       "      <th>1</th>\n",
       "      <td>2020-12-11 06:00:00+00:00</td>\n",
       "      <td>2020-12-11 16:00:00+00:00</td>\n",
       "      <td>0.0</td>\n",
       "      <td>NaT</td>\n",
       "      <td>NaT</td>\n",
       "      <td>NaN</td>\n",
       "      <td>NaT</td>\n",
       "      <td>NaT</td>\n",
       "      <td>NaN</td>\n",
       "      <td>NaT</td>\n",
       "      <td>...</td>\n",
       "      <td>NaN</td>\n",
       "      <td>NaT</td>\n",
       "      <td>NaT</td>\n",
       "      <td>NaN</td>\n",
       "      <td>NaT</td>\n",
       "      <td>NaT</td>\n",
       "      <td>NaN</td>\n",
       "      <td>NaT</td>\n",
       "      <td>NaT</td>\n",
       "      <td>NaN</td>\n",
       "    </tr>\n",
       "  </tbody>\n",
       "</table>\n",
       "<p>2 rows × 36 columns</p>\n",
       "</div>"
      ],
      "text/plain": [
       "                startTime_1                 endTime_1  capacity_1 startTime_2  \\\n",
       "0 2020-11-26 09:00:00+00:00 2020-11-26 18:00:00+00:00         0.0         NaT   \n",
       "1 2020-12-11 06:00:00+00:00 2020-12-11 16:00:00+00:00         0.0         NaT   \n",
       "\n",
       "  endTime_2  capacity_2 startTime_3 endTime_3  capacity_3 startTime_4  ...  \\\n",
       "0       NaT         NaN         NaT       NaT         NaN         NaT  ...   \n",
       "1       NaT         NaN         NaT       NaT         NaN         NaT  ...   \n",
       "\n",
       "  capacity_9  startTime_10 endTime_10 capacity_10  startTime_11 endTime_11  \\\n",
       "0        NaN           NaT        NaT         NaN           NaT        NaT   \n",
       "1        NaN           NaT        NaT         NaN           NaT        NaT   \n",
       "\n",
       "  capacity_11  startTime_12 endTime_12 capacity_12  \n",
       "0         NaN           NaT        NaT         NaN  \n",
       "1         NaN           NaT        NaT         NaN  \n",
       "\n",
       "[2 rows x 36 columns]"
      ]
     },
     "metadata": {},
     "output_type": "display_data"
    }
   ],
   "source": [
    "# Funktion zum Extrahieren der Werte aus dem Dictionary\n",
    "def extract_values(outage_profile):\n",
    "    # Überprüfen, ob der Wert in der Spalte gültig ist\n",
    "    if isinstance(outage_profile, str):\n",
    "        # Suchen nach allen startTime, endTime und capacity Werten\n",
    "        start_times = re.findall(r\"'startTime': '(.*?)'\", outage_profile)\n",
    "        end_times = re.findall(r\"'endTime': '(.*?)'\", outage_profile)\n",
    "        capacities = re.findall(r\"'capacity': (\\d+)\", outage_profile)\n",
    "        \n",
    "        # Erstellen eines Dictionaries mit den Werten in nebeneinander liegenden Spalten\n",
    "        extracted_data = {}\n",
    "        for i in range(len(start_times)):\n",
    "            extracted_data[f'startTime_{i+1}'] = start_times[i]\n",
    "            extracted_data[f'endTime_{i+1}'] = end_times[i]\n",
    "            extracted_data[f'capacity_{i+1}'] = capacities[i]\n",
    "\n",
    "        return extracted_data\n",
    "    else:\n",
    "        return {}\n",
    "\n",
    "# Extrahieren der Werte aus der 'outageProfile'-Spalte\n",
    "extracted_values = df['outageProfile'].apply(extract_values)\n",
    "\n",
    "# Erstellen eines neuen DataFrames aus den extrahierten Werten\n",
    "extracted_df = pd.DataFrame(extracted_values.tolist())\n",
    "\n",
    "# Umwandlung der Spalten in den entsprechenden Datentyp\n",
    "for col in extracted_df.columns:\n",
    "    if 'startTime' in col or 'endTime' in col:\n",
    "        extracted_df[col] = pd.to_datetime(extracted_df[col], errors='coerce')  # Fehlerhafte Einträge werden zu NaT\n",
    "    elif 'capacity' in col:\n",
    "        extracted_df[col] = extracted_df[col].astype(float)  # Oder int, je nach Bedarf\n",
    "\n",
    "display(extracted_df.head(2))\n"
   ]
  },
  {
   "cell_type": "code",
   "execution_count": 85,
   "metadata": {},
   "outputs": [
    {
     "data": {
      "text/plain": [
       "(436, 28)"
      ]
     },
     "execution_count": 85,
     "metadata": {},
     "output_type": "execute_result"
    }
   ],
   "source": [
    "df.shape"
   ]
  },
  {
   "cell_type": "code",
   "execution_count": 86,
   "metadata": {},
   "outputs": [
    {
     "name": "stdout",
     "output_type": "stream",
     "text": [
      "[Timestamp('2020-01-29 15:52:00+0000', tz='UTC'), Timestamp('2020-01-31 13:04:00+0000', tz='UTC'), Timestamp('2020-02-02 06:40:00+0000', tz='UTC'), Timestamp('2020-02-02 07:11:00+0000', tz='UTC'), Timestamp('2020-02-02 08:44:00+0000', tz='UTC'), Timestamp('2020-02-03 11:19:00+0000', tz='UTC'), Timestamp('2020-02-06 11:03:00+0000', tz='UTC'), Timestamp('2020-02-10 18:21:00+0000', tz='UTC'), Timestamp('2020-02-13 11:06:00+0000', tz='UTC'), Timestamp('2020-02-14 09:43:00+0000', tz='UTC'), Timestamp('2020-02-15 15:06:00+0000', tz='UTC'), Timestamp('2020-02-17 15:05:00+0000', tz='UTC'), Timestamp('2020-02-24 10:50:00+0000', tz='UTC'), Timestamp('2020-02-25 14:39:00+0000', tz='UTC'), Timestamp('2020-02-28 13:14:00+0000', tz='UTC'), Timestamp('2020-02-28 13:18:00+0000', tz='UTC'), Timestamp('2020-03-04 23:16:00+0000', tz='UTC'), Timestamp('2020-03-04 23:22:00+0000', tz='UTC'), Timestamp('2020-03-05 15:02:00+0000', tz='UTC'), Timestamp('2020-03-06 12:51:00+0000', tz='UTC'), Timestamp('2020-03-06 19:33:00+0000', tz='UTC'), Timestamp('2020-03-09 08:56:00+0000', tz='UTC'), Timestamp('2020-03-12 06:38:00+0000', tz='UTC'), Timestamp('2020-03-12 18:56:00+0000', tz='UTC'), Timestamp('2020-03-13 09:36:00+0000', tz='UTC'), Timestamp('2020-03-13 14:36:00+0000', tz='UTC'), Timestamp('2020-03-14 06:32:00+0000', tz='UTC'), Timestamp('2020-03-14 11:41:00+0000', tz='UTC'), Timestamp('2020-03-19 06:32:00+0000', tz='UTC'), Timestamp('2020-03-20 10:22:00+0000', tz='UTC'), Timestamp('2020-03-24 09:36:00+0000', tz='UTC'), Timestamp('2020-03-24 15:46:00+0000', tz='UTC'), Timestamp('2020-03-27 15:35:00+0000', tz='UTC'), Timestamp('2020-03-30 13:53:00+0000', tz='UTC'), Timestamp('2020-04-02 08:52:00+0000', tz='UTC'), Timestamp('2020-04-02 16:13:00+0000', tz='UTC'), Timestamp('2020-04-03 01:16:00+0000', tz='UTC'), Timestamp('2020-04-03 08:02:00+0000', tz='UTC'), Timestamp('2020-04-03 10:30:00+0000', tz='UTC'), Timestamp('2020-04-04 14:55:00+0000', tz='UTC'), Timestamp('2020-04-04 14:58:00+0000', tz='UTC'), Timestamp('2020-04-06 15:51:00+0000', tz='UTC'), Timestamp('2020-04-07 07:28:00+0000', tz='UTC'), Timestamp('2020-04-07 13:39:00+0000', tz='UTC'), Timestamp('2020-04-08 13:28:00+0000', tz='UTC'), Timestamp('2020-04-18 18:59:00+0000', tz='UTC'), Timestamp('2020-04-18 23:51:00+0000', tz='UTC'), Timestamp('2020-04-19 00:02:00+0000', tz='UTC'), Timestamp('2020-04-19 09:35:00+0000', tz='UTC'), Timestamp('2020-04-20 09:01:00+0000', tz='UTC'), Timestamp('2020-04-20 17:40:00+0000', tz='UTC'), Timestamp('2020-04-20 17:42:00+0000', tz='UTC'), Timestamp('2020-04-21 09:36:00+0000', tz='UTC'), Timestamp('2020-04-21 10:08:00+0000', tz='UTC'), Timestamp('2020-04-21 10:09:00+0000', tz='UTC'), Timestamp('2020-04-21 10:10:00+0000', tz='UTC'), Timestamp('2020-04-21 10:48:00+0000', tz='UTC'), Timestamp('2020-04-21 11:00:00+0000', tz='UTC'), Timestamp('2020-04-21 11:01:00+0000', tz='UTC'), Timestamp('2020-04-21 12:56:00+0000', tz='UTC'), Timestamp('2020-04-21 13:02:00+0000', tz='UTC'), Timestamp('2020-04-21 13:03:00+0000', tz='UTC'), Timestamp('2020-04-24 15:53:00+0000', tz='UTC'), Timestamp('2020-04-26 11:42:00+0000', tz='UTC'), Timestamp('2020-05-01 16:51:00+0000', tz='UTC'), Timestamp('2020-05-01 16:53:00+0000', tz='UTC'), Timestamp('2020-05-03 17:43:00+0000', tz='UTC'), Timestamp('2020-05-22 23:28:00+0000', tz='UTC'), Timestamp('2020-05-23 00:08:00+0000', tz='UTC'), Timestamp('2020-05-29 13:48:00+0000', tz='UTC'), Timestamp('2020-05-29 13:49:00+0000', tz='UTC'), Timestamp('2020-05-29 14:00:00+0000', tz='UTC'), Timestamp('2020-05-30 13:55:00+0000', tz='UTC'), Timestamp('2020-05-30 13:56:00+0000', tz='UTC'), Timestamp('2020-06-01 16:01:00+0000', tz='UTC'), Timestamp('2020-06-01 16:02:00+0000', tz='UTC'), Timestamp('2020-06-02 15:42:00+0000', tz='UTC'), Timestamp('2020-06-02 15:43:00+0000', tz='UTC'), Timestamp('2020-06-10 14:40:00+0000', tz='UTC'), Timestamp('2020-06-15 05:34:00+0000', tz='UTC'), Timestamp('2020-06-15 06:30:00+0000', tz='UTC'), Timestamp('2020-06-17 12:50:00+0000', tz='UTC'), Timestamp('2020-06-18 14:07:00+0000', tz='UTC'), Timestamp('2020-06-18 18:34:00+0000', tz='UTC'), Timestamp('2020-06-19 10:32:00+0000', tz='UTC'), Timestamp('2020-06-23 15:47:00+0000', tz='UTC'), Timestamp('2020-06-23 19:30:00+0000', tz='UTC'), Timestamp('2020-06-24 14:25:00+0000', tz='UTC'), Timestamp('2020-06-24 14:39:00+0000', tz='UTC'), Timestamp('2020-06-30 13:35:00+0000', tz='UTC'), Timestamp('2020-07-06 12:16:00+0000', tz='UTC'), Timestamp('2020-07-06 12:17:00+0000', tz='UTC'), Timestamp('2020-07-06 13:11:00+0000', tz='UTC'), Timestamp('2020-07-06 13:14:00+0000', tz='UTC'), Timestamp('2020-07-06 14:46:00+0000', tz='UTC'), Timestamp('2020-07-06 14:47:00+0000', tz='UTC'), Timestamp('2020-07-06 17:49:00+0000', tz='UTC'), Timestamp('2020-07-06 17:50:00+0000', tz='UTC'), Timestamp('2020-07-06 19:24:00+0000', tz='UTC'), Timestamp('2020-09-09 14:37:00+0000', tz='UTC'), Timestamp('2020-09-09 14:39:00+0000', tz='UTC'), Timestamp('2020-09-09 14:40:00+0000', tz='UTC'), Timestamp('2020-09-11 15:02:00+0000', tz='UTC'), Timestamp('2020-09-11 17:34:00+0000', tz='UTC'), Timestamp('2020-09-16 00:13:00+0000', tz='UTC'), Timestamp('2020-09-16 00:17:00+0000', tz='UTC'), Timestamp('2020-09-16 00:18:00+0000', tz='UTC'), Timestamp('2020-09-16 00:24:00+0000', tz='UTC'), Timestamp('2020-09-16 00:25:00+0000', tz='UTC'), Timestamp('2020-09-16 00:26:00+0000', tz='UTC'), Timestamp('2020-09-21 11:42:00+0000', tz='UTC'), Timestamp('2020-09-23 07:56:00+0000', tz='UTC'), Timestamp('2020-09-23 12:12:00+0000', tz='UTC'), Timestamp('2020-09-23 13:33:00+0000', tz='UTC'), Timestamp('2020-09-24 07:35:00+0000', tz='UTC'), Timestamp('2020-09-24 08:03:00+0000', tz='UTC'), Timestamp('2020-09-28 09:13:00+0000', tz='UTC'), Timestamp('2020-09-28 10:31:00+0000', tz='UTC'), Timestamp('2020-09-29 13:02:00+0000', tz='UTC'), Timestamp('2020-09-29 16:39:00+0000', tz='UTC'), Timestamp('2020-09-29 17:34:00+0000', tz='UTC'), Timestamp('2020-09-30 09:57:00+0000', tz='UTC'), Timestamp('2020-10-19 11:31:00+0000', tz='UTC'), Timestamp('2020-10-20 09:00:00+0000', tz='UTC'), Timestamp('2020-10-22 16:04:00+0000', tz='UTC'), Timestamp('2020-10-27 15:50:00+0000', tz='UTC'), Timestamp('2020-10-30 11:25:00+0000', tz='UTC'), Timestamp('2020-10-30 11:27:00+0000', tz='UTC'), Timestamp('2020-10-30 11:28:00+0000', tz='UTC'), Timestamp('2020-10-30 11:29:00+0000', tz='UTC'), Timestamp('2020-10-30 13:41:00+0000', tz='UTC'), Timestamp('2020-10-30 17:02:00+0000', tz='UTC'), Timestamp('2020-10-30 17:03:00+0000', tz='UTC'), Timestamp('2020-10-30 21:28:00+0000', tz='UTC'), Timestamp('2020-10-30 21:29:00+0000', tz='UTC'), Timestamp('2020-10-30 21:30:00+0000', tz='UTC'), Timestamp('2020-10-30 23:41:00+0000', tz='UTC'), Timestamp('2020-10-30 23:50:00+0000', tz='UTC'), Timestamp('2020-10-31 00:26:00+0000', tz='UTC'), Timestamp('2020-10-31 00:34:00+0000', tz='UTC'), Timestamp('2020-10-31 00:37:00+0000', tz='UTC'), Timestamp('2020-10-31 00:38:00+0000', tz='UTC'), Timestamp('2020-10-31 01:39:00+0000', tz='UTC'), Timestamp('2020-11-16 14:32:00+0000', tz='UTC'), Timestamp('2020-11-17 18:53:00+0000', tz='UTC'), Timestamp('2020-11-19 15:58:00+0000', tz='UTC'), Timestamp('2020-11-20 16:03:00+0000', tz='UTC'), Timestamp('2020-11-24 12:00:00+0000', tz='UTC'), Timestamp('2020-11-24 12:50:00+0000', tz='UTC'), Timestamp('2020-11-24 12:53:00+0000', tz='UTC'), Timestamp('2020-11-24 15:55:00+0000', tz='UTC'), Timestamp('2020-11-26 13:53:00+0000', tz='UTC'), Timestamp('2020-11-26 13:54:00+0000', tz='UTC'), Timestamp('2020-12-07 21:19:00+0000', tz='UTC'), Timestamp('2020-12-10 16:12:00+0000', tz='UTC'), Timestamp('2020-12-13 19:13:00+0000', tz='UTC'), Timestamp('2020-12-14 09:29:00+0000', tz='UTC'), Timestamp('2020-12-22 02:54:00+0000', tz='UTC'), Timestamp('2021-01-01 10:57:00+0000', tz='UTC'), Timestamp('2021-01-02 12:48:00+0000', tz='UTC'), Timestamp('2021-01-02 23:40:00+0000', tz='UTC'), Timestamp('2021-01-05 15:42:00+0000', tz='UTC'), Timestamp('2021-01-06 05:04:00+0000', tz='UTC'), Timestamp('2021-01-06 05:25:00+0000', tz='UTC'), Timestamp('2021-01-06 15:00:00+0000', tz='UTC'), Timestamp('2021-01-08 02:55:00+0000', tz='UTC'), Timestamp('2021-01-09 12:31:00+0000', tz='UTC'), Timestamp('2021-01-10 01:02:00+0000', tz='UTC'), Timestamp('2021-01-10 01:04:00+0000', tz='UTC'), Timestamp('2021-01-10 13:01:00+0000', tz='UTC'), Timestamp('2021-01-10 15:50:00+0000', tz='UTC'), Timestamp('2021-01-10 15:51:00+0000', tz='UTC'), Timestamp('2021-01-10 17:31:00+0000', tz='UTC'), Timestamp('2021-01-10 17:35:00+0000', tz='UTC'), Timestamp('2021-01-13 10:13:00+0000', tz='UTC'), Timestamp('2021-01-13 10:16:00+0000', tz='UTC'), Timestamp('2021-01-18 15:12:00+0000', tz='UTC'), Timestamp('2021-01-18 16:39:00+0000', tz='UTC'), Timestamp('2021-01-18 16:42:00+0000', tz='UTC'), Timestamp('2021-01-18 16:44:00+0000', tz='UTC'), Timestamp('2021-01-19 09:19:00+0000', tz='UTC'), Timestamp('2021-01-19 13:37:00+0000', tz='UTC'), Timestamp('2021-01-20 08:00:00+0000', tz='UTC'), Timestamp('2021-01-20 13:35:00+0000', tz='UTC'), Timestamp('2021-01-20 13:38:00+0000', tz='UTC'), Timestamp('2021-01-21 05:03:00+0000', tz='UTC'), Timestamp('2021-01-21 07:52:00+0000', tz='UTC'), Timestamp('2021-01-21 14:10:00+0000', tz='UTC'), Timestamp('2021-01-21 17:44:00+0000', tz='UTC'), Timestamp('2021-01-22 12:02:00+0000', tz='UTC'), Timestamp('2021-01-23 18:26:00+0000', tz='UTC'), Timestamp('2021-01-23 18:30:00+0000', tz='UTC'), Timestamp('2021-01-24 08:46:00+0000', tz='UTC'), Timestamp('2021-01-24 08:50:00+0000', tz='UTC'), Timestamp('2021-01-26 08:54:00+0000', tz='UTC'), Timestamp('2021-01-26 13:40:00+0000', tz='UTC'), Timestamp('2021-01-26 16:20:00+0000', tz='UTC'), Timestamp('2021-01-26 16:22:00+0000', tz='UTC'), Timestamp('2021-01-27 08:30:00+0000', tz='UTC'), Timestamp('2021-01-28 08:08:00+0000', tz='UTC'), Timestamp('2021-01-29 08:20:00+0000', tz='UTC'), Timestamp('2021-01-30 18:51:00+0000', tz='UTC'), Timestamp('2021-02-03 07:56:00+0000', tz='UTC'), Timestamp('2021-02-04 08:31:00+0000', tz='UTC'), Timestamp('2021-02-05 06:35:00+0000', tz='UTC'), Timestamp('2021-02-05 09:16:00+0000', tz='UTC'), Timestamp('2021-02-05 10:18:00+0000', tz='UTC'), Timestamp('2021-02-08 10:52:00+0000', tz='UTC'), Timestamp('2021-02-08 11:38:00+0000', tz='UTC'), Timestamp('2021-02-13 15:22:00+0000', tz='UTC'), Timestamp('2021-02-13 15:24:00+0000', tz='UTC'), Timestamp('2021-02-13 15:40:00+0000', tz='UTC'), Timestamp('2021-02-13 15:44:00+0000', tz='UTC'), Timestamp('2021-02-17 11:47:00+0000', tz='UTC'), Timestamp('2021-02-17 11:48:00+0000', tz='UTC'), Timestamp('2021-02-17 12:03:00+0000', tz='UTC'), Timestamp('2021-02-17 12:04:00+0000', tz='UTC'), Timestamp('2021-02-21 08:47:00+0000', tz='UTC'), Timestamp('2021-02-21 08:49:00+0000', tz='UTC'), Timestamp('2021-03-19 22:22:00+0000', tz='UTC'), Timestamp('2021-03-19 22:23:00+0000', tz='UTC'), Timestamp('2021-03-19 22:25:00+0000', tz='UTC'), Timestamp('2021-03-20 09:21:00+0000', tz='UTC'), Timestamp('2021-03-20 09:22:00+0000', tz='UTC'), Timestamp('2021-03-20 09:24:00+0000', tz='UTC'), Timestamp('2021-03-20 12:28:00+0000', tz='UTC'), Timestamp('2021-03-20 12:29:00+0000', tz='UTC'), Timestamp('2021-03-20 16:27:00+0000', tz='UTC'), Timestamp('2021-03-20 16:28:00+0000', tz='UTC'), Timestamp('2021-03-20 17:17:00+0000', tz='UTC'), Timestamp('2021-03-20 17:18:00+0000', tz='UTC'), Timestamp('2021-05-21 06:23:00+0000', tz='UTC'), Timestamp('2021-05-21 06:26:00+0000', tz='UTC'), Timestamp('2021-05-21 14:57:00+0000', tz='UTC'), Timestamp('2021-05-21 14:58:00+0000', tz='UTC'), Timestamp('2021-06-07 06:55:00+0000', tz='UTC'), Timestamp('2021-06-07 06:57:00+0000', tz='UTC'), Timestamp('2021-06-07 06:59:00+0000', tz='UTC'), Timestamp('2021-08-27 14:25:00+0000', tz='UTC'), Timestamp('2021-08-31 07:33:00+0000', tz='UTC'), Timestamp('2021-08-31 12:44:00+0000', tz='UTC'), Timestamp('2021-08-31 12:46:00+0000', tz='UTC'), Timestamp('2021-08-31 12:47:00+0000', tz='UTC'), Timestamp('2021-08-31 15:34:00+0000', tz='UTC'), Timestamp('2021-09-08 19:18:00+0000', tz='UTC'), Timestamp('2021-09-08 19:20:00+0000', tz='UTC'), Timestamp('2021-09-10 17:06:00+0000', tz='UTC'), Timestamp('2021-09-11 17:20:00+0000', tz='UTC'), Timestamp('2021-09-12 06:28:00+0000', tz='UTC'), Timestamp('2021-09-15 16:35:00+0000', tz='UTC'), Timestamp('2021-09-16 12:36:00+0000', tz='UTC'), Timestamp('2021-09-17 13:38:00+0000', tz='UTC'), Timestamp('2021-09-17 19:58:00+0000', tz='UTC'), Timestamp('2021-09-17 20:00:00+0000', tz='UTC'), Timestamp('2021-09-17 20:38:00+0000', tz='UTC'), Timestamp('2022-01-24 11:45:00+0000', tz='UTC'), Timestamp('2022-01-24 11:48:00+0000', tz='UTC'), Timestamp('2022-05-10 15:30:00+0000', tz='UTC'), Timestamp('2022-05-10 15:44:00+0000', tz='UTC'), Timestamp('2022-06-15 11:06:00+0000', tz='UTC'), Timestamp('2022-06-15 11:10:00+0000', tz='UTC'), Timestamp('2022-06-16 13:53:00+0000', tz='UTC'), Timestamp('2022-06-24 09:05:00+0000', tz='UTC'), Timestamp('2022-06-24 16:26:00+0000', tz='UTC'), Timestamp('2022-06-28 19:42:00+0000', tz='UTC'), Timestamp('2022-06-28 19:43:00+0000', tz='UTC'), Timestamp('2022-07-22 07:37:00+0000', tz='UTC'), Timestamp('2022-09-20 07:40:00+0000', tz='UTC'), Timestamp('2022-09-20 07:42:00+0000', tz='UTC'), Timestamp('2022-09-20 07:45:00+0000', tz='UTC'), Timestamp('2023-02-06 12:47:00+0000', tz='UTC'), Timestamp('2023-02-06 12:48:00+0000', tz='UTC'), Timestamp('2023-02-06 12:50:00+0000', tz='UTC'), Timestamp('2023-02-07 13:03:00+0000', tz='UTC'), Timestamp('2023-02-07 13:04:00+0000', tz='UTC'), Timestamp('2023-02-07 13:06:00+0000', tz='UTC'), Timestamp('2023-04-24 07:04:00+0000', tz='UTC'), Timestamp('2023-04-24 07:05:00+0000', tz='UTC'), Timestamp('2023-04-24 07:07:00+0000', tz='UTC'), Timestamp('2023-04-24 08:19:00+0000', tz='UTC'), Timestamp('2023-04-24 08:20:00+0000', tz='UTC'), Timestamp('2023-04-24 08:21:00+0000', tz='UTC'), Timestamp('2023-04-24 10:26:00+0000', tz='UTC'), Timestamp('2023-04-24 10:27:00+0000', tz='UTC'), Timestamp('2023-04-24 10:28:00+0000', tz='UTC'), Timestamp('2023-04-25 08:20:00+0000', tz='UTC'), Timestamp('2023-04-25 08:21:00+0000', tz='UTC'), Timestamp('2023-04-25 08:22:00+0000', tz='UTC'), Timestamp('2023-07-17 10:42:04+0000', tz='UTC'), Timestamp('2023-07-18 14:12:03+0000', tz='UTC'), Timestamp('2023-07-18 14:12:04+0000', tz='UTC'), Timestamp('2023-07-20 03:06:40+0000', tz='UTC'), Timestamp('2023-07-21 07:30:07+0000', tz='UTC'), Timestamp('2023-07-23 07:18:03+0000', tz='UTC'), Timestamp('2023-07-24 07:00:04+0000', tz='UTC'), Timestamp('2023-07-24 11:00:04+0000', tz='UTC'), Timestamp('2023-07-25 12:12:06+0000', tz='UTC'), Timestamp('2023-07-25 14:35:35+0000', tz='UTC'), Timestamp('2023-07-25 16:24:05+0000', tz='UTC'), Timestamp('2023-07-26 11:42:03+0000', tz='UTC'), Timestamp('2023-07-26 13:00:06+0000', tz='UTC'), Timestamp('2023-07-27 12:30:06+0000', tz='UTC'), Timestamp('2024-01-19 08:06:03+0000', tz='UTC'), Timestamp('2024-01-19 13:12:03+0000', tz='UTC'), Timestamp('2024-01-19 17:06:03+0000', tz='UTC'), Timestamp('2024-01-20 01:00:03+0000', tz='UTC'), Timestamp('2024-01-20 09:39:03+0000', tz='UTC'), Timestamp('2024-01-20 09:45:02+0000', tz='UTC'), Timestamp('2024-01-22 22:52:02+0000', tz='UTC'), Timestamp('2024-01-23 09:46:01+0000', tz='UTC'), Timestamp('2024-01-23 11:34:01+0000', tz='UTC'), Timestamp('2024-01-23 14:16:01+0000', tz='UTC'), Timestamp('2024-01-23 18:28:01+0000', tz='UTC'), Timestamp('2024-01-23 18:34:01+0000', tz='UTC'), Timestamp('2024-01-24 20:16:01+0000', tz='UTC'), Timestamp('2024-01-25 00:04:01+0000', tz='UTC'), Timestamp('2024-01-26 18:16:01+0000', tz='UTC'), Timestamp('2024-01-27 04:40:02+0000', tz='UTC'), Timestamp('2024-01-27 17:28:01+0000', tz='UTC'), Timestamp('2024-01-28 10:10:01+0000', tz='UTC'), Timestamp('2024-01-28 11:40:02+0000', tz='UTC'), Timestamp('2024-01-28 13:34:01+0000', tz='UTC'), Timestamp('2024-01-29 02:16:02+0000', tz='UTC'), Timestamp('2024-01-29 02:34:01+0000', tz='UTC'), Timestamp('2024-01-30 09:22:01+0000', tz='UTC'), Timestamp('2024-01-30 12:28:01+0000', tz='UTC'), Timestamp('2024-02-13 18:04:01+0000', tz='UTC'), Timestamp('2024-02-13 18:10:01+0000', tz='UTC'), Timestamp('2024-02-21 14:58:01+0000', tz='UTC'), Timestamp('2024-02-23 17:46:00+0000', tz='UTC'), Timestamp('2024-02-23 19:34:01+0000', tz='UTC'), Timestamp('2024-02-23 21:22:01+0000', tz='UTC'), Timestamp('2024-02-24 11:37:01+0000', tz='UTC'), Timestamp('2024-02-24 14:43:01+0000', tz='UTC'), Timestamp('2024-02-25 06:55:01+0000', tz='UTC'), Timestamp('2024-02-25 21:07:01+0000', tz='UTC'), Timestamp('2024-02-25 21:37:00+0000', tz='UTC'), Timestamp('2024-02-26 01:13:01+0000', tz='UTC'), Timestamp('2024-02-26 05:19:01+0000', tz='UTC'), Timestamp('2024-03-28 14:20:28+0000', tz='UTC'), Timestamp('2024-03-28 14:20:29+0000', tz='UTC'), Timestamp('2024-04-29 08:34:17+0000', tz='UTC'), Timestamp('2024-04-29 08:40:18+0000', tz='UTC'), Timestamp('2024-04-30 09:10:15+0000', tz='UTC'), Timestamp('2024-04-30 09:16:15+0000', tz='UTC'), Timestamp('2024-05-01 11:07:41+0000', tz='UTC'), Timestamp('2024-05-01 11:13:40+0000', tz='UTC'), Timestamp('2024-05-02 07:13:35+0000', tz='UTC'), Timestamp('2024-05-02 07:19:37+0000', tz='UTC'), Timestamp('2024-05-03 07:06:32+0000', tz='UTC'), Timestamp('2024-05-03 07:06:33+0000', tz='UTC'), Timestamp('2024-05-03 14:24:34+0000', tz='UTC'), Timestamp('2024-05-04 15:54:35+0000', tz='UTC'), Timestamp('2024-05-04 16:00:36+0000', tz='UTC'), Timestamp('2024-05-09 06:06:41+0000', tz='UTC'), Timestamp('2024-05-20 15:01:07+0000', tz='UTC'), Timestamp('2024-05-21 08:43:01+0000', tz='UTC'), Timestamp('2024-05-23 09:13:08+0000', tz='UTC'), Timestamp('2024-05-24 08:19:06+0000', tz='UTC'), Timestamp('2024-05-24 16:25:06+0000', tz='UTC'), Timestamp('2024-05-24 16:25:07+0000', tz='UTC'), Timestamp('2024-05-25 09:25:05+0000', tz='UTC'), Timestamp('2024-05-25 09:25:07+0000', tz='UTC'), Timestamp('2024-05-27 15:43:17+0000', tz='UTC'), Timestamp('2024-05-28 15:37:03+0000', tz='UTC'), Timestamp('2024-05-28 22:07:07+0000', tz='UTC'), Timestamp('2024-05-30 07:38:30+0000', tz='UTC'), Timestamp('2024-05-30 15:20:38+0000', tz='UTC'), Timestamp('2024-05-31 07:26:26+0000', tz='UTC'), Timestamp('2024-05-31 07:32:27+0000', tz='UTC'), Timestamp('2024-05-31 14:32:32+0000', tz='UTC'), Timestamp('2024-06-01 22:38:39+0000', tz='UTC'), Timestamp('2024-06-03 11:26:34+0000', tz='UTC'), Timestamp('2024-06-04 09:56:33+0000', tz='UTC'), Timestamp('2024-06-11 08:01:35+0000', tz='UTC'), Timestamp('2024-06-11 08:01:36+0000', tz='UTC'), Timestamp('2024-06-11 08:07:36+0000', tz='UTC'), Timestamp('2024-06-11 08:37:27+0000', tz='UTC'), Timestamp('2024-06-11 08:37:28+0000', tz='UTC'), Timestamp('2024-06-12 13:19:28+0000', tz='UTC'), Timestamp('2024-06-13 16:31:37+0000', tz='UTC'), Timestamp('2024-06-13 16:31:50+0000', tz='UTC'), Timestamp('2024-06-13 16:31:51+0000', tz='UTC'), Timestamp('2024-06-13 18:37:32+0000', tz='UTC'), Timestamp('2024-06-19 11:46:30+0000', tz='UTC'), Timestamp('2024-06-19 11:52:33+0000', tz='UTC'), Timestamp('2024-08-27 14:17:57+0000', tz='UTC'), Timestamp('2024-08-27 14:18:00+0000', tz='UTC'), Timestamp('2024-08-27 14:23:58+0000', tz='UTC'), Timestamp('2024-09-18 09:21:34+0000', tz='UTC'), Timestamp('2024-09-18 09:27:49+0000', tz='UTC'), Timestamp('2024-09-18 18:03:30+0000', tz='UTC'), Timestamp('2024-09-18 18:09:32+0000', tz='UTC'), Timestamp('2024-09-19 02:27:27+0000', tz='UTC'), Timestamp('2024-09-19 08:33:30+0000', tz='UTC'), Timestamp('2024-09-19 08:39:31+0000', tz='UTC'), Timestamp('2024-09-20 11:51:24+0000', tz='UTC'), Timestamp('2024-09-26 09:57:50+0000', tz='UTC'), Timestamp('2024-09-26 09:58:03+0000', tz='UTC'), Timestamp('2024-09-29 16:45:46+0000', tz='UTC'), Timestamp('2024-09-29 16:51:48+0000', tz='UTC'), Timestamp('2024-09-29 19:03:50+0000', tz='UTC'), Timestamp('2024-09-29 19:09:55+0000', tz='UTC')]\n"
     ]
    },
    {
     "data": {
      "text/plain": [
       "publishTime\n",
       "2024-06-12 13:19:28+00:00    3\n",
       "2024-06-13 18:37:32+00:00    3\n",
       "2020-10-30 13:41:00+00:00    3\n",
       "2023-07-17 10:42:04+00:00    3\n",
       "2024-01-30 09:22:01+00:00    3\n",
       "                            ..\n",
       "2020-02-28 13:14:00+00:00    1\n",
       "2020-02-28 13:18:00+00:00    1\n",
       "2020-03-04 23:16:00+00:00    1\n",
       "2020-03-04 23:22:00+00:00    1\n",
       "2020-01-31 13:04:00+00:00    1\n",
       "Name: id, Length: 403, dtype: int64"
      ]
     },
     "execution_count": 86,
     "metadata": {},
     "output_type": "execute_result"
    }
   ],
   "source": [
    "# Gruppiere den DataFrame 'df' nach 'publishTime' und zähle die Anzahl der 'id'-Einträge in jeder Gruppe\n",
    "df_publishTime = df.groupby(['publishTime'])['id'].count()\n",
    "\n",
    "# Gebe die Liste der 'publishTime'-Indizes aus\n",
    "print(df_publishTime.index.tolist())\n",
    "\n",
    "# Sortiere die Ergebnisse in absteigender Reihenfolge\n",
    "df_publishTime.sort_values(ascending=False)\n"
   ]
  },
  {
   "cell_type": "code",
   "execution_count": 87,
   "metadata": {},
   "outputs": [
    {
     "data": {
      "text/plain": [
       "id\n",
       "788801    1\n",
       "788800    1\n",
       "788392    1\n",
       "788391    1\n",
       "783622    1\n",
       "         ..\n",
       "19648     1\n",
       "788816    1\n",
       "788818    1\n",
       "788819    1\n",
       "17114     1\n",
       "Name: dataset, Length: 436, dtype: int64"
      ]
     },
     "execution_count": 87,
     "metadata": {},
     "output_type": "execute_result"
    }
   ],
   "source": [
    "# Jede ID kommt nur einmal im Datensatz vor\n",
    "\n",
    "# Gruppiere den DataFrame 'df' nach 'id' und zähle die Anzahl der 'dataset'-Einträge in jeder Gruppe\n",
    "df_id = df.groupby(['id'])['dataset'].count()\n",
    "\n",
    "# Sortiere die Ergebnisse in aufsteigender Reihenfolge\n",
    "df_id.sort_values()"
   ]
  },
  {
   "cell_type": "code",
   "execution_count": 88,
   "metadata": {},
   "outputs": [
    {
     "data": {
      "text/plain": [
       "dataset\n",
       "REMIT    436\n",
       "Name: id, dtype: int64"
      ]
     },
     "execution_count": 88,
     "metadata": {},
     "output_type": "execute_result"
    }
   ],
   "source": [
    "# In dieser Spalte ist nur  REMIT\n",
    "\n",
    "# Gruppiere nach 'dataset' und zähle 'id'\n",
    "df_dataset = df.groupby(['dataset'])['id'].count()\n",
    "df_dataset"
   ]
  },
  {
   "cell_type": "code",
   "execution_count": 89,
   "metadata": {},
   "outputs": [
    {
     "data": {
      "text/plain": [
       "mrid\n",
       "11XDONG-PT-----2-NGET-RMT-00000825    15\n",
       "11XDONG-PT-----2-NGET-RMT-00000828     2\n",
       "11XDONG-PT-----2-NGET-RMT-00000831    14\n",
       "11XDONG-PT-----2-NGET-RMT-00000833     2\n",
       "11XDONG-PT-----2-NGET-RMT-00000843     2\n",
       "                                      ..\n",
       "11XDONG-PT-----2-NGET-RMT-00002046     3\n",
       "11XDONG-PT-----2-NGET-RMT-00002048     3\n",
       "11XDONG-PT-----2-NGET-RMT-00002055     2\n",
       "11XDONG-PT-----2-NGET-RMT-00002057     2\n",
       "11XDONG-PT-----2-NGET-RMT-00002059     2\n",
       "Name: id, Length: 151, dtype: int64"
      ]
     },
     "execution_count": 89,
     "metadata": {},
     "output_type": "execute_result"
    }
   ],
   "source": [
    "# Gruppiere nach 'mrid' und zähle 'id'\n",
    "df_mrid = df.groupby(['mrid'])['id'].count()\n",
    "df_mrid"
   ]
  },
  {
   "cell_type": "code",
   "execution_count": 90,
   "metadata": {},
   "outputs": [
    {
     "name": "stdout",
     "output_type": "stream",
     "text": [
      "[1, 2, 3, 4, 5, 6, 7, 8, 9, 10, 11, 12, 13, 14, 15, 16, 17, 18, 19, 20, 21, 22, 23, 24]\n"
     ]
    },
    {
     "data": {
      "text/plain": [
       "revisionNumber\n",
       "1     151\n",
       "2     109\n",
       "3      51\n",
       "4      30\n",
       "5      16\n",
       "6      11\n",
       "7       9\n",
       "8       7\n",
       "9       7\n",
       "10      6\n",
       "11      6\n",
       "12      6\n",
       "13      6\n",
       "14      5\n",
       "15      4\n",
       "16      2\n",
       "17      2\n",
       "18      2\n",
       "19      1\n",
       "20      1\n",
       "21      1\n",
       "22      1\n",
       "23      1\n",
       "24      1\n",
       "Name: id, dtype: int64"
      ]
     },
     "execution_count": 90,
     "metadata": {},
     "output_type": "execute_result"
    }
   ],
   "source": [
    "# Gruppiere nach 'revisionNumber' und zähle 'id'\n",
    "df_revisionNumber = df.groupby(['revisionNumber'])['id'].count()\n",
    "\n",
    "# Liste der eindeutigen 'revisionNumber'-Werte ausgibt\n",
    "print(df_revisionNumber.index.tolist())\n",
    "df_revisionNumber"
   ]
  },
  {
   "cell_type": "code",
   "execution_count": 91,
   "metadata": {},
   "outputs": [
    {
     "name": "stdout",
     "output_type": "stream",
     "text": [
      "[Timestamp('2020-01-29 15:52:00+0000', tz='UTC'), Timestamp('2020-01-31 13:04:00+0000', tz='UTC'), Timestamp('2020-02-02 06:40:00+0000', tz='UTC'), Timestamp('2020-02-02 07:11:00+0000', tz='UTC'), Timestamp('2020-02-02 08:44:00+0000', tz='UTC'), Timestamp('2020-02-03 11:19:00+0000', tz='UTC'), Timestamp('2020-02-06 11:03:00+0000', tz='UTC'), Timestamp('2020-02-10 18:21:00+0000', tz='UTC'), Timestamp('2020-02-13 11:06:00+0000', tz='UTC'), Timestamp('2020-02-14 09:43:00+0000', tz='UTC'), Timestamp('2020-02-15 15:06:00+0000', tz='UTC'), Timestamp('2020-02-17 15:05:00+0000', tz='UTC'), Timestamp('2020-02-24 10:50:00+0000', tz='UTC'), Timestamp('2020-02-25 14:39:00+0000', tz='UTC'), Timestamp('2020-02-28 13:14:00+0000', tz='UTC'), Timestamp('2020-02-28 13:18:00+0000', tz='UTC'), Timestamp('2020-03-04 23:16:00+0000', tz='UTC'), Timestamp('2020-03-04 23:22:00+0000', tz='UTC'), Timestamp('2020-03-05 15:02:00+0000', tz='UTC'), Timestamp('2020-03-06 12:51:00+0000', tz='UTC'), Timestamp('2020-03-06 19:33:00+0000', tz='UTC'), Timestamp('2020-03-09 08:56:00+0000', tz='UTC'), Timestamp('2020-03-12 06:38:00+0000', tz='UTC'), Timestamp('2020-03-12 18:56:00+0000', tz='UTC'), Timestamp('2020-03-13 09:36:00+0000', tz='UTC'), Timestamp('2020-03-13 14:36:00+0000', tz='UTC'), Timestamp('2020-03-14 06:32:00+0000', tz='UTC'), Timestamp('2020-03-14 11:41:00+0000', tz='UTC'), Timestamp('2020-03-19 06:32:00+0000', tz='UTC'), Timestamp('2020-03-20 10:22:00+0000', tz='UTC'), Timestamp('2020-03-24 09:36:00+0000', tz='UTC'), Timestamp('2020-03-24 15:46:00+0000', tz='UTC'), Timestamp('2020-03-27 15:35:00+0000', tz='UTC'), Timestamp('2020-03-30 13:53:00+0000', tz='UTC'), Timestamp('2020-04-02 08:52:00+0000', tz='UTC'), Timestamp('2020-04-02 16:13:00+0000', tz='UTC'), Timestamp('2020-04-03 01:16:00+0000', tz='UTC'), Timestamp('2020-04-03 08:02:00+0000', tz='UTC'), Timestamp('2020-04-03 10:30:00+0000', tz='UTC'), Timestamp('2020-04-04 14:55:00+0000', tz='UTC'), Timestamp('2020-04-04 14:58:00+0000', tz='UTC'), Timestamp('2020-04-06 15:51:00+0000', tz='UTC'), Timestamp('2020-04-07 07:28:00+0000', tz='UTC'), Timestamp('2020-04-07 13:39:00+0000', tz='UTC'), Timestamp('2020-04-08 13:28:00+0000', tz='UTC'), Timestamp('2020-04-18 18:59:00+0000', tz='UTC'), Timestamp('2020-04-18 23:51:00+0000', tz='UTC'), Timestamp('2020-04-19 00:02:00+0000', tz='UTC'), Timestamp('2020-04-19 09:35:00+0000', tz='UTC'), Timestamp('2020-04-20 09:01:00+0000', tz='UTC'), Timestamp('2020-04-20 17:40:00+0000', tz='UTC'), Timestamp('2020-04-20 17:42:00+0000', tz='UTC'), Timestamp('2020-04-21 09:36:00+0000', tz='UTC'), Timestamp('2020-04-21 10:08:00+0000', tz='UTC'), Timestamp('2020-04-21 10:09:00+0000', tz='UTC'), Timestamp('2020-04-21 10:10:00+0000', tz='UTC'), Timestamp('2020-04-21 10:48:00+0000', tz='UTC'), Timestamp('2020-04-21 11:00:00+0000', tz='UTC'), Timestamp('2020-04-21 11:01:00+0000', tz='UTC'), Timestamp('2020-04-21 12:56:00+0000', tz='UTC'), Timestamp('2020-04-21 13:02:00+0000', tz='UTC'), Timestamp('2020-04-21 13:03:00+0000', tz='UTC'), Timestamp('2020-04-24 15:53:00+0000', tz='UTC'), Timestamp('2020-04-26 11:42:00+0000', tz='UTC'), Timestamp('2020-05-01 16:51:00+0000', tz='UTC'), Timestamp('2020-05-01 16:53:00+0000', tz='UTC'), Timestamp('2020-05-03 17:43:00+0000', tz='UTC'), Timestamp('2020-05-22 23:28:00+0000', tz='UTC'), Timestamp('2020-05-23 00:08:00+0000', tz='UTC'), Timestamp('2020-05-29 13:48:00+0000', tz='UTC'), Timestamp('2020-05-29 13:49:00+0000', tz='UTC'), Timestamp('2020-05-29 14:00:00+0000', tz='UTC'), Timestamp('2020-05-30 13:55:00+0000', tz='UTC'), Timestamp('2020-05-30 13:56:00+0000', tz='UTC'), Timestamp('2020-06-01 16:01:00+0000', tz='UTC'), Timestamp('2020-06-01 16:02:00+0000', tz='UTC'), Timestamp('2020-06-02 15:42:00+0000', tz='UTC'), Timestamp('2020-06-02 15:43:00+0000', tz='UTC'), Timestamp('2020-06-10 14:40:00+0000', tz='UTC'), Timestamp('2020-06-15 05:34:00+0000', tz='UTC'), Timestamp('2020-06-15 06:30:00+0000', tz='UTC'), Timestamp('2020-06-17 12:50:00+0000', tz='UTC'), Timestamp('2020-06-18 14:07:00+0000', tz='UTC'), Timestamp('2020-06-18 18:34:00+0000', tz='UTC'), Timestamp('2020-06-19 10:32:00+0000', tz='UTC'), Timestamp('2020-06-23 15:47:00+0000', tz='UTC'), Timestamp('2020-06-23 19:30:00+0000', tz='UTC'), Timestamp('2020-06-24 14:25:00+0000', tz='UTC'), Timestamp('2020-06-24 14:39:00+0000', tz='UTC'), Timestamp('2020-06-30 13:35:00+0000', tz='UTC'), Timestamp('2020-07-06 12:16:00+0000', tz='UTC'), Timestamp('2020-07-06 12:17:00+0000', tz='UTC'), Timestamp('2020-07-06 13:11:00+0000', tz='UTC'), Timestamp('2020-07-06 13:14:00+0000', tz='UTC'), Timestamp('2020-07-06 14:46:00+0000', tz='UTC'), Timestamp('2020-07-06 14:47:00+0000', tz='UTC'), Timestamp('2020-07-06 17:49:00+0000', tz='UTC'), Timestamp('2020-07-06 17:50:00+0000', tz='UTC'), Timestamp('2020-07-06 19:24:00+0000', tz='UTC'), Timestamp('2020-09-09 14:37:00+0000', tz='UTC'), Timestamp('2020-09-09 14:39:00+0000', tz='UTC'), Timestamp('2020-09-09 14:40:00+0000', tz='UTC'), Timestamp('2020-09-11 15:02:00+0000', tz='UTC'), Timestamp('2020-09-11 17:34:00+0000', tz='UTC'), Timestamp('2020-09-16 00:13:00+0000', tz='UTC'), Timestamp('2020-09-16 00:17:00+0000', tz='UTC'), Timestamp('2020-09-16 00:18:00+0000', tz='UTC'), Timestamp('2020-09-16 00:24:00+0000', tz='UTC'), Timestamp('2020-09-16 00:25:00+0000', tz='UTC'), Timestamp('2020-09-16 00:26:00+0000', tz='UTC'), Timestamp('2020-09-21 11:42:00+0000', tz='UTC'), Timestamp('2020-09-23 07:56:00+0000', tz='UTC'), Timestamp('2020-09-23 12:12:00+0000', tz='UTC'), Timestamp('2020-09-23 13:33:00+0000', tz='UTC'), Timestamp('2020-09-24 07:35:00+0000', tz='UTC'), Timestamp('2020-09-24 08:03:00+0000', tz='UTC'), Timestamp('2020-09-28 09:13:00+0000', tz='UTC'), Timestamp('2020-09-28 10:31:00+0000', tz='UTC'), Timestamp('2020-09-29 13:02:00+0000', tz='UTC'), Timestamp('2020-09-29 16:39:00+0000', tz='UTC'), Timestamp('2020-09-29 17:34:00+0000', tz='UTC'), Timestamp('2020-09-30 09:57:00+0000', tz='UTC'), Timestamp('2020-10-19 11:31:00+0000', tz='UTC'), Timestamp('2020-10-20 09:00:00+0000', tz='UTC'), Timestamp('2020-10-22 16:04:00+0000', tz='UTC'), Timestamp('2020-10-27 15:50:00+0000', tz='UTC'), Timestamp('2020-10-30 11:25:00+0000', tz='UTC'), Timestamp('2020-10-30 11:27:00+0000', tz='UTC'), Timestamp('2020-10-30 11:28:00+0000', tz='UTC'), Timestamp('2020-10-30 11:29:00+0000', tz='UTC'), Timestamp('2020-10-30 13:41:00+0000', tz='UTC'), Timestamp('2020-10-30 17:02:00+0000', tz='UTC'), Timestamp('2020-10-30 17:03:00+0000', tz='UTC'), Timestamp('2020-10-30 21:28:00+0000', tz='UTC'), Timestamp('2020-10-30 21:29:00+0000', tz='UTC'), Timestamp('2020-10-30 21:30:00+0000', tz='UTC'), Timestamp('2020-10-30 23:41:00+0000', tz='UTC'), Timestamp('2020-10-30 23:50:00+0000', tz='UTC'), Timestamp('2020-10-31 00:26:00+0000', tz='UTC'), Timestamp('2020-10-31 00:34:00+0000', tz='UTC'), Timestamp('2020-10-31 00:37:00+0000', tz='UTC'), Timestamp('2020-10-31 00:38:00+0000', tz='UTC'), Timestamp('2020-10-31 01:39:00+0000', tz='UTC'), Timestamp('2020-11-16 14:32:00+0000', tz='UTC'), Timestamp('2020-11-17 18:53:00+0000', tz='UTC'), Timestamp('2020-11-19 15:58:00+0000', tz='UTC'), Timestamp('2020-11-20 16:03:00+0000', tz='UTC'), Timestamp('2020-11-24 12:00:00+0000', tz='UTC'), Timestamp('2020-11-24 12:50:00+0000', tz='UTC'), Timestamp('2020-11-24 12:53:00+0000', tz='UTC'), Timestamp('2020-11-24 15:55:00+0000', tz='UTC'), Timestamp('2020-11-26 13:53:00+0000', tz='UTC'), Timestamp('2020-11-26 13:54:00+0000', tz='UTC'), Timestamp('2020-12-07 21:19:00+0000', tz='UTC'), Timestamp('2020-12-10 16:12:00+0000', tz='UTC'), Timestamp('2020-12-13 19:13:00+0000', tz='UTC'), Timestamp('2020-12-14 09:29:00+0000', tz='UTC'), Timestamp('2020-12-22 02:54:00+0000', tz='UTC'), Timestamp('2021-01-01 10:57:00+0000', tz='UTC'), Timestamp('2021-01-02 12:48:00+0000', tz='UTC'), Timestamp('2021-01-02 23:40:00+0000', tz='UTC'), Timestamp('2021-01-05 15:42:00+0000', tz='UTC'), Timestamp('2021-01-06 05:04:00+0000', tz='UTC'), Timestamp('2021-01-06 05:25:00+0000', tz='UTC'), Timestamp('2021-01-06 15:00:00+0000', tz='UTC'), Timestamp('2021-01-08 02:55:00+0000', tz='UTC'), Timestamp('2021-01-09 12:31:00+0000', tz='UTC'), Timestamp('2021-01-10 01:02:00+0000', tz='UTC'), Timestamp('2021-01-10 01:04:00+0000', tz='UTC'), Timestamp('2021-01-10 13:01:00+0000', tz='UTC'), Timestamp('2021-01-10 15:50:00+0000', tz='UTC'), Timestamp('2021-01-10 15:51:00+0000', tz='UTC'), Timestamp('2021-01-10 17:31:00+0000', tz='UTC'), Timestamp('2021-01-10 17:35:00+0000', tz='UTC'), Timestamp('2021-01-13 10:13:00+0000', tz='UTC'), Timestamp('2021-01-13 10:16:00+0000', tz='UTC'), Timestamp('2021-01-18 15:12:00+0000', tz='UTC'), Timestamp('2021-01-18 16:39:00+0000', tz='UTC'), Timestamp('2021-01-18 16:42:00+0000', tz='UTC'), Timestamp('2021-01-18 16:44:00+0000', tz='UTC'), Timestamp('2021-01-19 09:19:00+0000', tz='UTC'), Timestamp('2021-01-19 13:37:00+0000', tz='UTC'), Timestamp('2021-01-20 08:00:00+0000', tz='UTC'), Timestamp('2021-01-20 13:35:00+0000', tz='UTC'), Timestamp('2021-01-20 13:38:00+0000', tz='UTC'), Timestamp('2021-01-21 05:03:00+0000', tz='UTC'), Timestamp('2021-01-21 07:52:00+0000', tz='UTC'), Timestamp('2021-01-21 14:10:00+0000', tz='UTC'), Timestamp('2021-01-21 17:44:00+0000', tz='UTC'), Timestamp('2021-01-22 12:02:00+0000', tz='UTC'), Timestamp('2021-01-23 18:26:00+0000', tz='UTC'), Timestamp('2021-01-23 18:30:00+0000', tz='UTC'), Timestamp('2021-01-24 08:46:00+0000', tz='UTC'), Timestamp('2021-01-24 08:50:00+0000', tz='UTC'), Timestamp('2021-01-26 08:54:00+0000', tz='UTC'), Timestamp('2021-01-26 13:40:00+0000', tz='UTC'), Timestamp('2021-01-26 16:20:00+0000', tz='UTC'), Timestamp('2021-01-26 16:22:00+0000', tz='UTC'), Timestamp('2021-01-27 08:30:00+0000', tz='UTC'), Timestamp('2021-01-28 08:08:00+0000', tz='UTC'), Timestamp('2021-01-29 08:20:00+0000', tz='UTC'), Timestamp('2021-01-30 18:51:00+0000', tz='UTC'), Timestamp('2021-02-03 07:56:00+0000', tz='UTC'), Timestamp('2021-02-04 08:31:00+0000', tz='UTC'), Timestamp('2021-02-05 06:35:00+0000', tz='UTC'), Timestamp('2021-02-05 09:16:00+0000', tz='UTC'), Timestamp('2021-02-05 10:18:00+0000', tz='UTC'), Timestamp('2021-02-08 10:52:00+0000', tz='UTC'), Timestamp('2021-02-08 11:38:00+0000', tz='UTC'), Timestamp('2021-02-13 15:22:00+0000', tz='UTC'), Timestamp('2021-02-13 15:24:00+0000', tz='UTC'), Timestamp('2021-02-13 15:40:00+0000', tz='UTC'), Timestamp('2021-02-13 15:44:00+0000', tz='UTC'), Timestamp('2021-02-17 11:47:00+0000', tz='UTC'), Timestamp('2021-02-17 11:48:00+0000', tz='UTC'), Timestamp('2021-02-17 12:03:00+0000', tz='UTC'), Timestamp('2021-02-17 12:04:00+0000', tz='UTC'), Timestamp('2021-02-21 08:47:00+0000', tz='UTC'), Timestamp('2021-02-21 08:49:00+0000', tz='UTC'), Timestamp('2021-03-19 22:22:00+0000', tz='UTC'), Timestamp('2021-03-19 22:23:00+0000', tz='UTC'), Timestamp('2021-03-19 22:25:00+0000', tz='UTC'), Timestamp('2021-03-20 09:21:00+0000', tz='UTC'), Timestamp('2021-03-20 09:22:00+0000', tz='UTC'), Timestamp('2021-03-20 09:24:00+0000', tz='UTC'), Timestamp('2021-03-20 12:28:00+0000', tz='UTC'), Timestamp('2021-03-20 12:29:00+0000', tz='UTC'), Timestamp('2021-03-20 16:27:00+0000', tz='UTC'), Timestamp('2021-03-20 16:28:00+0000', tz='UTC'), Timestamp('2021-03-20 17:17:00+0000', tz='UTC'), Timestamp('2021-03-20 17:18:00+0000', tz='UTC'), Timestamp('2021-05-21 06:23:00+0000', tz='UTC'), Timestamp('2021-05-21 06:26:00+0000', tz='UTC'), Timestamp('2021-05-21 14:57:00+0000', tz='UTC'), Timestamp('2021-05-21 14:58:00+0000', tz='UTC'), Timestamp('2021-06-07 06:55:00+0000', tz='UTC'), Timestamp('2021-06-07 06:57:00+0000', tz='UTC'), Timestamp('2021-06-07 06:59:00+0000', tz='UTC'), Timestamp('2021-08-27 14:25:00+0000', tz='UTC'), Timestamp('2021-08-31 07:33:00+0000', tz='UTC'), Timestamp('2021-08-31 12:44:00+0000', tz='UTC'), Timestamp('2021-08-31 12:46:00+0000', tz='UTC'), Timestamp('2021-08-31 12:47:00+0000', tz='UTC'), Timestamp('2021-08-31 15:34:00+0000', tz='UTC'), Timestamp('2021-09-08 19:18:00+0000', tz='UTC'), Timestamp('2021-09-08 19:20:00+0000', tz='UTC'), Timestamp('2021-09-10 17:06:00+0000', tz='UTC'), Timestamp('2021-09-11 17:20:00+0000', tz='UTC'), Timestamp('2021-09-12 06:28:00+0000', tz='UTC'), Timestamp('2021-09-15 16:35:00+0000', tz='UTC'), Timestamp('2021-09-16 12:36:00+0000', tz='UTC'), Timestamp('2021-09-17 13:38:00+0000', tz='UTC'), Timestamp('2021-09-17 19:58:00+0000', tz='UTC'), Timestamp('2021-09-17 20:00:00+0000', tz='UTC'), Timestamp('2021-09-17 20:38:00+0000', tz='UTC'), Timestamp('2022-01-24 11:45:00+0000', tz='UTC'), Timestamp('2022-01-24 11:48:00+0000', tz='UTC'), Timestamp('2022-05-10 15:30:00+0000', tz='UTC'), Timestamp('2022-05-10 15:44:00+0000', tz='UTC'), Timestamp('2022-06-15 11:06:00+0000', tz='UTC'), Timestamp('2022-06-15 11:10:00+0000', tz='UTC'), Timestamp('2022-06-16 13:53:00+0000', tz='UTC'), Timestamp('2022-06-24 09:05:00+0000', tz='UTC'), Timestamp('2022-06-24 16:26:00+0000', tz='UTC'), Timestamp('2022-06-28 19:42:00+0000', tz='UTC'), Timestamp('2022-06-28 19:43:00+0000', tz='UTC'), Timestamp('2022-07-22 07:37:00+0000', tz='UTC'), Timestamp('2022-09-20 07:40:00+0000', tz='UTC'), Timestamp('2022-09-20 07:42:00+0000', tz='UTC'), Timestamp('2022-09-20 07:45:00+0000', tz='UTC'), Timestamp('2023-02-06 12:47:00+0000', tz='UTC'), Timestamp('2023-02-06 12:48:00+0000', tz='UTC'), Timestamp('2023-02-06 12:50:00+0000', tz='UTC'), Timestamp('2023-02-07 13:03:00+0000', tz='UTC'), Timestamp('2023-02-07 13:04:00+0000', tz='UTC'), Timestamp('2023-02-07 13:06:00+0000', tz='UTC'), Timestamp('2023-04-24 07:04:00+0000', tz='UTC'), Timestamp('2023-04-24 07:05:00+0000', tz='UTC'), Timestamp('2023-04-24 07:07:00+0000', tz='UTC'), Timestamp('2023-04-24 08:19:00+0000', tz='UTC'), Timestamp('2023-04-24 08:20:00+0000', tz='UTC'), Timestamp('2023-04-24 08:21:00+0000', tz='UTC'), Timestamp('2023-04-24 10:26:00+0000', tz='UTC'), Timestamp('2023-04-24 10:27:00+0000', tz='UTC'), Timestamp('2023-04-24 10:28:00+0000', tz='UTC'), Timestamp('2023-04-25 08:20:00+0000', tz='UTC'), Timestamp('2023-04-25 08:21:00+0000', tz='UTC'), Timestamp('2023-04-25 08:22:00+0000', tz='UTC'), Timestamp('2023-07-17 10:42:04+0000', tz='UTC'), Timestamp('2023-07-18 14:12:03+0000', tz='UTC'), Timestamp('2023-07-18 14:12:04+0000', tz='UTC'), Timestamp('2023-07-20 03:06:40+0000', tz='UTC'), Timestamp('2023-07-21 07:30:07+0000', tz='UTC'), Timestamp('2023-07-23 07:18:03+0000', tz='UTC'), Timestamp('2023-07-24 07:00:04+0000', tz='UTC'), Timestamp('2023-07-24 11:00:04+0000', tz='UTC'), Timestamp('2023-07-25 12:12:06+0000', tz='UTC'), Timestamp('2023-07-25 14:35:35+0000', tz='UTC'), Timestamp('2023-07-25 16:24:05+0000', tz='UTC'), Timestamp('2023-07-26 11:42:03+0000', tz='UTC'), Timestamp('2023-07-26 13:00:06+0000', tz='UTC'), Timestamp('2023-07-27 12:30:06+0000', tz='UTC'), Timestamp('2024-01-19 08:06:03+0000', tz='UTC'), Timestamp('2024-01-19 13:12:03+0000', tz='UTC'), Timestamp('2024-01-19 17:06:03+0000', tz='UTC'), Timestamp('2024-01-20 01:00:03+0000', tz='UTC'), Timestamp('2024-01-20 09:39:03+0000', tz='UTC'), Timestamp('2024-01-20 09:45:02+0000', tz='UTC'), Timestamp('2024-01-22 22:52:02+0000', tz='UTC'), Timestamp('2024-01-23 09:46:01+0000', tz='UTC'), Timestamp('2024-01-23 11:34:01+0000', tz='UTC'), Timestamp('2024-01-23 14:16:01+0000', tz='UTC'), Timestamp('2024-01-23 18:28:01+0000', tz='UTC'), Timestamp('2024-01-23 18:34:01+0000', tz='UTC'), Timestamp('2024-01-24 20:16:01+0000', tz='UTC'), Timestamp('2024-01-25 00:04:01+0000', tz='UTC'), Timestamp('2024-01-26 18:16:01+0000', tz='UTC'), Timestamp('2024-01-27 04:40:02+0000', tz='UTC'), Timestamp('2024-01-27 17:28:01+0000', tz='UTC'), Timestamp('2024-01-28 10:10:01+0000', tz='UTC'), Timestamp('2024-01-28 11:40:02+0000', tz='UTC'), Timestamp('2024-01-28 13:34:01+0000', tz='UTC'), Timestamp('2024-01-29 02:16:02+0000', tz='UTC'), Timestamp('2024-01-29 02:34:01+0000', tz='UTC'), Timestamp('2024-01-30 09:22:01+0000', tz='UTC'), Timestamp('2024-01-30 12:28:01+0000', tz='UTC'), Timestamp('2024-02-13 18:04:01+0000', tz='UTC'), Timestamp('2024-02-13 18:10:01+0000', tz='UTC'), Timestamp('2024-02-21 14:58:01+0000', tz='UTC'), Timestamp('2024-02-23 17:46:00+0000', tz='UTC'), Timestamp('2024-02-23 19:34:01+0000', tz='UTC'), Timestamp('2024-02-23 21:22:01+0000', tz='UTC'), Timestamp('2024-02-24 11:37:01+0000', tz='UTC'), Timestamp('2024-02-24 14:43:01+0000', tz='UTC'), Timestamp('2024-02-25 06:55:01+0000', tz='UTC'), Timestamp('2024-02-25 21:07:01+0000', tz='UTC'), Timestamp('2024-02-25 21:37:00+0000', tz='UTC'), Timestamp('2024-02-26 01:13:01+0000', tz='UTC'), Timestamp('2024-02-26 05:19:01+0000', tz='UTC'), Timestamp('2024-03-28 14:20:28+0000', tz='UTC'), Timestamp('2024-03-28 14:20:29+0000', tz='UTC'), Timestamp('2024-04-29 08:34:17+0000', tz='UTC'), Timestamp('2024-04-29 08:40:18+0000', tz='UTC'), Timestamp('2024-04-30 09:10:15+0000', tz='UTC'), Timestamp('2024-04-30 09:16:15+0000', tz='UTC'), Timestamp('2024-05-01 11:07:41+0000', tz='UTC'), Timestamp('2024-05-01 11:13:40+0000', tz='UTC'), Timestamp('2024-05-02 07:13:35+0000', tz='UTC'), Timestamp('2024-05-02 07:19:37+0000', tz='UTC'), Timestamp('2024-05-03 07:06:32+0000', tz='UTC'), Timestamp('2024-05-03 07:06:33+0000', tz='UTC'), Timestamp('2024-05-03 14:24:34+0000', tz='UTC'), Timestamp('2024-05-04 15:54:35+0000', tz='UTC'), Timestamp('2024-05-04 16:00:36+0000', tz='UTC'), Timestamp('2024-05-09 06:06:41+0000', tz='UTC'), Timestamp('2024-05-20 15:01:07+0000', tz='UTC'), Timestamp('2024-05-21 08:43:01+0000', tz='UTC'), Timestamp('2024-05-23 09:13:08+0000', tz='UTC'), Timestamp('2024-05-24 08:19:06+0000', tz='UTC'), Timestamp('2024-05-24 16:25:06+0000', tz='UTC'), Timestamp('2024-05-24 16:25:07+0000', tz='UTC'), Timestamp('2024-05-25 09:25:05+0000', tz='UTC'), Timestamp('2024-05-25 09:25:07+0000', tz='UTC'), Timestamp('2024-05-27 15:43:17+0000', tz='UTC'), Timestamp('2024-05-28 15:37:03+0000', tz='UTC'), Timestamp('2024-05-28 22:07:07+0000', tz='UTC'), Timestamp('2024-05-30 07:38:30+0000', tz='UTC'), Timestamp('2024-05-30 15:20:38+0000', tz='UTC'), Timestamp('2024-05-31 07:26:26+0000', tz='UTC'), Timestamp('2024-05-31 07:32:27+0000', tz='UTC'), Timestamp('2024-05-31 14:32:32+0000', tz='UTC'), Timestamp('2024-06-01 22:38:39+0000', tz='UTC'), Timestamp('2024-06-03 11:26:34+0000', tz='UTC'), Timestamp('2024-06-04 09:56:33+0000', tz='UTC'), Timestamp('2024-06-11 08:01:35+0000', tz='UTC'), Timestamp('2024-06-11 08:01:36+0000', tz='UTC'), Timestamp('2024-06-11 08:07:36+0000', tz='UTC'), Timestamp('2024-06-11 08:37:27+0000', tz='UTC'), Timestamp('2024-06-11 08:37:28+0000', tz='UTC'), Timestamp('2024-06-12 13:19:28+0000', tz='UTC'), Timestamp('2024-06-13 16:31:37+0000', tz='UTC'), Timestamp('2024-06-13 16:31:50+0000', tz='UTC'), Timestamp('2024-06-13 16:31:51+0000', tz='UTC'), Timestamp('2024-06-13 18:37:32+0000', tz='UTC'), Timestamp('2024-06-19 11:46:30+0000', tz='UTC'), Timestamp('2024-06-19 11:52:33+0000', tz='UTC'), Timestamp('2024-08-27 14:17:57+0000', tz='UTC'), Timestamp('2024-08-27 14:18:00+0000', tz='UTC'), Timestamp('2024-08-27 14:23:58+0000', tz='UTC'), Timestamp('2024-09-18 09:21:34+0000', tz='UTC'), Timestamp('2024-09-18 09:27:49+0000', tz='UTC'), Timestamp('2024-09-18 18:03:30+0000', tz='UTC'), Timestamp('2024-09-18 18:09:32+0000', tz='UTC'), Timestamp('2024-09-19 02:27:27+0000', tz='UTC'), Timestamp('2024-09-19 08:33:30+0000', tz='UTC'), Timestamp('2024-09-19 08:39:31+0000', tz='UTC'), Timestamp('2024-09-20 11:51:24+0000', tz='UTC'), Timestamp('2024-09-26 09:57:50+0000', tz='UTC'), Timestamp('2024-09-26 09:58:03+0000', tz='UTC'), Timestamp('2024-09-29 16:45:46+0000', tz='UTC'), Timestamp('2024-09-29 16:51:48+0000', tz='UTC'), Timestamp('2024-09-29 19:03:50+0000', tz='UTC'), Timestamp('2024-09-29 19:09:55+0000', tz='UTC')]\n"
     ]
    },
    {
     "data": {
      "text/plain": [
       "publishTime\n",
       "2024-06-12 13:19:28+00:00    3\n",
       "2024-06-13 18:37:32+00:00    3\n",
       "2020-10-30 13:41:00+00:00    3\n",
       "2023-07-17 10:42:04+00:00    3\n",
       "2024-01-30 09:22:01+00:00    3\n",
       "                            ..\n",
       "2020-02-28 13:14:00+00:00    1\n",
       "2020-02-28 13:18:00+00:00    1\n",
       "2020-03-04 23:16:00+00:00    1\n",
       "2020-03-04 23:22:00+00:00    1\n",
       "2020-01-31 13:04:00+00:00    1\n",
       "Name: id, Length: 403, dtype: int64"
      ]
     },
     "execution_count": 91,
     "metadata": {},
     "output_type": "execute_result"
    }
   ],
   "source": [
    "# Gruppiere nach 'publishTime' und zähle 'id'\n",
    "df_publishTime = df.groupby(['publishTime'])['id'].count()\n",
    "\n",
    "# Konvertiere den Index von 'df_publishTime' in eine Liste und gib sie aus\n",
    "print(df_publishTime.index.tolist())\n",
    "\n",
    "# Sortiere die gezählten Werte absteigend nach der Anzahl der 'id'\n",
    "df_publishTime.sort_values(ascending=False)\n"
   ]
  },
  {
   "cell_type": "code",
   "execution_count": 92,
   "metadata": {},
   "outputs": [
    {
     "name": "stdout",
     "output_type": "stream",
     "text": [
      "[Timestamp('2020-01-29 15:52:00+0000', tz='UTC'), Timestamp('2020-01-31 13:04:00+0000', tz='UTC'), Timestamp('2020-02-02 06:40:00+0000', tz='UTC'), Timestamp('2020-02-02 07:11:00+0000', tz='UTC'), Timestamp('2020-02-02 08:44:00+0000', tz='UTC'), Timestamp('2020-02-03 11:19:00+0000', tz='UTC'), Timestamp('2020-02-06 11:03:00+0000', tz='UTC'), Timestamp('2020-02-10 18:21:00+0000', tz='UTC'), Timestamp('2020-02-13 11:06:00+0000', tz='UTC'), Timestamp('2020-02-14 09:43:00+0000', tz='UTC'), Timestamp('2020-02-15 15:06:00+0000', tz='UTC'), Timestamp('2020-02-17 15:05:00+0000', tz='UTC'), Timestamp('2020-02-24 10:50:00+0000', tz='UTC'), Timestamp('2020-02-25 14:39:00+0000', tz='UTC'), Timestamp('2020-02-28 13:14:00+0000', tz='UTC'), Timestamp('2020-02-28 13:18:00+0000', tz='UTC'), Timestamp('2020-03-04 23:16:00+0000', tz='UTC'), Timestamp('2020-03-04 23:22:00+0000', tz='UTC'), Timestamp('2020-03-05 15:02:00+0000', tz='UTC'), Timestamp('2020-03-06 12:51:00+0000', tz='UTC'), Timestamp('2020-03-06 19:33:00+0000', tz='UTC'), Timestamp('2020-03-09 08:56:00+0000', tz='UTC'), Timestamp('2020-03-12 06:38:00+0000', tz='UTC'), Timestamp('2020-03-12 18:56:00+0000', tz='UTC'), Timestamp('2020-03-13 09:36:00+0000', tz='UTC'), Timestamp('2020-03-13 14:36:00+0000', tz='UTC'), Timestamp('2020-03-14 06:32:00+0000', tz='UTC'), Timestamp('2020-03-14 11:41:00+0000', tz='UTC'), Timestamp('2020-03-19 06:32:00+0000', tz='UTC'), Timestamp('2020-03-20 10:22:00+0000', tz='UTC'), Timestamp('2020-03-24 09:36:00+0000', tz='UTC'), Timestamp('2020-03-24 15:46:00+0000', tz='UTC'), Timestamp('2020-03-27 15:35:00+0000', tz='UTC'), Timestamp('2020-03-30 13:53:00+0000', tz='UTC'), Timestamp('2020-04-02 08:52:00+0000', tz='UTC'), Timestamp('2020-04-02 16:13:00+0000', tz='UTC'), Timestamp('2020-04-03 01:16:00+0000', tz='UTC'), Timestamp('2020-04-03 08:02:00+0000', tz='UTC'), Timestamp('2020-04-03 10:30:00+0000', tz='UTC'), Timestamp('2020-04-04 14:55:00+0000', tz='UTC'), Timestamp('2020-04-04 14:58:00+0000', tz='UTC'), Timestamp('2020-04-06 15:51:00+0000', tz='UTC'), Timestamp('2020-04-07 07:28:00+0000', tz='UTC'), Timestamp('2020-04-07 13:39:00+0000', tz='UTC'), Timestamp('2020-04-08 13:28:00+0000', tz='UTC'), Timestamp('2020-04-18 18:59:00+0000', tz='UTC'), Timestamp('2020-04-18 23:51:00+0000', tz='UTC'), Timestamp('2020-04-19 00:02:00+0000', tz='UTC'), Timestamp('2020-04-19 09:35:00+0000', tz='UTC'), Timestamp('2020-04-20 09:01:00+0000', tz='UTC'), Timestamp('2020-04-20 17:40:00+0000', tz='UTC'), Timestamp('2020-04-20 17:42:00+0000', tz='UTC'), Timestamp('2020-04-21 09:36:00+0000', tz='UTC'), Timestamp('2020-04-21 10:08:00+0000', tz='UTC'), Timestamp('2020-04-21 10:09:00+0000', tz='UTC'), Timestamp('2020-04-21 10:10:00+0000', tz='UTC'), Timestamp('2020-04-21 10:48:00+0000', tz='UTC'), Timestamp('2020-04-21 11:00:00+0000', tz='UTC'), Timestamp('2020-04-21 11:01:00+0000', tz='UTC'), Timestamp('2020-04-21 12:56:00+0000', tz='UTC'), Timestamp('2020-04-21 13:02:00+0000', tz='UTC'), Timestamp('2020-04-21 13:03:00+0000', tz='UTC'), Timestamp('2020-04-24 15:53:00+0000', tz='UTC'), Timestamp('2020-04-26 11:42:00+0000', tz='UTC'), Timestamp('2020-05-01 16:51:00+0000', tz='UTC'), Timestamp('2020-05-01 16:53:00+0000', tz='UTC'), Timestamp('2020-05-03 17:43:00+0000', tz='UTC'), Timestamp('2020-05-22 23:28:00+0000', tz='UTC'), Timestamp('2020-05-23 00:08:00+0000', tz='UTC'), Timestamp('2020-05-29 13:48:00+0000', tz='UTC'), Timestamp('2020-05-29 13:49:00+0000', tz='UTC'), Timestamp('2020-05-29 14:00:00+0000', tz='UTC'), Timestamp('2020-05-30 13:55:00+0000', tz='UTC'), Timestamp('2020-05-30 13:56:00+0000', tz='UTC'), Timestamp('2020-06-01 16:01:00+0000', tz='UTC'), Timestamp('2020-06-01 16:02:00+0000', tz='UTC'), Timestamp('2020-06-02 15:42:00+0000', tz='UTC'), Timestamp('2020-06-02 15:43:00+0000', tz='UTC'), Timestamp('2020-06-10 14:40:00+0000', tz='UTC'), Timestamp('2020-06-15 05:34:00+0000', tz='UTC'), Timestamp('2020-06-15 06:30:00+0000', tz='UTC'), Timestamp('2020-06-17 12:50:00+0000', tz='UTC'), Timestamp('2020-06-18 14:07:00+0000', tz='UTC'), Timestamp('2020-06-18 18:34:00+0000', tz='UTC'), Timestamp('2020-06-19 10:32:00+0000', tz='UTC'), Timestamp('2020-06-23 15:47:00+0000', tz='UTC'), Timestamp('2020-06-23 19:30:00+0000', tz='UTC'), Timestamp('2020-06-24 14:25:00+0000', tz='UTC'), Timestamp('2020-06-24 14:39:00+0000', tz='UTC'), Timestamp('2020-06-30 13:35:00+0000', tz='UTC'), Timestamp('2020-07-06 12:16:00+0000', tz='UTC'), Timestamp('2020-07-06 12:17:00+0000', tz='UTC'), Timestamp('2020-07-06 13:11:00+0000', tz='UTC'), Timestamp('2020-07-06 13:14:00+0000', tz='UTC'), Timestamp('2020-07-06 14:46:00+0000', tz='UTC'), Timestamp('2020-07-06 14:47:00+0000', tz='UTC'), Timestamp('2020-07-06 17:49:00+0000', tz='UTC'), Timestamp('2020-07-06 17:50:00+0000', tz='UTC'), Timestamp('2020-07-06 19:24:00+0000', tz='UTC'), Timestamp('2020-09-09 14:37:00+0000', tz='UTC'), Timestamp('2020-09-09 14:39:00+0000', tz='UTC'), Timestamp('2020-09-09 14:40:00+0000', tz='UTC'), Timestamp('2020-09-11 15:02:00+0000', tz='UTC'), Timestamp('2020-09-11 17:34:00+0000', tz='UTC'), Timestamp('2020-09-16 00:13:00+0000', tz='UTC'), Timestamp('2020-09-16 00:17:00+0000', tz='UTC'), Timestamp('2020-09-16 00:18:00+0000', tz='UTC'), Timestamp('2020-09-16 00:24:00+0000', tz='UTC'), Timestamp('2020-09-16 00:25:00+0000', tz='UTC'), Timestamp('2020-09-16 00:26:00+0000', tz='UTC'), Timestamp('2020-09-21 11:42:00+0000', tz='UTC'), Timestamp('2020-09-23 07:56:00+0000', tz='UTC'), Timestamp('2020-09-23 12:12:00+0000', tz='UTC'), Timestamp('2020-09-23 13:33:00+0000', tz='UTC'), Timestamp('2020-09-24 07:35:00+0000', tz='UTC'), Timestamp('2020-09-24 08:03:00+0000', tz='UTC'), Timestamp('2020-09-28 09:13:00+0000', tz='UTC'), Timestamp('2020-09-28 10:31:00+0000', tz='UTC'), Timestamp('2020-09-29 13:02:00+0000', tz='UTC'), Timestamp('2020-09-29 16:39:00+0000', tz='UTC'), Timestamp('2020-09-29 17:34:00+0000', tz='UTC'), Timestamp('2020-09-30 09:57:00+0000', tz='UTC'), Timestamp('2020-10-19 11:31:00+0000', tz='UTC'), Timestamp('2020-10-20 09:00:00+0000', tz='UTC'), Timestamp('2020-10-22 16:04:00+0000', tz='UTC'), Timestamp('2020-10-27 15:50:00+0000', tz='UTC'), Timestamp('2020-10-30 11:25:00+0000', tz='UTC'), Timestamp('2020-10-30 11:27:00+0000', tz='UTC'), Timestamp('2020-10-30 11:28:00+0000', tz='UTC'), Timestamp('2020-10-30 11:29:00+0000', tz='UTC'), Timestamp('2020-10-30 13:41:00+0000', tz='UTC'), Timestamp('2020-10-30 17:02:00+0000', tz='UTC'), Timestamp('2020-10-30 17:03:00+0000', tz='UTC'), Timestamp('2020-10-30 21:28:00+0000', tz='UTC'), Timestamp('2020-10-30 21:29:00+0000', tz='UTC'), Timestamp('2020-10-30 21:30:00+0000', tz='UTC'), Timestamp('2020-10-30 23:41:00+0000', tz='UTC'), Timestamp('2020-10-30 23:50:00+0000', tz='UTC'), Timestamp('2020-10-31 00:26:00+0000', tz='UTC'), Timestamp('2020-10-31 00:34:00+0000', tz='UTC'), Timestamp('2020-10-31 00:37:00+0000', tz='UTC'), Timestamp('2020-10-31 00:38:00+0000', tz='UTC'), Timestamp('2020-10-31 01:39:00+0000', tz='UTC'), Timestamp('2020-11-16 14:32:00+0000', tz='UTC'), Timestamp('2020-11-17 18:53:00+0000', tz='UTC'), Timestamp('2020-11-19 15:58:00+0000', tz='UTC'), Timestamp('2020-11-20 16:03:00+0000', tz='UTC'), Timestamp('2020-11-24 12:00:00+0000', tz='UTC'), Timestamp('2020-11-24 12:50:00+0000', tz='UTC'), Timestamp('2020-11-24 12:53:00+0000', tz='UTC'), Timestamp('2020-11-24 15:55:00+0000', tz='UTC'), Timestamp('2020-11-26 13:53:00+0000', tz='UTC'), Timestamp('2020-11-26 13:54:00+0000', tz='UTC'), Timestamp('2020-12-07 21:19:00+0000', tz='UTC'), Timestamp('2020-12-10 16:12:00+0000', tz='UTC'), Timestamp('2020-12-13 19:13:00+0000', tz='UTC'), Timestamp('2020-12-14 09:29:00+0000', tz='UTC'), Timestamp('2020-12-22 02:54:00+0000', tz='UTC'), Timestamp('2021-01-01 10:57:00+0000', tz='UTC'), Timestamp('2021-01-02 12:48:00+0000', tz='UTC'), Timestamp('2021-01-02 23:40:00+0000', tz='UTC'), Timestamp('2021-01-05 15:42:00+0000', tz='UTC'), Timestamp('2021-01-06 05:04:00+0000', tz='UTC'), Timestamp('2021-01-06 05:25:00+0000', tz='UTC'), Timestamp('2021-01-06 15:00:00+0000', tz='UTC'), Timestamp('2021-01-08 02:55:00+0000', tz='UTC'), Timestamp('2021-01-09 12:31:00+0000', tz='UTC'), Timestamp('2021-01-10 01:02:00+0000', tz='UTC'), Timestamp('2021-01-10 01:04:00+0000', tz='UTC'), Timestamp('2021-01-10 13:01:00+0000', tz='UTC'), Timestamp('2021-01-10 15:50:00+0000', tz='UTC'), Timestamp('2021-01-10 15:51:00+0000', tz='UTC'), Timestamp('2021-01-10 17:31:00+0000', tz='UTC'), Timestamp('2021-01-10 17:35:00+0000', tz='UTC'), Timestamp('2021-01-13 10:13:00+0000', tz='UTC'), Timestamp('2021-01-13 10:16:00+0000', tz='UTC'), Timestamp('2021-01-18 15:12:00+0000', tz='UTC'), Timestamp('2021-01-18 16:39:00+0000', tz='UTC'), Timestamp('2021-01-18 16:42:00+0000', tz='UTC'), Timestamp('2021-01-18 16:44:00+0000', tz='UTC'), Timestamp('2021-01-19 09:19:00+0000', tz='UTC'), Timestamp('2021-01-19 13:37:00+0000', tz='UTC'), Timestamp('2021-01-20 08:00:00+0000', tz='UTC'), Timestamp('2021-01-20 13:35:00+0000', tz='UTC'), Timestamp('2021-01-20 13:38:00+0000', tz='UTC'), Timestamp('2021-01-21 05:03:00+0000', tz='UTC'), Timestamp('2021-01-21 07:52:00+0000', tz='UTC'), Timestamp('2021-01-21 14:10:00+0000', tz='UTC'), Timestamp('2021-01-21 17:44:00+0000', tz='UTC'), Timestamp('2021-01-22 12:02:00+0000', tz='UTC'), Timestamp('2021-01-23 18:26:00+0000', tz='UTC'), Timestamp('2021-01-23 18:30:00+0000', tz='UTC'), Timestamp('2021-01-24 08:46:00+0000', tz='UTC'), Timestamp('2021-01-24 08:50:00+0000', tz='UTC'), Timestamp('2021-01-26 08:54:00+0000', tz='UTC'), Timestamp('2021-01-26 13:40:00+0000', tz='UTC'), Timestamp('2021-01-26 16:20:00+0000', tz='UTC'), Timestamp('2021-01-26 16:22:00+0000', tz='UTC'), Timestamp('2021-01-27 08:30:00+0000', tz='UTC'), Timestamp('2021-01-28 08:08:00+0000', tz='UTC'), Timestamp('2021-01-29 08:20:00+0000', tz='UTC'), Timestamp('2021-01-30 18:51:00+0000', tz='UTC'), Timestamp('2021-02-03 07:56:00+0000', tz='UTC'), Timestamp('2021-02-04 08:31:00+0000', tz='UTC'), Timestamp('2021-02-05 06:35:00+0000', tz='UTC'), Timestamp('2021-02-05 09:16:00+0000', tz='UTC'), Timestamp('2021-02-05 10:18:00+0000', tz='UTC'), Timestamp('2021-02-08 10:52:00+0000', tz='UTC'), Timestamp('2021-02-08 11:38:00+0000', tz='UTC'), Timestamp('2021-02-13 15:22:00+0000', tz='UTC'), Timestamp('2021-02-13 15:24:00+0000', tz='UTC'), Timestamp('2021-02-13 15:40:00+0000', tz='UTC'), Timestamp('2021-02-13 15:44:00+0000', tz='UTC'), Timestamp('2021-02-17 11:47:00+0000', tz='UTC'), Timestamp('2021-02-17 11:48:00+0000', tz='UTC'), Timestamp('2021-02-17 12:03:00+0000', tz='UTC'), Timestamp('2021-02-17 12:04:00+0000', tz='UTC'), Timestamp('2021-02-21 08:47:00+0000', tz='UTC'), Timestamp('2021-02-21 08:49:00+0000', tz='UTC'), Timestamp('2021-03-19 22:22:00+0000', tz='UTC'), Timestamp('2021-03-19 22:23:00+0000', tz='UTC'), Timestamp('2021-03-19 22:25:00+0000', tz='UTC'), Timestamp('2021-03-20 09:21:00+0000', tz='UTC'), Timestamp('2021-03-20 09:22:00+0000', tz='UTC'), Timestamp('2021-03-20 09:24:00+0000', tz='UTC'), Timestamp('2021-03-20 12:28:00+0000', tz='UTC'), Timestamp('2021-03-20 12:29:00+0000', tz='UTC'), Timestamp('2021-03-20 16:27:00+0000', tz='UTC'), Timestamp('2021-03-20 16:28:00+0000', tz='UTC'), Timestamp('2021-03-20 17:17:00+0000', tz='UTC'), Timestamp('2021-03-20 17:18:00+0000', tz='UTC'), Timestamp('2021-05-21 06:23:00+0000', tz='UTC'), Timestamp('2021-05-21 06:26:00+0000', tz='UTC'), Timestamp('2021-05-21 14:57:00+0000', tz='UTC'), Timestamp('2021-05-21 14:58:00+0000', tz='UTC'), Timestamp('2021-06-07 06:55:00+0000', tz='UTC'), Timestamp('2021-06-07 06:57:00+0000', tz='UTC'), Timestamp('2021-06-07 06:59:00+0000', tz='UTC'), Timestamp('2021-08-27 14:25:00+0000', tz='UTC'), Timestamp('2021-08-31 07:33:00+0000', tz='UTC'), Timestamp('2021-08-31 12:44:00+0000', tz='UTC'), Timestamp('2021-08-31 12:46:00+0000', tz='UTC'), Timestamp('2021-08-31 12:47:00+0000', tz='UTC'), Timestamp('2021-08-31 15:34:00+0000', tz='UTC'), Timestamp('2021-09-08 19:18:00+0000', tz='UTC'), Timestamp('2021-09-08 19:20:00+0000', tz='UTC'), Timestamp('2021-09-10 17:06:00+0000', tz='UTC'), Timestamp('2021-09-11 17:20:00+0000', tz='UTC'), Timestamp('2021-09-12 06:28:00+0000', tz='UTC'), Timestamp('2021-09-15 16:35:00+0000', tz='UTC'), Timestamp('2021-09-16 12:36:00+0000', tz='UTC'), Timestamp('2021-09-17 13:38:00+0000', tz='UTC'), Timestamp('2021-09-17 19:58:00+0000', tz='UTC'), Timestamp('2021-09-17 20:00:00+0000', tz='UTC'), Timestamp('2021-09-17 20:38:00+0000', tz='UTC'), Timestamp('2022-01-24 11:45:00+0000', tz='UTC'), Timestamp('2022-01-24 11:48:00+0000', tz='UTC'), Timestamp('2022-05-10 15:30:00+0000', tz='UTC'), Timestamp('2022-05-10 15:44:00+0000', tz='UTC'), Timestamp('2022-06-15 11:06:00+0000', tz='UTC'), Timestamp('2022-06-15 11:10:00+0000', tz='UTC'), Timestamp('2022-06-16 13:53:00+0000', tz='UTC'), Timestamp('2022-06-24 09:05:00+0000', tz='UTC'), Timestamp('2022-06-24 16:26:00+0000', tz='UTC'), Timestamp('2022-06-28 19:42:00+0000', tz='UTC'), Timestamp('2022-06-28 19:43:00+0000', tz='UTC'), Timestamp('2022-07-22 07:37:00+0000', tz='UTC'), Timestamp('2022-09-20 07:40:00+0000', tz='UTC'), Timestamp('2022-09-20 07:42:00+0000', tz='UTC'), Timestamp('2022-09-20 07:45:00+0000', tz='UTC'), Timestamp('2023-02-06 12:47:00+0000', tz='UTC'), Timestamp('2023-02-06 12:48:00+0000', tz='UTC'), Timestamp('2023-02-06 12:50:00+0000', tz='UTC'), Timestamp('2023-02-07 13:03:00+0000', tz='UTC'), Timestamp('2023-02-07 13:04:00+0000', tz='UTC'), Timestamp('2023-02-07 13:06:00+0000', tz='UTC'), Timestamp('2023-04-24 07:04:00+0000', tz='UTC'), Timestamp('2023-04-24 07:05:00+0000', tz='UTC'), Timestamp('2023-04-24 07:07:00+0000', tz='UTC'), Timestamp('2023-04-24 08:19:00+0000', tz='UTC'), Timestamp('2023-04-24 08:20:00+0000', tz='UTC'), Timestamp('2023-04-24 08:21:00+0000', tz='UTC'), Timestamp('2023-04-24 10:26:00+0000', tz='UTC'), Timestamp('2023-04-24 10:27:00+0000', tz='UTC'), Timestamp('2023-04-24 10:28:00+0000', tz='UTC'), Timestamp('2023-04-25 08:20:00+0000', tz='UTC'), Timestamp('2023-04-25 08:21:00+0000', tz='UTC'), Timestamp('2023-04-25 08:22:00+0000', tz='UTC'), Timestamp('2023-07-17 10:35:00+0000', tz='UTC'), Timestamp('2023-07-17 10:38:00+0000', tz='UTC'), Timestamp('2023-07-17 10:39:00+0000', tz='UTC'), Timestamp('2023-07-18 14:07:00+0000', tz='UTC'), Timestamp('2023-07-18 14:08:00+0000', tz='UTC'), Timestamp('2023-07-19 07:50:00+0000', tz='UTC'), Timestamp('2023-07-21 07:22:00+0000', tz='UTC'), Timestamp('2023-07-23 07:12:00+0000', tz='UTC'), Timestamp('2023-07-24 06:55:00+0000', tz='UTC'), Timestamp('2023-07-24 10:55:00+0000', tz='UTC'), Timestamp('2023-07-25 12:07:00+0000', tz='UTC'), Timestamp('2023-07-25 14:32:00+0000', tz='UTC'), Timestamp('2023-07-25 16:19:00+0000', tz='UTC'), Timestamp('2023-07-26 11:38:00+0000', tz='UTC'), Timestamp('2023-07-26 12:56:00+0000', tz='UTC'), Timestamp('2023-07-27 12:24:00+0000', tz='UTC'), Timestamp('2024-01-19 07:59:00+0000', tz='UTC'), Timestamp('2024-01-19 13:07:00+0000', tz='UTC'), Timestamp('2024-01-19 17:00:00+0000', tz='UTC'), Timestamp('2024-01-19 17:02:00+0000', tz='UTC'), Timestamp('2024-01-20 00:52:00+0000', tz='UTC'), Timestamp('2024-01-20 09:35:00+0000', tz='UTC'), Timestamp('2024-01-20 09:38:00+0000', tz='UTC'), Timestamp('2024-01-20 09:39:00+0000', tz='UTC'), Timestamp('2024-01-22 22:45:00+0000', tz='UTC'), Timestamp('2024-01-23 09:39:00+0000', tz='UTC'), Timestamp('2024-01-23 09:40:00+0000', tz='UTC'), Timestamp('2024-01-23 11:31:00+0000', tz='UTC'), Timestamp('2024-01-23 14:08:00+0000', tz='UTC'), Timestamp('2024-01-23 18:25:00+0000', tz='UTC'), Timestamp('2024-01-23 18:29:00+0000', tz='UTC'), Timestamp('2024-01-23 18:30:00+0000', tz='UTC'), Timestamp('2024-01-24 20:11:00+0000', tz='UTC'), Timestamp('2024-01-24 23:59:00+0000', tz='UTC'), Timestamp('2024-01-26 18:14:00+0000', tz='UTC'), Timestamp('2024-01-27 04:35:00+0000', tz='UTC'), Timestamp('2024-01-27 17:23:00+0000', tz='UTC'), Timestamp('2024-01-28 10:04:00+0000', tz='UTC'), Timestamp('2024-01-28 11:32:00+0000', tz='UTC'), Timestamp('2024-01-28 13:27:00+0000', tz='UTC'), Timestamp('2024-01-29 02:12:00+0000', tz='UTC'), Timestamp('2024-01-29 02:31:00+0000', tz='UTC'), Timestamp('2024-01-30 09:14:00+0000', tz='UTC'), Timestamp('2024-01-30 09:16:00+0000', tz='UTC'), Timestamp('2024-01-30 09:17:00+0000', tz='UTC'), Timestamp('2024-01-30 12:20:00+0000', tz='UTC'), Timestamp('2024-02-13 17:56:00+0000', tz='UTC'), Timestamp('2024-02-13 18:01:00+0000', tz='UTC'), Timestamp('2024-02-13 18:04:00+0000', tz='UTC'), Timestamp('2024-02-21 14:55:00+0000', tz='UTC'), Timestamp('2024-02-23 17:39:00+0000', tz='UTC'), Timestamp('2024-02-23 19:29:00+0000', tz='UTC'), Timestamp('2024-02-23 21:16:00+0000', tz='UTC'), Timestamp('2024-02-24 11:32:00+0000', tz='UTC'), Timestamp('2024-02-24 11:34:00+0000', tz='UTC'), Timestamp('2024-02-24 14:37:00+0000', tz='UTC'), Timestamp('2024-02-24 14:38:00+0000', tz='UTC'), Timestamp('2024-02-25 06:48:00+0000', tz='UTC'), Timestamp('2024-02-25 21:01:00+0000', tz='UTC'), Timestamp('2024-02-25 21:31:00+0000', tz='UTC'), Timestamp('2024-02-26 01:08:00+0000', tz='UTC'), Timestamp('2024-02-26 05:14:00+0000', tz='UTC'), Timestamp('2024-03-28 14:17:00+0000', tz='UTC'), Timestamp('2024-03-28 14:18:00+0000', tz='UTC'), Timestamp('2024-04-29 08:30:00+0000', tz='UTC'), Timestamp('2024-04-29 08:33:00+0000', tz='UTC'), Timestamp('2024-04-30 09:09:00+0000', tz='UTC'), Timestamp('2024-04-30 09:14:00+0000', tz='UTC'), Timestamp('2024-05-01 11:03:00+0000', tz='UTC'), Timestamp('2024-05-01 11:07:00+0000', tz='UTC'), Timestamp('2024-05-02 07:11:00+0000', tz='UTC'), Timestamp('2024-05-02 07:13:00+0000', tz='UTC'), Timestamp('2024-05-03 07:02:00+0000', tz='UTC'), Timestamp('2024-05-03 07:04:00+0000', tz='UTC'), Timestamp('2024-05-03 14:18:00+0000', tz='UTC'), Timestamp('2024-05-03 14:20:00+0000', tz='UTC'), Timestamp('2024-05-04 15:53:00+0000', tz='UTC'), Timestamp('2024-05-04 15:58:00+0000', tz='UTC'), Timestamp('2024-05-09 06:02:00+0000', tz='UTC'), Timestamp('2024-05-09 06:04:00+0000', tz='UTC'), Timestamp('2024-05-20 14:55:00+0000', tz='UTC'), Timestamp('2024-05-21 08:40:00+0000', tz='UTC'), Timestamp('2024-05-23 09:10:00+0000', tz='UTC'), Timestamp('2024-05-24 08:14:00+0000', tz='UTC'), Timestamp('2024-05-24 16:18:00+0000', tz='UTC'), Timestamp('2024-05-24 16:19:00+0000', tz='UTC'), Timestamp('2024-05-25 09:19:00+0000', tz='UTC'), Timestamp('2024-05-25 09:22:00+0000', tz='UTC'), Timestamp('2024-05-27 15:37:00+0000', tz='UTC'), Timestamp('2024-05-28 15:34:00+0000', tz='UTC'), Timestamp('2024-05-28 22:03:00+0000', tz='UTC'), Timestamp('2024-05-30 07:36:00+0000', tz='UTC'), Timestamp('2024-05-30 15:14:00+0000', tz='UTC'), Timestamp('2024-05-31 07:25:00+0000', tz='UTC'), Timestamp('2024-05-31 07:26:00+0000', tz='UTC'), Timestamp('2024-05-31 14:28:00+0000', tz='UTC'), Timestamp('2024-06-01 22:32:00+0000', tz='UTC'), Timestamp('2024-06-03 11:21:00+0000', tz='UTC'), Timestamp('2024-06-04 09:53:00+0000', tz='UTC'), Timestamp('2024-06-11 07:59:00+0000', tz='UTC'), Timestamp('2024-06-11 08:00:00+0000', tz='UTC'), Timestamp('2024-06-11 08:02:00+0000', tz='UTC'), Timestamp('2024-06-11 08:32:00+0000', tz='UTC'), Timestamp('2024-06-11 08:34:00+0000', tz='UTC'), Timestamp('2024-06-11 08:35:00+0000', tz='UTC'), Timestamp('2024-06-12 13:13:00+0000', tz='UTC'), Timestamp('2024-06-12 13:14:00+0000', tz='UTC'), Timestamp('2024-06-12 13:15:00+0000', tz='UTC'), Timestamp('2024-06-13 16:26:00+0000', tz='UTC'), Timestamp('2024-06-13 16:28:00+0000', tz='UTC'), Timestamp('2024-06-13 16:30:00+0000', tz='UTC'), Timestamp('2024-06-13 18:31:00+0000', tz='UTC'), Timestamp('2024-06-13 18:32:00+0000', tz='UTC'), Timestamp('2024-06-19 11:43:00+0000', tz='UTC'), Timestamp('2024-06-19 11:45:00+0000', tz='UTC'), Timestamp('2024-06-19 11:48:00+0000', tz='UTC'), Timestamp('2024-08-27 14:15:00+0000', tz='UTC'), Timestamp('2024-08-27 14:17:00+0000', tz='UTC'), Timestamp('2024-08-27 14:18:00+0000', tz='UTC'), Timestamp('2024-09-18 09:19:00+0000', tz='UTC'), Timestamp('2024-09-18 09:22:00+0000', tz='UTC'), Timestamp('2024-09-18 18:01:00+0000', tz='UTC'), Timestamp('2024-09-18 18:05:00+0000', tz='UTC'), Timestamp('2024-09-19 02:25:00+0000', tz='UTC'), Timestamp('2024-09-19 08:29:00+0000', tz='UTC'), Timestamp('2024-09-19 08:31:00+0000', tz='UTC'), Timestamp('2024-09-19 08:32:00+0000', tz='UTC'), Timestamp('2024-09-20 11:44:00+0000', tz='UTC'), Timestamp('2024-09-20 11:45:00+0000', tz='UTC'), Timestamp('2024-09-20 11:46:00+0000', tz='UTC'), Timestamp('2024-09-26 09:53:00+0000', tz='UTC'), Timestamp('2024-09-26 09:54:00+0000', tz='UTC'), Timestamp('2024-09-29 16:42:00+0000', tz='UTC'), Timestamp('2024-09-29 16:45:00+0000', tz='UTC'), Timestamp('2024-09-29 16:46:00+0000', tz='UTC'), Timestamp('2024-09-29 19:02:00+0000', tz='UTC'), Timestamp('2024-09-29 19:04:00+0000', tz='UTC'), Timestamp('2024-09-29 19:05:00+0000', tz='UTC')]\n"
     ]
    },
    {
     "data": {
      "text/plain": [
       "createdTime\n",
       "2020-10-30 13:41:00+00:00    3\n",
       "2020-07-06 19:24:00+00:00    2\n",
       "2020-10-30 23:41:00+00:00    2\n",
       "2020-10-30 17:03:00+00:00    2\n",
       "2024-06-13 18:31:00+00:00    2\n",
       "                            ..\n",
       "2020-03-09 08:56:00+00:00    1\n",
       "2020-03-12 06:38:00+00:00    1\n",
       "2020-03-12 18:56:00+00:00    1\n",
       "2020-03-13 09:36:00+00:00    1\n",
       "2024-09-29 19:05:00+00:00    1\n",
       "Name: id, Length: 426, dtype: int64"
      ]
     },
     "execution_count": 92,
     "metadata": {},
     "output_type": "execute_result"
    }
   ],
   "source": [
    "# Gruppiere nach 'createdTime' und zähle 'id' pro Gruppe\n",
    "df_createdTime = df.groupby(['createdTime'])['id'].count()\n",
    "\n",
    "# Konvertiere den Index von 'createdTime' in eine Liste und gib sie aus\n",
    "print(df_createdTime.index.tolist())\n",
    "\n",
    "# Sortiere die Gruppen basierend auf der Anzahl der 'id' absteigend\n",
    "df_createdTime.sort_values(ascending=False)\n"
   ]
  },
  {
   "cell_type": "code",
   "execution_count": 93,
   "metadata": {},
   "outputs": [
    {
     "data": {
      "application/vnd.plotly.v1+json": {
       "config": {
        "plotlyServerURL": "https://plot.ly"
       },
       "data": [
        {
         "mode": "markers",
         "name": "publishTime",
         "type": "scatter",
         "x": [
          "2020-01-29T15:52:00+00:00",
          "2020-01-31T13:04:00+00:00",
          "2020-02-02T06:40:00+00:00",
          "2020-02-02T07:11:00+00:00",
          "2020-02-02T08:44:00+00:00",
          "2020-02-03T11:19:00+00:00",
          "2020-02-06T11:03:00+00:00",
          "2020-02-10T18:21:00+00:00",
          "2020-02-13T11:06:00+00:00",
          "2020-02-14T09:43:00+00:00",
          "2020-02-15T15:06:00+00:00",
          "2020-02-17T15:05:00+00:00",
          "2020-02-24T10:50:00+00:00",
          "2020-02-25T14:39:00+00:00",
          "2020-02-28T13:14:00+00:00",
          "2020-02-28T13:18:00+00:00",
          "2020-03-04T23:16:00+00:00",
          "2020-03-04T23:22:00+00:00",
          "2020-03-05T15:02:00+00:00",
          "2020-03-06T12:51:00+00:00",
          "2020-03-06T19:33:00+00:00",
          "2020-03-09T08:56:00+00:00",
          "2020-03-12T06:38:00+00:00",
          "2020-03-12T18:56:00+00:00",
          "2020-03-13T09:36:00+00:00",
          "2020-03-13T14:36:00+00:00",
          "2020-03-14T06:32:00+00:00",
          "2020-03-14T11:41:00+00:00",
          "2020-03-19T06:32:00+00:00",
          "2020-03-20T10:22:00+00:00",
          "2020-03-24T09:36:00+00:00",
          "2020-03-24T15:46:00+00:00",
          "2020-03-27T15:35:00+00:00",
          "2020-03-30T13:53:00+00:00",
          "2020-04-02T08:52:00+00:00",
          "2020-04-02T16:13:00+00:00",
          "2020-04-03T01:16:00+00:00",
          "2020-04-03T08:02:00+00:00",
          "2020-04-03T10:30:00+00:00",
          "2020-04-04T14:55:00+00:00",
          "2020-04-04T14:58:00+00:00",
          "2020-04-06T15:51:00+00:00",
          "2020-04-07T07:28:00+00:00",
          "2020-04-07T13:39:00+00:00",
          "2020-04-08T13:28:00+00:00",
          "2020-04-18T18:59:00+00:00",
          "2020-04-18T23:51:00+00:00",
          "2020-04-19T00:02:00+00:00",
          "2020-04-19T09:35:00+00:00",
          "2020-04-20T09:01:00+00:00",
          "2020-04-20T17:40:00+00:00",
          "2020-04-20T17:42:00+00:00",
          "2020-04-21T09:36:00+00:00",
          "2020-04-21T10:08:00+00:00",
          "2020-04-21T10:09:00+00:00",
          "2020-04-21T10:10:00+00:00",
          "2020-04-21T10:48:00+00:00",
          "2020-04-21T11:00:00+00:00",
          "2020-04-21T11:01:00+00:00",
          "2020-04-21T12:56:00+00:00",
          "2020-04-21T13:02:00+00:00",
          "2020-04-21T13:03:00+00:00",
          "2020-04-24T15:53:00+00:00",
          "2020-04-26T11:42:00+00:00",
          "2020-05-01T16:51:00+00:00",
          "2020-05-01T16:53:00+00:00",
          "2020-05-03T17:43:00+00:00",
          "2020-05-22T23:28:00+00:00",
          "2020-05-23T00:08:00+00:00",
          "2020-05-29T13:48:00+00:00",
          "2020-05-29T13:49:00+00:00",
          "2020-05-29T14:00:00+00:00",
          "2020-05-30T13:55:00+00:00",
          "2020-05-30T13:56:00+00:00",
          "2020-06-01T16:01:00+00:00",
          "2020-06-01T16:02:00+00:00",
          "2020-06-02T15:42:00+00:00",
          "2020-06-02T15:43:00+00:00",
          "2020-06-10T14:40:00+00:00",
          "2020-06-15T05:34:00+00:00",
          "2020-06-15T06:30:00+00:00",
          "2020-06-17T12:50:00+00:00",
          "2020-06-18T14:07:00+00:00",
          "2020-06-18T18:34:00+00:00",
          "2020-06-19T10:32:00+00:00",
          "2020-06-23T15:47:00+00:00",
          "2020-06-23T19:30:00+00:00",
          "2020-06-24T14:25:00+00:00",
          "2020-06-24T14:39:00+00:00",
          "2020-06-30T13:35:00+00:00",
          "2020-07-06T12:16:00+00:00",
          "2020-07-06T12:17:00+00:00",
          "2020-07-06T13:11:00+00:00",
          "2020-07-06T13:14:00+00:00",
          "2020-07-06T14:46:00+00:00",
          "2020-07-06T14:47:00+00:00",
          "2020-07-06T17:49:00+00:00",
          "2020-07-06T17:50:00+00:00",
          "2020-07-06T19:24:00+00:00",
          "2020-09-09T14:37:00+00:00",
          "2020-09-09T14:39:00+00:00",
          "2020-09-09T14:40:00+00:00",
          "2020-09-11T15:02:00+00:00",
          "2020-09-11T17:34:00+00:00",
          "2020-09-16T00:13:00+00:00",
          "2020-09-16T00:17:00+00:00",
          "2020-09-16T00:18:00+00:00",
          "2020-09-16T00:24:00+00:00",
          "2020-09-16T00:25:00+00:00",
          "2020-09-16T00:26:00+00:00",
          "2020-09-21T11:42:00+00:00",
          "2020-09-23T07:56:00+00:00",
          "2020-09-23T12:12:00+00:00",
          "2020-09-23T13:33:00+00:00",
          "2020-09-24T07:35:00+00:00",
          "2020-09-24T08:03:00+00:00",
          "2020-09-28T09:13:00+00:00",
          "2020-09-28T10:31:00+00:00",
          "2020-09-29T13:02:00+00:00",
          "2020-09-29T16:39:00+00:00",
          "2020-09-29T17:34:00+00:00",
          "2020-09-30T09:57:00+00:00",
          "2020-10-19T11:31:00+00:00",
          "2020-10-20T09:00:00+00:00",
          "2020-10-22T16:04:00+00:00",
          "2020-10-27T15:50:00+00:00",
          "2020-10-30T11:25:00+00:00",
          "2020-10-30T11:27:00+00:00",
          "2020-10-30T11:28:00+00:00",
          "2020-10-30T11:29:00+00:00",
          "2020-10-30T13:41:00+00:00",
          "2020-10-30T17:02:00+00:00",
          "2020-10-30T17:03:00+00:00",
          "2020-10-30T21:28:00+00:00",
          "2020-10-30T21:29:00+00:00",
          "2020-10-30T21:30:00+00:00",
          "2020-10-30T23:41:00+00:00",
          "2020-10-30T23:50:00+00:00",
          "2020-10-31T00:26:00+00:00",
          "2020-10-31T00:34:00+00:00",
          "2020-10-31T00:37:00+00:00",
          "2020-10-31T00:38:00+00:00",
          "2020-10-31T01:39:00+00:00",
          "2020-11-16T14:32:00+00:00",
          "2020-11-17T18:53:00+00:00",
          "2020-11-19T15:58:00+00:00",
          "2020-11-20T16:03:00+00:00",
          "2020-11-24T12:00:00+00:00",
          "2020-11-24T12:50:00+00:00",
          "2020-11-24T12:53:00+00:00",
          "2020-11-24T15:55:00+00:00",
          "2020-11-26T13:53:00+00:00",
          "2020-11-26T13:54:00+00:00",
          "2020-12-07T21:19:00+00:00",
          "2020-12-10T16:12:00+00:00",
          "2020-12-13T19:13:00+00:00",
          "2020-12-14T09:29:00+00:00",
          "2020-12-22T02:54:00+00:00",
          "2021-01-01T10:57:00+00:00",
          "2021-01-02T12:48:00+00:00",
          "2021-01-02T23:40:00+00:00",
          "2021-01-05T15:42:00+00:00",
          "2021-01-06T05:04:00+00:00",
          "2021-01-06T05:25:00+00:00",
          "2021-01-06T15:00:00+00:00",
          "2021-01-08T02:55:00+00:00",
          "2021-01-09T12:31:00+00:00",
          "2021-01-10T01:02:00+00:00",
          "2021-01-10T01:04:00+00:00",
          "2021-01-10T13:01:00+00:00",
          "2021-01-10T15:50:00+00:00",
          "2021-01-10T15:51:00+00:00",
          "2021-01-10T17:31:00+00:00",
          "2021-01-10T17:35:00+00:00",
          "2021-01-13T10:13:00+00:00",
          "2021-01-13T10:16:00+00:00",
          "2021-01-18T15:12:00+00:00",
          "2021-01-18T16:39:00+00:00",
          "2021-01-18T16:42:00+00:00",
          "2021-01-18T16:44:00+00:00",
          "2021-01-19T09:19:00+00:00",
          "2021-01-19T13:37:00+00:00",
          "2021-01-20T08:00:00+00:00",
          "2021-01-20T13:35:00+00:00",
          "2021-01-20T13:38:00+00:00",
          "2021-01-21T05:03:00+00:00",
          "2021-01-21T07:52:00+00:00",
          "2021-01-21T14:10:00+00:00",
          "2021-01-21T17:44:00+00:00",
          "2021-01-22T12:02:00+00:00",
          "2021-01-23T18:26:00+00:00",
          "2021-01-23T18:30:00+00:00",
          "2021-01-24T08:46:00+00:00",
          "2021-01-24T08:50:00+00:00",
          "2021-01-26T08:54:00+00:00",
          "2021-01-26T13:40:00+00:00",
          "2021-01-26T16:20:00+00:00",
          "2021-01-26T16:22:00+00:00",
          "2021-01-27T08:30:00+00:00",
          "2021-01-28T08:08:00+00:00",
          "2021-01-29T08:20:00+00:00",
          "2021-01-30T18:51:00+00:00",
          "2021-02-03T07:56:00+00:00",
          "2021-02-04T08:31:00+00:00",
          "2021-02-05T06:35:00+00:00",
          "2021-02-05T09:16:00+00:00",
          "2021-02-05T10:18:00+00:00",
          "2021-02-08T10:52:00+00:00",
          "2021-02-08T11:38:00+00:00",
          "2021-02-13T15:22:00+00:00",
          "2021-02-13T15:24:00+00:00",
          "2021-02-13T15:40:00+00:00",
          "2021-02-13T15:44:00+00:00",
          "2021-02-17T11:47:00+00:00",
          "2021-02-17T11:48:00+00:00",
          "2021-02-17T12:03:00+00:00",
          "2021-02-17T12:04:00+00:00",
          "2021-02-21T08:47:00+00:00",
          "2021-02-21T08:49:00+00:00",
          "2021-03-19T22:22:00+00:00",
          "2021-03-19T22:23:00+00:00",
          "2021-03-19T22:25:00+00:00",
          "2021-03-20T09:21:00+00:00",
          "2021-03-20T09:22:00+00:00",
          "2021-03-20T09:24:00+00:00",
          "2021-03-20T12:28:00+00:00",
          "2021-03-20T12:29:00+00:00",
          "2021-03-20T16:27:00+00:00",
          "2021-03-20T16:28:00+00:00",
          "2021-03-20T17:17:00+00:00",
          "2021-03-20T17:18:00+00:00",
          "2021-05-21T06:23:00+00:00",
          "2021-05-21T06:26:00+00:00",
          "2021-05-21T14:57:00+00:00",
          "2021-05-21T14:58:00+00:00",
          "2021-06-07T06:55:00+00:00",
          "2021-06-07T06:57:00+00:00",
          "2021-06-07T06:59:00+00:00",
          "2021-08-27T14:25:00+00:00",
          "2021-08-31T07:33:00+00:00",
          "2021-08-31T12:44:00+00:00",
          "2021-08-31T12:46:00+00:00",
          "2021-08-31T12:47:00+00:00",
          "2021-08-31T15:34:00+00:00",
          "2021-09-08T19:18:00+00:00",
          "2021-09-08T19:20:00+00:00",
          "2021-09-10T17:06:00+00:00",
          "2021-09-11T17:20:00+00:00",
          "2021-09-12T06:28:00+00:00",
          "2021-09-15T16:35:00+00:00",
          "2021-09-16T12:36:00+00:00",
          "2021-09-17T13:38:00+00:00",
          "2021-09-17T19:58:00+00:00",
          "2021-09-17T20:00:00+00:00",
          "2021-09-17T20:38:00+00:00",
          "2022-01-24T11:45:00+00:00",
          "2022-01-24T11:48:00+00:00",
          "2022-05-10T15:30:00+00:00",
          "2022-05-10T15:44:00+00:00",
          "2022-06-15T11:06:00+00:00",
          "2022-06-15T11:10:00+00:00",
          "2022-06-16T13:53:00+00:00",
          "2022-06-24T09:05:00+00:00",
          "2022-06-24T16:26:00+00:00",
          "2022-06-28T19:42:00+00:00",
          "2022-06-28T19:43:00+00:00",
          "2022-07-22T07:37:00+00:00",
          "2022-09-20T07:40:00+00:00",
          "2022-09-20T07:42:00+00:00",
          "2022-09-20T07:45:00+00:00",
          "2023-02-06T12:47:00+00:00",
          "2023-02-06T12:48:00+00:00",
          "2023-02-06T12:50:00+00:00",
          "2023-02-07T13:03:00+00:00",
          "2023-02-07T13:04:00+00:00",
          "2023-02-07T13:06:00+00:00",
          "2023-04-24T07:04:00+00:00",
          "2023-04-24T07:05:00+00:00",
          "2023-04-24T07:07:00+00:00",
          "2023-04-24T08:19:00+00:00",
          "2023-04-24T08:20:00+00:00",
          "2023-04-24T08:21:00+00:00",
          "2023-04-24T10:26:00+00:00",
          "2023-04-24T10:27:00+00:00",
          "2023-04-24T10:28:00+00:00",
          "2023-04-25T08:20:00+00:00",
          "2023-04-25T08:21:00+00:00",
          "2023-04-25T08:22:00+00:00",
          "2023-07-17T10:42:04+00:00",
          "2023-07-18T14:12:03+00:00",
          "2023-07-18T14:12:04+00:00",
          "2023-07-20T03:06:40+00:00",
          "2023-07-21T07:30:07+00:00",
          "2023-07-23T07:18:03+00:00",
          "2023-07-24T07:00:04+00:00",
          "2023-07-24T11:00:04+00:00",
          "2023-07-25T12:12:06+00:00",
          "2023-07-25T14:35:35+00:00",
          "2023-07-25T16:24:05+00:00",
          "2023-07-26T11:42:03+00:00",
          "2023-07-26T13:00:06+00:00",
          "2023-07-27T12:30:06+00:00",
          "2024-01-19T08:06:03+00:00",
          "2024-01-19T13:12:03+00:00",
          "2024-01-19T17:06:03+00:00",
          "2024-01-20T01:00:03+00:00",
          "2024-01-20T09:39:03+00:00",
          "2024-01-20T09:45:02+00:00",
          "2024-01-22T22:52:02+00:00",
          "2024-01-23T09:46:01+00:00",
          "2024-01-23T11:34:01+00:00",
          "2024-01-23T14:16:01+00:00",
          "2024-01-23T18:28:01+00:00",
          "2024-01-23T18:34:01+00:00",
          "2024-01-24T20:16:01+00:00",
          "2024-01-25T00:04:01+00:00",
          "2024-01-26T18:16:01+00:00",
          "2024-01-27T04:40:02+00:00",
          "2024-01-27T17:28:01+00:00",
          "2024-01-28T10:10:01+00:00",
          "2024-01-28T11:40:02+00:00",
          "2024-01-28T13:34:01+00:00",
          "2024-01-29T02:16:02+00:00",
          "2024-01-29T02:34:01+00:00",
          "2024-01-30T09:22:01+00:00",
          "2024-01-30T12:28:01+00:00",
          "2024-02-13T18:04:01+00:00",
          "2024-02-13T18:10:01+00:00",
          "2024-02-21T14:58:01+00:00",
          "2024-02-23T17:46:00+00:00",
          "2024-02-23T19:34:01+00:00",
          "2024-02-23T21:22:01+00:00",
          "2024-02-24T11:37:01+00:00",
          "2024-02-24T14:43:01+00:00",
          "2024-02-25T06:55:01+00:00",
          "2024-02-25T21:07:01+00:00",
          "2024-02-25T21:37:00+00:00",
          "2024-02-26T01:13:01+00:00",
          "2024-02-26T05:19:01+00:00",
          "2024-03-28T14:20:28+00:00",
          "2024-03-28T14:20:29+00:00",
          "2024-04-29T08:34:17+00:00",
          "2024-04-29T08:40:18+00:00",
          "2024-04-30T09:10:15+00:00",
          "2024-04-30T09:16:15+00:00",
          "2024-05-01T11:07:41+00:00",
          "2024-05-01T11:13:40+00:00",
          "2024-05-02T07:13:35+00:00",
          "2024-05-02T07:19:37+00:00",
          "2024-05-03T07:06:32+00:00",
          "2024-05-03T07:06:33+00:00",
          "2024-05-03T14:24:34+00:00",
          "2024-05-04T15:54:35+00:00",
          "2024-05-04T16:00:36+00:00",
          "2024-05-09T06:06:41+00:00",
          "2024-05-20T15:01:07+00:00",
          "2024-05-21T08:43:01+00:00",
          "2024-05-23T09:13:08+00:00",
          "2024-05-24T08:19:06+00:00",
          "2024-05-24T16:25:06+00:00",
          "2024-05-24T16:25:07+00:00",
          "2024-05-25T09:25:05+00:00",
          "2024-05-25T09:25:07+00:00",
          "2024-05-27T15:43:17+00:00",
          "2024-05-28T15:37:03+00:00",
          "2024-05-28T22:07:07+00:00",
          "2024-05-30T07:38:30+00:00",
          "2024-05-30T15:20:38+00:00",
          "2024-05-31T07:26:26+00:00",
          "2024-05-31T07:32:27+00:00",
          "2024-05-31T14:32:32+00:00",
          "2024-06-01T22:38:39+00:00",
          "2024-06-03T11:26:34+00:00",
          "2024-06-04T09:56:33+00:00",
          "2024-06-11T08:01:35+00:00",
          "2024-06-11T08:01:36+00:00",
          "2024-06-11T08:07:36+00:00",
          "2024-06-11T08:37:27+00:00",
          "2024-06-11T08:37:28+00:00",
          "2024-06-12T13:19:28+00:00",
          "2024-06-13T16:31:37+00:00",
          "2024-06-13T16:31:50+00:00",
          "2024-06-13T16:31:51+00:00",
          "2024-06-13T18:37:32+00:00",
          "2024-06-19T11:46:30+00:00",
          "2024-06-19T11:52:33+00:00",
          "2024-08-27T14:17:57+00:00",
          "2024-08-27T14:18:00+00:00",
          "2024-08-27T14:23:58+00:00",
          "2024-09-18T09:21:34+00:00",
          "2024-09-18T09:27:49+00:00",
          "2024-09-18T18:03:30+00:00",
          "2024-09-18T18:09:32+00:00",
          "2024-09-19T02:27:27+00:00",
          "2024-09-19T08:33:30+00:00",
          "2024-09-19T08:39:31+00:00",
          "2024-09-20T11:51:24+00:00",
          "2024-09-26T09:57:50+00:00",
          "2024-09-26T09:58:03+00:00",
          "2024-09-29T16:45:46+00:00",
          "2024-09-29T16:51:48+00:00",
          "2024-09-29T19:03:50+00:00",
          "2024-09-29T19:09:55+00:00"
         ],
         "y": [
          1,
          1,
          1,
          1,
          1,
          1,
          1,
          1,
          1,
          1,
          1,
          1,
          1,
          1,
          1,
          1,
          1,
          1,
          1,
          1,
          1,
          1,
          1,
          1,
          1,
          1,
          1,
          1,
          1,
          1,
          1,
          1,
          1,
          1,
          1,
          1,
          1,
          1,
          1,
          1,
          1,
          1,
          1,
          1,
          1,
          1,
          1,
          1,
          1,
          1,
          1,
          1,
          1,
          1,
          1,
          1,
          1,
          1,
          1,
          1,
          1,
          1,
          1,
          1,
          1,
          1,
          1,
          1,
          1,
          1,
          1,
          1,
          1,
          1,
          1,
          1,
          1,
          1,
          1,
          1,
          1,
          1,
          1,
          1,
          1,
          1,
          1,
          1,
          1,
          1,
          1,
          1,
          1,
          1,
          1,
          1,
          1,
          1,
          2,
          1,
          1,
          1,
          1,
          1,
          1,
          1,
          1,
          1,
          1,
          1,
          1,
          1,
          1,
          1,
          1,
          1,
          1,
          1,
          1,
          1,
          1,
          1,
          1,
          1,
          1,
          1,
          1,
          1,
          1,
          1,
          3,
          1,
          2,
          1,
          1,
          1,
          2,
          2,
          1,
          1,
          1,
          1,
          1,
          1,
          1,
          1,
          1,
          1,
          1,
          1,
          1,
          1,
          1,
          1,
          1,
          1,
          1,
          1,
          1,
          1,
          1,
          1,
          1,
          1,
          1,
          1,
          1,
          1,
          1,
          1,
          1,
          1,
          1,
          1,
          1,
          1,
          1,
          1,
          1,
          1,
          1,
          1,
          1,
          1,
          1,
          1,
          1,
          1,
          1,
          1,
          1,
          1,
          1,
          1,
          1,
          1,
          1,
          1,
          1,
          1,
          1,
          1,
          1,
          1,
          1,
          1,
          1,
          1,
          1,
          1,
          1,
          1,
          1,
          1,
          1,
          1,
          1,
          1,
          1,
          1,
          1,
          1,
          1,
          1,
          1,
          1,
          2,
          1,
          1,
          1,
          2,
          1,
          1,
          1,
          1,
          1,
          1,
          1,
          1,
          1,
          1,
          1,
          1,
          1,
          1,
          1,
          1,
          1,
          1,
          1,
          1,
          1,
          1,
          1,
          1,
          1,
          1,
          1,
          1,
          1,
          1,
          1,
          1,
          1,
          1,
          1,
          1,
          1,
          1,
          1,
          1,
          1,
          1,
          1,
          1,
          1,
          1,
          1,
          1,
          1,
          1,
          1,
          1,
          1,
          1,
          1,
          1,
          1,
          3,
          2,
          1,
          1,
          1,
          1,
          1,
          1,
          1,
          1,
          1,
          1,
          1,
          1,
          1,
          1,
          2,
          1,
          1,
          2,
          1,
          2,
          1,
          1,
          1,
          2,
          1,
          1,
          1,
          1,
          1,
          1,
          1,
          1,
          1,
          1,
          3,
          1,
          1,
          2,
          1,
          1,
          1,
          1,
          2,
          2,
          1,
          1,
          1,
          1,
          1,
          1,
          1,
          1,
          1,
          1,
          1,
          1,
          1,
          1,
          1,
          1,
          1,
          2,
          1,
          1,
          2,
          1,
          1,
          1,
          1,
          1,
          1,
          1,
          1,
          1,
          1,
          1,
          1,
          1,
          1,
          1,
          1,
          1,
          1,
          1,
          1,
          1,
          1,
          2,
          1,
          3,
          1,
          1,
          1,
          3,
          1,
          2,
          1,
          1,
          1,
          1,
          1,
          1,
          1,
          1,
          2,
          1,
          3,
          1,
          1,
          1,
          2,
          1,
          2
         ]
        },
        {
         "mode": "markers",
         "name": "createdTime",
         "type": "scatter",
         "x": [
          "2020-01-29T15:52:00+00:00",
          "2020-01-31T13:04:00+00:00",
          "2020-02-02T06:40:00+00:00",
          "2020-02-02T07:11:00+00:00",
          "2020-02-02T08:44:00+00:00",
          "2020-02-03T11:19:00+00:00",
          "2020-02-06T11:03:00+00:00",
          "2020-02-10T18:21:00+00:00",
          "2020-02-13T11:06:00+00:00",
          "2020-02-14T09:43:00+00:00",
          "2020-02-15T15:06:00+00:00",
          "2020-02-17T15:05:00+00:00",
          "2020-02-24T10:50:00+00:00",
          "2020-02-25T14:39:00+00:00",
          "2020-02-28T13:14:00+00:00",
          "2020-02-28T13:18:00+00:00",
          "2020-03-04T23:16:00+00:00",
          "2020-03-04T23:22:00+00:00",
          "2020-03-05T15:02:00+00:00",
          "2020-03-06T12:51:00+00:00",
          "2020-03-06T19:33:00+00:00",
          "2020-03-09T08:56:00+00:00",
          "2020-03-12T06:38:00+00:00",
          "2020-03-12T18:56:00+00:00",
          "2020-03-13T09:36:00+00:00",
          "2020-03-13T14:36:00+00:00",
          "2020-03-14T06:32:00+00:00",
          "2020-03-14T11:41:00+00:00",
          "2020-03-19T06:32:00+00:00",
          "2020-03-20T10:22:00+00:00",
          "2020-03-24T09:36:00+00:00",
          "2020-03-24T15:46:00+00:00",
          "2020-03-27T15:35:00+00:00",
          "2020-03-30T13:53:00+00:00",
          "2020-04-02T08:52:00+00:00",
          "2020-04-02T16:13:00+00:00",
          "2020-04-03T01:16:00+00:00",
          "2020-04-03T08:02:00+00:00",
          "2020-04-03T10:30:00+00:00",
          "2020-04-04T14:55:00+00:00",
          "2020-04-04T14:58:00+00:00",
          "2020-04-06T15:51:00+00:00",
          "2020-04-07T07:28:00+00:00",
          "2020-04-07T13:39:00+00:00",
          "2020-04-08T13:28:00+00:00",
          "2020-04-18T18:59:00+00:00",
          "2020-04-18T23:51:00+00:00",
          "2020-04-19T00:02:00+00:00",
          "2020-04-19T09:35:00+00:00",
          "2020-04-20T09:01:00+00:00",
          "2020-04-20T17:40:00+00:00",
          "2020-04-20T17:42:00+00:00",
          "2020-04-21T09:36:00+00:00",
          "2020-04-21T10:08:00+00:00",
          "2020-04-21T10:09:00+00:00",
          "2020-04-21T10:10:00+00:00",
          "2020-04-21T10:48:00+00:00",
          "2020-04-21T11:00:00+00:00",
          "2020-04-21T11:01:00+00:00",
          "2020-04-21T12:56:00+00:00",
          "2020-04-21T13:02:00+00:00",
          "2020-04-21T13:03:00+00:00",
          "2020-04-24T15:53:00+00:00",
          "2020-04-26T11:42:00+00:00",
          "2020-05-01T16:51:00+00:00",
          "2020-05-01T16:53:00+00:00",
          "2020-05-03T17:43:00+00:00",
          "2020-05-22T23:28:00+00:00",
          "2020-05-23T00:08:00+00:00",
          "2020-05-29T13:48:00+00:00",
          "2020-05-29T13:49:00+00:00",
          "2020-05-29T14:00:00+00:00",
          "2020-05-30T13:55:00+00:00",
          "2020-05-30T13:56:00+00:00",
          "2020-06-01T16:01:00+00:00",
          "2020-06-01T16:02:00+00:00",
          "2020-06-02T15:42:00+00:00",
          "2020-06-02T15:43:00+00:00",
          "2020-06-10T14:40:00+00:00",
          "2020-06-15T05:34:00+00:00",
          "2020-06-15T06:30:00+00:00",
          "2020-06-17T12:50:00+00:00",
          "2020-06-18T14:07:00+00:00",
          "2020-06-18T18:34:00+00:00",
          "2020-06-19T10:32:00+00:00",
          "2020-06-23T15:47:00+00:00",
          "2020-06-23T19:30:00+00:00",
          "2020-06-24T14:25:00+00:00",
          "2020-06-24T14:39:00+00:00",
          "2020-06-30T13:35:00+00:00",
          "2020-07-06T12:16:00+00:00",
          "2020-07-06T12:17:00+00:00",
          "2020-07-06T13:11:00+00:00",
          "2020-07-06T13:14:00+00:00",
          "2020-07-06T14:46:00+00:00",
          "2020-07-06T14:47:00+00:00",
          "2020-07-06T17:49:00+00:00",
          "2020-07-06T17:50:00+00:00",
          "2020-07-06T19:24:00+00:00",
          "2020-09-09T14:37:00+00:00",
          "2020-09-09T14:39:00+00:00",
          "2020-09-09T14:40:00+00:00",
          "2020-09-11T15:02:00+00:00",
          "2020-09-11T17:34:00+00:00",
          "2020-09-16T00:13:00+00:00",
          "2020-09-16T00:17:00+00:00",
          "2020-09-16T00:18:00+00:00",
          "2020-09-16T00:24:00+00:00",
          "2020-09-16T00:25:00+00:00",
          "2020-09-16T00:26:00+00:00",
          "2020-09-21T11:42:00+00:00",
          "2020-09-23T07:56:00+00:00",
          "2020-09-23T12:12:00+00:00",
          "2020-09-23T13:33:00+00:00",
          "2020-09-24T07:35:00+00:00",
          "2020-09-24T08:03:00+00:00",
          "2020-09-28T09:13:00+00:00",
          "2020-09-28T10:31:00+00:00",
          "2020-09-29T13:02:00+00:00",
          "2020-09-29T16:39:00+00:00",
          "2020-09-29T17:34:00+00:00",
          "2020-09-30T09:57:00+00:00",
          "2020-10-19T11:31:00+00:00",
          "2020-10-20T09:00:00+00:00",
          "2020-10-22T16:04:00+00:00",
          "2020-10-27T15:50:00+00:00",
          "2020-10-30T11:25:00+00:00",
          "2020-10-30T11:27:00+00:00",
          "2020-10-30T11:28:00+00:00",
          "2020-10-30T11:29:00+00:00",
          "2020-10-30T13:41:00+00:00",
          "2020-10-30T17:02:00+00:00",
          "2020-10-30T17:03:00+00:00",
          "2020-10-30T21:28:00+00:00",
          "2020-10-30T21:29:00+00:00",
          "2020-10-30T21:30:00+00:00",
          "2020-10-30T23:41:00+00:00",
          "2020-10-30T23:50:00+00:00",
          "2020-10-31T00:26:00+00:00",
          "2020-10-31T00:34:00+00:00",
          "2020-10-31T00:37:00+00:00",
          "2020-10-31T00:38:00+00:00",
          "2020-10-31T01:39:00+00:00",
          "2020-11-16T14:32:00+00:00",
          "2020-11-17T18:53:00+00:00",
          "2020-11-19T15:58:00+00:00",
          "2020-11-20T16:03:00+00:00",
          "2020-11-24T12:00:00+00:00",
          "2020-11-24T12:50:00+00:00",
          "2020-11-24T12:53:00+00:00",
          "2020-11-24T15:55:00+00:00",
          "2020-11-26T13:53:00+00:00",
          "2020-11-26T13:54:00+00:00",
          "2020-12-07T21:19:00+00:00",
          "2020-12-10T16:12:00+00:00",
          "2020-12-13T19:13:00+00:00",
          "2020-12-14T09:29:00+00:00",
          "2020-12-22T02:54:00+00:00",
          "2021-01-01T10:57:00+00:00",
          "2021-01-02T12:48:00+00:00",
          "2021-01-02T23:40:00+00:00",
          "2021-01-05T15:42:00+00:00",
          "2021-01-06T05:04:00+00:00",
          "2021-01-06T05:25:00+00:00",
          "2021-01-06T15:00:00+00:00",
          "2021-01-08T02:55:00+00:00",
          "2021-01-09T12:31:00+00:00",
          "2021-01-10T01:02:00+00:00",
          "2021-01-10T01:04:00+00:00",
          "2021-01-10T13:01:00+00:00",
          "2021-01-10T15:50:00+00:00",
          "2021-01-10T15:51:00+00:00",
          "2021-01-10T17:31:00+00:00",
          "2021-01-10T17:35:00+00:00",
          "2021-01-13T10:13:00+00:00",
          "2021-01-13T10:16:00+00:00",
          "2021-01-18T15:12:00+00:00",
          "2021-01-18T16:39:00+00:00",
          "2021-01-18T16:42:00+00:00",
          "2021-01-18T16:44:00+00:00",
          "2021-01-19T09:19:00+00:00",
          "2021-01-19T13:37:00+00:00",
          "2021-01-20T08:00:00+00:00",
          "2021-01-20T13:35:00+00:00",
          "2021-01-20T13:38:00+00:00",
          "2021-01-21T05:03:00+00:00",
          "2021-01-21T07:52:00+00:00",
          "2021-01-21T14:10:00+00:00",
          "2021-01-21T17:44:00+00:00",
          "2021-01-22T12:02:00+00:00",
          "2021-01-23T18:26:00+00:00",
          "2021-01-23T18:30:00+00:00",
          "2021-01-24T08:46:00+00:00",
          "2021-01-24T08:50:00+00:00",
          "2021-01-26T08:54:00+00:00",
          "2021-01-26T13:40:00+00:00",
          "2021-01-26T16:20:00+00:00",
          "2021-01-26T16:22:00+00:00",
          "2021-01-27T08:30:00+00:00",
          "2021-01-28T08:08:00+00:00",
          "2021-01-29T08:20:00+00:00",
          "2021-01-30T18:51:00+00:00",
          "2021-02-03T07:56:00+00:00",
          "2021-02-04T08:31:00+00:00",
          "2021-02-05T06:35:00+00:00",
          "2021-02-05T09:16:00+00:00",
          "2021-02-05T10:18:00+00:00",
          "2021-02-08T10:52:00+00:00",
          "2021-02-08T11:38:00+00:00",
          "2021-02-13T15:22:00+00:00",
          "2021-02-13T15:24:00+00:00",
          "2021-02-13T15:40:00+00:00",
          "2021-02-13T15:44:00+00:00",
          "2021-02-17T11:47:00+00:00",
          "2021-02-17T11:48:00+00:00",
          "2021-02-17T12:03:00+00:00",
          "2021-02-17T12:04:00+00:00",
          "2021-02-21T08:47:00+00:00",
          "2021-02-21T08:49:00+00:00",
          "2021-03-19T22:22:00+00:00",
          "2021-03-19T22:23:00+00:00",
          "2021-03-19T22:25:00+00:00",
          "2021-03-20T09:21:00+00:00",
          "2021-03-20T09:22:00+00:00",
          "2021-03-20T09:24:00+00:00",
          "2021-03-20T12:28:00+00:00",
          "2021-03-20T12:29:00+00:00",
          "2021-03-20T16:27:00+00:00",
          "2021-03-20T16:28:00+00:00",
          "2021-03-20T17:17:00+00:00",
          "2021-03-20T17:18:00+00:00",
          "2021-05-21T06:23:00+00:00",
          "2021-05-21T06:26:00+00:00",
          "2021-05-21T14:57:00+00:00",
          "2021-05-21T14:58:00+00:00",
          "2021-06-07T06:55:00+00:00",
          "2021-06-07T06:57:00+00:00",
          "2021-06-07T06:59:00+00:00",
          "2021-08-27T14:25:00+00:00",
          "2021-08-31T07:33:00+00:00",
          "2021-08-31T12:44:00+00:00",
          "2021-08-31T12:46:00+00:00",
          "2021-08-31T12:47:00+00:00",
          "2021-08-31T15:34:00+00:00",
          "2021-09-08T19:18:00+00:00",
          "2021-09-08T19:20:00+00:00",
          "2021-09-10T17:06:00+00:00",
          "2021-09-11T17:20:00+00:00",
          "2021-09-12T06:28:00+00:00",
          "2021-09-15T16:35:00+00:00",
          "2021-09-16T12:36:00+00:00",
          "2021-09-17T13:38:00+00:00",
          "2021-09-17T19:58:00+00:00",
          "2021-09-17T20:00:00+00:00",
          "2021-09-17T20:38:00+00:00",
          "2022-01-24T11:45:00+00:00",
          "2022-01-24T11:48:00+00:00",
          "2022-05-10T15:30:00+00:00",
          "2022-05-10T15:44:00+00:00",
          "2022-06-15T11:06:00+00:00",
          "2022-06-15T11:10:00+00:00",
          "2022-06-16T13:53:00+00:00",
          "2022-06-24T09:05:00+00:00",
          "2022-06-24T16:26:00+00:00",
          "2022-06-28T19:42:00+00:00",
          "2022-06-28T19:43:00+00:00",
          "2022-07-22T07:37:00+00:00",
          "2022-09-20T07:40:00+00:00",
          "2022-09-20T07:42:00+00:00",
          "2022-09-20T07:45:00+00:00",
          "2023-02-06T12:47:00+00:00",
          "2023-02-06T12:48:00+00:00",
          "2023-02-06T12:50:00+00:00",
          "2023-02-07T13:03:00+00:00",
          "2023-02-07T13:04:00+00:00",
          "2023-02-07T13:06:00+00:00",
          "2023-04-24T07:04:00+00:00",
          "2023-04-24T07:05:00+00:00",
          "2023-04-24T07:07:00+00:00",
          "2023-04-24T08:19:00+00:00",
          "2023-04-24T08:20:00+00:00",
          "2023-04-24T08:21:00+00:00",
          "2023-04-24T10:26:00+00:00",
          "2023-04-24T10:27:00+00:00",
          "2023-04-24T10:28:00+00:00",
          "2023-04-25T08:20:00+00:00",
          "2023-04-25T08:21:00+00:00",
          "2023-04-25T08:22:00+00:00",
          "2023-07-17T10:35:00+00:00",
          "2023-07-17T10:38:00+00:00",
          "2023-07-17T10:39:00+00:00",
          "2023-07-18T14:07:00+00:00",
          "2023-07-18T14:08:00+00:00",
          "2023-07-19T07:50:00+00:00",
          "2023-07-21T07:22:00+00:00",
          "2023-07-23T07:12:00+00:00",
          "2023-07-24T06:55:00+00:00",
          "2023-07-24T10:55:00+00:00",
          "2023-07-25T12:07:00+00:00",
          "2023-07-25T14:32:00+00:00",
          "2023-07-25T16:19:00+00:00",
          "2023-07-26T11:38:00+00:00",
          "2023-07-26T12:56:00+00:00",
          "2023-07-27T12:24:00+00:00",
          "2024-01-19T07:59:00+00:00",
          "2024-01-19T13:07:00+00:00",
          "2024-01-19T17:00:00+00:00",
          "2024-01-19T17:02:00+00:00",
          "2024-01-20T00:52:00+00:00",
          "2024-01-20T09:35:00+00:00",
          "2024-01-20T09:38:00+00:00",
          "2024-01-20T09:39:00+00:00",
          "2024-01-22T22:45:00+00:00",
          "2024-01-23T09:39:00+00:00",
          "2024-01-23T09:40:00+00:00",
          "2024-01-23T11:31:00+00:00",
          "2024-01-23T14:08:00+00:00",
          "2024-01-23T18:25:00+00:00",
          "2024-01-23T18:29:00+00:00",
          "2024-01-23T18:30:00+00:00",
          "2024-01-24T20:11:00+00:00",
          "2024-01-24T23:59:00+00:00",
          "2024-01-26T18:14:00+00:00",
          "2024-01-27T04:35:00+00:00",
          "2024-01-27T17:23:00+00:00",
          "2024-01-28T10:04:00+00:00",
          "2024-01-28T11:32:00+00:00",
          "2024-01-28T13:27:00+00:00",
          "2024-01-29T02:12:00+00:00",
          "2024-01-29T02:31:00+00:00",
          "2024-01-30T09:14:00+00:00",
          "2024-01-30T09:16:00+00:00",
          "2024-01-30T09:17:00+00:00",
          "2024-01-30T12:20:00+00:00",
          "2024-02-13T17:56:00+00:00",
          "2024-02-13T18:01:00+00:00",
          "2024-02-13T18:04:00+00:00",
          "2024-02-21T14:55:00+00:00",
          "2024-02-23T17:39:00+00:00",
          "2024-02-23T19:29:00+00:00",
          "2024-02-23T21:16:00+00:00",
          "2024-02-24T11:32:00+00:00",
          "2024-02-24T11:34:00+00:00",
          "2024-02-24T14:37:00+00:00",
          "2024-02-24T14:38:00+00:00",
          "2024-02-25T06:48:00+00:00",
          "2024-02-25T21:01:00+00:00",
          "2024-02-25T21:31:00+00:00",
          "2024-02-26T01:08:00+00:00",
          "2024-02-26T05:14:00+00:00",
          "2024-03-28T14:17:00+00:00",
          "2024-03-28T14:18:00+00:00",
          "2024-04-29T08:30:00+00:00",
          "2024-04-29T08:33:00+00:00",
          "2024-04-30T09:09:00+00:00",
          "2024-04-30T09:14:00+00:00",
          "2024-05-01T11:03:00+00:00",
          "2024-05-01T11:07:00+00:00",
          "2024-05-02T07:11:00+00:00",
          "2024-05-02T07:13:00+00:00",
          "2024-05-03T07:02:00+00:00",
          "2024-05-03T07:04:00+00:00",
          "2024-05-03T14:18:00+00:00",
          "2024-05-03T14:20:00+00:00",
          "2024-05-04T15:53:00+00:00",
          "2024-05-04T15:58:00+00:00",
          "2024-05-09T06:02:00+00:00",
          "2024-05-09T06:04:00+00:00",
          "2024-05-20T14:55:00+00:00",
          "2024-05-21T08:40:00+00:00",
          "2024-05-23T09:10:00+00:00",
          "2024-05-24T08:14:00+00:00",
          "2024-05-24T16:18:00+00:00",
          "2024-05-24T16:19:00+00:00",
          "2024-05-25T09:19:00+00:00",
          "2024-05-25T09:22:00+00:00",
          "2024-05-27T15:37:00+00:00",
          "2024-05-28T15:34:00+00:00",
          "2024-05-28T22:03:00+00:00",
          "2024-05-30T07:36:00+00:00",
          "2024-05-30T15:14:00+00:00",
          "2024-05-31T07:25:00+00:00",
          "2024-05-31T07:26:00+00:00",
          "2024-05-31T14:28:00+00:00",
          "2024-06-01T22:32:00+00:00",
          "2024-06-03T11:21:00+00:00",
          "2024-06-04T09:53:00+00:00",
          "2024-06-11T07:59:00+00:00",
          "2024-06-11T08:00:00+00:00",
          "2024-06-11T08:02:00+00:00",
          "2024-06-11T08:32:00+00:00",
          "2024-06-11T08:34:00+00:00",
          "2024-06-11T08:35:00+00:00",
          "2024-06-12T13:13:00+00:00",
          "2024-06-12T13:14:00+00:00",
          "2024-06-12T13:15:00+00:00",
          "2024-06-13T16:26:00+00:00",
          "2024-06-13T16:28:00+00:00",
          "2024-06-13T16:30:00+00:00",
          "2024-06-13T18:31:00+00:00",
          "2024-06-13T18:32:00+00:00",
          "2024-06-19T11:43:00+00:00",
          "2024-06-19T11:45:00+00:00",
          "2024-06-19T11:48:00+00:00",
          "2024-08-27T14:15:00+00:00",
          "2024-08-27T14:17:00+00:00",
          "2024-08-27T14:18:00+00:00",
          "2024-09-18T09:19:00+00:00",
          "2024-09-18T09:22:00+00:00",
          "2024-09-18T18:01:00+00:00",
          "2024-09-18T18:05:00+00:00",
          "2024-09-19T02:25:00+00:00",
          "2024-09-19T08:29:00+00:00",
          "2024-09-19T08:31:00+00:00",
          "2024-09-19T08:32:00+00:00",
          "2024-09-20T11:44:00+00:00",
          "2024-09-20T11:45:00+00:00",
          "2024-09-20T11:46:00+00:00",
          "2024-09-26T09:53:00+00:00",
          "2024-09-26T09:54:00+00:00",
          "2024-09-29T16:42:00+00:00",
          "2024-09-29T16:45:00+00:00",
          "2024-09-29T16:46:00+00:00",
          "2024-09-29T19:02:00+00:00",
          "2024-09-29T19:04:00+00:00",
          "2024-09-29T19:05:00+00:00"
         ],
         "y": [
          1,
          1,
          1,
          1,
          1,
          1,
          1,
          1,
          1,
          1,
          1,
          1,
          1,
          1,
          1,
          1,
          1,
          1,
          1,
          1,
          1,
          1,
          1,
          1,
          1,
          1,
          1,
          1,
          1,
          1,
          1,
          1,
          1,
          1,
          1,
          1,
          1,
          1,
          1,
          1,
          1,
          1,
          1,
          1,
          1,
          1,
          1,
          1,
          1,
          1,
          1,
          1,
          1,
          1,
          1,
          1,
          1,
          1,
          1,
          1,
          1,
          1,
          1,
          1,
          1,
          1,
          1,
          1,
          1,
          1,
          1,
          1,
          1,
          1,
          1,
          1,
          1,
          1,
          1,
          1,
          1,
          1,
          1,
          1,
          1,
          1,
          1,
          1,
          1,
          1,
          1,
          1,
          1,
          1,
          1,
          1,
          1,
          1,
          2,
          1,
          1,
          1,
          1,
          1,
          1,
          1,
          1,
          1,
          1,
          1,
          1,
          1,
          1,
          1,
          1,
          1,
          1,
          1,
          1,
          1,
          1,
          1,
          1,
          1,
          1,
          1,
          1,
          1,
          1,
          1,
          3,
          1,
          2,
          1,
          1,
          1,
          2,
          2,
          1,
          1,
          1,
          1,
          1,
          1,
          1,
          1,
          1,
          1,
          1,
          1,
          1,
          1,
          1,
          1,
          1,
          1,
          1,
          1,
          1,
          1,
          1,
          1,
          1,
          1,
          1,
          1,
          1,
          1,
          1,
          1,
          1,
          1,
          1,
          1,
          1,
          1,
          1,
          1,
          1,
          1,
          1,
          1,
          1,
          1,
          1,
          1,
          1,
          1,
          1,
          1,
          1,
          1,
          1,
          1,
          1,
          1,
          1,
          1,
          1,
          1,
          1,
          1,
          1,
          1,
          1,
          1,
          1,
          1,
          1,
          1,
          1,
          1,
          1,
          1,
          1,
          1,
          1,
          1,
          1,
          1,
          1,
          1,
          1,
          1,
          1,
          1,
          2,
          1,
          1,
          1,
          2,
          1,
          1,
          1,
          1,
          1,
          1,
          1,
          1,
          1,
          1,
          1,
          1,
          1,
          1,
          1,
          1,
          1,
          1,
          1,
          1,
          1,
          1,
          1,
          1,
          1,
          1,
          1,
          1,
          1,
          1,
          1,
          1,
          1,
          1,
          1,
          1,
          1,
          1,
          1,
          1,
          1,
          1,
          1,
          1,
          1,
          1,
          1,
          1,
          1,
          1,
          1,
          1,
          1,
          1,
          1,
          1,
          1,
          1,
          1,
          1,
          2,
          1,
          1,
          1,
          1,
          1,
          1,
          1,
          1,
          1,
          1,
          1,
          1,
          1,
          1,
          1,
          1,
          1,
          1,
          1,
          1,
          1,
          1,
          1,
          1,
          1,
          1,
          1,
          1,
          1,
          1,
          1,
          1,
          1,
          1,
          1,
          1,
          1,
          1,
          1,
          1,
          1,
          1,
          1,
          1,
          1,
          1,
          1,
          1,
          1,
          1,
          1,
          1,
          1,
          1,
          1,
          1,
          1,
          1,
          1,
          1,
          1,
          1,
          1,
          1,
          1,
          1,
          1,
          1,
          1,
          1,
          1,
          1,
          1,
          1,
          1,
          1,
          1,
          1,
          1,
          1,
          1,
          1,
          1,
          1,
          1,
          1,
          1,
          1,
          1,
          1,
          1,
          1,
          1,
          1,
          1,
          1,
          1,
          1,
          1,
          1,
          1,
          1,
          1,
          1,
          1,
          1,
          1,
          2,
          1,
          1,
          1,
          1,
          1,
          1,
          1,
          1,
          1,
          1,
          1,
          1,
          1,
          1,
          1,
          1,
          1,
          1,
          1,
          1,
          1,
          1,
          1,
          1,
          1,
          1
         ]
        }
       ],
       "layout": {
        "hovermode": "x unified",
        "template": {
         "data": {
          "bar": [
           {
            "error_x": {
             "color": "#2a3f5f"
            },
            "error_y": {
             "color": "#2a3f5f"
            },
            "marker": {
             "line": {
              "color": "#E5ECF6",
              "width": 0.5
             },
             "pattern": {
              "fillmode": "overlay",
              "size": 10,
              "solidity": 0.2
             }
            },
            "type": "bar"
           }
          ],
          "barpolar": [
           {
            "marker": {
             "line": {
              "color": "#E5ECF6",
              "width": 0.5
             },
             "pattern": {
              "fillmode": "overlay",
              "size": 10,
              "solidity": 0.2
             }
            },
            "type": "barpolar"
           }
          ],
          "carpet": [
           {
            "aaxis": {
             "endlinecolor": "#2a3f5f",
             "gridcolor": "white",
             "linecolor": "white",
             "minorgridcolor": "white",
             "startlinecolor": "#2a3f5f"
            },
            "baxis": {
             "endlinecolor": "#2a3f5f",
             "gridcolor": "white",
             "linecolor": "white",
             "minorgridcolor": "white",
             "startlinecolor": "#2a3f5f"
            },
            "type": "carpet"
           }
          ],
          "choropleth": [
           {
            "colorbar": {
             "outlinewidth": 0,
             "ticks": ""
            },
            "type": "choropleth"
           }
          ],
          "contour": [
           {
            "colorbar": {
             "outlinewidth": 0,
             "ticks": ""
            },
            "colorscale": [
             [
              0,
              "#0d0887"
             ],
             [
              0.1111111111111111,
              "#46039f"
             ],
             [
              0.2222222222222222,
              "#7201a8"
             ],
             [
              0.3333333333333333,
              "#9c179e"
             ],
             [
              0.4444444444444444,
              "#bd3786"
             ],
             [
              0.5555555555555556,
              "#d8576b"
             ],
             [
              0.6666666666666666,
              "#ed7953"
             ],
             [
              0.7777777777777778,
              "#fb9f3a"
             ],
             [
              0.8888888888888888,
              "#fdca26"
             ],
             [
              1,
              "#f0f921"
             ]
            ],
            "type": "contour"
           }
          ],
          "contourcarpet": [
           {
            "colorbar": {
             "outlinewidth": 0,
             "ticks": ""
            },
            "type": "contourcarpet"
           }
          ],
          "heatmap": [
           {
            "colorbar": {
             "outlinewidth": 0,
             "ticks": ""
            },
            "colorscale": [
             [
              0,
              "#0d0887"
             ],
             [
              0.1111111111111111,
              "#46039f"
             ],
             [
              0.2222222222222222,
              "#7201a8"
             ],
             [
              0.3333333333333333,
              "#9c179e"
             ],
             [
              0.4444444444444444,
              "#bd3786"
             ],
             [
              0.5555555555555556,
              "#d8576b"
             ],
             [
              0.6666666666666666,
              "#ed7953"
             ],
             [
              0.7777777777777778,
              "#fb9f3a"
             ],
             [
              0.8888888888888888,
              "#fdca26"
             ],
             [
              1,
              "#f0f921"
             ]
            ],
            "type": "heatmap"
           }
          ],
          "heatmapgl": [
           {
            "colorbar": {
             "outlinewidth": 0,
             "ticks": ""
            },
            "colorscale": [
             [
              0,
              "#0d0887"
             ],
             [
              0.1111111111111111,
              "#46039f"
             ],
             [
              0.2222222222222222,
              "#7201a8"
             ],
             [
              0.3333333333333333,
              "#9c179e"
             ],
             [
              0.4444444444444444,
              "#bd3786"
             ],
             [
              0.5555555555555556,
              "#d8576b"
             ],
             [
              0.6666666666666666,
              "#ed7953"
             ],
             [
              0.7777777777777778,
              "#fb9f3a"
             ],
             [
              0.8888888888888888,
              "#fdca26"
             ],
             [
              1,
              "#f0f921"
             ]
            ],
            "type": "heatmapgl"
           }
          ],
          "histogram": [
           {
            "marker": {
             "pattern": {
              "fillmode": "overlay",
              "size": 10,
              "solidity": 0.2
             }
            },
            "type": "histogram"
           }
          ],
          "histogram2d": [
           {
            "colorbar": {
             "outlinewidth": 0,
             "ticks": ""
            },
            "colorscale": [
             [
              0,
              "#0d0887"
             ],
             [
              0.1111111111111111,
              "#46039f"
             ],
             [
              0.2222222222222222,
              "#7201a8"
             ],
             [
              0.3333333333333333,
              "#9c179e"
             ],
             [
              0.4444444444444444,
              "#bd3786"
             ],
             [
              0.5555555555555556,
              "#d8576b"
             ],
             [
              0.6666666666666666,
              "#ed7953"
             ],
             [
              0.7777777777777778,
              "#fb9f3a"
             ],
             [
              0.8888888888888888,
              "#fdca26"
             ],
             [
              1,
              "#f0f921"
             ]
            ],
            "type": "histogram2d"
           }
          ],
          "histogram2dcontour": [
           {
            "colorbar": {
             "outlinewidth": 0,
             "ticks": ""
            },
            "colorscale": [
             [
              0,
              "#0d0887"
             ],
             [
              0.1111111111111111,
              "#46039f"
             ],
             [
              0.2222222222222222,
              "#7201a8"
             ],
             [
              0.3333333333333333,
              "#9c179e"
             ],
             [
              0.4444444444444444,
              "#bd3786"
             ],
             [
              0.5555555555555556,
              "#d8576b"
             ],
             [
              0.6666666666666666,
              "#ed7953"
             ],
             [
              0.7777777777777778,
              "#fb9f3a"
             ],
             [
              0.8888888888888888,
              "#fdca26"
             ],
             [
              1,
              "#f0f921"
             ]
            ],
            "type": "histogram2dcontour"
           }
          ],
          "mesh3d": [
           {
            "colorbar": {
             "outlinewidth": 0,
             "ticks": ""
            },
            "type": "mesh3d"
           }
          ],
          "parcoords": [
           {
            "line": {
             "colorbar": {
              "outlinewidth": 0,
              "ticks": ""
             }
            },
            "type": "parcoords"
           }
          ],
          "pie": [
           {
            "automargin": true,
            "type": "pie"
           }
          ],
          "scatter": [
           {
            "fillpattern": {
             "fillmode": "overlay",
             "size": 10,
             "solidity": 0.2
            },
            "type": "scatter"
           }
          ],
          "scatter3d": [
           {
            "line": {
             "colorbar": {
              "outlinewidth": 0,
              "ticks": ""
             }
            },
            "marker": {
             "colorbar": {
              "outlinewidth": 0,
              "ticks": ""
             }
            },
            "type": "scatter3d"
           }
          ],
          "scattercarpet": [
           {
            "marker": {
             "colorbar": {
              "outlinewidth": 0,
              "ticks": ""
             }
            },
            "type": "scattercarpet"
           }
          ],
          "scattergeo": [
           {
            "marker": {
             "colorbar": {
              "outlinewidth": 0,
              "ticks": ""
             }
            },
            "type": "scattergeo"
           }
          ],
          "scattergl": [
           {
            "marker": {
             "colorbar": {
              "outlinewidth": 0,
              "ticks": ""
             }
            },
            "type": "scattergl"
           }
          ],
          "scattermapbox": [
           {
            "marker": {
             "colorbar": {
              "outlinewidth": 0,
              "ticks": ""
             }
            },
            "type": "scattermapbox"
           }
          ],
          "scatterpolar": [
           {
            "marker": {
             "colorbar": {
              "outlinewidth": 0,
              "ticks": ""
             }
            },
            "type": "scatterpolar"
           }
          ],
          "scatterpolargl": [
           {
            "marker": {
             "colorbar": {
              "outlinewidth": 0,
              "ticks": ""
             }
            },
            "type": "scatterpolargl"
           }
          ],
          "scatterternary": [
           {
            "marker": {
             "colorbar": {
              "outlinewidth": 0,
              "ticks": ""
             }
            },
            "type": "scatterternary"
           }
          ],
          "surface": [
           {
            "colorbar": {
             "outlinewidth": 0,
             "ticks": ""
            },
            "colorscale": [
             [
              0,
              "#0d0887"
             ],
             [
              0.1111111111111111,
              "#46039f"
             ],
             [
              0.2222222222222222,
              "#7201a8"
             ],
             [
              0.3333333333333333,
              "#9c179e"
             ],
             [
              0.4444444444444444,
              "#bd3786"
             ],
             [
              0.5555555555555556,
              "#d8576b"
             ],
             [
              0.6666666666666666,
              "#ed7953"
             ],
             [
              0.7777777777777778,
              "#fb9f3a"
             ],
             [
              0.8888888888888888,
              "#fdca26"
             ],
             [
              1,
              "#f0f921"
             ]
            ],
            "type": "surface"
           }
          ],
          "table": [
           {
            "cells": {
             "fill": {
              "color": "#EBF0F8"
             },
             "line": {
              "color": "white"
             }
            },
            "header": {
             "fill": {
              "color": "#C8D4E3"
             },
             "line": {
              "color": "white"
             }
            },
            "type": "table"
           }
          ]
         },
         "layout": {
          "annotationdefaults": {
           "arrowcolor": "#2a3f5f",
           "arrowhead": 0,
           "arrowwidth": 1
          },
          "autotypenumbers": "strict",
          "coloraxis": {
           "colorbar": {
            "outlinewidth": 0,
            "ticks": ""
           }
          },
          "colorscale": {
           "diverging": [
            [
             0,
             "#8e0152"
            ],
            [
             0.1,
             "#c51b7d"
            ],
            [
             0.2,
             "#de77ae"
            ],
            [
             0.3,
             "#f1b6da"
            ],
            [
             0.4,
             "#fde0ef"
            ],
            [
             0.5,
             "#f7f7f7"
            ],
            [
             0.6,
             "#e6f5d0"
            ],
            [
             0.7,
             "#b8e186"
            ],
            [
             0.8,
             "#7fbc41"
            ],
            [
             0.9,
             "#4d9221"
            ],
            [
             1,
             "#276419"
            ]
           ],
           "sequential": [
            [
             0,
             "#0d0887"
            ],
            [
             0.1111111111111111,
             "#46039f"
            ],
            [
             0.2222222222222222,
             "#7201a8"
            ],
            [
             0.3333333333333333,
             "#9c179e"
            ],
            [
             0.4444444444444444,
             "#bd3786"
            ],
            [
             0.5555555555555556,
             "#d8576b"
            ],
            [
             0.6666666666666666,
             "#ed7953"
            ],
            [
             0.7777777777777778,
             "#fb9f3a"
            ],
            [
             0.8888888888888888,
             "#fdca26"
            ],
            [
             1,
             "#f0f921"
            ]
           ],
           "sequentialminus": [
            [
             0,
             "#0d0887"
            ],
            [
             0.1111111111111111,
             "#46039f"
            ],
            [
             0.2222222222222222,
             "#7201a8"
            ],
            [
             0.3333333333333333,
             "#9c179e"
            ],
            [
             0.4444444444444444,
             "#bd3786"
            ],
            [
             0.5555555555555556,
             "#d8576b"
            ],
            [
             0.6666666666666666,
             "#ed7953"
            ],
            [
             0.7777777777777778,
             "#fb9f3a"
            ],
            [
             0.8888888888888888,
             "#fdca26"
            ],
            [
             1,
             "#f0f921"
            ]
           ]
          },
          "colorway": [
           "#636efa",
           "#EF553B",
           "#00cc96",
           "#ab63fa",
           "#FFA15A",
           "#19d3f3",
           "#FF6692",
           "#B6E880",
           "#FF97FF",
           "#FECB52"
          ],
          "font": {
           "color": "#2a3f5f"
          },
          "geo": {
           "bgcolor": "white",
           "lakecolor": "white",
           "landcolor": "#E5ECF6",
           "showlakes": true,
           "showland": true,
           "subunitcolor": "white"
          },
          "hoverlabel": {
           "align": "left"
          },
          "hovermode": "closest",
          "mapbox": {
           "style": "light"
          },
          "paper_bgcolor": "white",
          "plot_bgcolor": "#E5ECF6",
          "polar": {
           "angularaxis": {
            "gridcolor": "white",
            "linecolor": "white",
            "ticks": ""
           },
           "bgcolor": "#E5ECF6",
           "radialaxis": {
            "gridcolor": "white",
            "linecolor": "white",
            "ticks": ""
           }
          },
          "scene": {
           "xaxis": {
            "backgroundcolor": "#E5ECF6",
            "gridcolor": "white",
            "gridwidth": 2,
            "linecolor": "white",
            "showbackground": true,
            "ticks": "",
            "zerolinecolor": "white"
           },
           "yaxis": {
            "backgroundcolor": "#E5ECF6",
            "gridcolor": "white",
            "gridwidth": 2,
            "linecolor": "white",
            "showbackground": true,
            "ticks": "",
            "zerolinecolor": "white"
           },
           "zaxis": {
            "backgroundcolor": "#E5ECF6",
            "gridcolor": "white",
            "gridwidth": 2,
            "linecolor": "white",
            "showbackground": true,
            "ticks": "",
            "zerolinecolor": "white"
           }
          },
          "shapedefaults": {
           "line": {
            "color": "#2a3f5f"
           }
          },
          "ternary": {
           "aaxis": {
            "gridcolor": "white",
            "linecolor": "white",
            "ticks": ""
           },
           "baxis": {
            "gridcolor": "white",
            "linecolor": "white",
            "ticks": ""
           },
           "bgcolor": "#E5ECF6",
           "caxis": {
            "gridcolor": "white",
            "linecolor": "white",
            "ticks": ""
           }
          },
          "title": {
           "x": 0.05
          },
          "xaxis": {
           "automargin": true,
           "gridcolor": "white",
           "linecolor": "white",
           "ticks": "",
           "title": {
            "standoff": 15
           },
           "zerolinecolor": "white",
           "zerolinewidth": 2
          },
          "yaxis": {
           "automargin": true,
           "gridcolor": "white",
           "linecolor": "white",
           "ticks": "",
           "title": {
            "standoff": 15
           },
           "zerolinecolor": "white",
           "zerolinewidth": 2
          }
         }
        },
        "title": {
         "text": "Häufigkeit der Ausfälle"
        },
        "xaxis": {
         "rangeslider": {
          "visible": true
         },
         "tickangle": 45,
         "tickformat": "%Y-%m-%d %H:%M:%S",
         "title": {
          "text": "Datum und Uhrzeit"
         }
        },
        "yaxis": {
         "title": {
          "text": "Häufigkeit"
         }
        }
       }
      }
     },
     "metadata": {},
     "output_type": "display_data"
    }
   ],
   "source": [
    "# Datumsspalten in datetime umwandeln\n",
    "df['publishTime'] = pd.to_datetime(df['publishTime'])\n",
    "df['createdTime'] = pd.to_datetime(df['createdTime'])\n",
    "\n",
    "# Häufigkeit der Datumswerte zählen\n",
    "häufigkeit_publishTime = df['publishTime'].value_counts().sort_index()\n",
    "häufigkeit_createdTime = df['createdTime'].value_counts().sort_index()\n",
    "\n",
    "# Plotly-Figuren erstellen\n",
    "fig = go.Figure()\n",
    "\n",
    "# Punkte für publishTime hinzufügen\n",
    "fig.add_trace(go.Scatter(\n",
    "    x=häufigkeit_publishTime.index,\n",
    "    y=häufigkeit_publishTime.values,\n",
    "    mode='markers',\n",
    "    name='publishTime'\n",
    "))\n",
    "\n",
    "# Punkte für createdTime hinzufügen\n",
    "fig.add_trace(go.Scatter(\n",
    "    x=häufigkeit_createdTime.index,\n",
    "    y=häufigkeit_createdTime.values,\n",
    "    mode='markers',\n",
    "    name='createdTime'\n",
    "))\n",
    "\n",
    "# Layout anpassen\n",
    "fig.update_layout(\n",
    "    title='Häufigkeit der Ausfälle',\n",
    "    xaxis_title='Datum und Uhrzeit',\n",
    "    yaxis_title='Häufigkeit',\n",
    "    xaxis=dict(\n",
    "        tickformat='%Y-%m-%d %H:%M:%S',\n",
    "        tickangle=45,\n",
    "        rangeslider_visible=True\n",
    "    ),\n",
    "    hovermode='x unified'\n",
    ")\n",
    "\n",
    "# Diagramm anzeigen\n",
    "fig.show()\n"
   ]
  },
  {
   "cell_type": "code",
   "execution_count": 94,
   "metadata": {},
   "outputs": [
    {
     "name": "stdout",
     "output_type": "stream",
     "text": [
      "[Timestamp('2020-01-29 15:52:00+0000', tz='UTC'), Timestamp('2020-01-31 13:04:00+0000', tz='UTC'), Timestamp('2020-02-02 06:40:00+0000', tz='UTC'), Timestamp('2020-02-02 07:11:00+0000', tz='UTC'), Timestamp('2020-02-02 08:44:00+0000', tz='UTC'), Timestamp('2020-02-03 11:19:00+0000', tz='UTC'), Timestamp('2020-02-06 11:03:00+0000', tz='UTC'), Timestamp('2020-02-10 18:21:00+0000', tz='UTC'), Timestamp('2020-02-13 11:06:00+0000', tz='UTC'), Timestamp('2020-02-14 09:43:00+0000', tz='UTC'), Timestamp('2020-02-15 15:06:00+0000', tz='UTC'), Timestamp('2020-02-17 15:05:00+0000', tz='UTC'), Timestamp('2020-02-24 10:50:00+0000', tz='UTC'), Timestamp('2020-02-25 14:39:00+0000', tz='UTC'), Timestamp('2020-02-28 13:14:00+0000', tz='UTC'), Timestamp('2020-02-28 13:18:00+0000', tz='UTC'), Timestamp('2020-03-04 23:16:00+0000', tz='UTC'), Timestamp('2020-03-04 23:22:00+0000', tz='UTC'), Timestamp('2020-03-05 15:02:00+0000', tz='UTC'), Timestamp('2020-03-06 12:51:00+0000', tz='UTC'), Timestamp('2020-03-06 19:33:00+0000', tz='UTC'), Timestamp('2020-03-09 08:56:00+0000', tz='UTC'), Timestamp('2020-03-12 06:38:00+0000', tz='UTC'), Timestamp('2020-03-12 18:56:00+0000', tz='UTC'), Timestamp('2020-03-13 09:36:00+0000', tz='UTC'), Timestamp('2020-03-13 14:36:00+0000', tz='UTC'), Timestamp('2020-03-14 06:32:00+0000', tz='UTC'), Timestamp('2020-03-14 11:41:00+0000', tz='UTC'), Timestamp('2020-03-19 06:32:00+0000', tz='UTC'), Timestamp('2020-03-20 10:22:00+0000', tz='UTC'), Timestamp('2020-03-24 09:36:00+0000', tz='UTC'), Timestamp('2020-03-24 15:46:00+0000', tz='UTC'), Timestamp('2020-03-27 15:35:00+0000', tz='UTC'), Timestamp('2020-03-30 13:53:00+0000', tz='UTC'), Timestamp('2020-04-02 08:52:00+0000', tz='UTC'), Timestamp('2020-04-02 16:13:00+0000', tz='UTC'), Timestamp('2020-04-03 01:16:00+0000', tz='UTC'), Timestamp('2020-04-03 08:02:00+0000', tz='UTC'), Timestamp('2020-04-03 10:30:00+0000', tz='UTC'), Timestamp('2020-04-04 14:55:00+0000', tz='UTC'), Timestamp('2020-04-04 14:58:00+0000', tz='UTC'), Timestamp('2020-04-06 15:51:00+0000', tz='UTC'), Timestamp('2020-04-07 07:28:00+0000', tz='UTC'), Timestamp('2020-04-07 13:39:00+0000', tz='UTC'), Timestamp('2020-04-08 13:28:00+0000', tz='UTC'), Timestamp('2020-04-18 18:59:00+0000', tz='UTC'), Timestamp('2020-04-18 23:51:00+0000', tz='UTC'), Timestamp('2020-04-19 00:02:00+0000', tz='UTC'), Timestamp('2020-04-19 09:35:00+0000', tz='UTC'), Timestamp('2020-04-20 09:01:00+0000', tz='UTC'), Timestamp('2020-04-20 17:40:00+0000', tz='UTC'), Timestamp('2020-04-20 17:42:00+0000', tz='UTC'), Timestamp('2020-04-21 09:36:00+0000', tz='UTC'), Timestamp('2020-04-21 10:08:00+0000', tz='UTC'), Timestamp('2020-04-21 10:09:00+0000', tz='UTC'), Timestamp('2020-04-21 10:10:00+0000', tz='UTC'), Timestamp('2020-04-21 10:48:00+0000', tz='UTC'), Timestamp('2020-04-21 11:00:00+0000', tz='UTC'), Timestamp('2020-04-21 11:01:00+0000', tz='UTC'), Timestamp('2020-04-21 12:56:00+0000', tz='UTC'), Timestamp('2020-04-21 13:02:00+0000', tz='UTC'), Timestamp('2020-04-21 13:03:00+0000', tz='UTC'), Timestamp('2020-04-24 15:53:00+0000', tz='UTC'), Timestamp('2020-04-26 11:42:00+0000', tz='UTC'), Timestamp('2020-05-01 16:51:00+0000', tz='UTC'), Timestamp('2020-05-01 16:53:00+0000', tz='UTC'), Timestamp('2020-05-03 17:43:00+0000', tz='UTC'), Timestamp('2020-05-22 23:28:00+0000', tz='UTC'), Timestamp('2020-05-23 00:08:00+0000', tz='UTC'), Timestamp('2020-05-29 13:48:00+0000', tz='UTC'), Timestamp('2020-05-29 13:49:00+0000', tz='UTC'), Timestamp('2020-05-29 14:00:00+0000', tz='UTC'), Timestamp('2020-05-30 13:55:00+0000', tz='UTC'), Timestamp('2020-05-30 13:56:00+0000', tz='UTC'), Timestamp('2020-06-01 16:01:00+0000', tz='UTC'), Timestamp('2020-06-01 16:02:00+0000', tz='UTC'), Timestamp('2020-06-02 15:42:00+0000', tz='UTC'), Timestamp('2020-06-02 15:43:00+0000', tz='UTC'), Timestamp('2020-06-10 14:40:00+0000', tz='UTC'), Timestamp('2020-06-15 05:34:00+0000', tz='UTC'), Timestamp('2020-06-15 06:30:00+0000', tz='UTC'), Timestamp('2020-06-17 12:50:00+0000', tz='UTC'), Timestamp('2020-06-18 14:07:00+0000', tz='UTC'), Timestamp('2020-06-18 18:34:00+0000', tz='UTC'), Timestamp('2020-06-19 10:32:00+0000', tz='UTC'), Timestamp('2020-06-23 15:47:00+0000', tz='UTC'), Timestamp('2020-06-23 19:30:00+0000', tz='UTC'), Timestamp('2020-06-24 14:25:00+0000', tz='UTC'), Timestamp('2020-06-24 14:39:00+0000', tz='UTC'), Timestamp('2020-06-30 13:35:00+0000', tz='UTC'), Timestamp('2020-07-06 12:16:00+0000', tz='UTC'), Timestamp('2020-07-06 12:17:00+0000', tz='UTC'), Timestamp('2020-07-06 13:11:00+0000', tz='UTC'), Timestamp('2020-07-06 13:14:00+0000', tz='UTC'), Timestamp('2020-07-06 14:46:00+0000', tz='UTC'), Timestamp('2020-07-06 14:47:00+0000', tz='UTC'), Timestamp('2020-07-06 17:49:00+0000', tz='UTC'), Timestamp('2020-07-06 17:50:00+0000', tz='UTC'), Timestamp('2020-07-06 19:24:00+0000', tz='UTC'), Timestamp('2020-09-09 14:37:00+0000', tz='UTC'), Timestamp('2020-09-09 14:39:00+0000', tz='UTC'), Timestamp('2020-09-09 14:40:00+0000', tz='UTC'), Timestamp('2020-09-11 15:02:00+0000', tz='UTC'), Timestamp('2020-09-11 17:34:00+0000', tz='UTC'), Timestamp('2020-09-16 00:13:00+0000', tz='UTC'), Timestamp('2020-09-16 00:17:00+0000', tz='UTC'), Timestamp('2020-09-16 00:18:00+0000', tz='UTC'), Timestamp('2020-09-16 00:24:00+0000', tz='UTC'), Timestamp('2020-09-16 00:25:00+0000', tz='UTC'), Timestamp('2020-09-16 00:26:00+0000', tz='UTC'), Timestamp('2020-09-21 11:42:00+0000', tz='UTC'), Timestamp('2020-09-23 07:56:00+0000', tz='UTC'), Timestamp('2020-09-23 12:12:00+0000', tz='UTC'), Timestamp('2020-09-23 13:33:00+0000', tz='UTC'), Timestamp('2020-09-24 07:35:00+0000', tz='UTC'), Timestamp('2020-09-24 08:03:00+0000', tz='UTC'), Timestamp('2020-09-28 09:13:00+0000', tz='UTC'), Timestamp('2020-09-28 10:31:00+0000', tz='UTC'), Timestamp('2020-09-29 13:02:00+0000', tz='UTC'), Timestamp('2020-09-29 16:39:00+0000', tz='UTC'), Timestamp('2020-09-29 17:34:00+0000', tz='UTC'), Timestamp('2020-09-30 09:57:00+0000', tz='UTC'), Timestamp('2020-10-19 11:31:00+0000', tz='UTC'), Timestamp('2020-10-20 09:00:00+0000', tz='UTC'), Timestamp('2020-10-22 16:04:00+0000', tz='UTC'), Timestamp('2020-10-27 15:50:00+0000', tz='UTC'), Timestamp('2020-10-30 11:25:00+0000', tz='UTC'), Timestamp('2020-10-30 11:27:00+0000', tz='UTC'), Timestamp('2020-10-30 11:28:00+0000', tz='UTC'), Timestamp('2020-10-30 11:29:00+0000', tz='UTC'), Timestamp('2020-10-30 13:41:00+0000', tz='UTC'), Timestamp('2020-10-30 17:02:00+0000', tz='UTC'), Timestamp('2020-10-30 17:03:00+0000', tz='UTC'), Timestamp('2020-10-30 21:28:00+0000', tz='UTC'), Timestamp('2020-10-30 21:29:00+0000', tz='UTC'), Timestamp('2020-10-30 21:30:00+0000', tz='UTC'), Timestamp('2020-10-30 23:41:00+0000', tz='UTC'), Timestamp('2020-10-30 23:50:00+0000', tz='UTC'), Timestamp('2020-10-31 00:26:00+0000', tz='UTC'), Timestamp('2020-10-31 00:34:00+0000', tz='UTC'), Timestamp('2020-10-31 00:37:00+0000', tz='UTC'), Timestamp('2020-10-31 00:38:00+0000', tz='UTC'), Timestamp('2020-10-31 01:39:00+0000', tz='UTC'), Timestamp('2020-11-16 14:32:00+0000', tz='UTC'), Timestamp('2020-11-17 18:53:00+0000', tz='UTC'), Timestamp('2020-11-19 15:58:00+0000', tz='UTC'), Timestamp('2020-11-20 16:03:00+0000', tz='UTC'), Timestamp('2020-11-24 12:00:00+0000', tz='UTC'), Timestamp('2020-11-24 12:50:00+0000', tz='UTC'), Timestamp('2020-11-24 12:53:00+0000', tz='UTC'), Timestamp('2020-11-24 15:55:00+0000', tz='UTC'), Timestamp('2020-11-26 13:53:00+0000', tz='UTC'), Timestamp('2020-11-26 13:54:00+0000', tz='UTC'), Timestamp('2020-12-07 21:19:00+0000', tz='UTC'), Timestamp('2020-12-10 16:12:00+0000', tz='UTC'), Timestamp('2020-12-13 19:13:00+0000', tz='UTC'), Timestamp('2020-12-14 09:29:00+0000', tz='UTC'), Timestamp('2020-12-22 02:54:00+0000', tz='UTC'), Timestamp('2021-01-01 10:57:00+0000', tz='UTC'), Timestamp('2021-01-02 12:48:00+0000', tz='UTC'), Timestamp('2021-01-02 23:40:00+0000', tz='UTC'), Timestamp('2021-01-05 15:42:00+0000', tz='UTC'), Timestamp('2021-01-06 05:04:00+0000', tz='UTC'), Timestamp('2021-01-06 05:25:00+0000', tz='UTC'), Timestamp('2021-01-06 15:00:00+0000', tz='UTC'), Timestamp('2021-01-08 02:55:00+0000', tz='UTC'), Timestamp('2021-01-09 12:31:00+0000', tz='UTC'), Timestamp('2021-01-10 01:02:00+0000', tz='UTC'), Timestamp('2021-01-10 01:04:00+0000', tz='UTC'), Timestamp('2021-01-10 13:01:00+0000', tz='UTC'), Timestamp('2021-01-10 15:50:00+0000', tz='UTC'), Timestamp('2021-01-10 15:51:00+0000', tz='UTC'), Timestamp('2021-01-10 17:31:00+0000', tz='UTC'), Timestamp('2021-01-10 17:35:00+0000', tz='UTC'), Timestamp('2021-01-13 10:13:00+0000', tz='UTC'), Timestamp('2021-01-13 10:16:00+0000', tz='UTC'), Timestamp('2021-01-18 15:12:00+0000', tz='UTC'), Timestamp('2021-01-18 16:39:00+0000', tz='UTC'), Timestamp('2021-01-18 16:42:00+0000', tz='UTC'), Timestamp('2021-01-18 16:44:00+0000', tz='UTC'), Timestamp('2021-01-19 09:19:00+0000', tz='UTC'), Timestamp('2021-01-19 13:37:00+0000', tz='UTC'), Timestamp('2021-01-20 08:00:00+0000', tz='UTC'), Timestamp('2021-01-20 13:35:00+0000', tz='UTC'), Timestamp('2021-01-20 13:38:00+0000', tz='UTC'), Timestamp('2021-01-21 05:03:00+0000', tz='UTC'), Timestamp('2021-01-21 07:52:00+0000', tz='UTC'), Timestamp('2021-01-21 14:10:00+0000', tz='UTC'), Timestamp('2021-01-21 17:44:00+0000', tz='UTC'), Timestamp('2021-01-22 12:02:00+0000', tz='UTC'), Timestamp('2021-01-23 18:26:00+0000', tz='UTC'), Timestamp('2021-01-23 18:30:00+0000', tz='UTC'), Timestamp('2021-01-24 08:46:00+0000', tz='UTC'), Timestamp('2021-01-24 08:50:00+0000', tz='UTC'), Timestamp('2021-01-26 08:54:00+0000', tz='UTC'), Timestamp('2021-01-26 13:40:00+0000', tz='UTC'), Timestamp('2021-01-26 16:20:00+0000', tz='UTC'), Timestamp('2021-01-26 16:22:00+0000', tz='UTC'), Timestamp('2021-01-27 08:30:00+0000', tz='UTC'), Timestamp('2021-01-28 08:08:00+0000', tz='UTC'), Timestamp('2021-01-29 08:20:00+0000', tz='UTC'), Timestamp('2021-01-30 18:51:00+0000', tz='UTC'), Timestamp('2021-02-03 07:56:00+0000', tz='UTC'), Timestamp('2021-02-04 08:31:00+0000', tz='UTC'), Timestamp('2021-02-05 06:35:00+0000', tz='UTC'), Timestamp('2021-02-05 09:16:00+0000', tz='UTC'), Timestamp('2021-02-05 10:18:00+0000', tz='UTC'), Timestamp('2021-02-08 10:52:00+0000', tz='UTC'), Timestamp('2021-02-08 11:38:00+0000', tz='UTC'), Timestamp('2021-02-13 15:22:00+0000', tz='UTC'), Timestamp('2021-02-13 15:24:00+0000', tz='UTC'), Timestamp('2021-02-13 15:40:00+0000', tz='UTC'), Timestamp('2021-02-13 15:44:00+0000', tz='UTC'), Timestamp('2021-02-17 11:47:00+0000', tz='UTC'), Timestamp('2021-02-17 11:48:00+0000', tz='UTC'), Timestamp('2021-02-17 12:03:00+0000', tz='UTC'), Timestamp('2021-02-17 12:04:00+0000', tz='UTC'), Timestamp('2021-02-21 08:47:00+0000', tz='UTC'), Timestamp('2021-02-21 08:49:00+0000', tz='UTC'), Timestamp('2021-03-19 22:22:00+0000', tz='UTC'), Timestamp('2021-03-19 22:23:00+0000', tz='UTC'), Timestamp('2021-03-19 22:25:00+0000', tz='UTC'), Timestamp('2021-03-20 09:21:00+0000', tz='UTC'), Timestamp('2021-03-20 09:22:00+0000', tz='UTC'), Timestamp('2021-03-20 09:24:00+0000', tz='UTC'), Timestamp('2021-03-20 12:28:00+0000', tz='UTC'), Timestamp('2021-03-20 12:29:00+0000', tz='UTC'), Timestamp('2021-03-20 16:27:00+0000', tz='UTC'), Timestamp('2021-03-20 16:28:00+0000', tz='UTC'), Timestamp('2021-03-20 17:17:00+0000', tz='UTC'), Timestamp('2021-03-20 17:18:00+0000', tz='UTC'), Timestamp('2021-05-21 06:23:00+0000', tz='UTC'), Timestamp('2021-05-21 06:26:00+0000', tz='UTC'), Timestamp('2021-05-21 14:57:00+0000', tz='UTC'), Timestamp('2021-05-21 14:58:00+0000', tz='UTC'), Timestamp('2021-06-07 06:55:00+0000', tz='UTC'), Timestamp('2021-06-07 06:57:00+0000', tz='UTC'), Timestamp('2021-06-07 06:59:00+0000', tz='UTC'), Timestamp('2021-08-27 14:25:00+0000', tz='UTC'), Timestamp('2021-08-31 07:33:00+0000', tz='UTC'), Timestamp('2021-08-31 12:44:00+0000', tz='UTC'), Timestamp('2021-08-31 12:46:00+0000', tz='UTC'), Timestamp('2021-08-31 12:47:00+0000', tz='UTC'), Timestamp('2021-08-31 15:34:00+0000', tz='UTC'), Timestamp('2021-09-08 19:18:00+0000', tz='UTC'), Timestamp('2021-09-08 19:20:00+0000', tz='UTC'), Timestamp('2021-09-10 17:06:00+0000', tz='UTC'), Timestamp('2021-09-11 17:20:00+0000', tz='UTC'), Timestamp('2021-09-12 06:28:00+0000', tz='UTC'), Timestamp('2021-09-15 16:35:00+0000', tz='UTC'), Timestamp('2021-09-16 12:36:00+0000', tz='UTC'), Timestamp('2021-09-17 13:38:00+0000', tz='UTC'), Timestamp('2021-09-17 19:58:00+0000', tz='UTC'), Timestamp('2021-09-17 20:00:00+0000', tz='UTC'), Timestamp('2021-09-17 20:38:00+0000', tz='UTC'), Timestamp('2022-01-24 11:45:00+0000', tz='UTC'), Timestamp('2022-01-24 11:48:00+0000', tz='UTC'), Timestamp('2022-05-10 15:30:00+0000', tz='UTC'), Timestamp('2022-05-10 15:44:00+0000', tz='UTC'), Timestamp('2022-06-15 11:06:00+0000', tz='UTC'), Timestamp('2022-06-15 11:10:00+0000', tz='UTC'), Timestamp('2022-06-16 13:53:00+0000', tz='UTC'), Timestamp('2022-06-24 09:05:00+0000', tz='UTC'), Timestamp('2022-06-24 16:26:00+0000', tz='UTC'), Timestamp('2022-06-28 19:42:00+0000', tz='UTC'), Timestamp('2022-06-28 19:43:00+0000', tz='UTC'), Timestamp('2022-07-22 07:37:00+0000', tz='UTC'), Timestamp('2022-09-20 07:40:00+0000', tz='UTC'), Timestamp('2022-09-20 07:42:00+0000', tz='UTC'), Timestamp('2022-09-20 07:45:00+0000', tz='UTC'), Timestamp('2023-02-06 12:47:00+0000', tz='UTC'), Timestamp('2023-02-06 12:48:00+0000', tz='UTC'), Timestamp('2023-02-06 12:50:00+0000', tz='UTC'), Timestamp('2023-02-07 13:03:00+0000', tz='UTC'), Timestamp('2023-02-07 13:04:00+0000', tz='UTC'), Timestamp('2023-02-07 13:06:00+0000', tz='UTC'), Timestamp('2023-04-24 07:04:00+0000', tz='UTC'), Timestamp('2023-04-24 07:05:00+0000', tz='UTC'), Timestamp('2023-04-24 07:07:00+0000', tz='UTC'), Timestamp('2023-04-24 08:19:00+0000', tz='UTC'), Timestamp('2023-04-24 08:20:00+0000', tz='UTC'), Timestamp('2023-04-24 08:21:00+0000', tz='UTC'), Timestamp('2023-04-24 10:26:00+0000', tz='UTC'), Timestamp('2023-04-24 10:27:00+0000', tz='UTC'), Timestamp('2023-04-24 10:28:00+0000', tz='UTC'), Timestamp('2023-04-25 08:20:00+0000', tz='UTC'), Timestamp('2023-04-25 08:21:00+0000', tz='UTC'), Timestamp('2023-04-25 08:22:00+0000', tz='UTC'), Timestamp('2023-07-17 10:42:04+0000', tz='UTC'), Timestamp('2023-07-18 14:12:03+0000', tz='UTC'), Timestamp('2023-07-18 14:12:04+0000', tz='UTC'), Timestamp('2023-07-20 03:06:40+0000', tz='UTC'), Timestamp('2023-07-21 07:30:07+0000', tz='UTC'), Timestamp('2023-07-23 07:18:03+0000', tz='UTC'), Timestamp('2023-07-24 07:00:04+0000', tz='UTC'), Timestamp('2023-07-24 11:00:04+0000', tz='UTC'), Timestamp('2023-07-25 12:12:06+0000', tz='UTC'), Timestamp('2023-07-25 14:35:35+0000', tz='UTC'), Timestamp('2023-07-25 16:24:05+0000', tz='UTC'), Timestamp('2023-07-26 11:42:03+0000', tz='UTC'), Timestamp('2023-07-26 13:00:06+0000', tz='UTC'), Timestamp('2023-07-27 12:30:06+0000', tz='UTC'), Timestamp('2024-01-19 08:06:03+0000', tz='UTC'), Timestamp('2024-01-19 13:12:03+0000', tz='UTC'), Timestamp('2024-01-19 17:06:03+0000', tz='UTC'), Timestamp('2024-01-20 01:00:03+0000', tz='UTC'), Timestamp('2024-01-20 09:39:03+0000', tz='UTC'), Timestamp('2024-01-20 09:45:02+0000', tz='UTC'), Timestamp('2024-01-22 22:52:02+0000', tz='UTC'), Timestamp('2024-01-23 09:46:01+0000', tz='UTC'), Timestamp('2024-01-23 11:34:01+0000', tz='UTC'), Timestamp('2024-01-23 14:16:01+0000', tz='UTC'), Timestamp('2024-01-23 18:28:01+0000', tz='UTC'), Timestamp('2024-01-23 18:34:01+0000', tz='UTC'), Timestamp('2024-01-24 20:16:01+0000', tz='UTC'), Timestamp('2024-01-25 00:04:01+0000', tz='UTC'), Timestamp('2024-01-26 18:16:01+0000', tz='UTC'), Timestamp('2024-01-27 04:40:02+0000', tz='UTC'), Timestamp('2024-01-27 17:28:01+0000', tz='UTC'), Timestamp('2024-01-28 10:10:01+0000', tz='UTC'), Timestamp('2024-01-28 11:40:02+0000', tz='UTC'), Timestamp('2024-01-28 13:34:01+0000', tz='UTC'), Timestamp('2024-01-29 02:16:02+0000', tz='UTC'), Timestamp('2024-01-29 02:34:01+0000', tz='UTC'), Timestamp('2024-01-30 09:22:01+0000', tz='UTC'), Timestamp('2024-01-30 12:28:01+0000', tz='UTC'), Timestamp('2024-02-13 18:04:01+0000', tz='UTC'), Timestamp('2024-02-13 18:10:01+0000', tz='UTC'), Timestamp('2024-02-21 14:58:01+0000', tz='UTC'), Timestamp('2024-02-23 17:46:00+0000', tz='UTC'), Timestamp('2024-02-23 19:34:01+0000', tz='UTC'), Timestamp('2024-02-23 21:22:01+0000', tz='UTC'), Timestamp('2024-02-24 11:37:01+0000', tz='UTC'), Timestamp('2024-02-24 14:43:01+0000', tz='UTC'), Timestamp('2024-02-25 06:55:01+0000', tz='UTC'), Timestamp('2024-02-25 21:07:01+0000', tz='UTC'), Timestamp('2024-02-25 21:37:00+0000', tz='UTC'), Timestamp('2024-02-26 01:13:01+0000', tz='UTC'), Timestamp('2024-02-26 05:19:01+0000', tz='UTC'), Timestamp('2024-03-28 14:20:28+0000', tz='UTC'), Timestamp('2024-03-28 14:20:29+0000', tz='UTC'), Timestamp('2024-04-29 08:34:17+0000', tz='UTC'), Timestamp('2024-04-29 08:40:18+0000', tz='UTC'), Timestamp('2024-04-30 09:10:15+0000', tz='UTC'), Timestamp('2024-04-30 09:16:15+0000', tz='UTC'), Timestamp('2024-05-01 11:07:41+0000', tz='UTC'), Timestamp('2024-05-01 11:13:40+0000', tz='UTC'), Timestamp('2024-05-02 07:13:35+0000', tz='UTC'), Timestamp('2024-05-02 07:19:37+0000', tz='UTC'), Timestamp('2024-05-03 07:06:32+0000', tz='UTC'), Timestamp('2024-05-03 07:06:33+0000', tz='UTC'), Timestamp('2024-05-03 14:24:34+0000', tz='UTC'), Timestamp('2024-05-04 15:54:35+0000', tz='UTC'), Timestamp('2024-05-04 16:00:36+0000', tz='UTC'), Timestamp('2024-05-09 06:06:41+0000', tz='UTC'), Timestamp('2024-05-20 15:01:07+0000', tz='UTC'), Timestamp('2024-05-21 08:43:01+0000', tz='UTC'), Timestamp('2024-05-23 09:13:08+0000', tz='UTC'), Timestamp('2024-05-24 08:19:06+0000', tz='UTC'), Timestamp('2024-05-24 16:25:06+0000', tz='UTC'), Timestamp('2024-05-24 16:25:07+0000', tz='UTC'), Timestamp('2024-05-25 09:25:05+0000', tz='UTC'), Timestamp('2024-05-25 09:25:07+0000', tz='UTC'), Timestamp('2024-05-27 15:43:17+0000', tz='UTC'), Timestamp('2024-05-28 15:37:03+0000', tz='UTC'), Timestamp('2024-05-28 22:07:07+0000', tz='UTC'), Timestamp('2024-05-30 07:38:30+0000', tz='UTC'), Timestamp('2024-05-30 15:20:38+0000', tz='UTC'), Timestamp('2024-05-31 07:26:26+0000', tz='UTC'), Timestamp('2024-05-31 07:32:27+0000', tz='UTC'), Timestamp('2024-05-31 14:32:32+0000', tz='UTC'), Timestamp('2024-06-01 22:38:39+0000', tz='UTC'), Timestamp('2024-06-03 11:26:34+0000', tz='UTC'), Timestamp('2024-06-04 09:56:33+0000', tz='UTC'), Timestamp('2024-06-11 08:01:35+0000', tz='UTC'), Timestamp('2024-06-11 08:01:36+0000', tz='UTC'), Timestamp('2024-06-11 08:07:36+0000', tz='UTC'), Timestamp('2024-06-11 08:37:27+0000', tz='UTC'), Timestamp('2024-06-11 08:37:28+0000', tz='UTC'), Timestamp('2024-06-12 13:19:28+0000', tz='UTC'), Timestamp('2024-06-13 16:31:37+0000', tz='UTC'), Timestamp('2024-06-13 16:31:50+0000', tz='UTC'), Timestamp('2024-06-13 16:31:51+0000', tz='UTC'), Timestamp('2024-06-13 18:37:32+0000', tz='UTC'), Timestamp('2024-06-19 11:46:30+0000', tz='UTC'), Timestamp('2024-06-19 11:52:33+0000', tz='UTC'), Timestamp('2024-08-27 14:17:57+0000', tz='UTC'), Timestamp('2024-08-27 14:18:00+0000', tz='UTC'), Timestamp('2024-08-27 14:23:58+0000', tz='UTC'), Timestamp('2024-09-18 09:21:34+0000', tz='UTC'), Timestamp('2024-09-18 09:27:49+0000', tz='UTC'), Timestamp('2024-09-18 18:03:30+0000', tz='UTC'), Timestamp('2024-09-18 18:09:32+0000', tz='UTC'), Timestamp('2024-09-19 02:27:27+0000', tz='UTC'), Timestamp('2024-09-19 08:33:30+0000', tz='UTC'), Timestamp('2024-09-19 08:39:31+0000', tz='UTC'), Timestamp('2024-09-20 11:51:24+0000', tz='UTC'), Timestamp('2024-09-26 09:57:50+0000', tz='UTC'), Timestamp('2024-09-26 09:58:03+0000', tz='UTC'), Timestamp('2024-09-29 16:45:46+0000', tz='UTC'), Timestamp('2024-09-29 16:51:48+0000', tz='UTC'), Timestamp('2024-09-29 19:03:50+0000', tz='UTC'), Timestamp('2024-09-29 19:09:55+0000', tz='UTC')]\n"
     ]
    },
    {
     "data": {
      "text/plain": [
       "publishTime\n",
       "2024-06-12 13:19:28+00:00    3\n",
       "2024-06-13 18:37:32+00:00    3\n",
       "2020-10-30 13:41:00+00:00    3\n",
       "2023-07-17 10:42:04+00:00    3\n",
       "2024-01-30 09:22:01+00:00    3\n",
       "                            ..\n",
       "2020-02-28 13:14:00+00:00    1\n",
       "2020-02-28 13:18:00+00:00    1\n",
       "2020-03-04 23:16:00+00:00    1\n",
       "2020-03-04 23:22:00+00:00    1\n",
       "2020-01-31 13:04:00+00:00    1\n",
       "Name: id, Length: 403, dtype: int64"
      ]
     },
     "execution_count": 94,
     "metadata": {},
     "output_type": "execute_result"
    }
   ],
   "source": [
    "# Gruppiere nach 'publishTime' und zähle 'id' pro Gruppe\n",
    "df_publishTime = df.groupby(['publishTime'])['id'].count()\n",
    "\n",
    "# Konvertiere den Index von 'publishTime' in eine Liste und gib sie aus\n",
    "print(df_publishTime.index.tolist())\n",
    "\n",
    "# Ergebnis nach der Anzahl der 'publishTime' absteigend sortieren\n",
    "df_publishTime.sort_values(ascending=False)\n"
   ]
  },
  {
   "cell_type": "code",
   "execution_count": 95,
   "metadata": {},
   "outputs": [
    {
     "name": "stdout",
     "output_type": "stream",
     "text": [
      "['UnavailabilitiesOfElectricityFacilities']\n"
     ]
    },
    {
     "data": {
      "text/plain": [
       "messageType\n",
       "UnavailabilitiesOfElectricityFacilities    436\n",
       "Name: id, dtype: int64"
      ]
     },
     "execution_count": 95,
     "metadata": {},
     "output_type": "execute_result"
    }
   ],
   "source": [
    "# In dieser Spalte ist nur UnavailabilitiesOfElectricityFacilities\n",
    "\n",
    "# Gruppiere nach 'messageType' und zähle 'id' pro Gruppe\n",
    "df_messageType = df.groupby(['messageType'])['id'].count()\n",
    "\n",
    "# Konvertiere den Index von 'messageType' in eine Liste und gib sie aus\n",
    "print(df_messageType.index.tolist())\n",
    "\n",
    "df_messageType"
   ]
  },
  {
   "cell_type": "code",
   "execution_count": 96,
   "metadata": {},
   "outputs": [
    {
     "name": "stdout",
     "output_type": "stream",
     "text": [
      "['REMIT Information']\n"
     ]
    },
    {
     "data": {
      "text/plain": [
       "messageHeading\n",
       "REMIT Information    436\n",
       "Name: id, dtype: int64"
      ]
     },
     "execution_count": 96,
     "metadata": {},
     "output_type": "execute_result"
    }
   ],
   "source": [
    "# Ist dieser Spalte ist nur  messageHeading\n",
    "\n",
    "# Gruppiere nach 'messageHeading' und zähle 'id' pro Gruppe\n",
    "df_messageHeading = df.groupby(['messageHeading'])['id'].count()\n",
    "\n",
    "# Konvertiere den Index von 'messageHeading' in eine Liste und gib sie aus\n",
    "print(df_messageHeading.index.tolist())\n",
    "\n",
    "df_messageHeading"
   ]
  },
  {
   "cell_type": "code",
   "execution_count": 97,
   "metadata": {},
   "outputs": [
    {
     "name": "stdout",
     "output_type": "stream",
     "text": [
      "['Production unavailability']\n"
     ]
    },
    {
     "data": {
      "text/plain": [
       "eventType\n",
       "Production unavailability    436\n",
       "Name: id, dtype: int64"
      ]
     },
     "execution_count": 97,
     "metadata": {},
     "output_type": "execute_result"
    }
   ],
   "source": [
    "# Ist dieser Spalte ist nur Production unavailability\n",
    "\n",
    "# Gruppiere nach 'eventType' und zähle 'id' pro Gruppe\n",
    "df_eventType = df.groupby(['eventType'])['id'].count()\n",
    "\n",
    "# Konvertiere den Index von 'eventType' in eine Liste und gib sie aus\n",
    "print(df_eventType.index.tolist())\n",
    "\n",
    "df_eventType"
   ]
  },
  {
   "cell_type": "markdown",
   "metadata": {},
   "source": [
    "hier weitermachen"
   ]
  },
  {
   "cell_type": "code",
   "execution_count": 98,
   "metadata": {},
   "outputs": [
    {
     "name": "stdout",
     "output_type": "stream",
     "text": [
      "['Planned', 'Unplanned']\n"
     ]
    },
    {
     "data": {
      "text/plain": [
       "unavailabilityType\n",
       "Planned      348\n",
       "Unplanned     88\n",
       "Name: id, dtype: int64"
      ]
     },
     "execution_count": 98,
     "metadata": {},
     "output_type": "execute_result"
    }
   ],
   "source": [
    "# Gruppiere nach 'unavailabilityType' und zähle 'id' pro Gruppe\n",
    "df_unavailabilityType = df.groupby(['unavailabilityType'])['id'].count()\n",
    "\n",
    "# Konvertiere den Index von 'unavailabilityType' in eine Liste und gib sie aus\n",
    "print(df_unavailabilityType.index.tolist())\n",
    "\n",
    "df_unavailabilityType"
   ]
  },
  {
   "cell_type": "code",
   "execution_count": 99,
   "metadata": {},
   "outputs": [
    {
     "name": "stdout",
     "output_type": "stream",
     "text": [
      "['DONG013']\n"
     ]
    },
    {
     "data": {
      "text/plain": [
       "participantId\n",
       "DONG013    436\n",
       "Name: id, dtype: int64"
      ]
     },
     "execution_count": 99,
     "metadata": {},
     "output_type": "execute_result"
    }
   ],
   "source": [
    "# Ist dieser Spalte ist nur DONG013\n",
    "\n",
    "# Gruppiere nach 'participantId' und zähle 'id' pro Gruppe\n",
    "df_participantId = df.groupby(['participantId'])['id'].count()\n",
    "\n",
    "# Konvertiere den Index von 'participantId' in eine Liste und gib sie aus\n",
    "print(df_participantId.index.tolist())\n",
    "\n",
    "df_participantId"
   ]
  },
  {
   "cell_type": "code",
   "execution_count": 100,
   "metadata": {},
   "outputs": [
    {
     "name": "stdout",
     "output_type": "stream",
     "text": [
      "['11XDONG-PT-----2']\n"
     ]
    },
    {
     "data": {
      "text/plain": [
       "registrationCode\n",
       "11XDONG-PT-----2    436\n",
       "Name: id, dtype: int64"
      ]
     },
     "execution_count": 100,
     "metadata": {},
     "output_type": "execute_result"
    }
   ],
   "source": [
    "# Ist dieser Spalte ist nur 11XDONG-PT-----2\n",
    "\n",
    "# Gruppiere nach 'registrationCode' und zähle 'id' pro Gruppe\n",
    "df_registrationCode = df.groupby(['registrationCode'])['id'].count()\n",
    "\n",
    "# Konvertiere den Index von 'registrationCode' in eine Liste und gib sie aus\n",
    "print(df_registrationCode.index.tolist())\n",
    "\n",
    "df_registrationCode"
   ]
  },
  {
   "cell_type": "code",
   "execution_count": 101,
   "metadata": {},
   "outputs": [
    {
     "name": "stdout",
     "output_type": "stream",
     "text": [
      "['T_HOWAO-1', 'T_HOWAO-2', 'T_HOWAO-3']\n"
     ]
    },
    {
     "data": {
      "text/plain": [
       "assetId\n",
       "T_HOWAO-1    145\n",
       "T_HOWAO-2    133\n",
       "T_HOWAO-3    158\n",
       "Name: id, dtype: int64"
      ]
     },
     "execution_count": 101,
     "metadata": {},
     "output_type": "execute_result"
    }
   ],
   "source": [
    "# Gruppiere nach 'assetId' und zähle 'id' pro Gruppe\n",
    "df_assetId = df.groupby(['assetId'])['id'].count()\n",
    "\n",
    "# Konvertiere den Index von 'assetId' in eine Liste und gib sie aus\n",
    "print(df_assetId.index.tolist())\n",
    "df_assetId\n"
   ]
  },
  {
   "cell_type": "code",
   "execution_count": 102,
   "metadata": {},
   "outputs": [
    {
     "data": {
      "application/vnd.plotly.v1+json": {
       "config": {
        "plotlyServerURL": "https://plot.ly"
       },
       "data": [
        {
         "alignmentgroup": "True",
         "hovertemplate": "assetId=T_HOWAO-3<br>publishTime=%{x}<br>counter_1=%{y}<extra></extra>",
         "legendgroup": "T_HOWAO-3",
         "marker": {
          "color": "#636efa",
          "pattern": {
           "shape": ""
          }
         },
         "name": "T_HOWAO-3",
         "offsetgroup": "T_HOWAO-3",
         "orientation": "v",
         "showlegend": true,
         "textposition": "auto",
         "type": "bar",
         "x": [
          "2020-01-29",
          "2020-01-31",
          "2020-02-02",
          "2020-02-03",
          "2020-02-06",
          "2020-02-10",
          "2020-02-13",
          "2020-02-14",
          "2020-02-15",
          "2020-02-17",
          "2020-02-24",
          "2020-02-25",
          "2020-02-28",
          "2020-03-04",
          "2020-03-05",
          "2020-03-06",
          "2020-03-09",
          "2020-03-12",
          "2020-03-13",
          "2020-03-14",
          "2020-03-24",
          "2020-03-27",
          "2020-03-30",
          "2020-04-02",
          "2020-04-03",
          "2020-04-04",
          "2020-04-06",
          "2020-04-07",
          "2020-04-08",
          "2020-04-20",
          "2020-04-21",
          "2020-04-26",
          "2020-05-29",
          "2020-05-30",
          "2020-06-01",
          "2020-06-02",
          "2020-06-24",
          "2020-06-30",
          "2020-07-06",
          "2020-09-09",
          "2020-09-11",
          "2020-09-16",
          "2020-09-21",
          "2020-09-23",
          "2020-09-24",
          "2020-09-28",
          "2020-09-29",
          "2020-09-30",
          "2020-10-30",
          "2020-10-31",
          "2020-11-24",
          "2021-01-18",
          "2021-01-19",
          "2021-01-20",
          "2021-01-21",
          "2021-01-22",
          "2021-03-19",
          "2021-03-20",
          "2021-06-07",
          "2021-08-27",
          "2021-08-31",
          "2021-09-08",
          "2021-09-17",
          "2022-05-10",
          "2022-06-15",
          "2022-06-28",
          "2022-07-22",
          "2022-09-20",
          "2023-02-06",
          "2023-02-07",
          "2023-04-24",
          "2023-04-25",
          "2023-07-17",
          "2023-07-18",
          "2023-07-23",
          "2023-07-27",
          "2024-01-19",
          "2024-01-20",
          "2024-01-23",
          "2024-01-24",
          "2024-01-25",
          "2024-01-26",
          "2024-01-27",
          "2024-01-28",
          "2024-01-29",
          "2024-01-30",
          "2024-02-13",
          "2024-02-23",
          "2024-02-24",
          "2024-03-28",
          "2024-04-29",
          "2024-05-20",
          "2024-05-21",
          "2024-05-24",
          "2024-05-25",
          "2024-05-27",
          "2024-05-28",
          "2024-06-11",
          "2024-06-12",
          "2024-06-13",
          "2024-06-19",
          "2024-08-27",
          "2024-09-19",
          "2024-09-20",
          "2024-09-29"
         ],
         "xaxis": "x",
         "y": [
          1,
          1,
          3,
          1,
          1,
          1,
          1,
          1,
          1,
          1,
          1,
          1,
          2,
          2,
          1,
          2,
          1,
          2,
          2,
          2,
          2,
          1,
          1,
          2,
          3,
          2,
          1,
          2,
          1,
          1,
          2,
          1,
          2,
          1,
          1,
          1,
          1,
          1,
          5,
          1,
          2,
          2,
          1,
          3,
          2,
          2,
          3,
          1,
          4,
          2,
          2,
          1,
          1,
          2,
          1,
          1,
          1,
          4,
          1,
          1,
          3,
          1,
          1,
          2,
          1,
          1,
          1,
          1,
          1,
          1,
          3,
          1,
          1,
          1,
          1,
          1,
          1,
          1,
          2,
          1,
          1,
          1,
          2,
          3,
          2,
          1,
          1,
          1,
          1,
          1,
          1,
          1,
          1,
          2,
          1,
          1,
          2,
          2,
          1,
          2,
          1,
          1,
          2,
          1,
          2
         ],
         "yaxis": "y"
        },
        {
         "alignmentgroup": "True",
         "hovertemplate": "assetId=T_HOWAO-1<br>publishTime=%{x}<br>counter_1=%{y}<extra></extra>",
         "legendgroup": "T_HOWAO-1",
         "marker": {
          "color": "#EF553B",
          "pattern": {
           "shape": ""
          }
         },
         "name": "T_HOWAO-1",
         "offsetgroup": "T_HOWAO-1",
         "orientation": "v",
         "showlegend": true,
         "textposition": "auto",
         "type": "bar",
         "x": [
          "2020-03-19",
          "2020-03-20",
          "2020-04-20",
          "2020-04-21",
          "2020-05-22",
          "2020-05-23",
          "2020-06-10",
          "2020-06-15",
          "2020-06-17",
          "2020-06-18",
          "2020-06-24",
          "2020-09-09",
          "2020-09-16",
          "2020-10-19",
          "2020-10-20",
          "2020-10-22",
          "2020-10-27",
          "2020-10-30",
          "2020-10-31",
          "2020-11-24",
          "2020-11-26",
          "2020-12-22",
          "2021-01-01",
          "2021-01-02",
          "2021-01-05",
          "2021-01-06",
          "2021-01-08",
          "2021-01-09",
          "2021-01-10",
          "2021-01-13",
          "2021-01-18",
          "2021-01-19",
          "2021-01-20",
          "2021-01-21",
          "2021-01-23",
          "2021-01-24",
          "2021-01-26",
          "2021-01-27",
          "2021-01-28",
          "2021-01-29",
          "2021-01-30",
          "2021-02-03",
          "2021-02-04",
          "2021-02-05",
          "2021-02-08",
          "2021-02-13",
          "2021-02-17",
          "2021-02-21",
          "2021-03-19",
          "2021-03-20",
          "2021-05-21",
          "2021-06-07",
          "2021-08-31",
          "2021-09-08",
          "2021-09-17",
          "2022-01-24",
          "2022-09-20",
          "2023-02-06",
          "2023-02-07",
          "2023-04-24",
          "2023-04-25",
          "2023-07-17",
          "2023-07-18",
          "2023-07-20",
          "2023-07-24",
          "2023-07-25",
          "2024-01-19",
          "2024-01-20",
          "2024-01-22",
          "2024-01-23",
          "2024-01-30",
          "2024-02-13",
          "2024-02-24",
          "2024-03-28",
          "2024-04-29",
          "2024-04-30",
          "2024-05-01",
          "2024-05-02",
          "2024-05-03",
          "2024-05-04",
          "2024-05-09",
          "2024-05-23",
          "2024-05-24",
          "2024-05-25",
          "2024-05-30",
          "2024-05-31",
          "2024-06-01",
          "2024-06-03",
          "2024-06-04",
          "2024-06-11",
          "2024-06-12",
          "2024-06-13",
          "2024-06-19",
          "2024-08-27",
          "2024-09-18",
          "2024-09-19",
          "2024-09-20",
          "2024-09-26",
          "2024-09-29"
         ],
         "xaxis": "x",
         "y": [
          1,
          1,
          1,
          1,
          1,
          1,
          1,
          2,
          1,
          1,
          1,
          1,
          2,
          1,
          1,
          1,
          1,
          6,
          1,
          1,
          1,
          1,
          1,
          2,
          1,
          3,
          1,
          1,
          7,
          2,
          2,
          1,
          1,
          3,
          2,
          2,
          4,
          1,
          1,
          1,
          1,
          1,
          1,
          3,
          2,
          2,
          2,
          1,
          1,
          3,
          2,
          1,
          1,
          1,
          1,
          1,
          1,
          1,
          1,
          3,
          1,
          1,
          1,
          1,
          2,
          3,
          1,
          1,
          1,
          3,
          2,
          1,
          1,
          1,
          1,
          1,
          1,
          1,
          2,
          1,
          1,
          1,
          1,
          1,
          1,
          1,
          1,
          1,
          1,
          2,
          1,
          2,
          1,
          1,
          2,
          1,
          1,
          1,
          2
         ],
         "yaxis": "y"
        },
        {
         "alignmentgroup": "True",
         "hovertemplate": "assetId=T_HOWAO-2<br>publishTime=%{x}<br>counter_1=%{y}<extra></extra>",
         "legendgroup": "T_HOWAO-2",
         "marker": {
          "color": "#00cc96",
          "pattern": {
           "shape": ""
          }
         },
         "name": "T_HOWAO-2",
         "offsetgroup": "T_HOWAO-2",
         "orientation": "v",
         "showlegend": true,
         "textposition": "auto",
         "type": "bar",
         "x": [
          "2020-04-18",
          "2020-04-19",
          "2020-04-20",
          "2020-04-21",
          "2020-04-24",
          "2020-05-01",
          "2020-05-03",
          "2020-05-29",
          "2020-05-30",
          "2020-06-01",
          "2020-06-02",
          "2020-06-18",
          "2020-06-19",
          "2020-06-23",
          "2020-07-06",
          "2020-09-09",
          "2020-09-16",
          "2020-10-30",
          "2020-10-31",
          "2020-11-16",
          "2020-11-17",
          "2020-11-19",
          "2020-11-20",
          "2020-11-24",
          "2020-11-26",
          "2020-12-07",
          "2020-12-10",
          "2020-12-13",
          "2020-12-14",
          "2021-01-18",
          "2021-02-13",
          "2021-02-17",
          "2021-02-21",
          "2021-03-19",
          "2021-03-20",
          "2021-05-21",
          "2021-06-07",
          "2021-08-31",
          "2021-09-10",
          "2021-09-11",
          "2021-09-12",
          "2021-09-15",
          "2021-09-16",
          "2021-09-17",
          "2022-01-24",
          "2022-06-15",
          "2022-06-16",
          "2022-06-24",
          "2022-06-28",
          "2022-09-20",
          "2023-02-06",
          "2023-02-07",
          "2023-04-24",
          "2023-04-25",
          "2023-07-17",
          "2023-07-18",
          "2023-07-21",
          "2023-07-26",
          "2024-01-19",
          "2024-01-20",
          "2024-01-23",
          "2024-01-30",
          "2024-02-13",
          "2024-02-21",
          "2024-02-23",
          "2024-02-24",
          "2024-02-25",
          "2024-02-26",
          "2024-04-30",
          "2024-05-01",
          "2024-05-02",
          "2024-05-03",
          "2024-05-04",
          "2024-05-09",
          "2024-05-30",
          "2024-05-31",
          "2024-06-11",
          "2024-06-12",
          "2024-06-13",
          "2024-06-19",
          "2024-08-27",
          "2024-09-18",
          "2024-09-19",
          "2024-09-20",
          "2024-09-26",
          "2024-09-29"
         ],
         "xaxis": "x",
         "y": [
          2,
          2,
          1,
          7,
          1,
          2,
          1,
          1,
          1,
          1,
          1,
          1,
          1,
          2,
          5,
          1,
          2,
          7,
          2,
          1,
          1,
          1,
          1,
          1,
          1,
          1,
          1,
          1,
          1,
          1,
          2,
          2,
          1,
          1,
          4,
          2,
          1,
          1,
          1,
          1,
          1,
          1,
          1,
          2,
          1,
          1,
          1,
          2,
          1,
          1,
          1,
          1,
          3,
          1,
          1,
          1,
          1,
          2,
          2,
          2,
          2,
          1,
          1,
          1,
          2,
          2,
          3,
          2,
          1,
          1,
          1,
          2,
          1,
          1,
          1,
          2,
          2,
          1,
          2,
          1,
          1,
          2,
          1,
          1,
          1,
          2
         ],
         "yaxis": "y"
        }
       ],
       "layout": {
        "barmode": "relative",
        "legend": {
         "title": {
          "text": "assetId"
         },
         "tracegroupgap": 0
        },
        "template": {
         "data": {
          "bar": [
           {
            "error_x": {
             "color": "#2a3f5f"
            },
            "error_y": {
             "color": "#2a3f5f"
            },
            "marker": {
             "line": {
              "color": "#E5ECF6",
              "width": 0.5
             },
             "pattern": {
              "fillmode": "overlay",
              "size": 10,
              "solidity": 0.2
             }
            },
            "type": "bar"
           }
          ],
          "barpolar": [
           {
            "marker": {
             "line": {
              "color": "#E5ECF6",
              "width": 0.5
             },
             "pattern": {
              "fillmode": "overlay",
              "size": 10,
              "solidity": 0.2
             }
            },
            "type": "barpolar"
           }
          ],
          "carpet": [
           {
            "aaxis": {
             "endlinecolor": "#2a3f5f",
             "gridcolor": "white",
             "linecolor": "white",
             "minorgridcolor": "white",
             "startlinecolor": "#2a3f5f"
            },
            "baxis": {
             "endlinecolor": "#2a3f5f",
             "gridcolor": "white",
             "linecolor": "white",
             "minorgridcolor": "white",
             "startlinecolor": "#2a3f5f"
            },
            "type": "carpet"
           }
          ],
          "choropleth": [
           {
            "colorbar": {
             "outlinewidth": 0,
             "ticks": ""
            },
            "type": "choropleth"
           }
          ],
          "contour": [
           {
            "colorbar": {
             "outlinewidth": 0,
             "ticks": ""
            },
            "colorscale": [
             [
              0,
              "#0d0887"
             ],
             [
              0.1111111111111111,
              "#46039f"
             ],
             [
              0.2222222222222222,
              "#7201a8"
             ],
             [
              0.3333333333333333,
              "#9c179e"
             ],
             [
              0.4444444444444444,
              "#bd3786"
             ],
             [
              0.5555555555555556,
              "#d8576b"
             ],
             [
              0.6666666666666666,
              "#ed7953"
             ],
             [
              0.7777777777777778,
              "#fb9f3a"
             ],
             [
              0.8888888888888888,
              "#fdca26"
             ],
             [
              1,
              "#f0f921"
             ]
            ],
            "type": "contour"
           }
          ],
          "contourcarpet": [
           {
            "colorbar": {
             "outlinewidth": 0,
             "ticks": ""
            },
            "type": "contourcarpet"
           }
          ],
          "heatmap": [
           {
            "colorbar": {
             "outlinewidth": 0,
             "ticks": ""
            },
            "colorscale": [
             [
              0,
              "#0d0887"
             ],
             [
              0.1111111111111111,
              "#46039f"
             ],
             [
              0.2222222222222222,
              "#7201a8"
             ],
             [
              0.3333333333333333,
              "#9c179e"
             ],
             [
              0.4444444444444444,
              "#bd3786"
             ],
             [
              0.5555555555555556,
              "#d8576b"
             ],
             [
              0.6666666666666666,
              "#ed7953"
             ],
             [
              0.7777777777777778,
              "#fb9f3a"
             ],
             [
              0.8888888888888888,
              "#fdca26"
             ],
             [
              1,
              "#f0f921"
             ]
            ],
            "type": "heatmap"
           }
          ],
          "heatmapgl": [
           {
            "colorbar": {
             "outlinewidth": 0,
             "ticks": ""
            },
            "colorscale": [
             [
              0,
              "#0d0887"
             ],
             [
              0.1111111111111111,
              "#46039f"
             ],
             [
              0.2222222222222222,
              "#7201a8"
             ],
             [
              0.3333333333333333,
              "#9c179e"
             ],
             [
              0.4444444444444444,
              "#bd3786"
             ],
             [
              0.5555555555555556,
              "#d8576b"
             ],
             [
              0.6666666666666666,
              "#ed7953"
             ],
             [
              0.7777777777777778,
              "#fb9f3a"
             ],
             [
              0.8888888888888888,
              "#fdca26"
             ],
             [
              1,
              "#f0f921"
             ]
            ],
            "type": "heatmapgl"
           }
          ],
          "histogram": [
           {
            "marker": {
             "pattern": {
              "fillmode": "overlay",
              "size": 10,
              "solidity": 0.2
             }
            },
            "type": "histogram"
           }
          ],
          "histogram2d": [
           {
            "colorbar": {
             "outlinewidth": 0,
             "ticks": ""
            },
            "colorscale": [
             [
              0,
              "#0d0887"
             ],
             [
              0.1111111111111111,
              "#46039f"
             ],
             [
              0.2222222222222222,
              "#7201a8"
             ],
             [
              0.3333333333333333,
              "#9c179e"
             ],
             [
              0.4444444444444444,
              "#bd3786"
             ],
             [
              0.5555555555555556,
              "#d8576b"
             ],
             [
              0.6666666666666666,
              "#ed7953"
             ],
             [
              0.7777777777777778,
              "#fb9f3a"
             ],
             [
              0.8888888888888888,
              "#fdca26"
             ],
             [
              1,
              "#f0f921"
             ]
            ],
            "type": "histogram2d"
           }
          ],
          "histogram2dcontour": [
           {
            "colorbar": {
             "outlinewidth": 0,
             "ticks": ""
            },
            "colorscale": [
             [
              0,
              "#0d0887"
             ],
             [
              0.1111111111111111,
              "#46039f"
             ],
             [
              0.2222222222222222,
              "#7201a8"
             ],
             [
              0.3333333333333333,
              "#9c179e"
             ],
             [
              0.4444444444444444,
              "#bd3786"
             ],
             [
              0.5555555555555556,
              "#d8576b"
             ],
             [
              0.6666666666666666,
              "#ed7953"
             ],
             [
              0.7777777777777778,
              "#fb9f3a"
             ],
             [
              0.8888888888888888,
              "#fdca26"
             ],
             [
              1,
              "#f0f921"
             ]
            ],
            "type": "histogram2dcontour"
           }
          ],
          "mesh3d": [
           {
            "colorbar": {
             "outlinewidth": 0,
             "ticks": ""
            },
            "type": "mesh3d"
           }
          ],
          "parcoords": [
           {
            "line": {
             "colorbar": {
              "outlinewidth": 0,
              "ticks": ""
             }
            },
            "type": "parcoords"
           }
          ],
          "pie": [
           {
            "automargin": true,
            "type": "pie"
           }
          ],
          "scatter": [
           {
            "fillpattern": {
             "fillmode": "overlay",
             "size": 10,
             "solidity": 0.2
            },
            "type": "scatter"
           }
          ],
          "scatter3d": [
           {
            "line": {
             "colorbar": {
              "outlinewidth": 0,
              "ticks": ""
             }
            },
            "marker": {
             "colorbar": {
              "outlinewidth": 0,
              "ticks": ""
             }
            },
            "type": "scatter3d"
           }
          ],
          "scattercarpet": [
           {
            "marker": {
             "colorbar": {
              "outlinewidth": 0,
              "ticks": ""
             }
            },
            "type": "scattercarpet"
           }
          ],
          "scattergeo": [
           {
            "marker": {
             "colorbar": {
              "outlinewidth": 0,
              "ticks": ""
             }
            },
            "type": "scattergeo"
           }
          ],
          "scattergl": [
           {
            "marker": {
             "colorbar": {
              "outlinewidth": 0,
              "ticks": ""
             }
            },
            "type": "scattergl"
           }
          ],
          "scattermapbox": [
           {
            "marker": {
             "colorbar": {
              "outlinewidth": 0,
              "ticks": ""
             }
            },
            "type": "scattermapbox"
           }
          ],
          "scatterpolar": [
           {
            "marker": {
             "colorbar": {
              "outlinewidth": 0,
              "ticks": ""
             }
            },
            "type": "scatterpolar"
           }
          ],
          "scatterpolargl": [
           {
            "marker": {
             "colorbar": {
              "outlinewidth": 0,
              "ticks": ""
             }
            },
            "type": "scatterpolargl"
           }
          ],
          "scatterternary": [
           {
            "marker": {
             "colorbar": {
              "outlinewidth": 0,
              "ticks": ""
             }
            },
            "type": "scatterternary"
           }
          ],
          "surface": [
           {
            "colorbar": {
             "outlinewidth": 0,
             "ticks": ""
            },
            "colorscale": [
             [
              0,
              "#0d0887"
             ],
             [
              0.1111111111111111,
              "#46039f"
             ],
             [
              0.2222222222222222,
              "#7201a8"
             ],
             [
              0.3333333333333333,
              "#9c179e"
             ],
             [
              0.4444444444444444,
              "#bd3786"
             ],
             [
              0.5555555555555556,
              "#d8576b"
             ],
             [
              0.6666666666666666,
              "#ed7953"
             ],
             [
              0.7777777777777778,
              "#fb9f3a"
             ],
             [
              0.8888888888888888,
              "#fdca26"
             ],
             [
              1,
              "#f0f921"
             ]
            ],
            "type": "surface"
           }
          ],
          "table": [
           {
            "cells": {
             "fill": {
              "color": "#EBF0F8"
             },
             "line": {
              "color": "white"
             }
            },
            "header": {
             "fill": {
              "color": "#C8D4E3"
             },
             "line": {
              "color": "white"
             }
            },
            "type": "table"
           }
          ]
         },
         "layout": {
          "annotationdefaults": {
           "arrowcolor": "#2a3f5f",
           "arrowhead": 0,
           "arrowwidth": 1
          },
          "autotypenumbers": "strict",
          "coloraxis": {
           "colorbar": {
            "outlinewidth": 0,
            "ticks": ""
           }
          },
          "colorscale": {
           "diverging": [
            [
             0,
             "#8e0152"
            ],
            [
             0.1,
             "#c51b7d"
            ],
            [
             0.2,
             "#de77ae"
            ],
            [
             0.3,
             "#f1b6da"
            ],
            [
             0.4,
             "#fde0ef"
            ],
            [
             0.5,
             "#f7f7f7"
            ],
            [
             0.6,
             "#e6f5d0"
            ],
            [
             0.7,
             "#b8e186"
            ],
            [
             0.8,
             "#7fbc41"
            ],
            [
             0.9,
             "#4d9221"
            ],
            [
             1,
             "#276419"
            ]
           ],
           "sequential": [
            [
             0,
             "#0d0887"
            ],
            [
             0.1111111111111111,
             "#46039f"
            ],
            [
             0.2222222222222222,
             "#7201a8"
            ],
            [
             0.3333333333333333,
             "#9c179e"
            ],
            [
             0.4444444444444444,
             "#bd3786"
            ],
            [
             0.5555555555555556,
             "#d8576b"
            ],
            [
             0.6666666666666666,
             "#ed7953"
            ],
            [
             0.7777777777777778,
             "#fb9f3a"
            ],
            [
             0.8888888888888888,
             "#fdca26"
            ],
            [
             1,
             "#f0f921"
            ]
           ],
           "sequentialminus": [
            [
             0,
             "#0d0887"
            ],
            [
             0.1111111111111111,
             "#46039f"
            ],
            [
             0.2222222222222222,
             "#7201a8"
            ],
            [
             0.3333333333333333,
             "#9c179e"
            ],
            [
             0.4444444444444444,
             "#bd3786"
            ],
            [
             0.5555555555555556,
             "#d8576b"
            ],
            [
             0.6666666666666666,
             "#ed7953"
            ],
            [
             0.7777777777777778,
             "#fb9f3a"
            ],
            [
             0.8888888888888888,
             "#fdca26"
            ],
            [
             1,
             "#f0f921"
            ]
           ]
          },
          "colorway": [
           "#636efa",
           "#EF553B",
           "#00cc96",
           "#ab63fa",
           "#FFA15A",
           "#19d3f3",
           "#FF6692",
           "#B6E880",
           "#FF97FF",
           "#FECB52"
          ],
          "font": {
           "color": "#2a3f5f"
          },
          "geo": {
           "bgcolor": "white",
           "lakecolor": "white",
           "landcolor": "#E5ECF6",
           "showlakes": true,
           "showland": true,
           "subunitcolor": "white"
          },
          "hoverlabel": {
           "align": "left"
          },
          "hovermode": "closest",
          "mapbox": {
           "style": "light"
          },
          "paper_bgcolor": "white",
          "plot_bgcolor": "#E5ECF6",
          "polar": {
           "angularaxis": {
            "gridcolor": "white",
            "linecolor": "white",
            "ticks": ""
           },
           "bgcolor": "#E5ECF6",
           "radialaxis": {
            "gridcolor": "white",
            "linecolor": "white",
            "ticks": ""
           }
          },
          "scene": {
           "xaxis": {
            "backgroundcolor": "#E5ECF6",
            "gridcolor": "white",
            "gridwidth": 2,
            "linecolor": "white",
            "showbackground": true,
            "ticks": "",
            "zerolinecolor": "white"
           },
           "yaxis": {
            "backgroundcolor": "#E5ECF6",
            "gridcolor": "white",
            "gridwidth": 2,
            "linecolor": "white",
            "showbackground": true,
            "ticks": "",
            "zerolinecolor": "white"
           },
           "zaxis": {
            "backgroundcolor": "#E5ECF6",
            "gridcolor": "white",
            "gridwidth": 2,
            "linecolor": "white",
            "showbackground": true,
            "ticks": "",
            "zerolinecolor": "white"
           }
          },
          "shapedefaults": {
           "line": {
            "color": "#2a3f5f"
           }
          },
          "ternary": {
           "aaxis": {
            "gridcolor": "white",
            "linecolor": "white",
            "ticks": ""
           },
           "baxis": {
            "gridcolor": "white",
            "linecolor": "white",
            "ticks": ""
           },
           "bgcolor": "#E5ECF6",
           "caxis": {
            "gridcolor": "white",
            "linecolor": "white",
            "ticks": ""
           }
          },
          "title": {
           "x": 0.05
          },
          "xaxis": {
           "automargin": true,
           "gridcolor": "white",
           "linecolor": "white",
           "ticks": "",
           "title": {
            "standoff": 15
           },
           "zerolinecolor": "white",
           "zerolinewidth": 2
          },
          "yaxis": {
           "automargin": true,
           "gridcolor": "white",
           "linecolor": "white",
           "ticks": "",
           "title": {
            "standoff": 15
           },
           "zerolinecolor": "white",
           "zerolinewidth": 2
          }
         }
        },
        "title": {
         "text": "Ausfälle der verschiedenen Windanlagen (Tagesbasis)",
         "x": 0.5
        },
        "xaxis": {
         "anchor": "y",
         "domain": [
          0,
          1
         ],
         "rangeslider": {
          "visible": true
         },
         "title": {
          "text": "Datum"
         },
         "type": "date"
        },
        "yaxis": {
         "anchor": "x",
         "domain": [
          0,
          1
         ],
         "title": {
          "text": "Anzahl"
         }
        }
       }
      }
     },
     "metadata": {},
     "output_type": "display_data"
    }
   ],
   "source": [
    "df['counter_1'] = 1\n",
    "\n",
    "# 'publishTime' in datetime umwandeln und auf das Datum reduzieren\n",
    "df['publishTime'] = pd.to_datetime(df['publishTime']).dt.date\n",
    "\n",
    "# Daten aggregieren (z.B. durch Summieren von 'counter_1' pro Tag und 'assetId')\n",
    "df_aggregated = df.groupby(['publishTime', 'assetId'], as_index=False).agg({'counter_1': 'sum'})\n",
    "\n",
    "# Balkendiagramm erstellen\n",
    "fig = px.bar(df_aggregated, x='publishTime', y='counter_1', color='assetId',\n",
    "             title='Ausfälle der verschiedenen Windanlagen (Tagesbasis)',\n",
    "             )\n",
    "\n",
    "# Range Slider hinzufügen\n",
    "fig.update_layout(\n",
    "    xaxis=dict(\n",
    "        title='Datum',\n",
    "        rangeslider=dict(visible=True),\n",
    "        type='date'\n",
    "    ),\n",
    "    yaxis_title='Anzahl',\n",
    "    title_x=0.5,  # Titel zentrieren\n",
    ")\n",
    "\n",
    "# Diagramm anzeigen\n",
    "fig.show()\n",
    "\n",
    "         \n"
   ]
  },
  {
   "cell_type": "code",
   "execution_count": 103,
   "metadata": {},
   "outputs": [
    {
     "name": "stdout",
     "output_type": "stream",
     "text": [
      "[datetime.date(2020, 1, 29), datetime.date(2020, 1, 31), datetime.date(2020, 2, 2), datetime.date(2020, 2, 3), datetime.date(2020, 2, 6), datetime.date(2020, 2, 10), datetime.date(2020, 2, 13), datetime.date(2020, 2, 14), datetime.date(2020, 2, 15), datetime.date(2020, 2, 17), datetime.date(2020, 2, 24), datetime.date(2020, 2, 25), datetime.date(2020, 2, 28), datetime.date(2020, 3, 4), datetime.date(2020, 3, 5), datetime.date(2020, 3, 6), datetime.date(2020, 3, 9), datetime.date(2020, 3, 12), datetime.date(2020, 3, 13), datetime.date(2020, 3, 14), datetime.date(2020, 3, 19), datetime.date(2020, 3, 20), datetime.date(2020, 3, 24), datetime.date(2020, 3, 27), datetime.date(2020, 3, 30), datetime.date(2020, 4, 2), datetime.date(2020, 4, 3), datetime.date(2020, 4, 4), datetime.date(2020, 4, 6), datetime.date(2020, 4, 7), datetime.date(2020, 4, 8), datetime.date(2020, 4, 18), datetime.date(2020, 4, 19), datetime.date(2020, 4, 20), datetime.date(2020, 4, 21), datetime.date(2020, 4, 24), datetime.date(2020, 4, 26), datetime.date(2020, 5, 1), datetime.date(2020, 5, 3), datetime.date(2020, 5, 22), datetime.date(2020, 5, 23), datetime.date(2020, 5, 29), datetime.date(2020, 5, 30), datetime.date(2020, 6, 1), datetime.date(2020, 6, 2), datetime.date(2020, 6, 10), datetime.date(2020, 6, 15), datetime.date(2020, 6, 17), datetime.date(2020, 6, 18), datetime.date(2020, 6, 19), datetime.date(2020, 6, 23), datetime.date(2020, 6, 24), datetime.date(2020, 6, 30), datetime.date(2020, 7, 6), datetime.date(2020, 9, 9), datetime.date(2020, 9, 11), datetime.date(2020, 9, 16), datetime.date(2020, 9, 21), datetime.date(2020, 9, 23), datetime.date(2020, 9, 24), datetime.date(2020, 9, 28), datetime.date(2020, 9, 29), datetime.date(2020, 9, 30), datetime.date(2020, 10, 19), datetime.date(2020, 10, 20), datetime.date(2020, 10, 22), datetime.date(2020, 10, 27), datetime.date(2020, 10, 30), datetime.date(2020, 10, 31), datetime.date(2020, 11, 16), datetime.date(2020, 11, 17), datetime.date(2020, 11, 19), datetime.date(2020, 11, 20), datetime.date(2020, 11, 24), datetime.date(2020, 11, 26), datetime.date(2020, 12, 7), datetime.date(2020, 12, 10), datetime.date(2020, 12, 13), datetime.date(2020, 12, 14), datetime.date(2020, 12, 22), datetime.date(2021, 1, 1), datetime.date(2021, 1, 2), datetime.date(2021, 1, 5), datetime.date(2021, 1, 6), datetime.date(2021, 1, 8), datetime.date(2021, 1, 9), datetime.date(2021, 1, 10), datetime.date(2021, 1, 13), datetime.date(2021, 1, 18), datetime.date(2021, 1, 19), datetime.date(2021, 1, 20), datetime.date(2021, 1, 21), datetime.date(2021, 1, 22), datetime.date(2021, 1, 23), datetime.date(2021, 1, 24), datetime.date(2021, 1, 26), datetime.date(2021, 1, 27), datetime.date(2021, 1, 28), datetime.date(2021, 1, 29), datetime.date(2021, 1, 30), datetime.date(2021, 2, 3), datetime.date(2021, 2, 4), datetime.date(2021, 2, 5), datetime.date(2021, 2, 8), datetime.date(2021, 2, 13), datetime.date(2021, 2, 17), datetime.date(2021, 2, 21), datetime.date(2021, 3, 19), datetime.date(2021, 3, 20), datetime.date(2021, 5, 21), datetime.date(2021, 6, 7), datetime.date(2021, 8, 27), datetime.date(2021, 8, 31), datetime.date(2021, 9, 8), datetime.date(2021, 9, 10), datetime.date(2021, 9, 11), datetime.date(2021, 9, 12), datetime.date(2021, 9, 15), datetime.date(2021, 9, 16), datetime.date(2021, 9, 17), datetime.date(2022, 1, 24), datetime.date(2022, 5, 10), datetime.date(2022, 6, 15), datetime.date(2022, 6, 16), datetime.date(2022, 6, 24), datetime.date(2022, 6, 28), datetime.date(2022, 7, 22), datetime.date(2022, 9, 20), datetime.date(2023, 2, 6), datetime.date(2023, 2, 7), datetime.date(2023, 4, 24), datetime.date(2023, 4, 25), datetime.date(2023, 7, 17), datetime.date(2023, 7, 18), datetime.date(2023, 7, 20), datetime.date(2023, 7, 21), datetime.date(2023, 7, 23), datetime.date(2023, 7, 24), datetime.date(2023, 7, 25), datetime.date(2023, 7, 26), datetime.date(2023, 7, 27), datetime.date(2024, 1, 19), datetime.date(2024, 1, 20), datetime.date(2024, 1, 22), datetime.date(2024, 1, 23), datetime.date(2024, 1, 24), datetime.date(2024, 1, 25), datetime.date(2024, 1, 26), datetime.date(2024, 1, 27), datetime.date(2024, 1, 28), datetime.date(2024, 1, 29), datetime.date(2024, 1, 30), datetime.date(2024, 2, 13), datetime.date(2024, 2, 21), datetime.date(2024, 2, 23), datetime.date(2024, 2, 24), datetime.date(2024, 2, 25), datetime.date(2024, 2, 26), datetime.date(2024, 3, 28), datetime.date(2024, 4, 29), datetime.date(2024, 4, 30), datetime.date(2024, 5, 1), datetime.date(2024, 5, 2), datetime.date(2024, 5, 3), datetime.date(2024, 5, 4), datetime.date(2024, 5, 9), datetime.date(2024, 5, 20), datetime.date(2024, 5, 21), datetime.date(2024, 5, 23), datetime.date(2024, 5, 24), datetime.date(2024, 5, 25), datetime.date(2024, 5, 27), datetime.date(2024, 5, 28), datetime.date(2024, 5, 30), datetime.date(2024, 5, 31), datetime.date(2024, 6, 1), datetime.date(2024, 6, 3), datetime.date(2024, 6, 4), datetime.date(2024, 6, 11), datetime.date(2024, 6, 12), datetime.date(2024, 6, 13), datetime.date(2024, 6, 19), datetime.date(2024, 8, 27), datetime.date(2024, 9, 18), datetime.date(2024, 9, 19), datetime.date(2024, 9, 20), datetime.date(2024, 9, 26), datetime.date(2024, 9, 29)]\n"
     ]
    },
    {
     "data": {
      "text/plain": [
       "publishTime\n",
       "2020-10-30    17\n",
       "2021-03-20    11\n",
       "2020-07-06    10\n",
       "2020-04-21    10\n",
       "2023-04-24     9\n",
       "              ..\n",
       "2024-05-21     1\n",
       "2024-05-27     1\n",
       "2024-06-03     1\n",
       "2024-06-01     1\n",
       "2024-06-04     1\n",
       "Name: id, Length: 188, dtype: int64"
      ]
     },
     "execution_count": 103,
     "metadata": {},
     "output_type": "execute_result"
    }
   ],
   "source": [
    "# Gruppiere nach 'publishTime' und zähle 'id' pro Gruppe\n",
    "df_publishTime = df.groupby(['publishTime'])['id'].count()\n",
    "\n",
    "# Konvertiere den Index von 'publishTime' in eine Liste und gib sie aus\n",
    "print(df_publishTime.index.tolist())\n",
    "\n",
    "# Ergebnis nach der Anzahl der 'publishTime' absteigend sortieren\n",
    "df_publishTime.sort_values(ascending=False)\n"
   ]
  },
  {
   "cell_type": "code",
   "execution_count": 104,
   "metadata": {},
   "outputs": [
    {
     "name": "stdout",
     "output_type": "stream",
     "text": [
      "['Production']\n"
     ]
    },
    {
     "data": {
      "text/plain": [
       "assetType\n",
       "Production    436\n",
       "Name: id, dtype: int64"
      ]
     },
     "execution_count": 104,
     "metadata": {},
     "output_type": "execute_result"
    }
   ],
   "source": [
    "# Ist dieser Spalte ist nur Production\n",
    "\n",
    "# Gruppiere nach 'assetType' und zähle 'id' pro Gruppe\n",
    "df_assetType = df.groupby(['assetType'])['id'].count()\n",
    "\n",
    "# Konvertiere den Index von 'assetType' in eine Liste und gib sie aus\n",
    "print(df_assetType.index.tolist())\n",
    "\n",
    "df_assetType"
   ]
  },
  {
   "cell_type": "code",
   "execution_count": 105,
   "metadata": {},
   "outputs": [
    {
     "name": "stdout",
     "output_type": "stream",
     "text": [
      "['HOWAO-1', 'HOWAO-2', 'HOWAO-3']\n"
     ]
    },
    {
     "data": {
      "text/plain": [
       "affectedUnit\n",
       "HOWAO-1    145\n",
       "HOWAO-2    133\n",
       "HOWAO-3    158\n",
       "Name: id, dtype: int64"
      ]
     },
     "execution_count": 105,
     "metadata": {},
     "output_type": "execute_result"
    }
   ],
   "source": [
    "# Gruppiere nach 'affectedUnit' und zähle 'id' pro Gruppe\n",
    "df_affectedUnit = df.groupby(['affectedUnit'])['id'].count()\n",
    "\n",
    "# Konvertiere den Index von 'affectedUnit' in eine Liste und gib sie aus\n",
    "print(df_affectedUnit.index.tolist())\n",
    "\n",
    "df_affectedUnit"
   ]
  },
  {
   "cell_type": "code",
   "execution_count": 106,
   "metadata": {},
   "outputs": [
    {
     "name": "stdout",
     "output_type": "stream",
     "text": [
      "['48W00000HOWAO-1M', '48W00000HOWAO-2K', '48W00000HOWAO-3I']\n"
     ]
    },
    {
     "data": {
      "text/plain": [
       "affectedUnitEIC\n",
       "48W00000HOWAO-1M    145\n",
       "48W00000HOWAO-2K    133\n",
       "48W00000HOWAO-3I    158\n",
       "Name: id, dtype: int64"
      ]
     },
     "execution_count": 106,
     "metadata": {},
     "output_type": "execute_result"
    }
   ],
   "source": [
    "# Gruppiere nach 'affectedUnitEIC' und zähle 'id' pro Gruppe\n",
    "df_affectedUnitEIC = df.groupby(['affectedUnitEIC'])['id'].count()\n",
    "\n",
    "# Konvertiere den Index von 'affectedUnitEIC' in eine Liste und gib sie aus\n",
    "print(df_affectedUnitEIC.index.tolist())\n",
    "\n",
    "df_affectedUnitEIC"
   ]
  },
  {
   "cell_type": "code",
   "execution_count": 107,
   "metadata": {},
   "outputs": [
    {
     "name": "stdout",
     "output_type": "stream",
     "text": [
      "['B7']\n"
     ]
    },
    {
     "data": {
      "text/plain": [
       "affectedArea\n",
       "B7    436\n",
       "Name: id, dtype: int64"
      ]
     },
     "execution_count": 107,
     "metadata": {},
     "output_type": "execute_result"
    }
   ],
   "source": [
    "# Ist dieser Spalte ist nur B7\n",
    "\n",
    "# Gruppiere nach 'affectedArea' und zähle 'id' pro Gruppe\n",
    "df_affectedArea = df.groupby(['affectedArea'])['id'].count()\n",
    "\n",
    "# Konvertiere den Index von 'affectedArea' in eine Liste und gib sie aus\n",
    "print(df_affectedArea.index.tolist())\n",
    "\n",
    "df_affectedArea"
   ]
  },
  {
   "cell_type": "code",
   "execution_count": 108,
   "metadata": {},
   "outputs": [
    {
     "name": "stdout",
     "output_type": "stream",
     "text": [
      "['10YGB----------A']\n"
     ]
    },
    {
     "data": {
      "text/plain": [
       "biddingZone\n",
       "10YGB----------A    436\n",
       "Name: id, dtype: int64"
      ]
     },
     "execution_count": 108,
     "metadata": {},
     "output_type": "execute_result"
    }
   ],
   "source": [
    "# Ist dieser Spalte ist nur 10YGB----------A\n",
    "\n",
    "# Gruppiere nach 'biddingZone' und zähle 'id' pro Gruppe\n",
    "df_biddingZone = df.groupby(['biddingZone'])['id'].count()\n",
    "\n",
    "# Liste der eindeutigen 'biddingZone'-Werte ausgeben\n",
    "print(df_biddingZone.index.tolist())\n",
    "\n",
    "df_biddingZone"
   ]
  },
  {
   "cell_type": "code",
   "execution_count": 109,
   "metadata": {},
   "outputs": [
    {
     "name": "stdout",
     "output_type": "stream",
     "text": [
      "['Wind Offshore']\n"
     ]
    },
    {
     "data": {
      "text/plain": [
       "fuelType\n",
       "Wind Offshore    436\n",
       "Name: id, dtype: int64"
      ]
     },
     "execution_count": 109,
     "metadata": {},
     "output_type": "execute_result"
    }
   ],
   "source": [
    "# Ist dieser Spalte ist nur Wind Offshore\n",
    "\n",
    "# Gruppiere nach 'fuelType' und zähle 'id' pro Gruppe\n",
    "df_fuelType = df.groupby(['fuelType'])['id'].count()\n",
    "\n",
    "# Liste der eindeutigen 'fuelType'-Werte ausgeben\n",
    "print(df_fuelType.index.tolist())\n",
    "\n",
    "df_fuelType"
   ]
  },
  {
   "cell_type": "code",
   "execution_count": 110,
   "metadata": {},
   "outputs": [
    {
     "name": "stdout",
     "output_type": "stream",
     "text": [
      "[400, 406]\n"
     ]
    },
    {
     "data": {
      "text/plain": [
       "normalCapacity\n",
       "400    431\n",
       "406      5\n",
       "Name: id, dtype: int64"
      ]
     },
     "execution_count": 110,
     "metadata": {},
     "output_type": "execute_result"
    }
   ],
   "source": [
    "# Gruppiere nach 'normalCapacity' und zähle 'id' pro Gruppe\n",
    "df_normalCapacity = df.groupby(['normalCapacity'])['id'].count()\n",
    "\n",
    "# Liste der eindeutigen 'normalCapacity'-Werte ausgeben\n",
    "print(df_normalCapacity.index.tolist())\n",
    "\n",
    "df_normalCapacity"
   ]
  },
  {
   "cell_type": "code",
   "execution_count": 111,
   "metadata": {},
   "outputs": [
    {
     "name": "stdout",
     "output_type": "stream",
     "text": [
      "[0, 75, 77, 98, 100, 105, 140, 150, 161, 168, 173, 175, 182, 189, 190, 196, 200, 203, 224, 238, 240, 245, 250, 252, 259, 260, 266, 273, 280, 287, 294, 300]\n"
     ]
    },
    {
     "data": {
      "text/plain": [
       "availableCapacity\n",
       "0      201\n",
       "75      11\n",
       "77       1\n",
       "98       7\n",
       "100      3\n",
       "105      2\n",
       "140      5\n",
       "150     14\n",
       "161      2\n",
       "168      2\n",
       "173      2\n",
       "175      2\n",
       "182      1\n",
       "189      2\n",
       "190      1\n",
       "196      2\n",
       "200     44\n",
       "203      2\n",
       "224      2\n",
       "238      2\n",
       "240     12\n",
       "245      6\n",
       "250     33\n",
       "252      2\n",
       "259      1\n",
       "260      5\n",
       "266     17\n",
       "273     11\n",
       "280     13\n",
       "287     10\n",
       "294     17\n",
       "300      1\n",
       "Name: id, dtype: int64"
      ]
     },
     "execution_count": 111,
     "metadata": {},
     "output_type": "execute_result"
    }
   ],
   "source": [
    "# Gruppiere nach 'availableCapacity' und zähle 'id' pro Gruppe\n",
    "df_availableCapacity = df.groupby(['availableCapacity'])['id'].count()\n",
    "\n",
    "# Liste der eindeutigen 'availableCapacity'-Werte ausgeben\n",
    "print(df_availableCapacity.index.tolist())\n",
    "\n",
    "df_availableCapacity"
   ]
  },
  {
   "cell_type": "code",
   "execution_count": 112,
   "metadata": {},
   "outputs": [
    {
     "data": {
      "application/vnd.plotly.v1+json": {
       "config": {
        "plotlyServerURL": "https://plot.ly"
       },
       "data": [
        {
         "name": "availableCapacity: 0",
         "type": "bar",
         "visible": true,
         "x": [
          "2020-02-28",
          "2020-03-04",
          "2020-03-12",
          "2020-03-19",
          "2020-03-20",
          "2020-05-01",
          "2020-05-03",
          "2020-05-22",
          "2020-05-23",
          "2020-05-29",
          "2020-06-10",
          "2020-06-15",
          "2020-06-17",
          "2020-06-18",
          "2020-06-19",
          "2020-06-23",
          "2020-06-24",
          "2020-06-30",
          "2020-07-06",
          "2020-09-09",
          "2020-09-11",
          "2020-09-16",
          "2020-09-21",
          "2020-09-23",
          "2020-09-24",
          "2020-09-28",
          "2020-09-29",
          "2020-09-30",
          "2020-10-19",
          "2020-10-20",
          "2020-10-22",
          "2020-10-27",
          "2020-10-30",
          "2020-10-31",
          "2020-11-24",
          "2020-11-26",
          "2020-12-07",
          "2020-12-10",
          "2020-12-13",
          "2020-12-14",
          "2021-01-20",
          "2021-01-21",
          "2021-01-22",
          "2021-03-19",
          "2021-03-20",
          "2021-05-21",
          "2021-06-07",
          "2021-08-27",
          "2021-08-31",
          "2022-05-10",
          "2022-09-20",
          "2023-02-06",
          "2023-02-07",
          "2023-07-17",
          "2023-07-18",
          "2023-07-20",
          "2023-07-21",
          "2023-07-23",
          "2023-07-24",
          "2023-07-25",
          "2023-07-26",
          "2023-07-27",
          "2024-01-19",
          "2024-01-20",
          "2024-01-23",
          "2024-01-30",
          "2024-02-13",
          "2024-02-21",
          "2024-02-23",
          "2024-02-24",
          "2024-03-28",
          "2024-04-29",
          "2024-05-01",
          "2024-05-02",
          "2024-05-03",
          "2024-05-09",
          "2024-05-20",
          "2024-05-21",
          "2024-05-23",
          "2024-05-24",
          "2024-05-25",
          "2024-05-27",
          "2024-05-28",
          "2024-05-30",
          "2024-05-31",
          "2024-06-01",
          "2024-06-03",
          "2024-06-04",
          "2024-06-19",
          "2024-08-27",
          "2024-09-18",
          "2024-09-19",
          "2024-09-20"
         ],
         "y": [
          1,
          1,
          2,
          1,
          1,
          1,
          1,
          1,
          1,
          2,
          1,
          2,
          1,
          2,
          1,
          1,
          1,
          1,
          8,
          3,
          2,
          6,
          1,
          3,
          2,
          2,
          3,
          1,
          1,
          1,
          1,
          1,
          17,
          5,
          4,
          2,
          1,
          1,
          1,
          1,
          2,
          1,
          1,
          3,
          11,
          4,
          3,
          1,
          3,
          2,
          3,
          3,
          3,
          3,
          3,
          1,
          1,
          1,
          2,
          3,
          2,
          1,
          2,
          2,
          2,
          1,
          1,
          1,
          3,
          2,
          1,
          1,
          1,
          1,
          2,
          1,
          1,
          1,
          1,
          3,
          2,
          1,
          2,
          2,
          3,
          1,
          1,
          1,
          3,
          3,
          2,
          4,
          3
         ]
        },
        {
         "name": "availableCapacity: 75",
         "type": "bar",
         "visible": false,
         "x": [
          "2024-01-23",
          "2024-01-24",
          "2024-01-25",
          "2024-01-26",
          "2024-01-27",
          "2024-01-28",
          "2024-01-29"
         ],
         "y": [
          2,
          1,
          1,
          1,
          2,
          3,
          1
         ]
        },
        {
         "name": "availableCapacity: 77",
         "type": "bar",
         "visible": false,
         "x": [
          "2020-06-23"
         ],
         "y": [
          1
         ]
        },
        {
         "name": "availableCapacity: 98",
         "type": "bar",
         "visible": false,
         "x": [
          "2020-04-20",
          "2020-04-21"
         ],
         "y": [
          1,
          6
         ]
        },
        {
         "name": "availableCapacity: 100",
         "type": "bar",
         "visible": false,
         "x": [
          "2024-02-24",
          "2024-02-25"
         ],
         "y": [
          1,
          2
         ]
        },
        {
         "name": "availableCapacity: 105",
         "type": "bar",
         "visible": false,
         "x": [
          "2020-04-20",
          "2020-04-21"
         ],
         "y": [
          1,
          1
         ]
        },
        {
         "name": "availableCapacity: 140",
         "type": "bar",
         "visible": false,
         "x": [
          "2020-03-13",
          "2020-03-14",
          "2021-01-18",
          "2021-01-19",
          "2021-01-20"
         ],
         "y": [
          1,
          1,
          1,
          1,
          1
         ]
        },
        {
         "name": "availableCapacity: 150",
         "type": "bar",
         "visible": false,
         "x": [
          "2024-01-22",
          "2024-01-23",
          "2024-01-29",
          "2024-01-30",
          "2024-02-13",
          "2024-02-24",
          "2024-03-28",
          "2024-04-29",
          "2024-04-30",
          "2024-05-04"
         ],
         "y": [
          1,
          2,
          1,
          3,
          2,
          1,
          1,
          1,
          1,
          1
         ]
        },
        {
         "name": "availableCapacity: 161",
         "type": "bar",
         "visible": false,
         "x": [
          "2020-03-04",
          "2020-03-05"
         ],
         "y": [
          1,
          1
         ]
        },
        {
         "name": "availableCapacity: 168",
         "type": "bar",
         "visible": false,
         "x": [
          "2020-03-13",
          "2020-03-14"
         ],
         "y": [
          1,
          1
         ]
        },
        {
         "name": "availableCapacity: 173",
         "type": "bar",
         "visible": false,
         "x": [
          "2024-01-20"
         ],
         "y": [
          2
         ]
        },
        {
         "name": "availableCapacity: 175",
         "type": "bar",
         "visible": false,
         "x": [
          "2020-03-06",
          "2020-03-27"
         ],
         "y": [
          1,
          1
         ]
        },
        {
         "name": "availableCapacity: 182",
         "type": "bar",
         "visible": false,
         "x": [
          "2020-03-09"
         ],
         "y": [
          1
         ]
        },
        {
         "name": "availableCapacity: 189",
         "type": "bar",
         "visible": false,
         "x": [
          "2020-02-28",
          "2020-03-24"
         ],
         "y": [
          1,
          1
         ]
        },
        {
         "name": "availableCapacity: 190",
         "type": "bar",
         "visible": false,
         "x": [
          "2020-04-21"
         ],
         "y": [
          1
         ]
        },
        {
         "name": "availableCapacity: 196",
         "type": "bar",
         "visible": false,
         "x": [
          "2020-03-06",
          "2020-03-24"
         ],
         "y": [
          1,
          1
         ]
        },
        {
         "name": "availableCapacity: 200",
         "type": "bar",
         "visible": false,
         "x": [
          "2020-05-29",
          "2020-05-30",
          "2020-06-01",
          "2020-06-02",
          "2020-07-06",
          "2021-02-13",
          "2021-02-17",
          "2021-02-21",
          "2021-08-31",
          "2022-01-24",
          "2022-06-15",
          "2022-06-16",
          "2022-06-24",
          "2022-06-28",
          "2024-02-25",
          "2024-02-26",
          "2024-04-30",
          "2024-05-01",
          "2024-05-02",
          "2024-05-03",
          "2024-05-04",
          "2024-05-09",
          "2024-09-18",
          "2024-09-26"
         ],
         "y": [
          1,
          2,
          2,
          2,
          2,
          4,
          4,
          2,
          2,
          2,
          2,
          1,
          2,
          2,
          1,
          2,
          1,
          1,
          1,
          2,
          1,
          1,
          2,
          2
         ]
        },
        {
         "name": "availableCapacity: 203",
         "type": "bar",
         "visible": false,
         "x": [
          "2020-04-18"
         ],
         "y": [
          2
         ]
        },
        {
         "name": "availableCapacity: 224",
         "type": "bar",
         "visible": false,
         "x": [
          "2020-03-30",
          "2020-04-02"
         ],
         "y": [
          1,
          1
         ]
        },
        {
         "name": "availableCapacity: 238",
         "type": "bar",
         "visible": false,
         "x": [
          "2020-02-24",
          "2020-02-25"
         ],
         "y": [
          1,
          1
         ]
        },
        {
         "name": "availableCapacity: 240",
         "type": "bar",
         "visible": false,
         "x": [
          "2020-04-19",
          "2020-04-20",
          "2020-04-21",
          "2020-04-24",
          "2020-05-01",
          "2020-06-24",
          "2020-11-16",
          "2020-11-17",
          "2020-11-19",
          "2020-11-20"
         ],
         "y": [
          2,
          1,
          2,
          1,
          1,
          1,
          1,
          1,
          1,
          1
         ]
        },
        {
         "name": "availableCapacity: 245",
         "type": "bar",
         "visible": false,
         "x": [
          "2020-02-13",
          "2020-02-14",
          "2020-02-15",
          "2020-02-17",
          "2020-04-06",
          "2020-04-07"
         ],
         "y": [
          1,
          1,
          1,
          1,
          1,
          1
         ]
        },
        {
         "name": "availableCapacity: 250",
         "type": "bar",
         "visible": false,
         "x": [
          "2023-04-24",
          "2023-04-25",
          "2024-06-11",
          "2024-06-12",
          "2024-06-13",
          "2024-09-29"
         ],
         "y": [
          9,
          3,
          6,
          3,
          6,
          6
         ]
        },
        {
         "name": "availableCapacity: 252",
         "type": "bar",
         "visible": false,
         "x": [
          "2020-04-04",
          "2021-01-30"
         ],
         "y": [
          1,
          1
         ]
        },
        {
         "name": "availableCapacity: 259",
         "type": "bar",
         "visible": false,
         "x": [
          "2020-04-04"
         ],
         "y": [
          1
         ]
        },
        {
         "name": "availableCapacity: 260",
         "type": "bar",
         "visible": false,
         "x": [
          "2021-01-18",
          "2021-01-19",
          "2024-01-19"
         ],
         "y": [
          2,
          1,
          2
         ]
        },
        {
         "name": "availableCapacity: 266",
         "type": "bar",
         "visible": false,
         "x": [
          "2020-02-06",
          "2020-02-10",
          "2020-04-07",
          "2020-04-08",
          "2021-01-10",
          "2021-01-13",
          "2021-01-18",
          "2021-01-21",
          "2021-01-23",
          "2021-01-24",
          "2021-02-03",
          "2021-02-04",
          "2021-09-08",
          "2021-09-17"
         ],
         "y": [
          1,
          1,
          1,
          1,
          3,
          1,
          1,
          1,
          2,
          1,
          1,
          1,
          1,
          1
         ]
        },
        {
         "name": "availableCapacity: 273",
         "type": "bar",
         "visible": false,
         "x": [
          "2021-01-06",
          "2021-01-08",
          "2021-01-26",
          "2021-01-27",
          "2021-01-28",
          "2021-01-29",
          "2021-09-08",
          "2021-09-17"
         ],
         "y": [
          2,
          1,
          3,
          1,
          1,
          1,
          1,
          1
         ]
        },
        {
         "name": "availableCapacity: 280",
         "type": "bar",
         "visible": false,
         "x": [
          "2020-01-29",
          "2020-01-31",
          "2020-02-02",
          "2020-04-26",
          "2021-01-01",
          "2021-01-02",
          "2021-01-05",
          "2021-01-09",
          "2021-09-10",
          "2021-09-11"
         ],
         "y": [
          1,
          1,
          3,
          1,
          1,
          2,
          1,
          1,
          1,
          1
         ]
        },
        {
         "name": "availableCapacity: 287",
         "type": "bar",
         "visible": false,
         "x": [
          "2020-02-03",
          "2020-04-02",
          "2020-04-03",
          "2021-01-10",
          "2021-01-13",
          "2021-01-21",
          "2021-01-24",
          "2021-02-05"
         ],
         "y": [
          1,
          1,
          1,
          3,
          1,
          1,
          1,
          1
         ]
        },
        {
         "name": "availableCapacity: 294",
         "type": "bar",
         "visible": false,
         "x": [
          "2020-04-03",
          "2020-12-22",
          "2021-01-06",
          "2021-01-10",
          "2021-01-21",
          "2021-01-26",
          "2021-02-05",
          "2021-02-08",
          "2021-09-12",
          "2021-09-15",
          "2021-09-16",
          "2021-09-17",
          "2022-07-22"
         ],
         "y": [
          2,
          1,
          1,
          1,
          1,
          1,
          2,
          2,
          1,
          1,
          1,
          2,
          1
         ]
        },
        {
         "name": "availableCapacity: 300",
         "type": "bar",
         "visible": false,
         "x": [
          "2024-01-23"
         ],
         "y": [
          1
         ]
        }
       ],
       "layout": {
        "template": {
         "data": {
          "bar": [
           {
            "error_x": {
             "color": "#2a3f5f"
            },
            "error_y": {
             "color": "#2a3f5f"
            },
            "marker": {
             "line": {
              "color": "#E5ECF6",
              "width": 0.5
             },
             "pattern": {
              "fillmode": "overlay",
              "size": 10,
              "solidity": 0.2
             }
            },
            "type": "bar"
           }
          ],
          "barpolar": [
           {
            "marker": {
             "line": {
              "color": "#E5ECF6",
              "width": 0.5
             },
             "pattern": {
              "fillmode": "overlay",
              "size": 10,
              "solidity": 0.2
             }
            },
            "type": "barpolar"
           }
          ],
          "carpet": [
           {
            "aaxis": {
             "endlinecolor": "#2a3f5f",
             "gridcolor": "white",
             "linecolor": "white",
             "minorgridcolor": "white",
             "startlinecolor": "#2a3f5f"
            },
            "baxis": {
             "endlinecolor": "#2a3f5f",
             "gridcolor": "white",
             "linecolor": "white",
             "minorgridcolor": "white",
             "startlinecolor": "#2a3f5f"
            },
            "type": "carpet"
           }
          ],
          "choropleth": [
           {
            "colorbar": {
             "outlinewidth": 0,
             "ticks": ""
            },
            "type": "choropleth"
           }
          ],
          "contour": [
           {
            "colorbar": {
             "outlinewidth": 0,
             "ticks": ""
            },
            "colorscale": [
             [
              0,
              "#0d0887"
             ],
             [
              0.1111111111111111,
              "#46039f"
             ],
             [
              0.2222222222222222,
              "#7201a8"
             ],
             [
              0.3333333333333333,
              "#9c179e"
             ],
             [
              0.4444444444444444,
              "#bd3786"
             ],
             [
              0.5555555555555556,
              "#d8576b"
             ],
             [
              0.6666666666666666,
              "#ed7953"
             ],
             [
              0.7777777777777778,
              "#fb9f3a"
             ],
             [
              0.8888888888888888,
              "#fdca26"
             ],
             [
              1,
              "#f0f921"
             ]
            ],
            "type": "contour"
           }
          ],
          "contourcarpet": [
           {
            "colorbar": {
             "outlinewidth": 0,
             "ticks": ""
            },
            "type": "contourcarpet"
           }
          ],
          "heatmap": [
           {
            "colorbar": {
             "outlinewidth": 0,
             "ticks": ""
            },
            "colorscale": [
             [
              0,
              "#0d0887"
             ],
             [
              0.1111111111111111,
              "#46039f"
             ],
             [
              0.2222222222222222,
              "#7201a8"
             ],
             [
              0.3333333333333333,
              "#9c179e"
             ],
             [
              0.4444444444444444,
              "#bd3786"
             ],
             [
              0.5555555555555556,
              "#d8576b"
             ],
             [
              0.6666666666666666,
              "#ed7953"
             ],
             [
              0.7777777777777778,
              "#fb9f3a"
             ],
             [
              0.8888888888888888,
              "#fdca26"
             ],
             [
              1,
              "#f0f921"
             ]
            ],
            "type": "heatmap"
           }
          ],
          "heatmapgl": [
           {
            "colorbar": {
             "outlinewidth": 0,
             "ticks": ""
            },
            "colorscale": [
             [
              0,
              "#0d0887"
             ],
             [
              0.1111111111111111,
              "#46039f"
             ],
             [
              0.2222222222222222,
              "#7201a8"
             ],
             [
              0.3333333333333333,
              "#9c179e"
             ],
             [
              0.4444444444444444,
              "#bd3786"
             ],
             [
              0.5555555555555556,
              "#d8576b"
             ],
             [
              0.6666666666666666,
              "#ed7953"
             ],
             [
              0.7777777777777778,
              "#fb9f3a"
             ],
             [
              0.8888888888888888,
              "#fdca26"
             ],
             [
              1,
              "#f0f921"
             ]
            ],
            "type": "heatmapgl"
           }
          ],
          "histogram": [
           {
            "marker": {
             "pattern": {
              "fillmode": "overlay",
              "size": 10,
              "solidity": 0.2
             }
            },
            "type": "histogram"
           }
          ],
          "histogram2d": [
           {
            "colorbar": {
             "outlinewidth": 0,
             "ticks": ""
            },
            "colorscale": [
             [
              0,
              "#0d0887"
             ],
             [
              0.1111111111111111,
              "#46039f"
             ],
             [
              0.2222222222222222,
              "#7201a8"
             ],
             [
              0.3333333333333333,
              "#9c179e"
             ],
             [
              0.4444444444444444,
              "#bd3786"
             ],
             [
              0.5555555555555556,
              "#d8576b"
             ],
             [
              0.6666666666666666,
              "#ed7953"
             ],
             [
              0.7777777777777778,
              "#fb9f3a"
             ],
             [
              0.8888888888888888,
              "#fdca26"
             ],
             [
              1,
              "#f0f921"
             ]
            ],
            "type": "histogram2d"
           }
          ],
          "histogram2dcontour": [
           {
            "colorbar": {
             "outlinewidth": 0,
             "ticks": ""
            },
            "colorscale": [
             [
              0,
              "#0d0887"
             ],
             [
              0.1111111111111111,
              "#46039f"
             ],
             [
              0.2222222222222222,
              "#7201a8"
             ],
             [
              0.3333333333333333,
              "#9c179e"
             ],
             [
              0.4444444444444444,
              "#bd3786"
             ],
             [
              0.5555555555555556,
              "#d8576b"
             ],
             [
              0.6666666666666666,
              "#ed7953"
             ],
             [
              0.7777777777777778,
              "#fb9f3a"
             ],
             [
              0.8888888888888888,
              "#fdca26"
             ],
             [
              1,
              "#f0f921"
             ]
            ],
            "type": "histogram2dcontour"
           }
          ],
          "mesh3d": [
           {
            "colorbar": {
             "outlinewidth": 0,
             "ticks": ""
            },
            "type": "mesh3d"
           }
          ],
          "parcoords": [
           {
            "line": {
             "colorbar": {
              "outlinewidth": 0,
              "ticks": ""
             }
            },
            "type": "parcoords"
           }
          ],
          "pie": [
           {
            "automargin": true,
            "type": "pie"
           }
          ],
          "scatter": [
           {
            "fillpattern": {
             "fillmode": "overlay",
             "size": 10,
             "solidity": 0.2
            },
            "type": "scatter"
           }
          ],
          "scatter3d": [
           {
            "line": {
             "colorbar": {
              "outlinewidth": 0,
              "ticks": ""
             }
            },
            "marker": {
             "colorbar": {
              "outlinewidth": 0,
              "ticks": ""
             }
            },
            "type": "scatter3d"
           }
          ],
          "scattercarpet": [
           {
            "marker": {
             "colorbar": {
              "outlinewidth": 0,
              "ticks": ""
             }
            },
            "type": "scattercarpet"
           }
          ],
          "scattergeo": [
           {
            "marker": {
             "colorbar": {
              "outlinewidth": 0,
              "ticks": ""
             }
            },
            "type": "scattergeo"
           }
          ],
          "scattergl": [
           {
            "marker": {
             "colorbar": {
              "outlinewidth": 0,
              "ticks": ""
             }
            },
            "type": "scattergl"
           }
          ],
          "scattermapbox": [
           {
            "marker": {
             "colorbar": {
              "outlinewidth": 0,
              "ticks": ""
             }
            },
            "type": "scattermapbox"
           }
          ],
          "scatterpolar": [
           {
            "marker": {
             "colorbar": {
              "outlinewidth": 0,
              "ticks": ""
             }
            },
            "type": "scatterpolar"
           }
          ],
          "scatterpolargl": [
           {
            "marker": {
             "colorbar": {
              "outlinewidth": 0,
              "ticks": ""
             }
            },
            "type": "scatterpolargl"
           }
          ],
          "scatterternary": [
           {
            "marker": {
             "colorbar": {
              "outlinewidth": 0,
              "ticks": ""
             }
            },
            "type": "scatterternary"
           }
          ],
          "surface": [
           {
            "colorbar": {
             "outlinewidth": 0,
             "ticks": ""
            },
            "colorscale": [
             [
              0,
              "#0d0887"
             ],
             [
              0.1111111111111111,
              "#46039f"
             ],
             [
              0.2222222222222222,
              "#7201a8"
             ],
             [
              0.3333333333333333,
              "#9c179e"
             ],
             [
              0.4444444444444444,
              "#bd3786"
             ],
             [
              0.5555555555555556,
              "#d8576b"
             ],
             [
              0.6666666666666666,
              "#ed7953"
             ],
             [
              0.7777777777777778,
              "#fb9f3a"
             ],
             [
              0.8888888888888888,
              "#fdca26"
             ],
             [
              1,
              "#f0f921"
             ]
            ],
            "type": "surface"
           }
          ],
          "table": [
           {
            "cells": {
             "fill": {
              "color": "#EBF0F8"
             },
             "line": {
              "color": "white"
             }
            },
            "header": {
             "fill": {
              "color": "#C8D4E3"
             },
             "line": {
              "color": "white"
             }
            },
            "type": "table"
           }
          ]
         },
         "layout": {
          "annotationdefaults": {
           "arrowcolor": "#2a3f5f",
           "arrowhead": 0,
           "arrowwidth": 1
          },
          "autotypenumbers": "strict",
          "coloraxis": {
           "colorbar": {
            "outlinewidth": 0,
            "ticks": ""
           }
          },
          "colorscale": {
           "diverging": [
            [
             0,
             "#8e0152"
            ],
            [
             0.1,
             "#c51b7d"
            ],
            [
             0.2,
             "#de77ae"
            ],
            [
             0.3,
             "#f1b6da"
            ],
            [
             0.4,
             "#fde0ef"
            ],
            [
             0.5,
             "#f7f7f7"
            ],
            [
             0.6,
             "#e6f5d0"
            ],
            [
             0.7,
             "#b8e186"
            ],
            [
             0.8,
             "#7fbc41"
            ],
            [
             0.9,
             "#4d9221"
            ],
            [
             1,
             "#276419"
            ]
           ],
           "sequential": [
            [
             0,
             "#0d0887"
            ],
            [
             0.1111111111111111,
             "#46039f"
            ],
            [
             0.2222222222222222,
             "#7201a8"
            ],
            [
             0.3333333333333333,
             "#9c179e"
            ],
            [
             0.4444444444444444,
             "#bd3786"
            ],
            [
             0.5555555555555556,
             "#d8576b"
            ],
            [
             0.6666666666666666,
             "#ed7953"
            ],
            [
             0.7777777777777778,
             "#fb9f3a"
            ],
            [
             0.8888888888888888,
             "#fdca26"
            ],
            [
             1,
             "#f0f921"
            ]
           ],
           "sequentialminus": [
            [
             0,
             "#0d0887"
            ],
            [
             0.1111111111111111,
             "#46039f"
            ],
            [
             0.2222222222222222,
             "#7201a8"
            ],
            [
             0.3333333333333333,
             "#9c179e"
            ],
            [
             0.4444444444444444,
             "#bd3786"
            ],
            [
             0.5555555555555556,
             "#d8576b"
            ],
            [
             0.6666666666666666,
             "#ed7953"
            ],
            [
             0.7777777777777778,
             "#fb9f3a"
            ],
            [
             0.8888888888888888,
             "#fdca26"
            ],
            [
             1,
             "#f0f921"
            ]
           ]
          },
          "colorway": [
           "#636efa",
           "#EF553B",
           "#00cc96",
           "#ab63fa",
           "#FFA15A",
           "#19d3f3",
           "#FF6692",
           "#B6E880",
           "#FF97FF",
           "#FECB52"
          ],
          "font": {
           "color": "#2a3f5f"
          },
          "geo": {
           "bgcolor": "white",
           "lakecolor": "white",
           "landcolor": "#E5ECF6",
           "showlakes": true,
           "showland": true,
           "subunitcolor": "white"
          },
          "hoverlabel": {
           "align": "left"
          },
          "hovermode": "closest",
          "mapbox": {
           "style": "light"
          },
          "paper_bgcolor": "white",
          "plot_bgcolor": "#E5ECF6",
          "polar": {
           "angularaxis": {
            "gridcolor": "white",
            "linecolor": "white",
            "ticks": ""
           },
           "bgcolor": "#E5ECF6",
           "radialaxis": {
            "gridcolor": "white",
            "linecolor": "white",
            "ticks": ""
           }
          },
          "scene": {
           "xaxis": {
            "backgroundcolor": "#E5ECF6",
            "gridcolor": "white",
            "gridwidth": 2,
            "linecolor": "white",
            "showbackground": true,
            "ticks": "",
            "zerolinecolor": "white"
           },
           "yaxis": {
            "backgroundcolor": "#E5ECF6",
            "gridcolor": "white",
            "gridwidth": 2,
            "linecolor": "white",
            "showbackground": true,
            "ticks": "",
            "zerolinecolor": "white"
           },
           "zaxis": {
            "backgroundcolor": "#E5ECF6",
            "gridcolor": "white",
            "gridwidth": 2,
            "linecolor": "white",
            "showbackground": true,
            "ticks": "",
            "zerolinecolor": "white"
           }
          },
          "shapedefaults": {
           "line": {
            "color": "#2a3f5f"
           }
          },
          "ternary": {
           "aaxis": {
            "gridcolor": "white",
            "linecolor": "white",
            "ticks": ""
           },
           "baxis": {
            "gridcolor": "white",
            "linecolor": "white",
            "ticks": ""
           },
           "bgcolor": "#E5ECF6",
           "caxis": {
            "gridcolor": "white",
            "linecolor": "white",
            "ticks": ""
           }
          },
          "title": {
           "x": 0.05
          },
          "xaxis": {
           "automargin": true,
           "gridcolor": "white",
           "linecolor": "white",
           "ticks": "",
           "title": {
            "standoff": 15
           },
           "zerolinecolor": "white",
           "zerolinewidth": 2
          },
          "yaxis": {
           "automargin": true,
           "gridcolor": "white",
           "linecolor": "white",
           "ticks": "",
           "title": {
            "standoff": 15
           },
           "zerolinecolor": "white",
           "zerolinewidth": 2
          }
         }
        },
        "title": {
         "text": "availableCapacity",
         "x": 0.5
        },
        "updatemenus": [
         {
          "buttons": [
           {
            "args": [
             {
              "visible": [
               true,
               true,
               true,
               true,
               true,
               true,
               true,
               true,
               true,
               true,
               true,
               true,
               true,
               true,
               true,
               true,
               true,
               true,
               true,
               true,
               true,
               true,
               true,
               true,
               true,
               true,
               true,
               true,
               true,
               true,
               true,
               true
              ]
             }
            ],
            "label": "Alle Kapazitäten",
            "method": "update"
           },
           {
            "args": [
             {
              "visible": [
               true,
               false,
               false,
               false,
               false,
               false,
               false,
               false,
               false,
               false,
               false,
               false,
               false,
               false,
               false,
               false,
               false,
               false,
               false,
               false,
               false,
               false,
               false,
               false,
               false,
               false,
               false,
               false,
               false,
               false,
               false,
               false
              ]
             }
            ],
            "label": "availableCapacity: 0",
            "method": "update"
           },
           {
            "args": [
             {
              "visible": [
               false,
               true,
               false,
               false,
               false,
               false,
               false,
               false,
               false,
               false,
               false,
               false,
               false,
               false,
               false,
               false,
               false,
               false,
               false,
               false,
               false,
               false,
               false,
               false,
               false,
               false,
               false,
               false,
               false,
               false,
               false,
               false
              ]
             }
            ],
            "label": "availableCapacity: 75",
            "method": "update"
           },
           {
            "args": [
             {
              "visible": [
               false,
               false,
               true,
               false,
               false,
               false,
               false,
               false,
               false,
               false,
               false,
               false,
               false,
               false,
               false,
               false,
               false,
               false,
               false,
               false,
               false,
               false,
               false,
               false,
               false,
               false,
               false,
               false,
               false,
               false,
               false,
               false
              ]
             }
            ],
            "label": "availableCapacity: 77",
            "method": "update"
           },
           {
            "args": [
             {
              "visible": [
               false,
               false,
               false,
               true,
               false,
               false,
               false,
               false,
               false,
               false,
               false,
               false,
               false,
               false,
               false,
               false,
               false,
               false,
               false,
               false,
               false,
               false,
               false,
               false,
               false,
               false,
               false,
               false,
               false,
               false,
               false,
               false
              ]
             }
            ],
            "label": "availableCapacity: 98",
            "method": "update"
           },
           {
            "args": [
             {
              "visible": [
               false,
               false,
               false,
               false,
               true,
               false,
               false,
               false,
               false,
               false,
               false,
               false,
               false,
               false,
               false,
               false,
               false,
               false,
               false,
               false,
               false,
               false,
               false,
               false,
               false,
               false,
               false,
               false,
               false,
               false,
               false,
               false
              ]
             }
            ],
            "label": "availableCapacity: 100",
            "method": "update"
           },
           {
            "args": [
             {
              "visible": [
               false,
               false,
               false,
               false,
               false,
               true,
               false,
               false,
               false,
               false,
               false,
               false,
               false,
               false,
               false,
               false,
               false,
               false,
               false,
               false,
               false,
               false,
               false,
               false,
               false,
               false,
               false,
               false,
               false,
               false,
               false,
               false
              ]
             }
            ],
            "label": "availableCapacity: 105",
            "method": "update"
           },
           {
            "args": [
             {
              "visible": [
               false,
               false,
               false,
               false,
               false,
               false,
               true,
               false,
               false,
               false,
               false,
               false,
               false,
               false,
               false,
               false,
               false,
               false,
               false,
               false,
               false,
               false,
               false,
               false,
               false,
               false,
               false,
               false,
               false,
               false,
               false,
               false
              ]
             }
            ],
            "label": "availableCapacity: 140",
            "method": "update"
           },
           {
            "args": [
             {
              "visible": [
               false,
               false,
               false,
               false,
               false,
               false,
               false,
               true,
               false,
               false,
               false,
               false,
               false,
               false,
               false,
               false,
               false,
               false,
               false,
               false,
               false,
               false,
               false,
               false,
               false,
               false,
               false,
               false,
               false,
               false,
               false,
               false
              ]
             }
            ],
            "label": "availableCapacity: 150",
            "method": "update"
           },
           {
            "args": [
             {
              "visible": [
               false,
               false,
               false,
               false,
               false,
               false,
               false,
               false,
               true,
               false,
               false,
               false,
               false,
               false,
               false,
               false,
               false,
               false,
               false,
               false,
               false,
               false,
               false,
               false,
               false,
               false,
               false,
               false,
               false,
               false,
               false,
               false
              ]
             }
            ],
            "label": "availableCapacity: 161",
            "method": "update"
           },
           {
            "args": [
             {
              "visible": [
               false,
               false,
               false,
               false,
               false,
               false,
               false,
               false,
               false,
               true,
               false,
               false,
               false,
               false,
               false,
               false,
               false,
               false,
               false,
               false,
               false,
               false,
               false,
               false,
               false,
               false,
               false,
               false,
               false,
               false,
               false,
               false
              ]
             }
            ],
            "label": "availableCapacity: 168",
            "method": "update"
           },
           {
            "args": [
             {
              "visible": [
               false,
               false,
               false,
               false,
               false,
               false,
               false,
               false,
               false,
               false,
               true,
               false,
               false,
               false,
               false,
               false,
               false,
               false,
               false,
               false,
               false,
               false,
               false,
               false,
               false,
               false,
               false,
               false,
               false,
               false,
               false,
               false
              ]
             }
            ],
            "label": "availableCapacity: 173",
            "method": "update"
           },
           {
            "args": [
             {
              "visible": [
               false,
               false,
               false,
               false,
               false,
               false,
               false,
               false,
               false,
               false,
               false,
               true,
               false,
               false,
               false,
               false,
               false,
               false,
               false,
               false,
               false,
               false,
               false,
               false,
               false,
               false,
               false,
               false,
               false,
               false,
               false,
               false
              ]
             }
            ],
            "label": "availableCapacity: 175",
            "method": "update"
           },
           {
            "args": [
             {
              "visible": [
               false,
               false,
               false,
               false,
               false,
               false,
               false,
               false,
               false,
               false,
               false,
               false,
               true,
               false,
               false,
               false,
               false,
               false,
               false,
               false,
               false,
               false,
               false,
               false,
               false,
               false,
               false,
               false,
               false,
               false,
               false,
               false
              ]
             }
            ],
            "label": "availableCapacity: 182",
            "method": "update"
           },
           {
            "args": [
             {
              "visible": [
               false,
               false,
               false,
               false,
               false,
               false,
               false,
               false,
               false,
               false,
               false,
               false,
               false,
               true,
               false,
               false,
               false,
               false,
               false,
               false,
               false,
               false,
               false,
               false,
               false,
               false,
               false,
               false,
               false,
               false,
               false,
               false
              ]
             }
            ],
            "label": "availableCapacity: 189",
            "method": "update"
           },
           {
            "args": [
             {
              "visible": [
               false,
               false,
               false,
               false,
               false,
               false,
               false,
               false,
               false,
               false,
               false,
               false,
               false,
               false,
               true,
               false,
               false,
               false,
               false,
               false,
               false,
               false,
               false,
               false,
               false,
               false,
               false,
               false,
               false,
               false,
               false,
               false
              ]
             }
            ],
            "label": "availableCapacity: 190",
            "method": "update"
           },
           {
            "args": [
             {
              "visible": [
               false,
               false,
               false,
               false,
               false,
               false,
               false,
               false,
               false,
               false,
               false,
               false,
               false,
               false,
               false,
               true,
               false,
               false,
               false,
               false,
               false,
               false,
               false,
               false,
               false,
               false,
               false,
               false,
               false,
               false,
               false,
               false
              ]
             }
            ],
            "label": "availableCapacity: 196",
            "method": "update"
           },
           {
            "args": [
             {
              "visible": [
               false,
               false,
               false,
               false,
               false,
               false,
               false,
               false,
               false,
               false,
               false,
               false,
               false,
               false,
               false,
               false,
               true,
               false,
               false,
               false,
               false,
               false,
               false,
               false,
               false,
               false,
               false,
               false,
               false,
               false,
               false,
               false
              ]
             }
            ],
            "label": "availableCapacity: 200",
            "method": "update"
           },
           {
            "args": [
             {
              "visible": [
               false,
               false,
               false,
               false,
               false,
               false,
               false,
               false,
               false,
               false,
               false,
               false,
               false,
               false,
               false,
               false,
               false,
               true,
               false,
               false,
               false,
               false,
               false,
               false,
               false,
               false,
               false,
               false,
               false,
               false,
               false,
               false
              ]
             }
            ],
            "label": "availableCapacity: 203",
            "method": "update"
           },
           {
            "args": [
             {
              "visible": [
               false,
               false,
               false,
               false,
               false,
               false,
               false,
               false,
               false,
               false,
               false,
               false,
               false,
               false,
               false,
               false,
               false,
               false,
               true,
               false,
               false,
               false,
               false,
               false,
               false,
               false,
               false,
               false,
               false,
               false,
               false,
               false
              ]
             }
            ],
            "label": "availableCapacity: 224",
            "method": "update"
           },
           {
            "args": [
             {
              "visible": [
               false,
               false,
               false,
               false,
               false,
               false,
               false,
               false,
               false,
               false,
               false,
               false,
               false,
               false,
               false,
               false,
               false,
               false,
               false,
               true,
               false,
               false,
               false,
               false,
               false,
               false,
               false,
               false,
               false,
               false,
               false,
               false
              ]
             }
            ],
            "label": "availableCapacity: 238",
            "method": "update"
           },
           {
            "args": [
             {
              "visible": [
               false,
               false,
               false,
               false,
               false,
               false,
               false,
               false,
               false,
               false,
               false,
               false,
               false,
               false,
               false,
               false,
               false,
               false,
               false,
               false,
               true,
               false,
               false,
               false,
               false,
               false,
               false,
               false,
               false,
               false,
               false,
               false
              ]
             }
            ],
            "label": "availableCapacity: 240",
            "method": "update"
           },
           {
            "args": [
             {
              "visible": [
               false,
               false,
               false,
               false,
               false,
               false,
               false,
               false,
               false,
               false,
               false,
               false,
               false,
               false,
               false,
               false,
               false,
               false,
               false,
               false,
               false,
               true,
               false,
               false,
               false,
               false,
               false,
               false,
               false,
               false,
               false,
               false
              ]
             }
            ],
            "label": "availableCapacity: 245",
            "method": "update"
           },
           {
            "args": [
             {
              "visible": [
               false,
               false,
               false,
               false,
               false,
               false,
               false,
               false,
               false,
               false,
               false,
               false,
               false,
               false,
               false,
               false,
               false,
               false,
               false,
               false,
               false,
               false,
               true,
               false,
               false,
               false,
               false,
               false,
               false,
               false,
               false,
               false
              ]
             }
            ],
            "label": "availableCapacity: 250",
            "method": "update"
           },
           {
            "args": [
             {
              "visible": [
               false,
               false,
               false,
               false,
               false,
               false,
               false,
               false,
               false,
               false,
               false,
               false,
               false,
               false,
               false,
               false,
               false,
               false,
               false,
               false,
               false,
               false,
               false,
               true,
               false,
               false,
               false,
               false,
               false,
               false,
               false,
               false
              ]
             }
            ],
            "label": "availableCapacity: 252",
            "method": "update"
           },
           {
            "args": [
             {
              "visible": [
               false,
               false,
               false,
               false,
               false,
               false,
               false,
               false,
               false,
               false,
               false,
               false,
               false,
               false,
               false,
               false,
               false,
               false,
               false,
               false,
               false,
               false,
               false,
               false,
               true,
               false,
               false,
               false,
               false,
               false,
               false,
               false
              ]
             }
            ],
            "label": "availableCapacity: 259",
            "method": "update"
           },
           {
            "args": [
             {
              "visible": [
               false,
               false,
               false,
               false,
               false,
               false,
               false,
               false,
               false,
               false,
               false,
               false,
               false,
               false,
               false,
               false,
               false,
               false,
               false,
               false,
               false,
               false,
               false,
               false,
               false,
               true,
               false,
               false,
               false,
               false,
               false,
               false
              ]
             }
            ],
            "label": "availableCapacity: 260",
            "method": "update"
           },
           {
            "args": [
             {
              "visible": [
               false,
               false,
               false,
               false,
               false,
               false,
               false,
               false,
               false,
               false,
               false,
               false,
               false,
               false,
               false,
               false,
               false,
               false,
               false,
               false,
               false,
               false,
               false,
               false,
               false,
               false,
               true,
               false,
               false,
               false,
               false,
               false
              ]
             }
            ],
            "label": "availableCapacity: 266",
            "method": "update"
           },
           {
            "args": [
             {
              "visible": [
               false,
               false,
               false,
               false,
               false,
               false,
               false,
               false,
               false,
               false,
               false,
               false,
               false,
               false,
               false,
               false,
               false,
               false,
               false,
               false,
               false,
               false,
               false,
               false,
               false,
               false,
               false,
               true,
               false,
               false,
               false,
               false
              ]
             }
            ],
            "label": "availableCapacity: 273",
            "method": "update"
           },
           {
            "args": [
             {
              "visible": [
               false,
               false,
               false,
               false,
               false,
               false,
               false,
               false,
               false,
               false,
               false,
               false,
               false,
               false,
               false,
               false,
               false,
               false,
               false,
               false,
               false,
               false,
               false,
               false,
               false,
               false,
               false,
               false,
               true,
               false,
               false,
               false
              ]
             }
            ],
            "label": "availableCapacity: 280",
            "method": "update"
           },
           {
            "args": [
             {
              "visible": [
               false,
               false,
               false,
               false,
               false,
               false,
               false,
               false,
               false,
               false,
               false,
               false,
               false,
               false,
               false,
               false,
               false,
               false,
               false,
               false,
               false,
               false,
               false,
               false,
               false,
               false,
               false,
               false,
               false,
               true,
               false,
               false
              ]
             }
            ],
            "label": "availableCapacity: 287",
            "method": "update"
           },
           {
            "args": [
             {
              "visible": [
               false,
               false,
               false,
               false,
               false,
               false,
               false,
               false,
               false,
               false,
               false,
               false,
               false,
               false,
               false,
               false,
               false,
               false,
               false,
               false,
               false,
               false,
               false,
               false,
               false,
               false,
               false,
               false,
               false,
               false,
               true,
               false
              ]
             }
            ],
            "label": "availableCapacity: 294",
            "method": "update"
           },
           {
            "args": [
             {
              "visible": [
               false,
               false,
               false,
               false,
               false,
               false,
               false,
               false,
               false,
               false,
               false,
               false,
               false,
               false,
               false,
               false,
               false,
               false,
               false,
               false,
               false,
               false,
               false,
               false,
               false,
               false,
               false,
               false,
               false,
               false,
               false,
               true
              ]
             }
            ],
            "label": "availableCapacity: 300",
            "method": "update"
           }
          ],
          "direction": "down",
          "showactive": true,
          "x": 1.15,
          "xanchor": "left",
          "y": 1.15,
          "yanchor": "top"
         }
        ],
        "xaxis": {
         "rangeselector": {
          "buttons": [
           {
            "count": 7,
            "label": "Woche",
            "step": "day",
            "stepmode": "backward"
           },
           {
            "count": 1,
            "label": "Monat",
            "step": "month",
            "stepmode": "backward"
           },
           {
            "count": 3,
            "label": "Quartal",
            "step": "month",
            "stepmode": "backward"
           },
           {
            "count": 1,
            "label": "Jahr",
            "step": "year",
            "stepmode": "backward"
           },
           {
            "step": "all"
           }
          ]
         },
         "rangeslider": {
          "visible": true
         },
         "title": {
          "text": "Datum"
         },
         "type": "date"
        },
        "yaxis": {
         "autorange": false,
         "range": [
          0,
          18.700000000000003
         ],
         "title": {
          "text": "Anzahl"
         }
        }
       }
      }
     },
     "metadata": {},
     "output_type": "display_data"
    }
   ],
   "source": [
    "# 'publishTime' in datetime umwandeln und auf das Datum reduzieren\n",
    "df['publishTime'] = pd.to_datetime(df['publishTime']).dt.date\n",
    "\n",
    "# Daten aggregieren (z.B. durch Summieren von 't' pro Tag und 'availableCapacity')\n",
    "df_filter = df.filter(['publishTime', 'availableCapacity','counter_1'])\n",
    "\n",
    "df_aggregated = df_filter.groupby(['publishTime', 'availableCapacity'], as_index=False).agg({'counter_1': 'count'})\n",
    "\n",
    "# Sortieren der availableCapacity-Werte\n",
    "available_capacities_sorted = sorted(df_aggregated['availableCapacity'].unique())\n",
    "\n",
    "# Leere Figur erstellen\n",
    "fig = go.Figure()\n",
    "\n",
    "# Dropdown-Buttons-Liste initialisieren\n",
    "dropdown_buttons = []\n",
    "\n",
    "# Eine Spur pro unique availableCapacity hinzufügen\n",
    "for i, available_capacity in enumerate(available_capacities_sorted):\n",
    "    # Daten für diese bestimmte availableCapacity filtern\n",
    "    filtered_df = df_aggregated[df_aggregated['availableCapacity'] == available_capacity]\n",
    "    \n",
    "    # Spur für diese availableCapacity hinzufügen\n",
    "    fig.add_trace(go.Bar(\n",
    "        x=filtered_df['publishTime'],\n",
    "        y=filtered_df['counter_1'],\n",
    "        name=f'availableCapacity: {available_capacity}',\n",
    "        visible=False  # Alle Spuren zunächst unsichtbar machen\n",
    "    ))\n",
    "    \n",
    "    # Dropdown-Option für diese availableCapacity hinzufügen\n",
    "    dropdown_buttons.append({\n",
    "        'label': f'availableCapacity: {available_capacity}',\n",
    "        'method': 'update',\n",
    "        'args': [{'visible': [i == j for j in range(len(available_capacities_sorted))]}]  # Nur die gewählte Spur sichtbar machen\n",
    "    })\n",
    "\n",
    "# \"Alle Kapazitäten\" Button hinzufügen, um alle Spuren sichtbar zu machen\n",
    "dropdown_buttons.insert(0, {\n",
    "    'label': 'Alle Kapazitäten',\n",
    "    'method': 'update',\n",
    "    'args': [{'visible': [True] * len(available_capacities_sorted)}]\n",
    "})\n",
    "\n",
    "# Die erste Spur standardmäßig sichtbar machen\n",
    "fig.data[0].visible = True\n",
    "\n",
    "# Layout mit Dropdown-Menü, Range Slider und Zeitintervall-Buttons (Woche, Monat, Quartal, Jahr)\n",
    "fig.update_layout(\n",
    "    title='availableCapacity',\n",
    "    xaxis=dict(\n",
    "        title='Datum',\n",
    "        rangeslider=dict(visible=True),\n",
    "        type='date',\n",
    "        rangeselector=dict(\n",
    "            buttons=list([\n",
    "                dict(count=7, label='Woche', step='day', stepmode='backward'),\n",
    "                dict(count=1, label='Monat', step='month', stepmode='backward'),\n",
    "                dict(count=3, label='Quartal', step='month', stepmode='backward'),  # Quartals-Button\n",
    "                dict(count=1, label='Jahr', step='year', stepmode='backward'),\n",
    "                dict(step='all')  # Zeigt den gesamten Zeitraum an\n",
    "            ])\n",
    "        )\n",
    "    ),\n",
    "    yaxis_title='Anzahl',\n",
    "    yaxis=dict(\n",
    "        title='Anzahl',\n",
    "        autorange=False,  # Autorange deaktivieren\n",
    "        range=[0, df_aggregated['counter_1'].max() * 1.1]  # Manuelle Range für die Y-Achse (10% mehr als max Wert)\n",
    "    ),\n",
    "    title_x=0.5,  # Titel zentrieren\n",
    "    updatemenus=[{\n",
    "        'buttons': dropdown_buttons,\n",
    "        'direction': 'down',\n",
    "        'showactive': True,\n",
    "        'x': 1.15,  # Position rechts vom Diagramm\n",
    "        'xanchor': 'left',\n",
    "        'y': 1.15,\n",
    "        'yanchor': 'top'\n",
    "    }]\n",
    ")\n",
    "\n",
    "# Diagramm anzeigen\n",
    "fig.show()\n",
    "\n"
   ]
  },
  {
   "cell_type": "code",
   "execution_count": 113,
   "metadata": {},
   "outputs": [
    {
     "data": {
      "text/plain": [
       "unavailableCapacity\n",
       "100      1\n",
       "106     17\n",
       "113     10\n",
       "120     13\n",
       "127     11\n",
       "134     17\n",
       "140      5\n",
       "141      1\n",
       "148      2\n",
       "150     33\n",
       "155      6\n",
       "160      9\n",
       "162      2\n",
       "166      3\n",
       "176      2\n",
       "200     44\n",
       "203      2\n",
       "204      2\n",
       "210      1\n",
       "211      2\n",
       "218      1\n",
       "225      2\n",
       "227      2\n",
       "232      2\n",
       "239      2\n",
       "250     14\n",
       "260      5\n",
       "295      2\n",
       "300      3\n",
       "302      7\n",
       "323      1\n",
       "325     11\n",
       "400    201\n",
       "Name: id, dtype: int64"
      ]
     },
     "execution_count": 113,
     "metadata": {},
     "output_type": "execute_result"
    }
   ],
   "source": [
    "# Gruppiere nach 'unavailableCapacity' und zähle 'id' pro Gruppe\n",
    "df_unavailableCapacity = df.groupby(['unavailableCapacity'])['id'].count()\n",
    "\n",
    "# Liste der eindeutigen 'unavailableCapacity'-Werte ausgeben\n",
    "# print(df_unavailableCapacity.index.tolist())\n",
    "\n",
    "df_unavailableCapacity"
   ]
  },
  {
   "cell_type": "code",
   "execution_count": 114,
   "metadata": {},
   "outputs": [
    {
     "name": "stdout",
     "output_type": "stream",
     "text": [
      "[Timestamp('2020-01-30 06:00:00+0000', tz='UTC'), Timestamp('2020-03-04 06:00:00+0000', tz='UTC'), Timestamp('2020-03-04 22:30:00+0000', tz='UTC'), Timestamp('2020-03-12 06:00:00+0000', tz='UTC'), Timestamp('2020-03-24 06:00:00+0000', tz='UTC'), Timestamp('2020-04-03 06:00:00+0000', tz='UTC'), Timestamp('2020-04-03 08:00:00+0000', tz='UTC'), Timestamp('2020-04-06 08:30:00+0000', tz='UTC'), Timestamp('2020-04-07 06:30:00+0000', tz='UTC'), Timestamp('2020-04-07 08:30:00+0000', tz='UTC'), Timestamp('2020-04-08 06:30:00+0000', tz='UTC'), Timestamp('2020-04-18 18:30:00+0000', tz='UTC'), Timestamp('2020-04-19 00:00:00+0000', tz='UTC'), Timestamp('2020-04-21 08:00:00+0000', tz='UTC'), Timestamp('2020-04-21 10:30:00+0000', tz='UTC'), Timestamp('2020-04-21 12:00:00+0000', tz='UTC'), Timestamp('2020-04-21 12:30:00+0000', tz='UTC'), Timestamp('2020-04-21 13:30:00+0000', tz='UTC'), Timestamp('2020-04-21 14:00:00+0000', tz='UTC'), Timestamp('2020-04-26 11:00:00+0000', tz='UTC'), Timestamp('2020-05-03 07:00:00+0000', tz='UTC'), Timestamp('2020-05-22 23:30:00+0000', tz='UTC'), Timestamp('2020-06-01 07:00:00+0000', tz='UTC'), Timestamp('2020-06-01 09:00:00+0000', tz='UTC'), Timestamp('2020-06-15 05:00:00+0000', tz='UTC'), Timestamp('2020-06-15 07:00:00+0000', tz='UTC'), Timestamp('2020-06-22 05:00:00+0000', tz='UTC'), Timestamp('2020-06-22 07:00:00+0000', tz='UTC'), Timestamp('2020-06-23 18:30:00+0000', tz='UTC'), Timestamp('2020-06-25 07:00:00+0000', tz='UTC'), Timestamp('2020-06-29 05:00:00+0000', tz='UTC'), Timestamp('2020-07-06 11:30:00+0000', tz='UTC'), Timestamp('2020-07-06 12:30:00+0000', tz='UTC'), Timestamp('2020-09-11 14:30:00+0000', tz='UTC'), Timestamp('2020-09-14 04:00:00+0000', tz='UTC'), Timestamp('2020-09-15 23:30:00+0000', tz='UTC'), Timestamp('2020-09-23 09:00:00+0000', tz='UTC'), Timestamp('2020-09-24 09:00:00+0000', tz='UTC'), Timestamp('2020-09-28 09:00:00+0000', tz='UTC'), Timestamp('2020-09-28 10:00:00+0000', tz='UTC'), Timestamp('2020-09-29 09:00:00+0000', tz='UTC'), Timestamp('2020-10-22 07:00:00+0000', tz='UTC'), Timestamp('2020-10-27 09:00:00+0000', tz='UTC'), Timestamp('2020-10-28 11:30:00+0000', tz='UTC'), Timestamp('2020-10-30 11:00:00+0000', tz='UTC'), Timestamp('2020-10-30 23:00:00+0000', tz='UTC'), Timestamp('2020-10-31 00:00:00+0000', tz='UTC'), Timestamp('2020-11-18 07:00:00+0000', tz='UTC'), Timestamp('2020-11-20 07:00:00+0000', tz='UTC'), Timestamp('2020-11-24 08:00:00+0000', tz='UTC'), Timestamp('2020-11-26 09:00:00+0000', tz='UTC'), Timestamp('2020-12-11 06:00:00+0000', tz='UTC'), Timestamp('2020-12-11 08:00:00+0000', tz='UTC'), Timestamp('2020-12-14 07:30:00+0000', tz='UTC'), Timestamp('2020-12-22 02:00:00+0000', tz='UTC'), Timestamp('2021-01-02 07:00:00+0000', tz='UTC'), Timestamp('2021-01-06 08:00:00+0000', tz='UTC'), Timestamp('2021-01-07 07:00:00+0000', tz='UTC'), Timestamp('2021-01-11 07:00:00+0000', tz='UTC'), Timestamp('2021-01-12 07:00:00+0000', tz='UTC'), Timestamp('2021-01-15 07:00:00+0000', tz='UTC'), Timestamp('2021-01-19 10:00:00+0000', tz='UTC'), Timestamp('2021-01-19 11:00:00+0000', tz='UTC'), Timestamp('2021-01-21 04:00:00+0000', tz='UTC'), Timestamp('2021-01-21 09:00:00+0000', tz='UTC'), Timestamp('2021-01-22 09:00:00+0000', tz='UTC'), Timestamp('2021-01-24 07:00:00+0000', tz='UTC'), Timestamp('2021-01-27 07:00:00+0000', tz='UTC'), Timestamp('2021-02-08 10:00:00+0000', tz='UTC'), Timestamp('2021-02-15 09:00:00+0000', tz='UTC'), Timestamp('2021-02-17 12:00:00+0000', tz='UTC'), Timestamp('2021-02-17 18:00:00+0000', tz='UTC'), Timestamp('2021-02-19 09:00:00+0000', tz='UTC'), Timestamp('2021-02-21 11:00:00+0000', tz='UTC'), Timestamp('2021-03-19 23:00:00+0000', tz='UTC'), Timestamp('2021-05-21 06:00:00+0000', tz='UTC'), Timestamp('2021-06-08 08:00:00+0000', tz='UTC'), Timestamp('2021-08-31 07:00:00+0000', tz='UTC'), Timestamp('2021-08-31 08:00:00+0000', tz='UTC'), Timestamp('2021-09-01 07:00:00+0000', tz='UTC'), Timestamp('2021-09-08 20:00:00+0000', tz='UTC'), Timestamp('2021-09-11 05:15:00+0000', tz='UTC'), Timestamp('2021-09-12 12:30:00+0000', tz='UTC'), Timestamp('2021-09-16 07:30:00+0000', tz='UTC'), Timestamp('2021-09-17 07:30:00+0000', tz='UTC'), Timestamp('2022-01-25 07:00:00+0000', tz='UTC'), Timestamp('2022-05-11 08:30:00+0000', tz='UTC'), Timestamp('2022-06-16 08:00:00+0000', tz='UTC'), Timestamp('2022-06-25 06:00:00+0000', tz='UTC'), Timestamp('2022-06-25 07:00:00+0000', tz='UTC'), Timestamp('2022-07-22 07:19:00+0000', tz='UTC'), Timestamp('2022-09-21 07:00:00+0000', tz='UTC'), Timestamp('2023-02-07 12:00:00+0000', tz='UTC'), Timestamp('2023-04-24 06:19:00+0000', tz='UTC'), Timestamp('2023-07-18 08:00:00+0000', tz='UTC'), Timestamp('2023-07-24 06:00:00+0000', tz='UTC'), Timestamp('2023-07-25 06:00:00+0000', tz='UTC'), Timestamp('2023-07-26 06:00:00+0000', tz='UTC'), Timestamp('2023-07-28 06:00:00+0000', tz='UTC'), Timestamp('2023-07-28 07:00:00+0000', tz='UTC'), Timestamp('2024-01-19 05:29:00+0000', tz='UTC'), Timestamp('2024-01-19 16:55:00+0000', tz='UTC'), Timestamp('2024-01-23 11:20:00+0000', tz='UTC'), Timestamp('2024-01-29 02:10:00+0000', tz='UTC'), Timestamp('2024-02-24 13:00:00+0000', tz='UTC'), Timestamp('2024-02-25 22:00:00+0000', tz='UTC'), Timestamp('2024-05-02 08:00:00+0000', tz='UTC'), Timestamp('2024-05-03 08:00:00+0000', tz='UTC'), Timestamp('2024-05-04 08:00:00+0000', tz='UTC'), Timestamp('2024-05-05 08:00:00+0000', tz='UTC'), Timestamp('2024-05-09 08:00:00+0000', tz='UTC'), Timestamp('2024-05-31 10:00:00+0000', tz='UTC'), Timestamp('2024-05-31 11:30:00+0000', tz='UTC'), Timestamp('2024-06-01 13:00:00+0000', tz='UTC'), Timestamp('2024-06-12 11:00:00+0000', tz='UTC'), Timestamp('2024-06-13 15:46:00+0000', tz='UTC'), Timestamp('2024-06-20 08:00:00+0000', tz='UTC'), Timestamp('2024-08-30 07:00:00+0000', tz='UTC'), Timestamp('2024-09-18 17:14:00+0000', tz='UTC'), Timestamp('2024-09-19 02:05:00+0000', tz='UTC'), Timestamp('2024-09-23 08:00:00+0000', tz='UTC'), Timestamp('2024-09-29 16:30:00+0000', tz='UTC')]\n"
     ]
    },
    {
     "data": {
      "text/plain": [
       "eventStartTime\n",
       "2024-01-23 11:20:00+00:00    24\n",
       "2024-01-19 16:55:00+00:00    16\n",
       "2020-01-30 06:00:00+00:00    15\n",
       "2024-01-29 02:10:00+00:00    15\n",
       "2020-10-30 11:00:00+00:00    15\n",
       "                             ..\n",
       "2024-05-31 11:30:00+00:00     1\n",
       "2024-05-04 08:00:00+00:00     1\n",
       "2024-05-03 08:00:00+00:00     1\n",
       "2024-05-31 10:00:00+00:00     1\n",
       "2024-05-09 08:00:00+00:00     1\n",
       "Name: id, Length: 122, dtype: int64"
      ]
     },
     "execution_count": 114,
     "metadata": {},
     "output_type": "execute_result"
    }
   ],
   "source": [
    "# Gruppiere nach 'eventStartTime' und zähle 'id' pro Gruppe\n",
    "df_eventStartTime = df.groupby(['eventStartTime'])['id'].count()\n",
    "\n",
    "# Liste der eindeutigen 'eventStartTime'-Werte ausgeben\n",
    "print(df_eventStartTime.index.tolist())\n",
    "\n",
    "# Ergebnis nach der Anzahl der 'eventStartTime' absteigend sortieren\n",
    "df_eventStartTime.sort_values(ascending=False)\n"
   ]
  },
  {
   "cell_type": "code",
   "execution_count": 115,
   "metadata": {},
   "outputs": [
    {
     "name": "stdout",
     "output_type": "stream",
     "text": [
      "['2020-02-01T15:00:00Z', '2020-02-02T18:00:00Z', '2020-02-03T02:00:00Z', '2020-02-05T02:00:00Z', '2020-02-07T18:00:00Z', '2020-02-12T20:00:00Z', '2020-02-13T19:30:00Z', '2020-02-17T12:00:00Z', '2020-02-21T16:00:00Z', '2020-02-22T19:30:00Z', '2020-02-28T12:00:00Z', '2020-03-02T12:00:00Z', '2020-03-04T06:00:00Z', '2020-03-04T22:30:00Z', '2020-03-09T16:00:00Z', '2020-03-12T19:00:00Z', '2020-03-14T06:00:00Z', '2020-03-15T16:00:00Z', '2020-03-18T16:00:00Z', '2020-03-19T16:00:00Z', '2020-03-26T22:00:00Z', '2020-03-28T16:00:00Z', '2020-03-30T15:00:00Z', '2020-03-31T15:00:00Z', '2020-04-02T14:00:00Z', '2020-04-02T16:00:00Z', '2020-04-03T10:00:00Z', '2020-04-03T12:00:00Z', '2020-04-06T14:30:00Z', '2020-04-07T12:30:00Z', '2020-04-07T14:30:00Z', '2020-04-08T13:00:00Z', '2020-04-08T14:30:00Z', '2020-04-19T00:00:00Z', '2020-04-19T11:00:00Z', '2020-04-20T11:00:00Z', '2020-04-21T10:00:00Z', '2020-04-21T10:30:00Z', '2020-04-21T11:30:00Z', '2020-04-21T12:00:00Z', '2020-04-21T12:30:00Z', '2020-04-21T14:00:00Z', '2020-04-21T14:30:00Z', '2020-04-21T15:30:00Z', '2020-04-25T11:00:00Z', '2020-04-26T12:00:00Z', '2020-05-03T07:00:00Z', '2020-05-03T21:00:00Z', '2020-05-08T17:00:00Z', '2020-05-23T16:00:00Z', '2020-06-01T09:00:00Z', '2020-06-01T17:00:00Z', '2020-06-02T16:00:00Z', '2020-06-02T17:00:00Z', '2020-06-15T05:30:00Z', '2020-06-16T17:00:00Z', '2020-06-17T17:00:00Z', '2020-06-18T18:30:00Z', '2020-06-18T19:00:00Z', '2020-06-23T17:00:00Z', '2020-06-23T19:00:00Z', '2020-06-23T20:00:00Z', '2020-06-24T12:00:00Z', '2020-06-25T17:00:00Z', '2020-06-30T19:00:00Z', '2020-07-01T12:00:00Z', '2020-07-06T12:30:00Z', '2020-07-06T14:30:00Z', '2020-07-06T17:30:00Z', '2020-07-06T18:30:00Z', '2020-07-06T19:30:00Z', '2020-09-11T17:00:00Z', '2020-09-11T18:00:00Z', '2020-09-16T00:00:00Z', '2020-09-16T01:30:00Z', '2020-09-16T04:00:00Z', '2020-09-23T12:00:00Z', '2020-09-23T12:30:00Z', '2020-09-23T14:00:00Z', '2020-09-24T14:00:00Z', '2020-09-28T14:00:00Z', '2020-09-29T14:00:00Z', '2020-09-29T17:00:00Z', '2020-09-29T18:00:00Z', '2020-09-30T11:00:00Z', '2020-09-30T17:00:00Z', '2020-10-22T17:00:00Z', '2020-10-27T18:00:00Z', '2020-10-28T14:30:00Z', '2020-10-30T15:00:00Z', '2020-10-30T18:00:00Z', '2020-10-30T22:00:00Z', '2020-10-30T23:00:00Z', '2020-10-31T00:00:00Z', '2020-10-31T01:00:00Z', '2020-10-31T02:00:00Z', '2020-11-19T18:00:00Z', '2020-11-20T16:00:00Z', '2020-11-21T18:00:00Z', '2020-11-24T17:00:00Z', '2020-11-24T18:30:00Z', '2020-11-26T14:00:00Z', '2020-11-26T18:00:00Z', '2020-12-11T16:00:00Z', '2020-12-11T18:00:00Z', '2020-12-14T09:30:00Z', '2020-12-14T10:30:00Z', '2020-12-22T09:00:00Z', '2021-01-03T07:00:00Z', '2021-01-03T11:00:00Z', '2021-01-03T23:00:00Z', '2021-01-06T12:30:00Z', '2021-01-07T15:00:00Z', '2021-01-08T12:00:00Z', '2021-01-09T12:00:00Z', '2021-01-11T04:00:00Z', '2021-01-11T06:00:00Z', '2021-01-14T18:00:00Z', '2021-01-15T16:00:00Z', '2021-01-18T16:00:00Z', '2021-01-19T14:00:00Z', '2021-01-19T14:30:00Z', '2021-01-19T15:00:00Z', '2021-01-20T08:00:00Z', '2021-01-20T16:00:00Z', '2021-01-21T08:00:00Z', '2021-01-21T14:00:00Z', '2021-01-21T16:00:00Z', '2021-01-22T12:00:00Z', '2021-01-22T13:00:00Z', '2021-01-23T18:30:00Z', '2021-01-24T04:00:00Z', '2021-01-25T19:00:00Z', '2021-01-26T18:00:00Z', '2021-01-26T22:00:00Z', '2021-01-28T18:00:00Z', '2021-01-29T07:00:00Z', '2021-01-30T18:00:00Z', '2021-01-31T18:00:00Z', '2021-02-02T18:00:00Z', '2021-02-03T19:00:00Z', '2021-02-04T19:00:00Z', '2021-02-05T07:00:00Z', '2021-02-05T10:00:00Z', '2021-02-05T20:00:00Z', '2021-02-05T22:00:00Z', '2021-02-08T11:30:00Z', '2021-02-08T12:30:00Z', '2021-02-15T10:00:00Z', '2021-02-17T13:00:00Z', '2021-02-17T19:00:00Z', '2021-02-19T13:00:00Z', '2021-02-21T12:00:00Z', '2021-03-20T10:00:00Z', '2021-03-20T14:00:00Z', '2021-03-20T17:00:00Z', '2021-03-20T18:00:00Z', '2021-03-20T19:00:00Z', '2021-03-20T20:00:00Z', '2021-05-21T15:00:00Z', '2021-05-21T18:00:00Z', '2021-06-08T12:00:00Z', '2021-08-31T13:00:00Z', '2021-08-31T15:00:00Z', '2021-08-31T17:00:00Z', '2021-09-01T15:00:00Z', '2021-09-11T16:34:00Z', '2021-09-11T21:00:00Z', '2021-09-12T21:00:00Z', '2021-09-16T16:00:00Z', '2021-09-17T16:00:00Z', '2021-09-17T19:15:00Z', '2021-09-17T20:16:00Z', '2021-09-22T13:00:00Z', '2021-09-22T20:00:00Z', '2022-01-25T18:00:00Z', '2022-05-11T10:30:00Z', '2022-06-16T13:36:00Z', '2022-06-17T16:00:00Z', '2022-06-28T20:00:00Z', '2022-06-30T17:00:00Z', '2022-07-10T07:00:00Z', '2022-07-22T08:43:00Z', '2022-09-21T13:00:00Z', '2023-02-07T13:00:00Z', '2023-02-07T14:00:00Z', '2023-04-24T09:00:00Z', '2023-04-24T10:00:00Z', '2023-04-25T10:00:00Z', '2023-04-26T10:00:00Z', '2023-07-18T14:00:00Z', '2023-07-18T16:00:00Z', '2023-07-24T08:00:00Z', '2023-07-24T14:00:00Z', '2023-07-25T14:00:00Z', '2023-07-25T16:00:00Z', '2023-07-25T18:00:00Z', '2023-07-25T19:00:00Z', '2023-07-26T14:00:00Z', '2023-07-26T15:30:00Z', '2023-07-26T17:00:00Z', '2023-07-28T14:00:00Z', '2023-07-28T16:00:00Z', '2024-01-19T16:00:00Z', '2024-01-20T16:00:00Z', '2024-01-23T04:30:00Z', '2024-01-24T16:00:00Z', '2024-01-27T16:00:00Z', '2024-01-29T02:10:00Z', '2024-01-31T16:00:00Z', '2024-02-17T18:00:00Z', '2024-02-23T20:00:00Z', '2024-02-24T00:00:00Z', '2024-02-24T13:00:00Z', '2024-02-24T17:00:00Z', '2024-02-25T12:00:00Z', '2024-02-25T22:00:00Z', '2024-02-26T05:40:00Z', '2024-02-26T08:00:00Z', '2024-02-26T13:00:00Z', '2024-03-31T17:00:00Z', '2024-04-30T17:00:00Z', '2024-05-09T09:00:00Z', '2024-05-14T16:00:00Z', '2024-05-15T16:00:00Z', '2024-05-15T19:00:00Z', '2024-05-16T16:00:00Z', '2024-05-17T16:00:00Z', '2024-05-23T15:00:00Z', '2024-05-24T15:00:00Z', '2024-05-25T15:00:00Z', '2024-05-25T17:00:00Z', '2024-05-26T12:00:00Z', '2024-05-26T17:00:00Z', '2024-05-26T19:00:00Z', '2024-05-27T17:00:00Z', '2024-05-28T20:00:00Z', '2024-05-28T22:30:00Z', '2024-05-28T23:30:00Z', '2024-05-29T17:00:00Z', '2024-05-30T17:00:00Z', '2024-05-31T12:30:00Z', '2024-05-31T14:30:00Z', '2024-06-01T14:30:00Z', '2024-06-01T22:00:00Z', '2024-06-02T00:30:00Z', '2024-06-03T13:00:00Z', '2024-06-04T11:20:00Z', '2024-06-05T13:00:00Z', '2024-06-12T16:00:00Z', '2024-06-12T19:00:00Z', '2024-06-13T18:45:00Z', '2024-06-13T20:00:00Z', '2024-06-20T16:00:00Z', '2024-08-30T09:00:00Z', '2024-09-19T17:00:00Z', '2024-09-19T17:14:00Z', '2024-09-20T15:00:00Z', '2024-09-20T17:00:00Z', '2024-09-29T12:00:00Z', '2024-09-29T21:00:00Z', '2024-09-30T16:00:00Z', '2024-09-30T16:30:00Z']\n"
     ]
    },
    {
     "data": {
      "text/plain": [
       "eventEndTime\n",
       "2024-01-31T16:00:00Z    12\n",
       "2024-06-12T16:00:00Z     6\n",
       "2021-01-15T16:00:00Z     6\n",
       "2024-01-27T16:00:00Z     5\n",
       "2024-02-25T12:00:00Z     5\n",
       "                        ..\n",
       "2024-05-31T14:30:00Z     1\n",
       "2024-06-01T14:30:00Z     1\n",
       "2020-02-05T02:00:00Z     1\n",
       "2020-02-02T18:00:00Z     1\n",
       "2020-02-01T15:00:00Z     1\n",
       "Name: id, Length: 263, dtype: int64"
      ]
     },
     "execution_count": 115,
     "metadata": {},
     "output_type": "execute_result"
    }
   ],
   "source": [
    "# Gruppiere nach 'eventEndTime' und zähle 'id' pro Gruppe\n",
    "df_eventEndTime = df.groupby(['eventEndTime'])['id'].count()\n",
    "\n",
    "# Liste der eindeutigen 'eventEndTime'-Werte ausgeben\n",
    "print(df_eventEndTime.index.tolist())\n",
    "\n",
    "# Ergebnis nach der Anzahl der 'eventEndTime' absteigend sortieren\n",
    "df_eventEndTime.sort_values(ascending=False)\n"
   ]
  },
  {
   "cell_type": "code",
   "execution_count": 116,
   "metadata": {},
   "outputs": [
    {
     "data": {
      "application/vnd.plotly.v1+json": {
       "config": {
        "plotlyServerURL": "https://plot.ly"
       },
       "data": [
        {
         "mode": "lines+markers",
         "name": "Linie 1",
         "type": "scatter",
         "x": [
          "2020-11-26T09:00:00+00:00",
          "2020-11-26T18:00:00+00:00"
         ],
         "y": [
          1,
          1
         ]
        },
        {
         "mode": "lines+markers",
         "name": "Linie 2",
         "type": "scatter",
         "x": [
          "2020-12-11T06:00:00+00:00",
          "2020-12-11T16:00:00+00:00"
         ],
         "y": [
          2,
          2
         ]
        },
        {
         "mode": "lines+markers",
         "name": "Linie 3",
         "type": "scatter",
         "x": [
          "2020-12-14T07:30:00+00:00",
          "2020-12-14T09:30:00+00:00"
         ],
         "y": [
          3,
          3
         ]
        },
        {
         "mode": "lines+markers",
         "name": "Linie 4",
         "type": "scatter",
         "x": [
          "2020-12-11T08:00:00+00:00",
          "2020-12-11T18:00:00+00:00"
         ],
         "y": [
          4,
          4
         ]
        },
        {
         "mode": "lines+markers",
         "name": "Linie 5",
         "type": "scatter",
         "x": [
          "2020-12-14T07:30:00+00:00",
          "2020-12-14T10:30:00+00:00"
         ],
         "y": [
          5,
          5
         ]
        },
        {
         "mode": "lines+markers",
         "name": "Linie 6",
         "type": "scatter",
         "x": [
          "2020-11-20T07:00:00+00:00",
          "2020-11-20T16:00:00+00:00"
         ],
         "y": [
          6,
          6
         ]
        },
        {
         "mode": "lines+markers",
         "name": "Linie 7",
         "type": "scatter",
         "x": [
          "2020-11-18T07:00:00+00:00",
          "2020-11-19T18:00:00+00:00"
         ],
         "y": [
          7,
          7
         ]
        },
        {
         "mode": "lines+markers",
         "name": "Linie 8",
         "type": "scatter",
         "x": [
          "2020-11-20T07:00:00+00:00",
          "2020-11-21T18:00:00+00:00"
         ],
         "y": [
          8,
          8
         ]
        },
        {
         "mode": "lines+markers",
         "name": "Linie 9",
         "type": "scatter",
         "x": [
          "2020-11-18T07:00:00+00:00",
          "2020-11-19T18:00:00+00:00"
         ],
         "y": [
          9,
          9
         ]
        },
        {
         "mode": "lines+markers",
         "name": "Linie 10",
         "type": "scatter",
         "x": [
          "2020-11-26T09:00:00+00:00",
          "2020-11-26T14:00:00+00:00"
         ],
         "y": [
          10,
          10
         ]
        },
        {
         "mode": "lines+markers",
         "name": "Linie 11",
         "type": "scatter",
         "x": [
          "2020-10-30T11:00:00+00:00",
          "2020-10-30T22:00:00+00:00"
         ],
         "y": [
          11,
          11
         ]
        },
        {
         "mode": "lines+markers",
         "name": "Linie 12",
         "type": "scatter",
         "x": [
          "2020-10-30T11:00:00+00:00",
          "2020-10-30T23:00:00+00:00"
         ],
         "y": [
          12,
          12
         ]
        },
        {
         "mode": "lines+markers",
         "name": "Linie 13",
         "type": "scatter",
         "x": [
          "2020-10-30T11:00:00+00:00",
          "2020-10-30T15:00:00+00:00"
         ],
         "y": [
          13,
          13
         ]
        },
        {
         "mode": "lines+markers",
         "name": "Linie 14",
         "type": "scatter",
         "x": [
          "2020-10-30T23:00:00+00:00",
          "2020-10-31T02:00:00+00:00"
         ],
         "y": [
          14,
          14
         ]
        },
        {
         "mode": "lines+markers",
         "name": "Linie 15",
         "type": "scatter",
         "x": [
          "2020-10-30T23:00:00+00:00",
          "2020-10-31T00:00:00+00:00"
         ],
         "y": [
          15,
          15
         ]
        },
        {
         "mode": "lines+markers",
         "name": "Linie 16",
         "type": "scatter",
         "x": [
          "2020-10-30T11:00:00+00:00",
          "2020-10-31T00:00:00+00:00"
         ],
         "y": [
          16,
          16
         ]
        },
        {
         "mode": "lines+markers",
         "name": "Linie 17",
         "type": "scatter",
         "x": [
          "2020-10-30T11:00:00+00:00",
          "2020-10-30T15:00:00+00:00"
         ],
         "y": [
          17,
          17
         ]
        },
        {
         "mode": "lines+markers",
         "name": "Linie 18",
         "type": "scatter",
         "x": [
          "2020-10-30T11:00:00+00:00",
          "2020-10-30T18:00:00+00:00"
         ],
         "y": [
          18,
          18
         ]
        },
        {
         "mode": "lines+markers",
         "name": "Linie 19",
         "type": "scatter",
         "x": [
          "2020-10-30T23:00:00+00:00",
          "2020-10-31T01:00:00+00:00"
         ],
         "y": [
          19,
          19
         ]
        },
        {
         "mode": "lines+markers",
         "name": "Linie 20",
         "type": "scatter",
         "x": [
          "2020-09-14T04:00:00+00:00",
          "2020-09-16T00:00:00+00:00"
         ],
         "y": [
          20,
          20
         ]
        },
        {
         "mode": "lines+markers",
         "name": "Linie 21",
         "type": "scatter",
         "x": [
          "2020-09-15T23:30:00+00:00",
          "2020-09-16T01:30:00+00:00"
         ],
         "y": [
          21,
          21
         ]
        },
        {
         "mode": "lines+markers",
         "name": "Linie 22",
         "type": "scatter",
         "x": [
          "2020-09-14T04:00:00+00:00",
          "2020-09-16T04:00:00+00:00"
         ],
         "y": [
          22,
          22
         ]
        },
        {
         "mode": "lines+markers",
         "name": "Linie 23",
         "type": "scatter",
         "x": [
          "2020-07-06T12:30:00+00:00",
          "2020-07-06T19:30:00+00:00"
         ],
         "y": [
          23,
          23
         ]
        },
        {
         "mode": "lines+markers",
         "name": "Linie 24",
         "type": "scatter",
         "x": [
          "2020-07-06T12:30:00+00:00",
          "2020-07-06T18:30:00+00:00"
         ],
         "y": [
          24,
          24
         ]
        },
        {
         "mode": "lines+markers",
         "name": "Linie 25",
         "type": "scatter",
         "x": [
          "2020-07-06T12:30:00+00:00",
          "2020-07-06T14:30:00+00:00"
         ],
         "y": [
          25,
          25
         ]
        },
        {
         "mode": "lines+markers",
         "name": "Linie 26",
         "type": "scatter",
         "x": [
          "2020-07-06T11:30:00+00:00",
          "2020-07-06T12:30:00+00:00"
         ],
         "y": [
          26,
          26
         ]
        },
        {
         "mode": "lines+markers",
         "name": "Linie 27",
         "type": "scatter",
         "x": [
          "2020-07-06T12:30:00+00:00",
          "2020-07-06T17:30:00+00:00"
         ],
         "y": [
          27,
          27
         ]
        },
        {
         "mode": "lines+markers",
         "name": "Linie 28",
         "type": "scatter",
         "x": [
          "2020-06-01T07:00:00+00:00",
          "2020-06-02T17:00:00+00:00"
         ],
         "y": [
          28,
          28
         ]
        },
        {
         "mode": "lines+markers",
         "name": "Linie 29",
         "type": "scatter",
         "x": [
          "2020-06-22T07:00:00+00:00",
          "2020-06-23T17:00:00+00:00"
         ],
         "y": [
          29,
          29
         ]
        },
        {
         "mode": "lines+markers",
         "name": "Linie 30",
         "type": "scatter",
         "x": [
          "2020-06-22T05:00:00+00:00",
          "2020-06-24T12:00:00+00:00"
         ],
         "y": [
          30,
          30
         ]
        },
        {
         "mode": "lines+markers",
         "name": "Linie 31",
         "type": "scatter",
         "x": [
          "2020-06-23T18:30:00+00:00",
          "2020-06-23T20:00:00+00:00"
         ],
         "y": [
          31,
          31
         ]
        },
        {
         "mode": "lines+markers",
         "name": "Linie 32",
         "type": "scatter",
         "x": [
          "2020-06-22T05:00:00+00:00",
          "2020-06-23T19:00:00+00:00"
         ],
         "y": [
          32,
          32
         ]
        },
        {
         "mode": "lines+markers",
         "name": "Linie 33",
         "type": "scatter",
         "x": [
          "2020-06-01T07:00:00+00:00",
          "2020-06-02T16:00:00+00:00"
         ],
         "y": [
          33,
          33
         ]
        },
        {
         "mode": "lines+markers",
         "name": "Linie 34",
         "type": "scatter",
         "x": [
          "2020-05-03T07:00:00+00:00",
          "2020-05-03T21:00:00+00:00"
         ],
         "y": [
          34,
          34
         ]
        },
        {
         "mode": "lines+markers",
         "name": "Linie 35",
         "type": "scatter",
         "x": [
          "2020-05-03T07:00:00+00:00",
          "2020-05-08T17:00:00+00:00"
         ],
         "y": [
          35,
          35
         ]
        },
        {
         "mode": "lines+markers",
         "name": "Linie 36",
         "type": "scatter",
         "x": [
          "2020-04-21T14:00:00+00:00",
          "2020-05-03T07:00:00+00:00"
         ],
         "y": [
          36,
          36
         ]
        },
        {
         "mode": "lines+markers",
         "name": "Linie 37",
         "type": "scatter",
         "x": [
          "2020-06-01T07:00:00+00:00",
          "2020-06-01T17:00:00+00:00"
         ],
         "y": [
          37,
          37
         ]
        },
        {
         "mode": "lines+markers",
         "name": "Linie 38",
         "type": "scatter",
         "x": [
          "2020-06-01T09:00:00+00:00",
          "2020-06-01T17:00:00+00:00"
         ],
         "y": [
          38,
          38
         ]
        },
        {
         "mode": "lines+markers",
         "name": "Linie 39",
         "type": "scatter",
         "x": [
          "2020-04-21T10:30:00+00:00",
          "2020-04-25T11:00:00+00:00"
         ],
         "y": [
          39,
          39
         ]
        },
        {
         "mode": "lines+markers",
         "name": "Linie 40",
         "type": "scatter",
         "x": [
          "2020-04-19T00:00:00+00:00",
          "2020-04-21T10:30:00+00:00"
         ],
         "y": [
          40,
          40
         ]
        },
        {
         "mode": "lines+markers",
         "name": "Linie 41",
         "type": "scatter",
         "x": [
          "2020-04-19T00:00:00+00:00",
          "2020-04-25T11:00:00+00:00"
         ],
         "y": [
          41,
          41
         ]
        },
        {
         "mode": "lines+markers",
         "name": "Linie 42",
         "type": "scatter",
         "x": [
          "2020-04-21T10:30:00+00:00",
          "2020-04-25T11:00:00+00:00"
         ],
         "y": [
          42,
          42
         ]
        },
        {
         "mode": "lines+markers",
         "name": "Linie 43",
         "type": "scatter",
         "x": [
          "2020-04-21T14:00:00+00:00",
          "2020-05-08T17:00:00+00:00"
         ],
         "y": [
          43,
          43
         ]
        },
        {
         "mode": "lines+markers",
         "name": "Linie 44",
         "type": "scatter",
         "x": [
          "2020-04-21T10:30:00+00:00",
          "2020-04-21T12:00:00+00:00"
         ],
         "y": [
          44,
          44
         ]
        },
        {
         "mode": "lines+markers",
         "name": "Linie 45",
         "type": "scatter",
         "x": [
          "2020-04-19T00:00:00+00:00",
          "2020-04-20T11:00:00+00:00"
         ],
         "y": [
          45,
          45
         ]
        },
        {
         "mode": "lines+markers",
         "name": "Linie 46",
         "type": "scatter",
         "x": [
          "2020-04-21T12:00:00+00:00",
          "2020-04-21T14:00:00+00:00"
         ],
         "y": [
          46,
          46
         ]
        },
        {
         "mode": "lines+markers",
         "name": "Linie 47",
         "type": "scatter",
         "x": [
          "2020-04-18T18:30:00+00:00",
          "2020-04-19T11:00:00+00:00"
         ],
         "y": [
          47,
          47
         ]
        },
        {
         "mode": "lines+markers",
         "name": "Linie 48",
         "type": "scatter",
         "x": [
          "2020-04-19T00:00:00+00:00",
          "2020-04-19T11:00:00+00:00"
         ],
         "y": [
          48,
          48
         ]
        },
        {
         "mode": "lines+markers",
         "name": "Linie 49",
         "type": "scatter",
         "x": [
          "2020-04-21T10:30:00+00:00",
          "2020-04-21T12:30:00+00:00"
         ],
         "y": [
          49,
          49
         ]
        },
        {
         "mode": "lines+markers",
         "name": "Linie 50",
         "type": "scatter",
         "x": [
          "2020-04-18T18:30:00+00:00",
          "2020-04-19T00:00:00+00:00"
         ],
         "y": [
          50,
          50
         ]
        },
        {
         "mode": "lines+markers",
         "name": "Linie 51",
         "type": "scatter",
         "x": [
          "2020-04-21T14:00:00+00:00",
          "2020-04-25T11:00:00+00:00"
         ],
         "y": [
          51,
          51
         ]
        },
        {
         "mode": "lines+markers",
         "name": "Linie 52",
         "type": "scatter",
         "x": [
          "2020-11-24T08:00:00+00:00",
          "2020-11-24T18:30:00+00:00"
         ],
         "y": [
          52,
          52
         ]
        },
        {
         "mode": "lines+markers",
         "name": "Linie 53",
         "type": "scatter",
         "x": [
          "2020-11-24T08:00:00+00:00",
          "2020-11-24T17:00:00+00:00"
         ],
         "y": [
          53,
          53
         ]
        },
        {
         "mode": "lines+markers",
         "name": "Linie 54",
         "type": "scatter",
         "x": [
          "2020-10-31T00:00:00+00:00",
          "2020-10-31T02:00:00+00:00"
         ],
         "y": [
          54,
          54
         ]
        },
        {
         "mode": "lines+markers",
         "name": "Linie 55",
         "type": "scatter",
         "x": [
          "2020-10-30T11:00:00+00:00",
          "2020-10-30T18:00:00+00:00"
         ],
         "y": [
          55,
          55
         ]
        },
        {
         "mode": "lines+markers",
         "name": "Linie 56",
         "type": "scatter",
         "x": [
          "2020-10-31T00:00:00+00:00",
          "2020-10-31T01:00:00+00:00"
         ],
         "y": [
          56,
          56
         ]
        },
        {
         "mode": "lines+markers",
         "name": "Linie 57",
         "type": "scatter",
         "x": [
          "2020-10-30T11:00:00+00:00",
          "2020-10-31T00:00:00+00:00"
         ],
         "y": [
          57,
          57
         ]
        },
        {
         "mode": "lines+markers",
         "name": "Linie 58",
         "type": "scatter",
         "x": [
          "2020-10-30T11:00:00+00:00",
          "2020-10-30T22:00:00+00:00"
         ],
         "y": [
          58,
          58
         ]
        },
        {
         "mode": "lines+markers",
         "name": "Linie 59",
         "type": "scatter",
         "x": [
          "2020-10-30T11:00:00+00:00",
          "2020-10-30T15:00:00+00:00"
         ],
         "y": [
          59,
          59
         ]
        },
        {
         "mode": "lines+markers",
         "name": "Linie 60",
         "type": "scatter",
         "x": [
          "2020-09-15T23:30:00+00:00",
          "2020-09-16T01:30:00+00:00"
         ],
         "y": [
          60,
          60
         ]
        },
        {
         "mode": "lines+markers",
         "name": "Linie 61",
         "type": "scatter",
         "x": [
          "2020-09-23T09:00:00+00:00",
          "2020-09-23T12:30:00+00:00"
         ],
         "y": [
          61,
          61
         ]
        },
        {
         "mode": "lines+markers",
         "name": "Linie 62",
         "type": "scatter",
         "x": [
          "2020-09-29T09:00:00+00:00",
          "2020-09-30T17:00:00+00:00"
         ],
         "y": [
          62,
          62
         ]
        },
        {
         "mode": "lines+markers",
         "name": "Linie 63",
         "type": "scatter",
         "x": [
          "2020-09-24T09:00:00+00:00",
          "2020-09-24T14:00:00+00:00"
         ],
         "y": [
          63,
          63
         ]
        },
        {
         "mode": "lines+markers",
         "name": "Linie 64",
         "type": "scatter",
         "x": [
          "2020-09-29T09:00:00+00:00",
          "2020-09-29T18:00:00+00:00"
         ],
         "y": [
          64,
          64
         ]
        },
        {
         "mode": "lines+markers",
         "name": "Linie 65",
         "type": "scatter",
         "x": [
          "2020-09-28T09:00:00+00:00",
          "2020-09-28T14:00:00+00:00"
         ],
         "y": [
          65,
          65
         ]
        },
        {
         "mode": "lines+markers",
         "name": "Linie 66",
         "type": "scatter",
         "x": [
          "2020-09-28T10:00:00+00:00",
          "2020-09-28T14:00:00+00:00"
         ],
         "y": [
          66,
          66
         ]
        },
        {
         "mode": "lines+markers",
         "name": "Linie 67",
         "type": "scatter",
         "x": [
          "2020-09-29T09:00:00+00:00",
          "2020-09-30T11:00:00+00:00"
         ],
         "y": [
          67,
          67
         ]
        },
        {
         "mode": "lines+markers",
         "name": "Linie 68",
         "type": "scatter",
         "x": [
          "2020-09-14T04:00:00+00:00",
          "2020-09-16T00:00:00+00:00"
         ],
         "y": [
          68,
          68
         ]
        },
        {
         "mode": "lines+markers",
         "name": "Linie 69",
         "type": "scatter",
         "x": [
          "2020-09-23T09:00:00+00:00",
          "2020-09-23T14:00:00+00:00"
         ],
         "y": [
          69,
          69
         ]
        },
        {
         "mode": "lines+markers",
         "name": "Linie 70",
         "type": "scatter",
         "x": [
          "2020-09-23T09:00:00+00:00",
          "2020-09-23T12:00:00+00:00"
         ],
         "y": [
          70,
          70
         ]
        },
        {
         "mode": "lines+markers",
         "name": "Linie 71",
         "type": "scatter",
         "x": [
          "2020-09-14T04:00:00+00:00",
          "2020-09-16T04:00:00+00:00"
         ],
         "y": [
          71,
          71
         ]
        },
        {
         "mode": "lines+markers",
         "name": "Linie 72",
         "type": "scatter",
         "x": [
          "2020-09-11T14:30:00+00:00",
          "2020-09-11T17:00:00+00:00"
         ],
         "y": [
          72,
          72
         ]
        },
        {
         "mode": "lines+markers",
         "name": "Linie 73",
         "type": "scatter",
         "x": [
          "2020-09-11T14:30:00+00:00",
          "2020-09-11T18:00:00+00:00"
         ],
         "y": [
          73,
          73
         ]
        },
        {
         "mode": "lines+markers",
         "name": "Linie 74",
         "type": "scatter",
         "x": [
          "2020-09-29T09:00:00+00:00",
          "2020-09-29T17:00:00+00:00"
         ],
         "y": [
          74,
          74
         ]
        },
        {
         "mode": "lines+markers",
         "name": "Linie 75",
         "type": "scatter",
         "x": [
          "2020-09-24T09:00:00+00:00",
          "2020-09-24T14:00:00+00:00"
         ],
         "y": [
          75,
          75
         ]
        },
        {
         "mode": "lines+markers",
         "name": "Linie 76",
         "type": "scatter",
         "x": [
          "2020-09-29T09:00:00+00:00",
          "2020-09-29T14:00:00+00:00"
         ],
         "y": [
          76,
          76
         ]
        },
        {
         "mode": "lines+markers",
         "name": "Linie 77",
         "type": "scatter",
         "x": [
          "2020-07-06T11:30:00+00:00",
          "2020-07-06T12:30:00+00:00"
         ],
         "y": [
          77,
          77
         ]
        },
        {
         "mode": "lines+markers",
         "name": "Linie 78",
         "type": "scatter",
         "x": [
          "2020-07-06T12:30:00+00:00",
          "2020-07-06T17:30:00+00:00"
         ],
         "y": [
          78,
          78
         ]
        },
        {
         "mode": "lines+markers",
         "name": "Linie 79",
         "type": "scatter",
         "x": [
          "2020-07-06T12:30:00+00:00",
          "2020-07-06T18:30:00+00:00"
         ],
         "y": [
          79,
          79
         ]
        },
        {
         "mode": "lines+markers",
         "name": "Linie 80",
         "type": "scatter",
         "x": [
          "2020-07-06T12:30:00+00:00",
          "2020-07-06T19:30:00+00:00"
         ],
         "y": [
          80,
          80
         ]
        },
        {
         "mode": "lines+markers",
         "name": "Linie 81",
         "type": "scatter",
         "x": [
          "2020-07-06T12:30:00+00:00",
          "2020-07-06T14:30:00+00:00"
         ],
         "y": [
          81,
          81
         ]
        },
        {
         "mode": "lines+markers",
         "name": "Linie 82",
         "type": "scatter",
         "x": [
          "2020-06-01T07:00:00+00:00",
          "2020-06-02T16:00:00+00:00"
         ],
         "y": [
          82,
          82
         ]
        },
        {
         "mode": "lines+markers",
         "name": "Linie 83",
         "type": "scatter",
         "x": [
          "2020-06-01T07:00:00+00:00",
          "2020-06-02T17:00:00+00:00"
         ],
         "y": [
          83,
          83
         ]
        },
        {
         "mode": "lines+markers",
         "name": "Linie 84",
         "type": "scatter",
         "x": [
          "2020-06-29T05:00:00+00:00",
          "2020-07-01T12:00:00+00:00"
         ],
         "y": [
          84,
          84
         ]
        },
        {
         "mode": "lines+markers",
         "name": "Linie 85",
         "type": "scatter",
         "x": [
          "2020-06-29T05:00:00+00:00",
          "2020-06-30T19:00:00+00:00"
         ],
         "y": [
          85,
          85
         ]
        },
        {
         "mode": "lines+markers",
         "name": "Linie 86",
         "type": "scatter",
         "x": [
          "2020-06-01T07:00:00+00:00",
          "2020-06-01T17:00:00+00:00"
         ],
         "y": [
          86,
          86
         ]
        },
        {
         "mode": "lines+markers",
         "name": "Linie 87",
         "type": "scatter",
         "x": [
          "2020-06-01T07:00:00+00:00",
          "2020-06-01T09:00:00+00:00"
         ],
         "y": [
          87,
          87
         ]
        },
        {
         "mode": "lines+markers",
         "name": "Linie 88",
         "type": "scatter",
         "x": [
          "2020-06-01T07:00:00+00:00",
          "2020-06-01T17:00:00+00:00"
         ],
         "y": [
          88,
          88
         ]
        },
        {
         "mode": "lines+markers",
         "name": "Linie 89",
         "type": "scatter",
         "x": [
          "2020-04-08T06:30:00+00:00",
          "2020-04-08T13:00:00+00:00"
         ],
         "y": [
          89,
          89
         ]
        },
        {
         "mode": "lines+markers",
         "name": "Linie 90",
         "type": "scatter",
         "x": [
          "2020-04-03T08:00:00+00:00",
          "2020-04-03T10:00:00+00:00"
         ],
         "y": [
          90,
          90
         ]
        },
        {
         "mode": "lines+markers",
         "name": "Linie 91",
         "type": "scatter",
         "x": [
          "2020-04-07T08:30:00+00:00",
          "2020-04-07T12:30:00+00:00"
         ],
         "y": [
          91,
          91
         ]
        },
        {
         "mode": "lines+markers",
         "name": "Linie 92",
         "type": "scatter",
         "x": [
          "2020-04-21T12:30:00+00:00",
          "2020-04-21T14:30:00+00:00"
         ],
         "y": [
          92,
          92
         ]
        },
        {
         "mode": "lines+markers",
         "name": "Linie 93",
         "type": "scatter",
         "x": [
          "2020-04-06T08:30:00+00:00",
          "2020-04-06T14:30:00+00:00"
         ],
         "y": [
          93,
          93
         ]
        },
        {
         "mode": "lines+markers",
         "name": "Linie 94",
         "type": "scatter",
         "x": [
          "2020-04-07T06:30:00+00:00",
          "2020-04-07T14:30:00+00:00"
         ],
         "y": [
          94,
          94
         ]
        },
        {
         "mode": "lines+markers",
         "name": "Linie 95",
         "type": "scatter",
         "x": [
          "2020-04-21T13:30:00+00:00",
          "2020-04-21T15:30:00+00:00"
         ],
         "y": [
          95,
          95
         ]
        },
        {
         "mode": "lines+markers",
         "name": "Linie 96",
         "type": "scatter",
         "x": [
          "2020-04-03T06:00:00+00:00",
          "2020-04-03T12:00:00+00:00"
         ],
         "y": [
          96,
          96
         ]
        },
        {
         "mode": "lines+markers",
         "name": "Linie 97",
         "type": "scatter",
         "x": [
          "2020-04-07T06:30:00+00:00",
          "2020-04-07T14:30:00+00:00"
         ],
         "y": [
          97,
          97
         ]
        },
        {
         "mode": "lines+markers",
         "name": "Linie 98",
         "type": "scatter",
         "x": [
          "2020-04-26T11:00:00+00:00",
          "2020-04-26T12:00:00+00:00"
         ],
         "y": [
          98,
          98
         ]
        },
        {
         "mode": "lines+markers",
         "name": "Linie 99",
         "type": "scatter",
         "x": [
          "2020-04-08T06:30:00+00:00",
          "2020-04-08T14:30:00+00:00"
         ],
         "y": [
          99,
          99
         ]
        },
        {
         "mode": "lines+markers",
         "name": "Linie 100",
         "type": "scatter",
         "x": [
          "2020-03-04T22:30:00+00:00",
          "2020-04-02T14:00:00+00:00"
         ],
         "y": [
          100,
          100
         ]
        },
        {
         "mode": "lines+markers",
         "name": "Linie 101",
         "type": "scatter",
         "x": [
          "2020-04-03T06:00:00+00:00",
          "2020-04-03T12:00:00+00:00"
         ],
         "y": [
          101,
          101
         ]
        },
        {
         "mode": "lines+markers",
         "name": "Linie 102",
         "type": "scatter",
         "x": [
          "2020-04-21T10:30:00+00:00",
          "2020-04-21T12:30:00+00:00"
         ],
         "y": [
          102,
          102
         ]
        },
        {
         "mode": "lines+markers",
         "name": "Linie 103",
         "type": "scatter",
         "x": [
          "2020-04-03T08:00:00+00:00",
          "2020-04-03T12:00:00+00:00"
         ],
         "y": [
          103,
          103
         ]
        },
        {
         "mode": "lines+markers",
         "name": "Linie 104",
         "type": "scatter",
         "x": [
          "2020-03-04T22:30:00+00:00",
          "2020-03-30T15:00:00+00:00"
         ],
         "y": [
          104,
          104
         ]
        },
        {
         "mode": "lines+markers",
         "name": "Linie 105",
         "type": "scatter",
         "x": [
          "2020-03-12T06:00:00+00:00",
          "2020-03-14T06:00:00+00:00"
         ],
         "y": [
          105,
          105
         ]
        },
        {
         "mode": "lines+markers",
         "name": "Linie 106",
         "type": "scatter",
         "x": [
          "2020-03-12T06:00:00+00:00",
          "2020-03-12T19:00:00+00:00"
         ],
         "y": [
          106,
          106
         ]
        },
        {
         "mode": "lines+markers",
         "name": "Linie 107",
         "type": "scatter",
         "x": [
          "2020-03-04T06:00:00+00:00",
          "2020-03-04T22:30:00+00:00"
         ],
         "y": [
          107,
          107
         ]
        },
        {
         "mode": "lines+markers",
         "name": "Linie 108",
         "type": "scatter",
         "x": [
          "2020-03-04T22:30:00+00:00",
          "2020-03-28T16:00:00+00:00"
         ],
         "y": [
          108,
          108
         ]
        },
        {
         "mode": "lines+markers",
         "name": "Linie 109",
         "type": "scatter",
         "x": [
          "2020-03-04T22:30:00+00:00",
          "2020-03-30T15:00:00+00:00"
         ],
         "y": [
          109,
          109
         ]
        },
        {
         "mode": "lines+markers",
         "name": "Linie 110",
         "type": "scatter",
         "x": [
          "2020-03-04T22:30:00+00:00",
          "2020-03-30T15:00:00+00:00"
         ],
         "y": [
          110,
          110
         ]
        },
        {
         "mode": "lines+markers",
         "name": "Linie 111",
         "type": "scatter",
         "x": [
          "2020-03-04T22:30:00+00:00",
          "2020-03-19T16:00:00+00:00"
         ],
         "y": [
          111,
          111
         ]
        },
        {
         "mode": "lines+markers",
         "name": "Linie 112",
         "type": "scatter",
         "x": [
          "2020-03-04T22:30:00+00:00",
          "2020-03-31T15:00:00+00:00"
         ],
         "y": [
          112,
          112
         ]
        },
        {
         "mode": "lines+markers",
         "name": "Linie 113",
         "type": "scatter",
         "x": [
          "2020-03-04T22:30:00+00:00",
          "2020-03-18T16:00:00+00:00"
         ],
         "y": [
          113,
          113
         ]
        },
        {
         "mode": "lines+markers",
         "name": "Linie 114",
         "type": "scatter",
         "x": [
          "2020-03-04T22:30:00+00:00",
          "2020-04-02T16:00:00+00:00"
         ],
         "y": [
          114,
          114
         ]
        },
        {
         "mode": "lines+markers",
         "name": "Linie 115",
         "type": "scatter",
         "x": [
          "2020-03-04T22:30:00+00:00",
          "2020-03-09T16:00:00+00:00"
         ],
         "y": [
          115,
          115
         ]
        },
        {
         "mode": "lines+markers",
         "name": "Linie 116",
         "type": "scatter",
         "x": [
          "2020-03-04T22:30:00+00:00",
          "2020-03-09T16:00:00+00:00"
         ],
         "y": [
          116,
          116
         ]
        },
        {
         "mode": "lines+markers",
         "name": "Linie 117",
         "type": "scatter",
         "x": [
          "2020-03-04T22:30:00+00:00",
          "2020-03-15T16:00:00+00:00"
         ],
         "y": [
          117,
          117
         ]
        },
        {
         "mode": "lines+markers",
         "name": "Linie 118",
         "type": "scatter",
         "x": [
          "2020-03-04T22:30:00+00:00",
          "2020-03-28T16:00:00+00:00"
         ],
         "y": [
          118,
          118
         ]
        },
        {
         "mode": "lines+markers",
         "name": "Linie 119",
         "type": "scatter",
         "x": [
          "2020-03-04T22:30:00+00:00",
          "2020-03-28T16:00:00+00:00"
         ],
         "y": [
          119,
          119
         ]
        },
        {
         "mode": "lines+markers",
         "name": "Linie 120",
         "type": "scatter",
         "x": [
          "2020-01-30T06:00:00+00:00",
          "2020-02-02T18:00:00+00:00"
         ],
         "y": [
          120,
          120
         ]
        },
        {
         "mode": "lines+markers",
         "name": "Linie 121",
         "type": "scatter",
         "x": [
          "2020-01-30T06:00:00+00:00",
          "2020-02-12T20:00:00+00:00"
         ],
         "y": [
          121,
          121
         ]
        },
        {
         "mode": "lines+markers",
         "name": "Linie 122",
         "type": "scatter",
         "x": [
          "2020-01-30T06:00:00+00:00",
          "2020-02-05T02:00:00+00:00"
         ],
         "y": [
          122,
          122
         ]
        },
        {
         "mode": "lines+markers",
         "name": "Linie 123",
         "type": "scatter",
         "x": [
          "2020-01-30T06:00:00+00:00",
          "2020-02-21T16:00:00+00:00"
         ],
         "y": [
          123,
          123
         ]
        },
        {
         "mode": "lines+markers",
         "name": "Linie 124",
         "type": "scatter",
         "x": [
          "2020-01-30T06:00:00+00:00",
          "2020-03-04T06:00:00+00:00"
         ],
         "y": [
          124,
          124
         ]
        },
        {
         "mode": "lines+markers",
         "name": "Linie 125",
         "type": "scatter",
         "x": [
          "2020-01-30T06:00:00+00:00",
          "2020-03-02T12:00:00+00:00"
         ],
         "y": [
          125,
          125
         ]
        },
        {
         "mode": "lines+markers",
         "name": "Linie 126",
         "type": "scatter",
         "x": [
          "2020-01-30T06:00:00+00:00",
          "2020-02-22T19:30:00+00:00"
         ],
         "y": [
          126,
          126
         ]
        },
        {
         "mode": "lines+markers",
         "name": "Linie 127",
         "type": "scatter",
         "x": [
          "2020-01-30T06:00:00+00:00",
          "2020-02-28T12:00:00+00:00"
         ],
         "y": [
          127,
          127
         ]
        },
        {
         "mode": "lines+markers",
         "name": "Linie 128",
         "type": "scatter",
         "x": [
          "2020-01-30T06:00:00+00:00",
          "2020-02-13T19:30:00+00:00"
         ],
         "y": [
          128,
          128
         ]
        },
        {
         "mode": "lines+markers",
         "name": "Linie 129",
         "type": "scatter",
         "x": [
          "2020-03-04T06:00:00+00:00",
          "2020-03-09T16:00:00+00:00"
         ],
         "y": [
          129,
          129
         ]
        },
        {
         "mode": "lines+markers",
         "name": "Linie 130",
         "type": "scatter",
         "x": [
          "2020-01-30T06:00:00+00:00",
          "2020-02-07T18:00:00+00:00"
         ],
         "y": [
          130,
          130
         ]
        },
        {
         "mode": "lines+markers",
         "name": "Linie 131",
         "type": "scatter",
         "x": [
          "2020-01-30T06:00:00+00:00",
          "2020-02-03T02:00:00+00:00"
         ],
         "y": [
          131,
          131
         ]
        },
        {
         "mode": "lines+markers",
         "name": "Linie 132",
         "type": "scatter",
         "x": [
          "2020-01-30T06:00:00+00:00",
          "2020-02-17T12:00:00+00:00"
         ],
         "y": [
          132,
          132
         ]
        },
        {
         "mode": "lines+markers",
         "name": "Linie 133",
         "type": "scatter",
         "x": [
          "2020-01-30T06:00:00+00:00",
          "2020-03-09T16:00:00+00:00"
         ],
         "y": [
          133,
          133
         ]
        },
        {
         "mode": "lines+markers",
         "name": "Linie 134",
         "type": "scatter",
         "x": [
          "2020-01-30T06:00:00+00:00",
          "2020-02-01T15:00:00+00:00"
         ],
         "y": [
          134,
          134
         ]
        },
        {
         "mode": "lines+markers",
         "name": "Linie 135",
         "type": "scatter",
         "x": [
          "2020-01-30T06:00:00+00:00",
          "2020-02-03T02:00:00+00:00"
         ],
         "y": [
          135,
          135
         ]
        },
        {
         "mode": "lines+markers",
         "name": "Linie 136",
         "type": "scatter",
         "x": [
          "2020-11-26T09:00:00+00:00",
          "2020-11-26T18:00:00+00:00"
         ],
         "y": [
          136,
          136
         ]
        },
        {
         "mode": "lines+markers",
         "name": "Linie 137",
         "type": "scatter",
         "x": [
          "2020-12-22T02:00:00+00:00",
          "2020-12-22T09:00:00+00:00"
         ],
         "y": [
          137,
          137
         ]
        },
        {
         "mode": "lines+markers",
         "name": "Linie 138",
         "type": "scatter",
         "x": [
          "2020-11-26T09:00:00+00:00",
          "2020-11-26T14:00:00+00:00"
         ],
         "y": [
          138,
          138
         ]
        },
        {
         "mode": "lines+markers",
         "name": "Linie 139",
         "type": "scatter",
         "x": [
          "2020-10-27T09:00:00+00:00",
          "2020-10-27T18:00:00+00:00"
         ],
         "y": [
          139,
          139
         ]
        },
        {
         "mode": "lines+markers",
         "name": "Linie 140",
         "type": "scatter",
         "x": [
          "2020-10-30T11:00:00+00:00",
          "2020-10-31T00:00:00+00:00"
         ],
         "y": [
          140,
          140
         ]
        },
        {
         "mode": "lines+markers",
         "name": "Linie 141",
         "type": "scatter",
         "x": [
          "2020-10-30T11:00:00+00:00",
          "2020-10-30T23:00:00+00:00"
         ],
         "y": [
          141,
          141
         ]
        },
        {
         "mode": "lines+markers",
         "name": "Linie 142",
         "type": "scatter",
         "x": [
          "2020-10-30T11:00:00+00:00",
          "2020-10-30T15:00:00+00:00"
         ],
         "y": [
          142,
          142
         ]
        },
        {
         "mode": "lines+markers",
         "name": "Linie 143",
         "type": "scatter",
         "x": [
          "2020-10-30T23:00:00+00:00",
          "2020-10-31T00:00:00+00:00"
         ],
         "y": [
          143,
          143
         ]
        },
        {
         "mode": "lines+markers",
         "name": "Linie 144",
         "type": "scatter",
         "x": [
          "2020-10-30T11:00:00+00:00",
          "2020-10-30T18:00:00+00:00"
         ],
         "y": [
          144,
          144
         ]
        },
        {
         "mode": "lines+markers",
         "name": "Linie 145",
         "type": "scatter",
         "x": [
          "2020-10-22T07:00:00+00:00",
          "2020-10-22T17:00:00+00:00"
         ],
         "y": [
          145,
          145
         ]
        },
        {
         "mode": "lines+markers",
         "name": "Linie 146",
         "type": "scatter",
         "x": [
          "2020-10-30T23:00:00+00:00",
          "2020-10-31T01:00:00+00:00"
         ],
         "y": [
          146,
          146
         ]
        },
        {
         "mode": "lines+markers",
         "name": "Linie 147",
         "type": "scatter",
         "x": [
          "2020-10-28T11:30:00+00:00",
          "2020-10-28T14:30:00+00:00"
         ],
         "y": [
          147,
          147
         ]
        },
        {
         "mode": "lines+markers",
         "name": "Linie 148",
         "type": "scatter",
         "x": [
          "2020-10-22T07:00:00+00:00",
          "2020-10-22T17:00:00+00:00"
         ],
         "y": [
          148,
          148
         ]
        },
        {
         "mode": "lines+markers",
         "name": "Linie 149",
         "type": "scatter",
         "x": [
          "2020-10-30T11:00:00+00:00",
          "2020-10-30T22:00:00+00:00"
         ],
         "y": [
          149,
          149
         ]
        },
        {
         "mode": "lines+markers",
         "name": "Linie 150",
         "type": "scatter",
         "x": [
          "2020-09-14T04:00:00+00:00",
          "2020-09-16T04:00:00+00:00"
         ],
         "y": [
          150,
          150
         ]
        },
        {
         "mode": "lines+markers",
         "name": "Linie 151",
         "type": "scatter",
         "x": [
          "2020-09-14T04:00:00+00:00",
          "2020-09-16T00:00:00+00:00"
         ],
         "y": [
          151,
          151
         ]
        },
        {
         "mode": "lines+markers",
         "name": "Linie 152",
         "type": "scatter",
         "x": [
          "2020-09-15T23:30:00+00:00",
          "2020-09-16T01:30:00+00:00"
         ],
         "y": [
          152,
          152
         ]
        },
        {
         "mode": "lines+markers",
         "name": "Linie 153",
         "type": "scatter",
         "x": [
          "2020-06-15T07:00:00+00:00",
          "2020-06-18T18:30:00+00:00"
         ],
         "y": [
          153,
          153
         ]
        },
        {
         "mode": "lines+markers",
         "name": "Linie 154",
         "type": "scatter",
         "x": [
          "2020-06-15T07:00:00+00:00",
          "2020-06-17T17:00:00+00:00"
         ],
         "y": [
          154,
          154
         ]
        },
        {
         "mode": "lines+markers",
         "name": "Linie 155",
         "type": "scatter",
         "x": [
          "2020-06-15T05:00:00+00:00",
          "2020-06-16T17:00:00+00:00"
         ],
         "y": [
          155,
          155
         ]
        },
        {
         "mode": "lines+markers",
         "name": "Linie 156",
         "type": "scatter",
         "x": [
          "2020-06-15T05:00:00+00:00",
          "2020-06-15T05:30:00+00:00"
         ],
         "y": [
          156,
          156
         ]
        },
        {
         "mode": "lines+markers",
         "name": "Linie 157",
         "type": "scatter",
         "x": [
          "2020-06-15T07:00:00+00:00",
          "2020-06-18T19:00:00+00:00"
         ],
         "y": [
          157,
          157
         ]
        },
        {
         "mode": "lines+markers",
         "name": "Linie 158",
         "type": "scatter",
         "x": [
          "2020-06-25T07:00:00+00:00",
          "2020-06-25T17:00:00+00:00"
         ],
         "y": [
          158,
          158
         ]
        },
        {
         "mode": "lines+markers",
         "name": "Linie 159",
         "type": "scatter",
         "x": [
          "2020-05-22T23:30:00+00:00",
          "2020-05-23T16:00:00+00:00"
         ],
         "y": [
          159,
          159
         ]
        },
        {
         "mode": "lines+markers",
         "name": "Linie 160",
         "type": "scatter",
         "x": [
          "2020-05-22T23:30:00+00:00",
          "2020-05-23T16:00:00+00:00"
         ],
         "y": [
          160,
          160
         ]
        },
        {
         "mode": "lines+markers",
         "name": "Linie 161",
         "type": "scatter",
         "x": [
          "2020-04-21T08:00:00+00:00",
          "2020-04-21T10:00:00+00:00"
         ],
         "y": [
          161,
          161
         ]
        },
        {
         "mode": "lines+markers",
         "name": "Linie 162",
         "type": "scatter",
         "x": [
          "2020-04-21T08:00:00+00:00",
          "2020-04-21T11:30:00+00:00"
         ],
         "y": [
          162,
          162
         ]
        },
        {
         "mode": "lines+markers",
         "name": "Linie 163",
         "type": "scatter",
         "x": [
          "2020-03-24T06:00:00+00:00",
          "2020-03-26T22:00:00+00:00"
         ],
         "y": [
          163,
          163
         ]
        },
        {
         "mode": "lines+markers",
         "name": "Linie 164",
         "type": "scatter",
         "x": [
          "2020-03-24T06:00:00+00:00",
          "2020-03-26T22:00:00+00:00"
         ],
         "y": [
          164,
          164
         ]
        },
        {
         "mode": "lines+markers",
         "name": "Linie 165",
         "type": "scatter",
         "x": [
          "2021-09-17T07:30:00+00:00",
          "2021-09-17T19:15:00+00:00"
         ],
         "y": [
          165,
          165
         ]
        },
        {
         "mode": "lines+markers",
         "name": "Linie 166",
         "type": "scatter",
         "x": [
          "2021-09-17T07:30:00+00:00",
          "2021-09-17T16:00:00+00:00"
         ],
         "y": [
          166,
          166
         ]
        },
        {
         "mode": "lines+markers",
         "name": "Linie 167",
         "type": "scatter",
         "x": [
          "2021-09-11T05:15:00+00:00",
          "2021-09-11T16:34:00+00:00"
         ],
         "y": [
          167,
          167
         ]
        },
        {
         "mode": "lines+markers",
         "name": "Linie 168",
         "type": "scatter",
         "x": [
          "2021-09-17T07:30:00+00:00",
          "2021-09-22T13:00:00+00:00"
         ],
         "y": [
          168,
          168
         ]
        },
        {
         "mode": "lines+markers",
         "name": "Linie 169",
         "type": "scatter",
         "x": [
          "2021-09-11T05:15:00+00:00",
          "2021-09-11T21:00:00+00:00"
         ],
         "y": [
          169,
          169
         ]
        },
        {
         "mode": "lines+markers",
         "name": "Linie 170",
         "type": "scatter",
         "x": [
          "2021-09-12T12:30:00+00:00",
          "2021-09-12T21:00:00+00:00"
         ],
         "y": [
          170,
          170
         ]
        },
        {
         "mode": "lines+markers",
         "name": "Linie 171",
         "type": "scatter",
         "x": [
          "2021-09-16T07:30:00+00:00",
          "2021-09-16T16:00:00+00:00"
         ],
         "y": [
          171,
          171
         ]
        },
        {
         "mode": "lines+markers",
         "name": "Linie 172",
         "type": "scatter",
         "x": [
          "2021-09-01T07:00:00+00:00",
          "2021-09-01T15:00:00+00:00"
         ],
         "y": [
          172,
          172
         ]
        },
        {
         "mode": "lines+markers",
         "name": "Linie 173",
         "type": "scatter",
         "x": [
          "2021-06-08T08:00:00+00:00",
          "2021-06-08T12:00:00+00:00"
         ],
         "y": [
          173,
          173
         ]
        },
        {
         "mode": "lines+markers",
         "name": "Linie 174",
         "type": "scatter",
         "x": [
          "2021-05-21T06:00:00+00:00",
          "2021-05-21T18:00:00+00:00"
         ],
         "y": [
          174,
          174
         ]
        },
        {
         "mode": "lines+markers",
         "name": "Linie 175",
         "type": "scatter",
         "x": [
          "2021-05-21T06:00:00+00:00",
          "2021-05-21T15:00:00+00:00"
         ],
         "y": [
          175,
          175
         ]
        },
        {
         "mode": "lines+markers",
         "name": "Linie 176",
         "type": "scatter",
         "x": [
          "2021-03-19T23:00:00+00:00",
          "2021-03-20T14:00:00+00:00"
         ],
         "y": [
          176,
          176
         ]
        },
        {
         "mode": "lines+markers",
         "name": "Linie 177",
         "type": "scatter",
         "x": [
          "2021-03-19T23:00:00+00:00",
          "2021-03-20T10:00:00+00:00"
         ],
         "y": [
          177,
          177
         ]
        },
        {
         "mode": "lines+markers",
         "name": "Linie 178",
         "type": "scatter",
         "x": [
          "2021-03-19T23:00:00+00:00",
          "2021-03-20T18:00:00+00:00"
         ],
         "y": [
          178,
          178
         ]
        },
        {
         "mode": "lines+markers",
         "name": "Linie 179",
         "type": "scatter",
         "x": [
          "2021-03-19T23:00:00+00:00",
          "2021-03-20T19:00:00+00:00"
         ],
         "y": [
          179,
          179
         ]
        },
        {
         "mode": "lines+markers",
         "name": "Linie 180",
         "type": "scatter",
         "x": [
          "2021-03-19T23:00:00+00:00",
          "2021-03-20T17:00:00+00:00"
         ],
         "y": [
          180,
          180
         ]
        },
        {
         "mode": "lines+markers",
         "name": "Linie 181",
         "type": "scatter",
         "x": [
          "2021-02-15T09:00:00+00:00",
          "2021-02-15T10:00:00+00:00"
         ],
         "y": [
          181,
          181
         ]
        },
        {
         "mode": "lines+markers",
         "name": "Linie 182",
         "type": "scatter",
         "x": [
          "2021-02-17T12:00:00+00:00",
          "2021-02-17T13:00:00+00:00"
         ],
         "y": [
          182,
          182
         ]
        },
        {
         "mode": "lines+markers",
         "name": "Linie 183",
         "type": "scatter",
         "x": [
          "2021-02-17T18:00:00+00:00",
          "2021-02-17T19:00:00+00:00"
         ],
         "y": [
          183,
          183
         ]
        },
        {
         "mode": "lines+markers",
         "name": "Linie 184",
         "type": "scatter",
         "x": [
          "2021-02-19T09:00:00+00:00",
          "2021-02-19T13:00:00+00:00"
         ],
         "y": [
          184,
          184
         ]
        },
        {
         "mode": "lines+markers",
         "name": "Linie 185",
         "type": "scatter",
         "x": [
          "2021-02-21T11:00:00+00:00",
          "2021-02-21T12:00:00+00:00"
         ],
         "y": [
          185,
          185
         ]
        },
        {
         "mode": "lines+markers",
         "name": "Linie 186",
         "type": "scatter",
         "x": [
          "2021-01-19T10:00:00+00:00",
          "2021-01-19T14:30:00+00:00"
         ],
         "y": [
          186,
          186
         ]
        },
        {
         "mode": "lines+markers",
         "name": "Linie 187",
         "type": "scatter",
         "x": [
          "2021-09-08T20:00:00+00:00",
          "2021-09-22T20:00:00+00:00"
         ],
         "y": [
          187,
          187
         ]
        },
        {
         "mode": "lines+markers",
         "name": "Linie 188",
         "type": "scatter",
         "x": [
          "2021-09-08T20:00:00+00:00",
          "2021-09-17T19:15:00+00:00"
         ],
         "y": [
          188,
          188
         ]
        },
        {
         "mode": "lines+markers",
         "name": "Linie 189",
         "type": "scatter",
         "x": [
          "2021-08-31T08:00:00+00:00",
          "2021-08-31T17:00:00+00:00"
         ],
         "y": [
          189,
          189
         ]
        },
        {
         "mode": "lines+markers",
         "name": "Linie 190",
         "type": "scatter",
         "x": [
          "2021-08-31T07:00:00+00:00",
          "2021-08-31T13:00:00+00:00"
         ],
         "y": [
          190,
          190
         ]
        },
        {
         "mode": "lines+markers",
         "name": "Linie 191",
         "type": "scatter",
         "x": [
          "2021-08-31T08:00:00+00:00",
          "2021-08-31T13:00:00+00:00"
         ],
         "y": [
          191,
          191
         ]
        },
        {
         "mode": "lines+markers",
         "name": "Linie 192",
         "type": "scatter",
         "x": [
          "2021-08-31T08:00:00+00:00",
          "2021-08-31T15:00:00+00:00"
         ],
         "y": [
          192,
          192
         ]
        },
        {
         "mode": "lines+markers",
         "name": "Linie 193",
         "type": "scatter",
         "x": [
          "2021-06-08T08:00:00+00:00",
          "2021-06-08T12:00:00+00:00"
         ],
         "y": [
          193,
          193
         ]
        },
        {
         "mode": "lines+markers",
         "name": "Linie 194",
         "type": "scatter",
         "x": [
          "2021-03-19T23:00:00+00:00",
          "2021-03-20T10:00:00+00:00"
         ],
         "y": [
          194,
          194
         ]
        },
        {
         "mode": "lines+markers",
         "name": "Linie 195",
         "type": "scatter",
         "x": [
          "2021-03-19T23:00:00+00:00",
          "2021-03-20T14:00:00+00:00"
         ],
         "y": [
          195,
          195
         ]
        },
        {
         "mode": "lines+markers",
         "name": "Linie 196",
         "type": "scatter",
         "x": [
          "2021-03-19T23:00:00+00:00",
          "2021-03-20T17:00:00+00:00"
         ],
         "y": [
          196,
          196
         ]
        },
        {
         "mode": "lines+markers",
         "name": "Linie 197",
         "type": "scatter",
         "x": [
          "2021-03-19T23:00:00+00:00",
          "2021-03-20T20:00:00+00:00"
         ],
         "y": [
          197,
          197
         ]
        },
        {
         "mode": "lines+markers",
         "name": "Linie 198",
         "type": "scatter",
         "x": [
          "2021-03-19T23:00:00+00:00",
          "2021-03-20T19:00:00+00:00"
         ],
         "y": [
          198,
          198
         ]
        },
        {
         "mode": "lines+markers",
         "name": "Linie 199",
         "type": "scatter",
         "x": [
          "2021-01-21T09:00:00+00:00",
          "2021-01-21T14:00:00+00:00"
         ],
         "y": [
          199,
          199
         ]
        },
        {
         "mode": "lines+markers",
         "name": "Linie 200",
         "type": "scatter",
         "x": [
          "2021-01-21T09:00:00+00:00",
          "2021-01-21T16:00:00+00:00"
         ],
         "y": [
          200,
          200
         ]
        },
        {
         "mode": "lines+markers",
         "name": "Linie 201",
         "type": "scatter",
         "x": [
          "2021-01-19T11:00:00+00:00",
          "2021-01-19T14:00:00+00:00"
         ],
         "y": [
          201,
          201
         ]
        },
        {
         "mode": "lines+markers",
         "name": "Linie 202",
         "type": "scatter",
         "x": [
          "2021-01-19T11:00:00+00:00",
          "2021-01-19T15:00:00+00:00"
         ],
         "y": [
          202,
          202
         ]
        },
        {
         "mode": "lines+markers",
         "name": "Linie 203",
         "type": "scatter",
         "x": [
          "2021-01-22T09:00:00+00:00",
          "2021-01-22T12:00:00+00:00"
         ],
         "y": [
          203,
          203
         ]
        },
        {
         "mode": "lines+markers",
         "name": "Linie 204",
         "type": "scatter",
         "x": [
          "2021-01-22T09:00:00+00:00",
          "2021-01-22T13:00:00+00:00"
         ],
         "y": [
          204,
          204
         ]
        },
        {
         "mode": "lines+markers",
         "name": "Linie 205",
         "type": "scatter",
         "x": [
          "2021-09-08T20:00:00+00:00",
          "2021-09-22T20:00:00+00:00"
         ],
         "y": [
          205,
          205
         ]
        },
        {
         "mode": "lines+markers",
         "name": "Linie 206",
         "type": "scatter",
         "x": [
          "2021-09-08T20:00:00+00:00",
          "2021-09-17T20:16:00+00:00"
         ],
         "y": [
          206,
          206
         ]
        },
        {
         "mode": "lines+markers",
         "name": "Linie 207",
         "type": "scatter",
         "x": [
          "2021-09-01T07:00:00+00:00",
          "2021-09-01T15:00:00+00:00"
         ],
         "y": [
          207,
          207
         ]
        },
        {
         "mode": "lines+markers",
         "name": "Linie 208",
         "type": "scatter",
         "x": [
          "2021-06-08T08:00:00+00:00",
          "2021-06-08T12:00:00+00:00"
         ],
         "y": [
          208,
          208
         ]
        },
        {
         "mode": "lines+markers",
         "name": "Linie 209",
         "type": "scatter",
         "x": [
          "2021-05-21T06:00:00+00:00",
          "2021-05-21T18:00:00+00:00"
         ],
         "y": [
          209,
          209
         ]
        },
        {
         "mode": "lines+markers",
         "name": "Linie 210",
         "type": "scatter",
         "x": [
          "2021-05-21T06:00:00+00:00",
          "2021-05-21T15:00:00+00:00"
         ],
         "y": [
          210,
          210
         ]
        },
        {
         "mode": "lines+markers",
         "name": "Linie 211",
         "type": "scatter",
         "x": [
          "2021-03-19T23:00:00+00:00",
          "2021-03-20T18:00:00+00:00"
         ],
         "y": [
          211,
          211
         ]
        },
        {
         "mode": "lines+markers",
         "name": "Linie 212",
         "type": "scatter",
         "x": [
          "2021-03-19T23:00:00+00:00",
          "2021-03-20T17:00:00+00:00"
         ],
         "y": [
          212,
          212
         ]
        },
        {
         "mode": "lines+markers",
         "name": "Linie 213",
         "type": "scatter",
         "x": [
          "2021-03-19T23:00:00+00:00",
          "2021-03-20T14:00:00+00:00"
         ],
         "y": [
          213,
          213
         ]
        },
        {
         "mode": "lines+markers",
         "name": "Linie 214",
         "type": "scatter",
         "x": [
          "2021-03-19T23:00:00+00:00",
          "2021-03-20T10:00:00+00:00"
         ],
         "y": [
          214,
          214
         ]
        },
        {
         "mode": "lines+markers",
         "name": "Linie 215",
         "type": "scatter",
         "x": [
          "2021-02-15T09:00:00+00:00",
          "2021-02-15T10:00:00+00:00"
         ],
         "y": [
          215,
          215
         ]
        },
        {
         "mode": "lines+markers",
         "name": "Linie 216",
         "type": "scatter",
         "x": [
          "2021-02-19T09:00:00+00:00",
          "2021-02-19T13:00:00+00:00"
         ],
         "y": [
          216,
          216
         ]
        },
        {
         "mode": "lines+markers",
         "name": "Linie 217",
         "type": "scatter",
         "x": [
          "2021-01-24T07:00:00+00:00",
          "2021-02-04T19:00:00+00:00"
         ],
         "y": [
          217,
          217
         ]
        },
        {
         "mode": "lines+markers",
         "name": "Linie 218",
         "type": "scatter",
         "x": [
          "2021-01-24T07:00:00+00:00",
          "2021-02-05T20:00:00+00:00"
         ],
         "y": [
          218,
          218
         ]
        },
        {
         "mode": "lines+markers",
         "name": "Linie 219",
         "type": "scatter",
         "x": [
          "2021-02-17T18:00:00+00:00",
          "2021-02-17T19:00:00+00:00"
         ],
         "y": [
          219,
          219
         ]
        },
        {
         "mode": "lines+markers",
         "name": "Linie 220",
         "type": "scatter",
         "x": [
          "2021-02-17T12:00:00+00:00",
          "2021-02-17T13:00:00+00:00"
         ],
         "y": [
          220,
          220
         ]
        },
        {
         "mode": "lines+markers",
         "name": "Linie 221",
         "type": "scatter",
         "x": [
          "2021-01-24T07:00:00+00:00",
          "2021-02-05T10:00:00+00:00"
         ],
         "y": [
          221,
          221
         ]
        },
        {
         "mode": "lines+markers",
         "name": "Linie 222",
         "type": "scatter",
         "x": [
          "2021-02-21T11:00:00+00:00",
          "2021-02-21T12:00:00+00:00"
         ],
         "y": [
          222,
          222
         ]
        },
        {
         "mode": "lines+markers",
         "name": "Linie 223",
         "type": "scatter",
         "x": [
          "2021-01-24T07:00:00+00:00",
          "2021-02-05T07:00:00+00:00"
         ],
         "y": [
          223,
          223
         ]
        },
        {
         "mode": "lines+markers",
         "name": "Linie 224",
         "type": "scatter",
         "x": [
          "2021-02-08T10:00:00+00:00",
          "2021-02-08T11:30:00+00:00"
         ],
         "y": [
          224,
          224
         ]
        },
        {
         "mode": "lines+markers",
         "name": "Linie 225",
         "type": "scatter",
         "x": [
          "2021-02-08T10:00:00+00:00",
          "2021-02-08T12:30:00+00:00"
         ],
         "y": [
          225,
          225
         ]
        },
        {
         "mode": "lines+markers",
         "name": "Linie 226",
         "type": "scatter",
         "x": [
          "2021-01-24T07:00:00+00:00",
          "2021-02-05T22:00:00+00:00"
         ],
         "y": [
          226,
          226
         ]
        },
        {
         "mode": "lines+markers",
         "name": "Linie 227",
         "type": "scatter",
         "x": [
          "2021-01-11T07:00:00+00:00",
          "2021-01-15T16:00:00+00:00"
         ],
         "y": [
          227,
          227
         ]
        },
        {
         "mode": "lines+markers",
         "name": "Linie 228",
         "type": "scatter",
         "x": [
          "2021-01-27T07:00:00+00:00",
          "2021-01-29T07:00:00+00:00"
         ],
         "y": [
          228,
          228
         ]
        },
        {
         "mode": "lines+markers",
         "name": "Linie 229",
         "type": "scatter",
         "x": [
          "2021-01-07T07:00:00+00:00",
          "2021-01-08T12:00:00+00:00"
         ],
         "y": [
          229,
          229
         ]
        },
        {
         "mode": "lines+markers",
         "name": "Linie 230",
         "type": "scatter",
         "x": [
          "2021-01-24T07:00:00+00:00",
          "2021-02-02T18:00:00+00:00"
         ],
         "y": [
          230,
          230
         ]
        },
        {
         "mode": "lines+markers",
         "name": "Linie 231",
         "type": "scatter",
         "x": [
          "2021-01-21T04:00:00+00:00",
          "2021-01-23T18:30:00+00:00"
         ],
         "y": [
          231,
          231
         ]
        },
        {
         "mode": "lines+markers",
         "name": "Linie 232",
         "type": "scatter",
         "x": [
          "2021-01-24T07:00:00+00:00",
          "2021-01-26T22:00:00+00:00"
         ],
         "y": [
          232,
          232
         ]
        },
        {
         "mode": "lines+markers",
         "name": "Linie 233",
         "type": "scatter",
         "x": [
          "2021-01-21T04:00:00+00:00",
          "2021-01-24T04:00:00+00:00"
         ],
         "y": [
          233,
          233
         ]
        },
        {
         "mode": "lines+markers",
         "name": "Linie 234",
         "type": "scatter",
         "x": [
          "2021-01-15T07:00:00+00:00",
          "2021-01-20T16:00:00+00:00"
         ],
         "y": [
          234,
          234
         ]
        },
        {
         "mode": "lines+markers",
         "name": "Linie 235",
         "type": "scatter",
         "x": [
          "2021-01-02T07:00:00+00:00",
          "2021-01-03T23:00:00+00:00"
         ],
         "y": [
          235,
          235
         ]
        },
        {
         "mode": "lines+markers",
         "name": "Linie 236",
         "type": "scatter",
         "x": [
          "2021-01-07T07:00:00+00:00",
          "2021-01-14T18:00:00+00:00"
         ],
         "y": [
          236,
          236
         ]
        },
        {
         "mode": "lines+markers",
         "name": "Linie 237",
         "type": "scatter",
         "x": [
          "2021-01-15T07:00:00+00:00",
          "2021-01-20T16:00:00+00:00"
         ],
         "y": [
          237,
          237
         ]
        },
        {
         "mode": "lines+markers",
         "name": "Linie 238",
         "type": "scatter",
         "x": [
          "2021-01-15T07:00:00+00:00",
          "2021-01-20T08:00:00+00:00"
         ],
         "y": [
          238,
          238
         ]
        },
        {
         "mode": "lines+markers",
         "name": "Linie 239",
         "type": "scatter",
         "x": [
          "2021-01-24T07:00:00+00:00",
          "2021-01-25T19:00:00+00:00"
         ],
         "y": [
          239,
          239
         ]
        },
        {
         "mode": "lines+markers",
         "name": "Linie 240",
         "type": "scatter",
         "x": [
          "2021-01-12T07:00:00+00:00",
          "2021-01-15T16:00:00+00:00"
         ],
         "y": [
          240,
          240
         ]
        },
        {
         "mode": "lines+markers",
         "name": "Linie 241",
         "type": "scatter",
         "x": [
          "2021-01-15T07:00:00+00:00",
          "2021-01-20T16:00:00+00:00"
         ],
         "y": [
          241,
          241
         ]
        },
        {
         "mode": "lines+markers",
         "name": "Linie 242",
         "type": "scatter",
         "x": [
          "2021-01-07T07:00:00+00:00",
          "2021-01-14T18:00:00+00:00"
         ],
         "y": [
          242,
          242
         ]
        },
        {
         "mode": "lines+markers",
         "name": "Linie 243",
         "type": "scatter",
         "x": [
          "2021-01-12T07:00:00+00:00",
          "2021-01-15T16:00:00+00:00"
         ],
         "y": [
          243,
          243
         ]
        },
        {
         "mode": "lines+markers",
         "name": "Linie 244",
         "type": "scatter",
         "x": [
          "2021-01-07T07:00:00+00:00",
          "2021-01-11T04:00:00+00:00"
         ],
         "y": [
          244,
          244
         ]
        },
        {
         "mode": "lines+markers",
         "name": "Linie 245",
         "type": "scatter",
         "x": [
          "2021-01-02T07:00:00+00:00",
          "2021-01-03T07:00:00+00:00"
         ],
         "y": [
          245,
          245
         ]
        },
        {
         "mode": "lines+markers",
         "name": "Linie 246",
         "type": "scatter",
         "x": [
          "2021-01-27T07:00:00+00:00",
          "2021-01-29T07:00:00+00:00"
         ],
         "y": [
          246,
          246
         ]
        },
        {
         "mode": "lines+markers",
         "name": "Linie 247",
         "type": "scatter",
         "x": [
          "2021-01-07T07:00:00+00:00",
          "2021-01-11T06:00:00+00:00"
         ],
         "y": [
          247,
          247
         ]
        },
        {
         "mode": "lines+markers",
         "name": "Linie 248",
         "type": "scatter",
         "x": [
          "2021-01-12T07:00:00+00:00",
          "2021-01-15T16:00:00+00:00"
         ],
         "y": [
          248,
          248
         ]
        },
        {
         "mode": "lines+markers",
         "name": "Linie 249",
         "type": "scatter",
         "x": [
          "2021-01-02T07:00:00+00:00",
          "2021-01-03T11:00:00+00:00"
         ],
         "y": [
          249,
          249
         ]
        },
        {
         "mode": "lines+markers",
         "name": "Linie 250",
         "type": "scatter",
         "x": [
          "2021-01-24T07:00:00+00:00",
          "2021-01-29T07:00:00+00:00"
         ],
         "y": [
          250,
          250
         ]
        },
        {
         "mode": "lines+markers",
         "name": "Linie 251",
         "type": "scatter",
         "x": [
          "2021-01-07T07:00:00+00:00",
          "2021-01-15T16:00:00+00:00"
         ],
         "y": [
          251,
          251
         ]
        },
        {
         "mode": "lines+markers",
         "name": "Linie 252",
         "type": "scatter",
         "x": [
          "2021-01-07T07:00:00+00:00",
          "2021-01-09T12:00:00+00:00"
         ],
         "y": [
          252,
          252
         ]
        },
        {
         "mode": "lines+markers",
         "name": "Linie 253",
         "type": "scatter",
         "x": [
          "2021-01-24T07:00:00+00:00",
          "2021-01-31T18:00:00+00:00"
         ],
         "y": [
          253,
          253
         ]
        },
        {
         "mode": "lines+markers",
         "name": "Linie 254",
         "type": "scatter",
         "x": [
          "2021-01-06T08:00:00+00:00",
          "2021-01-06T12:30:00+00:00"
         ],
         "y": [
          254,
          254
         ]
        },
        {
         "mode": "lines+markers",
         "name": "Linie 255",
         "type": "scatter",
         "x": [
          "2021-01-27T07:00:00+00:00",
          "2021-01-28T18:00:00+00:00"
         ],
         "y": [
          255,
          255
         ]
        },
        {
         "mode": "lines+markers",
         "name": "Linie 256",
         "type": "scatter",
         "x": [
          "2021-01-24T07:00:00+00:00",
          "2021-02-03T19:00:00+00:00"
         ],
         "y": [
          256,
          256
         ]
        },
        {
         "mode": "lines+markers",
         "name": "Linie 257",
         "type": "scatter",
         "x": [
          "2021-01-24T07:00:00+00:00",
          "2021-01-30T18:00:00+00:00"
         ],
         "y": [
          257,
          257
         ]
        },
        {
         "mode": "lines+markers",
         "name": "Linie 258",
         "type": "scatter",
         "x": [
          "2021-01-21T04:00:00+00:00",
          "2021-01-25T19:00:00+00:00"
         ],
         "y": [
          258,
          258
         ]
        },
        {
         "mode": "lines+markers",
         "name": "Linie 259",
         "type": "scatter",
         "x": [
          "2021-01-24T07:00:00+00:00",
          "2021-01-26T18:00:00+00:00"
         ],
         "y": [
          259,
          259
         ]
        },
        {
         "mode": "lines+markers",
         "name": "Linie 260",
         "type": "scatter",
         "x": [
          "2021-01-15T07:00:00+00:00",
          "2021-01-18T16:00:00+00:00"
         ],
         "y": [
          260,
          260
         ]
        },
        {
         "mode": "lines+markers",
         "name": "Linie 261",
         "type": "scatter",
         "x": [
          "2021-01-07T07:00:00+00:00",
          "2021-01-07T15:00:00+00:00"
         ],
         "y": [
          261,
          261
         ]
        },
        {
         "mode": "lines+markers",
         "name": "Linie 262",
         "type": "scatter",
         "x": [
          "2021-01-07T07:00:00+00:00",
          "2021-01-15T16:00:00+00:00"
         ],
         "y": [
          262,
          262
         ]
        },
        {
         "mode": "lines+markers",
         "name": "Linie 263",
         "type": "scatter",
         "x": [
          "2021-01-21T04:00:00+00:00",
          "2021-01-21T08:00:00+00:00"
         ],
         "y": [
          263,
          263
         ]
        },
        {
         "mode": "lines+markers",
         "name": "Linie 264",
         "type": "scatter",
         "x": [
          "2022-09-21T07:00:00+00:00",
          "2022-09-21T13:00:00+00:00"
         ],
         "y": [
          264,
          264
         ]
        },
        {
         "mode": "lines+markers",
         "name": "Linie 265",
         "type": "scatter",
         "x": [
          "2022-06-16T08:00:00+00:00",
          "2022-06-16T13:36:00+00:00"
         ],
         "y": [
          265,
          265
         ]
        },
        {
         "mode": "lines+markers",
         "name": "Linie 266",
         "type": "scatter",
         "x": [
          "2022-06-25T07:00:00+00:00",
          "2022-06-30T17:00:00+00:00"
         ],
         "y": [
          266,
          266
         ]
        },
        {
         "mode": "lines+markers",
         "name": "Linie 267",
         "type": "scatter",
         "x": [
          "2022-06-16T08:00:00+00:00",
          "2022-06-17T16:00:00+00:00"
         ],
         "y": [
          267,
          267
         ]
        },
        {
         "mode": "lines+markers",
         "name": "Linie 268",
         "type": "scatter",
         "x": [
          "2022-06-25T06:00:00+00:00",
          "2022-06-30T17:00:00+00:00"
         ],
         "y": [
          268,
          268
         ]
        },
        {
         "mode": "lines+markers",
         "name": "Linie 269",
         "type": "scatter",
         "x": [
          "2022-06-25T06:00:00+00:00",
          "2022-06-28T20:00:00+00:00"
         ],
         "y": [
          269,
          269
         ]
        },
        {
         "mode": "lines+markers",
         "name": "Linie 270",
         "type": "scatter",
         "x": [
          "2022-01-25T07:00:00+00:00",
          "2022-01-25T18:00:00+00:00"
         ],
         "y": [
          270,
          270
         ]
        },
        {
         "mode": "lines+markers",
         "name": "Linie 271",
         "type": "scatter",
         "x": [
          "2022-09-21T07:00:00+00:00",
          "2022-09-21T13:00:00+00:00"
         ],
         "y": [
          271,
          271
         ]
        },
        {
         "mode": "lines+markers",
         "name": "Linie 272",
         "type": "scatter",
         "x": [
          "2022-07-22T07:19:00+00:00",
          "2022-07-22T08:43:00+00:00"
         ],
         "y": [
          272,
          272
         ]
        },
        {
         "mode": "lines+markers",
         "name": "Linie 273",
         "type": "scatter",
         "x": [
          "2022-06-16T08:00:00+00:00",
          "2022-07-10T07:00:00+00:00"
         ],
         "y": [
          273,
          273
         ]
        },
        {
         "mode": "lines+markers",
         "name": "Linie 274",
         "type": "scatter",
         "x": [
          "2022-06-16T08:00:00+00:00",
          "2022-06-28T20:00:00+00:00"
         ],
         "y": [
          274,
          274
         ]
        },
        {
         "mode": "lines+markers",
         "name": "Linie 275",
         "type": "scatter",
         "x": [
          "2022-05-11T08:30:00+00:00",
          "2022-05-11T10:30:00+00:00"
         ],
         "y": [
          275,
          275
         ]
        },
        {
         "mode": "lines+markers",
         "name": "Linie 276",
         "type": "scatter",
         "x": [
          "2022-05-11T08:30:00+00:00",
          "2022-05-11T10:30:00+00:00"
         ],
         "y": [
          276,
          276
         ]
        },
        {
         "mode": "lines+markers",
         "name": "Linie 277",
         "type": "scatter",
         "x": [
          "2022-09-21T07:00:00+00:00",
          "2022-09-21T13:00:00+00:00"
         ],
         "y": [
          277,
          277
         ]
        },
        {
         "mode": "lines+markers",
         "name": "Linie 278",
         "type": "scatter",
         "x": [
          "2022-01-25T07:00:00+00:00",
          "2022-01-25T18:00:00+00:00"
         ],
         "y": [
          278,
          278
         ]
        },
        {
         "mode": "lines+markers",
         "name": "Linie 279",
         "type": "scatter",
         "x": [
          "2023-07-18T08:00:00+00:00",
          "2023-07-18T14:00:00+00:00"
         ],
         "y": [
          279,
          279
         ]
        },
        {
         "mode": "lines+markers",
         "name": "Linie 280",
         "type": "scatter",
         "x": [
          "2023-07-18T08:00:00+00:00",
          "2023-07-18T16:00:00+00:00"
         ],
         "y": [
          280,
          280
         ]
        },
        {
         "mode": "lines+markers",
         "name": "Linie 281",
         "type": "scatter",
         "x": [
          "2023-07-26T06:00:00+00:00",
          "2023-07-26T14:00:00+00:00"
         ],
         "y": [
          281,
          281
         ]
        },
        {
         "mode": "lines+markers",
         "name": "Linie 282",
         "type": "scatter",
         "x": [
          "2023-07-26T06:00:00+00:00",
          "2023-07-26T15:30:00+00:00"
         ],
         "y": [
          282,
          282
         ]
        },
        {
         "mode": "lines+markers",
         "name": "Linie 283",
         "type": "scatter",
         "x": [
          "2023-07-26T06:00:00+00:00",
          "2023-07-26T17:00:00+00:00"
         ],
         "y": [
          283,
          283
         ]
        },
        {
         "mode": "lines+markers",
         "name": "Linie 284",
         "type": "scatter",
         "x": [
          "2023-02-07T12:00:00+00:00",
          "2023-02-07T14:00:00+00:00"
         ],
         "y": [
          284,
          284
         ]
        },
        {
         "mode": "lines+markers",
         "name": "Linie 285",
         "type": "scatter",
         "x": [
          "2023-02-07T12:00:00+00:00",
          "2023-02-07T13:00:00+00:00"
         ],
         "y": [
          285,
          285
         ]
        },
        {
         "mode": "lines+markers",
         "name": "Linie 286",
         "type": "scatter",
         "x": [
          "2023-04-24T06:19:00+00:00",
          "2023-04-24T10:00:00+00:00"
         ],
         "y": [
          286,
          286
         ]
        },
        {
         "mode": "lines+markers",
         "name": "Linie 287",
         "type": "scatter",
         "x": [
          "2023-04-24T06:19:00+00:00",
          "2023-04-24T09:00:00+00:00"
         ],
         "y": [
          287,
          287
         ]
        },
        {
         "mode": "lines+markers",
         "name": "Linie 288",
         "type": "scatter",
         "x": [
          "2023-04-24T06:19:00+00:00",
          "2023-04-26T10:00:00+00:00"
         ],
         "y": [
          288,
          288
         ]
        },
        {
         "mode": "lines+markers",
         "name": "Linie 289",
         "type": "scatter",
         "x": [
          "2023-04-24T06:19:00+00:00",
          "2023-04-25T10:00:00+00:00"
         ],
         "y": [
          289,
          289
         ]
        },
        {
         "mode": "lines+markers",
         "name": "Linie 290",
         "type": "scatter",
         "x": [
          "2023-07-18T08:00:00+00:00",
          "2023-07-18T14:00:00+00:00"
         ],
         "y": [
          290,
          290
         ]
        },
        {
         "mode": "lines+markers",
         "name": "Linie 291",
         "type": "scatter",
         "x": [
          "2023-07-18T08:00:00+00:00",
          "2023-07-18T16:00:00+00:00"
         ],
         "y": [
          291,
          291
         ]
        },
        {
         "mode": "lines+markers",
         "name": "Linie 292",
         "type": "scatter",
         "x": [
          "2023-07-28T06:00:00+00:00",
          "2023-07-28T14:00:00+00:00"
         ],
         "y": [
          292,
          292
         ]
        },
        {
         "mode": "lines+markers",
         "name": "Linie 293",
         "type": "scatter",
         "x": [
          "2023-07-28T07:00:00+00:00",
          "2023-07-28T16:00:00+00:00"
         ],
         "y": [
          293,
          293
         ]
        },
        {
         "mode": "lines+markers",
         "name": "Linie 294",
         "type": "scatter",
         "x": [
          "2023-02-07T12:00:00+00:00",
          "2023-02-07T13:00:00+00:00"
         ],
         "y": [
          294,
          294
         ]
        },
        {
         "mode": "lines+markers",
         "name": "Linie 295",
         "type": "scatter",
         "x": [
          "2023-02-07T12:00:00+00:00",
          "2023-02-07T14:00:00+00:00"
         ],
         "y": [
          295,
          295
         ]
        },
        {
         "mode": "lines+markers",
         "name": "Linie 296",
         "type": "scatter",
         "x": [
          "2023-04-24T06:19:00+00:00",
          "2023-04-24T09:00:00+00:00"
         ],
         "y": [
          296,
          296
         ]
        },
        {
         "mode": "lines+markers",
         "name": "Linie 297",
         "type": "scatter",
         "x": [
          "2023-04-24T06:19:00+00:00",
          "2023-04-24T10:00:00+00:00"
         ],
         "y": [
          297,
          297
         ]
        },
        {
         "mode": "lines+markers",
         "name": "Linie 298",
         "type": "scatter",
         "x": [
          "2023-04-24T06:19:00+00:00",
          "2023-04-25T10:00:00+00:00"
         ],
         "y": [
          298,
          298
         ]
        },
        {
         "mode": "lines+markers",
         "name": "Linie 299",
         "type": "scatter",
         "x": [
          "2023-04-24T06:19:00+00:00",
          "2023-04-26T10:00:00+00:00"
         ],
         "y": [
          299,
          299
         ]
        },
        {
         "mode": "lines+markers",
         "name": "Linie 300",
         "type": "scatter",
         "x": [
          "2023-07-18T08:00:00+00:00",
          "2023-07-18T14:00:00+00:00"
         ],
         "y": [
          300,
          300
         ]
        },
        {
         "mode": "lines+markers",
         "name": "Linie 301",
         "type": "scatter",
         "x": [
          "2023-07-18T08:00:00+00:00",
          "2023-07-18T16:00:00+00:00"
         ],
         "y": [
          301,
          301
         ]
        },
        {
         "mode": "lines+markers",
         "name": "Linie 302",
         "type": "scatter",
         "x": [
          "2023-07-24T06:00:00+00:00",
          "2023-07-24T14:00:00+00:00"
         ],
         "y": [
          302,
          302
         ]
        },
        {
         "mode": "lines+markers",
         "name": "Linie 303",
         "type": "scatter",
         "x": [
          "2023-07-24T06:00:00+00:00",
          "2023-07-24T08:00:00+00:00"
         ],
         "y": [
          303,
          303
         ]
        },
        {
         "mode": "lines+markers",
         "name": "Linie 304",
         "type": "scatter",
         "x": [
          "2023-07-25T06:00:00+00:00",
          "2023-07-25T14:00:00+00:00"
         ],
         "y": [
          304,
          304
         ]
        },
        {
         "mode": "lines+markers",
         "name": "Linie 305",
         "type": "scatter",
         "x": [
          "2023-07-25T06:00:00+00:00",
          "2023-07-25T16:00:00+00:00"
         ],
         "y": [
          305,
          305
         ]
        },
        {
         "mode": "lines+markers",
         "name": "Linie 306",
         "type": "scatter",
         "x": [
          "2023-07-25T06:00:00+00:00",
          "2023-07-25T18:00:00+00:00"
         ],
         "y": [
          306,
          306
         ]
        },
        {
         "mode": "lines+markers",
         "name": "Linie 307",
         "type": "scatter",
         "x": [
          "2023-07-25T06:00:00+00:00",
          "2023-07-25T19:00:00+00:00"
         ],
         "y": [
          307,
          307
         ]
        },
        {
         "mode": "lines+markers",
         "name": "Linie 308",
         "type": "scatter",
         "x": [
          "2023-02-07T12:00:00+00:00",
          "2023-02-07T14:00:00+00:00"
         ],
         "y": [
          308,
          308
         ]
        },
        {
         "mode": "lines+markers",
         "name": "Linie 309",
         "type": "scatter",
         "x": [
          "2023-02-07T12:00:00+00:00",
          "2023-02-07T13:00:00+00:00"
         ],
         "y": [
          309,
          309
         ]
        },
        {
         "mode": "lines+markers",
         "name": "Linie 310",
         "type": "scatter",
         "x": [
          "2023-04-24T06:19:00+00:00",
          "2023-04-25T10:00:00+00:00"
         ],
         "y": [
          310,
          310
         ]
        },
        {
         "mode": "lines+markers",
         "name": "Linie 311",
         "type": "scatter",
         "x": [
          "2023-04-24T06:19:00+00:00",
          "2023-04-26T10:00:00+00:00"
         ],
         "y": [
          311,
          311
         ]
        },
        {
         "mode": "lines+markers",
         "name": "Linie 312",
         "type": "scatter",
         "x": [
          "2023-04-24T06:19:00+00:00",
          "2023-04-24T09:00:00+00:00"
         ],
         "y": [
          312,
          312
         ]
        },
        {
         "mode": "lines+markers",
         "name": "Linie 313",
         "type": "scatter",
         "x": [
          "2023-04-24T06:19:00+00:00",
          "2023-04-24T10:00:00+00:00"
         ],
         "y": [
          313,
          313
         ]
        },
        {
         "mode": "lines+markers",
         "name": "Linie 314",
         "type": "scatter",
         "x": [
          "2024-01-19T05:29:00+00:00",
          "2024-01-19T16:00:00+00:00"
         ],
         "y": [
          314,
          314
         ]
        },
        {
         "mode": "lines+markers",
         "name": "Linie 315",
         "type": "scatter",
         "x": [
          "2024-01-19T05:29:00+00:00",
          "2024-01-20T16:00:00+00:00"
         ],
         "y": [
          315,
          315
         ]
        },
        {
         "mode": "lines+markers",
         "name": "Linie 316",
         "type": "scatter",
         "x": [
          "2024-01-19T05:29:00+00:00",
          "2024-01-20T16:00:00+00:00"
         ],
         "y": [
          316,
          316
         ]
        },
        {
         "mode": "lines+markers",
         "name": "Linie 317",
         "type": "scatter",
         "x": [
          "2024-01-19T05:29:00+00:00",
          "2024-01-27T16:00:00+00:00"
         ],
         "y": [
          317,
          317
         ]
        },
        {
         "mode": "lines+markers",
         "name": "Linie 318",
         "type": "scatter",
         "x": [
          "2024-01-19T05:29:00+00:00",
          "2024-01-27T16:00:00+00:00"
         ],
         "y": [
          318,
          318
         ]
        },
        {
         "mode": "lines+markers",
         "name": "Linie 319",
         "type": "scatter",
         "x": [
          "2024-01-19T05:29:00+00:00",
          "2024-01-31T16:00:00+00:00"
         ],
         "y": [
          319,
          319
         ]
        },
        {
         "mode": "lines+markers",
         "name": "Linie 320",
         "type": "scatter",
         "x": [
          "2024-01-19T05:29:00+00:00",
          "2024-02-17T18:00:00+00:00"
         ],
         "y": [
          320,
          320
         ]
        },
        {
         "mode": "lines+markers",
         "name": "Linie 321",
         "type": "scatter",
         "x": [
          "2024-01-19T05:29:00+00:00",
          "2024-02-25T12:00:00+00:00"
         ],
         "y": [
          321,
          321
         ]
        },
        {
         "mode": "lines+markers",
         "name": "Linie 322",
         "type": "scatter",
         "x": [
          "2024-01-19T05:29:00+00:00",
          "2024-02-23T20:00:00+00:00"
         ],
         "y": [
          322,
          322
         ]
        },
        {
         "mode": "lines+markers",
         "name": "Linie 323",
         "type": "scatter",
         "x": [
          "2024-01-19T05:29:00+00:00",
          "2024-02-24T00:00:00+00:00"
         ],
         "y": [
          323,
          323
         ]
        },
        {
         "mode": "lines+markers",
         "name": "Linie 324",
         "type": "scatter",
         "x": [
          "2024-01-19T05:29:00+00:00",
          "2024-02-24T17:00:00+00:00"
         ],
         "y": [
          324,
          324
         ]
        },
        {
         "mode": "lines+markers",
         "name": "Linie 325",
         "type": "scatter",
         "x": [
          "2024-01-19T05:29:00+00:00",
          "2024-02-24T13:00:00+00:00"
         ],
         "y": [
          325,
          325
         ]
        },
        {
         "mode": "lines+markers",
         "name": "Linie 326",
         "type": "scatter",
         "x": [
          "2024-02-24T13:00:00+00:00",
          "2024-02-25T12:00:00+00:00"
         ],
         "y": [
          326,
          326
         ]
        },
        {
         "mode": "lines+markers",
         "name": "Linie 327",
         "type": "scatter",
         "x": [
          "2024-02-24T13:00:00+00:00",
          "2024-02-26T08:00:00+00:00"
         ],
         "y": [
          327,
          327
         ]
        },
        {
         "mode": "lines+markers",
         "name": "Linie 328",
         "type": "scatter",
         "x": [
          "2024-02-24T13:00:00+00:00",
          "2024-02-25T22:00:00+00:00"
         ],
         "y": [
          328,
          328
         ]
        },
        {
         "mode": "lines+markers",
         "name": "Linie 329",
         "type": "scatter",
         "x": [
          "2024-02-25T22:00:00+00:00",
          "2024-02-26T13:00:00+00:00"
         ],
         "y": [
          329,
          329
         ]
        },
        {
         "mode": "lines+markers",
         "name": "Linie 330",
         "type": "scatter",
         "x": [
          "2024-02-25T22:00:00+00:00",
          "2024-02-26T13:00:00+00:00"
         ],
         "y": [
          330,
          330
         ]
        },
        {
         "mode": "lines+markers",
         "name": "Linie 331",
         "type": "scatter",
         "x": [
          "2024-02-25T22:00:00+00:00",
          "2024-02-26T05:40:00+00:00"
         ],
         "y": [
          331,
          331
         ]
        },
        {
         "mode": "lines+markers",
         "name": "Linie 332",
         "type": "scatter",
         "x": [
          "2024-05-02T08:00:00+00:00",
          "2024-05-14T16:00:00+00:00"
         ],
         "y": [
          332,
          332
         ]
        },
        {
         "mode": "lines+markers",
         "name": "Linie 333",
         "type": "scatter",
         "x": [
          "2024-05-02T08:00:00+00:00",
          "2024-05-14T16:00:00+00:00"
         ],
         "y": [
          333,
          333
         ]
        },
        {
         "mode": "lines+markers",
         "name": "Linie 334",
         "type": "scatter",
         "x": [
          "2024-05-03T08:00:00+00:00",
          "2024-05-15T16:00:00+00:00"
         ],
         "y": [
          334,
          334
         ]
        },
        {
         "mode": "lines+markers",
         "name": "Linie 335",
         "type": "scatter",
         "x": [
          "2024-05-04T08:00:00+00:00",
          "2024-05-16T16:00:00+00:00"
         ],
         "y": [
          335,
          335
         ]
        },
        {
         "mode": "lines+markers",
         "name": "Linie 336",
         "type": "scatter",
         "x": [
          "2024-05-05T08:00:00+00:00",
          "2024-05-17T16:00:00+00:00"
         ],
         "y": [
          336,
          336
         ]
        },
        {
         "mode": "lines+markers",
         "name": "Linie 337",
         "type": "scatter",
         "x": [
          "2024-05-05T08:00:00+00:00",
          "2024-05-17T16:00:00+00:00"
         ],
         "y": [
          337,
          337
         ]
        },
        {
         "mode": "lines+markers",
         "name": "Linie 338",
         "type": "scatter",
         "x": [
          "2024-05-09T08:00:00+00:00",
          "2024-05-09T09:00:00+00:00"
         ],
         "y": [
          338,
          338
         ]
        },
        {
         "mode": "lines+markers",
         "name": "Linie 339",
         "type": "scatter",
         "x": [
          "2024-05-31T10:00:00+00:00",
          "2024-05-31T12:30:00+00:00"
         ],
         "y": [
          339,
          339
         ]
        },
        {
         "mode": "lines+markers",
         "name": "Linie 340",
         "type": "scatter",
         "x": [
          "2024-05-31T11:30:00+00:00",
          "2024-05-31T14:30:00+00:00"
         ],
         "y": [
          340,
          340
         ]
        },
        {
         "mode": "lines+markers",
         "name": "Linie 341",
         "type": "scatter",
         "x": [
          "2024-06-01T13:00:00+00:00",
          "2024-06-01T14:30:00+00:00"
         ],
         "y": [
          341,
          341
         ]
        },
        {
         "mode": "lines+markers",
         "name": "Linie 342",
         "type": "scatter",
         "x": [
          "2024-06-12T11:00:00+00:00",
          "2024-06-12T16:00:00+00:00"
         ],
         "y": [
          342,
          342
         ]
        },
        {
         "mode": "lines+markers",
         "name": "Linie 343",
         "type": "scatter",
         "x": [
          "2024-06-12T11:00:00+00:00",
          "2024-06-12T19:00:00+00:00"
         ],
         "y": [
          343,
          343
         ]
        },
        {
         "mode": "lines+markers",
         "name": "Linie 344",
         "type": "scatter",
         "x": [
          "2024-06-12T11:00:00+00:00",
          "2024-06-12T16:00:00+00:00"
         ],
         "y": [
          344,
          344
         ]
        },
        {
         "mode": "lines+markers",
         "name": "Linie 345",
         "type": "scatter",
         "x": [
          "2024-06-13T15:46:00+00:00",
          "2024-06-13T20:00:00+00:00"
         ],
         "y": [
          345,
          345
         ]
        },
        {
         "mode": "lines+markers",
         "name": "Linie 346",
         "type": "scatter",
         "x": [
          "2024-06-13T15:46:00+00:00",
          "2024-06-13T18:45:00+00:00"
         ],
         "y": [
          346,
          346
         ]
        },
        {
         "mode": "lines+markers",
         "name": "Linie 347",
         "type": "scatter",
         "x": [
          "2024-06-20T08:00:00+00:00",
          "2024-06-20T16:00:00+00:00"
         ],
         "y": [
          347,
          347
         ]
        },
        {
         "mode": "lines+markers",
         "name": "Linie 348",
         "type": "scatter",
         "x": [
          "2024-08-30T07:00:00+00:00",
          "2024-08-30T09:00:00+00:00"
         ],
         "y": [
          348,
          348
         ]
        },
        {
         "mode": "lines+markers",
         "name": "Linie 349",
         "type": "scatter",
         "x": [
          "2024-09-23T08:00:00+00:00",
          "2024-09-30T16:00:00+00:00"
         ],
         "y": [
          349,
          349
         ]
        },
        {
         "mode": "lines+markers",
         "name": "Linie 350",
         "type": "scatter",
         "x": [
          "2024-09-18T17:14:00+00:00",
          "2024-09-19T17:14:00+00:00"
         ],
         "y": [
          350,
          350
         ]
        },
        {
         "mode": "lines+markers",
         "name": "Linie 351",
         "type": "scatter",
         "x": [
          "2024-09-18T17:14:00+00:00",
          "2024-09-20T17:00:00+00:00"
         ],
         "y": [
          351,
          351
         ]
        },
        {
         "mode": "lines+markers",
         "name": "Linie 352",
         "type": "scatter",
         "x": [
          "2024-09-18T17:14:00+00:00",
          "2024-09-20T15:00:00+00:00"
         ],
         "y": [
          352,
          352
         ]
        },
        {
         "mode": "lines+markers",
         "name": "Linie 353",
         "type": "scatter",
         "x": [
          "2024-09-23T08:00:00+00:00",
          "2024-09-29T12:00:00+00:00"
         ],
         "y": [
          353,
          353
         ]
        },
        {
         "mode": "lines+markers",
         "name": "Linie 354",
         "type": "scatter",
         "x": [
          "2024-09-29T16:30:00+00:00",
          "2024-09-30T16:30:00+00:00"
         ],
         "y": [
          354,
          354
         ]
        },
        {
         "mode": "lines+markers",
         "name": "Linie 355",
         "type": "scatter",
         "x": [
          "2024-09-29T16:30:00+00:00",
          "2024-09-29T21:00:00+00:00"
         ],
         "y": [
          355,
          355
         ]
        },
        {
         "mode": "lines+markers",
         "name": "Linie 356",
         "type": "scatter",
         "x": [
          "2024-01-19T16:55:00+00:00",
          "2024-01-20T16:00:00+00:00"
         ],
         "y": [
          356,
          356
         ]
        },
        {
         "mode": "lines+markers",
         "name": "Linie 357",
         "type": "scatter",
         "x": [
          "2024-01-19T16:55:00+00:00",
          "2024-01-27T16:00:00+00:00"
         ],
         "y": [
          357,
          357
         ]
        },
        {
         "mode": "lines+markers",
         "name": "Linie 358",
         "type": "scatter",
         "x": [
          "2024-01-19T16:55:00+00:00",
          "2024-01-27T16:00:00+00:00"
         ],
         "y": [
          358,
          358
         ]
        },
        {
         "mode": "lines+markers",
         "name": "Linie 359",
         "type": "scatter",
         "x": [
          "2024-01-19T16:55:00+00:00",
          "2024-01-31T16:00:00+00:00"
         ],
         "y": [
          359,
          359
         ]
        },
        {
         "mode": "lines+markers",
         "name": "Linie 360",
         "type": "scatter",
         "x": [
          "2024-01-19T16:55:00+00:00",
          "2024-01-31T16:00:00+00:00"
         ],
         "y": [
          360,
          360
         ]
        },
        {
         "mode": "lines+markers",
         "name": "Linie 361",
         "type": "scatter",
         "x": [
          "2024-01-19T16:55:00+00:00",
          "2024-01-31T16:00:00+00:00"
         ],
         "y": [
          361,
          361
         ]
        },
        {
         "mode": "lines+markers",
         "name": "Linie 362",
         "type": "scatter",
         "x": [
          "2024-01-19T16:55:00+00:00",
          "2024-01-31T16:00:00+00:00"
         ],
         "y": [
          362,
          362
         ]
        },
        {
         "mode": "lines+markers",
         "name": "Linie 363",
         "type": "scatter",
         "x": [
          "2024-01-19T16:55:00+00:00",
          "2024-01-31T16:00:00+00:00"
         ],
         "y": [
          363,
          363
         ]
        },
        {
         "mode": "lines+markers",
         "name": "Linie 364",
         "type": "scatter",
         "x": [
          "2024-01-19T16:55:00+00:00",
          "2024-01-31T16:00:00+00:00"
         ],
         "y": [
          364,
          364
         ]
        },
        {
         "mode": "lines+markers",
         "name": "Linie 365",
         "type": "scatter",
         "x": [
          "2024-01-19T16:55:00+00:00",
          "2024-01-31T16:00:00+00:00"
         ],
         "y": [
          365,
          365
         ]
        },
        {
         "mode": "lines+markers",
         "name": "Linie 366",
         "type": "scatter",
         "x": [
          "2024-01-19T16:55:00+00:00",
          "2024-01-31T16:00:00+00:00"
         ],
         "y": [
          366,
          366
         ]
        },
        {
         "mode": "lines+markers",
         "name": "Linie 367",
         "type": "scatter",
         "x": [
          "2024-01-19T16:55:00+00:00",
          "2024-01-31T16:00:00+00:00"
         ],
         "y": [
          367,
          367
         ]
        },
        {
         "mode": "lines+markers",
         "name": "Linie 368",
         "type": "scatter",
         "x": [
          "2024-01-19T16:55:00+00:00",
          "2024-01-29T02:10:00+00:00"
         ],
         "y": [
          368,
          368
         ]
        },
        {
         "mode": "lines+markers",
         "name": "Linie 369",
         "type": "scatter",
         "x": [
          "2024-01-29T02:10:00+00:00",
          "2024-01-31T16:00:00+00:00"
         ],
         "y": [
          369,
          369
         ]
        },
        {
         "mode": "lines+markers",
         "name": "Linie 370",
         "type": "scatter",
         "x": [
          "2024-01-29T02:10:00+00:00",
          "2024-02-17T18:00:00+00:00"
         ],
         "y": [
          370,
          370
         ]
        },
        {
         "mode": "lines+markers",
         "name": "Linie 371",
         "type": "scatter",
         "x": [
          "2024-01-29T02:10:00+00:00",
          "2024-02-25T12:00:00+00:00"
         ],
         "y": [
          371,
          371
         ]
        },
        {
         "mode": "lines+markers",
         "name": "Linie 372",
         "type": "scatter",
         "x": [
          "2024-01-29T02:10:00+00:00",
          "2024-02-25T12:00:00+00:00"
         ],
         "y": [
          372,
          372
         ]
        },
        {
         "mode": "lines+markers",
         "name": "Linie 373",
         "type": "scatter",
         "x": [
          "2024-01-29T02:10:00+00:00",
          "2024-03-31T17:00:00+00:00"
         ],
         "y": [
          373,
          373
         ]
        },
        {
         "mode": "lines+markers",
         "name": "Linie 374",
         "type": "scatter",
         "x": [
          "2024-01-29T02:10:00+00:00",
          "2024-04-30T17:00:00+00:00"
         ],
         "y": [
          374,
          374
         ]
        },
        {
         "mode": "lines+markers",
         "name": "Linie 375",
         "type": "scatter",
         "x": [
          "2024-01-29T02:10:00+00:00",
          "2024-05-26T19:00:00+00:00"
         ],
         "y": [
          375,
          375
         ]
        },
        {
         "mode": "lines+markers",
         "name": "Linie 376",
         "type": "scatter",
         "x": [
          "2024-01-29T02:10:00+00:00",
          "2024-05-25T15:00:00+00:00"
         ],
         "y": [
          376,
          376
         ]
        },
        {
         "mode": "lines+markers",
         "name": "Linie 377",
         "type": "scatter",
         "x": [
          "2024-01-29T02:10:00+00:00",
          "2024-05-24T15:00:00+00:00"
         ],
         "y": [
          377,
          377
         ]
        },
        {
         "mode": "lines+markers",
         "name": "Linie 378",
         "type": "scatter",
         "x": [
          "2024-01-29T02:10:00+00:00",
          "2024-05-25T17:00:00+00:00"
         ],
         "y": [
          378,
          378
         ]
        },
        {
         "mode": "lines+markers",
         "name": "Linie 379",
         "type": "scatter",
         "x": [
          "2024-01-29T02:10:00+00:00",
          "2024-05-26T12:00:00+00:00"
         ],
         "y": [
          379,
          379
         ]
        },
        {
         "mode": "lines+markers",
         "name": "Linie 380",
         "type": "scatter",
         "x": [
          "2024-01-29T02:10:00+00:00",
          "2024-05-27T17:00:00+00:00"
         ],
         "y": [
          380,
          380
         ]
        },
        {
         "mode": "lines+markers",
         "name": "Linie 381",
         "type": "scatter",
         "x": [
          "2024-01-29T02:10:00+00:00",
          "2024-05-28T20:00:00+00:00"
         ],
         "y": [
          381,
          381
         ]
        },
        {
         "mode": "lines+markers",
         "name": "Linie 382",
         "type": "scatter",
         "x": [
          "2024-01-29T02:10:00+00:00",
          "2024-05-28T22:30:00+00:00"
         ],
         "y": [
          382,
          382
         ]
        },
        {
         "mode": "lines+markers",
         "name": "Linie 383",
         "type": "scatter",
         "x": [
          "2024-01-29T02:10:00+00:00",
          "2024-05-28T23:30:00+00:00"
         ],
         "y": [
          383,
          383
         ]
        },
        {
         "mode": "lines+markers",
         "name": "Linie 384",
         "type": "scatter",
         "x": [
          "2024-06-12T11:00:00+00:00",
          "2024-06-12T16:00:00+00:00"
         ],
         "y": [
          384,
          384
         ]
        },
        {
         "mode": "lines+markers",
         "name": "Linie 385",
         "type": "scatter",
         "x": [
          "2024-06-12T11:00:00+00:00",
          "2024-06-12T19:00:00+00:00"
         ],
         "y": [
          385,
          385
         ]
        },
        {
         "mode": "lines+markers",
         "name": "Linie 386",
         "type": "scatter",
         "x": [
          "2024-06-12T11:00:00+00:00",
          "2024-06-12T16:00:00+00:00"
         ],
         "y": [
          386,
          386
         ]
        },
        {
         "mode": "lines+markers",
         "name": "Linie 387",
         "type": "scatter",
         "x": [
          "2024-06-13T15:46:00+00:00",
          "2024-06-13T20:00:00+00:00"
         ],
         "y": [
          387,
          387
         ]
        },
        {
         "mode": "lines+markers",
         "name": "Linie 388",
         "type": "scatter",
         "x": [
          "2024-06-13T15:46:00+00:00",
          "2024-06-13T18:45:00+00:00"
         ],
         "y": [
          388,
          388
         ]
        },
        {
         "mode": "lines+markers",
         "name": "Linie 389",
         "type": "scatter",
         "x": [
          "2024-06-20T08:00:00+00:00",
          "2024-06-20T16:00:00+00:00"
         ],
         "y": [
          389,
          389
         ]
        },
        {
         "mode": "lines+markers",
         "name": "Linie 390",
         "type": "scatter",
         "x": [
          "2024-08-30T07:00:00+00:00",
          "2024-08-30T09:00:00+00:00"
         ],
         "y": [
          390,
          390
         ]
        },
        {
         "mode": "lines+markers",
         "name": "Linie 391",
         "type": "scatter",
         "x": [
          "2024-09-19T02:05:00+00:00",
          "2024-09-19T17:00:00+00:00"
         ],
         "y": [
          391,
          391
         ]
        },
        {
         "mode": "lines+markers",
         "name": "Linie 392",
         "type": "scatter",
         "x": [
          "2024-09-19T02:05:00+00:00",
          "2024-09-20T17:00:00+00:00"
         ],
         "y": [
          392,
          392
         ]
        },
        {
         "mode": "lines+markers",
         "name": "Linie 393",
         "type": "scatter",
         "x": [
          "2024-09-19T02:05:00+00:00",
          "2024-09-20T15:00:00+00:00"
         ],
         "y": [
          393,
          393
         ]
        },
        {
         "mode": "lines+markers",
         "name": "Linie 394",
         "type": "scatter",
         "x": [
          "2024-09-29T16:30:00+00:00",
          "2024-09-30T16:30:00+00:00"
         ],
         "y": [
          394,
          394
         ]
        },
        {
         "mode": "lines+markers",
         "name": "Linie 395",
         "type": "scatter",
         "x": [
          "2024-09-29T16:30:00+00:00",
          "2024-09-29T21:00:00+00:00"
         ],
         "y": [
          395,
          395
         ]
        },
        {
         "mode": "lines+markers",
         "name": "Linie 396",
         "type": "scatter",
         "x": [
          "2024-01-19T16:55:00+00:00",
          "2024-01-20T16:00:00+00:00"
         ],
         "y": [
          396,
          396
         ]
        },
        {
         "mode": "lines+markers",
         "name": "Linie 397",
         "type": "scatter",
         "x": [
          "2024-01-19T16:55:00+00:00",
          "2024-01-27T16:00:00+00:00"
         ],
         "y": [
          397,
          397
         ]
        },
        {
         "mode": "lines+markers",
         "name": "Linie 398",
         "type": "scatter",
         "x": [
          "2024-01-19T16:55:00+00:00",
          "2024-01-23T04:30:00+00:00"
         ],
         "y": [
          398,
          398
         ]
        },
        {
         "mode": "lines+markers",
         "name": "Linie 399",
         "type": "scatter",
         "x": [
          "2024-01-23T11:20:00+00:00",
          "2024-01-24T16:00:00+00:00"
         ],
         "y": [
          399,
          399
         ]
        },
        {
         "mode": "lines+markers",
         "name": "Linie 400",
         "type": "scatter",
         "x": [
          "2024-01-23T11:20:00+00:00",
          "2024-01-24T16:00:00+00:00"
         ],
         "y": [
          400,
          400
         ]
        },
        {
         "mode": "lines+markers",
         "name": "Linie 401",
         "type": "scatter",
         "x": [
          "2024-01-23T11:20:00+00:00",
          "2024-01-31T16:00:00+00:00"
         ],
         "y": [
          401,
          401
         ]
        },
        {
         "mode": "lines+markers",
         "name": "Linie 402",
         "type": "scatter",
         "x": [
          "2024-01-23T11:20:00+00:00",
          "2024-02-17T18:00:00+00:00"
         ],
         "y": [
          402,
          402
         ]
        },
        {
         "mode": "lines+markers",
         "name": "Linie 403",
         "type": "scatter",
         "x": [
          "2024-01-23T11:20:00+00:00",
          "2024-02-17T18:00:00+00:00"
         ],
         "y": [
          403,
          403
         ]
        },
        {
         "mode": "lines+markers",
         "name": "Linie 404",
         "type": "scatter",
         "x": [
          "2024-01-23T11:20:00+00:00",
          "2024-02-25T12:00:00+00:00"
         ],
         "y": [
          404,
          404
         ]
        },
        {
         "mode": "lines+markers",
         "name": "Linie 405",
         "type": "scatter",
         "x": [
          "2024-01-23T11:20:00+00:00",
          "2024-03-31T17:00:00+00:00"
         ],
         "y": [
          405,
          405
         ]
        },
        {
         "mode": "lines+markers",
         "name": "Linie 406",
         "type": "scatter",
         "x": [
          "2024-01-23T11:20:00+00:00",
          "2024-04-30T17:00:00+00:00"
         ],
         "y": [
          406,
          406
         ]
        },
        {
         "mode": "lines+markers",
         "name": "Linie 407",
         "type": "scatter",
         "x": [
          "2024-01-23T11:20:00+00:00",
          "2024-05-15T19:00:00+00:00"
         ],
         "y": [
          407,
          407
         ]
        },
        {
         "mode": "lines+markers",
         "name": "Linie 408",
         "type": "scatter",
         "x": [
          "2024-01-23T11:20:00+00:00",
          "2024-05-14T16:00:00+00:00"
         ],
         "y": [
          408,
          408
         ]
        },
        {
         "mode": "lines+markers",
         "name": "Linie 409",
         "type": "scatter",
         "x": [
          "2024-01-23T11:20:00+00:00",
          "2024-05-14T16:00:00+00:00"
         ],
         "y": [
          409,
          409
         ]
        },
        {
         "mode": "lines+markers",
         "name": "Linie 410",
         "type": "scatter",
         "x": [
          "2024-01-23T11:20:00+00:00",
          "2024-05-15T16:00:00+00:00"
         ],
         "y": [
          410,
          410
         ]
        },
        {
         "mode": "lines+markers",
         "name": "Linie 411",
         "type": "scatter",
         "x": [
          "2024-01-23T11:20:00+00:00",
          "2024-05-16T16:00:00+00:00"
         ],
         "y": [
          411,
          411
         ]
        },
        {
         "mode": "lines+markers",
         "name": "Linie 412",
         "type": "scatter",
         "x": [
          "2024-01-23T11:20:00+00:00",
          "2024-05-17T16:00:00+00:00"
         ],
         "y": [
          412,
          412
         ]
        },
        {
         "mode": "lines+markers",
         "name": "Linie 413",
         "type": "scatter",
         "x": [
          "2024-01-23T11:20:00+00:00",
          "2024-05-17T16:00:00+00:00"
         ],
         "y": [
          413,
          413
         ]
        },
        {
         "mode": "lines+markers",
         "name": "Linie 414",
         "type": "scatter",
         "x": [
          "2024-01-23T11:20:00+00:00",
          "2024-05-23T15:00:00+00:00"
         ],
         "y": [
          414,
          414
         ]
        },
        {
         "mode": "lines+markers",
         "name": "Linie 415",
         "type": "scatter",
         "x": [
          "2024-01-23T11:20:00+00:00",
          "2024-05-26T17:00:00+00:00"
         ],
         "y": [
          415,
          415
         ]
        },
        {
         "mode": "lines+markers",
         "name": "Linie 416",
         "type": "scatter",
         "x": [
          "2024-01-23T11:20:00+00:00",
          "2024-05-29T17:00:00+00:00"
         ],
         "y": [
          416,
          416
         ]
        },
        {
         "mode": "lines+markers",
         "name": "Linie 417",
         "type": "scatter",
         "x": [
          "2024-01-23T11:20:00+00:00",
          "2024-05-30T17:00:00+00:00"
         ],
         "y": [
          417,
          417
         ]
        },
        {
         "mode": "lines+markers",
         "name": "Linie 418",
         "type": "scatter",
         "x": [
          "2024-01-23T11:20:00+00:00",
          "2024-06-01T22:00:00+00:00"
         ],
         "y": [
          418,
          418
         ]
        },
        {
         "mode": "lines+markers",
         "name": "Linie 419",
         "type": "scatter",
         "x": [
          "2024-01-23T11:20:00+00:00",
          "2024-06-02T00:30:00+00:00"
         ],
         "y": [
          419,
          419
         ]
        },
        {
         "mode": "lines+markers",
         "name": "Linie 420",
         "type": "scatter",
         "x": [
          "2024-01-23T11:20:00+00:00",
          "2024-06-03T13:00:00+00:00"
         ],
         "y": [
          420,
          420
         ]
        },
        {
         "mode": "lines+markers",
         "name": "Linie 421",
         "type": "scatter",
         "x": [
          "2024-01-23T11:20:00+00:00",
          "2024-06-05T13:00:00+00:00"
         ],
         "y": [
          421,
          421
         ]
        },
        {
         "mode": "lines+markers",
         "name": "Linie 422",
         "type": "scatter",
         "x": [
          "2024-01-23T11:20:00+00:00",
          "2024-06-04T11:20:00+00:00"
         ],
         "y": [
          422,
          422
         ]
        },
        {
         "mode": "lines+markers",
         "name": "Linie 423",
         "type": "scatter",
         "x": [
          "2024-06-12T11:00:00+00:00",
          "2024-06-12T16:00:00+00:00"
         ],
         "y": [
          423,
          423
         ]
        },
        {
         "mode": "lines+markers",
         "name": "Linie 424",
         "type": "scatter",
         "x": [
          "2024-06-12T11:00:00+00:00",
          "2024-06-12T19:00:00+00:00"
         ],
         "y": [
          424,
          424
         ]
        },
        {
         "mode": "lines+markers",
         "name": "Linie 425",
         "type": "scatter",
         "x": [
          "2024-06-12T11:00:00+00:00",
          "2024-06-12T16:00:00+00:00"
         ],
         "y": [
          425,
          425
         ]
        },
        {
         "mode": "lines+markers",
         "name": "Linie 426",
         "type": "scatter",
         "x": [
          "2024-06-13T15:46:00+00:00",
          "2024-06-13T20:00:00+00:00"
         ],
         "y": [
          426,
          426
         ]
        },
        {
         "mode": "lines+markers",
         "name": "Linie 427",
         "type": "scatter",
         "x": [
          "2024-06-13T15:46:00+00:00",
          "2024-06-13T18:45:00+00:00"
         ],
         "y": [
          427,
          427
         ]
        },
        {
         "mode": "lines+markers",
         "name": "Linie 428",
         "type": "scatter",
         "x": [
          "2024-06-20T08:00:00+00:00",
          "2024-06-20T16:00:00+00:00"
         ],
         "y": [
          428,
          428
         ]
        },
        {
         "mode": "lines+markers",
         "name": "Linie 429",
         "type": "scatter",
         "x": [
          "2024-08-30T07:00:00+00:00",
          "2024-08-30T09:00:00+00:00"
         ],
         "y": [
          429,
          429
         ]
        },
        {
         "mode": "lines+markers",
         "name": "Linie 430",
         "type": "scatter",
         "x": [
          "2024-09-23T08:00:00+00:00",
          "2024-09-30T16:00:00+00:00"
         ],
         "y": [
          430,
          430
         ]
        },
        {
         "mode": "lines+markers",
         "name": "Linie 431",
         "type": "scatter",
         "x": [
          "2024-09-18T17:14:00+00:00",
          "2024-09-19T17:14:00+00:00"
         ],
         "y": [
          431,
          431
         ]
        },
        {
         "mode": "lines+markers",
         "name": "Linie 432",
         "type": "scatter",
         "x": [
          "2024-09-18T17:14:00+00:00",
          "2024-09-20T17:00:00+00:00"
         ],
         "y": [
          432,
          432
         ]
        },
        {
         "mode": "lines+markers",
         "name": "Linie 433",
         "type": "scatter",
         "x": [
          "2024-09-18T17:14:00+00:00",
          "2024-09-20T15:00:00+00:00"
         ],
         "y": [
          433,
          433
         ]
        },
        {
         "mode": "lines+markers",
         "name": "Linie 434",
         "type": "scatter",
         "x": [
          "2024-09-23T08:00:00+00:00",
          "2024-09-29T12:00:00+00:00"
         ],
         "y": [
          434,
          434
         ]
        },
        {
         "mode": "lines+markers",
         "name": "Linie 435",
         "type": "scatter",
         "x": [
          "2024-09-29T16:30:00+00:00",
          "2024-09-30T16:30:00+00:00"
         ],
         "y": [
          435,
          435
         ]
        },
        {
         "mode": "lines+markers",
         "name": "Linie 436",
         "type": "scatter",
         "x": [
          "2024-09-29T16:30:00+00:00",
          "2024-09-29T21:00:00+00:00"
         ],
         "y": [
          436,
          436
         ]
        }
       ],
       "layout": {
        "template": {
         "data": {
          "bar": [
           {
            "error_x": {
             "color": "#2a3f5f"
            },
            "error_y": {
             "color": "#2a3f5f"
            },
            "marker": {
             "line": {
              "color": "#E5ECF6",
              "width": 0.5
             },
             "pattern": {
              "fillmode": "overlay",
              "size": 10,
              "solidity": 0.2
             }
            },
            "type": "bar"
           }
          ],
          "barpolar": [
           {
            "marker": {
             "line": {
              "color": "#E5ECF6",
              "width": 0.5
             },
             "pattern": {
              "fillmode": "overlay",
              "size": 10,
              "solidity": 0.2
             }
            },
            "type": "barpolar"
           }
          ],
          "carpet": [
           {
            "aaxis": {
             "endlinecolor": "#2a3f5f",
             "gridcolor": "white",
             "linecolor": "white",
             "minorgridcolor": "white",
             "startlinecolor": "#2a3f5f"
            },
            "baxis": {
             "endlinecolor": "#2a3f5f",
             "gridcolor": "white",
             "linecolor": "white",
             "minorgridcolor": "white",
             "startlinecolor": "#2a3f5f"
            },
            "type": "carpet"
           }
          ],
          "choropleth": [
           {
            "colorbar": {
             "outlinewidth": 0,
             "ticks": ""
            },
            "type": "choropleth"
           }
          ],
          "contour": [
           {
            "colorbar": {
             "outlinewidth": 0,
             "ticks": ""
            },
            "colorscale": [
             [
              0,
              "#0d0887"
             ],
             [
              0.1111111111111111,
              "#46039f"
             ],
             [
              0.2222222222222222,
              "#7201a8"
             ],
             [
              0.3333333333333333,
              "#9c179e"
             ],
             [
              0.4444444444444444,
              "#bd3786"
             ],
             [
              0.5555555555555556,
              "#d8576b"
             ],
             [
              0.6666666666666666,
              "#ed7953"
             ],
             [
              0.7777777777777778,
              "#fb9f3a"
             ],
             [
              0.8888888888888888,
              "#fdca26"
             ],
             [
              1,
              "#f0f921"
             ]
            ],
            "type": "contour"
           }
          ],
          "contourcarpet": [
           {
            "colorbar": {
             "outlinewidth": 0,
             "ticks": ""
            },
            "type": "contourcarpet"
           }
          ],
          "heatmap": [
           {
            "colorbar": {
             "outlinewidth": 0,
             "ticks": ""
            },
            "colorscale": [
             [
              0,
              "#0d0887"
             ],
             [
              0.1111111111111111,
              "#46039f"
             ],
             [
              0.2222222222222222,
              "#7201a8"
             ],
             [
              0.3333333333333333,
              "#9c179e"
             ],
             [
              0.4444444444444444,
              "#bd3786"
             ],
             [
              0.5555555555555556,
              "#d8576b"
             ],
             [
              0.6666666666666666,
              "#ed7953"
             ],
             [
              0.7777777777777778,
              "#fb9f3a"
             ],
             [
              0.8888888888888888,
              "#fdca26"
             ],
             [
              1,
              "#f0f921"
             ]
            ],
            "type": "heatmap"
           }
          ],
          "heatmapgl": [
           {
            "colorbar": {
             "outlinewidth": 0,
             "ticks": ""
            },
            "colorscale": [
             [
              0,
              "#0d0887"
             ],
             [
              0.1111111111111111,
              "#46039f"
             ],
             [
              0.2222222222222222,
              "#7201a8"
             ],
             [
              0.3333333333333333,
              "#9c179e"
             ],
             [
              0.4444444444444444,
              "#bd3786"
             ],
             [
              0.5555555555555556,
              "#d8576b"
             ],
             [
              0.6666666666666666,
              "#ed7953"
             ],
             [
              0.7777777777777778,
              "#fb9f3a"
             ],
             [
              0.8888888888888888,
              "#fdca26"
             ],
             [
              1,
              "#f0f921"
             ]
            ],
            "type": "heatmapgl"
           }
          ],
          "histogram": [
           {
            "marker": {
             "pattern": {
              "fillmode": "overlay",
              "size": 10,
              "solidity": 0.2
             }
            },
            "type": "histogram"
           }
          ],
          "histogram2d": [
           {
            "colorbar": {
             "outlinewidth": 0,
             "ticks": ""
            },
            "colorscale": [
             [
              0,
              "#0d0887"
             ],
             [
              0.1111111111111111,
              "#46039f"
             ],
             [
              0.2222222222222222,
              "#7201a8"
             ],
             [
              0.3333333333333333,
              "#9c179e"
             ],
             [
              0.4444444444444444,
              "#bd3786"
             ],
             [
              0.5555555555555556,
              "#d8576b"
             ],
             [
              0.6666666666666666,
              "#ed7953"
             ],
             [
              0.7777777777777778,
              "#fb9f3a"
             ],
             [
              0.8888888888888888,
              "#fdca26"
             ],
             [
              1,
              "#f0f921"
             ]
            ],
            "type": "histogram2d"
           }
          ],
          "histogram2dcontour": [
           {
            "colorbar": {
             "outlinewidth": 0,
             "ticks": ""
            },
            "colorscale": [
             [
              0,
              "#0d0887"
             ],
             [
              0.1111111111111111,
              "#46039f"
             ],
             [
              0.2222222222222222,
              "#7201a8"
             ],
             [
              0.3333333333333333,
              "#9c179e"
             ],
             [
              0.4444444444444444,
              "#bd3786"
             ],
             [
              0.5555555555555556,
              "#d8576b"
             ],
             [
              0.6666666666666666,
              "#ed7953"
             ],
             [
              0.7777777777777778,
              "#fb9f3a"
             ],
             [
              0.8888888888888888,
              "#fdca26"
             ],
             [
              1,
              "#f0f921"
             ]
            ],
            "type": "histogram2dcontour"
           }
          ],
          "mesh3d": [
           {
            "colorbar": {
             "outlinewidth": 0,
             "ticks": ""
            },
            "type": "mesh3d"
           }
          ],
          "parcoords": [
           {
            "line": {
             "colorbar": {
              "outlinewidth": 0,
              "ticks": ""
             }
            },
            "type": "parcoords"
           }
          ],
          "pie": [
           {
            "automargin": true,
            "type": "pie"
           }
          ],
          "scatter": [
           {
            "fillpattern": {
             "fillmode": "overlay",
             "size": 10,
             "solidity": 0.2
            },
            "type": "scatter"
           }
          ],
          "scatter3d": [
           {
            "line": {
             "colorbar": {
              "outlinewidth": 0,
              "ticks": ""
             }
            },
            "marker": {
             "colorbar": {
              "outlinewidth": 0,
              "ticks": ""
             }
            },
            "type": "scatter3d"
           }
          ],
          "scattercarpet": [
           {
            "marker": {
             "colorbar": {
              "outlinewidth": 0,
              "ticks": ""
             }
            },
            "type": "scattercarpet"
           }
          ],
          "scattergeo": [
           {
            "marker": {
             "colorbar": {
              "outlinewidth": 0,
              "ticks": ""
             }
            },
            "type": "scattergeo"
           }
          ],
          "scattergl": [
           {
            "marker": {
             "colorbar": {
              "outlinewidth": 0,
              "ticks": ""
             }
            },
            "type": "scattergl"
           }
          ],
          "scattermapbox": [
           {
            "marker": {
             "colorbar": {
              "outlinewidth": 0,
              "ticks": ""
             }
            },
            "type": "scattermapbox"
           }
          ],
          "scatterpolar": [
           {
            "marker": {
             "colorbar": {
              "outlinewidth": 0,
              "ticks": ""
             }
            },
            "type": "scatterpolar"
           }
          ],
          "scatterpolargl": [
           {
            "marker": {
             "colorbar": {
              "outlinewidth": 0,
              "ticks": ""
             }
            },
            "type": "scatterpolargl"
           }
          ],
          "scatterternary": [
           {
            "marker": {
             "colorbar": {
              "outlinewidth": 0,
              "ticks": ""
             }
            },
            "type": "scatterternary"
           }
          ],
          "surface": [
           {
            "colorbar": {
             "outlinewidth": 0,
             "ticks": ""
            },
            "colorscale": [
             [
              0,
              "#0d0887"
             ],
             [
              0.1111111111111111,
              "#46039f"
             ],
             [
              0.2222222222222222,
              "#7201a8"
             ],
             [
              0.3333333333333333,
              "#9c179e"
             ],
             [
              0.4444444444444444,
              "#bd3786"
             ],
             [
              0.5555555555555556,
              "#d8576b"
             ],
             [
              0.6666666666666666,
              "#ed7953"
             ],
             [
              0.7777777777777778,
              "#fb9f3a"
             ],
             [
              0.8888888888888888,
              "#fdca26"
             ],
             [
              1,
              "#f0f921"
             ]
            ],
            "type": "surface"
           }
          ],
          "table": [
           {
            "cells": {
             "fill": {
              "color": "#EBF0F8"
             },
             "line": {
              "color": "white"
             }
            },
            "header": {
             "fill": {
              "color": "#C8D4E3"
             },
             "line": {
              "color": "white"
             }
            },
            "type": "table"
           }
          ]
         },
         "layout": {
          "annotationdefaults": {
           "arrowcolor": "#2a3f5f",
           "arrowhead": 0,
           "arrowwidth": 1
          },
          "autotypenumbers": "strict",
          "coloraxis": {
           "colorbar": {
            "outlinewidth": 0,
            "ticks": ""
           }
          },
          "colorscale": {
           "diverging": [
            [
             0,
             "#8e0152"
            ],
            [
             0.1,
             "#c51b7d"
            ],
            [
             0.2,
             "#de77ae"
            ],
            [
             0.3,
             "#f1b6da"
            ],
            [
             0.4,
             "#fde0ef"
            ],
            [
             0.5,
             "#f7f7f7"
            ],
            [
             0.6,
             "#e6f5d0"
            ],
            [
             0.7,
             "#b8e186"
            ],
            [
             0.8,
             "#7fbc41"
            ],
            [
             0.9,
             "#4d9221"
            ],
            [
             1,
             "#276419"
            ]
           ],
           "sequential": [
            [
             0,
             "#0d0887"
            ],
            [
             0.1111111111111111,
             "#46039f"
            ],
            [
             0.2222222222222222,
             "#7201a8"
            ],
            [
             0.3333333333333333,
             "#9c179e"
            ],
            [
             0.4444444444444444,
             "#bd3786"
            ],
            [
             0.5555555555555556,
             "#d8576b"
            ],
            [
             0.6666666666666666,
             "#ed7953"
            ],
            [
             0.7777777777777778,
             "#fb9f3a"
            ],
            [
             0.8888888888888888,
             "#fdca26"
            ],
            [
             1,
             "#f0f921"
            ]
           ],
           "sequentialminus": [
            [
             0,
             "#0d0887"
            ],
            [
             0.1111111111111111,
             "#46039f"
            ],
            [
             0.2222222222222222,
             "#7201a8"
            ],
            [
             0.3333333333333333,
             "#9c179e"
            ],
            [
             0.4444444444444444,
             "#bd3786"
            ],
            [
             0.5555555555555556,
             "#d8576b"
            ],
            [
             0.6666666666666666,
             "#ed7953"
            ],
            [
             0.7777777777777778,
             "#fb9f3a"
            ],
            [
             0.8888888888888888,
             "#fdca26"
            ],
            [
             1,
             "#f0f921"
            ]
           ]
          },
          "colorway": [
           "#636efa",
           "#EF553B",
           "#00cc96",
           "#ab63fa",
           "#FFA15A",
           "#19d3f3",
           "#FF6692",
           "#B6E880",
           "#FF97FF",
           "#FECB52"
          ],
          "font": {
           "color": "#2a3f5f"
          },
          "geo": {
           "bgcolor": "white",
           "lakecolor": "white",
           "landcolor": "#E5ECF6",
           "showlakes": true,
           "showland": true,
           "subunitcolor": "white"
          },
          "hoverlabel": {
           "align": "left"
          },
          "hovermode": "closest",
          "mapbox": {
           "style": "light"
          },
          "paper_bgcolor": "white",
          "plot_bgcolor": "#E5ECF6",
          "polar": {
           "angularaxis": {
            "gridcolor": "white",
            "linecolor": "white",
            "ticks": ""
           },
           "bgcolor": "#E5ECF6",
           "radialaxis": {
            "gridcolor": "white",
            "linecolor": "white",
            "ticks": ""
           }
          },
          "scene": {
           "xaxis": {
            "backgroundcolor": "#E5ECF6",
            "gridcolor": "white",
            "gridwidth": 2,
            "linecolor": "white",
            "showbackground": true,
            "ticks": "",
            "zerolinecolor": "white"
           },
           "yaxis": {
            "backgroundcolor": "#E5ECF6",
            "gridcolor": "white",
            "gridwidth": 2,
            "linecolor": "white",
            "showbackground": true,
            "ticks": "",
            "zerolinecolor": "white"
           },
           "zaxis": {
            "backgroundcolor": "#E5ECF6",
            "gridcolor": "white",
            "gridwidth": 2,
            "linecolor": "white",
            "showbackground": true,
            "ticks": "",
            "zerolinecolor": "white"
           }
          },
          "shapedefaults": {
           "line": {
            "color": "#2a3f5f"
           }
          },
          "ternary": {
           "aaxis": {
            "gridcolor": "white",
            "linecolor": "white",
            "ticks": ""
           },
           "baxis": {
            "gridcolor": "white",
            "linecolor": "white",
            "ticks": ""
           },
           "bgcolor": "#E5ECF6",
           "caxis": {
            "gridcolor": "white",
            "linecolor": "white",
            "ticks": ""
           }
          },
          "title": {
           "x": 0.05
          },
          "xaxis": {
           "automargin": true,
           "gridcolor": "white",
           "linecolor": "white",
           "ticks": "",
           "title": {
            "standoff": 15
           },
           "zerolinecolor": "white",
           "zerolinewidth": 2
          },
          "yaxis": {
           "automargin": true,
           "gridcolor": "white",
           "linecolor": "white",
           "ticks": "",
           "title": {
            "standoff": 15
           },
           "zerolinecolor": "white",
           "zerolinewidth": 2
          }
         }
        },
        "title": {
         "text": "Horizontale Linien mit aufsteigenden Werten",
         "x": 0.5
        },
        "xaxis": {
         "rangeslider": {
          "visible": true
         },
         "title": {
          "text": "Datum"
         },
         "type": "date"
        },
        "yaxis": {
         "title": {
          "text": "Werte"
         }
        }
       }
      }
     },
     "metadata": {},
     "output_type": "display_data"
    }
   ],
   "source": [
    "# Umwandlung der Zeitspalten in naive Datetime\n",
    "df['eventStartTime'] = pd.to_datetime(df['eventStartTime'])\n",
    "df['eventEndTime'] = pd.to_datetime(df['eventEndTime'])\n",
    "\n",
    "# Beispielhafte Start- und Endpunkte\n",
    "startpunkte = df['eventStartTime']\n",
    "endpunkte = df['eventEndTime']\n",
    "\n",
    "# Erstellen einer leeren Figur\n",
    "fig = go.Figure()\n",
    "\n",
    "# Schleife zum Hochzählen der Y-Werte\n",
    "for i, (start, end) in enumerate(zip(startpunkte, endpunkte), start=1):\n",
    "    fig.add_trace(go.Scatter(\n",
    "        x=[start, end],  # X-Werte sind die Start- und Endzeiten\n",
    "        y=[i, i],  # Beide Y-Werte sind gleich, damit eine horizontale Linie entsteht\n",
    "        mode='lines+markers',\n",
    "        name=f'Linie {i}'\n",
    "    ))\n",
    "\n",
    "# Layout anpassen und Range-Slider hinzufügen\n",
    "fig.update_layout(\n",
    "    title='Horizontale Linien mit aufsteigenden Werten',\n",
    "    xaxis=dict(\n",
    "        title='Datum',\n",
    "        rangeslider=dict(visible=True),  # Range-Slider sichtbar machen\n",
    "        type='date'\n",
    "    ),\n",
    "    yaxis_title='Werte',\n",
    "    title_x=0.5,  # Titel zentrieren\n",
    ")\n",
    "\n",
    "# Anzeige der Figur\n",
    "fig.show()\n"
   ]
  },
  {
   "cell_type": "code",
   "execution_count": 117,
   "metadata": {},
   "outputs": [
    {
     "name": "stdout",
     "output_type": "stream",
     "text": [
      "['Forced Outage', 'NonOperator Alert', 'Planned Outage', 'Turbine', 'Under Investigation']\n"
     ]
    },
    {
     "data": {
      "text/plain": [
       "cause\n",
       "Planned Outage         342\n",
       "Under Investigation     86\n",
       "NonOperator Alert        3\n",
       "Turbine                  3\n",
       "Forced Outage            2\n",
       "Name: id, dtype: int64"
      ]
     },
     "execution_count": 117,
     "metadata": {},
     "output_type": "execute_result"
    }
   ],
   "source": [
    "# Gruppiere nach 'cause' und zähle 'id' pro Gruppe\n",
    "df_cause= df.groupby(['cause'])['id'].count()\n",
    "\n",
    "# Liste der eindeutigen 'cause'-Werte ausgeben\n",
    "print(df_cause.index.tolist())\n",
    "\n",
    "# Ergebnis nach der Anzahl der 'cause' absteigend sortieren\n",
    "df_cause.sort_values(ascending=False)"
   ]
  }
 ],
 "metadata": {
  "kernelspec": {
   "display_name": ".venv",
   "language": "python",
   "name": "python3"
  },
  "language_info": {
   "codemirror_mode": {
    "name": "ipython",
    "version": 3
   },
   "file_extension": ".py",
   "mimetype": "text/x-python",
   "name": "python",
   "nbconvert_exporter": "python",
   "pygments_lexer": "ipython3",
   "version": "3.12.6"
  }
 },
 "nbformat": 4,
 "nbformat_minor": 2
}

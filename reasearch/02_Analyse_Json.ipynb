{
 "cells": [
  {
   "cell_type": "code",
   "execution_count": 17,
   "metadata": {},
   "outputs": [],
   "source": [
    "import pandas as pd\n",
    "import os\n",
    "import re"
   ]
  },
  {
   "cell_type": "markdown",
   "metadata": {},
   "source": [
    "## Quellen\n",
    "- [Link zum Download der Remit Dateien](https://bmrs.elexon.co.uk/remit?timeRangeType=Custom&timeRangeLength=Custom&assetID=T_HOWAO-1&endpoint=published&revisionHistory=include-history&from=2024-01-01T07%3A30%3A00.000Z&to=2025-01-01T07%3A30%3A00.000Z&messageType=Unavailabilities+of+Electricity+Facilities%2COther+Market+Information&unavailabilityType=Planned%2CUnplanned&eventType=Production+Unavailability%2CTransmission+Unavailability%2CConsumption+Unavailability%2COther+Unavailability)\n",
    "\n",
    "- [Dokumenation BMRS API and Data Push User Guide](https://assets.elexon.co.uk/wp-content/uploads/2018/09/28160411/BMRS-API-Data-Push-User-Guide.pdf)"
   ]
  },
  {
   "cell_type": "code",
   "execution_count": 55,
   "metadata": {},
   "outputs": [
    {
     "name": "stdout",
     "output_type": "stream",
     "text": [
      "Die JSON-Datei RemitData-2020-01-01T07_30_00.000Z-2021-01-01T07_30_00.000Z (1).json wurde erfolgreich in data/Json_Dateien/RemitData-2020-01-01T07_30_00.000Z-2021-01-01T07_30_00.000Z (1).csv umgewandelt.\n",
      "Die JSON-Datei RemitData-2020-01-01T07_30_00.000Z-2021-01-01T07_30_00.000Z (2).json wurde erfolgreich in data/Json_Dateien/RemitData-2020-01-01T07_30_00.000Z-2021-01-01T07_30_00.000Z (2).csv umgewandelt.\n",
      "Die JSON-Datei RemitData-2020-01-01T07_30_00.000Z-2021-01-01T07_30_00.000Z.json wurde erfolgreich in data/Json_Dateien/RemitData-2020-01-01T07_30_00.000Z-2021-01-01T07_30_00.000Z.csv umgewandelt.\n",
      "Die JSON-Datei RemitData-2021-01-01T07_30_00.000Z-2022-01-01T08_00_00.000Z (1).json wurde erfolgreich in data/Json_Dateien/RemitData-2021-01-01T07_30_00.000Z-2022-01-01T08_00_00.000Z (1).csv umgewandelt.\n",
      "Die JSON-Datei RemitData-2021-01-01T07_30_00.000Z-2022-01-01T08_00_00.000Z (2).json wurde erfolgreich in data/Json_Dateien/RemitData-2021-01-01T07_30_00.000Z-2022-01-01T08_00_00.000Z (2).csv umgewandelt.\n",
      "Die JSON-Datei RemitData-2021-01-01T07_30_00.000Z-2022-01-01T08_00_00.000Z.json wurde erfolgreich in data/Json_Dateien/RemitData-2021-01-01T07_30_00.000Z-2022-01-01T08_00_00.000Z.csv umgewandelt.\n",
      "Die JSON-Datei RemitData-2022-01-01T07_30_00.000Z-2023-01-01T08_00_00.000Z (1).json wurde erfolgreich in data/Json_Dateien/RemitData-2022-01-01T07_30_00.000Z-2023-01-01T08_00_00.000Z (1).csv umgewandelt.\n",
      "Die JSON-Datei RemitData-2022-01-01T07_30_00.000Z-2023-01-01T08_00_00.000Z (2).json wurde erfolgreich in data/Json_Dateien/RemitData-2022-01-01T07_30_00.000Z-2023-01-01T08_00_00.000Z (2).csv umgewandelt.\n",
      "Die JSON-Datei RemitData-2022-01-01T07_30_00.000Z-2023-01-01T08_00_00.000Z.json wurde erfolgreich in data/Json_Dateien/RemitData-2022-01-01T07_30_00.000Z-2023-01-01T08_00_00.000Z.csv umgewandelt.\n",
      "Die JSON-Datei RemitData-2023-01-01T07_30_00.000Z-2024-01-01T08_00_00.000Z (1).json wurde erfolgreich in data/Json_Dateien/RemitData-2023-01-01T07_30_00.000Z-2024-01-01T08_00_00.000Z (1).csv umgewandelt.\n",
      "Die JSON-Datei RemitData-2023-01-01T07_30_00.000Z-2024-01-01T08_00_00.000Z (2).json wurde erfolgreich in data/Json_Dateien/RemitData-2023-01-01T07_30_00.000Z-2024-01-01T08_00_00.000Z (2).csv umgewandelt.\n",
      "Die JSON-Datei RemitData-2023-01-01T07_30_00.000Z-2024-01-01T08_00_00.000Z.json wurde erfolgreich in data/Json_Dateien/RemitData-2023-01-01T07_30_00.000Z-2024-01-01T08_00_00.000Z.csv umgewandelt.\n",
      "Die JSON-Datei RemitData-2024-01-01T07_30_00.000Z-2025-01-01T07_30_00.000Z (1).json wurde erfolgreich in data/Json_Dateien/RemitData-2024-01-01T07_30_00.000Z-2025-01-01T07_30_00.000Z (1).csv umgewandelt.\n",
      "Die JSON-Datei RemitData-2024-01-01T07_30_00.000Z-2025-01-01T07_30_00.000Z (2).json wurde erfolgreich in data/Json_Dateien/RemitData-2024-01-01T07_30_00.000Z-2025-01-01T07_30_00.000Z (2).csv umgewandelt.\n",
      "Die JSON-Datei RemitData-2024-01-01T07_30_00.000Z-2025-01-01T07_30_00.000Z.json wurde erfolgreich in data/Json_Dateien/RemitData-2024-01-01T07_30_00.000Z-2025-01-01T07_30_00.000Z.csv umgewandelt.\n"
     ]
    }
   ],
   "source": [
    "#  # Liest alle JSON-Dateien aus einem angegebenen Ordner ein und wandelt sie in CSV-Dateien um\n",
    "#  # Ordnerpfad zu den JSON-Dateien\n",
    "# json_folder = 'data/Json_Dateien/'\n",
    "\n",
    "# # Alle JSON-Dateien im Ordner einlesen und in CSV umwandeln\n",
    "# for filename in os.listdir(json_folder):\n",
    "#     if filename.endswith('.json'):\n",
    "#         json_file = os.path.join(json_folder, filename)  # Vollständiger Pfad zur JSON-Datei\n",
    "#         data = pd.read_json(json_file)\n",
    "\n",
    "#         # CSV-Dateiname erstellen\n",
    "#         csv_file = os.path.join(json_folder, filename.replace('.json', '.csv'))  # Pfad zur gewünschten CSV-Datei\n",
    "#         data.to_csv(csv_file, index=False)\n",
    "\n",
    "#         print(f'Die JSON-Datei {filename} wurde erfolgreich in {csv_file} umgewandelt.')"
   ]
  },
  {
   "cell_type": "code",
   "execution_count": 19,
   "metadata": {},
   "outputs": [],
   "source": [
    "# Ordnerpfad zu den CSV-Dateien\n",
    "csv_folder = 'data/Json_Dateien/'\n",
    "\n",
    "# Leere Liste zum Speichern der DataFrames\n",
    "dataframes = []\n",
    "\n",
    "# Alle CSV-Dateien im Ordner einlesen\n",
    "for filename in os.listdir(csv_folder):\n",
    "    if filename.endswith('.csv'):\n",
    "        csv_file = os.path.join(csv_folder, filename)  # Vollständiger Pfad zur CSV-Datei\n",
    "        df = pd.read_csv(csv_file)  # Einlesen der CSV-Datei\n",
    "        dataframes.append(df)  # Hinzufügen des DataFrames zur Liste\n",
    "\n",
    "# Alle DataFrames zu einem einzigen DataFrame zusammenführen\n",
    "df = pd.concat(dataframes, ignore_index=True)"
   ]
  },
  {
   "cell_type": "code",
   "execution_count": 20,
   "metadata": {},
   "outputs": [
    {
     "data": {
      "text/html": [
       "<div>\n",
       "<style scoped>\n",
       "    .dataframe tbody tr th:only-of-type {\n",
       "        vertical-align: middle;\n",
       "    }\n",
       "\n",
       "    .dataframe tbody tr th {\n",
       "        vertical-align: top;\n",
       "    }\n",
       "\n",
       "    .dataframe thead th {\n",
       "        text-align: right;\n",
       "    }\n",
       "</style>\n",
       "<table border=\"1\" class=\"dataframe\">\n",
       "  <thead>\n",
       "    <tr style=\"text-align: right;\">\n",
       "      <th></th>\n",
       "      <th>id</th>\n",
       "      <th>dataset</th>\n",
       "      <th>mrid</th>\n",
       "      <th>revisionNumber</th>\n",
       "      <th>publishTime</th>\n",
       "      <th>createdTime</th>\n",
       "      <th>messageType</th>\n",
       "      <th>messageHeading</th>\n",
       "      <th>eventType</th>\n",
       "      <th>unavailabilityType</th>\n",
       "      <th>...</th>\n",
       "      <th>fuelType</th>\n",
       "      <th>normalCapacity</th>\n",
       "      <th>availableCapacity</th>\n",
       "      <th>unavailableCapacity</th>\n",
       "      <th>eventStatus</th>\n",
       "      <th>eventStartTime</th>\n",
       "      <th>eventEndTime</th>\n",
       "      <th>cause</th>\n",
       "      <th>relatedInformation</th>\n",
       "      <th>outageProfile</th>\n",
       "    </tr>\n",
       "  </thead>\n",
       "  <tbody>\n",
       "    <tr>\n",
       "      <th>0</th>\n",
       "      <td>60924</td>\n",
       "      <td>REMIT</td>\n",
       "      <td>11XDONG-PT-----2-NGET-RMT-00001020</td>\n",
       "      <td>2</td>\n",
       "      <td>2020-11-26T13:54:00Z</td>\n",
       "      <td>2020-11-26T13:54:00Z</td>\n",
       "      <td>UnavailabilitiesOfElectricityFacilities</td>\n",
       "      <td>REMIT Information</td>\n",
       "      <td>Production unavailability</td>\n",
       "      <td>Planned</td>\n",
       "      <td>...</td>\n",
       "      <td>Wind Offshore</td>\n",
       "      <td>400</td>\n",
       "      <td>0</td>\n",
       "      <td>400</td>\n",
       "      <td>Active</td>\n",
       "      <td>2020-11-26T09:00:00Z</td>\n",
       "      <td>2020-11-26T18:00:00Z</td>\n",
       "      <td>Planned Outage</td>\n",
       "      <td>HOW01 Z12 Dry run interlink test</td>\n",
       "      <td>[{'startTime': '2020-11-26T09:00:00Z', 'endTim...</td>\n",
       "    </tr>\n",
       "    <tr>\n",
       "      <th>1</th>\n",
       "      <td>185054</td>\n",
       "      <td>REMIT</td>\n",
       "      <td>11XDONG-PT-----2-NGET-RMT-00001024</td>\n",
       "      <td>2</td>\n",
       "      <td>2020-12-10T16:12:00Z</td>\n",
       "      <td>2020-12-10T16:12:00Z</td>\n",
       "      <td>UnavailabilitiesOfElectricityFacilities</td>\n",
       "      <td>REMIT Information</td>\n",
       "      <td>Production unavailability</td>\n",
       "      <td>Planned</td>\n",
       "      <td>...</td>\n",
       "      <td>Wind Offshore</td>\n",
       "      <td>400</td>\n",
       "      <td>0</td>\n",
       "      <td>400</td>\n",
       "      <td>Active</td>\n",
       "      <td>2020-12-11T06:00:00Z</td>\n",
       "      <td>2020-12-11T16:00:00Z</td>\n",
       "      <td>Planned Outage</td>\n",
       "      <td>HOW01 BMU 2 will be undergoing frequency respo...</td>\n",
       "      <td>[{'startTime': '2020-12-11T06:00:00Z', 'endTim...</td>\n",
       "    </tr>\n",
       "  </tbody>\n",
       "</table>\n",
       "<p>2 rows × 28 columns</p>\n",
       "</div>"
      ],
      "text/plain": [
       "       id dataset                                mrid  revisionNumber  \\\n",
       "0   60924   REMIT  11XDONG-PT-----2-NGET-RMT-00001020               2   \n",
       "1  185054   REMIT  11XDONG-PT-----2-NGET-RMT-00001024               2   \n",
       "\n",
       "            publishTime           createdTime  \\\n",
       "0  2020-11-26T13:54:00Z  2020-11-26T13:54:00Z   \n",
       "1  2020-12-10T16:12:00Z  2020-12-10T16:12:00Z   \n",
       "\n",
       "                               messageType     messageHeading  \\\n",
       "0  UnavailabilitiesOfElectricityFacilities  REMIT Information   \n",
       "1  UnavailabilitiesOfElectricityFacilities  REMIT Information   \n",
       "\n",
       "                   eventType unavailabilityType  ...       fuelType  \\\n",
       "0  Production unavailability            Planned  ...  Wind Offshore   \n",
       "1  Production unavailability            Planned  ...  Wind Offshore   \n",
       "\n",
       "  normalCapacity availableCapacity unavailableCapacity eventStatus  \\\n",
       "0            400                 0                 400      Active   \n",
       "1            400                 0                 400      Active   \n",
       "\n",
       "         eventStartTime          eventEndTime           cause  \\\n",
       "0  2020-11-26T09:00:00Z  2020-11-26T18:00:00Z  Planned Outage   \n",
       "1  2020-12-11T06:00:00Z  2020-12-11T16:00:00Z  Planned Outage   \n",
       "\n",
       "                                  relatedInformation  \\\n",
       "0                   HOW01 Z12 Dry run interlink test   \n",
       "1  HOW01 BMU 2 will be undergoing frequency respo...   \n",
       "\n",
       "                                       outageProfile  \n",
       "0  [{'startTime': '2020-11-26T09:00:00Z', 'endTim...  \n",
       "1  [{'startTime': '2020-12-11T06:00:00Z', 'endTim...  \n",
       "\n",
       "[2 rows x 28 columns]"
      ]
     },
     "execution_count": 20,
     "metadata": {},
     "output_type": "execute_result"
    }
   ],
   "source": [
    "df.head(2)"
   ]
  },
  {
   "cell_type": "code",
   "execution_count": 21,
   "metadata": {},
   "outputs": [
    {
     "data": {
      "text/plain": [
       "Index(['id', 'dataset', 'mrid', 'revisionNumber', 'publishTime', 'createdTime',\n",
       "       'messageType', 'messageHeading', 'eventType', 'unavailabilityType',\n",
       "       'participantId', 'registrationCode', 'assetId', 'assetType',\n",
       "       'affectedUnit', 'affectedUnitEIC', 'affectedArea', 'biddingZone',\n",
       "       'fuelType', 'normalCapacity', 'availableCapacity',\n",
       "       'unavailableCapacity', 'eventStatus', 'eventStartTime', 'eventEndTime',\n",
       "       'cause', 'relatedInformation', 'outageProfile'],\n",
       "      dtype='object')"
      ]
     },
     "execution_count": 21,
     "metadata": {},
     "output_type": "execute_result"
    }
   ],
   "source": [
    "df.columns"
   ]
  },
  {
   "cell_type": "code",
   "execution_count": 22,
   "metadata": {},
   "outputs": [
    {
     "name": "stderr",
     "output_type": "stream",
     "text": [
      "C:\\Users\\Michael Jäckle\\AppData\\Local\\Temp\\ipykernel_37032\\4078416652.py:6: UserWarning: Could not infer format, so each element will be parsed individually, falling back to `dateutil`. To ensure parsing is consistent and as-expected, please specify a format.\n",
      "  df['eventStatus'] = pd.to_datetime(df['eventStatus'], errors='coerce')\n"
     ]
    }
   ],
   "source": [
    "# Konvertiere die Spalten 'publishTime' und 'createdTime' in Datetime-Objekte\n",
    "df['publishTime'] = pd.to_datetime(df['publishTime'])\n",
    "df['createdTime'] = pd.to_datetime(df['createdTime'])\n",
    "\n",
    "# Versuche, 'eventStatus' und 'eventStartTime' in Datetime-Objekte zu konvertieren; ungültige Werte werden in NaT umgewandelt\n",
    "df['eventStatus'] = pd.to_datetime(df['eventStatus'], errors='coerce')\n",
    "df['eventStartTime'] = pd.to_datetime(df['eventStartTime'], errors='coerce')"
   ]
  },
  {
   "cell_type": "code",
   "execution_count": 23,
   "metadata": {},
   "outputs": [
    {
     "data": {
      "text/plain": [
       "id                                   int64\n",
       "dataset                             object\n",
       "mrid                                object\n",
       "revisionNumber                       int64\n",
       "publishTime            datetime64[ns, UTC]\n",
       "createdTime            datetime64[ns, UTC]\n",
       "messageType                         object\n",
       "messageHeading                      object\n",
       "eventType                           object\n",
       "unavailabilityType                  object\n",
       "participantId                       object\n",
       "registrationCode                    object\n",
       "assetId                             object\n",
       "assetType                           object\n",
       "affectedUnit                        object\n",
       "affectedUnitEIC                     object\n",
       "affectedArea                        object\n",
       "biddingZone                         object\n",
       "fuelType                            object\n",
       "normalCapacity                       int64\n",
       "availableCapacity                    int64\n",
       "unavailableCapacity                  int64\n",
       "eventStatus                 datetime64[ns]\n",
       "eventStartTime         datetime64[ns, UTC]\n",
       "eventEndTime                        object\n",
       "cause                               object\n",
       "relatedInformation                  object\n",
       "outageProfile                       object\n",
       "dtype: object"
      ]
     },
     "execution_count": 23,
     "metadata": {},
     "output_type": "execute_result"
    }
   ],
   "source": [
    "df.dtypes"
   ]
  },
  {
   "cell_type": "code",
   "execution_count": 24,
   "metadata": {},
   "outputs": [
    {
     "data": {
      "text/html": [
       "<div>\n",
       "<style scoped>\n",
       "    .dataframe tbody tr th:only-of-type {\n",
       "        vertical-align: middle;\n",
       "    }\n",
       "\n",
       "    .dataframe tbody tr th {\n",
       "        vertical-align: top;\n",
       "    }\n",
       "\n",
       "    .dataframe thead th {\n",
       "        text-align: right;\n",
       "    }\n",
       "</style>\n",
       "<table border=\"1\" class=\"dataframe\">\n",
       "  <thead>\n",
       "    <tr style=\"text-align: right;\">\n",
       "      <th></th>\n",
       "      <th>id</th>\n",
       "      <th>dataset</th>\n",
       "      <th>mrid</th>\n",
       "      <th>revisionNumber</th>\n",
       "      <th>publishTime</th>\n",
       "      <th>createdTime</th>\n",
       "      <th>messageType</th>\n",
       "      <th>messageHeading</th>\n",
       "      <th>eventType</th>\n",
       "      <th>unavailabilityType</th>\n",
       "      <th>...</th>\n",
       "      <th>fuelType</th>\n",
       "      <th>normalCapacity</th>\n",
       "      <th>availableCapacity</th>\n",
       "      <th>unavailableCapacity</th>\n",
       "      <th>eventStatus</th>\n",
       "      <th>eventStartTime</th>\n",
       "      <th>eventEndTime</th>\n",
       "      <th>cause</th>\n",
       "      <th>relatedInformation</th>\n",
       "      <th>outageProfile</th>\n",
       "    </tr>\n",
       "  </thead>\n",
       "  <tbody>\n",
       "    <tr>\n",
       "      <th>0</th>\n",
       "      <td>60924</td>\n",
       "      <td>REMIT</td>\n",
       "      <td>11XDONG-PT-----2-NGET-RMT-00001020</td>\n",
       "      <td>2</td>\n",
       "      <td>2020-11-26 13:54:00+00:00</td>\n",
       "      <td>2020-11-26 13:54:00+00:00</td>\n",
       "      <td>UnavailabilitiesOfElectricityFacilities</td>\n",
       "      <td>REMIT Information</td>\n",
       "      <td>Production unavailability</td>\n",
       "      <td>Planned</td>\n",
       "      <td>...</td>\n",
       "      <td>Wind Offshore</td>\n",
       "      <td>400</td>\n",
       "      <td>0</td>\n",
       "      <td>400</td>\n",
       "      <td>NaT</td>\n",
       "      <td>2020-11-26 09:00:00+00:00</td>\n",
       "      <td>2020-11-26T18:00:00Z</td>\n",
       "      <td>Planned Outage</td>\n",
       "      <td>HOW01 Z12 Dry run interlink test</td>\n",
       "      <td>[{'startTime': '2020-11-26T09:00:00Z', 'endTim...</td>\n",
       "    </tr>\n",
       "    <tr>\n",
       "      <th>1</th>\n",
       "      <td>185054</td>\n",
       "      <td>REMIT</td>\n",
       "      <td>11XDONG-PT-----2-NGET-RMT-00001024</td>\n",
       "      <td>2</td>\n",
       "      <td>2020-12-10 16:12:00+00:00</td>\n",
       "      <td>2020-12-10 16:12:00+00:00</td>\n",
       "      <td>UnavailabilitiesOfElectricityFacilities</td>\n",
       "      <td>REMIT Information</td>\n",
       "      <td>Production unavailability</td>\n",
       "      <td>Planned</td>\n",
       "      <td>...</td>\n",
       "      <td>Wind Offshore</td>\n",
       "      <td>400</td>\n",
       "      <td>0</td>\n",
       "      <td>400</td>\n",
       "      <td>NaT</td>\n",
       "      <td>2020-12-11 06:00:00+00:00</td>\n",
       "      <td>2020-12-11T16:00:00Z</td>\n",
       "      <td>Planned Outage</td>\n",
       "      <td>HOW01 BMU 2 will be undergoing frequency respo...</td>\n",
       "      <td>[{'startTime': '2020-12-11T06:00:00Z', 'endTim...</td>\n",
       "    </tr>\n",
       "  </tbody>\n",
       "</table>\n",
       "<p>2 rows × 28 columns</p>\n",
       "</div>"
      ],
      "text/plain": [
       "       id dataset                                mrid  revisionNumber  \\\n",
       "0   60924   REMIT  11XDONG-PT-----2-NGET-RMT-00001020               2   \n",
       "1  185054   REMIT  11XDONG-PT-----2-NGET-RMT-00001024               2   \n",
       "\n",
       "                publishTime               createdTime  \\\n",
       "0 2020-11-26 13:54:00+00:00 2020-11-26 13:54:00+00:00   \n",
       "1 2020-12-10 16:12:00+00:00 2020-12-10 16:12:00+00:00   \n",
       "\n",
       "                               messageType     messageHeading  \\\n",
       "0  UnavailabilitiesOfElectricityFacilities  REMIT Information   \n",
       "1  UnavailabilitiesOfElectricityFacilities  REMIT Information   \n",
       "\n",
       "                   eventType unavailabilityType  ...       fuelType  \\\n",
       "0  Production unavailability            Planned  ...  Wind Offshore   \n",
       "1  Production unavailability            Planned  ...  Wind Offshore   \n",
       "\n",
       "  normalCapacity availableCapacity unavailableCapacity eventStatus  \\\n",
       "0            400                 0                 400         NaT   \n",
       "1            400                 0                 400         NaT   \n",
       "\n",
       "             eventStartTime          eventEndTime           cause  \\\n",
       "0 2020-11-26 09:00:00+00:00  2020-11-26T18:00:00Z  Planned Outage   \n",
       "1 2020-12-11 06:00:00+00:00  2020-12-11T16:00:00Z  Planned Outage   \n",
       "\n",
       "                                  relatedInformation  \\\n",
       "0                   HOW01 Z12 Dry run interlink test   \n",
       "1  HOW01 BMU 2 will be undergoing frequency respo...   \n",
       "\n",
       "                                       outageProfile  \n",
       "0  [{'startTime': '2020-11-26T09:00:00Z', 'endTim...  \n",
       "1  [{'startTime': '2020-12-11T06:00:00Z', 'endTim...  \n",
       "\n",
       "[2 rows x 28 columns]"
      ]
     },
     "execution_count": 24,
     "metadata": {},
     "output_type": "execute_result"
    }
   ],
   "source": [
    "df.head(2)"
   ]
  },
  {
   "cell_type": "code",
   "execution_count": 25,
   "metadata": {},
   "outputs": [
    {
     "data": {
      "text/html": [
       "<div>\n",
       "<style scoped>\n",
       "    .dataframe tbody tr th:only-of-type {\n",
       "        vertical-align: middle;\n",
       "    }\n",
       "\n",
       "    .dataframe tbody tr th {\n",
       "        vertical-align: top;\n",
       "    }\n",
       "\n",
       "    .dataframe thead th {\n",
       "        text-align: right;\n",
       "    }\n",
       "</style>\n",
       "<table border=\"1\" class=\"dataframe\">\n",
       "  <thead>\n",
       "    <tr style=\"text-align: right;\">\n",
       "      <th></th>\n",
       "      <th>startTime_1</th>\n",
       "      <th>endTime_1</th>\n",
       "      <th>capacity_1</th>\n",
       "      <th>startTime_2</th>\n",
       "      <th>endTime_2</th>\n",
       "      <th>capacity_2</th>\n",
       "      <th>startTime_3</th>\n",
       "      <th>endTime_3</th>\n",
       "      <th>capacity_3</th>\n",
       "      <th>startTime_4</th>\n",
       "      <th>...</th>\n",
       "      <th>capacity_9</th>\n",
       "      <th>startTime_10</th>\n",
       "      <th>endTime_10</th>\n",
       "      <th>capacity_10</th>\n",
       "      <th>startTime_11</th>\n",
       "      <th>endTime_11</th>\n",
       "      <th>capacity_11</th>\n",
       "      <th>startTime_12</th>\n",
       "      <th>endTime_12</th>\n",
       "      <th>capacity_12</th>\n",
       "    </tr>\n",
       "  </thead>\n",
       "  <tbody>\n",
       "    <tr>\n",
       "      <th>0</th>\n",
       "      <td>2020-11-26 09:00:00+00:00</td>\n",
       "      <td>2020-11-26 18:00:00+00:00</td>\n",
       "      <td>0.0</td>\n",
       "      <td>NaT</td>\n",
       "      <td>NaT</td>\n",
       "      <td>NaN</td>\n",
       "      <td>NaT</td>\n",
       "      <td>NaT</td>\n",
       "      <td>NaN</td>\n",
       "      <td>NaT</td>\n",
       "      <td>...</td>\n",
       "      <td>NaN</td>\n",
       "      <td>NaT</td>\n",
       "      <td>NaT</td>\n",
       "      <td>NaN</td>\n",
       "      <td>NaT</td>\n",
       "      <td>NaT</td>\n",
       "      <td>NaN</td>\n",
       "      <td>NaT</td>\n",
       "      <td>NaT</td>\n",
       "      <td>NaN</td>\n",
       "    </tr>\n",
       "    <tr>\n",
       "      <th>1</th>\n",
       "      <td>2020-12-11 06:00:00+00:00</td>\n",
       "      <td>2020-12-11 16:00:00+00:00</td>\n",
       "      <td>0.0</td>\n",
       "      <td>NaT</td>\n",
       "      <td>NaT</td>\n",
       "      <td>NaN</td>\n",
       "      <td>NaT</td>\n",
       "      <td>NaT</td>\n",
       "      <td>NaN</td>\n",
       "      <td>NaT</td>\n",
       "      <td>...</td>\n",
       "      <td>NaN</td>\n",
       "      <td>NaT</td>\n",
       "      <td>NaT</td>\n",
       "      <td>NaN</td>\n",
       "      <td>NaT</td>\n",
       "      <td>NaT</td>\n",
       "      <td>NaN</td>\n",
       "      <td>NaT</td>\n",
       "      <td>NaT</td>\n",
       "      <td>NaN</td>\n",
       "    </tr>\n",
       "  </tbody>\n",
       "</table>\n",
       "<p>2 rows × 36 columns</p>\n",
       "</div>"
      ],
      "text/plain": [
       "                startTime_1                 endTime_1  capacity_1 startTime_2  \\\n",
       "0 2020-11-26 09:00:00+00:00 2020-11-26 18:00:00+00:00         0.0         NaT   \n",
       "1 2020-12-11 06:00:00+00:00 2020-12-11 16:00:00+00:00         0.0         NaT   \n",
       "\n",
       "  endTime_2  capacity_2 startTime_3 endTime_3  capacity_3 startTime_4  ...  \\\n",
       "0       NaT         NaN         NaT       NaT         NaN         NaT  ...   \n",
       "1       NaT         NaN         NaT       NaT         NaN         NaT  ...   \n",
       "\n",
       "  capacity_9  startTime_10 endTime_10 capacity_10  startTime_11 endTime_11  \\\n",
       "0        NaN           NaT        NaT         NaN           NaT        NaT   \n",
       "1        NaN           NaT        NaT         NaN           NaT        NaT   \n",
       "\n",
       "  capacity_11  startTime_12 endTime_12 capacity_12  \n",
       "0         NaN           NaT        NaT         NaN  \n",
       "1         NaN           NaT        NaT         NaN  \n",
       "\n",
       "[2 rows x 36 columns]"
      ]
     },
     "metadata": {},
     "output_type": "display_data"
    }
   ],
   "source": [
    "# Funktion zum Extrahieren der Werte aus dem Dictionary\n",
    "def extract_values(outage_profile):\n",
    "    # Überprüfen, ob der Wert in der Spalte gültig ist\n",
    "    if isinstance(outage_profile, str):\n",
    "        # Suchen nach allen startTime, endTime und capacity Werten\n",
    "        start_times = re.findall(r\"'startTime': '(.*?)'\", outage_profile)\n",
    "        end_times = re.findall(r\"'endTime': '(.*?)'\", outage_profile)\n",
    "        capacities = re.findall(r\"'capacity': (\\d+)\", outage_profile)\n",
    "        \n",
    "        # Erstellen eines Dictionaries mit den Werten in nebeneinander liegenden Spalten\n",
    "        extracted_data = {}\n",
    "        for i in range(len(start_times)):\n",
    "            extracted_data[f'startTime_{i+1}'] = start_times[i]\n",
    "            extracted_data[f'endTime_{i+1}'] = end_times[i]\n",
    "            extracted_data[f'capacity_{i+1}'] = capacities[i]\n",
    "\n",
    "        return extracted_data\n",
    "    else:\n",
    "        return {}\n",
    "\n",
    "# Extrahieren der Werte aus der 'outageProfile'-Spalte\n",
    "extracted_values = df['outageProfile'].apply(extract_values)\n",
    "\n",
    "# Erstellen eines neuen DataFrames aus den extrahierten Werten\n",
    "extracted_df = pd.DataFrame(extracted_values.tolist())\n",
    "\n",
    "# Umwandlung der Spalten in den entsprechenden Datentyp\n",
    "for col in extracted_df.columns:\n",
    "    if 'startTime' in col or 'endTime' in col:\n",
    "        extracted_df[col] = pd.to_datetime(extracted_df[col], errors='coerce')  # Fehlerhafte Einträge werden zu NaT\n",
    "    elif 'capacity' in col:\n",
    "        extracted_df[col] = extracted_df[col].astype(float)  # Oder int, je nach Bedarf\n",
    "\n",
    "display(extracted_df.head(2))\n"
   ]
  },
  {
   "cell_type": "code",
   "execution_count": 26,
   "metadata": {},
   "outputs": [
    {
     "data": {
      "text/plain": [
       "(436, 28)"
      ]
     },
     "execution_count": 26,
     "metadata": {},
     "output_type": "execute_result"
    }
   ],
   "source": [
    "df.shape"
   ]
  },
  {
   "cell_type": "code",
   "execution_count": 27,
   "metadata": {},
   "outputs": [
    {
     "name": "stdout",
     "output_type": "stream",
     "text": [
      "[Timestamp('2020-01-29 15:52:00+0000', tz='UTC'), Timestamp('2020-01-31 13:04:00+0000', tz='UTC'), Timestamp('2020-02-02 06:40:00+0000', tz='UTC'), Timestamp('2020-02-02 07:11:00+0000', tz='UTC'), Timestamp('2020-02-02 08:44:00+0000', tz='UTC'), Timestamp('2020-02-03 11:19:00+0000', tz='UTC'), Timestamp('2020-02-06 11:03:00+0000', tz='UTC'), Timestamp('2020-02-10 18:21:00+0000', tz='UTC'), Timestamp('2020-02-13 11:06:00+0000', tz='UTC'), Timestamp('2020-02-14 09:43:00+0000', tz='UTC'), Timestamp('2020-02-15 15:06:00+0000', tz='UTC'), Timestamp('2020-02-17 15:05:00+0000', tz='UTC'), Timestamp('2020-02-24 10:50:00+0000', tz='UTC'), Timestamp('2020-02-25 14:39:00+0000', tz='UTC'), Timestamp('2020-02-28 13:14:00+0000', tz='UTC'), Timestamp('2020-02-28 13:18:00+0000', tz='UTC'), Timestamp('2020-03-04 23:16:00+0000', tz='UTC'), Timestamp('2020-03-04 23:22:00+0000', tz='UTC'), Timestamp('2020-03-05 15:02:00+0000', tz='UTC'), Timestamp('2020-03-06 12:51:00+0000', tz='UTC'), Timestamp('2020-03-06 19:33:00+0000', tz='UTC'), Timestamp('2020-03-09 08:56:00+0000', tz='UTC'), Timestamp('2020-03-12 06:38:00+0000', tz='UTC'), Timestamp('2020-03-12 18:56:00+0000', tz='UTC'), Timestamp('2020-03-13 09:36:00+0000', tz='UTC'), Timestamp('2020-03-13 14:36:00+0000', tz='UTC'), Timestamp('2020-03-14 06:32:00+0000', tz='UTC'), Timestamp('2020-03-14 11:41:00+0000', tz='UTC'), Timestamp('2020-03-19 06:32:00+0000', tz='UTC'), Timestamp('2020-03-20 10:22:00+0000', tz='UTC'), Timestamp('2020-03-24 09:36:00+0000', tz='UTC'), Timestamp('2020-03-24 15:46:00+0000', tz='UTC'), Timestamp('2020-03-27 15:35:00+0000', tz='UTC'), Timestamp('2020-03-30 13:53:00+0000', tz='UTC'), Timestamp('2020-04-02 08:52:00+0000', tz='UTC'), Timestamp('2020-04-02 16:13:00+0000', tz='UTC'), Timestamp('2020-04-03 01:16:00+0000', tz='UTC'), Timestamp('2020-04-03 08:02:00+0000', tz='UTC'), Timestamp('2020-04-03 10:30:00+0000', tz='UTC'), Timestamp('2020-04-04 14:55:00+0000', tz='UTC'), Timestamp('2020-04-04 14:58:00+0000', tz='UTC'), Timestamp('2020-04-06 15:51:00+0000', tz='UTC'), Timestamp('2020-04-07 07:28:00+0000', tz='UTC'), Timestamp('2020-04-07 13:39:00+0000', tz='UTC'), Timestamp('2020-04-08 13:28:00+0000', tz='UTC'), Timestamp('2020-04-18 18:59:00+0000', tz='UTC'), Timestamp('2020-04-18 23:51:00+0000', tz='UTC'), Timestamp('2020-04-19 00:02:00+0000', tz='UTC'), Timestamp('2020-04-19 09:35:00+0000', tz='UTC'), Timestamp('2020-04-20 09:01:00+0000', tz='UTC'), Timestamp('2020-04-20 17:40:00+0000', tz='UTC'), Timestamp('2020-04-20 17:42:00+0000', tz='UTC'), Timestamp('2020-04-21 09:36:00+0000', tz='UTC'), Timestamp('2020-04-21 10:08:00+0000', tz='UTC'), Timestamp('2020-04-21 10:09:00+0000', tz='UTC'), Timestamp('2020-04-21 10:10:00+0000', tz='UTC'), Timestamp('2020-04-21 10:48:00+0000', tz='UTC'), Timestamp('2020-04-21 11:00:00+0000', tz='UTC'), Timestamp('2020-04-21 11:01:00+0000', tz='UTC'), Timestamp('2020-04-21 12:56:00+0000', tz='UTC'), Timestamp('2020-04-21 13:02:00+0000', tz='UTC'), Timestamp('2020-04-21 13:03:00+0000', tz='UTC'), Timestamp('2020-04-24 15:53:00+0000', tz='UTC'), Timestamp('2020-04-26 11:42:00+0000', tz='UTC'), Timestamp('2020-05-01 16:51:00+0000', tz='UTC'), Timestamp('2020-05-01 16:53:00+0000', tz='UTC'), Timestamp('2020-05-03 17:43:00+0000', tz='UTC'), Timestamp('2020-05-22 23:28:00+0000', tz='UTC'), Timestamp('2020-05-23 00:08:00+0000', tz='UTC'), Timestamp('2020-05-29 13:48:00+0000', tz='UTC'), Timestamp('2020-05-29 13:49:00+0000', tz='UTC'), Timestamp('2020-05-29 14:00:00+0000', tz='UTC'), Timestamp('2020-05-30 13:55:00+0000', tz='UTC'), Timestamp('2020-05-30 13:56:00+0000', tz='UTC'), Timestamp('2020-06-01 16:01:00+0000', tz='UTC'), Timestamp('2020-06-01 16:02:00+0000', tz='UTC'), Timestamp('2020-06-02 15:42:00+0000', tz='UTC'), Timestamp('2020-06-02 15:43:00+0000', tz='UTC'), Timestamp('2020-06-10 14:40:00+0000', tz='UTC'), Timestamp('2020-06-15 05:34:00+0000', tz='UTC'), Timestamp('2020-06-15 06:30:00+0000', tz='UTC'), Timestamp('2020-06-17 12:50:00+0000', tz='UTC'), Timestamp('2020-06-18 14:07:00+0000', tz='UTC'), Timestamp('2020-06-18 18:34:00+0000', tz='UTC'), Timestamp('2020-06-19 10:32:00+0000', tz='UTC'), Timestamp('2020-06-23 15:47:00+0000', tz='UTC'), Timestamp('2020-06-23 19:30:00+0000', tz='UTC'), Timestamp('2020-06-24 14:25:00+0000', tz='UTC'), Timestamp('2020-06-24 14:39:00+0000', tz='UTC'), Timestamp('2020-06-30 13:35:00+0000', tz='UTC'), Timestamp('2020-07-06 12:16:00+0000', tz='UTC'), Timestamp('2020-07-06 12:17:00+0000', tz='UTC'), Timestamp('2020-07-06 13:11:00+0000', tz='UTC'), Timestamp('2020-07-06 13:14:00+0000', tz='UTC'), Timestamp('2020-07-06 14:46:00+0000', tz='UTC'), Timestamp('2020-07-06 14:47:00+0000', tz='UTC'), Timestamp('2020-07-06 17:49:00+0000', tz='UTC'), Timestamp('2020-07-06 17:50:00+0000', tz='UTC'), Timestamp('2020-07-06 19:24:00+0000', tz='UTC'), Timestamp('2020-09-09 14:37:00+0000', tz='UTC'), Timestamp('2020-09-09 14:39:00+0000', tz='UTC'), Timestamp('2020-09-09 14:40:00+0000', tz='UTC'), Timestamp('2020-09-11 15:02:00+0000', tz='UTC'), Timestamp('2020-09-11 17:34:00+0000', tz='UTC'), Timestamp('2020-09-16 00:13:00+0000', tz='UTC'), Timestamp('2020-09-16 00:17:00+0000', tz='UTC'), Timestamp('2020-09-16 00:18:00+0000', tz='UTC'), Timestamp('2020-09-16 00:24:00+0000', tz='UTC'), Timestamp('2020-09-16 00:25:00+0000', tz='UTC'), Timestamp('2020-09-16 00:26:00+0000', tz='UTC'), Timestamp('2020-09-21 11:42:00+0000', tz='UTC'), Timestamp('2020-09-23 07:56:00+0000', tz='UTC'), Timestamp('2020-09-23 12:12:00+0000', tz='UTC'), Timestamp('2020-09-23 13:33:00+0000', tz='UTC'), Timestamp('2020-09-24 07:35:00+0000', tz='UTC'), Timestamp('2020-09-24 08:03:00+0000', tz='UTC'), Timestamp('2020-09-28 09:13:00+0000', tz='UTC'), Timestamp('2020-09-28 10:31:00+0000', tz='UTC'), Timestamp('2020-09-29 13:02:00+0000', tz='UTC'), Timestamp('2020-09-29 16:39:00+0000', tz='UTC'), Timestamp('2020-09-29 17:34:00+0000', tz='UTC'), Timestamp('2020-09-30 09:57:00+0000', tz='UTC'), Timestamp('2020-10-19 11:31:00+0000', tz='UTC'), Timestamp('2020-10-20 09:00:00+0000', tz='UTC'), Timestamp('2020-10-22 16:04:00+0000', tz='UTC'), Timestamp('2020-10-27 15:50:00+0000', tz='UTC'), Timestamp('2020-10-30 11:25:00+0000', tz='UTC'), Timestamp('2020-10-30 11:27:00+0000', tz='UTC'), Timestamp('2020-10-30 11:28:00+0000', tz='UTC'), Timestamp('2020-10-30 11:29:00+0000', tz='UTC'), Timestamp('2020-10-30 13:41:00+0000', tz='UTC'), Timestamp('2020-10-30 17:02:00+0000', tz='UTC'), Timestamp('2020-10-30 17:03:00+0000', tz='UTC'), Timestamp('2020-10-30 21:28:00+0000', tz='UTC'), Timestamp('2020-10-30 21:29:00+0000', tz='UTC'), Timestamp('2020-10-30 21:30:00+0000', tz='UTC'), Timestamp('2020-10-30 23:41:00+0000', tz='UTC'), Timestamp('2020-10-30 23:50:00+0000', tz='UTC'), Timestamp('2020-10-31 00:26:00+0000', tz='UTC'), Timestamp('2020-10-31 00:34:00+0000', tz='UTC'), Timestamp('2020-10-31 00:37:00+0000', tz='UTC'), Timestamp('2020-10-31 00:38:00+0000', tz='UTC'), Timestamp('2020-10-31 01:39:00+0000', tz='UTC'), Timestamp('2020-11-16 14:32:00+0000', tz='UTC'), Timestamp('2020-11-17 18:53:00+0000', tz='UTC'), Timestamp('2020-11-19 15:58:00+0000', tz='UTC'), Timestamp('2020-11-20 16:03:00+0000', tz='UTC'), Timestamp('2020-11-24 12:00:00+0000', tz='UTC'), Timestamp('2020-11-24 12:50:00+0000', tz='UTC'), Timestamp('2020-11-24 12:53:00+0000', tz='UTC'), Timestamp('2020-11-24 15:55:00+0000', tz='UTC'), Timestamp('2020-11-26 13:53:00+0000', tz='UTC'), Timestamp('2020-11-26 13:54:00+0000', tz='UTC'), Timestamp('2020-12-07 21:19:00+0000', tz='UTC'), Timestamp('2020-12-10 16:12:00+0000', tz='UTC'), Timestamp('2020-12-13 19:13:00+0000', tz='UTC'), Timestamp('2020-12-14 09:29:00+0000', tz='UTC'), Timestamp('2020-12-22 02:54:00+0000', tz='UTC'), Timestamp('2021-01-01 10:57:00+0000', tz='UTC'), Timestamp('2021-01-02 12:48:00+0000', tz='UTC'), Timestamp('2021-01-02 23:40:00+0000', tz='UTC'), Timestamp('2021-01-05 15:42:00+0000', tz='UTC'), Timestamp('2021-01-06 05:04:00+0000', tz='UTC'), Timestamp('2021-01-06 05:25:00+0000', tz='UTC'), Timestamp('2021-01-06 15:00:00+0000', tz='UTC'), Timestamp('2021-01-08 02:55:00+0000', tz='UTC'), Timestamp('2021-01-09 12:31:00+0000', tz='UTC'), Timestamp('2021-01-10 01:02:00+0000', tz='UTC'), Timestamp('2021-01-10 01:04:00+0000', tz='UTC'), Timestamp('2021-01-10 13:01:00+0000', tz='UTC'), Timestamp('2021-01-10 15:50:00+0000', tz='UTC'), Timestamp('2021-01-10 15:51:00+0000', tz='UTC'), Timestamp('2021-01-10 17:31:00+0000', tz='UTC'), Timestamp('2021-01-10 17:35:00+0000', tz='UTC'), Timestamp('2021-01-13 10:13:00+0000', tz='UTC'), Timestamp('2021-01-13 10:16:00+0000', tz='UTC'), Timestamp('2021-01-18 15:12:00+0000', tz='UTC'), Timestamp('2021-01-18 16:39:00+0000', tz='UTC'), Timestamp('2021-01-18 16:42:00+0000', tz='UTC'), Timestamp('2021-01-18 16:44:00+0000', tz='UTC'), Timestamp('2021-01-19 09:19:00+0000', tz='UTC'), Timestamp('2021-01-19 13:37:00+0000', tz='UTC'), Timestamp('2021-01-20 08:00:00+0000', tz='UTC'), Timestamp('2021-01-20 13:35:00+0000', tz='UTC'), Timestamp('2021-01-20 13:38:00+0000', tz='UTC'), Timestamp('2021-01-21 05:03:00+0000', tz='UTC'), Timestamp('2021-01-21 07:52:00+0000', tz='UTC'), Timestamp('2021-01-21 14:10:00+0000', tz='UTC'), Timestamp('2021-01-21 17:44:00+0000', tz='UTC'), Timestamp('2021-01-22 12:02:00+0000', tz='UTC'), Timestamp('2021-01-23 18:26:00+0000', tz='UTC'), Timestamp('2021-01-23 18:30:00+0000', tz='UTC'), Timestamp('2021-01-24 08:46:00+0000', tz='UTC'), Timestamp('2021-01-24 08:50:00+0000', tz='UTC'), Timestamp('2021-01-26 08:54:00+0000', tz='UTC'), Timestamp('2021-01-26 13:40:00+0000', tz='UTC'), Timestamp('2021-01-26 16:20:00+0000', tz='UTC'), Timestamp('2021-01-26 16:22:00+0000', tz='UTC'), Timestamp('2021-01-27 08:30:00+0000', tz='UTC'), Timestamp('2021-01-28 08:08:00+0000', tz='UTC'), Timestamp('2021-01-29 08:20:00+0000', tz='UTC'), Timestamp('2021-01-30 18:51:00+0000', tz='UTC'), Timestamp('2021-02-03 07:56:00+0000', tz='UTC'), Timestamp('2021-02-04 08:31:00+0000', tz='UTC'), Timestamp('2021-02-05 06:35:00+0000', tz='UTC'), Timestamp('2021-02-05 09:16:00+0000', tz='UTC'), Timestamp('2021-02-05 10:18:00+0000', tz='UTC'), Timestamp('2021-02-08 10:52:00+0000', tz='UTC'), Timestamp('2021-02-08 11:38:00+0000', tz='UTC'), Timestamp('2021-02-13 15:22:00+0000', tz='UTC'), Timestamp('2021-02-13 15:24:00+0000', tz='UTC'), Timestamp('2021-02-13 15:40:00+0000', tz='UTC'), Timestamp('2021-02-13 15:44:00+0000', tz='UTC'), Timestamp('2021-02-17 11:47:00+0000', tz='UTC'), Timestamp('2021-02-17 11:48:00+0000', tz='UTC'), Timestamp('2021-02-17 12:03:00+0000', tz='UTC'), Timestamp('2021-02-17 12:04:00+0000', tz='UTC'), Timestamp('2021-02-21 08:47:00+0000', tz='UTC'), Timestamp('2021-02-21 08:49:00+0000', tz='UTC'), Timestamp('2021-03-19 22:22:00+0000', tz='UTC'), Timestamp('2021-03-19 22:23:00+0000', tz='UTC'), Timestamp('2021-03-19 22:25:00+0000', tz='UTC'), Timestamp('2021-03-20 09:21:00+0000', tz='UTC'), Timestamp('2021-03-20 09:22:00+0000', tz='UTC'), Timestamp('2021-03-20 09:24:00+0000', tz='UTC'), Timestamp('2021-03-20 12:28:00+0000', tz='UTC'), Timestamp('2021-03-20 12:29:00+0000', tz='UTC'), Timestamp('2021-03-20 16:27:00+0000', tz='UTC'), Timestamp('2021-03-20 16:28:00+0000', tz='UTC'), Timestamp('2021-03-20 17:17:00+0000', tz='UTC'), Timestamp('2021-03-20 17:18:00+0000', tz='UTC'), Timestamp('2021-05-21 06:23:00+0000', tz='UTC'), Timestamp('2021-05-21 06:26:00+0000', tz='UTC'), Timestamp('2021-05-21 14:57:00+0000', tz='UTC'), Timestamp('2021-05-21 14:58:00+0000', tz='UTC'), Timestamp('2021-06-07 06:55:00+0000', tz='UTC'), Timestamp('2021-06-07 06:57:00+0000', tz='UTC'), Timestamp('2021-06-07 06:59:00+0000', tz='UTC'), Timestamp('2021-08-27 14:25:00+0000', tz='UTC'), Timestamp('2021-08-31 07:33:00+0000', tz='UTC'), Timestamp('2021-08-31 12:44:00+0000', tz='UTC'), Timestamp('2021-08-31 12:46:00+0000', tz='UTC'), Timestamp('2021-08-31 12:47:00+0000', tz='UTC'), Timestamp('2021-08-31 15:34:00+0000', tz='UTC'), Timestamp('2021-09-08 19:18:00+0000', tz='UTC'), Timestamp('2021-09-08 19:20:00+0000', tz='UTC'), Timestamp('2021-09-10 17:06:00+0000', tz='UTC'), Timestamp('2021-09-11 17:20:00+0000', tz='UTC'), Timestamp('2021-09-12 06:28:00+0000', tz='UTC'), Timestamp('2021-09-15 16:35:00+0000', tz='UTC'), Timestamp('2021-09-16 12:36:00+0000', tz='UTC'), Timestamp('2021-09-17 13:38:00+0000', tz='UTC'), Timestamp('2021-09-17 19:58:00+0000', tz='UTC'), Timestamp('2021-09-17 20:00:00+0000', tz='UTC'), Timestamp('2021-09-17 20:38:00+0000', tz='UTC'), Timestamp('2022-01-24 11:45:00+0000', tz='UTC'), Timestamp('2022-01-24 11:48:00+0000', tz='UTC'), Timestamp('2022-05-10 15:30:00+0000', tz='UTC'), Timestamp('2022-05-10 15:44:00+0000', tz='UTC'), Timestamp('2022-06-15 11:06:00+0000', tz='UTC'), Timestamp('2022-06-15 11:10:00+0000', tz='UTC'), Timestamp('2022-06-16 13:53:00+0000', tz='UTC'), Timestamp('2022-06-24 09:05:00+0000', tz='UTC'), Timestamp('2022-06-24 16:26:00+0000', tz='UTC'), Timestamp('2022-06-28 19:42:00+0000', tz='UTC'), Timestamp('2022-06-28 19:43:00+0000', tz='UTC'), Timestamp('2022-07-22 07:37:00+0000', tz='UTC'), Timestamp('2022-09-20 07:40:00+0000', tz='UTC'), Timestamp('2022-09-20 07:42:00+0000', tz='UTC'), Timestamp('2022-09-20 07:45:00+0000', tz='UTC'), Timestamp('2023-02-06 12:47:00+0000', tz='UTC'), Timestamp('2023-02-06 12:48:00+0000', tz='UTC'), Timestamp('2023-02-06 12:50:00+0000', tz='UTC'), Timestamp('2023-02-07 13:03:00+0000', tz='UTC'), Timestamp('2023-02-07 13:04:00+0000', tz='UTC'), Timestamp('2023-02-07 13:06:00+0000', tz='UTC'), Timestamp('2023-04-24 07:04:00+0000', tz='UTC'), Timestamp('2023-04-24 07:05:00+0000', tz='UTC'), Timestamp('2023-04-24 07:07:00+0000', tz='UTC'), Timestamp('2023-04-24 08:19:00+0000', tz='UTC'), Timestamp('2023-04-24 08:20:00+0000', tz='UTC'), Timestamp('2023-04-24 08:21:00+0000', tz='UTC'), Timestamp('2023-04-24 10:26:00+0000', tz='UTC'), Timestamp('2023-04-24 10:27:00+0000', tz='UTC'), Timestamp('2023-04-24 10:28:00+0000', tz='UTC'), Timestamp('2023-04-25 08:20:00+0000', tz='UTC'), Timestamp('2023-04-25 08:21:00+0000', tz='UTC'), Timestamp('2023-04-25 08:22:00+0000', tz='UTC'), Timestamp('2023-07-17 10:42:04+0000', tz='UTC'), Timestamp('2023-07-18 14:12:03+0000', tz='UTC'), Timestamp('2023-07-18 14:12:04+0000', tz='UTC'), Timestamp('2023-07-20 03:06:40+0000', tz='UTC'), Timestamp('2023-07-21 07:30:07+0000', tz='UTC'), Timestamp('2023-07-23 07:18:03+0000', tz='UTC'), Timestamp('2023-07-24 07:00:04+0000', tz='UTC'), Timestamp('2023-07-24 11:00:04+0000', tz='UTC'), Timestamp('2023-07-25 12:12:06+0000', tz='UTC'), Timestamp('2023-07-25 14:35:35+0000', tz='UTC'), Timestamp('2023-07-25 16:24:05+0000', tz='UTC'), Timestamp('2023-07-26 11:42:03+0000', tz='UTC'), Timestamp('2023-07-26 13:00:06+0000', tz='UTC'), Timestamp('2023-07-27 12:30:06+0000', tz='UTC'), Timestamp('2024-01-19 08:06:03+0000', tz='UTC'), Timestamp('2024-01-19 13:12:03+0000', tz='UTC'), Timestamp('2024-01-19 17:06:03+0000', tz='UTC'), Timestamp('2024-01-20 01:00:03+0000', tz='UTC'), Timestamp('2024-01-20 09:39:03+0000', tz='UTC'), Timestamp('2024-01-20 09:45:02+0000', tz='UTC'), Timestamp('2024-01-22 22:52:02+0000', tz='UTC'), Timestamp('2024-01-23 09:46:01+0000', tz='UTC'), Timestamp('2024-01-23 11:34:01+0000', tz='UTC'), Timestamp('2024-01-23 14:16:01+0000', tz='UTC'), Timestamp('2024-01-23 18:28:01+0000', tz='UTC'), Timestamp('2024-01-23 18:34:01+0000', tz='UTC'), Timestamp('2024-01-24 20:16:01+0000', tz='UTC'), Timestamp('2024-01-25 00:04:01+0000', tz='UTC'), Timestamp('2024-01-26 18:16:01+0000', tz='UTC'), Timestamp('2024-01-27 04:40:02+0000', tz='UTC'), Timestamp('2024-01-27 17:28:01+0000', tz='UTC'), Timestamp('2024-01-28 10:10:01+0000', tz='UTC'), Timestamp('2024-01-28 11:40:02+0000', tz='UTC'), Timestamp('2024-01-28 13:34:01+0000', tz='UTC'), Timestamp('2024-01-29 02:16:02+0000', tz='UTC'), Timestamp('2024-01-29 02:34:01+0000', tz='UTC'), Timestamp('2024-01-30 09:22:01+0000', tz='UTC'), Timestamp('2024-01-30 12:28:01+0000', tz='UTC'), Timestamp('2024-02-13 18:04:01+0000', tz='UTC'), Timestamp('2024-02-13 18:10:01+0000', tz='UTC'), Timestamp('2024-02-21 14:58:01+0000', tz='UTC'), Timestamp('2024-02-23 17:46:00+0000', tz='UTC'), Timestamp('2024-02-23 19:34:01+0000', tz='UTC'), Timestamp('2024-02-23 21:22:01+0000', tz='UTC'), Timestamp('2024-02-24 11:37:01+0000', tz='UTC'), Timestamp('2024-02-24 14:43:01+0000', tz='UTC'), Timestamp('2024-02-25 06:55:01+0000', tz='UTC'), Timestamp('2024-02-25 21:07:01+0000', tz='UTC'), Timestamp('2024-02-25 21:37:00+0000', tz='UTC'), Timestamp('2024-02-26 01:13:01+0000', tz='UTC'), Timestamp('2024-02-26 05:19:01+0000', tz='UTC'), Timestamp('2024-03-28 14:20:28+0000', tz='UTC'), Timestamp('2024-03-28 14:20:29+0000', tz='UTC'), Timestamp('2024-04-29 08:34:17+0000', tz='UTC'), Timestamp('2024-04-29 08:40:18+0000', tz='UTC'), Timestamp('2024-04-30 09:10:15+0000', tz='UTC'), Timestamp('2024-04-30 09:16:15+0000', tz='UTC'), Timestamp('2024-05-01 11:07:41+0000', tz='UTC'), Timestamp('2024-05-01 11:13:40+0000', tz='UTC'), Timestamp('2024-05-02 07:13:35+0000', tz='UTC'), Timestamp('2024-05-02 07:19:37+0000', tz='UTC'), Timestamp('2024-05-03 07:06:32+0000', tz='UTC'), Timestamp('2024-05-03 07:06:33+0000', tz='UTC'), Timestamp('2024-05-03 14:24:34+0000', tz='UTC'), Timestamp('2024-05-04 15:54:35+0000', tz='UTC'), Timestamp('2024-05-04 16:00:36+0000', tz='UTC'), Timestamp('2024-05-09 06:06:41+0000', tz='UTC'), Timestamp('2024-05-20 15:01:07+0000', tz='UTC'), Timestamp('2024-05-21 08:43:01+0000', tz='UTC'), Timestamp('2024-05-23 09:13:08+0000', tz='UTC'), Timestamp('2024-05-24 08:19:06+0000', tz='UTC'), Timestamp('2024-05-24 16:25:06+0000', tz='UTC'), Timestamp('2024-05-24 16:25:07+0000', tz='UTC'), Timestamp('2024-05-25 09:25:05+0000', tz='UTC'), Timestamp('2024-05-25 09:25:07+0000', tz='UTC'), Timestamp('2024-05-27 15:43:17+0000', tz='UTC'), Timestamp('2024-05-28 15:37:03+0000', tz='UTC'), Timestamp('2024-05-28 22:07:07+0000', tz='UTC'), Timestamp('2024-05-30 07:38:30+0000', tz='UTC'), Timestamp('2024-05-30 15:20:38+0000', tz='UTC'), Timestamp('2024-05-31 07:26:26+0000', tz='UTC'), Timestamp('2024-05-31 07:32:27+0000', tz='UTC'), Timestamp('2024-05-31 14:32:32+0000', tz='UTC'), Timestamp('2024-06-01 22:38:39+0000', tz='UTC'), Timestamp('2024-06-03 11:26:34+0000', tz='UTC'), Timestamp('2024-06-04 09:56:33+0000', tz='UTC'), Timestamp('2024-06-11 08:01:35+0000', tz='UTC'), Timestamp('2024-06-11 08:01:36+0000', tz='UTC'), Timestamp('2024-06-11 08:07:36+0000', tz='UTC'), Timestamp('2024-06-11 08:37:27+0000', tz='UTC'), Timestamp('2024-06-11 08:37:28+0000', tz='UTC'), Timestamp('2024-06-12 13:19:28+0000', tz='UTC'), Timestamp('2024-06-13 16:31:37+0000', tz='UTC'), Timestamp('2024-06-13 16:31:50+0000', tz='UTC'), Timestamp('2024-06-13 16:31:51+0000', tz='UTC'), Timestamp('2024-06-13 18:37:32+0000', tz='UTC'), Timestamp('2024-06-19 11:46:30+0000', tz='UTC'), Timestamp('2024-06-19 11:52:33+0000', tz='UTC'), Timestamp('2024-08-27 14:17:57+0000', tz='UTC'), Timestamp('2024-08-27 14:18:00+0000', tz='UTC'), Timestamp('2024-08-27 14:23:58+0000', tz='UTC'), Timestamp('2024-09-18 09:21:34+0000', tz='UTC'), Timestamp('2024-09-18 09:27:49+0000', tz='UTC'), Timestamp('2024-09-18 18:03:30+0000', tz='UTC'), Timestamp('2024-09-18 18:09:32+0000', tz='UTC'), Timestamp('2024-09-19 02:27:27+0000', tz='UTC'), Timestamp('2024-09-19 08:33:30+0000', tz='UTC'), Timestamp('2024-09-19 08:39:31+0000', tz='UTC'), Timestamp('2024-09-20 11:51:24+0000', tz='UTC'), Timestamp('2024-09-26 09:57:50+0000', tz='UTC'), Timestamp('2024-09-26 09:58:03+0000', tz='UTC'), Timestamp('2024-09-29 16:45:46+0000', tz='UTC'), Timestamp('2024-09-29 16:51:48+0000', tz='UTC'), Timestamp('2024-09-29 19:03:50+0000', tz='UTC'), Timestamp('2024-09-29 19:09:55+0000', tz='UTC')]\n"
     ]
    },
    {
     "data": {
      "text/plain": [
       "publishTime\n",
       "2024-06-13 18:37:32+00:00    3\n",
       "2024-01-30 09:22:01+00:00    3\n",
       "2023-07-17 10:42:04+00:00    3\n",
       "2024-09-20 11:51:24+00:00    3\n",
       "2020-10-30 13:41:00+00:00    3\n",
       "                            ..\n",
       "2020-10-30 21:28:00+00:00    1\n",
       "2020-10-30 17:02:00+00:00    1\n",
       "2020-10-30 11:29:00+00:00    1\n",
       "2020-10-30 11:28:00+00:00    1\n",
       "2021-01-30 18:51:00+00:00    1\n",
       "Name: id, Length: 403, dtype: int64"
      ]
     },
     "execution_count": 27,
     "metadata": {},
     "output_type": "execute_result"
    }
   ],
   "source": [
    "# Gruppiere den DataFrame 'df' nach 'publishTime' und zähle die Anzahl der 'id'-Einträge in jeder Gruppe\n",
    "df_publishTime = df.groupby(['publishTime'])['id'].count()\n",
    "\n",
    "# Gebe die Liste der 'publishTime'-Indizes aus\n",
    "print(df_publishTime.index.tolist())\n",
    "\n",
    "# Sortiere die Ergebnisse in absteigender Reihenfolge\n",
    "df_publishTime.sort_values(ascending=False)\n"
   ]
  },
  {
   "cell_type": "code",
   "execution_count": 28,
   "metadata": {},
   "outputs": [
    {
     "data": {
      "text/plain": [
       "id\n",
       "17114     1\n",
       "237732    1\n",
       "237646    1\n",
       "237163    1\n",
       "235892    1\n",
       "         ..\n",
       "184114    1\n",
       "184009    1\n",
       "183862    1\n",
       "187671    1\n",
       "788819    1\n",
       "Name: dataset, Length: 436, dtype: int64"
      ]
     },
     "execution_count": 28,
     "metadata": {},
     "output_type": "execute_result"
    }
   ],
   "source": [
    "# Jede ID kommt nur einmal im Datensatz vor\n",
    "\n",
    "# Gruppiere den DataFrame 'df' nach 'id' und zähle die Anzahl der 'dataset'-Einträge in jeder Gruppe\n",
    "df_id = df.groupby(['id'])['dataset'].count()\n",
    "\n",
    "# Sortiere die Ergebnisse in aufsteigender Reihenfolge\n",
    "df_id.sort_values()"
   ]
  },
  {
   "cell_type": "code",
   "execution_count": 29,
   "metadata": {},
   "outputs": [
    {
     "data": {
      "text/plain": [
       "dataset\n",
       "REMIT    436\n",
       "Name: id, dtype: int64"
      ]
     },
     "execution_count": 29,
     "metadata": {},
     "output_type": "execute_result"
    }
   ],
   "source": [
    "# In dieser Spalte ist nur  REMIT\n",
    "\n",
    "# Gruppiere nach 'dataset' und zähle 'id'\n",
    "df_dataset = df.groupby(['dataset'])['id'].count()\n",
    "df_dataset"
   ]
  },
  {
   "cell_type": "code",
   "execution_count": 30,
   "metadata": {},
   "outputs": [
    {
     "data": {
      "text/plain": [
       "mrid\n",
       "11XDONG-PT-----2-NGET-RMT-00000825    15\n",
       "11XDONG-PT-----2-NGET-RMT-00000828     2\n",
       "11XDONG-PT-----2-NGET-RMT-00000831    14\n",
       "11XDONG-PT-----2-NGET-RMT-00000833     2\n",
       "11XDONG-PT-----2-NGET-RMT-00000843     2\n",
       "                                      ..\n",
       "11XDONG-PT-----2-NGET-RMT-00002046     3\n",
       "11XDONG-PT-----2-NGET-RMT-00002048     3\n",
       "11XDONG-PT-----2-NGET-RMT-00002055     2\n",
       "11XDONG-PT-----2-NGET-RMT-00002057     2\n",
       "11XDONG-PT-----2-NGET-RMT-00002059     2\n",
       "Name: id, Length: 151, dtype: int64"
      ]
     },
     "execution_count": 30,
     "metadata": {},
     "output_type": "execute_result"
    }
   ],
   "source": [
    "# Gruppiere nach 'mrid' und zähle 'id'\n",
    "df_mrid = df.groupby(['mrid'])['id'].count()\n",
    "df_mrid"
   ]
  },
  {
   "cell_type": "code",
   "execution_count": 31,
   "metadata": {},
   "outputs": [
    {
     "name": "stdout",
     "output_type": "stream",
     "text": [
      "[1, 2, 3, 4, 5, 6, 7, 8, 9, 10, 11, 12, 13, 14, 15, 16, 17, 18, 19, 20, 21, 22, 23, 24]\n"
     ]
    },
    {
     "data": {
      "text/plain": [
       "revisionNumber\n",
       "1     151\n",
       "2     109\n",
       "3      51\n",
       "4      30\n",
       "5      16\n",
       "6      11\n",
       "7       9\n",
       "8       7\n",
       "9       7\n",
       "10      6\n",
       "11      6\n",
       "12      6\n",
       "13      6\n",
       "14      5\n",
       "15      4\n",
       "16      2\n",
       "17      2\n",
       "18      2\n",
       "19      1\n",
       "20      1\n",
       "21      1\n",
       "22      1\n",
       "23      1\n",
       "24      1\n",
       "Name: id, dtype: int64"
      ]
     },
     "execution_count": 31,
     "metadata": {},
     "output_type": "execute_result"
    }
   ],
   "source": [
    "# Gruppiere nach 'revisionNumber' und zähle 'id'\n",
    "df_revisionNumber = df.groupby(['revisionNumber'])['id'].count()\n",
    "\n",
    "# Liste der eindeutigen 'revisionNumber'-Werte ausgibt\n",
    "print(df_revisionNumber.index.tolist())\n",
    "df_revisionNumber"
   ]
  },
  {
   "cell_type": "code",
   "execution_count": 32,
   "metadata": {},
   "outputs": [
    {
     "name": "stdout",
     "output_type": "stream",
     "text": [
      "[Timestamp('2020-01-29 15:52:00+0000', tz='UTC'), Timestamp('2020-01-31 13:04:00+0000', tz='UTC'), Timestamp('2020-02-02 06:40:00+0000', tz='UTC'), Timestamp('2020-02-02 07:11:00+0000', tz='UTC'), Timestamp('2020-02-02 08:44:00+0000', tz='UTC'), Timestamp('2020-02-03 11:19:00+0000', tz='UTC'), Timestamp('2020-02-06 11:03:00+0000', tz='UTC'), Timestamp('2020-02-10 18:21:00+0000', tz='UTC'), Timestamp('2020-02-13 11:06:00+0000', tz='UTC'), Timestamp('2020-02-14 09:43:00+0000', tz='UTC'), Timestamp('2020-02-15 15:06:00+0000', tz='UTC'), Timestamp('2020-02-17 15:05:00+0000', tz='UTC'), Timestamp('2020-02-24 10:50:00+0000', tz='UTC'), Timestamp('2020-02-25 14:39:00+0000', tz='UTC'), Timestamp('2020-02-28 13:14:00+0000', tz='UTC'), Timestamp('2020-02-28 13:18:00+0000', tz='UTC'), Timestamp('2020-03-04 23:16:00+0000', tz='UTC'), Timestamp('2020-03-04 23:22:00+0000', tz='UTC'), Timestamp('2020-03-05 15:02:00+0000', tz='UTC'), Timestamp('2020-03-06 12:51:00+0000', tz='UTC'), Timestamp('2020-03-06 19:33:00+0000', tz='UTC'), Timestamp('2020-03-09 08:56:00+0000', tz='UTC'), Timestamp('2020-03-12 06:38:00+0000', tz='UTC'), Timestamp('2020-03-12 18:56:00+0000', tz='UTC'), Timestamp('2020-03-13 09:36:00+0000', tz='UTC'), Timestamp('2020-03-13 14:36:00+0000', tz='UTC'), Timestamp('2020-03-14 06:32:00+0000', tz='UTC'), Timestamp('2020-03-14 11:41:00+0000', tz='UTC'), Timestamp('2020-03-19 06:32:00+0000', tz='UTC'), Timestamp('2020-03-20 10:22:00+0000', tz='UTC'), Timestamp('2020-03-24 09:36:00+0000', tz='UTC'), Timestamp('2020-03-24 15:46:00+0000', tz='UTC'), Timestamp('2020-03-27 15:35:00+0000', tz='UTC'), Timestamp('2020-03-30 13:53:00+0000', tz='UTC'), Timestamp('2020-04-02 08:52:00+0000', tz='UTC'), Timestamp('2020-04-02 16:13:00+0000', tz='UTC'), Timestamp('2020-04-03 01:16:00+0000', tz='UTC'), Timestamp('2020-04-03 08:02:00+0000', tz='UTC'), Timestamp('2020-04-03 10:30:00+0000', tz='UTC'), Timestamp('2020-04-04 14:55:00+0000', tz='UTC'), Timestamp('2020-04-04 14:58:00+0000', tz='UTC'), Timestamp('2020-04-06 15:51:00+0000', tz='UTC'), Timestamp('2020-04-07 07:28:00+0000', tz='UTC'), Timestamp('2020-04-07 13:39:00+0000', tz='UTC'), Timestamp('2020-04-08 13:28:00+0000', tz='UTC'), Timestamp('2020-04-18 18:59:00+0000', tz='UTC'), Timestamp('2020-04-18 23:51:00+0000', tz='UTC'), Timestamp('2020-04-19 00:02:00+0000', tz='UTC'), Timestamp('2020-04-19 09:35:00+0000', tz='UTC'), Timestamp('2020-04-20 09:01:00+0000', tz='UTC'), Timestamp('2020-04-20 17:40:00+0000', tz='UTC'), Timestamp('2020-04-20 17:42:00+0000', tz='UTC'), Timestamp('2020-04-21 09:36:00+0000', tz='UTC'), Timestamp('2020-04-21 10:08:00+0000', tz='UTC'), Timestamp('2020-04-21 10:09:00+0000', tz='UTC'), Timestamp('2020-04-21 10:10:00+0000', tz='UTC'), Timestamp('2020-04-21 10:48:00+0000', tz='UTC'), Timestamp('2020-04-21 11:00:00+0000', tz='UTC'), Timestamp('2020-04-21 11:01:00+0000', tz='UTC'), Timestamp('2020-04-21 12:56:00+0000', tz='UTC'), Timestamp('2020-04-21 13:02:00+0000', tz='UTC'), Timestamp('2020-04-21 13:03:00+0000', tz='UTC'), Timestamp('2020-04-24 15:53:00+0000', tz='UTC'), Timestamp('2020-04-26 11:42:00+0000', tz='UTC'), Timestamp('2020-05-01 16:51:00+0000', tz='UTC'), Timestamp('2020-05-01 16:53:00+0000', tz='UTC'), Timestamp('2020-05-03 17:43:00+0000', tz='UTC'), Timestamp('2020-05-22 23:28:00+0000', tz='UTC'), Timestamp('2020-05-23 00:08:00+0000', tz='UTC'), Timestamp('2020-05-29 13:48:00+0000', tz='UTC'), Timestamp('2020-05-29 13:49:00+0000', tz='UTC'), Timestamp('2020-05-29 14:00:00+0000', tz='UTC'), Timestamp('2020-05-30 13:55:00+0000', tz='UTC'), Timestamp('2020-05-30 13:56:00+0000', tz='UTC'), Timestamp('2020-06-01 16:01:00+0000', tz='UTC'), Timestamp('2020-06-01 16:02:00+0000', tz='UTC'), Timestamp('2020-06-02 15:42:00+0000', tz='UTC'), Timestamp('2020-06-02 15:43:00+0000', tz='UTC'), Timestamp('2020-06-10 14:40:00+0000', tz='UTC'), Timestamp('2020-06-15 05:34:00+0000', tz='UTC'), Timestamp('2020-06-15 06:30:00+0000', tz='UTC'), Timestamp('2020-06-17 12:50:00+0000', tz='UTC'), Timestamp('2020-06-18 14:07:00+0000', tz='UTC'), Timestamp('2020-06-18 18:34:00+0000', tz='UTC'), Timestamp('2020-06-19 10:32:00+0000', tz='UTC'), Timestamp('2020-06-23 15:47:00+0000', tz='UTC'), Timestamp('2020-06-23 19:30:00+0000', tz='UTC'), Timestamp('2020-06-24 14:25:00+0000', tz='UTC'), Timestamp('2020-06-24 14:39:00+0000', tz='UTC'), Timestamp('2020-06-30 13:35:00+0000', tz='UTC'), Timestamp('2020-07-06 12:16:00+0000', tz='UTC'), Timestamp('2020-07-06 12:17:00+0000', tz='UTC'), Timestamp('2020-07-06 13:11:00+0000', tz='UTC'), Timestamp('2020-07-06 13:14:00+0000', tz='UTC'), Timestamp('2020-07-06 14:46:00+0000', tz='UTC'), Timestamp('2020-07-06 14:47:00+0000', tz='UTC'), Timestamp('2020-07-06 17:49:00+0000', tz='UTC'), Timestamp('2020-07-06 17:50:00+0000', tz='UTC'), Timestamp('2020-07-06 19:24:00+0000', tz='UTC'), Timestamp('2020-09-09 14:37:00+0000', tz='UTC'), Timestamp('2020-09-09 14:39:00+0000', tz='UTC'), Timestamp('2020-09-09 14:40:00+0000', tz='UTC'), Timestamp('2020-09-11 15:02:00+0000', tz='UTC'), Timestamp('2020-09-11 17:34:00+0000', tz='UTC'), Timestamp('2020-09-16 00:13:00+0000', tz='UTC'), Timestamp('2020-09-16 00:17:00+0000', tz='UTC'), Timestamp('2020-09-16 00:18:00+0000', tz='UTC'), Timestamp('2020-09-16 00:24:00+0000', tz='UTC'), Timestamp('2020-09-16 00:25:00+0000', tz='UTC'), Timestamp('2020-09-16 00:26:00+0000', tz='UTC'), Timestamp('2020-09-21 11:42:00+0000', tz='UTC'), Timestamp('2020-09-23 07:56:00+0000', tz='UTC'), Timestamp('2020-09-23 12:12:00+0000', tz='UTC'), Timestamp('2020-09-23 13:33:00+0000', tz='UTC'), Timestamp('2020-09-24 07:35:00+0000', tz='UTC'), Timestamp('2020-09-24 08:03:00+0000', tz='UTC'), Timestamp('2020-09-28 09:13:00+0000', tz='UTC'), Timestamp('2020-09-28 10:31:00+0000', tz='UTC'), Timestamp('2020-09-29 13:02:00+0000', tz='UTC'), Timestamp('2020-09-29 16:39:00+0000', tz='UTC'), Timestamp('2020-09-29 17:34:00+0000', tz='UTC'), Timestamp('2020-09-30 09:57:00+0000', tz='UTC'), Timestamp('2020-10-19 11:31:00+0000', tz='UTC'), Timestamp('2020-10-20 09:00:00+0000', tz='UTC'), Timestamp('2020-10-22 16:04:00+0000', tz='UTC'), Timestamp('2020-10-27 15:50:00+0000', tz='UTC'), Timestamp('2020-10-30 11:25:00+0000', tz='UTC'), Timestamp('2020-10-30 11:27:00+0000', tz='UTC'), Timestamp('2020-10-30 11:28:00+0000', tz='UTC'), Timestamp('2020-10-30 11:29:00+0000', tz='UTC'), Timestamp('2020-10-30 13:41:00+0000', tz='UTC'), Timestamp('2020-10-30 17:02:00+0000', tz='UTC'), Timestamp('2020-10-30 17:03:00+0000', tz='UTC'), Timestamp('2020-10-30 21:28:00+0000', tz='UTC'), Timestamp('2020-10-30 21:29:00+0000', tz='UTC'), Timestamp('2020-10-30 21:30:00+0000', tz='UTC'), Timestamp('2020-10-30 23:41:00+0000', tz='UTC'), Timestamp('2020-10-30 23:50:00+0000', tz='UTC'), Timestamp('2020-10-31 00:26:00+0000', tz='UTC'), Timestamp('2020-10-31 00:34:00+0000', tz='UTC'), Timestamp('2020-10-31 00:37:00+0000', tz='UTC'), Timestamp('2020-10-31 00:38:00+0000', tz='UTC'), Timestamp('2020-10-31 01:39:00+0000', tz='UTC'), Timestamp('2020-11-16 14:32:00+0000', tz='UTC'), Timestamp('2020-11-17 18:53:00+0000', tz='UTC'), Timestamp('2020-11-19 15:58:00+0000', tz='UTC'), Timestamp('2020-11-20 16:03:00+0000', tz='UTC'), Timestamp('2020-11-24 12:00:00+0000', tz='UTC'), Timestamp('2020-11-24 12:50:00+0000', tz='UTC'), Timestamp('2020-11-24 12:53:00+0000', tz='UTC'), Timestamp('2020-11-24 15:55:00+0000', tz='UTC'), Timestamp('2020-11-26 13:53:00+0000', tz='UTC'), Timestamp('2020-11-26 13:54:00+0000', tz='UTC'), Timestamp('2020-12-07 21:19:00+0000', tz='UTC'), Timestamp('2020-12-10 16:12:00+0000', tz='UTC'), Timestamp('2020-12-13 19:13:00+0000', tz='UTC'), Timestamp('2020-12-14 09:29:00+0000', tz='UTC'), Timestamp('2020-12-22 02:54:00+0000', tz='UTC'), Timestamp('2021-01-01 10:57:00+0000', tz='UTC'), Timestamp('2021-01-02 12:48:00+0000', tz='UTC'), Timestamp('2021-01-02 23:40:00+0000', tz='UTC'), Timestamp('2021-01-05 15:42:00+0000', tz='UTC'), Timestamp('2021-01-06 05:04:00+0000', tz='UTC'), Timestamp('2021-01-06 05:25:00+0000', tz='UTC'), Timestamp('2021-01-06 15:00:00+0000', tz='UTC'), Timestamp('2021-01-08 02:55:00+0000', tz='UTC'), Timestamp('2021-01-09 12:31:00+0000', tz='UTC'), Timestamp('2021-01-10 01:02:00+0000', tz='UTC'), Timestamp('2021-01-10 01:04:00+0000', tz='UTC'), Timestamp('2021-01-10 13:01:00+0000', tz='UTC'), Timestamp('2021-01-10 15:50:00+0000', tz='UTC'), Timestamp('2021-01-10 15:51:00+0000', tz='UTC'), Timestamp('2021-01-10 17:31:00+0000', tz='UTC'), Timestamp('2021-01-10 17:35:00+0000', tz='UTC'), Timestamp('2021-01-13 10:13:00+0000', tz='UTC'), Timestamp('2021-01-13 10:16:00+0000', tz='UTC'), Timestamp('2021-01-18 15:12:00+0000', tz='UTC'), Timestamp('2021-01-18 16:39:00+0000', tz='UTC'), Timestamp('2021-01-18 16:42:00+0000', tz='UTC'), Timestamp('2021-01-18 16:44:00+0000', tz='UTC'), Timestamp('2021-01-19 09:19:00+0000', tz='UTC'), Timestamp('2021-01-19 13:37:00+0000', tz='UTC'), Timestamp('2021-01-20 08:00:00+0000', tz='UTC'), Timestamp('2021-01-20 13:35:00+0000', tz='UTC'), Timestamp('2021-01-20 13:38:00+0000', tz='UTC'), Timestamp('2021-01-21 05:03:00+0000', tz='UTC'), Timestamp('2021-01-21 07:52:00+0000', tz='UTC'), Timestamp('2021-01-21 14:10:00+0000', tz='UTC'), Timestamp('2021-01-21 17:44:00+0000', tz='UTC'), Timestamp('2021-01-22 12:02:00+0000', tz='UTC'), Timestamp('2021-01-23 18:26:00+0000', tz='UTC'), Timestamp('2021-01-23 18:30:00+0000', tz='UTC'), Timestamp('2021-01-24 08:46:00+0000', tz='UTC'), Timestamp('2021-01-24 08:50:00+0000', tz='UTC'), Timestamp('2021-01-26 08:54:00+0000', tz='UTC'), Timestamp('2021-01-26 13:40:00+0000', tz='UTC'), Timestamp('2021-01-26 16:20:00+0000', tz='UTC'), Timestamp('2021-01-26 16:22:00+0000', tz='UTC'), Timestamp('2021-01-27 08:30:00+0000', tz='UTC'), Timestamp('2021-01-28 08:08:00+0000', tz='UTC'), Timestamp('2021-01-29 08:20:00+0000', tz='UTC'), Timestamp('2021-01-30 18:51:00+0000', tz='UTC'), Timestamp('2021-02-03 07:56:00+0000', tz='UTC'), Timestamp('2021-02-04 08:31:00+0000', tz='UTC'), Timestamp('2021-02-05 06:35:00+0000', tz='UTC'), Timestamp('2021-02-05 09:16:00+0000', tz='UTC'), Timestamp('2021-02-05 10:18:00+0000', tz='UTC'), Timestamp('2021-02-08 10:52:00+0000', tz='UTC'), Timestamp('2021-02-08 11:38:00+0000', tz='UTC'), Timestamp('2021-02-13 15:22:00+0000', tz='UTC'), Timestamp('2021-02-13 15:24:00+0000', tz='UTC'), Timestamp('2021-02-13 15:40:00+0000', tz='UTC'), Timestamp('2021-02-13 15:44:00+0000', tz='UTC'), Timestamp('2021-02-17 11:47:00+0000', tz='UTC'), Timestamp('2021-02-17 11:48:00+0000', tz='UTC'), Timestamp('2021-02-17 12:03:00+0000', tz='UTC'), Timestamp('2021-02-17 12:04:00+0000', tz='UTC'), Timestamp('2021-02-21 08:47:00+0000', tz='UTC'), Timestamp('2021-02-21 08:49:00+0000', tz='UTC'), Timestamp('2021-03-19 22:22:00+0000', tz='UTC'), Timestamp('2021-03-19 22:23:00+0000', tz='UTC'), Timestamp('2021-03-19 22:25:00+0000', tz='UTC'), Timestamp('2021-03-20 09:21:00+0000', tz='UTC'), Timestamp('2021-03-20 09:22:00+0000', tz='UTC'), Timestamp('2021-03-20 09:24:00+0000', tz='UTC'), Timestamp('2021-03-20 12:28:00+0000', tz='UTC'), Timestamp('2021-03-20 12:29:00+0000', tz='UTC'), Timestamp('2021-03-20 16:27:00+0000', tz='UTC'), Timestamp('2021-03-20 16:28:00+0000', tz='UTC'), Timestamp('2021-03-20 17:17:00+0000', tz='UTC'), Timestamp('2021-03-20 17:18:00+0000', tz='UTC'), Timestamp('2021-05-21 06:23:00+0000', tz='UTC'), Timestamp('2021-05-21 06:26:00+0000', tz='UTC'), Timestamp('2021-05-21 14:57:00+0000', tz='UTC'), Timestamp('2021-05-21 14:58:00+0000', tz='UTC'), Timestamp('2021-06-07 06:55:00+0000', tz='UTC'), Timestamp('2021-06-07 06:57:00+0000', tz='UTC'), Timestamp('2021-06-07 06:59:00+0000', tz='UTC'), Timestamp('2021-08-27 14:25:00+0000', tz='UTC'), Timestamp('2021-08-31 07:33:00+0000', tz='UTC'), Timestamp('2021-08-31 12:44:00+0000', tz='UTC'), Timestamp('2021-08-31 12:46:00+0000', tz='UTC'), Timestamp('2021-08-31 12:47:00+0000', tz='UTC'), Timestamp('2021-08-31 15:34:00+0000', tz='UTC'), Timestamp('2021-09-08 19:18:00+0000', tz='UTC'), Timestamp('2021-09-08 19:20:00+0000', tz='UTC'), Timestamp('2021-09-10 17:06:00+0000', tz='UTC'), Timestamp('2021-09-11 17:20:00+0000', tz='UTC'), Timestamp('2021-09-12 06:28:00+0000', tz='UTC'), Timestamp('2021-09-15 16:35:00+0000', tz='UTC'), Timestamp('2021-09-16 12:36:00+0000', tz='UTC'), Timestamp('2021-09-17 13:38:00+0000', tz='UTC'), Timestamp('2021-09-17 19:58:00+0000', tz='UTC'), Timestamp('2021-09-17 20:00:00+0000', tz='UTC'), Timestamp('2021-09-17 20:38:00+0000', tz='UTC'), Timestamp('2022-01-24 11:45:00+0000', tz='UTC'), Timestamp('2022-01-24 11:48:00+0000', tz='UTC'), Timestamp('2022-05-10 15:30:00+0000', tz='UTC'), Timestamp('2022-05-10 15:44:00+0000', tz='UTC'), Timestamp('2022-06-15 11:06:00+0000', tz='UTC'), Timestamp('2022-06-15 11:10:00+0000', tz='UTC'), Timestamp('2022-06-16 13:53:00+0000', tz='UTC'), Timestamp('2022-06-24 09:05:00+0000', tz='UTC'), Timestamp('2022-06-24 16:26:00+0000', tz='UTC'), Timestamp('2022-06-28 19:42:00+0000', tz='UTC'), Timestamp('2022-06-28 19:43:00+0000', tz='UTC'), Timestamp('2022-07-22 07:37:00+0000', tz='UTC'), Timestamp('2022-09-20 07:40:00+0000', tz='UTC'), Timestamp('2022-09-20 07:42:00+0000', tz='UTC'), Timestamp('2022-09-20 07:45:00+0000', tz='UTC'), Timestamp('2023-02-06 12:47:00+0000', tz='UTC'), Timestamp('2023-02-06 12:48:00+0000', tz='UTC'), Timestamp('2023-02-06 12:50:00+0000', tz='UTC'), Timestamp('2023-02-07 13:03:00+0000', tz='UTC'), Timestamp('2023-02-07 13:04:00+0000', tz='UTC'), Timestamp('2023-02-07 13:06:00+0000', tz='UTC'), Timestamp('2023-04-24 07:04:00+0000', tz='UTC'), Timestamp('2023-04-24 07:05:00+0000', tz='UTC'), Timestamp('2023-04-24 07:07:00+0000', tz='UTC'), Timestamp('2023-04-24 08:19:00+0000', tz='UTC'), Timestamp('2023-04-24 08:20:00+0000', tz='UTC'), Timestamp('2023-04-24 08:21:00+0000', tz='UTC'), Timestamp('2023-04-24 10:26:00+0000', tz='UTC'), Timestamp('2023-04-24 10:27:00+0000', tz='UTC'), Timestamp('2023-04-24 10:28:00+0000', tz='UTC'), Timestamp('2023-04-25 08:20:00+0000', tz='UTC'), Timestamp('2023-04-25 08:21:00+0000', tz='UTC'), Timestamp('2023-04-25 08:22:00+0000', tz='UTC'), Timestamp('2023-07-17 10:42:04+0000', tz='UTC'), Timestamp('2023-07-18 14:12:03+0000', tz='UTC'), Timestamp('2023-07-18 14:12:04+0000', tz='UTC'), Timestamp('2023-07-20 03:06:40+0000', tz='UTC'), Timestamp('2023-07-21 07:30:07+0000', tz='UTC'), Timestamp('2023-07-23 07:18:03+0000', tz='UTC'), Timestamp('2023-07-24 07:00:04+0000', tz='UTC'), Timestamp('2023-07-24 11:00:04+0000', tz='UTC'), Timestamp('2023-07-25 12:12:06+0000', tz='UTC'), Timestamp('2023-07-25 14:35:35+0000', tz='UTC'), Timestamp('2023-07-25 16:24:05+0000', tz='UTC'), Timestamp('2023-07-26 11:42:03+0000', tz='UTC'), Timestamp('2023-07-26 13:00:06+0000', tz='UTC'), Timestamp('2023-07-27 12:30:06+0000', tz='UTC'), Timestamp('2024-01-19 08:06:03+0000', tz='UTC'), Timestamp('2024-01-19 13:12:03+0000', tz='UTC'), Timestamp('2024-01-19 17:06:03+0000', tz='UTC'), Timestamp('2024-01-20 01:00:03+0000', tz='UTC'), Timestamp('2024-01-20 09:39:03+0000', tz='UTC'), Timestamp('2024-01-20 09:45:02+0000', tz='UTC'), Timestamp('2024-01-22 22:52:02+0000', tz='UTC'), Timestamp('2024-01-23 09:46:01+0000', tz='UTC'), Timestamp('2024-01-23 11:34:01+0000', tz='UTC'), Timestamp('2024-01-23 14:16:01+0000', tz='UTC'), Timestamp('2024-01-23 18:28:01+0000', tz='UTC'), Timestamp('2024-01-23 18:34:01+0000', tz='UTC'), Timestamp('2024-01-24 20:16:01+0000', tz='UTC'), Timestamp('2024-01-25 00:04:01+0000', tz='UTC'), Timestamp('2024-01-26 18:16:01+0000', tz='UTC'), Timestamp('2024-01-27 04:40:02+0000', tz='UTC'), Timestamp('2024-01-27 17:28:01+0000', tz='UTC'), Timestamp('2024-01-28 10:10:01+0000', tz='UTC'), Timestamp('2024-01-28 11:40:02+0000', tz='UTC'), Timestamp('2024-01-28 13:34:01+0000', tz='UTC'), Timestamp('2024-01-29 02:16:02+0000', tz='UTC'), Timestamp('2024-01-29 02:34:01+0000', tz='UTC'), Timestamp('2024-01-30 09:22:01+0000', tz='UTC'), Timestamp('2024-01-30 12:28:01+0000', tz='UTC'), Timestamp('2024-02-13 18:04:01+0000', tz='UTC'), Timestamp('2024-02-13 18:10:01+0000', tz='UTC'), Timestamp('2024-02-21 14:58:01+0000', tz='UTC'), Timestamp('2024-02-23 17:46:00+0000', tz='UTC'), Timestamp('2024-02-23 19:34:01+0000', tz='UTC'), Timestamp('2024-02-23 21:22:01+0000', tz='UTC'), Timestamp('2024-02-24 11:37:01+0000', tz='UTC'), Timestamp('2024-02-24 14:43:01+0000', tz='UTC'), Timestamp('2024-02-25 06:55:01+0000', tz='UTC'), Timestamp('2024-02-25 21:07:01+0000', tz='UTC'), Timestamp('2024-02-25 21:37:00+0000', tz='UTC'), Timestamp('2024-02-26 01:13:01+0000', tz='UTC'), Timestamp('2024-02-26 05:19:01+0000', tz='UTC'), Timestamp('2024-03-28 14:20:28+0000', tz='UTC'), Timestamp('2024-03-28 14:20:29+0000', tz='UTC'), Timestamp('2024-04-29 08:34:17+0000', tz='UTC'), Timestamp('2024-04-29 08:40:18+0000', tz='UTC'), Timestamp('2024-04-30 09:10:15+0000', tz='UTC'), Timestamp('2024-04-30 09:16:15+0000', tz='UTC'), Timestamp('2024-05-01 11:07:41+0000', tz='UTC'), Timestamp('2024-05-01 11:13:40+0000', tz='UTC'), Timestamp('2024-05-02 07:13:35+0000', tz='UTC'), Timestamp('2024-05-02 07:19:37+0000', tz='UTC'), Timestamp('2024-05-03 07:06:32+0000', tz='UTC'), Timestamp('2024-05-03 07:06:33+0000', tz='UTC'), Timestamp('2024-05-03 14:24:34+0000', tz='UTC'), Timestamp('2024-05-04 15:54:35+0000', tz='UTC'), Timestamp('2024-05-04 16:00:36+0000', tz='UTC'), Timestamp('2024-05-09 06:06:41+0000', tz='UTC'), Timestamp('2024-05-20 15:01:07+0000', tz='UTC'), Timestamp('2024-05-21 08:43:01+0000', tz='UTC'), Timestamp('2024-05-23 09:13:08+0000', tz='UTC'), Timestamp('2024-05-24 08:19:06+0000', tz='UTC'), Timestamp('2024-05-24 16:25:06+0000', tz='UTC'), Timestamp('2024-05-24 16:25:07+0000', tz='UTC'), Timestamp('2024-05-25 09:25:05+0000', tz='UTC'), Timestamp('2024-05-25 09:25:07+0000', tz='UTC'), Timestamp('2024-05-27 15:43:17+0000', tz='UTC'), Timestamp('2024-05-28 15:37:03+0000', tz='UTC'), Timestamp('2024-05-28 22:07:07+0000', tz='UTC'), Timestamp('2024-05-30 07:38:30+0000', tz='UTC'), Timestamp('2024-05-30 15:20:38+0000', tz='UTC'), Timestamp('2024-05-31 07:26:26+0000', tz='UTC'), Timestamp('2024-05-31 07:32:27+0000', tz='UTC'), Timestamp('2024-05-31 14:32:32+0000', tz='UTC'), Timestamp('2024-06-01 22:38:39+0000', tz='UTC'), Timestamp('2024-06-03 11:26:34+0000', tz='UTC'), Timestamp('2024-06-04 09:56:33+0000', tz='UTC'), Timestamp('2024-06-11 08:01:35+0000', tz='UTC'), Timestamp('2024-06-11 08:01:36+0000', tz='UTC'), Timestamp('2024-06-11 08:07:36+0000', tz='UTC'), Timestamp('2024-06-11 08:37:27+0000', tz='UTC'), Timestamp('2024-06-11 08:37:28+0000', tz='UTC'), Timestamp('2024-06-12 13:19:28+0000', tz='UTC'), Timestamp('2024-06-13 16:31:37+0000', tz='UTC'), Timestamp('2024-06-13 16:31:50+0000', tz='UTC'), Timestamp('2024-06-13 16:31:51+0000', tz='UTC'), Timestamp('2024-06-13 18:37:32+0000', tz='UTC'), Timestamp('2024-06-19 11:46:30+0000', tz='UTC'), Timestamp('2024-06-19 11:52:33+0000', tz='UTC'), Timestamp('2024-08-27 14:17:57+0000', tz='UTC'), Timestamp('2024-08-27 14:18:00+0000', tz='UTC'), Timestamp('2024-08-27 14:23:58+0000', tz='UTC'), Timestamp('2024-09-18 09:21:34+0000', tz='UTC'), Timestamp('2024-09-18 09:27:49+0000', tz='UTC'), Timestamp('2024-09-18 18:03:30+0000', tz='UTC'), Timestamp('2024-09-18 18:09:32+0000', tz='UTC'), Timestamp('2024-09-19 02:27:27+0000', tz='UTC'), Timestamp('2024-09-19 08:33:30+0000', tz='UTC'), Timestamp('2024-09-19 08:39:31+0000', tz='UTC'), Timestamp('2024-09-20 11:51:24+0000', tz='UTC'), Timestamp('2024-09-26 09:57:50+0000', tz='UTC'), Timestamp('2024-09-26 09:58:03+0000', tz='UTC'), Timestamp('2024-09-29 16:45:46+0000', tz='UTC'), Timestamp('2024-09-29 16:51:48+0000', tz='UTC'), Timestamp('2024-09-29 19:03:50+0000', tz='UTC'), Timestamp('2024-09-29 19:09:55+0000', tz='UTC')]\n"
     ]
    },
    {
     "data": {
      "text/plain": [
       "publishTime\n",
       "2024-06-13 18:37:32+00:00    3\n",
       "2024-01-30 09:22:01+00:00    3\n",
       "2023-07-17 10:42:04+00:00    3\n",
       "2024-09-20 11:51:24+00:00    3\n",
       "2020-10-30 13:41:00+00:00    3\n",
       "                            ..\n",
       "2020-10-30 21:28:00+00:00    1\n",
       "2020-10-30 17:02:00+00:00    1\n",
       "2020-10-30 11:29:00+00:00    1\n",
       "2020-10-30 11:28:00+00:00    1\n",
       "2021-01-30 18:51:00+00:00    1\n",
       "Name: id, Length: 403, dtype: int64"
      ]
     },
     "execution_count": 32,
     "metadata": {},
     "output_type": "execute_result"
    }
   ],
   "source": [
    "# Gruppiere nach 'publishTime' und zähle 'id'\n",
    "df_publishTime = df.groupby(['publishTime'])['id'].count()\n",
    "\n",
    "# Konvertiere den Index von 'df_publishTime' in eine Liste und gib sie aus\n",
    "print(df_publishTime.index.tolist())\n",
    "\n",
    "# Sortiere die gezählten Werte absteigend nach der Anzahl der 'id'\n",
    "df_publishTime.sort_values(ascending=False)\n"
   ]
  },
  {
   "cell_type": "code",
   "execution_count": 33,
   "metadata": {},
   "outputs": [
    {
     "name": "stdout",
     "output_type": "stream",
     "text": [
      "[Timestamp('2020-01-29 15:52:00+0000', tz='UTC'), Timestamp('2020-01-31 13:04:00+0000', tz='UTC'), Timestamp('2020-02-02 06:40:00+0000', tz='UTC'), Timestamp('2020-02-02 07:11:00+0000', tz='UTC'), Timestamp('2020-02-02 08:44:00+0000', tz='UTC'), Timestamp('2020-02-03 11:19:00+0000', tz='UTC'), Timestamp('2020-02-06 11:03:00+0000', tz='UTC'), Timestamp('2020-02-10 18:21:00+0000', tz='UTC'), Timestamp('2020-02-13 11:06:00+0000', tz='UTC'), Timestamp('2020-02-14 09:43:00+0000', tz='UTC'), Timestamp('2020-02-15 15:06:00+0000', tz='UTC'), Timestamp('2020-02-17 15:05:00+0000', tz='UTC'), Timestamp('2020-02-24 10:50:00+0000', tz='UTC'), Timestamp('2020-02-25 14:39:00+0000', tz='UTC'), Timestamp('2020-02-28 13:14:00+0000', tz='UTC'), Timestamp('2020-02-28 13:18:00+0000', tz='UTC'), Timestamp('2020-03-04 23:16:00+0000', tz='UTC'), Timestamp('2020-03-04 23:22:00+0000', tz='UTC'), Timestamp('2020-03-05 15:02:00+0000', tz='UTC'), Timestamp('2020-03-06 12:51:00+0000', tz='UTC'), Timestamp('2020-03-06 19:33:00+0000', tz='UTC'), Timestamp('2020-03-09 08:56:00+0000', tz='UTC'), Timestamp('2020-03-12 06:38:00+0000', tz='UTC'), Timestamp('2020-03-12 18:56:00+0000', tz='UTC'), Timestamp('2020-03-13 09:36:00+0000', tz='UTC'), Timestamp('2020-03-13 14:36:00+0000', tz='UTC'), Timestamp('2020-03-14 06:32:00+0000', tz='UTC'), Timestamp('2020-03-14 11:41:00+0000', tz='UTC'), Timestamp('2020-03-19 06:32:00+0000', tz='UTC'), Timestamp('2020-03-20 10:22:00+0000', tz='UTC'), Timestamp('2020-03-24 09:36:00+0000', tz='UTC'), Timestamp('2020-03-24 15:46:00+0000', tz='UTC'), Timestamp('2020-03-27 15:35:00+0000', tz='UTC'), Timestamp('2020-03-30 13:53:00+0000', tz='UTC'), Timestamp('2020-04-02 08:52:00+0000', tz='UTC'), Timestamp('2020-04-02 16:13:00+0000', tz='UTC'), Timestamp('2020-04-03 01:16:00+0000', tz='UTC'), Timestamp('2020-04-03 08:02:00+0000', tz='UTC'), Timestamp('2020-04-03 10:30:00+0000', tz='UTC'), Timestamp('2020-04-04 14:55:00+0000', tz='UTC'), Timestamp('2020-04-04 14:58:00+0000', tz='UTC'), Timestamp('2020-04-06 15:51:00+0000', tz='UTC'), Timestamp('2020-04-07 07:28:00+0000', tz='UTC'), Timestamp('2020-04-07 13:39:00+0000', tz='UTC'), Timestamp('2020-04-08 13:28:00+0000', tz='UTC'), Timestamp('2020-04-18 18:59:00+0000', tz='UTC'), Timestamp('2020-04-18 23:51:00+0000', tz='UTC'), Timestamp('2020-04-19 00:02:00+0000', tz='UTC'), Timestamp('2020-04-19 09:35:00+0000', tz='UTC'), Timestamp('2020-04-20 09:01:00+0000', tz='UTC'), Timestamp('2020-04-20 17:40:00+0000', tz='UTC'), Timestamp('2020-04-20 17:42:00+0000', tz='UTC'), Timestamp('2020-04-21 09:36:00+0000', tz='UTC'), Timestamp('2020-04-21 10:08:00+0000', tz='UTC'), Timestamp('2020-04-21 10:09:00+0000', tz='UTC'), Timestamp('2020-04-21 10:10:00+0000', tz='UTC'), Timestamp('2020-04-21 10:48:00+0000', tz='UTC'), Timestamp('2020-04-21 11:00:00+0000', tz='UTC'), Timestamp('2020-04-21 11:01:00+0000', tz='UTC'), Timestamp('2020-04-21 12:56:00+0000', tz='UTC'), Timestamp('2020-04-21 13:02:00+0000', tz='UTC'), Timestamp('2020-04-21 13:03:00+0000', tz='UTC'), Timestamp('2020-04-24 15:53:00+0000', tz='UTC'), Timestamp('2020-04-26 11:42:00+0000', tz='UTC'), Timestamp('2020-05-01 16:51:00+0000', tz='UTC'), Timestamp('2020-05-01 16:53:00+0000', tz='UTC'), Timestamp('2020-05-03 17:43:00+0000', tz='UTC'), Timestamp('2020-05-22 23:28:00+0000', tz='UTC'), Timestamp('2020-05-23 00:08:00+0000', tz='UTC'), Timestamp('2020-05-29 13:48:00+0000', tz='UTC'), Timestamp('2020-05-29 13:49:00+0000', tz='UTC'), Timestamp('2020-05-29 14:00:00+0000', tz='UTC'), Timestamp('2020-05-30 13:55:00+0000', tz='UTC'), Timestamp('2020-05-30 13:56:00+0000', tz='UTC'), Timestamp('2020-06-01 16:01:00+0000', tz='UTC'), Timestamp('2020-06-01 16:02:00+0000', tz='UTC'), Timestamp('2020-06-02 15:42:00+0000', tz='UTC'), Timestamp('2020-06-02 15:43:00+0000', tz='UTC'), Timestamp('2020-06-10 14:40:00+0000', tz='UTC'), Timestamp('2020-06-15 05:34:00+0000', tz='UTC'), Timestamp('2020-06-15 06:30:00+0000', tz='UTC'), Timestamp('2020-06-17 12:50:00+0000', tz='UTC'), Timestamp('2020-06-18 14:07:00+0000', tz='UTC'), Timestamp('2020-06-18 18:34:00+0000', tz='UTC'), Timestamp('2020-06-19 10:32:00+0000', tz='UTC'), Timestamp('2020-06-23 15:47:00+0000', tz='UTC'), Timestamp('2020-06-23 19:30:00+0000', tz='UTC'), Timestamp('2020-06-24 14:25:00+0000', tz='UTC'), Timestamp('2020-06-24 14:39:00+0000', tz='UTC'), Timestamp('2020-06-30 13:35:00+0000', tz='UTC'), Timestamp('2020-07-06 12:16:00+0000', tz='UTC'), Timestamp('2020-07-06 12:17:00+0000', tz='UTC'), Timestamp('2020-07-06 13:11:00+0000', tz='UTC'), Timestamp('2020-07-06 13:14:00+0000', tz='UTC'), Timestamp('2020-07-06 14:46:00+0000', tz='UTC'), Timestamp('2020-07-06 14:47:00+0000', tz='UTC'), Timestamp('2020-07-06 17:49:00+0000', tz='UTC'), Timestamp('2020-07-06 17:50:00+0000', tz='UTC'), Timestamp('2020-07-06 19:24:00+0000', tz='UTC'), Timestamp('2020-09-09 14:37:00+0000', tz='UTC'), Timestamp('2020-09-09 14:39:00+0000', tz='UTC'), Timestamp('2020-09-09 14:40:00+0000', tz='UTC'), Timestamp('2020-09-11 15:02:00+0000', tz='UTC'), Timestamp('2020-09-11 17:34:00+0000', tz='UTC'), Timestamp('2020-09-16 00:13:00+0000', tz='UTC'), Timestamp('2020-09-16 00:17:00+0000', tz='UTC'), Timestamp('2020-09-16 00:18:00+0000', tz='UTC'), Timestamp('2020-09-16 00:24:00+0000', tz='UTC'), Timestamp('2020-09-16 00:25:00+0000', tz='UTC'), Timestamp('2020-09-16 00:26:00+0000', tz='UTC'), Timestamp('2020-09-21 11:42:00+0000', tz='UTC'), Timestamp('2020-09-23 07:56:00+0000', tz='UTC'), Timestamp('2020-09-23 12:12:00+0000', tz='UTC'), Timestamp('2020-09-23 13:33:00+0000', tz='UTC'), Timestamp('2020-09-24 07:35:00+0000', tz='UTC'), Timestamp('2020-09-24 08:03:00+0000', tz='UTC'), Timestamp('2020-09-28 09:13:00+0000', tz='UTC'), Timestamp('2020-09-28 10:31:00+0000', tz='UTC'), Timestamp('2020-09-29 13:02:00+0000', tz='UTC'), Timestamp('2020-09-29 16:39:00+0000', tz='UTC'), Timestamp('2020-09-29 17:34:00+0000', tz='UTC'), Timestamp('2020-09-30 09:57:00+0000', tz='UTC'), Timestamp('2020-10-19 11:31:00+0000', tz='UTC'), Timestamp('2020-10-20 09:00:00+0000', tz='UTC'), Timestamp('2020-10-22 16:04:00+0000', tz='UTC'), Timestamp('2020-10-27 15:50:00+0000', tz='UTC'), Timestamp('2020-10-30 11:25:00+0000', tz='UTC'), Timestamp('2020-10-30 11:27:00+0000', tz='UTC'), Timestamp('2020-10-30 11:28:00+0000', tz='UTC'), Timestamp('2020-10-30 11:29:00+0000', tz='UTC'), Timestamp('2020-10-30 13:41:00+0000', tz='UTC'), Timestamp('2020-10-30 17:02:00+0000', tz='UTC'), Timestamp('2020-10-30 17:03:00+0000', tz='UTC'), Timestamp('2020-10-30 21:28:00+0000', tz='UTC'), Timestamp('2020-10-30 21:29:00+0000', tz='UTC'), Timestamp('2020-10-30 21:30:00+0000', tz='UTC'), Timestamp('2020-10-30 23:41:00+0000', tz='UTC'), Timestamp('2020-10-30 23:50:00+0000', tz='UTC'), Timestamp('2020-10-31 00:26:00+0000', tz='UTC'), Timestamp('2020-10-31 00:34:00+0000', tz='UTC'), Timestamp('2020-10-31 00:37:00+0000', tz='UTC'), Timestamp('2020-10-31 00:38:00+0000', tz='UTC'), Timestamp('2020-10-31 01:39:00+0000', tz='UTC'), Timestamp('2020-11-16 14:32:00+0000', tz='UTC'), Timestamp('2020-11-17 18:53:00+0000', tz='UTC'), Timestamp('2020-11-19 15:58:00+0000', tz='UTC'), Timestamp('2020-11-20 16:03:00+0000', tz='UTC'), Timestamp('2020-11-24 12:00:00+0000', tz='UTC'), Timestamp('2020-11-24 12:50:00+0000', tz='UTC'), Timestamp('2020-11-24 12:53:00+0000', tz='UTC'), Timestamp('2020-11-24 15:55:00+0000', tz='UTC'), Timestamp('2020-11-26 13:53:00+0000', tz='UTC'), Timestamp('2020-11-26 13:54:00+0000', tz='UTC'), Timestamp('2020-12-07 21:19:00+0000', tz='UTC'), Timestamp('2020-12-10 16:12:00+0000', tz='UTC'), Timestamp('2020-12-13 19:13:00+0000', tz='UTC'), Timestamp('2020-12-14 09:29:00+0000', tz='UTC'), Timestamp('2020-12-22 02:54:00+0000', tz='UTC'), Timestamp('2021-01-01 10:57:00+0000', tz='UTC'), Timestamp('2021-01-02 12:48:00+0000', tz='UTC'), Timestamp('2021-01-02 23:40:00+0000', tz='UTC'), Timestamp('2021-01-05 15:42:00+0000', tz='UTC'), Timestamp('2021-01-06 05:04:00+0000', tz='UTC'), Timestamp('2021-01-06 05:25:00+0000', tz='UTC'), Timestamp('2021-01-06 15:00:00+0000', tz='UTC'), Timestamp('2021-01-08 02:55:00+0000', tz='UTC'), Timestamp('2021-01-09 12:31:00+0000', tz='UTC'), Timestamp('2021-01-10 01:02:00+0000', tz='UTC'), Timestamp('2021-01-10 01:04:00+0000', tz='UTC'), Timestamp('2021-01-10 13:01:00+0000', tz='UTC'), Timestamp('2021-01-10 15:50:00+0000', tz='UTC'), Timestamp('2021-01-10 15:51:00+0000', tz='UTC'), Timestamp('2021-01-10 17:31:00+0000', tz='UTC'), Timestamp('2021-01-10 17:35:00+0000', tz='UTC'), Timestamp('2021-01-13 10:13:00+0000', tz='UTC'), Timestamp('2021-01-13 10:16:00+0000', tz='UTC'), Timestamp('2021-01-18 15:12:00+0000', tz='UTC'), Timestamp('2021-01-18 16:39:00+0000', tz='UTC'), Timestamp('2021-01-18 16:42:00+0000', tz='UTC'), Timestamp('2021-01-18 16:44:00+0000', tz='UTC'), Timestamp('2021-01-19 09:19:00+0000', tz='UTC'), Timestamp('2021-01-19 13:37:00+0000', tz='UTC'), Timestamp('2021-01-20 08:00:00+0000', tz='UTC'), Timestamp('2021-01-20 13:35:00+0000', tz='UTC'), Timestamp('2021-01-20 13:38:00+0000', tz='UTC'), Timestamp('2021-01-21 05:03:00+0000', tz='UTC'), Timestamp('2021-01-21 07:52:00+0000', tz='UTC'), Timestamp('2021-01-21 14:10:00+0000', tz='UTC'), Timestamp('2021-01-21 17:44:00+0000', tz='UTC'), Timestamp('2021-01-22 12:02:00+0000', tz='UTC'), Timestamp('2021-01-23 18:26:00+0000', tz='UTC'), Timestamp('2021-01-23 18:30:00+0000', tz='UTC'), Timestamp('2021-01-24 08:46:00+0000', tz='UTC'), Timestamp('2021-01-24 08:50:00+0000', tz='UTC'), Timestamp('2021-01-26 08:54:00+0000', tz='UTC'), Timestamp('2021-01-26 13:40:00+0000', tz='UTC'), Timestamp('2021-01-26 16:20:00+0000', tz='UTC'), Timestamp('2021-01-26 16:22:00+0000', tz='UTC'), Timestamp('2021-01-27 08:30:00+0000', tz='UTC'), Timestamp('2021-01-28 08:08:00+0000', tz='UTC'), Timestamp('2021-01-29 08:20:00+0000', tz='UTC'), Timestamp('2021-01-30 18:51:00+0000', tz='UTC'), Timestamp('2021-02-03 07:56:00+0000', tz='UTC'), Timestamp('2021-02-04 08:31:00+0000', tz='UTC'), Timestamp('2021-02-05 06:35:00+0000', tz='UTC'), Timestamp('2021-02-05 09:16:00+0000', tz='UTC'), Timestamp('2021-02-05 10:18:00+0000', tz='UTC'), Timestamp('2021-02-08 10:52:00+0000', tz='UTC'), Timestamp('2021-02-08 11:38:00+0000', tz='UTC'), Timestamp('2021-02-13 15:22:00+0000', tz='UTC'), Timestamp('2021-02-13 15:24:00+0000', tz='UTC'), Timestamp('2021-02-13 15:40:00+0000', tz='UTC'), Timestamp('2021-02-13 15:44:00+0000', tz='UTC'), Timestamp('2021-02-17 11:47:00+0000', tz='UTC'), Timestamp('2021-02-17 11:48:00+0000', tz='UTC'), Timestamp('2021-02-17 12:03:00+0000', tz='UTC'), Timestamp('2021-02-17 12:04:00+0000', tz='UTC'), Timestamp('2021-02-21 08:47:00+0000', tz='UTC'), Timestamp('2021-02-21 08:49:00+0000', tz='UTC'), Timestamp('2021-03-19 22:22:00+0000', tz='UTC'), Timestamp('2021-03-19 22:23:00+0000', tz='UTC'), Timestamp('2021-03-19 22:25:00+0000', tz='UTC'), Timestamp('2021-03-20 09:21:00+0000', tz='UTC'), Timestamp('2021-03-20 09:22:00+0000', tz='UTC'), Timestamp('2021-03-20 09:24:00+0000', tz='UTC'), Timestamp('2021-03-20 12:28:00+0000', tz='UTC'), Timestamp('2021-03-20 12:29:00+0000', tz='UTC'), Timestamp('2021-03-20 16:27:00+0000', tz='UTC'), Timestamp('2021-03-20 16:28:00+0000', tz='UTC'), Timestamp('2021-03-20 17:17:00+0000', tz='UTC'), Timestamp('2021-03-20 17:18:00+0000', tz='UTC'), Timestamp('2021-05-21 06:23:00+0000', tz='UTC'), Timestamp('2021-05-21 06:26:00+0000', tz='UTC'), Timestamp('2021-05-21 14:57:00+0000', tz='UTC'), Timestamp('2021-05-21 14:58:00+0000', tz='UTC'), Timestamp('2021-06-07 06:55:00+0000', tz='UTC'), Timestamp('2021-06-07 06:57:00+0000', tz='UTC'), Timestamp('2021-06-07 06:59:00+0000', tz='UTC'), Timestamp('2021-08-27 14:25:00+0000', tz='UTC'), Timestamp('2021-08-31 07:33:00+0000', tz='UTC'), Timestamp('2021-08-31 12:44:00+0000', tz='UTC'), Timestamp('2021-08-31 12:46:00+0000', tz='UTC'), Timestamp('2021-08-31 12:47:00+0000', tz='UTC'), Timestamp('2021-08-31 15:34:00+0000', tz='UTC'), Timestamp('2021-09-08 19:18:00+0000', tz='UTC'), Timestamp('2021-09-08 19:20:00+0000', tz='UTC'), Timestamp('2021-09-10 17:06:00+0000', tz='UTC'), Timestamp('2021-09-11 17:20:00+0000', tz='UTC'), Timestamp('2021-09-12 06:28:00+0000', tz='UTC'), Timestamp('2021-09-15 16:35:00+0000', tz='UTC'), Timestamp('2021-09-16 12:36:00+0000', tz='UTC'), Timestamp('2021-09-17 13:38:00+0000', tz='UTC'), Timestamp('2021-09-17 19:58:00+0000', tz='UTC'), Timestamp('2021-09-17 20:00:00+0000', tz='UTC'), Timestamp('2021-09-17 20:38:00+0000', tz='UTC'), Timestamp('2022-01-24 11:45:00+0000', tz='UTC'), Timestamp('2022-01-24 11:48:00+0000', tz='UTC'), Timestamp('2022-05-10 15:30:00+0000', tz='UTC'), Timestamp('2022-05-10 15:44:00+0000', tz='UTC'), Timestamp('2022-06-15 11:06:00+0000', tz='UTC'), Timestamp('2022-06-15 11:10:00+0000', tz='UTC'), Timestamp('2022-06-16 13:53:00+0000', tz='UTC'), Timestamp('2022-06-24 09:05:00+0000', tz='UTC'), Timestamp('2022-06-24 16:26:00+0000', tz='UTC'), Timestamp('2022-06-28 19:42:00+0000', tz='UTC'), Timestamp('2022-06-28 19:43:00+0000', tz='UTC'), Timestamp('2022-07-22 07:37:00+0000', tz='UTC'), Timestamp('2022-09-20 07:40:00+0000', tz='UTC'), Timestamp('2022-09-20 07:42:00+0000', tz='UTC'), Timestamp('2022-09-20 07:45:00+0000', tz='UTC'), Timestamp('2023-02-06 12:47:00+0000', tz='UTC'), Timestamp('2023-02-06 12:48:00+0000', tz='UTC'), Timestamp('2023-02-06 12:50:00+0000', tz='UTC'), Timestamp('2023-02-07 13:03:00+0000', tz='UTC'), Timestamp('2023-02-07 13:04:00+0000', tz='UTC'), Timestamp('2023-02-07 13:06:00+0000', tz='UTC'), Timestamp('2023-04-24 07:04:00+0000', tz='UTC'), Timestamp('2023-04-24 07:05:00+0000', tz='UTC'), Timestamp('2023-04-24 07:07:00+0000', tz='UTC'), Timestamp('2023-04-24 08:19:00+0000', tz='UTC'), Timestamp('2023-04-24 08:20:00+0000', tz='UTC'), Timestamp('2023-04-24 08:21:00+0000', tz='UTC'), Timestamp('2023-04-24 10:26:00+0000', tz='UTC'), Timestamp('2023-04-24 10:27:00+0000', tz='UTC'), Timestamp('2023-04-24 10:28:00+0000', tz='UTC'), Timestamp('2023-04-25 08:20:00+0000', tz='UTC'), Timestamp('2023-04-25 08:21:00+0000', tz='UTC'), Timestamp('2023-04-25 08:22:00+0000', tz='UTC'), Timestamp('2023-07-17 10:35:00+0000', tz='UTC'), Timestamp('2023-07-17 10:38:00+0000', tz='UTC'), Timestamp('2023-07-17 10:39:00+0000', tz='UTC'), Timestamp('2023-07-18 14:07:00+0000', tz='UTC'), Timestamp('2023-07-18 14:08:00+0000', tz='UTC'), Timestamp('2023-07-19 07:50:00+0000', tz='UTC'), Timestamp('2023-07-21 07:22:00+0000', tz='UTC'), Timestamp('2023-07-23 07:12:00+0000', tz='UTC'), Timestamp('2023-07-24 06:55:00+0000', tz='UTC'), Timestamp('2023-07-24 10:55:00+0000', tz='UTC'), Timestamp('2023-07-25 12:07:00+0000', tz='UTC'), Timestamp('2023-07-25 14:32:00+0000', tz='UTC'), Timestamp('2023-07-25 16:19:00+0000', tz='UTC'), Timestamp('2023-07-26 11:38:00+0000', tz='UTC'), Timestamp('2023-07-26 12:56:00+0000', tz='UTC'), Timestamp('2023-07-27 12:24:00+0000', tz='UTC'), Timestamp('2024-01-19 07:59:00+0000', tz='UTC'), Timestamp('2024-01-19 13:07:00+0000', tz='UTC'), Timestamp('2024-01-19 17:00:00+0000', tz='UTC'), Timestamp('2024-01-19 17:02:00+0000', tz='UTC'), Timestamp('2024-01-20 00:52:00+0000', tz='UTC'), Timestamp('2024-01-20 09:35:00+0000', tz='UTC'), Timestamp('2024-01-20 09:38:00+0000', tz='UTC'), Timestamp('2024-01-20 09:39:00+0000', tz='UTC'), Timestamp('2024-01-22 22:45:00+0000', tz='UTC'), Timestamp('2024-01-23 09:39:00+0000', tz='UTC'), Timestamp('2024-01-23 09:40:00+0000', tz='UTC'), Timestamp('2024-01-23 11:31:00+0000', tz='UTC'), Timestamp('2024-01-23 14:08:00+0000', tz='UTC'), Timestamp('2024-01-23 18:25:00+0000', tz='UTC'), Timestamp('2024-01-23 18:29:00+0000', tz='UTC'), Timestamp('2024-01-23 18:30:00+0000', tz='UTC'), Timestamp('2024-01-24 20:11:00+0000', tz='UTC'), Timestamp('2024-01-24 23:59:00+0000', tz='UTC'), Timestamp('2024-01-26 18:14:00+0000', tz='UTC'), Timestamp('2024-01-27 04:35:00+0000', tz='UTC'), Timestamp('2024-01-27 17:23:00+0000', tz='UTC'), Timestamp('2024-01-28 10:04:00+0000', tz='UTC'), Timestamp('2024-01-28 11:32:00+0000', tz='UTC'), Timestamp('2024-01-28 13:27:00+0000', tz='UTC'), Timestamp('2024-01-29 02:12:00+0000', tz='UTC'), Timestamp('2024-01-29 02:31:00+0000', tz='UTC'), Timestamp('2024-01-30 09:14:00+0000', tz='UTC'), Timestamp('2024-01-30 09:16:00+0000', tz='UTC'), Timestamp('2024-01-30 09:17:00+0000', tz='UTC'), Timestamp('2024-01-30 12:20:00+0000', tz='UTC'), Timestamp('2024-02-13 17:56:00+0000', tz='UTC'), Timestamp('2024-02-13 18:01:00+0000', tz='UTC'), Timestamp('2024-02-13 18:04:00+0000', tz='UTC'), Timestamp('2024-02-21 14:55:00+0000', tz='UTC'), Timestamp('2024-02-23 17:39:00+0000', tz='UTC'), Timestamp('2024-02-23 19:29:00+0000', tz='UTC'), Timestamp('2024-02-23 21:16:00+0000', tz='UTC'), Timestamp('2024-02-24 11:32:00+0000', tz='UTC'), Timestamp('2024-02-24 11:34:00+0000', tz='UTC'), Timestamp('2024-02-24 14:37:00+0000', tz='UTC'), Timestamp('2024-02-24 14:38:00+0000', tz='UTC'), Timestamp('2024-02-25 06:48:00+0000', tz='UTC'), Timestamp('2024-02-25 21:01:00+0000', tz='UTC'), Timestamp('2024-02-25 21:31:00+0000', tz='UTC'), Timestamp('2024-02-26 01:08:00+0000', tz='UTC'), Timestamp('2024-02-26 05:14:00+0000', tz='UTC'), Timestamp('2024-03-28 14:17:00+0000', tz='UTC'), Timestamp('2024-03-28 14:18:00+0000', tz='UTC'), Timestamp('2024-04-29 08:30:00+0000', tz='UTC'), Timestamp('2024-04-29 08:33:00+0000', tz='UTC'), Timestamp('2024-04-30 09:09:00+0000', tz='UTC'), Timestamp('2024-04-30 09:14:00+0000', tz='UTC'), Timestamp('2024-05-01 11:03:00+0000', tz='UTC'), Timestamp('2024-05-01 11:07:00+0000', tz='UTC'), Timestamp('2024-05-02 07:11:00+0000', tz='UTC'), Timestamp('2024-05-02 07:13:00+0000', tz='UTC'), Timestamp('2024-05-03 07:02:00+0000', tz='UTC'), Timestamp('2024-05-03 07:04:00+0000', tz='UTC'), Timestamp('2024-05-03 14:18:00+0000', tz='UTC'), Timestamp('2024-05-03 14:20:00+0000', tz='UTC'), Timestamp('2024-05-04 15:53:00+0000', tz='UTC'), Timestamp('2024-05-04 15:58:00+0000', tz='UTC'), Timestamp('2024-05-09 06:02:00+0000', tz='UTC'), Timestamp('2024-05-09 06:04:00+0000', tz='UTC'), Timestamp('2024-05-20 14:55:00+0000', tz='UTC'), Timestamp('2024-05-21 08:40:00+0000', tz='UTC'), Timestamp('2024-05-23 09:10:00+0000', tz='UTC'), Timestamp('2024-05-24 08:14:00+0000', tz='UTC'), Timestamp('2024-05-24 16:18:00+0000', tz='UTC'), Timestamp('2024-05-24 16:19:00+0000', tz='UTC'), Timestamp('2024-05-25 09:19:00+0000', tz='UTC'), Timestamp('2024-05-25 09:22:00+0000', tz='UTC'), Timestamp('2024-05-27 15:37:00+0000', tz='UTC'), Timestamp('2024-05-28 15:34:00+0000', tz='UTC'), Timestamp('2024-05-28 22:03:00+0000', tz='UTC'), Timestamp('2024-05-30 07:36:00+0000', tz='UTC'), Timestamp('2024-05-30 15:14:00+0000', tz='UTC'), Timestamp('2024-05-31 07:25:00+0000', tz='UTC'), Timestamp('2024-05-31 07:26:00+0000', tz='UTC'), Timestamp('2024-05-31 14:28:00+0000', tz='UTC'), Timestamp('2024-06-01 22:32:00+0000', tz='UTC'), Timestamp('2024-06-03 11:21:00+0000', tz='UTC'), Timestamp('2024-06-04 09:53:00+0000', tz='UTC'), Timestamp('2024-06-11 07:59:00+0000', tz='UTC'), Timestamp('2024-06-11 08:00:00+0000', tz='UTC'), Timestamp('2024-06-11 08:02:00+0000', tz='UTC'), Timestamp('2024-06-11 08:32:00+0000', tz='UTC'), Timestamp('2024-06-11 08:34:00+0000', tz='UTC'), Timestamp('2024-06-11 08:35:00+0000', tz='UTC'), Timestamp('2024-06-12 13:13:00+0000', tz='UTC'), Timestamp('2024-06-12 13:14:00+0000', tz='UTC'), Timestamp('2024-06-12 13:15:00+0000', tz='UTC'), Timestamp('2024-06-13 16:26:00+0000', tz='UTC'), Timestamp('2024-06-13 16:28:00+0000', tz='UTC'), Timestamp('2024-06-13 16:30:00+0000', tz='UTC'), Timestamp('2024-06-13 18:31:00+0000', tz='UTC'), Timestamp('2024-06-13 18:32:00+0000', tz='UTC'), Timestamp('2024-06-19 11:43:00+0000', tz='UTC'), Timestamp('2024-06-19 11:45:00+0000', tz='UTC'), Timestamp('2024-06-19 11:48:00+0000', tz='UTC'), Timestamp('2024-08-27 14:15:00+0000', tz='UTC'), Timestamp('2024-08-27 14:17:00+0000', tz='UTC'), Timestamp('2024-08-27 14:18:00+0000', tz='UTC'), Timestamp('2024-09-18 09:19:00+0000', tz='UTC'), Timestamp('2024-09-18 09:22:00+0000', tz='UTC'), Timestamp('2024-09-18 18:01:00+0000', tz='UTC'), Timestamp('2024-09-18 18:05:00+0000', tz='UTC'), Timestamp('2024-09-19 02:25:00+0000', tz='UTC'), Timestamp('2024-09-19 08:29:00+0000', tz='UTC'), Timestamp('2024-09-19 08:31:00+0000', tz='UTC'), Timestamp('2024-09-19 08:32:00+0000', tz='UTC'), Timestamp('2024-09-20 11:44:00+0000', tz='UTC'), Timestamp('2024-09-20 11:45:00+0000', tz='UTC'), Timestamp('2024-09-20 11:46:00+0000', tz='UTC'), Timestamp('2024-09-26 09:53:00+0000', tz='UTC'), Timestamp('2024-09-26 09:54:00+0000', tz='UTC'), Timestamp('2024-09-29 16:42:00+0000', tz='UTC'), Timestamp('2024-09-29 16:45:00+0000', tz='UTC'), Timestamp('2024-09-29 16:46:00+0000', tz='UTC'), Timestamp('2024-09-29 19:02:00+0000', tz='UTC'), Timestamp('2024-09-29 19:04:00+0000', tz='UTC'), Timestamp('2024-09-29 19:05:00+0000', tz='UTC')]\n"
     ]
    },
    {
     "data": {
      "text/plain": [
       "createdTime\n",
       "2020-10-30 13:41:00+00:00    3\n",
       "2024-06-13 18:31:00+00:00    2\n",
       "2021-03-20 12:29:00+00:00    2\n",
       "2020-10-30 23:50:00+00:00    2\n",
       "2020-10-30 17:03:00+00:00    2\n",
       "                            ..\n",
       "2020-10-31 01:39:00+00:00    1\n",
       "2020-10-31 00:38:00+00:00    1\n",
       "2020-10-31 00:37:00+00:00    1\n",
       "2020-10-31 00:34:00+00:00    1\n",
       "2024-09-29 19:05:00+00:00    1\n",
       "Name: id, Length: 426, dtype: int64"
      ]
     },
     "execution_count": 33,
     "metadata": {},
     "output_type": "execute_result"
    }
   ],
   "source": [
    "# Gruppiere nach 'createdTime' und zähle 'id' pro Gruppe\n",
    "df_createdTime = df.groupby(['createdTime'])['id'].count()\n",
    "\n",
    "# Konvertiere den Index von 'createdTime' in eine Liste und gib sie aus\n",
    "print(df_createdTime.index.tolist())\n",
    "\n",
    "# Sortiere die Gruppen basierend auf der Anzahl der 'id' absteigend\n",
    "df_createdTime.sort_values(ascending=False)\n"
   ]
  },
  {
   "cell_type": "code",
   "execution_count": 34,
   "metadata": {},
   "outputs": [
    {
     "name": "stdout",
     "output_type": "stream",
     "text": [
      "[Timestamp('2020-01-29 15:52:00+0000', tz='UTC'), Timestamp('2020-01-31 13:04:00+0000', tz='UTC'), Timestamp('2020-02-02 06:40:00+0000', tz='UTC'), Timestamp('2020-02-02 07:11:00+0000', tz='UTC'), Timestamp('2020-02-02 08:44:00+0000', tz='UTC'), Timestamp('2020-02-03 11:19:00+0000', tz='UTC'), Timestamp('2020-02-06 11:03:00+0000', tz='UTC'), Timestamp('2020-02-10 18:21:00+0000', tz='UTC'), Timestamp('2020-02-13 11:06:00+0000', tz='UTC'), Timestamp('2020-02-14 09:43:00+0000', tz='UTC'), Timestamp('2020-02-15 15:06:00+0000', tz='UTC'), Timestamp('2020-02-17 15:05:00+0000', tz='UTC'), Timestamp('2020-02-24 10:50:00+0000', tz='UTC'), Timestamp('2020-02-25 14:39:00+0000', tz='UTC'), Timestamp('2020-02-28 13:14:00+0000', tz='UTC'), Timestamp('2020-02-28 13:18:00+0000', tz='UTC'), Timestamp('2020-03-04 23:16:00+0000', tz='UTC'), Timestamp('2020-03-04 23:22:00+0000', tz='UTC'), Timestamp('2020-03-05 15:02:00+0000', tz='UTC'), Timestamp('2020-03-06 12:51:00+0000', tz='UTC'), Timestamp('2020-03-06 19:33:00+0000', tz='UTC'), Timestamp('2020-03-09 08:56:00+0000', tz='UTC'), Timestamp('2020-03-12 06:38:00+0000', tz='UTC'), Timestamp('2020-03-12 18:56:00+0000', tz='UTC'), Timestamp('2020-03-13 09:36:00+0000', tz='UTC'), Timestamp('2020-03-13 14:36:00+0000', tz='UTC'), Timestamp('2020-03-14 06:32:00+0000', tz='UTC'), Timestamp('2020-03-14 11:41:00+0000', tz='UTC'), Timestamp('2020-03-19 06:32:00+0000', tz='UTC'), Timestamp('2020-03-20 10:22:00+0000', tz='UTC'), Timestamp('2020-03-24 09:36:00+0000', tz='UTC'), Timestamp('2020-03-24 15:46:00+0000', tz='UTC'), Timestamp('2020-03-27 15:35:00+0000', tz='UTC'), Timestamp('2020-03-30 13:53:00+0000', tz='UTC'), Timestamp('2020-04-02 08:52:00+0000', tz='UTC'), Timestamp('2020-04-02 16:13:00+0000', tz='UTC'), Timestamp('2020-04-03 01:16:00+0000', tz='UTC'), Timestamp('2020-04-03 08:02:00+0000', tz='UTC'), Timestamp('2020-04-03 10:30:00+0000', tz='UTC'), Timestamp('2020-04-04 14:55:00+0000', tz='UTC'), Timestamp('2020-04-04 14:58:00+0000', tz='UTC'), Timestamp('2020-04-06 15:51:00+0000', tz='UTC'), Timestamp('2020-04-07 07:28:00+0000', tz='UTC'), Timestamp('2020-04-07 13:39:00+0000', tz='UTC'), Timestamp('2020-04-08 13:28:00+0000', tz='UTC'), Timestamp('2020-04-18 18:59:00+0000', tz='UTC'), Timestamp('2020-04-18 23:51:00+0000', tz='UTC'), Timestamp('2020-04-19 00:02:00+0000', tz='UTC'), Timestamp('2020-04-19 09:35:00+0000', tz='UTC'), Timestamp('2020-04-20 09:01:00+0000', tz='UTC'), Timestamp('2020-04-20 17:40:00+0000', tz='UTC'), Timestamp('2020-04-20 17:42:00+0000', tz='UTC'), Timestamp('2020-04-21 09:36:00+0000', tz='UTC'), Timestamp('2020-04-21 10:08:00+0000', tz='UTC'), Timestamp('2020-04-21 10:09:00+0000', tz='UTC'), Timestamp('2020-04-21 10:10:00+0000', tz='UTC'), Timestamp('2020-04-21 10:48:00+0000', tz='UTC'), Timestamp('2020-04-21 11:00:00+0000', tz='UTC'), Timestamp('2020-04-21 11:01:00+0000', tz='UTC'), Timestamp('2020-04-21 12:56:00+0000', tz='UTC'), Timestamp('2020-04-21 13:02:00+0000', tz='UTC'), Timestamp('2020-04-21 13:03:00+0000', tz='UTC'), Timestamp('2020-04-24 15:53:00+0000', tz='UTC'), Timestamp('2020-04-26 11:42:00+0000', tz='UTC'), Timestamp('2020-05-01 16:51:00+0000', tz='UTC'), Timestamp('2020-05-01 16:53:00+0000', tz='UTC'), Timestamp('2020-05-03 17:43:00+0000', tz='UTC'), Timestamp('2020-05-22 23:28:00+0000', tz='UTC'), Timestamp('2020-05-23 00:08:00+0000', tz='UTC'), Timestamp('2020-05-29 13:48:00+0000', tz='UTC'), Timestamp('2020-05-29 13:49:00+0000', tz='UTC'), Timestamp('2020-05-29 14:00:00+0000', tz='UTC'), Timestamp('2020-05-30 13:55:00+0000', tz='UTC'), Timestamp('2020-05-30 13:56:00+0000', tz='UTC'), Timestamp('2020-06-01 16:01:00+0000', tz='UTC'), Timestamp('2020-06-01 16:02:00+0000', tz='UTC'), Timestamp('2020-06-02 15:42:00+0000', tz='UTC'), Timestamp('2020-06-02 15:43:00+0000', tz='UTC'), Timestamp('2020-06-10 14:40:00+0000', tz='UTC'), Timestamp('2020-06-15 05:34:00+0000', tz='UTC'), Timestamp('2020-06-15 06:30:00+0000', tz='UTC'), Timestamp('2020-06-17 12:50:00+0000', tz='UTC'), Timestamp('2020-06-18 14:07:00+0000', tz='UTC'), Timestamp('2020-06-18 18:34:00+0000', tz='UTC'), Timestamp('2020-06-19 10:32:00+0000', tz='UTC'), Timestamp('2020-06-23 15:47:00+0000', tz='UTC'), Timestamp('2020-06-23 19:30:00+0000', tz='UTC'), Timestamp('2020-06-24 14:25:00+0000', tz='UTC'), Timestamp('2020-06-24 14:39:00+0000', tz='UTC'), Timestamp('2020-06-30 13:35:00+0000', tz='UTC'), Timestamp('2020-07-06 12:16:00+0000', tz='UTC'), Timestamp('2020-07-06 12:17:00+0000', tz='UTC'), Timestamp('2020-07-06 13:11:00+0000', tz='UTC'), Timestamp('2020-07-06 13:14:00+0000', tz='UTC'), Timestamp('2020-07-06 14:46:00+0000', tz='UTC'), Timestamp('2020-07-06 14:47:00+0000', tz='UTC'), Timestamp('2020-07-06 17:49:00+0000', tz='UTC'), Timestamp('2020-07-06 17:50:00+0000', tz='UTC'), Timestamp('2020-07-06 19:24:00+0000', tz='UTC'), Timestamp('2020-09-09 14:37:00+0000', tz='UTC'), Timestamp('2020-09-09 14:39:00+0000', tz='UTC'), Timestamp('2020-09-09 14:40:00+0000', tz='UTC'), Timestamp('2020-09-11 15:02:00+0000', tz='UTC'), Timestamp('2020-09-11 17:34:00+0000', tz='UTC'), Timestamp('2020-09-16 00:13:00+0000', tz='UTC'), Timestamp('2020-09-16 00:17:00+0000', tz='UTC'), Timestamp('2020-09-16 00:18:00+0000', tz='UTC'), Timestamp('2020-09-16 00:24:00+0000', tz='UTC'), Timestamp('2020-09-16 00:25:00+0000', tz='UTC'), Timestamp('2020-09-16 00:26:00+0000', tz='UTC'), Timestamp('2020-09-21 11:42:00+0000', tz='UTC'), Timestamp('2020-09-23 07:56:00+0000', tz='UTC'), Timestamp('2020-09-23 12:12:00+0000', tz='UTC'), Timestamp('2020-09-23 13:33:00+0000', tz='UTC'), Timestamp('2020-09-24 07:35:00+0000', tz='UTC'), Timestamp('2020-09-24 08:03:00+0000', tz='UTC'), Timestamp('2020-09-28 09:13:00+0000', tz='UTC'), Timestamp('2020-09-28 10:31:00+0000', tz='UTC'), Timestamp('2020-09-29 13:02:00+0000', tz='UTC'), Timestamp('2020-09-29 16:39:00+0000', tz='UTC'), Timestamp('2020-09-29 17:34:00+0000', tz='UTC'), Timestamp('2020-09-30 09:57:00+0000', tz='UTC'), Timestamp('2020-10-19 11:31:00+0000', tz='UTC'), Timestamp('2020-10-20 09:00:00+0000', tz='UTC'), Timestamp('2020-10-22 16:04:00+0000', tz='UTC'), Timestamp('2020-10-27 15:50:00+0000', tz='UTC'), Timestamp('2020-10-30 11:25:00+0000', tz='UTC'), Timestamp('2020-10-30 11:27:00+0000', tz='UTC'), Timestamp('2020-10-30 11:28:00+0000', tz='UTC'), Timestamp('2020-10-30 11:29:00+0000', tz='UTC'), Timestamp('2020-10-30 13:41:00+0000', tz='UTC'), Timestamp('2020-10-30 17:02:00+0000', tz='UTC'), Timestamp('2020-10-30 17:03:00+0000', tz='UTC'), Timestamp('2020-10-30 21:28:00+0000', tz='UTC'), Timestamp('2020-10-30 21:29:00+0000', tz='UTC'), Timestamp('2020-10-30 21:30:00+0000', tz='UTC'), Timestamp('2020-10-30 23:41:00+0000', tz='UTC'), Timestamp('2020-10-30 23:50:00+0000', tz='UTC'), Timestamp('2020-10-31 00:26:00+0000', tz='UTC'), Timestamp('2020-10-31 00:34:00+0000', tz='UTC'), Timestamp('2020-10-31 00:37:00+0000', tz='UTC'), Timestamp('2020-10-31 00:38:00+0000', tz='UTC'), Timestamp('2020-10-31 01:39:00+0000', tz='UTC'), Timestamp('2020-11-16 14:32:00+0000', tz='UTC'), Timestamp('2020-11-17 18:53:00+0000', tz='UTC'), Timestamp('2020-11-19 15:58:00+0000', tz='UTC'), Timestamp('2020-11-20 16:03:00+0000', tz='UTC'), Timestamp('2020-11-24 12:00:00+0000', tz='UTC'), Timestamp('2020-11-24 12:50:00+0000', tz='UTC'), Timestamp('2020-11-24 12:53:00+0000', tz='UTC'), Timestamp('2020-11-24 15:55:00+0000', tz='UTC'), Timestamp('2020-11-26 13:53:00+0000', tz='UTC'), Timestamp('2020-11-26 13:54:00+0000', tz='UTC'), Timestamp('2020-12-07 21:19:00+0000', tz='UTC'), Timestamp('2020-12-10 16:12:00+0000', tz='UTC'), Timestamp('2020-12-13 19:13:00+0000', tz='UTC'), Timestamp('2020-12-14 09:29:00+0000', tz='UTC'), Timestamp('2020-12-22 02:54:00+0000', tz='UTC'), Timestamp('2021-01-01 10:57:00+0000', tz='UTC'), Timestamp('2021-01-02 12:48:00+0000', tz='UTC'), Timestamp('2021-01-02 23:40:00+0000', tz='UTC'), Timestamp('2021-01-05 15:42:00+0000', tz='UTC'), Timestamp('2021-01-06 05:04:00+0000', tz='UTC'), Timestamp('2021-01-06 05:25:00+0000', tz='UTC'), Timestamp('2021-01-06 15:00:00+0000', tz='UTC'), Timestamp('2021-01-08 02:55:00+0000', tz='UTC'), Timestamp('2021-01-09 12:31:00+0000', tz='UTC'), Timestamp('2021-01-10 01:02:00+0000', tz='UTC'), Timestamp('2021-01-10 01:04:00+0000', tz='UTC'), Timestamp('2021-01-10 13:01:00+0000', tz='UTC'), Timestamp('2021-01-10 15:50:00+0000', tz='UTC'), Timestamp('2021-01-10 15:51:00+0000', tz='UTC'), Timestamp('2021-01-10 17:31:00+0000', tz='UTC'), Timestamp('2021-01-10 17:35:00+0000', tz='UTC'), Timestamp('2021-01-13 10:13:00+0000', tz='UTC'), Timestamp('2021-01-13 10:16:00+0000', tz='UTC'), Timestamp('2021-01-18 15:12:00+0000', tz='UTC'), Timestamp('2021-01-18 16:39:00+0000', tz='UTC'), Timestamp('2021-01-18 16:42:00+0000', tz='UTC'), Timestamp('2021-01-18 16:44:00+0000', tz='UTC'), Timestamp('2021-01-19 09:19:00+0000', tz='UTC'), Timestamp('2021-01-19 13:37:00+0000', tz='UTC'), Timestamp('2021-01-20 08:00:00+0000', tz='UTC'), Timestamp('2021-01-20 13:35:00+0000', tz='UTC'), Timestamp('2021-01-20 13:38:00+0000', tz='UTC'), Timestamp('2021-01-21 05:03:00+0000', tz='UTC'), Timestamp('2021-01-21 07:52:00+0000', tz='UTC'), Timestamp('2021-01-21 14:10:00+0000', tz='UTC'), Timestamp('2021-01-21 17:44:00+0000', tz='UTC'), Timestamp('2021-01-22 12:02:00+0000', tz='UTC'), Timestamp('2021-01-23 18:26:00+0000', tz='UTC'), Timestamp('2021-01-23 18:30:00+0000', tz='UTC'), Timestamp('2021-01-24 08:46:00+0000', tz='UTC'), Timestamp('2021-01-24 08:50:00+0000', tz='UTC'), Timestamp('2021-01-26 08:54:00+0000', tz='UTC'), Timestamp('2021-01-26 13:40:00+0000', tz='UTC'), Timestamp('2021-01-26 16:20:00+0000', tz='UTC'), Timestamp('2021-01-26 16:22:00+0000', tz='UTC'), Timestamp('2021-01-27 08:30:00+0000', tz='UTC'), Timestamp('2021-01-28 08:08:00+0000', tz='UTC'), Timestamp('2021-01-29 08:20:00+0000', tz='UTC'), Timestamp('2021-01-30 18:51:00+0000', tz='UTC'), Timestamp('2021-02-03 07:56:00+0000', tz='UTC'), Timestamp('2021-02-04 08:31:00+0000', tz='UTC'), Timestamp('2021-02-05 06:35:00+0000', tz='UTC'), Timestamp('2021-02-05 09:16:00+0000', tz='UTC'), Timestamp('2021-02-05 10:18:00+0000', tz='UTC'), Timestamp('2021-02-08 10:52:00+0000', tz='UTC'), Timestamp('2021-02-08 11:38:00+0000', tz='UTC'), Timestamp('2021-02-13 15:22:00+0000', tz='UTC'), Timestamp('2021-02-13 15:24:00+0000', tz='UTC'), Timestamp('2021-02-13 15:40:00+0000', tz='UTC'), Timestamp('2021-02-13 15:44:00+0000', tz='UTC'), Timestamp('2021-02-17 11:47:00+0000', tz='UTC'), Timestamp('2021-02-17 11:48:00+0000', tz='UTC'), Timestamp('2021-02-17 12:03:00+0000', tz='UTC'), Timestamp('2021-02-17 12:04:00+0000', tz='UTC'), Timestamp('2021-02-21 08:47:00+0000', tz='UTC'), Timestamp('2021-02-21 08:49:00+0000', tz='UTC'), Timestamp('2021-03-19 22:22:00+0000', tz='UTC'), Timestamp('2021-03-19 22:23:00+0000', tz='UTC'), Timestamp('2021-03-19 22:25:00+0000', tz='UTC'), Timestamp('2021-03-20 09:21:00+0000', tz='UTC'), Timestamp('2021-03-20 09:22:00+0000', tz='UTC'), Timestamp('2021-03-20 09:24:00+0000', tz='UTC'), Timestamp('2021-03-20 12:28:00+0000', tz='UTC'), Timestamp('2021-03-20 12:29:00+0000', tz='UTC'), Timestamp('2021-03-20 16:27:00+0000', tz='UTC'), Timestamp('2021-03-20 16:28:00+0000', tz='UTC'), Timestamp('2021-03-20 17:17:00+0000', tz='UTC'), Timestamp('2021-03-20 17:18:00+0000', tz='UTC'), Timestamp('2021-05-21 06:23:00+0000', tz='UTC'), Timestamp('2021-05-21 06:26:00+0000', tz='UTC'), Timestamp('2021-05-21 14:57:00+0000', tz='UTC'), Timestamp('2021-05-21 14:58:00+0000', tz='UTC'), Timestamp('2021-06-07 06:55:00+0000', tz='UTC'), Timestamp('2021-06-07 06:57:00+0000', tz='UTC'), Timestamp('2021-06-07 06:59:00+0000', tz='UTC'), Timestamp('2021-08-27 14:25:00+0000', tz='UTC'), Timestamp('2021-08-31 07:33:00+0000', tz='UTC'), Timestamp('2021-08-31 12:44:00+0000', tz='UTC'), Timestamp('2021-08-31 12:46:00+0000', tz='UTC'), Timestamp('2021-08-31 12:47:00+0000', tz='UTC'), Timestamp('2021-08-31 15:34:00+0000', tz='UTC'), Timestamp('2021-09-08 19:18:00+0000', tz='UTC'), Timestamp('2021-09-08 19:20:00+0000', tz='UTC'), Timestamp('2021-09-10 17:06:00+0000', tz='UTC'), Timestamp('2021-09-11 17:20:00+0000', tz='UTC'), Timestamp('2021-09-12 06:28:00+0000', tz='UTC'), Timestamp('2021-09-15 16:35:00+0000', tz='UTC'), Timestamp('2021-09-16 12:36:00+0000', tz='UTC'), Timestamp('2021-09-17 13:38:00+0000', tz='UTC'), Timestamp('2021-09-17 19:58:00+0000', tz='UTC'), Timestamp('2021-09-17 20:00:00+0000', tz='UTC'), Timestamp('2021-09-17 20:38:00+0000', tz='UTC'), Timestamp('2022-01-24 11:45:00+0000', tz='UTC'), Timestamp('2022-01-24 11:48:00+0000', tz='UTC'), Timestamp('2022-05-10 15:30:00+0000', tz='UTC'), Timestamp('2022-05-10 15:44:00+0000', tz='UTC'), Timestamp('2022-06-15 11:06:00+0000', tz='UTC'), Timestamp('2022-06-15 11:10:00+0000', tz='UTC'), Timestamp('2022-06-16 13:53:00+0000', tz='UTC'), Timestamp('2022-06-24 09:05:00+0000', tz='UTC'), Timestamp('2022-06-24 16:26:00+0000', tz='UTC'), Timestamp('2022-06-28 19:42:00+0000', tz='UTC'), Timestamp('2022-06-28 19:43:00+0000', tz='UTC'), Timestamp('2022-07-22 07:37:00+0000', tz='UTC'), Timestamp('2022-09-20 07:40:00+0000', tz='UTC'), Timestamp('2022-09-20 07:42:00+0000', tz='UTC'), Timestamp('2022-09-20 07:45:00+0000', tz='UTC'), Timestamp('2023-02-06 12:47:00+0000', tz='UTC'), Timestamp('2023-02-06 12:48:00+0000', tz='UTC'), Timestamp('2023-02-06 12:50:00+0000', tz='UTC'), Timestamp('2023-02-07 13:03:00+0000', tz='UTC'), Timestamp('2023-02-07 13:04:00+0000', tz='UTC'), Timestamp('2023-02-07 13:06:00+0000', tz='UTC'), Timestamp('2023-04-24 07:04:00+0000', tz='UTC'), Timestamp('2023-04-24 07:05:00+0000', tz='UTC'), Timestamp('2023-04-24 07:07:00+0000', tz='UTC'), Timestamp('2023-04-24 08:19:00+0000', tz='UTC'), Timestamp('2023-04-24 08:20:00+0000', tz='UTC'), Timestamp('2023-04-24 08:21:00+0000', tz='UTC'), Timestamp('2023-04-24 10:26:00+0000', tz='UTC'), Timestamp('2023-04-24 10:27:00+0000', tz='UTC'), Timestamp('2023-04-24 10:28:00+0000', tz='UTC'), Timestamp('2023-04-25 08:20:00+0000', tz='UTC'), Timestamp('2023-04-25 08:21:00+0000', tz='UTC'), Timestamp('2023-04-25 08:22:00+0000', tz='UTC'), Timestamp('2023-07-17 10:42:04+0000', tz='UTC'), Timestamp('2023-07-18 14:12:03+0000', tz='UTC'), Timestamp('2023-07-18 14:12:04+0000', tz='UTC'), Timestamp('2023-07-20 03:06:40+0000', tz='UTC'), Timestamp('2023-07-21 07:30:07+0000', tz='UTC'), Timestamp('2023-07-23 07:18:03+0000', tz='UTC'), Timestamp('2023-07-24 07:00:04+0000', tz='UTC'), Timestamp('2023-07-24 11:00:04+0000', tz='UTC'), Timestamp('2023-07-25 12:12:06+0000', tz='UTC'), Timestamp('2023-07-25 14:35:35+0000', tz='UTC'), Timestamp('2023-07-25 16:24:05+0000', tz='UTC'), Timestamp('2023-07-26 11:42:03+0000', tz='UTC'), Timestamp('2023-07-26 13:00:06+0000', tz='UTC'), Timestamp('2023-07-27 12:30:06+0000', tz='UTC'), Timestamp('2024-01-19 08:06:03+0000', tz='UTC'), Timestamp('2024-01-19 13:12:03+0000', tz='UTC'), Timestamp('2024-01-19 17:06:03+0000', tz='UTC'), Timestamp('2024-01-20 01:00:03+0000', tz='UTC'), Timestamp('2024-01-20 09:39:03+0000', tz='UTC'), Timestamp('2024-01-20 09:45:02+0000', tz='UTC'), Timestamp('2024-01-22 22:52:02+0000', tz='UTC'), Timestamp('2024-01-23 09:46:01+0000', tz='UTC'), Timestamp('2024-01-23 11:34:01+0000', tz='UTC'), Timestamp('2024-01-23 14:16:01+0000', tz='UTC'), Timestamp('2024-01-23 18:28:01+0000', tz='UTC'), Timestamp('2024-01-23 18:34:01+0000', tz='UTC'), Timestamp('2024-01-24 20:16:01+0000', tz='UTC'), Timestamp('2024-01-25 00:04:01+0000', tz='UTC'), Timestamp('2024-01-26 18:16:01+0000', tz='UTC'), Timestamp('2024-01-27 04:40:02+0000', tz='UTC'), Timestamp('2024-01-27 17:28:01+0000', tz='UTC'), Timestamp('2024-01-28 10:10:01+0000', tz='UTC'), Timestamp('2024-01-28 11:40:02+0000', tz='UTC'), Timestamp('2024-01-28 13:34:01+0000', tz='UTC'), Timestamp('2024-01-29 02:16:02+0000', tz='UTC'), Timestamp('2024-01-29 02:34:01+0000', tz='UTC'), Timestamp('2024-01-30 09:22:01+0000', tz='UTC'), Timestamp('2024-01-30 12:28:01+0000', tz='UTC'), Timestamp('2024-02-13 18:04:01+0000', tz='UTC'), Timestamp('2024-02-13 18:10:01+0000', tz='UTC'), Timestamp('2024-02-21 14:58:01+0000', tz='UTC'), Timestamp('2024-02-23 17:46:00+0000', tz='UTC'), Timestamp('2024-02-23 19:34:01+0000', tz='UTC'), Timestamp('2024-02-23 21:22:01+0000', tz='UTC'), Timestamp('2024-02-24 11:37:01+0000', tz='UTC'), Timestamp('2024-02-24 14:43:01+0000', tz='UTC'), Timestamp('2024-02-25 06:55:01+0000', tz='UTC'), Timestamp('2024-02-25 21:07:01+0000', tz='UTC'), Timestamp('2024-02-25 21:37:00+0000', tz='UTC'), Timestamp('2024-02-26 01:13:01+0000', tz='UTC'), Timestamp('2024-02-26 05:19:01+0000', tz='UTC'), Timestamp('2024-03-28 14:20:28+0000', tz='UTC'), Timestamp('2024-03-28 14:20:29+0000', tz='UTC'), Timestamp('2024-04-29 08:34:17+0000', tz='UTC'), Timestamp('2024-04-29 08:40:18+0000', tz='UTC'), Timestamp('2024-04-30 09:10:15+0000', tz='UTC'), Timestamp('2024-04-30 09:16:15+0000', tz='UTC'), Timestamp('2024-05-01 11:07:41+0000', tz='UTC'), Timestamp('2024-05-01 11:13:40+0000', tz='UTC'), Timestamp('2024-05-02 07:13:35+0000', tz='UTC'), Timestamp('2024-05-02 07:19:37+0000', tz='UTC'), Timestamp('2024-05-03 07:06:32+0000', tz='UTC'), Timestamp('2024-05-03 07:06:33+0000', tz='UTC'), Timestamp('2024-05-03 14:24:34+0000', tz='UTC'), Timestamp('2024-05-04 15:54:35+0000', tz='UTC'), Timestamp('2024-05-04 16:00:36+0000', tz='UTC'), Timestamp('2024-05-09 06:06:41+0000', tz='UTC'), Timestamp('2024-05-20 15:01:07+0000', tz='UTC'), Timestamp('2024-05-21 08:43:01+0000', tz='UTC'), Timestamp('2024-05-23 09:13:08+0000', tz='UTC'), Timestamp('2024-05-24 08:19:06+0000', tz='UTC'), Timestamp('2024-05-24 16:25:06+0000', tz='UTC'), Timestamp('2024-05-24 16:25:07+0000', tz='UTC'), Timestamp('2024-05-25 09:25:05+0000', tz='UTC'), Timestamp('2024-05-25 09:25:07+0000', tz='UTC'), Timestamp('2024-05-27 15:43:17+0000', tz='UTC'), Timestamp('2024-05-28 15:37:03+0000', tz='UTC'), Timestamp('2024-05-28 22:07:07+0000', tz='UTC'), Timestamp('2024-05-30 07:38:30+0000', tz='UTC'), Timestamp('2024-05-30 15:20:38+0000', tz='UTC'), Timestamp('2024-05-31 07:26:26+0000', tz='UTC'), Timestamp('2024-05-31 07:32:27+0000', tz='UTC'), Timestamp('2024-05-31 14:32:32+0000', tz='UTC'), Timestamp('2024-06-01 22:38:39+0000', tz='UTC'), Timestamp('2024-06-03 11:26:34+0000', tz='UTC'), Timestamp('2024-06-04 09:56:33+0000', tz='UTC'), Timestamp('2024-06-11 08:01:35+0000', tz='UTC'), Timestamp('2024-06-11 08:01:36+0000', tz='UTC'), Timestamp('2024-06-11 08:07:36+0000', tz='UTC'), Timestamp('2024-06-11 08:37:27+0000', tz='UTC'), Timestamp('2024-06-11 08:37:28+0000', tz='UTC'), Timestamp('2024-06-12 13:19:28+0000', tz='UTC'), Timestamp('2024-06-13 16:31:37+0000', tz='UTC'), Timestamp('2024-06-13 16:31:50+0000', tz='UTC'), Timestamp('2024-06-13 16:31:51+0000', tz='UTC'), Timestamp('2024-06-13 18:37:32+0000', tz='UTC'), Timestamp('2024-06-19 11:46:30+0000', tz='UTC'), Timestamp('2024-06-19 11:52:33+0000', tz='UTC'), Timestamp('2024-08-27 14:17:57+0000', tz='UTC'), Timestamp('2024-08-27 14:18:00+0000', tz='UTC'), Timestamp('2024-08-27 14:23:58+0000', tz='UTC'), Timestamp('2024-09-18 09:21:34+0000', tz='UTC'), Timestamp('2024-09-18 09:27:49+0000', tz='UTC'), Timestamp('2024-09-18 18:03:30+0000', tz='UTC'), Timestamp('2024-09-18 18:09:32+0000', tz='UTC'), Timestamp('2024-09-19 02:27:27+0000', tz='UTC'), Timestamp('2024-09-19 08:33:30+0000', tz='UTC'), Timestamp('2024-09-19 08:39:31+0000', tz='UTC'), Timestamp('2024-09-20 11:51:24+0000', tz='UTC'), Timestamp('2024-09-26 09:57:50+0000', tz='UTC'), Timestamp('2024-09-26 09:58:03+0000', tz='UTC'), Timestamp('2024-09-29 16:45:46+0000', tz='UTC'), Timestamp('2024-09-29 16:51:48+0000', tz='UTC'), Timestamp('2024-09-29 19:03:50+0000', tz='UTC'), Timestamp('2024-09-29 19:09:55+0000', tz='UTC')]\n"
     ]
    },
    {
     "data": {
      "text/plain": [
       "publishTime\n",
       "2024-06-13 18:37:32+00:00    3\n",
       "2024-01-30 09:22:01+00:00    3\n",
       "2023-07-17 10:42:04+00:00    3\n",
       "2024-09-20 11:51:24+00:00    3\n",
       "2020-10-30 13:41:00+00:00    3\n",
       "                            ..\n",
       "2020-10-30 21:28:00+00:00    1\n",
       "2020-10-30 17:02:00+00:00    1\n",
       "2020-10-30 11:29:00+00:00    1\n",
       "2020-10-30 11:28:00+00:00    1\n",
       "2021-01-30 18:51:00+00:00    1\n",
       "Name: id, Length: 403, dtype: int64"
      ]
     },
     "execution_count": 34,
     "metadata": {},
     "output_type": "execute_result"
    }
   ],
   "source": [
    "# Gruppiere nach 'publishTime' und zähle 'id' pro Gruppe\n",
    "df_publishTime = df.groupby(['publishTime'])['id'].count()\n",
    "\n",
    "# Konvertiere den Index von 'publishTime' in eine Liste und gib sie aus\n",
    "print(df_publishTime.index.tolist())\n",
    "\n",
    "# Ergebnis nach der Anzahl der 'publishTime' absteigend sortieren\n",
    "df_publishTime.sort_values(ascending=False)\n"
   ]
  },
  {
   "cell_type": "code",
   "execution_count": 35,
   "metadata": {},
   "outputs": [
    {
     "name": "stdout",
     "output_type": "stream",
     "text": [
      "['UnavailabilitiesOfElectricityFacilities']\n"
     ]
    },
    {
     "data": {
      "text/plain": [
       "messageType\n",
       "UnavailabilitiesOfElectricityFacilities    436\n",
       "Name: id, dtype: int64"
      ]
     },
     "execution_count": 35,
     "metadata": {},
     "output_type": "execute_result"
    }
   ],
   "source": [
    "# In dieser Spalte ist nur UnavailabilitiesOfElectricityFacilities\n",
    "\n",
    "# Gruppiere nach 'messageType' und zähle 'id' pro Gruppe\n",
    "df_messageType = df.groupby(['messageType'])['id'].count()\n",
    "\n",
    "# Konvertiere den Index von 'messageType' in eine Liste und gib sie aus\n",
    "print(df_messageType.index.tolist())\n",
    "\n",
    "df_messageType"
   ]
  },
  {
   "cell_type": "code",
   "execution_count": 36,
   "metadata": {},
   "outputs": [
    {
     "name": "stdout",
     "output_type": "stream",
     "text": [
      "['REMIT Information']\n"
     ]
    },
    {
     "data": {
      "text/plain": [
       "messageHeading\n",
       "REMIT Information    436\n",
       "Name: id, dtype: int64"
      ]
     },
     "execution_count": 36,
     "metadata": {},
     "output_type": "execute_result"
    }
   ],
   "source": [
    "# Ist dieser Spalte ist nur  messageHeading\n",
    "\n",
    "# Gruppiere nach 'messageHeading' und zähle 'id' pro Gruppe\n",
    "df_messageHeading = df.groupby(['messageHeading'])['id'].count()\n",
    "\n",
    "# Konvertiere den Index von 'messageHeading' in eine Liste und gib sie aus\n",
    "print(df_messageHeading.index.tolist())\n",
    "\n",
    "df_messageHeading"
   ]
  },
  {
   "cell_type": "code",
   "execution_count": 37,
   "metadata": {},
   "outputs": [
    {
     "name": "stdout",
     "output_type": "stream",
     "text": [
      "['Production unavailability']\n"
     ]
    },
    {
     "data": {
      "text/plain": [
       "eventType\n",
       "Production unavailability    436\n",
       "Name: id, dtype: int64"
      ]
     },
     "execution_count": 37,
     "metadata": {},
     "output_type": "execute_result"
    }
   ],
   "source": [
    "# Ist dieser Spalte ist nur Production unavailability\n",
    "\n",
    "# Gruppiere nach 'eventType' und zähle 'id' pro Gruppe\n",
    "df_eventType = df.groupby(['eventType'])['id'].count()\n",
    "\n",
    "# Konvertiere den Index von 'eventType' in eine Liste und gib sie aus\n",
    "print(df_eventType.index.tolist())\n",
    "\n",
    "df_eventType"
   ]
  },
  {
   "cell_type": "markdown",
   "metadata": {},
   "source": [
    "hier weitermachen"
   ]
  },
  {
   "cell_type": "code",
   "execution_count": 38,
   "metadata": {},
   "outputs": [
    {
     "name": "stdout",
     "output_type": "stream",
     "text": [
      "['Planned', 'Unplanned']\n"
     ]
    },
    {
     "data": {
      "text/plain": [
       "unavailabilityType\n",
       "Planned      348\n",
       "Unplanned     88\n",
       "Name: id, dtype: int64"
      ]
     },
     "execution_count": 38,
     "metadata": {},
     "output_type": "execute_result"
    }
   ],
   "source": [
    "# Gruppiere nach 'unavailabilityType' und zähle 'id' pro Gruppe\n",
    "df_unavailabilityType = df.groupby(['unavailabilityType'])['id'].count()\n",
    "\n",
    "# Konvertiere den Index von 'unavailabilityType' in eine Liste und gib sie aus\n",
    "print(df_unavailabilityType.index.tolist())\n",
    "\n",
    "df_unavailabilityType"
   ]
  },
  {
   "cell_type": "code",
   "execution_count": 39,
   "metadata": {},
   "outputs": [
    {
     "name": "stdout",
     "output_type": "stream",
     "text": [
      "['DONG013']\n"
     ]
    },
    {
     "data": {
      "text/plain": [
       "participantId\n",
       "DONG013    436\n",
       "Name: id, dtype: int64"
      ]
     },
     "execution_count": 39,
     "metadata": {},
     "output_type": "execute_result"
    }
   ],
   "source": [
    "# Ist dieser Spalte ist nur DONG013\n",
    "\n",
    "# Gruppiere nach 'participantId' und zähle 'id' pro Gruppe\n",
    "df_participantId = df.groupby(['participantId'])['id'].count()\n",
    "\n",
    "# Konvertiere den Index von 'participantId' in eine Liste und gib sie aus\n",
    "print(df_participantId.index.tolist())\n",
    "\n",
    "df_participantId"
   ]
  },
  {
   "cell_type": "code",
   "execution_count": 40,
   "metadata": {},
   "outputs": [
    {
     "name": "stdout",
     "output_type": "stream",
     "text": [
      "['11XDONG-PT-----2']\n"
     ]
    },
    {
     "data": {
      "text/plain": [
       "registrationCode\n",
       "11XDONG-PT-----2    436\n",
       "Name: id, dtype: int64"
      ]
     },
     "execution_count": 40,
     "metadata": {},
     "output_type": "execute_result"
    }
   ],
   "source": [
    "# Ist dieser Spalte ist nur 11XDONG-PT-----2\n",
    "\n",
    "# Gruppiere nach 'registrationCode' und zähle 'id' pro Gruppe\n",
    "df_registrationCode = df.groupby(['registrationCode'])['id'].count()\n",
    "\n",
    "# Konvertiere den Index von 'registrationCode' in eine Liste und gib sie aus\n",
    "print(df_registrationCode.index.tolist())\n",
    "\n",
    "df_registrationCode"
   ]
  },
  {
   "cell_type": "code",
   "execution_count": 41,
   "metadata": {},
   "outputs": [
    {
     "name": "stdout",
     "output_type": "stream",
     "text": [
      "['T_HOWAO-1', 'T_HOWAO-2', 'T_HOWAO-3']\n"
     ]
    },
    {
     "data": {
      "text/plain": [
       "assetId\n",
       "T_HOWAO-1    145\n",
       "T_HOWAO-2    133\n",
       "T_HOWAO-3    158\n",
       "Name: id, dtype: int64"
      ]
     },
     "execution_count": 41,
     "metadata": {},
     "output_type": "execute_result"
    }
   ],
   "source": [
    "# Gruppiere nach 'assetId' und zähle 'id' pro Gruppe\n",
    "df_assetId = df.groupby(['assetId'])['id'].count()\n",
    "\n",
    "# Konvertiere den Index von 'assetId' in eine Liste und gib sie aus\n",
    "print(df_assetId.index.tolist())\n",
    "df_assetId\n"
   ]
  },
  {
   "cell_type": "code",
   "execution_count": 42,
   "metadata": {},
   "outputs": [
    {
     "name": "stdout",
     "output_type": "stream",
     "text": [
      "[Timestamp('2020-01-29 15:52:00+0000', tz='UTC'), Timestamp('2020-01-31 13:04:00+0000', tz='UTC'), Timestamp('2020-02-02 06:40:00+0000', tz='UTC'), Timestamp('2020-02-02 07:11:00+0000', tz='UTC'), Timestamp('2020-02-02 08:44:00+0000', tz='UTC'), Timestamp('2020-02-03 11:19:00+0000', tz='UTC'), Timestamp('2020-02-06 11:03:00+0000', tz='UTC'), Timestamp('2020-02-10 18:21:00+0000', tz='UTC'), Timestamp('2020-02-13 11:06:00+0000', tz='UTC'), Timestamp('2020-02-14 09:43:00+0000', tz='UTC'), Timestamp('2020-02-15 15:06:00+0000', tz='UTC'), Timestamp('2020-02-17 15:05:00+0000', tz='UTC'), Timestamp('2020-02-24 10:50:00+0000', tz='UTC'), Timestamp('2020-02-25 14:39:00+0000', tz='UTC'), Timestamp('2020-02-28 13:14:00+0000', tz='UTC'), Timestamp('2020-02-28 13:18:00+0000', tz='UTC'), Timestamp('2020-03-04 23:16:00+0000', tz='UTC'), Timestamp('2020-03-04 23:22:00+0000', tz='UTC'), Timestamp('2020-03-05 15:02:00+0000', tz='UTC'), Timestamp('2020-03-06 12:51:00+0000', tz='UTC'), Timestamp('2020-03-06 19:33:00+0000', tz='UTC'), Timestamp('2020-03-09 08:56:00+0000', tz='UTC'), Timestamp('2020-03-12 06:38:00+0000', tz='UTC'), Timestamp('2020-03-12 18:56:00+0000', tz='UTC'), Timestamp('2020-03-13 09:36:00+0000', tz='UTC'), Timestamp('2020-03-13 14:36:00+0000', tz='UTC'), Timestamp('2020-03-14 06:32:00+0000', tz='UTC'), Timestamp('2020-03-14 11:41:00+0000', tz='UTC'), Timestamp('2020-03-19 06:32:00+0000', tz='UTC'), Timestamp('2020-03-20 10:22:00+0000', tz='UTC'), Timestamp('2020-03-24 09:36:00+0000', tz='UTC'), Timestamp('2020-03-24 15:46:00+0000', tz='UTC'), Timestamp('2020-03-27 15:35:00+0000', tz='UTC'), Timestamp('2020-03-30 13:53:00+0000', tz='UTC'), Timestamp('2020-04-02 08:52:00+0000', tz='UTC'), Timestamp('2020-04-02 16:13:00+0000', tz='UTC'), Timestamp('2020-04-03 01:16:00+0000', tz='UTC'), Timestamp('2020-04-03 08:02:00+0000', tz='UTC'), Timestamp('2020-04-03 10:30:00+0000', tz='UTC'), Timestamp('2020-04-04 14:55:00+0000', tz='UTC'), Timestamp('2020-04-04 14:58:00+0000', tz='UTC'), Timestamp('2020-04-06 15:51:00+0000', tz='UTC'), Timestamp('2020-04-07 07:28:00+0000', tz='UTC'), Timestamp('2020-04-07 13:39:00+0000', tz='UTC'), Timestamp('2020-04-08 13:28:00+0000', tz='UTC'), Timestamp('2020-04-18 18:59:00+0000', tz='UTC'), Timestamp('2020-04-18 23:51:00+0000', tz='UTC'), Timestamp('2020-04-19 00:02:00+0000', tz='UTC'), Timestamp('2020-04-19 09:35:00+0000', tz='UTC'), Timestamp('2020-04-20 09:01:00+0000', tz='UTC'), Timestamp('2020-04-20 17:40:00+0000', tz='UTC'), Timestamp('2020-04-20 17:42:00+0000', tz='UTC'), Timestamp('2020-04-21 09:36:00+0000', tz='UTC'), Timestamp('2020-04-21 10:08:00+0000', tz='UTC'), Timestamp('2020-04-21 10:09:00+0000', tz='UTC'), Timestamp('2020-04-21 10:10:00+0000', tz='UTC'), Timestamp('2020-04-21 10:48:00+0000', tz='UTC'), Timestamp('2020-04-21 11:00:00+0000', tz='UTC'), Timestamp('2020-04-21 11:01:00+0000', tz='UTC'), Timestamp('2020-04-21 12:56:00+0000', tz='UTC'), Timestamp('2020-04-21 13:02:00+0000', tz='UTC'), Timestamp('2020-04-21 13:03:00+0000', tz='UTC'), Timestamp('2020-04-24 15:53:00+0000', tz='UTC'), Timestamp('2020-04-26 11:42:00+0000', tz='UTC'), Timestamp('2020-05-01 16:51:00+0000', tz='UTC'), Timestamp('2020-05-01 16:53:00+0000', tz='UTC'), Timestamp('2020-05-03 17:43:00+0000', tz='UTC'), Timestamp('2020-05-22 23:28:00+0000', tz='UTC'), Timestamp('2020-05-23 00:08:00+0000', tz='UTC'), Timestamp('2020-05-29 13:48:00+0000', tz='UTC'), Timestamp('2020-05-29 13:49:00+0000', tz='UTC'), Timestamp('2020-05-29 14:00:00+0000', tz='UTC'), Timestamp('2020-05-30 13:55:00+0000', tz='UTC'), Timestamp('2020-05-30 13:56:00+0000', tz='UTC'), Timestamp('2020-06-01 16:01:00+0000', tz='UTC'), Timestamp('2020-06-01 16:02:00+0000', tz='UTC'), Timestamp('2020-06-02 15:42:00+0000', tz='UTC'), Timestamp('2020-06-02 15:43:00+0000', tz='UTC'), Timestamp('2020-06-10 14:40:00+0000', tz='UTC'), Timestamp('2020-06-15 05:34:00+0000', tz='UTC'), Timestamp('2020-06-15 06:30:00+0000', tz='UTC'), Timestamp('2020-06-17 12:50:00+0000', tz='UTC'), Timestamp('2020-06-18 14:07:00+0000', tz='UTC'), Timestamp('2020-06-18 18:34:00+0000', tz='UTC'), Timestamp('2020-06-19 10:32:00+0000', tz='UTC'), Timestamp('2020-06-23 15:47:00+0000', tz='UTC'), Timestamp('2020-06-23 19:30:00+0000', tz='UTC'), Timestamp('2020-06-24 14:25:00+0000', tz='UTC'), Timestamp('2020-06-24 14:39:00+0000', tz='UTC'), Timestamp('2020-06-30 13:35:00+0000', tz='UTC'), Timestamp('2020-07-06 12:16:00+0000', tz='UTC'), Timestamp('2020-07-06 12:17:00+0000', tz='UTC'), Timestamp('2020-07-06 13:11:00+0000', tz='UTC'), Timestamp('2020-07-06 13:14:00+0000', tz='UTC'), Timestamp('2020-07-06 14:46:00+0000', tz='UTC'), Timestamp('2020-07-06 14:47:00+0000', tz='UTC'), Timestamp('2020-07-06 17:49:00+0000', tz='UTC'), Timestamp('2020-07-06 17:50:00+0000', tz='UTC'), Timestamp('2020-07-06 19:24:00+0000', tz='UTC'), Timestamp('2020-09-09 14:37:00+0000', tz='UTC'), Timestamp('2020-09-09 14:39:00+0000', tz='UTC'), Timestamp('2020-09-09 14:40:00+0000', tz='UTC'), Timestamp('2020-09-11 15:02:00+0000', tz='UTC'), Timestamp('2020-09-11 17:34:00+0000', tz='UTC'), Timestamp('2020-09-16 00:13:00+0000', tz='UTC'), Timestamp('2020-09-16 00:17:00+0000', tz='UTC'), Timestamp('2020-09-16 00:18:00+0000', tz='UTC'), Timestamp('2020-09-16 00:24:00+0000', tz='UTC'), Timestamp('2020-09-16 00:25:00+0000', tz='UTC'), Timestamp('2020-09-16 00:26:00+0000', tz='UTC'), Timestamp('2020-09-21 11:42:00+0000', tz='UTC'), Timestamp('2020-09-23 07:56:00+0000', tz='UTC'), Timestamp('2020-09-23 12:12:00+0000', tz='UTC'), Timestamp('2020-09-23 13:33:00+0000', tz='UTC'), Timestamp('2020-09-24 07:35:00+0000', tz='UTC'), Timestamp('2020-09-24 08:03:00+0000', tz='UTC'), Timestamp('2020-09-28 09:13:00+0000', tz='UTC'), Timestamp('2020-09-28 10:31:00+0000', tz='UTC'), Timestamp('2020-09-29 13:02:00+0000', tz='UTC'), Timestamp('2020-09-29 16:39:00+0000', tz='UTC'), Timestamp('2020-09-29 17:34:00+0000', tz='UTC'), Timestamp('2020-09-30 09:57:00+0000', tz='UTC'), Timestamp('2020-10-19 11:31:00+0000', tz='UTC'), Timestamp('2020-10-20 09:00:00+0000', tz='UTC'), Timestamp('2020-10-22 16:04:00+0000', tz='UTC'), Timestamp('2020-10-27 15:50:00+0000', tz='UTC'), Timestamp('2020-10-30 11:25:00+0000', tz='UTC'), Timestamp('2020-10-30 11:27:00+0000', tz='UTC'), Timestamp('2020-10-30 11:28:00+0000', tz='UTC'), Timestamp('2020-10-30 11:29:00+0000', tz='UTC'), Timestamp('2020-10-30 13:41:00+0000', tz='UTC'), Timestamp('2020-10-30 17:02:00+0000', tz='UTC'), Timestamp('2020-10-30 17:03:00+0000', tz='UTC'), Timestamp('2020-10-30 21:28:00+0000', tz='UTC'), Timestamp('2020-10-30 21:29:00+0000', tz='UTC'), Timestamp('2020-10-30 21:30:00+0000', tz='UTC'), Timestamp('2020-10-30 23:41:00+0000', tz='UTC'), Timestamp('2020-10-30 23:50:00+0000', tz='UTC'), Timestamp('2020-10-31 00:26:00+0000', tz='UTC'), Timestamp('2020-10-31 00:34:00+0000', tz='UTC'), Timestamp('2020-10-31 00:37:00+0000', tz='UTC'), Timestamp('2020-10-31 00:38:00+0000', tz='UTC'), Timestamp('2020-10-31 01:39:00+0000', tz='UTC'), Timestamp('2020-11-16 14:32:00+0000', tz='UTC'), Timestamp('2020-11-17 18:53:00+0000', tz='UTC'), Timestamp('2020-11-19 15:58:00+0000', tz='UTC'), Timestamp('2020-11-20 16:03:00+0000', tz='UTC'), Timestamp('2020-11-24 12:00:00+0000', tz='UTC'), Timestamp('2020-11-24 12:50:00+0000', tz='UTC'), Timestamp('2020-11-24 12:53:00+0000', tz='UTC'), Timestamp('2020-11-24 15:55:00+0000', tz='UTC'), Timestamp('2020-11-26 13:53:00+0000', tz='UTC'), Timestamp('2020-11-26 13:54:00+0000', tz='UTC'), Timestamp('2020-12-07 21:19:00+0000', tz='UTC'), Timestamp('2020-12-10 16:12:00+0000', tz='UTC'), Timestamp('2020-12-13 19:13:00+0000', tz='UTC'), Timestamp('2020-12-14 09:29:00+0000', tz='UTC'), Timestamp('2020-12-22 02:54:00+0000', tz='UTC'), Timestamp('2021-01-01 10:57:00+0000', tz='UTC'), Timestamp('2021-01-02 12:48:00+0000', tz='UTC'), Timestamp('2021-01-02 23:40:00+0000', tz='UTC'), Timestamp('2021-01-05 15:42:00+0000', tz='UTC'), Timestamp('2021-01-06 05:04:00+0000', tz='UTC'), Timestamp('2021-01-06 05:25:00+0000', tz='UTC'), Timestamp('2021-01-06 15:00:00+0000', tz='UTC'), Timestamp('2021-01-08 02:55:00+0000', tz='UTC'), Timestamp('2021-01-09 12:31:00+0000', tz='UTC'), Timestamp('2021-01-10 01:02:00+0000', tz='UTC'), Timestamp('2021-01-10 01:04:00+0000', tz='UTC'), Timestamp('2021-01-10 13:01:00+0000', tz='UTC'), Timestamp('2021-01-10 15:50:00+0000', tz='UTC'), Timestamp('2021-01-10 15:51:00+0000', tz='UTC'), Timestamp('2021-01-10 17:31:00+0000', tz='UTC'), Timestamp('2021-01-10 17:35:00+0000', tz='UTC'), Timestamp('2021-01-13 10:13:00+0000', tz='UTC'), Timestamp('2021-01-13 10:16:00+0000', tz='UTC'), Timestamp('2021-01-18 15:12:00+0000', tz='UTC'), Timestamp('2021-01-18 16:39:00+0000', tz='UTC'), Timestamp('2021-01-18 16:42:00+0000', tz='UTC'), Timestamp('2021-01-18 16:44:00+0000', tz='UTC'), Timestamp('2021-01-19 09:19:00+0000', tz='UTC'), Timestamp('2021-01-19 13:37:00+0000', tz='UTC'), Timestamp('2021-01-20 08:00:00+0000', tz='UTC'), Timestamp('2021-01-20 13:35:00+0000', tz='UTC'), Timestamp('2021-01-20 13:38:00+0000', tz='UTC'), Timestamp('2021-01-21 05:03:00+0000', tz='UTC'), Timestamp('2021-01-21 07:52:00+0000', tz='UTC'), Timestamp('2021-01-21 14:10:00+0000', tz='UTC'), Timestamp('2021-01-21 17:44:00+0000', tz='UTC'), Timestamp('2021-01-22 12:02:00+0000', tz='UTC'), Timestamp('2021-01-23 18:26:00+0000', tz='UTC'), Timestamp('2021-01-23 18:30:00+0000', tz='UTC'), Timestamp('2021-01-24 08:46:00+0000', tz='UTC'), Timestamp('2021-01-24 08:50:00+0000', tz='UTC'), Timestamp('2021-01-26 08:54:00+0000', tz='UTC'), Timestamp('2021-01-26 13:40:00+0000', tz='UTC'), Timestamp('2021-01-26 16:20:00+0000', tz='UTC'), Timestamp('2021-01-26 16:22:00+0000', tz='UTC'), Timestamp('2021-01-27 08:30:00+0000', tz='UTC'), Timestamp('2021-01-28 08:08:00+0000', tz='UTC'), Timestamp('2021-01-29 08:20:00+0000', tz='UTC'), Timestamp('2021-01-30 18:51:00+0000', tz='UTC'), Timestamp('2021-02-03 07:56:00+0000', tz='UTC'), Timestamp('2021-02-04 08:31:00+0000', tz='UTC'), Timestamp('2021-02-05 06:35:00+0000', tz='UTC'), Timestamp('2021-02-05 09:16:00+0000', tz='UTC'), Timestamp('2021-02-05 10:18:00+0000', tz='UTC'), Timestamp('2021-02-08 10:52:00+0000', tz='UTC'), Timestamp('2021-02-08 11:38:00+0000', tz='UTC'), Timestamp('2021-02-13 15:22:00+0000', tz='UTC'), Timestamp('2021-02-13 15:24:00+0000', tz='UTC'), Timestamp('2021-02-13 15:40:00+0000', tz='UTC'), Timestamp('2021-02-13 15:44:00+0000', tz='UTC'), Timestamp('2021-02-17 11:47:00+0000', tz='UTC'), Timestamp('2021-02-17 11:48:00+0000', tz='UTC'), Timestamp('2021-02-17 12:03:00+0000', tz='UTC'), Timestamp('2021-02-17 12:04:00+0000', tz='UTC'), Timestamp('2021-02-21 08:47:00+0000', tz='UTC'), Timestamp('2021-02-21 08:49:00+0000', tz='UTC'), Timestamp('2021-03-19 22:22:00+0000', tz='UTC'), Timestamp('2021-03-19 22:23:00+0000', tz='UTC'), Timestamp('2021-03-19 22:25:00+0000', tz='UTC'), Timestamp('2021-03-20 09:21:00+0000', tz='UTC'), Timestamp('2021-03-20 09:22:00+0000', tz='UTC'), Timestamp('2021-03-20 09:24:00+0000', tz='UTC'), Timestamp('2021-03-20 12:28:00+0000', tz='UTC'), Timestamp('2021-03-20 12:29:00+0000', tz='UTC'), Timestamp('2021-03-20 16:27:00+0000', tz='UTC'), Timestamp('2021-03-20 16:28:00+0000', tz='UTC'), Timestamp('2021-03-20 17:17:00+0000', tz='UTC'), Timestamp('2021-03-20 17:18:00+0000', tz='UTC'), Timestamp('2021-05-21 06:23:00+0000', tz='UTC'), Timestamp('2021-05-21 06:26:00+0000', tz='UTC'), Timestamp('2021-05-21 14:57:00+0000', tz='UTC'), Timestamp('2021-05-21 14:58:00+0000', tz='UTC'), Timestamp('2021-06-07 06:55:00+0000', tz='UTC'), Timestamp('2021-06-07 06:57:00+0000', tz='UTC'), Timestamp('2021-06-07 06:59:00+0000', tz='UTC'), Timestamp('2021-08-27 14:25:00+0000', tz='UTC'), Timestamp('2021-08-31 07:33:00+0000', tz='UTC'), Timestamp('2021-08-31 12:44:00+0000', tz='UTC'), Timestamp('2021-08-31 12:46:00+0000', tz='UTC'), Timestamp('2021-08-31 12:47:00+0000', tz='UTC'), Timestamp('2021-08-31 15:34:00+0000', tz='UTC'), Timestamp('2021-09-08 19:18:00+0000', tz='UTC'), Timestamp('2021-09-08 19:20:00+0000', tz='UTC'), Timestamp('2021-09-10 17:06:00+0000', tz='UTC'), Timestamp('2021-09-11 17:20:00+0000', tz='UTC'), Timestamp('2021-09-12 06:28:00+0000', tz='UTC'), Timestamp('2021-09-15 16:35:00+0000', tz='UTC'), Timestamp('2021-09-16 12:36:00+0000', tz='UTC'), Timestamp('2021-09-17 13:38:00+0000', tz='UTC'), Timestamp('2021-09-17 19:58:00+0000', tz='UTC'), Timestamp('2021-09-17 20:00:00+0000', tz='UTC'), Timestamp('2021-09-17 20:38:00+0000', tz='UTC'), Timestamp('2022-01-24 11:45:00+0000', tz='UTC'), Timestamp('2022-01-24 11:48:00+0000', tz='UTC'), Timestamp('2022-05-10 15:30:00+0000', tz='UTC'), Timestamp('2022-05-10 15:44:00+0000', tz='UTC'), Timestamp('2022-06-15 11:06:00+0000', tz='UTC'), Timestamp('2022-06-15 11:10:00+0000', tz='UTC'), Timestamp('2022-06-16 13:53:00+0000', tz='UTC'), Timestamp('2022-06-24 09:05:00+0000', tz='UTC'), Timestamp('2022-06-24 16:26:00+0000', tz='UTC'), Timestamp('2022-06-28 19:42:00+0000', tz='UTC'), Timestamp('2022-06-28 19:43:00+0000', tz='UTC'), Timestamp('2022-07-22 07:37:00+0000', tz='UTC'), Timestamp('2022-09-20 07:40:00+0000', tz='UTC'), Timestamp('2022-09-20 07:42:00+0000', tz='UTC'), Timestamp('2022-09-20 07:45:00+0000', tz='UTC'), Timestamp('2023-02-06 12:47:00+0000', tz='UTC'), Timestamp('2023-02-06 12:48:00+0000', tz='UTC'), Timestamp('2023-02-06 12:50:00+0000', tz='UTC'), Timestamp('2023-02-07 13:03:00+0000', tz='UTC'), Timestamp('2023-02-07 13:04:00+0000', tz='UTC'), Timestamp('2023-02-07 13:06:00+0000', tz='UTC'), Timestamp('2023-04-24 07:04:00+0000', tz='UTC'), Timestamp('2023-04-24 07:05:00+0000', tz='UTC'), Timestamp('2023-04-24 07:07:00+0000', tz='UTC'), Timestamp('2023-04-24 08:19:00+0000', tz='UTC'), Timestamp('2023-04-24 08:20:00+0000', tz='UTC'), Timestamp('2023-04-24 08:21:00+0000', tz='UTC'), Timestamp('2023-04-24 10:26:00+0000', tz='UTC'), Timestamp('2023-04-24 10:27:00+0000', tz='UTC'), Timestamp('2023-04-24 10:28:00+0000', tz='UTC'), Timestamp('2023-04-25 08:20:00+0000', tz='UTC'), Timestamp('2023-04-25 08:21:00+0000', tz='UTC'), Timestamp('2023-04-25 08:22:00+0000', tz='UTC'), Timestamp('2023-07-17 10:42:04+0000', tz='UTC'), Timestamp('2023-07-18 14:12:03+0000', tz='UTC'), Timestamp('2023-07-18 14:12:04+0000', tz='UTC'), Timestamp('2023-07-20 03:06:40+0000', tz='UTC'), Timestamp('2023-07-21 07:30:07+0000', tz='UTC'), Timestamp('2023-07-23 07:18:03+0000', tz='UTC'), Timestamp('2023-07-24 07:00:04+0000', tz='UTC'), Timestamp('2023-07-24 11:00:04+0000', tz='UTC'), Timestamp('2023-07-25 12:12:06+0000', tz='UTC'), Timestamp('2023-07-25 14:35:35+0000', tz='UTC'), Timestamp('2023-07-25 16:24:05+0000', tz='UTC'), Timestamp('2023-07-26 11:42:03+0000', tz='UTC'), Timestamp('2023-07-26 13:00:06+0000', tz='UTC'), Timestamp('2023-07-27 12:30:06+0000', tz='UTC'), Timestamp('2024-01-19 08:06:03+0000', tz='UTC'), Timestamp('2024-01-19 13:12:03+0000', tz='UTC'), Timestamp('2024-01-19 17:06:03+0000', tz='UTC'), Timestamp('2024-01-20 01:00:03+0000', tz='UTC'), Timestamp('2024-01-20 09:39:03+0000', tz='UTC'), Timestamp('2024-01-20 09:45:02+0000', tz='UTC'), Timestamp('2024-01-22 22:52:02+0000', tz='UTC'), Timestamp('2024-01-23 09:46:01+0000', tz='UTC'), Timestamp('2024-01-23 11:34:01+0000', tz='UTC'), Timestamp('2024-01-23 14:16:01+0000', tz='UTC'), Timestamp('2024-01-23 18:28:01+0000', tz='UTC'), Timestamp('2024-01-23 18:34:01+0000', tz='UTC'), Timestamp('2024-01-24 20:16:01+0000', tz='UTC'), Timestamp('2024-01-25 00:04:01+0000', tz='UTC'), Timestamp('2024-01-26 18:16:01+0000', tz='UTC'), Timestamp('2024-01-27 04:40:02+0000', tz='UTC'), Timestamp('2024-01-27 17:28:01+0000', tz='UTC'), Timestamp('2024-01-28 10:10:01+0000', tz='UTC'), Timestamp('2024-01-28 11:40:02+0000', tz='UTC'), Timestamp('2024-01-28 13:34:01+0000', tz='UTC'), Timestamp('2024-01-29 02:16:02+0000', tz='UTC'), Timestamp('2024-01-29 02:34:01+0000', tz='UTC'), Timestamp('2024-01-30 09:22:01+0000', tz='UTC'), Timestamp('2024-01-30 12:28:01+0000', tz='UTC'), Timestamp('2024-02-13 18:04:01+0000', tz='UTC'), Timestamp('2024-02-13 18:10:01+0000', tz='UTC'), Timestamp('2024-02-21 14:58:01+0000', tz='UTC'), Timestamp('2024-02-23 17:46:00+0000', tz='UTC'), Timestamp('2024-02-23 19:34:01+0000', tz='UTC'), Timestamp('2024-02-23 21:22:01+0000', tz='UTC'), Timestamp('2024-02-24 11:37:01+0000', tz='UTC'), Timestamp('2024-02-24 14:43:01+0000', tz='UTC'), Timestamp('2024-02-25 06:55:01+0000', tz='UTC'), Timestamp('2024-02-25 21:07:01+0000', tz='UTC'), Timestamp('2024-02-25 21:37:00+0000', tz='UTC'), Timestamp('2024-02-26 01:13:01+0000', tz='UTC'), Timestamp('2024-02-26 05:19:01+0000', tz='UTC'), Timestamp('2024-03-28 14:20:28+0000', tz='UTC'), Timestamp('2024-03-28 14:20:29+0000', tz='UTC'), Timestamp('2024-04-29 08:34:17+0000', tz='UTC'), Timestamp('2024-04-29 08:40:18+0000', tz='UTC'), Timestamp('2024-04-30 09:10:15+0000', tz='UTC'), Timestamp('2024-04-30 09:16:15+0000', tz='UTC'), Timestamp('2024-05-01 11:07:41+0000', tz='UTC'), Timestamp('2024-05-01 11:13:40+0000', tz='UTC'), Timestamp('2024-05-02 07:13:35+0000', tz='UTC'), Timestamp('2024-05-02 07:19:37+0000', tz='UTC'), Timestamp('2024-05-03 07:06:32+0000', tz='UTC'), Timestamp('2024-05-03 07:06:33+0000', tz='UTC'), Timestamp('2024-05-03 14:24:34+0000', tz='UTC'), Timestamp('2024-05-04 15:54:35+0000', tz='UTC'), Timestamp('2024-05-04 16:00:36+0000', tz='UTC'), Timestamp('2024-05-09 06:06:41+0000', tz='UTC'), Timestamp('2024-05-20 15:01:07+0000', tz='UTC'), Timestamp('2024-05-21 08:43:01+0000', tz='UTC'), Timestamp('2024-05-23 09:13:08+0000', tz='UTC'), Timestamp('2024-05-24 08:19:06+0000', tz='UTC'), Timestamp('2024-05-24 16:25:06+0000', tz='UTC'), Timestamp('2024-05-24 16:25:07+0000', tz='UTC'), Timestamp('2024-05-25 09:25:05+0000', tz='UTC'), Timestamp('2024-05-25 09:25:07+0000', tz='UTC'), Timestamp('2024-05-27 15:43:17+0000', tz='UTC'), Timestamp('2024-05-28 15:37:03+0000', tz='UTC'), Timestamp('2024-05-28 22:07:07+0000', tz='UTC'), Timestamp('2024-05-30 07:38:30+0000', tz='UTC'), Timestamp('2024-05-30 15:20:38+0000', tz='UTC'), Timestamp('2024-05-31 07:26:26+0000', tz='UTC'), Timestamp('2024-05-31 07:32:27+0000', tz='UTC'), Timestamp('2024-05-31 14:32:32+0000', tz='UTC'), Timestamp('2024-06-01 22:38:39+0000', tz='UTC'), Timestamp('2024-06-03 11:26:34+0000', tz='UTC'), Timestamp('2024-06-04 09:56:33+0000', tz='UTC'), Timestamp('2024-06-11 08:01:35+0000', tz='UTC'), Timestamp('2024-06-11 08:01:36+0000', tz='UTC'), Timestamp('2024-06-11 08:07:36+0000', tz='UTC'), Timestamp('2024-06-11 08:37:27+0000', tz='UTC'), Timestamp('2024-06-11 08:37:28+0000', tz='UTC'), Timestamp('2024-06-12 13:19:28+0000', tz='UTC'), Timestamp('2024-06-13 16:31:37+0000', tz='UTC'), Timestamp('2024-06-13 16:31:50+0000', tz='UTC'), Timestamp('2024-06-13 16:31:51+0000', tz='UTC'), Timestamp('2024-06-13 18:37:32+0000', tz='UTC'), Timestamp('2024-06-19 11:46:30+0000', tz='UTC'), Timestamp('2024-06-19 11:52:33+0000', tz='UTC'), Timestamp('2024-08-27 14:17:57+0000', tz='UTC'), Timestamp('2024-08-27 14:18:00+0000', tz='UTC'), Timestamp('2024-08-27 14:23:58+0000', tz='UTC'), Timestamp('2024-09-18 09:21:34+0000', tz='UTC'), Timestamp('2024-09-18 09:27:49+0000', tz='UTC'), Timestamp('2024-09-18 18:03:30+0000', tz='UTC'), Timestamp('2024-09-18 18:09:32+0000', tz='UTC'), Timestamp('2024-09-19 02:27:27+0000', tz='UTC'), Timestamp('2024-09-19 08:33:30+0000', tz='UTC'), Timestamp('2024-09-19 08:39:31+0000', tz='UTC'), Timestamp('2024-09-20 11:51:24+0000', tz='UTC'), Timestamp('2024-09-26 09:57:50+0000', tz='UTC'), Timestamp('2024-09-26 09:58:03+0000', tz='UTC'), Timestamp('2024-09-29 16:45:46+0000', tz='UTC'), Timestamp('2024-09-29 16:51:48+0000', tz='UTC'), Timestamp('2024-09-29 19:03:50+0000', tz='UTC'), Timestamp('2024-09-29 19:09:55+0000', tz='UTC')]\n"
     ]
    },
    {
     "data": {
      "text/plain": [
       "publishTime\n",
       "2024-06-13 18:37:32+00:00    3\n",
       "2024-01-30 09:22:01+00:00    3\n",
       "2023-07-17 10:42:04+00:00    3\n",
       "2024-09-20 11:51:24+00:00    3\n",
       "2020-10-30 13:41:00+00:00    3\n",
       "                            ..\n",
       "2020-10-30 21:28:00+00:00    1\n",
       "2020-10-30 17:02:00+00:00    1\n",
       "2020-10-30 11:29:00+00:00    1\n",
       "2020-10-30 11:28:00+00:00    1\n",
       "2021-01-30 18:51:00+00:00    1\n",
       "Name: id, Length: 403, dtype: int64"
      ]
     },
     "execution_count": 42,
     "metadata": {},
     "output_type": "execute_result"
    }
   ],
   "source": [
    "# Gruppiere nach 'publishTime' und zähle 'id' pro Gruppe\n",
    "df_publishTime = df.groupby(['publishTime'])['id'].count()\n",
    "\n",
    "# Konvertiere den Index von 'publishTime' in eine Liste und gib sie aus\n",
    "print(df_publishTime.index.tolist())\n",
    "\n",
    "# Ergebnis nach der Anzahl der 'publishTime' absteigend sortieren\n",
    "df_publishTime.sort_values(ascending=False)\n"
   ]
  },
  {
   "cell_type": "code",
   "execution_count": 43,
   "metadata": {},
   "outputs": [
    {
     "name": "stdout",
     "output_type": "stream",
     "text": [
      "['Production']\n"
     ]
    },
    {
     "data": {
      "text/plain": [
       "assetType\n",
       "Production    436\n",
       "Name: id, dtype: int64"
      ]
     },
     "execution_count": 43,
     "metadata": {},
     "output_type": "execute_result"
    }
   ],
   "source": [
    "# Ist dieser Spalte ist nur Production\n",
    "\n",
    "# Gruppiere nach 'assetType' und zähle 'id' pro Gruppe\n",
    "df_assetType = df.groupby(['assetType'])['id'].count()\n",
    "\n",
    "# Konvertiere den Index von 'assetType' in eine Liste und gib sie aus\n",
    "print(df_assetType.index.tolist())\n",
    "\n",
    "df_assetType"
   ]
  },
  {
   "cell_type": "code",
   "execution_count": 56,
   "metadata": {},
   "outputs": [
    {
     "name": "stdout",
     "output_type": "stream",
     "text": [
      "['HOWAO-1', 'HOWAO-2', 'HOWAO-3']\n"
     ]
    },
    {
     "data": {
      "text/plain": [
       "affectedUnit\n",
       "HOWAO-1    145\n",
       "HOWAO-2    133\n",
       "HOWAO-3    158\n",
       "Name: id, dtype: int64"
      ]
     },
     "execution_count": 56,
     "metadata": {},
     "output_type": "execute_result"
    }
   ],
   "source": [
    "# Gruppiere nach 'affectedUnit' und zähle 'id' pro Gruppe\n",
    "df_affectedUnit = df.groupby(['affectedUnit'])['id'].count()\n",
    "\n",
    "# Konvertiere den Index von 'affectedUnit' in eine Liste und gib sie aus\n",
    "print(df_affectedUnit.index.tolist())\n",
    "\n",
    "df_affectedUnit"
   ]
  },
  {
   "cell_type": "code",
   "execution_count": 45,
   "metadata": {},
   "outputs": [
    {
     "name": "stdout",
     "output_type": "stream",
     "text": [
      "['48W00000HOWAO-1M', '48W00000HOWAO-2K', '48W00000HOWAO-3I']\n"
     ]
    },
    {
     "data": {
      "text/plain": [
       "affectedUnitEIC\n",
       "48W00000HOWAO-1M    145\n",
       "48W00000HOWAO-2K    133\n",
       "48W00000HOWAO-3I    158\n",
       "Name: id, dtype: int64"
      ]
     },
     "execution_count": 45,
     "metadata": {},
     "output_type": "execute_result"
    }
   ],
   "source": [
    "# Gruppiere nach 'affectedUnitEIC' und zähle 'id' pro Gruppe\n",
    "df_affectedUnitEIC = df.groupby(['affectedUnitEIC'])['id'].count()\n",
    "\n",
    "# Konvertiere den Index von 'affectedUnitEIC' in eine Liste und gib sie aus\n",
    "print(df_affectedUnitEIC.index.tolist())\n",
    "\n",
    "df_affectedUnitEIC"
   ]
  },
  {
   "cell_type": "code",
   "execution_count": 57,
   "metadata": {},
   "outputs": [
    {
     "name": "stdout",
     "output_type": "stream",
     "text": [
      "['B7']\n"
     ]
    },
    {
     "data": {
      "text/plain": [
       "affectedArea\n",
       "B7    436\n",
       "Name: id, dtype: int64"
      ]
     },
     "execution_count": 57,
     "metadata": {},
     "output_type": "execute_result"
    }
   ],
   "source": [
    "# Ist dieser Spalte ist nur B7\n",
    "\n",
    "# Gruppiere nach 'affectedArea' und zähle 'id' pro Gruppe\n",
    "df_affectedArea = df.groupby(['affectedArea'])['id'].count()\n",
    "\n",
    "# Konvertiere den Index von 'affectedArea' in eine Liste und gib sie aus\n",
    "print(df_affectedArea.index.tolist())\n",
    "\n",
    "df_affectedArea"
   ]
  },
  {
   "cell_type": "code",
   "execution_count": 47,
   "metadata": {},
   "outputs": [
    {
     "name": "stdout",
     "output_type": "stream",
     "text": [
      "['10YGB----------A']\n"
     ]
    },
    {
     "data": {
      "text/plain": [
       "biddingZone\n",
       "10YGB----------A    436\n",
       "Name: id, dtype: int64"
      ]
     },
     "execution_count": 47,
     "metadata": {},
     "output_type": "execute_result"
    }
   ],
   "source": [
    "# Ist dieser Spalte ist nur 10YGB----------A\n",
    "\n",
    "# Gruppiere nach 'biddingZone' und zähle 'id' pro Gruppe\n",
    "df_biddingZone = df.groupby(['biddingZone'])['id'].count()\n",
    "\n",
    "# Liste der eindeutigen 'biddingZone'-Werte ausgeben\n",
    "print(df_biddingZone.index.tolist())\n",
    "\n",
    "df_biddingZone"
   ]
  },
  {
   "cell_type": "code",
   "execution_count": 48,
   "metadata": {},
   "outputs": [
    {
     "name": "stdout",
     "output_type": "stream",
     "text": [
      "['Wind Offshore']\n"
     ]
    },
    {
     "data": {
      "text/plain": [
       "fuelType\n",
       "Wind Offshore    436\n",
       "Name: id, dtype: int64"
      ]
     },
     "execution_count": 48,
     "metadata": {},
     "output_type": "execute_result"
    }
   ],
   "source": [
    "# Ist dieser Spalte ist nur Wind Offshore\n",
    "\n",
    "# Gruppiere nach 'fuelType' und zähle 'id' pro Gruppe\n",
    "df_fuelType = df.groupby(['fuelType'])['id'].count()\n",
    "\n",
    "# Liste der eindeutigen 'fuelType'-Werte ausgeben\n",
    "print(df_fuelType.index.tolist())\n",
    "\n",
    "df_fuelType"
   ]
  },
  {
   "cell_type": "code",
   "execution_count": 49,
   "metadata": {},
   "outputs": [
    {
     "name": "stdout",
     "output_type": "stream",
     "text": [
      "[400, 406]\n"
     ]
    },
    {
     "data": {
      "text/plain": [
       "normalCapacity\n",
       "400    431\n",
       "406      5\n",
       "Name: id, dtype: int64"
      ]
     },
     "execution_count": 49,
     "metadata": {},
     "output_type": "execute_result"
    }
   ],
   "source": [
    "# Gruppiere nach 'normalCapacity' und zähle 'id' pro Gruppe\n",
    "df_normalCapacity = df.groupby(['normalCapacity'])['id'].count()\n",
    "\n",
    "# Liste der eindeutigen 'normalCapacity'-Werte ausgeben\n",
    "print(df_normalCapacity.index.tolist())\n",
    "\n",
    "df_normalCapacity"
   ]
  },
  {
   "cell_type": "code",
   "execution_count": 50,
   "metadata": {},
   "outputs": [
    {
     "name": "stdout",
     "output_type": "stream",
     "text": [
      "[0, 75, 77, 98, 100, 105, 140, 150, 161, 168, 173, 175, 182, 189, 190, 196, 200, 203, 224, 238, 240, 245, 250, 252, 259, 260, 266, 273, 280, 287, 294, 300]\n"
     ]
    },
    {
     "data": {
      "text/plain": [
       "availableCapacity\n",
       "0      201\n",
       "75      11\n",
       "77       1\n",
       "98       7\n",
       "100      3\n",
       "105      2\n",
       "140      5\n",
       "150     14\n",
       "161      2\n",
       "168      2\n",
       "173      2\n",
       "175      2\n",
       "182      1\n",
       "189      2\n",
       "190      1\n",
       "196      2\n",
       "200     44\n",
       "203      2\n",
       "224      2\n",
       "238      2\n",
       "240     12\n",
       "245      6\n",
       "250     33\n",
       "252      2\n",
       "259      1\n",
       "260      5\n",
       "266     17\n",
       "273     11\n",
       "280     13\n",
       "287     10\n",
       "294     17\n",
       "300      1\n",
       "Name: id, dtype: int64"
      ]
     },
     "execution_count": 50,
     "metadata": {},
     "output_type": "execute_result"
    }
   ],
   "source": [
    "# Gruppiere nach 'availableCapacity' und zähle 'id' pro Gruppe\n",
    "df_availableCapacity = df.groupby(['availableCapacity'])['id'].count()\n",
    "\n",
    "# Liste der eindeutigen 'availableCapacity'-Werte ausgeben\n",
    "print(df_availableCapacity.index.tolist())\n",
    "\n",
    "df_availableCapacity"
   ]
  },
  {
   "cell_type": "code",
   "execution_count": 51,
   "metadata": {},
   "outputs": [
    {
     "data": {
      "text/plain": [
       "unavailableCapacity\n",
       "100      1\n",
       "106     17\n",
       "113     10\n",
       "120     13\n",
       "127     11\n",
       "134     17\n",
       "140      5\n",
       "141      1\n",
       "148      2\n",
       "150     33\n",
       "155      6\n",
       "160      9\n",
       "162      2\n",
       "166      3\n",
       "176      2\n",
       "200     44\n",
       "203      2\n",
       "204      2\n",
       "210      1\n",
       "211      2\n",
       "218      1\n",
       "225      2\n",
       "227      2\n",
       "232      2\n",
       "239      2\n",
       "250     14\n",
       "260      5\n",
       "295      2\n",
       "300      3\n",
       "302      7\n",
       "323      1\n",
       "325     11\n",
       "400    201\n",
       "Name: id, dtype: int64"
      ]
     },
     "execution_count": 51,
     "metadata": {},
     "output_type": "execute_result"
    }
   ],
   "source": [
    "# Gruppiere nach 'unavailableCapacity' und zähle 'id' pro Gruppe\n",
    "df_unavailableCapacity = df.groupby(['unavailableCapacity'])['id'].count()\n",
    "\n",
    "# Liste der eindeutigen 'unavailableCapacity'-Werte ausgeben\n",
    "# print(df_unavailableCapacity.index.tolist())\n",
    "\n",
    "df_unavailableCapacity"
   ]
  },
  {
   "cell_type": "code",
   "execution_count": 52,
   "metadata": {},
   "outputs": [
    {
     "name": "stdout",
     "output_type": "stream",
     "text": [
      "[Timestamp('2020-01-30 06:00:00+0000', tz='UTC'), Timestamp('2020-03-04 06:00:00+0000', tz='UTC'), Timestamp('2020-03-04 22:30:00+0000', tz='UTC'), Timestamp('2020-03-12 06:00:00+0000', tz='UTC'), Timestamp('2020-03-24 06:00:00+0000', tz='UTC'), Timestamp('2020-04-03 06:00:00+0000', tz='UTC'), Timestamp('2020-04-03 08:00:00+0000', tz='UTC'), Timestamp('2020-04-06 08:30:00+0000', tz='UTC'), Timestamp('2020-04-07 06:30:00+0000', tz='UTC'), Timestamp('2020-04-07 08:30:00+0000', tz='UTC'), Timestamp('2020-04-08 06:30:00+0000', tz='UTC'), Timestamp('2020-04-18 18:30:00+0000', tz='UTC'), Timestamp('2020-04-19 00:00:00+0000', tz='UTC'), Timestamp('2020-04-21 08:00:00+0000', tz='UTC'), Timestamp('2020-04-21 10:30:00+0000', tz='UTC'), Timestamp('2020-04-21 12:00:00+0000', tz='UTC'), Timestamp('2020-04-21 12:30:00+0000', tz='UTC'), Timestamp('2020-04-21 13:30:00+0000', tz='UTC'), Timestamp('2020-04-21 14:00:00+0000', tz='UTC'), Timestamp('2020-04-26 11:00:00+0000', tz='UTC'), Timestamp('2020-05-03 07:00:00+0000', tz='UTC'), Timestamp('2020-05-22 23:30:00+0000', tz='UTC'), Timestamp('2020-06-01 07:00:00+0000', tz='UTC'), Timestamp('2020-06-01 09:00:00+0000', tz='UTC'), Timestamp('2020-06-15 05:00:00+0000', tz='UTC'), Timestamp('2020-06-15 07:00:00+0000', tz='UTC'), Timestamp('2020-06-22 05:00:00+0000', tz='UTC'), Timestamp('2020-06-22 07:00:00+0000', tz='UTC'), Timestamp('2020-06-23 18:30:00+0000', tz='UTC'), Timestamp('2020-06-25 07:00:00+0000', tz='UTC'), Timestamp('2020-06-29 05:00:00+0000', tz='UTC'), Timestamp('2020-07-06 11:30:00+0000', tz='UTC'), Timestamp('2020-07-06 12:30:00+0000', tz='UTC'), Timestamp('2020-09-11 14:30:00+0000', tz='UTC'), Timestamp('2020-09-14 04:00:00+0000', tz='UTC'), Timestamp('2020-09-15 23:30:00+0000', tz='UTC'), Timestamp('2020-09-23 09:00:00+0000', tz='UTC'), Timestamp('2020-09-24 09:00:00+0000', tz='UTC'), Timestamp('2020-09-28 09:00:00+0000', tz='UTC'), Timestamp('2020-09-28 10:00:00+0000', tz='UTC'), Timestamp('2020-09-29 09:00:00+0000', tz='UTC'), Timestamp('2020-10-22 07:00:00+0000', tz='UTC'), Timestamp('2020-10-27 09:00:00+0000', tz='UTC'), Timestamp('2020-10-28 11:30:00+0000', tz='UTC'), Timestamp('2020-10-30 11:00:00+0000', tz='UTC'), Timestamp('2020-10-30 23:00:00+0000', tz='UTC'), Timestamp('2020-10-31 00:00:00+0000', tz='UTC'), Timestamp('2020-11-18 07:00:00+0000', tz='UTC'), Timestamp('2020-11-20 07:00:00+0000', tz='UTC'), Timestamp('2020-11-24 08:00:00+0000', tz='UTC'), Timestamp('2020-11-26 09:00:00+0000', tz='UTC'), Timestamp('2020-12-11 06:00:00+0000', tz='UTC'), Timestamp('2020-12-11 08:00:00+0000', tz='UTC'), Timestamp('2020-12-14 07:30:00+0000', tz='UTC'), Timestamp('2020-12-22 02:00:00+0000', tz='UTC'), Timestamp('2021-01-02 07:00:00+0000', tz='UTC'), Timestamp('2021-01-06 08:00:00+0000', tz='UTC'), Timestamp('2021-01-07 07:00:00+0000', tz='UTC'), Timestamp('2021-01-11 07:00:00+0000', tz='UTC'), Timestamp('2021-01-12 07:00:00+0000', tz='UTC'), Timestamp('2021-01-15 07:00:00+0000', tz='UTC'), Timestamp('2021-01-19 10:00:00+0000', tz='UTC'), Timestamp('2021-01-19 11:00:00+0000', tz='UTC'), Timestamp('2021-01-21 04:00:00+0000', tz='UTC'), Timestamp('2021-01-21 09:00:00+0000', tz='UTC'), Timestamp('2021-01-22 09:00:00+0000', tz='UTC'), Timestamp('2021-01-24 07:00:00+0000', tz='UTC'), Timestamp('2021-01-27 07:00:00+0000', tz='UTC'), Timestamp('2021-02-08 10:00:00+0000', tz='UTC'), Timestamp('2021-02-15 09:00:00+0000', tz='UTC'), Timestamp('2021-02-17 12:00:00+0000', tz='UTC'), Timestamp('2021-02-17 18:00:00+0000', tz='UTC'), Timestamp('2021-02-19 09:00:00+0000', tz='UTC'), Timestamp('2021-02-21 11:00:00+0000', tz='UTC'), Timestamp('2021-03-19 23:00:00+0000', tz='UTC'), Timestamp('2021-05-21 06:00:00+0000', tz='UTC'), Timestamp('2021-06-08 08:00:00+0000', tz='UTC'), Timestamp('2021-08-31 07:00:00+0000', tz='UTC'), Timestamp('2021-08-31 08:00:00+0000', tz='UTC'), Timestamp('2021-09-01 07:00:00+0000', tz='UTC'), Timestamp('2021-09-08 20:00:00+0000', tz='UTC'), Timestamp('2021-09-11 05:15:00+0000', tz='UTC'), Timestamp('2021-09-12 12:30:00+0000', tz='UTC'), Timestamp('2021-09-16 07:30:00+0000', tz='UTC'), Timestamp('2021-09-17 07:30:00+0000', tz='UTC'), Timestamp('2022-01-25 07:00:00+0000', tz='UTC'), Timestamp('2022-05-11 08:30:00+0000', tz='UTC'), Timestamp('2022-06-16 08:00:00+0000', tz='UTC'), Timestamp('2022-06-25 06:00:00+0000', tz='UTC'), Timestamp('2022-06-25 07:00:00+0000', tz='UTC'), Timestamp('2022-07-22 07:19:00+0000', tz='UTC'), Timestamp('2022-09-21 07:00:00+0000', tz='UTC'), Timestamp('2023-02-07 12:00:00+0000', tz='UTC'), Timestamp('2023-04-24 06:19:00+0000', tz='UTC'), Timestamp('2023-07-18 08:00:00+0000', tz='UTC'), Timestamp('2023-07-24 06:00:00+0000', tz='UTC'), Timestamp('2023-07-25 06:00:00+0000', tz='UTC'), Timestamp('2023-07-26 06:00:00+0000', tz='UTC'), Timestamp('2023-07-28 06:00:00+0000', tz='UTC'), Timestamp('2023-07-28 07:00:00+0000', tz='UTC'), Timestamp('2024-01-19 05:29:00+0000', tz='UTC'), Timestamp('2024-01-19 16:55:00+0000', tz='UTC'), Timestamp('2024-01-23 11:20:00+0000', tz='UTC'), Timestamp('2024-01-29 02:10:00+0000', tz='UTC'), Timestamp('2024-02-24 13:00:00+0000', tz='UTC'), Timestamp('2024-02-25 22:00:00+0000', tz='UTC'), Timestamp('2024-05-02 08:00:00+0000', tz='UTC'), Timestamp('2024-05-03 08:00:00+0000', tz='UTC'), Timestamp('2024-05-04 08:00:00+0000', tz='UTC'), Timestamp('2024-05-05 08:00:00+0000', tz='UTC'), Timestamp('2024-05-09 08:00:00+0000', tz='UTC'), Timestamp('2024-05-31 10:00:00+0000', tz='UTC'), Timestamp('2024-05-31 11:30:00+0000', tz='UTC'), Timestamp('2024-06-01 13:00:00+0000', tz='UTC'), Timestamp('2024-06-12 11:00:00+0000', tz='UTC'), Timestamp('2024-06-13 15:46:00+0000', tz='UTC'), Timestamp('2024-06-20 08:00:00+0000', tz='UTC'), Timestamp('2024-08-30 07:00:00+0000', tz='UTC'), Timestamp('2024-09-18 17:14:00+0000', tz='UTC'), Timestamp('2024-09-19 02:05:00+0000', tz='UTC'), Timestamp('2024-09-23 08:00:00+0000', tz='UTC'), Timestamp('2024-09-29 16:30:00+0000', tz='UTC')]\n"
     ]
    },
    {
     "data": {
      "text/plain": [
       "eventStartTime\n",
       "2024-01-23 11:20:00+00:00    24\n",
       "2024-01-19 16:55:00+00:00    16\n",
       "2020-01-30 06:00:00+00:00    15\n",
       "2020-10-30 11:00:00+00:00    15\n",
       "2024-01-29 02:10:00+00:00    15\n",
       "                             ..\n",
       "2023-07-28 06:00:00+00:00     1\n",
       "2023-07-28 07:00:00+00:00     1\n",
       "2020-04-07 08:30:00+00:00     1\n",
       "2020-09-28 09:00:00+00:00     1\n",
       "2021-01-19 10:00:00+00:00     1\n",
       "Name: id, Length: 122, dtype: int64"
      ]
     },
     "execution_count": 52,
     "metadata": {},
     "output_type": "execute_result"
    }
   ],
   "source": [
    "# Gruppiere nach 'eventStartTime' und zähle 'id' pro Gruppe\n",
    "df_eventStartTime = df.groupby(['eventStartTime'])['id'].count()\n",
    "\n",
    "# Liste der eindeutigen 'eventStartTime'-Werte ausgeben\n",
    "print(df_eventStartTime.index.tolist())\n",
    "\n",
    "# Ergebnis nach der Anzahl der 'eventStartTime' absteigend sortieren\n",
    "df_eventStartTime.sort_values(ascending=False)\n"
   ]
  },
  {
   "cell_type": "code",
   "execution_count": 53,
   "metadata": {},
   "outputs": [
    {
     "name": "stdout",
     "output_type": "stream",
     "text": [
      "['2020-02-01T15:00:00Z', '2020-02-02T18:00:00Z', '2020-02-03T02:00:00Z', '2020-02-05T02:00:00Z', '2020-02-07T18:00:00Z', '2020-02-12T20:00:00Z', '2020-02-13T19:30:00Z', '2020-02-17T12:00:00Z', '2020-02-21T16:00:00Z', '2020-02-22T19:30:00Z', '2020-02-28T12:00:00Z', '2020-03-02T12:00:00Z', '2020-03-04T06:00:00Z', '2020-03-04T22:30:00Z', '2020-03-09T16:00:00Z', '2020-03-12T19:00:00Z', '2020-03-14T06:00:00Z', '2020-03-15T16:00:00Z', '2020-03-18T16:00:00Z', '2020-03-19T16:00:00Z', '2020-03-26T22:00:00Z', '2020-03-28T16:00:00Z', '2020-03-30T15:00:00Z', '2020-03-31T15:00:00Z', '2020-04-02T14:00:00Z', '2020-04-02T16:00:00Z', '2020-04-03T10:00:00Z', '2020-04-03T12:00:00Z', '2020-04-06T14:30:00Z', '2020-04-07T12:30:00Z', '2020-04-07T14:30:00Z', '2020-04-08T13:00:00Z', '2020-04-08T14:30:00Z', '2020-04-19T00:00:00Z', '2020-04-19T11:00:00Z', '2020-04-20T11:00:00Z', '2020-04-21T10:00:00Z', '2020-04-21T10:30:00Z', '2020-04-21T11:30:00Z', '2020-04-21T12:00:00Z', '2020-04-21T12:30:00Z', '2020-04-21T14:00:00Z', '2020-04-21T14:30:00Z', '2020-04-21T15:30:00Z', '2020-04-25T11:00:00Z', '2020-04-26T12:00:00Z', '2020-05-03T07:00:00Z', '2020-05-03T21:00:00Z', '2020-05-08T17:00:00Z', '2020-05-23T16:00:00Z', '2020-06-01T09:00:00Z', '2020-06-01T17:00:00Z', '2020-06-02T16:00:00Z', '2020-06-02T17:00:00Z', '2020-06-15T05:30:00Z', '2020-06-16T17:00:00Z', '2020-06-17T17:00:00Z', '2020-06-18T18:30:00Z', '2020-06-18T19:00:00Z', '2020-06-23T17:00:00Z', '2020-06-23T19:00:00Z', '2020-06-23T20:00:00Z', '2020-06-24T12:00:00Z', '2020-06-25T17:00:00Z', '2020-06-30T19:00:00Z', '2020-07-01T12:00:00Z', '2020-07-06T12:30:00Z', '2020-07-06T14:30:00Z', '2020-07-06T17:30:00Z', '2020-07-06T18:30:00Z', '2020-07-06T19:30:00Z', '2020-09-11T17:00:00Z', '2020-09-11T18:00:00Z', '2020-09-16T00:00:00Z', '2020-09-16T01:30:00Z', '2020-09-16T04:00:00Z', '2020-09-23T12:00:00Z', '2020-09-23T12:30:00Z', '2020-09-23T14:00:00Z', '2020-09-24T14:00:00Z', '2020-09-28T14:00:00Z', '2020-09-29T14:00:00Z', '2020-09-29T17:00:00Z', '2020-09-29T18:00:00Z', '2020-09-30T11:00:00Z', '2020-09-30T17:00:00Z', '2020-10-22T17:00:00Z', '2020-10-27T18:00:00Z', '2020-10-28T14:30:00Z', '2020-10-30T15:00:00Z', '2020-10-30T18:00:00Z', '2020-10-30T22:00:00Z', '2020-10-30T23:00:00Z', '2020-10-31T00:00:00Z', '2020-10-31T01:00:00Z', '2020-10-31T02:00:00Z', '2020-11-19T18:00:00Z', '2020-11-20T16:00:00Z', '2020-11-21T18:00:00Z', '2020-11-24T17:00:00Z', '2020-11-24T18:30:00Z', '2020-11-26T14:00:00Z', '2020-11-26T18:00:00Z', '2020-12-11T16:00:00Z', '2020-12-11T18:00:00Z', '2020-12-14T09:30:00Z', '2020-12-14T10:30:00Z', '2020-12-22T09:00:00Z', '2021-01-03T07:00:00Z', '2021-01-03T11:00:00Z', '2021-01-03T23:00:00Z', '2021-01-06T12:30:00Z', '2021-01-07T15:00:00Z', '2021-01-08T12:00:00Z', '2021-01-09T12:00:00Z', '2021-01-11T04:00:00Z', '2021-01-11T06:00:00Z', '2021-01-14T18:00:00Z', '2021-01-15T16:00:00Z', '2021-01-18T16:00:00Z', '2021-01-19T14:00:00Z', '2021-01-19T14:30:00Z', '2021-01-19T15:00:00Z', '2021-01-20T08:00:00Z', '2021-01-20T16:00:00Z', '2021-01-21T08:00:00Z', '2021-01-21T14:00:00Z', '2021-01-21T16:00:00Z', '2021-01-22T12:00:00Z', '2021-01-22T13:00:00Z', '2021-01-23T18:30:00Z', '2021-01-24T04:00:00Z', '2021-01-25T19:00:00Z', '2021-01-26T18:00:00Z', '2021-01-26T22:00:00Z', '2021-01-28T18:00:00Z', '2021-01-29T07:00:00Z', '2021-01-30T18:00:00Z', '2021-01-31T18:00:00Z', '2021-02-02T18:00:00Z', '2021-02-03T19:00:00Z', '2021-02-04T19:00:00Z', '2021-02-05T07:00:00Z', '2021-02-05T10:00:00Z', '2021-02-05T20:00:00Z', '2021-02-05T22:00:00Z', '2021-02-08T11:30:00Z', '2021-02-08T12:30:00Z', '2021-02-15T10:00:00Z', '2021-02-17T13:00:00Z', '2021-02-17T19:00:00Z', '2021-02-19T13:00:00Z', '2021-02-21T12:00:00Z', '2021-03-20T10:00:00Z', '2021-03-20T14:00:00Z', '2021-03-20T17:00:00Z', '2021-03-20T18:00:00Z', '2021-03-20T19:00:00Z', '2021-03-20T20:00:00Z', '2021-05-21T15:00:00Z', '2021-05-21T18:00:00Z', '2021-06-08T12:00:00Z', '2021-08-31T13:00:00Z', '2021-08-31T15:00:00Z', '2021-08-31T17:00:00Z', '2021-09-01T15:00:00Z', '2021-09-11T16:34:00Z', '2021-09-11T21:00:00Z', '2021-09-12T21:00:00Z', '2021-09-16T16:00:00Z', '2021-09-17T16:00:00Z', '2021-09-17T19:15:00Z', '2021-09-17T20:16:00Z', '2021-09-22T13:00:00Z', '2021-09-22T20:00:00Z', '2022-01-25T18:00:00Z', '2022-05-11T10:30:00Z', '2022-06-16T13:36:00Z', '2022-06-17T16:00:00Z', '2022-06-28T20:00:00Z', '2022-06-30T17:00:00Z', '2022-07-10T07:00:00Z', '2022-07-22T08:43:00Z', '2022-09-21T13:00:00Z', '2023-02-07T13:00:00Z', '2023-02-07T14:00:00Z', '2023-04-24T09:00:00Z', '2023-04-24T10:00:00Z', '2023-04-25T10:00:00Z', '2023-04-26T10:00:00Z', '2023-07-18T14:00:00Z', '2023-07-18T16:00:00Z', '2023-07-24T08:00:00Z', '2023-07-24T14:00:00Z', '2023-07-25T14:00:00Z', '2023-07-25T16:00:00Z', '2023-07-25T18:00:00Z', '2023-07-25T19:00:00Z', '2023-07-26T14:00:00Z', '2023-07-26T15:30:00Z', '2023-07-26T17:00:00Z', '2023-07-28T14:00:00Z', '2023-07-28T16:00:00Z', '2024-01-19T16:00:00Z', '2024-01-20T16:00:00Z', '2024-01-23T04:30:00Z', '2024-01-24T16:00:00Z', '2024-01-27T16:00:00Z', '2024-01-29T02:10:00Z', '2024-01-31T16:00:00Z', '2024-02-17T18:00:00Z', '2024-02-23T20:00:00Z', '2024-02-24T00:00:00Z', '2024-02-24T13:00:00Z', '2024-02-24T17:00:00Z', '2024-02-25T12:00:00Z', '2024-02-25T22:00:00Z', '2024-02-26T05:40:00Z', '2024-02-26T08:00:00Z', '2024-02-26T13:00:00Z', '2024-03-31T17:00:00Z', '2024-04-30T17:00:00Z', '2024-05-09T09:00:00Z', '2024-05-14T16:00:00Z', '2024-05-15T16:00:00Z', '2024-05-15T19:00:00Z', '2024-05-16T16:00:00Z', '2024-05-17T16:00:00Z', '2024-05-23T15:00:00Z', '2024-05-24T15:00:00Z', '2024-05-25T15:00:00Z', '2024-05-25T17:00:00Z', '2024-05-26T12:00:00Z', '2024-05-26T17:00:00Z', '2024-05-26T19:00:00Z', '2024-05-27T17:00:00Z', '2024-05-28T20:00:00Z', '2024-05-28T22:30:00Z', '2024-05-28T23:30:00Z', '2024-05-29T17:00:00Z', '2024-05-30T17:00:00Z', '2024-05-31T12:30:00Z', '2024-05-31T14:30:00Z', '2024-06-01T14:30:00Z', '2024-06-01T22:00:00Z', '2024-06-02T00:30:00Z', '2024-06-03T13:00:00Z', '2024-06-04T11:20:00Z', '2024-06-05T13:00:00Z', '2024-06-12T16:00:00Z', '2024-06-12T19:00:00Z', '2024-06-13T18:45:00Z', '2024-06-13T20:00:00Z', '2024-06-20T16:00:00Z', '2024-08-30T09:00:00Z', '2024-09-19T17:00:00Z', '2024-09-19T17:14:00Z', '2024-09-20T15:00:00Z', '2024-09-20T17:00:00Z', '2024-09-29T12:00:00Z', '2024-09-29T21:00:00Z', '2024-09-30T16:00:00Z', '2024-09-30T16:30:00Z']\n"
     ]
    },
    {
     "data": {
      "text/plain": [
       "eventEndTime\n",
       "2024-01-31T16:00:00Z    12\n",
       "2024-06-12T16:00:00Z     6\n",
       "2021-01-15T16:00:00Z     6\n",
       "2024-01-27T16:00:00Z     5\n",
       "2024-02-25T12:00:00Z     5\n",
       "                        ..\n",
       "2021-01-03T23:00:00Z     1\n",
       "2021-01-06T12:30:00Z     1\n",
       "2021-01-07T15:00:00Z     1\n",
       "2021-01-08T12:00:00Z     1\n",
       "2021-01-24T04:00:00Z     1\n",
       "Name: id, Length: 263, dtype: int64"
      ]
     },
     "execution_count": 53,
     "metadata": {},
     "output_type": "execute_result"
    }
   ],
   "source": [
    "# Gruppiere nach 'eventEndTime' und zähle 'id' pro Gruppe\n",
    "df_eventEndTime = df.groupby(['eventEndTime'])['id'].count()\n",
    "\n",
    "# Liste der eindeutigen 'eventEndTime'-Werte ausgeben\n",
    "print(df_eventEndTime.index.tolist())\n",
    "\n",
    "# Ergebnis nach der Anzahl der 'eventEndTime' absteigend sortieren\n",
    "df_eventEndTime.sort_values(ascending=False)\n"
   ]
  },
  {
   "cell_type": "code",
   "execution_count": 54,
   "metadata": {},
   "outputs": [
    {
     "name": "stdout",
     "output_type": "stream",
     "text": [
      "['Forced Outage', 'NonOperator Alert', 'Planned Outage', 'Turbine', 'Under Investigation']\n"
     ]
    },
    {
     "data": {
      "text/plain": [
       "cause\n",
       "Planned Outage         342\n",
       "Under Investigation     86\n",
       "NonOperator Alert        3\n",
       "Turbine                  3\n",
       "Forced Outage            2\n",
       "Name: id, dtype: int64"
      ]
     },
     "execution_count": 54,
     "metadata": {},
     "output_type": "execute_result"
    }
   ],
   "source": [
    "# Gruppiere nach 'cause' und zähle 'id' pro Gruppe\n",
    "df_cause= df.groupby(['cause'])['id'].count()\n",
    "\n",
    "# Liste der eindeutigen 'cause'-Werte ausgeben\n",
    "print(df_cause.index.tolist())\n",
    "\n",
    "# Ergebnis nach der Anzahl der 'cause' absteigend sortieren\n",
    "df_cause.sort_values(ascending=False)"
   ]
  }
 ],
 "metadata": {
  "kernelspec": {
   "display_name": ".venv",
   "language": "python",
   "name": "python3"
  },
  "language_info": {
   "codemirror_mode": {
    "name": "ipython",
    "version": 3
   },
   "file_extension": ".py",
   "mimetype": "text/x-python",
   "name": "python",
   "nbconvert_exporter": "python",
   "pygments_lexer": "ipython3",
   "version": "3.12.6"
  }
 },
 "nbformat": 4,
 "nbformat_minor": 2
}
